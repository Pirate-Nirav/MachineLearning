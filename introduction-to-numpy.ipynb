{
 "cells": [
  {
   "cell_type": "code",
   "execution_count": 1,
   "id": "cb3198d1",
   "metadata": {},
   "outputs": [],
   "source": [
    "import numpy as np"
   ]
  },
  {
   "cell_type": "code",
   "execution_count": 2,
   "id": "16fa57dd",
   "metadata": {},
   "outputs": [],
   "source": [
    "a1 = np.array([1,2,3])"
   ]
  },
  {
   "cell_type": "code",
   "execution_count": 3,
   "id": "cf72047a",
   "metadata": {},
   "outputs": [
    {
     "data": {
      "text/plain": [
       "array([1, 2, 3])"
      ]
     },
     "execution_count": 3,
     "metadata": {},
     "output_type": "execute_result"
    }
   ],
   "source": [
    "a1"
   ]
  },
  {
   "cell_type": "markdown",
   "id": "4da02226",
   "metadata": {},
   "source": [
    "# Array in numpy"
   ]
  },
  {
   "cell_type": "code",
   "execution_count": 4,
   "id": "803b1361",
   "metadata": {},
   "outputs": [
    {
     "data": {
      "text/plain": [
       "array([1, 2, 3])"
      ]
     },
     "execution_count": 4,
     "metadata": {},
     "output_type": "execute_result"
    }
   ],
   "source": [
    "a1 = np.array([1,2,3])\n",
    "a1\n",
    "# This is one dimensional array "
   ]
  },
  {
   "cell_type": "code",
   "execution_count": 5,
   "id": "30db85fd",
   "metadata": {},
   "outputs": [
    {
     "data": {
      "text/plain": [
       "numpy.ndarray"
      ]
     },
     "execution_count": 5,
     "metadata": {},
     "output_type": "execute_result"
    }
   ],
   "source": [
    "type(a1)"
   ]
  },
  {
   "cell_type": "code",
   "execution_count": 6,
   "id": "3d151ec1",
   "metadata": {},
   "outputs": [
    {
     "data": {
      "text/plain": [
       "array([[1. , 2. , 3. ],\n",
       "       [1.2, 2.2, 3.2]])"
      ]
     },
     "execution_count": 6,
     "metadata": {},
     "output_type": "execute_result"
    }
   ],
   "source": [
    "a2 = np.array([[1,2,3],\n",
    "              [1.2,2.2,3.2]])\n",
    "a2\n",
    "# a2.shape to check the row and columnn \n",
    "# a2.ndim to check the dimension of the array \n",
    "# a2.size to see the size of an array "
   ]
  },
  {
   "cell_type": "code",
   "execution_count": 7,
   "id": "a0f2cb27",
   "metadata": {},
   "outputs": [
    {
     "data": {
      "text/plain": [
       "array([[[1, 2, 3],\n",
       "        [4, 5, 6],\n",
       "        [7, 8, 9]],\n",
       "\n",
       "       [[9, 8, 7],\n",
       "        [6, 5, 4],\n",
       "        [3, 2, 1]]])"
      ]
     },
     "execution_count": 7,
     "metadata": {},
     "output_type": "execute_result"
    }
   ],
   "source": [
    "a3 = np.array([[[1,2,3],[4,5,6],[7,8,9]],[[9,8,7],[6,5,4],[3,2,1]]])\n",
    "a3"
   ]
  },
  {
   "cell_type": "code",
   "execution_count": 8,
   "id": "5d0ea07a",
   "metadata": {},
   "outputs": [
    {
     "data": {
      "text/plain": [
       "(2, 3, 3)"
      ]
     },
     "execution_count": 8,
     "metadata": {},
     "output_type": "execute_result"
    }
   ],
   "source": [
    "a3.shape"
   ]
  },
  {
   "cell_type": "code",
   "execution_count": 9,
   "id": "caabfd41",
   "metadata": {},
   "outputs": [
    {
     "data": {
      "text/plain": [
       "3"
      ]
     },
     "execution_count": 9,
     "metadata": {},
     "output_type": "execute_result"
    }
   ],
   "source": [
    "a3.ndim"
   ]
  },
  {
   "cell_type": "code",
   "execution_count": 10,
   "id": "c8719995",
   "metadata": {},
   "outputs": [
    {
     "data": {
      "text/plain": [
       "array([[[[ 1,  2,  3,  4],\n",
       "         [ 5,  6,  7,  8],\n",
       "         [ 9, 10, 11, 12]],\n",
       "\n",
       "        [[13, 14, 15, 16],\n",
       "         [17, 18, 19, 20],\n",
       "         [21, 22, 23, 24]]]])"
      ]
     },
     "execution_count": 10,
     "metadata": {},
     "output_type": "execute_result"
    }
   ],
   "source": [
    "a4 = np.array([[[[1,2,3,4], [5,6,7,8], [9,10,11,12]], [[13,14,15,16], [17,18,19,20], [21,22,23,24]]]])  # 4D\n",
    "a4"
   ]
  },
  {
   "cell_type": "code",
   "execution_count": 11,
   "id": "b2341d51",
   "metadata": {},
   "outputs": [
    {
     "data": {
      "text/plain": [
       "(1, 2, 3, 4)"
      ]
     },
     "execution_count": 11,
     "metadata": {},
     "output_type": "execute_result"
    }
   ],
   "source": [
    "a4.shape"
   ]
  },
  {
   "cell_type": "code",
   "execution_count": 12,
   "id": "76025d2f",
   "metadata": {},
   "outputs": [
    {
     "data": {
      "text/plain": [
       "4"
      ]
     },
     "execution_count": 12,
     "metadata": {},
     "output_type": "execute_result"
    }
   ],
   "source": [
    "a4.ndim"
   ]
  },
  {
   "cell_type": "code",
   "execution_count": 13,
   "id": "078bdb93",
   "metadata": {},
   "outputs": [
    {
     "data": {
      "text/plain": [
       "(1, 2, 3, 4)"
      ]
     },
     "execution_count": 13,
     "metadata": {},
     "output_type": "execute_result"
    }
   ],
   "source": [
    "a1.ndim,a2.ndim,a3.ndim,a4.ndim"
   ]
  },
  {
   "cell_type": "code",
   "execution_count": 14,
   "id": "89272cd0",
   "metadata": {},
   "outputs": [
    {
     "data": {
      "text/html": [
       "<div>\n",
       "<style scoped>\n",
       "    .dataframe tbody tr th:only-of-type {\n",
       "        vertical-align: middle;\n",
       "    }\n",
       "\n",
       "    .dataframe tbody tr th {\n",
       "        vertical-align: top;\n",
       "    }\n",
       "\n",
       "    .dataframe thead th {\n",
       "        text-align: right;\n",
       "    }\n",
       "</style>\n",
       "<table border=\"1\" class=\"dataframe\">\n",
       "  <thead>\n",
       "    <tr style=\"text-align: right;\">\n",
       "      <th></th>\n",
       "      <th>0</th>\n",
       "      <th>1</th>\n",
       "      <th>2</th>\n",
       "    </tr>\n",
       "  </thead>\n",
       "  <tbody>\n",
       "    <tr>\n",
       "      <th>0</th>\n",
       "      <td>1.0</td>\n",
       "      <td>2.0</td>\n",
       "      <td>3.0</td>\n",
       "    </tr>\n",
       "    <tr>\n",
       "      <th>1</th>\n",
       "      <td>1.2</td>\n",
       "      <td>2.2</td>\n",
       "      <td>3.2</td>\n",
       "    </tr>\n",
       "  </tbody>\n",
       "</table>\n",
       "</div>"
      ],
      "text/plain": [
       "     0    1    2\n",
       "0  1.0  2.0  3.0\n",
       "1  1.2  2.2  3.2"
      ]
     },
     "execution_count": 14,
     "metadata": {},
     "output_type": "execute_result"
    }
   ],
   "source": [
    "import pandas as pd \n",
    "df = pd.DataFrame(a2)\n",
    "df"
   ]
  },
  {
   "cell_type": "markdown",
   "id": "2c21a9de",
   "metadata": {},
   "source": [
    "## Creating Arrays "
   ]
  },
  {
   "cell_type": "code",
   "execution_count": 15,
   "id": "8ce8a7b0",
   "metadata": {},
   "outputs": [
    {
     "data": {
      "text/plain": [
       "array([[[[1, 1, 1, 1],\n",
       "         [1, 1, 1, 1],\n",
       "         [1, 1, 1, 1]],\n",
       "\n",
       "        [[1, 1, 1, 1],\n",
       "         [1, 1, 1, 1],\n",
       "         [1, 1, 1, 1]]]])"
      ]
     },
     "execution_count": 15,
     "metadata": {},
     "output_type": "execute_result"
    }
   ],
   "source": [
    "ones =  np.ones((1,2,3,4), dtype=int)\n",
    "ones"
   ]
  },
  {
   "cell_type": "code",
   "execution_count": 16,
   "id": "11b7e948",
   "metadata": {},
   "outputs": [
    {
     "data": {
      "text/plain": [
       "array([0, 2, 4, 6, 8])"
      ]
     },
     "execution_count": 16,
     "metadata": {},
     "output_type": "execute_result"
    }
   ],
   "source": [
    "range_array = np.arange(0,10,2,int)\n",
    "range_array"
   ]
  },
  {
   "cell_type": "code",
   "execution_count": 17,
   "id": "962dbd92",
   "metadata": {},
   "outputs": [
    {
     "data": {
      "text/plain": [
       "array([[[[1, 5, 1, 3, 3],\n",
       "         [2, 3, 2, 3, 1],\n",
       "         [2, 7, 1, 4, 4]],\n",
       "\n",
       "        [[2, 1, 4, 6, 3],\n",
       "         [1, 5, 4, 2, 1],\n",
       "         [2, 6, 5, 7, 2]]],\n",
       "\n",
       "\n",
       "       [[[6, 4, 2, 1, 2],\n",
       "         [8, 2, 5, 2, 8],\n",
       "         [7, 8, 2, 8, 4]],\n",
       "\n",
       "        [[1, 6, 6, 1, 7],\n",
       "         [6, 4, 6, 1, 4],\n",
       "         [6, 3, 6, 5, 7]]]], dtype=int32)"
      ]
     },
     "execution_count": 17,
     "metadata": {},
     "output_type": "execute_result"
    }
   ],
   "source": [
    "# Random array\n",
    "random_array  = np.random.randint(1,9,size=(2,2,3,5))\n",
    "random_array"
   ]
  },
  {
   "cell_type": "markdown",
   "id": "94d7c1c4",
   "metadata": {},
   "source": [
    "Pseudo Random Number\n",
    "A pseudorandom number generator (PRNG) is a type of pseudorandom number which produces sequence that can be used\n",
    "in computations for generating true Random Numbers or Secure Entropy sources within the system where these\n",
    "operations will take place. These are generally faster than truly randomly generated numbers because they have to\n",
    "ensure all possible outcomes exist, but there's no guarantee them would occur at random times due to a large\n",
    "number of possibilities and not necessarily in series from an initial seed (which is also called\n",
    "non-deterministic)\n",
    "## np.random.seed , shape, reshape "
   ]
  },
  {
   "cell_type": "code",
   "execution_count": 18,
   "id": "1e265dad",
   "metadata": {},
   "outputs": [
    {
     "data": {
      "text/plain": [
       "array([1, 3, 5, 7, 9])"
      ]
     },
     "execution_count": 18,
     "metadata": {},
     "output_type": "execute_result"
    }
   ],
   "source": [
    "range1 = np.arange(1,10,2)\n",
    "range1"
   ]
  },
  {
   "cell_type": "markdown",
   "id": "84b91bea",
   "metadata": {},
   "source": [
    "A \"seed\" can be used as the starting point for generating pseudorandom numbers. There are many ways you could set\n",
    "a 'seed' - it might start with a number, use current time or some other information that changes over time and\n",
    "then produce an infinite series of random values if those factors were combined in this way (using bitwise\n",
    "operations).\n"
   ]
  },
  {
   "cell_type": "code",
   "execution_count": 19,
   "id": "bca98f18",
   "metadata": {},
   "outputs": [
    {
     "data": {
      "text/plain": [
       "array([[6, 3, 7],\n",
       "       [4, 6, 9],\n",
       "       [2, 6, 7],\n",
       "       [4, 3, 7],\n",
       "       [7, 2, 5]], dtype=int32)"
      ]
     },
     "execution_count": 19,
     "metadata": {},
     "output_type": "execute_result"
    }
   ],
   "source": [
    "np.random.seed(42)\n",
    "random_array1 = np.random.randint(10, size=(5,3))\n",
    "random_array1"
   ]
  },
  {
   "cell_type": "code",
   "execution_count": 20,
   "id": "441a15b2",
   "metadata": {},
   "outputs": [
    {
     "data": {
      "text/plain": [
       "array([[[[4, 1, 7, 5, 1],\n",
       "         [4, 0, 9, 5, 8],\n",
       "         [0, 9, 2, 6, 3],\n",
       "         [8, 2, 4, 2, 6]],\n",
       "\n",
       "        [[4, 8, 6, 1, 3],\n",
       "         [8, 1, 9, 8, 9],\n",
       "         [4, 1, 3, 6, 7],\n",
       "         [2, 0, 3, 1, 7]],\n",
       "\n",
       "        [[3, 1, 5, 5, 9],\n",
       "         [3, 5, 1, 9, 1],\n",
       "         [9, 3, 7, 6, 8],\n",
       "         [7, 4, 1, 4, 7]]],\n",
       "\n",
       "\n",
       "       [[[9, 8, 8, 0, 8],\n",
       "         [6, 8, 7, 0, 7],\n",
       "         [7, 2, 0, 7, 2],\n",
       "         [2, 0, 4, 9, 6]],\n",
       "\n",
       "        [[9, 8, 6, 8, 7],\n",
       "         [1, 0, 6, 6, 7],\n",
       "         [4, 2, 7, 5, 2],\n",
       "         [0, 2, 4, 2, 0]],\n",
       "\n",
       "        [[4, 9, 6, 6, 8],\n",
       "         [9, 9, 2, 6, 0],\n",
       "         [3, 3, 4, 6, 6],\n",
       "         [3, 6, 2, 5, 1]]]], dtype=int32)"
      ]
     },
     "execution_count": 20,
     "metadata": {},
     "output_type": "execute_result"
    }
   ],
   "source": [
    "a4 = np.random.randint(10, size= (2,3,4,5))\n",
    "a4"
   ]
  },
  {
   "cell_type": "markdown",
   "id": "98ac4528",
   "metadata": {},
   "source": [
    "In statistics, \"n-dimensional\" means a vector with n components (size). In terms of computer science or data\n",
    "analysis terminology like Pseudorandom Number Generators(PRNGs) which is also using 'random' in this context and\n",
    "you are asking about it. A single dimension can be the number itself while multidimensional PRNGS could represent\n",
    "a vector, matrix etc., all having different dimensions but still behaving as one entity when used with these\n",
    "mathematical operations like summation or multiplication among others for instance because they use multiple\n",
    "components to generate numbers in this way (multiple inputs)."
   ]
  },
  {
   "cell_type": "code",
   "execution_count": 21,
   "id": "d3b33015",
   "metadata": {},
   "outputs": [
    {
     "data": {
      "text/plain": [
       "((2, 3, 4, 5), 4)"
      ]
     },
     "execution_count": 21,
     "metadata": {},
     "output_type": "execute_result"
    }
   ],
   "source": [
    "a4.shape , a4.ndim"
   ]
  },
  {
   "cell_type": "code",
   "execution_count": 22,
   "id": "05c5e1e9",
   "metadata": {},
   "outputs": [
    {
     "data": {
      "text/plain": [
       "dtype('int32')"
      ]
     },
     "execution_count": 22,
     "metadata": {},
     "output_type": "execute_result"
    }
   ],
   "source": [
    "a4.dtype"
   ]
  },
  {
   "cell_type": "code",
   "execution_count": 23,
   "id": "70c561f9",
   "metadata": {},
   "outputs": [
    {
     "data": {
      "text/plain": [
       "array([[[[4, 9, 6, 6, 8]]]], dtype=int32)"
      ]
     },
     "execution_count": 23,
     "metadata": {},
     "output_type": "execute_result"
    }
   ],
   "source": [
    "#get the first most number of inner arrays\n",
    "a4[1:2,2:3,0:1,:5]"
   ]
  },
  {
   "cell_type": "markdown",
   "id": "049de6a9",
   "metadata": {},
   "source": [
    "### Aggreegation"
   ]
  },
  {
   "cell_type": "code",
   "execution_count": 24,
   "id": "fee7ce2c",
   "metadata": {},
   "outputs": [
    {
     "data": {
      "text/plain": [
       "np.float64(1.0)"
      ]
     },
     "execution_count": 24,
     "metadata": {},
     "output_type": "execute_result"
    }
   ],
   "source": [
    "np.min(a2)"
   ]
  },
  {
   "cell_type": "code",
   "execution_count": 25,
   "id": "3ab45f5f",
   "metadata": {},
   "outputs": [
    {
     "data": {
      "text/plain": [
       "np.float64(0.8225975119502045)"
      ]
     },
     "execution_count": 25,
     "metadata": {},
     "output_type": "execute_result"
    }
   ],
   "source": [
    "np.std(a2)"
   ]
  },
  {
   "cell_type": "code",
   "execution_count": 26,
   "id": "0f6ccb1b",
   "metadata": {},
   "outputs": [
    {
     "data": {
      "text/plain": [
       "np.float64(0.6766666666666669)"
      ]
     },
     "execution_count": 26,
     "metadata": {},
     "output_type": "execute_result"
    }
   ],
   "source": [
    "np.var(a2)"
   ]
  },
  {
   "cell_type": "code",
   "execution_count": 27,
   "id": "24a24a45",
   "metadata": {},
   "outputs": [
    {
     "data": {
      "text/plain": [
       "np.int64(559)"
      ]
     },
     "execution_count": 27,
     "metadata": {},
     "output_type": "execute_result"
    }
   ],
   "source": [
    "np.sum(a4)"
   ]
  },
  {
   "cell_type": "code",
   "execution_count": 28,
   "id": "05f53bc5",
   "metadata": {},
   "outputs": [
    {
     "data": {
      "text/plain": [
       "array([[[13,  9, 15,  5,  9],\n",
       "        [10,  8, 16,  5, 15],\n",
       "        [ 7, 11,  2, 13,  5],\n",
       "        [10,  2,  8, 11, 12]],\n",
       "\n",
       "       [[13, 16, 12,  9, 10],\n",
       "        [ 9,  1, 15, 14, 16],\n",
       "        [ 8,  3, 10, 11,  9],\n",
       "        [ 2,  2,  7,  3,  7]],\n",
       "\n",
       "       [[ 7, 10, 11, 11, 17],\n",
       "        [12, 14,  3, 15,  1],\n",
       "        [12,  6, 11, 12, 14],\n",
       "        [10, 10,  3,  9,  8]]], dtype=int32)"
      ]
     },
     "execution_count": 28,
     "metadata": {},
     "output_type": "execute_result"
    }
   ],
   "source": [
    "sum(a4)"
   ]
  },
  {
   "cell_type": "code",
   "execution_count": 29,
   "id": "a69bee6e",
   "metadata": {},
   "outputs": [
    {
     "name": "stdout",
     "output_type": "stream",
     "text": [
      "3.77 μs ± 256 ns per loop (mean ± std. dev. of 7 runs, 100,000 loops each)\n"
     ]
    }
   ],
   "source": [
    "%timeit np.sum(a4)"
   ]
  },
  {
   "cell_type": "code",
   "execution_count": 30,
   "id": "1526e3fb",
   "metadata": {},
   "outputs": [
    {
     "name": "stdout",
     "output_type": "stream",
     "text": [
      "2.55 μs ± 65.4 ns per loop (mean ± std. dev. of 7 runs, 100,000 loops each)\n"
     ]
    }
   ],
   "source": [
    "%timeit sum(a4)"
   ]
  },
  {
   "cell_type": "code",
   "execution_count": 31,
   "id": "e16774b1",
   "metadata": {},
   "outputs": [],
   "source": [
    "high_var_array = np.array([1,100,200,300,4000,5000])\n",
    "low_var_array = np.array([2,4,6,8,10])"
   ]
  },
  {
   "cell_type": "code",
   "execution_count": 32,
   "id": "5b1288d8",
   "metadata": {},
   "outputs": [
    {
     "data": {
      "text/plain": [
       "array([   1,  100,  200,  300, 4000, 5000])"
      ]
     },
     "execution_count": 32,
     "metadata": {},
     "output_type": "execute_result"
    }
   ],
   "source": [
    "high_var_array"
   ]
  },
  {
   "cell_type": "code",
   "execution_count": 33,
   "id": "b1558830",
   "metadata": {},
   "outputs": [
    {
     "data": {
      "text/plain": [
       "array([ 2,  4,  6,  8, 10])"
      ]
     },
     "execution_count": 33,
     "metadata": {},
     "output_type": "execute_result"
    }
   ],
   "source": [
    "low_var_array"
   ]
  },
  {
   "cell_type": "code",
   "execution_count": 34,
   "id": "e2afdd77",
   "metadata": {},
   "outputs": [
    {
     "data": {
      "text/plain": [
       "(np.float64(1600.1666666666667), np.float64(6.0))"
      ]
     },
     "execution_count": 34,
     "metadata": {},
     "output_type": "execute_result"
    }
   ],
   "source": [
    "# Means return the average of the array elements. The average is taken over the flattened array by default, otherwise the specific axis \n",
    "np.mean(high_var_array), np.mean(low_var_array)"
   ]
  },
  {
   "cell_type": "markdown",
   "id": "cac5b36d",
   "metadata": {},
   "source": [
    "`%matplotlib inline` appears to be an alias inside Jupyter notebooks that directly plots the graphs within your\n",
    "current cell (i.e., cells containing interactive widgets like buttons, text inputs or display outputs). Here's how\n",
    "it works in a simple example of plotting using matplotlibthonwidgets"
   ]
  },
  {
   "cell_type": "code",
   "execution_count": 38,
   "id": "a0ebb0c6",
   "metadata": {},
   "outputs": [
    {
     "data": {
      "text/plain": [
       "array([-5, -3, -1,  1,  3,  6,  8, 10, 12, 15])"
      ]
     },
     "execution_count": 38,
     "metadata": {},
     "output_type": "execute_result"
    }
   ],
   "source": [
    "# np.linspace this is use for the linear space it create a equal point between the given range \n",
    "\n",
    "x =  np.linspace(-5,15,10, dtype=int)\n",
    "x"
   ]
  },
  {
   "cell_type": "code",
   "execution_count": 37,
   "id": "99eb8d54",
   "metadata": {},
   "outputs": [
    {
     "data": {
      "text/plain": [
       "array([[1., 0., 0.],\n",
       "       [0., 1., 0.],\n",
       "       [0., 0., 1.]])"
      ]
     },
     "execution_count": 37,
     "metadata": {},
     "output_type": "execute_result"
    }
   ],
   "source": [
    "#np.identify in  this method it creates a matric where there is 1 in the diagonal and at other position there is 0\n",
    "np.identity(3)"
   ]
  },
  {
   "cell_type": "markdown",
   "id": "e0ee9e79",
   "metadata": {},
   "source": [
    "### Array Operations "
   ]
  },
  {
   "cell_type": "code",
   "execution_count": 40,
   "id": "2b2a0a96",
   "metadata": {},
   "outputs": [
    {
     "data": {
      "text/plain": [
       "(array([[ 0,  1,  2,  3],\n",
       "        [ 4,  5,  6,  7],\n",
       "        [ 8,  9, 10, 11]]),\n",
       " array([[12, 13, 14, 15],\n",
       "        [16, 17, 18, 19],\n",
       "        [20, 21, 22, 23]]))"
      ]
     },
     "execution_count": 40,
     "metadata": {},
     "output_type": "execute_result"
    }
   ],
   "source": [
    "a1 = np.arange(12).reshape(3,4)\n",
    "a2 = np.arange(12,24).reshape(3,4)\n",
    "a1,a2"
   ]
  },
  {
   "cell_type": "code",
   "execution_count": 41,
   "id": "626de0f8",
   "metadata": {},
   "outputs": [
    {
     "data": {
      "text/plain": [
       "array([[ 0,  2,  4,  6],\n",
       "       [ 8, 10, 12, 14],\n",
       "       [16, 18, 20, 22]])"
      ]
     },
     "execution_count": 41,
     "metadata": {},
     "output_type": "execute_result"
    }
   ],
   "source": [
    "# scalar operation \n",
    "\n",
    "# arithmetic\n",
    "a1 * 2"
   ]
  },
  {
   "cell_type": "code",
   "execution_count": 42,
   "id": "c559ffc7",
   "metadata": {},
   "outputs": [
    {
     "data": {
      "text/plain": [
       "array([[ True,  True,  True,  True],\n",
       "       [ True,  True,  True,  True],\n",
       "       [ True,  True,  True,  True]])"
      ]
     },
     "execution_count": 42,
     "metadata": {},
     "output_type": "execute_result"
    }
   ],
   "source": [
    "# re3lation operation\n",
    "a2>5 \n"
   ]
  },
  {
   "cell_type": "code",
   "execution_count": 43,
   "id": "db9958bd",
   "metadata": {},
   "outputs": [
    {
     "data": {
      "text/plain": [
       "array([[12, 14, 16, 18],\n",
       "       [20, 22, 24, 26],\n",
       "       [28, 30, 32, 34]])"
      ]
     },
     "execution_count": 43,
     "metadata": {},
     "output_type": "execute_result"
    }
   ],
   "source": [
    "# when we perform the task between two array that is called vector function\n",
    "a1 + a2"
   ]
  },
  {
   "cell_type": "markdown",
   "id": "830090c9",
   "metadata": {},
   "source": [
    " ### Array Function"
   ]
  },
  {
   "cell_type": "code",
   "execution_count": 45,
   "id": "f52fda7e",
   "metadata": {},
   "outputs": [
    {
     "data": {
      "text/plain": [
       "array([[62., 30., 11.],\n",
       "       [46., 22., 42.],\n",
       "       [88., 32., 12.]])"
      ]
     },
     "execution_count": 45,
     "metadata": {},
     "output_type": "execute_result"
    }
   ],
   "source": [
    "a1 = np.random.random((3,3))\n",
    "a1 = np.round(a1 * 100)\n",
    "a1"
   ]
  },
  {
   "cell_type": "code",
   "execution_count": null,
   "id": "caf4046e",
   "metadata": {},
   "outputs": [
    {
     "data": {
      "text/plain": [
       "array([62., 46., 88.])"
      ]
     },
     "execution_count": 47,
     "metadata": {},
     "output_type": "execute_result"
    }
   ],
   "source": [
    "# min / max/ sum/ prod\n",
    "# axis = 0  for columns\n",
    "# axis = 1 for rows\n",
    "np.max(a1,axis=1)"
   ]
  },
  {
   "cell_type": "code",
   "execution_count": 49,
   "id": "a8766f21",
   "metadata": {},
   "outputs": [
    {
     "data": {
      "text/plain": [
       "(np.float64(38.333333333333336),\n",
       " array([34.33333333, 36.66666667, 44.        ]))"
      ]
     },
     "execution_count": 49,
     "metadata": {},
     "output_type": "execute_result"
    }
   ],
   "source": [
    "# mean / median / std / var\n",
    "np.mean(a1),np.mean(a1, axis=1)"
   ]
  },
  {
   "cell_type": "code",
   "execution_count": null,
   "id": "db787951",
   "metadata": {},
   "outputs": [],
   "source": []
  }
 ],
 "metadata": {
  "kernelspec": {
   "display_name": "venv",
   "language": "python",
   "name": "python3"
  },
  "language_info": {
   "codemirror_mode": {
    "name": "ipython",
    "version": 3
   },
   "file_extension": ".py",
   "mimetype": "text/x-python",
   "name": "python",
   "nbconvert_exporter": "python",
   "pygments_lexer": "ipython3",
   "version": "3.13.4"
  }
 },
 "nbformat": 4,
 "nbformat_minor": 5
}
