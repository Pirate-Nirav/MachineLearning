{
 "cells": [
  {
   "cell_type": "code",
   "execution_count": 1,
   "id": "cb3198d1",
   "metadata": {},
   "outputs": [],
   "source": [
    "import numpy as np"
   ]
  },
  {
   "cell_type": "code",
   "execution_count": 2,
   "id": "16fa57dd",
   "metadata": {},
   "outputs": [],
   "source": [
    "a1 = np.array([1,2,3])"
   ]
  },
  {
   "cell_type": "code",
   "execution_count": 3,
   "id": "cf72047a",
   "metadata": {},
   "outputs": [
    {
     "data": {
      "text/plain": [
       "array([1, 2, 3])"
      ]
     },
     "execution_count": 3,
     "metadata": {},
     "output_type": "execute_result"
    }
   ],
   "source": [
    "a1"
   ]
  },
  {
   "cell_type": "markdown",
   "id": "4da02226",
   "metadata": {},
   "source": [
    "# Array in numpy"
   ]
  },
  {
   "cell_type": "code",
   "execution_count": 4,
   "id": "803b1361",
   "metadata": {},
   "outputs": [
    {
     "data": {
      "text/plain": [
       "array([1, 2, 3])"
      ]
     },
     "execution_count": 4,
     "metadata": {},
     "output_type": "execute_result"
    }
   ],
   "source": [
    "a1 = np.array([1,2,3])\n",
    "a1\n",
    "# This is one dimensional array "
   ]
  },
  {
   "cell_type": "code",
   "execution_count": 5,
   "id": "30db85fd",
   "metadata": {},
   "outputs": [
    {
     "data": {
      "text/plain": [
       "numpy.ndarray"
      ]
     },
     "execution_count": 5,
     "metadata": {},
     "output_type": "execute_result"
    }
   ],
   "source": [
    "type(a1)"
   ]
  },
  {
   "cell_type": "code",
   "execution_count": 6,
   "id": "3d151ec1",
   "metadata": {},
   "outputs": [
    {
     "data": {
      "text/plain": [
       "array([[1. , 2. , 3. ],\n",
       "       [1.2, 2.2, 3.2]])"
      ]
     },
     "execution_count": 6,
     "metadata": {},
     "output_type": "execute_result"
    }
   ],
   "source": [
    "a2 = np.array([[1,2,3],\n",
    "              [1.2,2.2,3.2]])\n",
    "a2\n",
    "# a2.shape to check the row and columnn \n",
    "# a2.ndim to check the dimension of the array \n",
    "# a2.size to see the size of an array "
   ]
  },
  {
   "cell_type": "code",
   "execution_count": 7,
   "id": "a0f2cb27",
   "metadata": {},
   "outputs": [
    {
     "data": {
      "text/plain": [
       "array([[[1, 2, 3],\n",
       "        [4, 5, 6],\n",
       "        [7, 8, 9]],\n",
       "\n",
       "       [[9, 8, 7],\n",
       "        [6, 5, 4],\n",
       "        [3, 2, 1]]])"
      ]
     },
     "execution_count": 7,
     "metadata": {},
     "output_type": "execute_result"
    }
   ],
   "source": [
    "a3 = np.array([[[1,2,3],[4,5,6],[7,8,9]],[[9,8,7],[6,5,4],[3,2,1]]])\n",
    "a3"
   ]
  },
  {
   "cell_type": "code",
   "execution_count": 8,
   "id": "5d0ea07a",
   "metadata": {},
   "outputs": [
    {
     "data": {
      "text/plain": [
       "(2, 3, 3)"
      ]
     },
     "execution_count": 8,
     "metadata": {},
     "output_type": "execute_result"
    }
   ],
   "source": [
    "a3.shape"
   ]
  },
  {
   "cell_type": "code",
   "execution_count": 9,
   "id": "caabfd41",
   "metadata": {},
   "outputs": [
    {
     "data": {
      "text/plain": [
       "3"
      ]
     },
     "execution_count": 9,
     "metadata": {},
     "output_type": "execute_result"
    }
   ],
   "source": [
    "a3.ndim"
   ]
  },
  {
   "cell_type": "code",
   "execution_count": 10,
   "id": "c8719995",
   "metadata": {},
   "outputs": [
    {
     "data": {
      "text/plain": [
       "array([[[[ 1,  2,  3,  4],\n",
       "         [ 5,  6,  7,  8],\n",
       "         [ 9, 10, 11, 12]],\n",
       "\n",
       "        [[13, 14, 15, 16],\n",
       "         [17, 18, 19, 20],\n",
       "         [21, 22, 23, 24]]]])"
      ]
     },
     "execution_count": 10,
     "metadata": {},
     "output_type": "execute_result"
    }
   ],
   "source": [
    "a4 = np.array([[[[1,2,3,4], [5,6,7,8], [9,10,11,12]], [[13,14,15,16], [17,18,19,20], [21,22,23,24]]]])  # 4D\n",
    "a4"
   ]
  },
  {
   "cell_type": "code",
   "execution_count": 11,
   "id": "b2341d51",
   "metadata": {},
   "outputs": [
    {
     "data": {
      "text/plain": [
       "(1, 2, 3, 4)"
      ]
     },
     "execution_count": 11,
     "metadata": {},
     "output_type": "execute_result"
    }
   ],
   "source": [
    "a4.shape"
   ]
  },
  {
   "cell_type": "code",
   "execution_count": 12,
   "id": "76025d2f",
   "metadata": {},
   "outputs": [
    {
     "data": {
      "text/plain": [
       "4"
      ]
     },
     "execution_count": 12,
     "metadata": {},
     "output_type": "execute_result"
    }
   ],
   "source": [
    "a4.ndim"
   ]
  },
  {
   "cell_type": "code",
   "execution_count": 13,
   "id": "078bdb93",
   "metadata": {},
   "outputs": [
    {
     "data": {
      "text/plain": [
       "(1, 2, 3, 4)"
      ]
     },
     "execution_count": 13,
     "metadata": {},
     "output_type": "execute_result"
    }
   ],
   "source": [
    "a1.ndim,a2.ndim,a3.ndim,a4.ndim"
   ]
  },
  {
   "cell_type": "code",
   "execution_count": 14,
   "id": "89272cd0",
   "metadata": {},
   "outputs": [
    {
     "data": {
      "application/vnd.microsoft.datawrangler.viewer.v0+json": {
       "columns": [
        {
         "name": "index",
         "rawType": "int64",
         "type": "integer"
        },
        {
         "name": "0",
         "rawType": "float64",
         "type": "float"
        },
        {
         "name": "1",
         "rawType": "float64",
         "type": "float"
        },
        {
         "name": "2",
         "rawType": "float64",
         "type": "float"
        }
       ],
       "ref": "48c8ac5b-a037-4b3d-920f-4f69fdf0716c",
       "rows": [
        [
         "0",
         "1.0",
         "2.0",
         "3.0"
        ],
        [
         "1",
         "1.2",
         "2.2",
         "3.2"
        ]
       ],
       "shape": {
        "columns": 3,
        "rows": 2
       }
      },
      "text/html": [
       "<div>\n",
       "<style scoped>\n",
       "    .dataframe tbody tr th:only-of-type {\n",
       "        vertical-align: middle;\n",
       "    }\n",
       "\n",
       "    .dataframe tbody tr th {\n",
       "        vertical-align: top;\n",
       "    }\n",
       "\n",
       "    .dataframe thead th {\n",
       "        text-align: right;\n",
       "    }\n",
       "</style>\n",
       "<table border=\"1\" class=\"dataframe\">\n",
       "  <thead>\n",
       "    <tr style=\"text-align: right;\">\n",
       "      <th></th>\n",
       "      <th>0</th>\n",
       "      <th>1</th>\n",
       "      <th>2</th>\n",
       "    </tr>\n",
       "  </thead>\n",
       "  <tbody>\n",
       "    <tr>\n",
       "      <th>0</th>\n",
       "      <td>1.0</td>\n",
       "      <td>2.0</td>\n",
       "      <td>3.0</td>\n",
       "    </tr>\n",
       "    <tr>\n",
       "      <th>1</th>\n",
       "      <td>1.2</td>\n",
       "      <td>2.2</td>\n",
       "      <td>3.2</td>\n",
       "    </tr>\n",
       "  </tbody>\n",
       "</table>\n",
       "</div>"
      ],
      "text/plain": [
       "     0    1    2\n",
       "0  1.0  2.0  3.0\n",
       "1  1.2  2.2  3.2"
      ]
     },
     "execution_count": 14,
     "metadata": {},
     "output_type": "execute_result"
    }
   ],
   "source": [
    "import pandas as pd \n",
    "df = pd.DataFrame(a2)\n",
    "df"
   ]
  },
  {
   "cell_type": "markdown",
   "id": "2c21a9de",
   "metadata": {},
   "source": [
    "## Creating Arrays "
   ]
  },
  {
   "cell_type": "code",
   "execution_count": 15,
   "id": "8ce8a7b0",
   "metadata": {},
   "outputs": [
    {
     "data": {
      "text/plain": [
       "array([[[[1, 1, 1, 1],\n",
       "         [1, 1, 1, 1],\n",
       "         [1, 1, 1, 1]],\n",
       "\n",
       "        [[1, 1, 1, 1],\n",
       "         [1, 1, 1, 1],\n",
       "         [1, 1, 1, 1]]]])"
      ]
     },
     "execution_count": 15,
     "metadata": {},
     "output_type": "execute_result"
    }
   ],
   "source": [
    "ones =  np.ones((1,2,3,4), dtype=int)\n",
    "ones"
   ]
  },
  {
   "cell_type": "code",
   "execution_count": 16,
   "id": "11b7e948",
   "metadata": {},
   "outputs": [
    {
     "data": {
      "text/plain": [
       "array([0, 2, 4, 6, 8])"
      ]
     },
     "execution_count": 16,
     "metadata": {},
     "output_type": "execute_result"
    }
   ],
   "source": [
    "range_array = np.arange(0,10,2,int)\n",
    "range_array"
   ]
  },
  {
   "cell_type": "code",
   "execution_count": 17,
   "id": "962dbd92",
   "metadata": {},
   "outputs": [
    {
     "data": {
      "text/plain": [
       "array([[[[5, 6, 5, 8, 1],\n",
       "         [1, 3, 8, 2, 8],\n",
       "         [5, 2, 4, 7, 8]],\n",
       "\n",
       "        [[5, 2, 8, 5, 1],\n",
       "         [3, 2, 3, 5, 6],\n",
       "         [1, 2, 1, 7, 3]]],\n",
       "\n",
       "\n",
       "       [[[5, 7, 5, 6, 3],\n",
       "         [5, 2, 5, 3, 2],\n",
       "         [2, 4, 6, 6, 8]],\n",
       "\n",
       "        [[3, 7, 2, 1, 8],\n",
       "         [1, 5, 6, 8, 6],\n",
       "         [3, 8, 8, 1, 5]]]], dtype=int32)"
      ]
     },
     "execution_count": 17,
     "metadata": {},
     "output_type": "execute_result"
    }
   ],
   "source": [
    "# Random array\n",
    "random_array  = np.random.randint(1,9,size=(2,2,3,5))\n",
    "random_array"
   ]
  },
  {
   "cell_type": "markdown",
   "id": "94d7c1c4",
   "metadata": {},
   "source": [
    "Pseudo Random Number\n",
    "A pseudorandom number generator (PRNG) is a type of pseudorandom number which produces sequence that can be used\n",
    "in computations for generating true Random Numbers or Secure Entropy sources within the system where these\n",
    "operations will take place. These are generally faster than truly randomly generated numbers because they have to\n",
    "ensure all possible outcomes exist, but there's no guarantee them would occur at random times due to a large\n",
    "number of possibilities and not necessarily in series from an initial seed (which is also called\n",
    "non-deterministic)\n",
    "## np.random.seed , shape, reshape "
   ]
  },
  {
   "cell_type": "code",
   "execution_count": 18,
   "id": "1e265dad",
   "metadata": {},
   "outputs": [
    {
     "data": {
      "text/plain": [
       "array([1, 3, 5, 7, 9])"
      ]
     },
     "execution_count": 18,
     "metadata": {},
     "output_type": "execute_result"
    }
   ],
   "source": [
    "range1 = np.arange(1,10,2)\n",
    "range1"
   ]
  },
  {
   "cell_type": "markdown",
   "id": "84b91bea",
   "metadata": {},
   "source": [
    "A \"seed\" can be used as the starting point for generating pseudorandom numbers. There are many ways you could set\n",
    "a 'seed' - it might start with a number, use current time or some other information that changes over time and\n",
    "then produce an infinite series of random values if those factors were combined in this way (using bitwise\n",
    "operations).\n"
   ]
  },
  {
   "cell_type": "code",
   "execution_count": 19,
   "id": "bca98f18",
   "metadata": {},
   "outputs": [
    {
     "data": {
      "text/plain": [
       "array([[0, 3, 2],\n",
       "       [0, 1, 3],\n",
       "       [9, 7, 5],\n",
       "       [8, 3, 3],\n",
       "       [2, 6, 0]], dtype=int32)"
      ]
     },
     "execution_count": 19,
     "metadata": {},
     "output_type": "execute_result"
    }
   ],
   "source": [
    "np.random.seed(41)\n",
    "random_array1 = np.random.randint(10, size=(5,3))\n",
    "random_array1"
   ]
  },
  {
   "cell_type": "code",
   "execution_count": 20,
   "id": "441a15b2",
   "metadata": {},
   "outputs": [
    {
     "data": {
      "text/plain": [
       "array([[[[4, 6, 9, 3, 8],\n",
       "         [4, 7, 6, 1, 5],\n",
       "         [2, 1, 5, 3, 2],\n",
       "         [4, 1, 2, 3, 4]],\n",
       "\n",
       "        [[5, 4, 5, 7, 6],\n",
       "         [2, 4, 5, 8, 4],\n",
       "         [6, 1, 4, 9, 9],\n",
       "         [5, 2, 4, 4, 4]],\n",
       "\n",
       "        [[3, 0, 7, 5, 2],\n",
       "         [5, 8, 5, 2, 0],\n",
       "         [1, 7, 2, 2, 8],\n",
       "         [2, 5, 2, 8, 8]]],\n",
       "\n",
       "\n",
       "       [[[2, 1, 0, 4, 1],\n",
       "         [5, 1, 1, 2, 7],\n",
       "         [9, 9, 9, 0, 1],\n",
       "         [9, 6, 7, 3, 3]],\n",
       "\n",
       "        [[2, 1, 0, 1, 1],\n",
       "         [8, 7, 2, 7, 4],\n",
       "         [0, 1, 5, 4, 6],\n",
       "         [0, 3, 8, 3, 2]],\n",
       "\n",
       "        [[3, 1, 0, 2, 7],\n",
       "         [1, 1, 1, 4, 4],\n",
       "         [8, 0, 8, 0, 5],\n",
       "         [2, 4, 4, 5, 6]]]], dtype=int32)"
      ]
     },
     "execution_count": 20,
     "metadata": {},
     "output_type": "execute_result"
    }
   ],
   "source": [
    "a4 = np.random.randint(10, size= (2,3,4,5))\n",
    "a4"
   ]
  },
  {
   "cell_type": "code",
   "execution_count": 21,
   "id": "d3b33015",
   "metadata": {},
   "outputs": [
    {
     "data": {
      "text/plain": [
       "((2, 3, 4, 5), 4)"
      ]
     },
     "execution_count": 21,
     "metadata": {},
     "output_type": "execute_result"
    }
   ],
   "source": [
    "a4.shape , a4.ndim"
   ]
  },
  {
   "cell_type": "code",
   "execution_count": 22,
   "id": "05c5e1e9",
   "metadata": {},
   "outputs": [
    {
     "data": {
      "text/plain": [
       "dtype('int32')"
      ]
     },
     "execution_count": 22,
     "metadata": {},
     "output_type": "execute_result"
    }
   ],
   "source": [
    "a4.dtype"
   ]
  },
  {
   "cell_type": "code",
   "execution_count": 23,
   "id": "70c561f9",
   "metadata": {},
   "outputs": [
    {
     "data": {
      "text/plain": [
       "array([[[[3, 1, 0, 2, 7]]]], dtype=int32)"
      ]
     },
     "execution_count": 23,
     "metadata": {},
     "output_type": "execute_result"
    }
   ],
   "source": [
    "#get the first most number of inner arrays\n",
    "a4[1:2,2:3,0:1,:5]"
   ]
  },
  {
   "cell_type": "markdown",
   "id": "049de6a9",
   "metadata": {},
   "source": [
    "### Aggreegation"
   ]
  },
  {
   "cell_type": "code",
   "execution_count": 24,
   "id": "fee7ce2c",
   "metadata": {},
   "outputs": [
    {
     "data": {
      "text/plain": [
       "np.float64(1.0)"
      ]
     },
     "execution_count": 24,
     "metadata": {},
     "output_type": "execute_result"
    }
   ],
   "source": [
    "np.min(a2)"
   ]
  },
  {
   "cell_type": "code",
   "execution_count": 25,
   "id": "3ab45f5f",
   "metadata": {},
   "outputs": [
    {
     "data": {
      "text/plain": [
       "np.float64(0.8225975119502045)"
      ]
     },
     "execution_count": 25,
     "metadata": {},
     "output_type": "execute_result"
    }
   ],
   "source": [
    "np.std(a2)"
   ]
  },
  {
   "cell_type": "code",
   "execution_count": 26,
   "id": "0f6ccb1b",
   "metadata": {},
   "outputs": [
    {
     "data": {
      "text/plain": [
       "np.float64(0.6766666666666669)"
      ]
     },
     "execution_count": 26,
     "metadata": {},
     "output_type": "execute_result"
    }
   ],
   "source": [
    "np.var(a2)"
   ]
  },
  {
   "cell_type": "code",
   "execution_count": 27,
   "id": "24a24a45",
   "metadata": {},
   "outputs": [
    {
     "data": {
      "text/plain": [
       "np.int64(471)"
      ]
     },
     "execution_count": 27,
     "metadata": {},
     "output_type": "execute_result"
    }
   ],
   "source": [
    "np.sum(a4)"
   ]
  },
  {
   "cell_type": "code",
   "execution_count": 28,
   "id": "05f53bc5",
   "metadata": {},
   "outputs": [
    {
     "data": {
      "text/plain": [
       "array([[[ 6,  7,  9,  7,  9],\n",
       "        [ 9,  8,  7,  3, 12],\n",
       "        [11, 10, 14,  3,  3],\n",
       "        [13,  7,  9,  6,  7]],\n",
       "\n",
       "       [[ 7,  5,  5,  8,  7],\n",
       "        [10, 11,  7, 15,  8],\n",
       "        [ 6,  2,  9, 13, 15],\n",
       "        [ 5,  5, 12,  7,  6]],\n",
       "\n",
       "       [[ 6,  1,  7,  7,  9],\n",
       "        [ 6,  9,  6,  6,  4],\n",
       "        [ 9,  7, 10,  2, 13],\n",
       "        [ 4,  9,  6, 13, 14]]], dtype=int32)"
      ]
     },
     "execution_count": 28,
     "metadata": {},
     "output_type": "execute_result"
    }
   ],
   "source": [
    "sum(a4)"
   ]
  },
  {
   "cell_type": "code",
   "execution_count": 29,
   "id": "a69bee6e",
   "metadata": {},
   "outputs": [
    {
     "name": "stdout",
     "output_type": "stream",
     "text": [
      "4.11 μs ± 555 ns per loop (mean ± std. dev. of 7 runs, 100,000 loops each)\n"
     ]
    }
   ],
   "source": [
    "%timeit np.sum(a4)"
   ]
  },
  {
   "cell_type": "code",
   "execution_count": 30,
   "id": "1526e3fb",
   "metadata": {},
   "outputs": [
    {
     "name": "stdout",
     "output_type": "stream",
     "text": [
      "2.54 μs ± 119 ns per loop (mean ± std. dev. of 7 runs, 100,000 loops each)\n"
     ]
    }
   ],
   "source": [
    "%timeit sum(a4)"
   ]
  },
  {
   "cell_type": "code",
   "execution_count": 31,
   "id": "e16774b1",
   "metadata": {},
   "outputs": [],
   "source": [
    "high_var_array = np.array([1,100,200,300,4000,5000])\n",
    "low_var_array = np.array([2,4,6,8,10])"
   ]
  },
  {
   "cell_type": "code",
   "execution_count": 32,
   "id": "5b1288d8",
   "metadata": {},
   "outputs": [
    {
     "data": {
      "text/plain": [
       "array([   1,  100,  200,  300, 4000, 5000])"
      ]
     },
     "execution_count": 32,
     "metadata": {},
     "output_type": "execute_result"
    }
   ],
   "source": [
    "high_var_array"
   ]
  },
  {
   "cell_type": "code",
   "execution_count": 33,
   "id": "b1558830",
   "metadata": {},
   "outputs": [
    {
     "data": {
      "text/plain": [
       "array([ 2,  4,  6,  8, 10])"
      ]
     },
     "execution_count": 33,
     "metadata": {},
     "output_type": "execute_result"
    }
   ],
   "source": [
    "low_var_array"
   ]
  },
  {
   "cell_type": "code",
   "execution_count": 34,
   "id": "e2afdd77",
   "metadata": {},
   "outputs": [
    {
     "data": {
      "text/plain": [
       "(np.float64(1600.1666666666667), np.float64(6.0))"
      ]
     },
     "execution_count": 34,
     "metadata": {},
     "output_type": "execute_result"
    }
   ],
   "source": [
    "# Means return the average of the array elements. The average is taken over the flattened array by default, otherwise the specific axis \n",
    "np.mean(high_var_array), np.mean(low_var_array)"
   ]
  },
  {
   "cell_type": "markdown",
   "id": "cac5b36d",
   "metadata": {},
   "source": [
    "`%matplotlib inline` appears to be an alias inside Jupyter notebooks that directly plots the graphs within your\n",
    "current cell (i.e., cells containing interactive widgets like buttons, text inputs or display outputs). Here's how\n",
    "it works in a simple example of plotting using matplotlibthonwidgets"
   ]
  },
  {
   "cell_type": "code",
   "execution_count": 35,
   "id": "a0ebb0c6",
   "metadata": {},
   "outputs": [
    {
     "data": {
      "text/plain": [
       "array([-5, -3, -1,  1,  3,  6,  8, 10, 12, 15])"
      ]
     },
     "execution_count": 35,
     "metadata": {},
     "output_type": "execute_result"
    }
   ],
   "source": [
    "# np.linspace this is use for the linear space it create a equal point between the given range \n",
    "\n",
    "x =  np.linspace(-5,15,10, dtype=int)\n",
    "x"
   ]
  },
  {
   "cell_type": "code",
   "execution_count": 36,
   "id": "99eb8d54",
   "metadata": {},
   "outputs": [
    {
     "data": {
      "text/plain": [
       "array([[1., 0., 0.],\n",
       "       [0., 1., 0.],\n",
       "       [0., 0., 1.]])"
      ]
     },
     "execution_count": 36,
     "metadata": {},
     "output_type": "execute_result"
    }
   ],
   "source": [
    "#np.identify in  this method it creates a matric where there is 1 in the diagonal and at other position there is 0\n",
    "np.identity(3)"
   ]
  },
  {
   "cell_type": "markdown",
   "id": "e0ee9e79",
   "metadata": {},
   "source": [
    "### Array Operations "
   ]
  },
  {
   "cell_type": "code",
   "execution_count": 37,
   "id": "2b2a0a96",
   "metadata": {},
   "outputs": [
    {
     "data": {
      "text/plain": [
       "(array([[ 0,  1,  2,  3],\n",
       "        [ 4,  5,  6,  7],\n",
       "        [ 8,  9, 10, 11]]),\n",
       " array([[12, 13, 14, 15],\n",
       "        [16, 17, 18, 19],\n",
       "        [20, 21, 22, 23]]))"
      ]
     },
     "execution_count": 37,
     "metadata": {},
     "output_type": "execute_result"
    }
   ],
   "source": [
    "a1 = np.arange(12).reshape(3,4)\n",
    "a2 = np.arange(12,24).reshape(3,4)\n",
    "a1,a2"
   ]
  },
  {
   "cell_type": "code",
   "execution_count": 38,
   "id": "626de0f8",
   "metadata": {},
   "outputs": [
    {
     "data": {
      "text/plain": [
       "array([[ 0,  2,  4,  6],\n",
       "       [ 8, 10, 12, 14],\n",
       "       [16, 18, 20, 22]])"
      ]
     },
     "execution_count": 38,
     "metadata": {},
     "output_type": "execute_result"
    }
   ],
   "source": [
    "# scalar operation \n",
    "\n",
    "# arithmetic\n",
    "a1 * 2"
   ]
  },
  {
   "cell_type": "code",
   "execution_count": 39,
   "id": "c559ffc7",
   "metadata": {},
   "outputs": [
    {
     "data": {
      "text/plain": [
       "array([[ True,  True,  True,  True],\n",
       "       [ True,  True,  True,  True],\n",
       "       [ True,  True,  True,  True]])"
      ]
     },
     "execution_count": 39,
     "metadata": {},
     "output_type": "execute_result"
    }
   ],
   "source": [
    "# re3lation operation\n",
    "a2>5 \n"
   ]
  },
  {
   "cell_type": "code",
   "execution_count": 40,
   "id": "db9958bd",
   "metadata": {},
   "outputs": [
    {
     "data": {
      "text/plain": [
       "array([[12, 14, 16, 18],\n",
       "       [20, 22, 24, 26],\n",
       "       [28, 30, 32, 34]])"
      ]
     },
     "execution_count": 40,
     "metadata": {},
     "output_type": "execute_result"
    }
   ],
   "source": [
    "# when we perform the task between two array that is called vector function\n",
    "a1 + a2"
   ]
  },
  {
   "cell_type": "markdown",
   "id": "830090c9",
   "metadata": {},
   "source": [
    " ### Array Function"
   ]
  },
  {
   "cell_type": "code",
   "execution_count": 41,
   "id": "f52fda7e",
   "metadata": {},
   "outputs": [
    {
     "data": {
      "text/plain": [
       "array([[70., 81., 34.],\n",
       "       [76., 33., 25.],\n",
       "       [65., 41.,  9.]])"
      ]
     },
     "execution_count": 41,
     "metadata": {},
     "output_type": "execute_result"
    }
   ],
   "source": [
    "a1 = np.random.random((3,3))\n",
    "a1 = np.round(a1 * 100)\n",
    "a1"
   ]
  },
  {
   "cell_type": "code",
   "execution_count": 42,
   "id": "caf4046e",
   "metadata": {},
   "outputs": [
    {
     "data": {
      "text/plain": [
       "array([81., 76., 65.])"
      ]
     },
     "execution_count": 42,
     "metadata": {},
     "output_type": "execute_result"
    }
   ],
   "source": [
    "# min / max/ sum/ prod\n",
    "# axis = 0  for columns\n",
    "# axis = 1 for rows\n",
    "np.max(a1,axis=1)"
   ]
  },
  {
   "cell_type": "code",
   "execution_count": 43,
   "id": "a8766f21",
   "metadata": {},
   "outputs": [
    {
     "data": {
      "text/plain": [
       "(np.float64(48.22222222222222), array([61.66666667, 44.66666667, 38.33333333]))"
      ]
     },
     "execution_count": 43,
     "metadata": {},
     "output_type": "execute_result"
    }
   ],
   "source": [
    "# mean / median / std / var\n",
    "np.mean(a1),np.mean(a1, axis=1)"
   ]
  },
  {
   "cell_type": "code",
   "execution_count": 44,
   "id": "db787951",
   "metadata": {},
   "outputs": [
    {
     "data": {
      "text/plain": [
       "array([76., 33., 25.])"
      ]
     },
     "execution_count": 44,
     "metadata": {},
     "output_type": "execute_result"
    }
   ],
   "source": [
    "# slicing and indexing \n",
    "a1[1]"
   ]
  },
  {
   "cell_type": "code",
   "execution_count": 45,
   "id": "4f12cb06",
   "metadata": {},
   "outputs": [],
   "source": [
    "a3 = np.arange(8).reshape(2,2,2)"
   ]
  },
  {
   "cell_type": "code",
   "execution_count": 46,
   "id": "b2d1f9ed",
   "metadata": {},
   "outputs": [
    {
     "data": {
      "text/plain": [
       "array([[[0, 1],\n",
       "        [2, 3]],\n",
       "\n",
       "       [[4, 5],\n",
       "        [6, 7]]])"
      ]
     },
     "execution_count": 46,
     "metadata": {},
     "output_type": "execute_result"
    }
   ],
   "source": [
    "a3"
   ]
  },
  {
   "cell_type": "code",
   "execution_count": 47,
   "id": "285de4d7",
   "metadata": {},
   "outputs": [
    {
     "data": {
      "text/plain": [
       "np.int64(5)"
      ]
     },
     "execution_count": 47,
     "metadata": {},
     "output_type": "execute_result"
    }
   ],
   "source": [
    "a3[1,0,1]"
   ]
  },
  {
   "cell_type": "code",
   "execution_count": 48,
   "id": "391572a2",
   "metadata": {},
   "outputs": [
    {
     "data": {
      "text/plain": [
       "np.int64(2)"
      ]
     },
     "execution_count": 48,
     "metadata": {},
     "output_type": "execute_result"
    }
   ],
   "source": [
    "a3[0,1,0]"
   ]
  },
  {
   "cell_type": "code",
   "execution_count": 49,
   "id": "0016c329",
   "metadata": {},
   "outputs": [
    {
     "data": {
      "text/plain": [
       "np.int64(0)"
      ]
     },
     "execution_count": 49,
     "metadata": {},
     "output_type": "execute_result"
    }
   ],
   "source": [
    "a3[0,0,0]"
   ]
  },
  {
   "cell_type": "code",
   "execution_count": 50,
   "id": "0382cedc",
   "metadata": {},
   "outputs": [
    {
     "data": {
      "text/plain": [
       "array([[70., 81., 34., 76., 33., 25., 65., 41.,  9.]])"
      ]
     },
     "execution_count": 50,
     "metadata": {},
     "output_type": "execute_result"
    }
   ],
   "source": [
    "a1.reshape(1,9)"
   ]
  },
  {
   "cell_type": "code",
   "execution_count": 51,
   "id": "ef4417f3",
   "metadata": {},
   "outputs": [
    {
     "data": {
      "text/plain": [
       "array([[70., 81., 34.],\n",
       "       [65., 41.,  9.]])"
      ]
     },
     "execution_count": 51,
     "metadata": {},
     "output_type": "execute_result"
    }
   ],
   "source": [
    "a1[0:8:2]"
   ]
  },
  {
   "cell_type": "code",
   "execution_count": 52,
   "id": "0b40ef2a",
   "metadata": {},
   "outputs": [],
   "source": [
    "%matplotlib inline "
   ]
  },
  {
   "cell_type": "code",
   "execution_count": 53,
   "id": "317ee038",
   "metadata": {},
   "outputs": [
    {
     "data": {
      "image/png": "[encoded data removed]",
      "text/plain": [
       "<Figure size 640x480 with 1 Axes>"
      ]
     },
     "metadata": {},
     "output_type": "display_data"
    }
   ],
   "source": [
    "import matplotlib.pyplot as plt\n",
    "plt.hist(a1)\n",
    "plt.show()"
   ]
  },
  {
   "cell_type": "markdown",
   "id": "468f31f7",
   "metadata": {},
   "source": [
    "Resshaping and Transposing"
   ]
  },
  {
   "cell_type": "code",
   "execution_count": 54,
   "id": "7191ed2f",
   "metadata": {},
   "outputs": [
    {
     "data": {
      "text/plain": [
       "array([[12, 13, 14, 15],\n",
       "       [16, 17, 18, 19],\n",
       "       [20, 21, 22, 23]])"
      ]
     },
     "execution_count": 54,
     "metadata": {},
     "output_type": "execute_result"
    }
   ],
   "source": [
    "a2"
   ]
  },
  {
   "cell_type": "code",
   "execution_count": 55,
   "id": "598ea044",
   "metadata": {},
   "outputs": [
    {
     "data": {
      "text/plain": [
       "array([[[0, 1],\n",
       "        [2, 3]],\n",
       "\n",
       "       [[4, 5],\n",
       "        [6, 7]]])"
      ]
     },
     "execution_count": 55,
     "metadata": {},
     "output_type": "execute_result"
    }
   ],
   "source": [
    "a3"
   ]
  },
  {
   "cell_type": "code",
   "execution_count": 56,
   "id": "bb9590ec",
   "metadata": {},
   "outputs": [
    {
     "data": {
      "text/plain": [
       "((3, 4), (2, 2, 2))"
      ]
     },
     "execution_count": 56,
     "metadata": {},
     "output_type": "execute_result"
    }
   ],
   "source": [
    "a2.shape,a3.shape"
   ]
  },
  {
   "cell_type": "code",
   "execution_count": 57,
   "id": "92d39302",
   "metadata": {},
   "outputs": [
    {
     "data": {
      "text/plain": [
       "(4, 3)"
      ]
     },
     "execution_count": 57,
     "metadata": {},
     "output_type": "execute_result"
    }
   ],
   "source": [
    "a2.T.shape"
   ]
  },
  {
   "cell_type": "code",
   "execution_count": 58,
   "id": "f6103c42",
   "metadata": {},
   "outputs": [
    {
     "data": {
      "text/plain": [
       "(array([[5, 0, 3],\n",
       "        [3, 7, 9],\n",
       "        [3, 5, 2],\n",
       "        [4, 7, 6],\n",
       "        [8, 8, 1]], dtype=int32),\n",
       " array([[6, 7, 7],\n",
       "        [8, 1, 5],\n",
       "        [9, 8, 9],\n",
       "        [4, 3, 0],\n",
       "        [3, 5, 0]], dtype=int32))"
      ]
     },
     "execution_count": 58,
     "metadata": {},
     "output_type": "execute_result"
    }
   ],
   "source": [
    "# Dot Product\n",
    "np.random.seed(0)\n",
    "mat1 = np.random.randint(10, size =(5,3))\n",
    "mat2 = np.random.randint(10, size =(5,3))\n",
    "mat1,mat2"
   ]
  },
  {
   "cell_type": "code",
   "execution_count": 59,
   "id": "57cbc659",
   "metadata": {},
   "outputs": [
    {
     "data": {
      "text/plain": [
       "((5, 3), (5, 3))"
      ]
     },
     "execution_count": 59,
     "metadata": {},
     "output_type": "execute_result"
    }
   ],
   "source": [
    "mat1.shape,mat2.shape"
   ]
  },
  {
   "cell_type": "markdown",
   "id": "c9f91bd7",
   "metadata": {},
   "source": [
    "To perform the dot function the matrix should be transpose of each other means if the mat1 is (3,4) then the mat2 should be (4,3) with this we can perform the dot method on the matrixes. It is declare as np.dot(mat1, mat2) and the output will be 3*3 matrix "
   ]
  },
  {
   "cell_type": "code",
   "execution_count": 60,
   "id": "061cccc0",
   "metadata": {},
   "outputs": [
    {
     "ename": "ValueError",
     "evalue": "shapes (5,3) and (5,3) not aligned: 3 (dim 1) != 5 (dim 0)",
     "output_type": "error",
     "traceback": [
      "\u001b[31m---------------------------------------------------------------------------\u001b[39m",
      "\u001b[31mValueError\u001b[39m                                Traceback (most recent call last)",
      "\u001b[36mCell\u001b[39m\u001b[36m \u001b[39m\u001b[32mIn[60]\u001b[39m\u001b[32m, line 2\u001b[39m\n\u001b[32m      1\u001b[39m \u001b[38;5;66;03m# we cannot do the dot product in the below program\u001b[39;00m\n\u001b[32m----> \u001b[39m\u001b[32m2\u001b[39m \u001b[43mnp\u001b[49m\u001b[43m.\u001b[49m\u001b[43mdot\u001b[49m\u001b[43m(\u001b[49m\u001b[43mmat1\u001b[49m\u001b[43m,\u001b[49m\u001b[43mmat2\u001b[49m\u001b[43m)\u001b[49m \u001b[38;5;66;03m# this will throw the error of ValueError \u001b[39;00m\n",
      "\u001b[31mValueError\u001b[39m: shapes (5,3) and (5,3) not aligned: 3 (dim 1) != 5 (dim 0)"
     ]
    }
   ],
   "source": [
    "# we cannot do the dot product in the below program\n",
    "np.dot(mat1,mat2) # this will throw the error of ValueError "
   ]
  },
  {
   "cell_type": "code",
   "execution_count": null,
   "id": "b7e31e4e",
   "metadata": {},
   "outputs": [
    {
     "data": {
      "text/plain": [
       "array([[ 51,  55,  72,  20,  15],\n",
       "       [130,  76, 164,  33,  44],\n",
       "       [ 67,  39,  85,  27,  34],\n",
       "       [115,  69, 146,  37,  47],\n",
       "       [111,  77, 145,  56,  64]], dtype=int32)"
      ]
     },
     "execution_count": 82,
     "metadata": {},
     "output_type": "execute_result"
    }
   ],
   "source": [
    "# to complete the task we have the tanspose one of the matrix \n",
    "mat3 = np.dot(mat1,mat2.T)\n",
    "mat3"
   ]
  },
  {
   "cell_type": "markdown",
   "id": "39b6b42a",
   "metadata": {},
   "source": [
    "As we can see that the shape of the matrixx is the (5,5) as we have already seen in the explanation"
   ]
  },
  {
   "cell_type": "code",
   "execution_count": null,
   "id": "12c12191",
   "metadata": {},
   "outputs": [
    {
     "data": {
      "text/plain": [
       "(5, 5)"
      ]
     },
     "execution_count": 83,
     "metadata": {},
     "output_type": "execute_result"
    }
   ],
   "source": [
    "mat3.shape"
   ]
  },
  {
   "cell_type": "markdown",
   "id": "748d744f",
   "metadata": {},
   "source": [
    "### Creating the weekly butter sales"
   ]
  },
  {
   "cell_type": "code",
   "execution_count": null,
   "id": "1fde49a9",
   "metadata": {},
   "outputs": [
    {
     "data": {
      "text/plain": [
       "array([[12, 15,  0],\n",
       "       [ 3,  3,  7],\n",
       "       [ 9, 19, 18],\n",
       "       [ 4,  6, 12],\n",
       "       [ 1,  6,  7]], dtype=int32)"
      ]
     },
     "execution_count": 84,
     "metadata": {},
     "output_type": "execute_result"
    }
   ],
   "source": [
    "np.random.seed(0)\n",
    "sales_amount = np.random.randint(20 , size= (5,3))\n",
    "sales_amount"
   ]
  },
  {
   "cell_type": "code",
   "execution_count": null,
   "id": "360f63a0",
   "metadata": {},
   "outputs": [],
   "source": [
    "import pandas as pd\n",
    "weekly_sales = pd.DataFrame(sales_amount,\n",
    "                            index=[\"Mon\",\"Tue\",\"Wed\",\"Thru\",\"Fri\"],\n",
    "                            columns=[\"Almond Butter\",\"Peanut Butter\", \"Casshew Butter \"]\n",
    ")"
   ]
  },
  {
   "cell_type": "code",
   "execution_count": null,
   "id": "9cc00932",
   "metadata": {},
   "outputs": [
    {
     "data": {
      "text/html": [
       "<div>\n",
       "<style scoped>\n",
       "    .dataframe tbody tr th:only-of-type {\n",
       "        vertical-align: middle;\n",
       "    }\n",
       "\n",
       "    .dataframe tbody tr th {\n",
       "        vertical-align: top;\n",
       "    }\n",
       "\n",
       "    .dataframe thead th {\n",
       "        text-align: right;\n",
       "    }\n",
       "</style>\n",
       "<table border=\"1\" class=\"dataframe\">\n",
       "  <thead>\n",
       "    <tr style=\"text-align: right;\">\n",
       "      <th></th>\n",
       "      <th>Almond Butter</th>\n",
       "      <th>Peanut Butter</th>\n",
       "      <th>Casshew Butter</th>\n",
       "    </tr>\n",
       "  </thead>\n",
       "  <tbody>\n",
       "    <tr>\n",
       "      <th>Mon</th>\n",
       "      <td>12</td>\n",
       "      <td>15</td>\n",
       "      <td>0</td>\n",
       "    </tr>\n",
       "    <tr>\n",
       "      <th>Tue</th>\n",
       "      <td>3</td>\n",
       "      <td>3</td>\n",
       "      <td>7</td>\n",
       "    </tr>\n",
       "    <tr>\n",
       "      <th>Wed</th>\n",
       "      <td>9</td>\n",
       "      <td>19</td>\n",
       "      <td>18</td>\n",
       "    </tr>\n",
       "    <tr>\n",
       "      <th>Thru</th>\n",
       "      <td>4</td>\n",
       "      <td>6</td>\n",
       "      <td>12</td>\n",
       "    </tr>\n",
       "    <tr>\n",
       "      <th>Fri</th>\n",
       "      <td>1</td>\n",
       "      <td>6</td>\n",
       "      <td>7</td>\n",
       "    </tr>\n",
       "  </tbody>\n",
       "</table>\n",
       "</div>"
      ],
      "text/plain": [
       "      Almond Butter  Peanut Butter  Casshew Butter \n",
       "Mon              12             15                0\n",
       "Tue               3              3                7\n",
       "Wed               9             19               18\n",
       "Thru              4              6               12\n",
       "Fri               1              6                7"
      ]
     },
     "execution_count": 86,
     "metadata": {},
     "output_type": "execute_result"
    }
   ],
   "source": [
    "weekly_sales"
   ]
  },
  {
   "cell_type": "code",
   "execution_count": null,
   "id": "3d892cfd",
   "metadata": {},
   "outputs": [
    {
     "data": {
      "text/plain": [
       "array([10,  8, 12])"
      ]
     },
     "execution_count": 88,
     "metadata": {},
     "output_type": "execute_result"
    }
   ],
   "source": [
    "# Creating the pricss\n",
    "prices =  np.array([10,8,12])\n",
    "prices"
   ]
  },
  {
   "cell_type": "code",
   "execution_count": null,
   "id": "62e0b4bc",
   "metadata": {},
   "outputs": [
    {
     "data": {
      "text/html": [
       "<div>\n",
       "<style scoped>\n",
       "    .dataframe tbody tr th:only-of-type {\n",
       "        vertical-align: middle;\n",
       "    }\n",
       "\n",
       "    .dataframe tbody tr th {\n",
       "        vertical-align: top;\n",
       "    }\n",
       "\n",
       "    .dataframe thead th {\n",
       "        text-align: right;\n",
       "    }\n",
       "</style>\n",
       "<table border=\"1\" class=\"dataframe\">\n",
       "  <thead>\n",
       "    <tr style=\"text-align: right;\">\n",
       "      <th></th>\n",
       "      <th>Almond Butter</th>\n",
       "      <th>Peanut Butter</th>\n",
       "      <th>Casshew Butter</th>\n",
       "    </tr>\n",
       "  </thead>\n",
       "  <tbody>\n",
       "    <tr>\n",
       "      <th>Prices</th>\n",
       "      <td>10</td>\n",
       "      <td>8</td>\n",
       "      <td>12</td>\n",
       "    </tr>\n",
       "  </tbody>\n",
       "</table>\n",
       "</div>"
      ],
      "text/plain": [
       "        Almond Butter  Peanut Butter  Casshew Butter \n",
       "Prices             10              8               12"
      ]
     },
     "execution_count": 89,
     "metadata": {},
     "output_type": "execute_result"
    }
   ],
   "source": [
    "butter_prices  = pd.DataFrame(prices.reshape(1,3),\n",
    "                              index=[\"Prices\"],\n",
    "                              columns=[\"Almond Butter\",\"Peanut Butter\", \"Casshew Butter \"])\n",
    "butter_prices"
   ]
  },
  {
   "cell_type": "code",
   "execution_count": null,
   "id": "e227cd5a",
   "metadata": {},
   "outputs": [
    {
     "data": {
      "text/plain": [
       "((5, 3), (1, 3))"
      ]
     },
     "execution_count": 90,
     "metadata": {},
     "output_type": "execute_result"
    }
   ],
   "source": [
    "weekly_sales.shape, butter_prices.shape"
   ]
  },
  {
   "cell_type": "code",
   "execution_count": null,
   "id": "79b74a8c",
   "metadata": {},
   "outputs": [
    {
     "data": {
      "text/html": [
       "<div>\n",
       "<style scoped>\n",
       "    .dataframe tbody tr th:only-of-type {\n",
       "        vertical-align: middle;\n",
       "    }\n",
       "\n",
       "    .dataframe tbody tr th {\n",
       "        vertical-align: top;\n",
       "    }\n",
       "\n",
       "    .dataframe thead th {\n",
       "        text-align: right;\n",
       "    }\n",
       "</style>\n",
       "<table border=\"1\" class=\"dataframe\">\n",
       "  <thead>\n",
       "    <tr style=\"text-align: right;\">\n",
       "      <th></th>\n",
       "      <th>Mon</th>\n",
       "      <th>Tue</th>\n",
       "      <th>Wed</th>\n",
       "      <th>Thru</th>\n",
       "      <th>Fri</th>\n",
       "    </tr>\n",
       "  </thead>\n",
       "  <tbody>\n",
       "    <tr>\n",
       "      <th>Prices</th>\n",
       "      <td>240</td>\n",
       "      <td>138</td>\n",
       "      <td>458</td>\n",
       "      <td>232</td>\n",
       "      <td>142</td>\n",
       "    </tr>\n",
       "  </tbody>\n",
       "</table>\n",
       "</div>"
      ],
      "text/plain": [
       "        Mon  Tue  Wed  Thru  Fri\n",
       "Prices  240  138  458   232  142"
      ]
     },
     "execution_count": 91,
     "metadata": {},
     "output_type": "execute_result"
    }
   ],
   "source": [
    "daily_sales = butter_prices.dot(weekly_sales.T)\n",
    "daily_sales"
   ]
  },
  {
   "cell_type": "code",
   "execution_count": null,
   "id": "6b88b8d9",
   "metadata": {},
   "outputs": [
    {
     "data": {
      "text/html": [
       "<div>\n",
       "<style scoped>\n",
       "    .dataframe tbody tr th:only-of-type {\n",
       "        vertical-align: middle;\n",
       "    }\n",
       "\n",
       "    .dataframe tbody tr th {\n",
       "        vertical-align: top;\n",
       "    }\n",
       "\n",
       "    .dataframe thead th {\n",
       "        text-align: right;\n",
       "    }\n",
       "</style>\n",
       "<table border=\"1\" class=\"dataframe\">\n",
       "  <thead>\n",
       "    <tr style=\"text-align: right;\">\n",
       "      <th></th>\n",
       "      <th>Almond Butter</th>\n",
       "      <th>Peanut Butter</th>\n",
       "      <th>Casshew Butter</th>\n",
       "      <th>Totlal $</th>\n",
       "    </tr>\n",
       "  </thead>\n",
       "  <tbody>\n",
       "    <tr>\n",
       "      <th>Mon</th>\n",
       "      <td>12</td>\n",
       "      <td>15</td>\n",
       "      <td>0</td>\n",
       "      <td>240</td>\n",
       "    </tr>\n",
       "    <tr>\n",
       "      <th>Tue</th>\n",
       "      <td>3</td>\n",
       "      <td>3</td>\n",
       "      <td>7</td>\n",
       "      <td>138</td>\n",
       "    </tr>\n",
       "    <tr>\n",
       "      <th>Wed</th>\n",
       "      <td>9</td>\n",
       "      <td>19</td>\n",
       "      <td>18</td>\n",
       "      <td>458</td>\n",
       "    </tr>\n",
       "    <tr>\n",
       "      <th>Thru</th>\n",
       "      <td>4</td>\n",
       "      <td>6</td>\n",
       "      <td>12</td>\n",
       "      <td>232</td>\n",
       "    </tr>\n",
       "    <tr>\n",
       "      <th>Fri</th>\n",
       "      <td>1</td>\n",
       "      <td>6</td>\n",
       "      <td>7</td>\n",
       "      <td>142</td>\n",
       "    </tr>\n",
       "  </tbody>\n",
       "</table>\n",
       "</div>"
      ],
      "text/plain": [
       "      Almond Butter  Peanut Butter  Casshew Butter   Totlal $\n",
       "Mon              12             15                0       240\n",
       "Tue               3              3                7       138\n",
       "Wed               9             19               18       458\n",
       "Thru              4              6               12       232\n",
       "Fri               1              6                7       142"
      ]
     },
     "execution_count": 92,
     "metadata": {},
     "output_type": "execute_result"
    }
   ],
   "source": [
    "weekly_sales[\"Totlal $\"]= daily_sales.T\n",
    "weekly_sales"
   ]
  },
  {
   "cell_type": "markdown",
   "id": "0cdbecb8",
   "metadata": {},
   "source": [
    "### Sorting arrays"
   ]
  },
  {
   "cell_type": "code",
   "execution_count": null,
   "id": "1c35125c",
   "metadata": {},
   "outputs": [
    {
     "data": {
      "text/plain": [
       "array([[7, 8, 1, 5, 9],\n",
       "       [8, 9, 4, 3, 0],\n",
       "       [3, 5, 0, 2, 3]], dtype=int32)"
      ]
     },
     "execution_count": 93,
     "metadata": {},
     "output_type": "execute_result"
    }
   ],
   "source": [
    "a1 = np.random.randint(10, size=(3,5))\n",
    "a1"
   ]
  },
  {
   "cell_type": "code",
   "execution_count": null,
   "id": "820944f4",
   "metadata": {},
   "outputs": [
    {
     "data": {
      "text/plain": [
       "array([[3, 5, 0, 2, 0],\n",
       "       [7, 8, 1, 3, 3],\n",
       "       [8, 9, 4, 5, 9]], dtype=int32)"
      ]
     },
     "execution_count": 128,
     "metadata": {},
     "output_type": "execute_result"
    }
   ],
   "source": [
    "si = np.argsort(a1,axis=0)\n",
    "sa = a1[si, np.arange(a1.shape[1])]\n",
    "sa"
   ]
  },
  {
   "cell_type": "code",
   "execution_count": null,
   "id": "96d6fd5d",
   "metadata": {},
   "outputs": [
    {
     "data": {
      "text/plain": [
       "array([[1, 5, 7, 8, 9],\n",
       "       [0, 3, 4, 8, 9],\n",
       "       [0, 2, 3, 3, 5]], dtype=int32)"
      ]
     },
     "execution_count": 94,
     "metadata": {},
     "output_type": "execute_result"
    }
   ],
   "source": [
    "np.sort(a1)"
   ]
  },
  {
   "cell_type": "code",
   "execution_count": null,
   "id": "9defc2f9",
   "metadata": {},
   "outputs": [],
   "source": [
    "a2=np.argsort(a1)"
   ]
  },
  {
   "cell_type": "code",
   "execution_count": null,
   "id": "08d6c31d",
   "metadata": {},
   "outputs": [
    {
     "data": {
      "text/plain": [
       "(array([[2, 2, 2, 2, 1],\n",
       "        [0, 0, 0, 1, 2],\n",
       "        [1, 1, 1, 0, 0]]),\n",
       " (3, 5))"
      ]
     },
     "execution_count": 110,
     "metadata": {},
     "output_type": "execute_result"
    }
   ],
   "source": [
    "a2, a2.shape "
   ]
  },
  {
   "cell_type": "code",
   "execution_count": null,
   "id": "dc3c8224",
   "metadata": {},
   "outputs": [
    {
     "data": {
      "text/plain": [
       "array([[1, 5, 7, 8, 9],\n",
       "       [0, 3, 4, 8, 9],\n",
       "       [0, 2, 3, 3, 5]], dtype=int32)"
      ]
     },
     "execution_count": 125,
     "metadata": {},
     "output_type": "execute_result"
    }
   ],
   "source": [
    "np.sort(a1, axis=1)"
   ]
  },
  {
   "cell_type": "code",
   "execution_count": null,
   "id": "c4356d77",
   "metadata": {},
   "outputs": [
    {
     "data": {
      "text/plain": [
       "array([1, 1, 1, 0, 0])"
      ]
     },
     "execution_count": 123,
     "metadata": {},
     "output_type": "execute_result"
    }
   ],
   "source": [
    "np.argmax(a1 , axis=0)"
   ]
  },
  {
   "cell_type": "code",
   "execution_count": null,
   "id": "4da691fc",
   "metadata": {},
   "outputs": [
    {
     "data": {
      "text/plain": [
       "array([2, 4, 2])"
      ]
     },
     "execution_count": 124,
     "metadata": {},
     "output_type": "execute_result"
    }
   ],
   "source": [
    "np.argmin(a1, axis=1)"
   ]
  },
  {
   "cell_type": "markdown",
   "id": "556375bc",
   "metadata": {},
   "source": [
    "## Numpy In action "
   ]
  },
  {
   "cell_type": "code",
   "execution_count": null,
   "id": "356b8e4e",
   "metadata": {},
   "outputs": [
    {
     "ename": "FileNotFoundError",
     "evalue": "[Errno 2] No such file or directory: 'image/panda.png'",
     "output_type": "error",
     "traceback": [
      "\u001b[31m---------------------------------------------------------------------------\u001b[39m",
      "\u001b[31mFileNotFoundError\u001b[39m                         Traceback (most recent call last)",
      "\u001b[36mCell\u001b[39m\u001b[36m \u001b[39m\u001b[32mIn[129]\u001b[39m\u001b[32m, line 3\u001b[39m\n\u001b[32m      1\u001b[39m \u001b[38;5;66;03m# To open the image wwe can use the matplotlib\u001b[39;00m\n\u001b[32m      2\u001b[39m \u001b[38;5;28;01mfrom\u001b[39;00m\u001b[38;5;250m \u001b[39m\u001b[34;01mmatplotlib\u001b[39;00m\u001b[34;01m.\u001b[39;00m\u001b[34;01mimage\u001b[39;00m\u001b[38;5;250m \u001b[39m\u001b[38;5;28;01mimport\u001b[39;00m imread\n\u001b[32m----> \u001b[39m\u001b[32m3\u001b[39m panda = \u001b[43mimread\u001b[49m\u001b[43m(\u001b[49m\u001b[33;43m\"\u001b[39;49m\u001b[33;43mimage/panda.png\u001b[39;49m\u001b[33;43m\"\u001b[39;49m\u001b[43m)\u001b[49m\n\u001b[32m      4\u001b[39m panda\n",
      "\u001b[36mFile \u001b[39m\u001b[32mc:\\Users\\Nirav\\OneDrive\\Desktop\\Learning\\MachineLearning\\venv\\Lib\\site-packages\\matplotlib\\image.py:1520\u001b[39m, in \u001b[36mimread\u001b[39m\u001b[34m(fname, format)\u001b[39m\n\u001b[32m   1513\u001b[39m \u001b[38;5;28;01mif\u001b[39;00m \u001b[38;5;28misinstance\u001b[39m(fname, \u001b[38;5;28mstr\u001b[39m) \u001b[38;5;129;01mand\u001b[39;00m \u001b[38;5;28mlen\u001b[39m(parse.urlparse(fname).scheme) > \u001b[32m1\u001b[39m:\n\u001b[32m   1514\u001b[39m     \u001b[38;5;66;03m# Pillow doesn't handle URLs directly.\u001b[39;00m\n\u001b[32m   1515\u001b[39m     \u001b[38;5;28;01mraise\u001b[39;00m \u001b[38;5;167;01mValueError\u001b[39;00m(\n\u001b[32m   1516\u001b[39m         \u001b[33m\"\u001b[39m\u001b[33mPlease open the URL for reading and pass the \u001b[39m\u001b[33m\"\u001b[39m\n\u001b[32m   1517\u001b[39m         \u001b[33m\"\u001b[39m\u001b[33mresult to Pillow, e.g. with \u001b[39m\u001b[33m\"\u001b[39m\n\u001b[32m   1518\u001b[39m         \u001b[33m\"\u001b[39m\u001b[33m``np.array(PIL.Image.open(urllib.request.urlopen(url)))``.\u001b[39m\u001b[33m\"\u001b[39m\n\u001b[32m   1519\u001b[39m         )\n\u001b[32m-> \u001b[39m\u001b[32m1520\u001b[39m \u001b[38;5;28;01mwith\u001b[39;00m \u001b[43mimg_open\u001b[49m\u001b[43m(\u001b[49m\u001b[43mfname\u001b[49m\u001b[43m)\u001b[49m \u001b[38;5;28;01mas\u001b[39;00m image:\n\u001b[32m   1521\u001b[39m     \u001b[38;5;28;01mreturn\u001b[39;00m (_pil_png_to_float_array(image)\n\u001b[32m   1522\u001b[39m             \u001b[38;5;28;01mif\u001b[39;00m \u001b[38;5;28misinstance\u001b[39m(image, PIL.PngImagePlugin.PngImageFile) \u001b[38;5;28;01melse\u001b[39;00m\n\u001b[32m   1523\u001b[39m             pil_to_array(image))\n",
      "\u001b[36mFile \u001b[39m\u001b[32mc:\\Users\\Nirav\\OneDrive\\Desktop\\Learning\\MachineLearning\\venv\\Lib\\site-packages\\PIL\\ImageFile.py:135\u001b[39m, in \u001b[36mImageFile.__init__\u001b[39m\u001b[34m(self, fp, filename)\u001b[39m\n\u001b[32m    131\u001b[39m \u001b[38;5;28mself\u001b[39m.decodermaxblock = MAXBLOCK\n\u001b[32m    133\u001b[39m \u001b[38;5;28;01mif\u001b[39;00m is_path(fp):\n\u001b[32m    134\u001b[39m     \u001b[38;5;66;03m# filename\u001b[39;00m\n\u001b[32m--> \u001b[39m\u001b[32m135\u001b[39m     \u001b[38;5;28mself\u001b[39m.fp = \u001b[38;5;28;43mopen\u001b[39;49m\u001b[43m(\u001b[49m\u001b[43mfp\u001b[49m\u001b[43m,\u001b[49m\u001b[43m \u001b[49m\u001b[33;43m\"\u001b[39;49m\u001b[33;43mrb\u001b[39;49m\u001b[33;43m\"\u001b[39;49m\u001b[43m)\u001b[49m\n\u001b[32m    136\u001b[39m     \u001b[38;5;28mself\u001b[39m.filename = os.fspath(fp)\n\u001b[32m    137\u001b[39m     \u001b[38;5;28mself\u001b[39m._exclusive_fp = \u001b[38;5;28;01mTrue\u001b[39;00m\n",
      "\u001b[31mFileNotFoundError\u001b[39m: [Errno 2] No such file or directory: 'image/panda.png'"
     ]
    }
   ],
   "source": [
    "# To open the image wwe can use the matplotlib\n",
    "from matplotlib.image import imread\n",
    "panda = imread(\"image/panda.png\")\n",
    "panda"
   ]
  },
  {
   "cell_type": "markdown",
   "id": "d029bf9a",
   "metadata": {},
   "source": [
    "![alt text](panda.png)"
   ]
  },
  {
   "cell_type": "code",
   "execution_count": null,
   "id": "888b76ff",
   "metadata": {},
   "outputs": [
    {
     "data": {
      "text/plain": [
       "((2330, 3500, 3), 24465000, 3)"
      ]
     },
     "execution_count": 129,
     "metadata": {},
     "output_type": "execute_result"
    }
   ],
   "source": [
    "panda.shape,panda.size, panda.ndim"
   ]
  },
  {
   "cell_type": "code",
   "execution_count": null,
   "id": "52ce1255",
   "metadata": {},
   "outputs": [
    {
     "data": {
      "text/plain": [
       "array([[0., 0., 0., 0., 0., 0., 0., 0., 0., 0.],\n",
       "       [0., 0., 0., 0., 0., 0., 0., 0., 0., 0.],\n",
       "       [0., 0., 0., 0., 0., 0., 0., 0., 0., 0.],\n",
       "       [0., 0., 0., 0., 0., 0., 0., 0., 0., 0.],\n",
       "       [0., 0., 0., 0., 0., 0., 0., 0., 0., 0.],\n",
       "       [0., 0., 0., 0., 0., 0., 0., 0., 0., 0.],\n",
       "       [0., 0., 0., 0., 0., 0., 0., 0., 0., 0.],\n",
       "       [0., 0., 0., 0., 0., 0., 0., 0., 0., 0.],\n",
       "       [0., 0., 0., 0., 0., 0., 0., 0., 0., 0.],\n",
       "       [0., 0., 0., 0., 0., 0., 0., 0., 0., 0.]])"
      ]
     },
     "execution_count": 130,
     "metadata": {},
     "output_type": "execute_result"
    }
   ],
   "source": [
    "arr2d = np.zeros((10,10))\n",
    "arr2d"
   ]
  },
  {
   "cell_type": "code",
   "execution_count": null,
   "id": "4a4283f4",
   "metadata": {},
   "outputs": [
    {
     "data": {
      "text/plain": [
       "10"
      ]
     },
     "execution_count": 132,
     "metadata": {},
     "output_type": "execute_result"
    }
   ],
   "source": [
    "arr_length = arr2d.shape[1]\n",
    "arr_length"
   ]
  },
  {
   "cell_type": "code",
   "execution_count": null,
   "id": "023eb93f",
   "metadata": {},
   "outputs": [
    {
     "data": {
      "text/plain": [
       "array([[0., 0., 0., 0., 0., 0., 0., 0., 0., 0.],\n",
       "       [1., 1., 1., 1., 1., 1., 1., 1., 1., 1.],\n",
       "       [2., 2., 2., 2., 2., 2., 2., 2., 2., 2.],\n",
       "       [3., 3., 3., 3., 3., 3., 3., 3., 3., 3.],\n",
       "       [4., 4., 4., 4., 4., 4., 4., 4., 4., 4.],\n",
       "       [5., 5., 5., 5., 5., 5., 5., 5., 5., 5.],\n",
       "       [6., 6., 6., 6., 6., 6., 6., 6., 6., 6.],\n",
       "       [7., 7., 7., 7., 7., 7., 7., 7., 7., 7.],\n",
       "       [8., 8., 8., 8., 8., 8., 8., 8., 8., 8.],\n",
       "       [9., 9., 9., 9., 9., 9., 9., 9., 9., 9.]])"
      ]
     },
     "execution_count": 133,
     "metadata": {},
     "output_type": "execute_result"
    }
   ],
   "source": [
    "for i in range(arr_length):\n",
    "    arr2d[i] = i\n",
    "    \n",
    "arr2d"
   ]
  },
  {
   "cell_type": "code",
   "execution_count": null,
   "id": "4cbf44a6",
   "metadata": {},
   "outputs": [
    {
     "data": {
      "text/plain": [
       "array([[2., 2., 2., 2., 2., 2., 2., 2., 2., 2.],\n",
       "       [4., 4., 4., 4., 4., 4., 4., 4., 4., 4.],\n",
       "       [6., 6., 6., 6., 6., 6., 6., 6., 6., 6.],\n",
       "       [8., 8., 8., 8., 8., 8., 8., 8., 8., 8.]])"
      ]
     },
     "execution_count": 134,
     "metadata": {},
     "output_type": "execute_result"
    }
   ],
   "source": [
    "arr2d[[2,4,6,8]]"
   ]
  },
  {
   "cell_type": "code",
   "execution_count": null,
   "id": "e3da6199",
   "metadata": {},
   "outputs": [
    {
     "data": {
      "text/plain": [
       "array([ 1,  2,  3,  4,  5,  6,  7,  8,  9, 10])"
      ]
     },
     "execution_count": 135,
     "metadata": {},
     "output_type": "execute_result"
    }
   ],
   "source": [
    "arr = np.arange(1,11)\n",
    "arr"
   ]
  },
  {
   "cell_type": "code",
   "execution_count": null,
   "id": "93fcfdcb",
   "metadata": {},
   "outputs": [
    {
     "data": {
      "text/plain": [
       "array([False, False, False, False,  True,  True,  True,  True,  True,\n",
       "        True])"
      ]
     },
     "execution_count": 136,
     "metadata": {},
     "output_type": "execute_result"
    }
   ],
   "source": [
    "arr > 4"
   ]
  },
  {
   "cell_type": "code",
   "execution_count": null,
   "id": "785edd05",
   "metadata": {},
   "outputs": [
    {
     "data": {
      "text/plain": [
       "array([False, False, False, False,  True,  True,  True,  True,  True,\n",
       "        True])"
      ]
     },
     "execution_count": 138,
     "metadata": {},
     "output_type": "execute_result"
    }
   ],
   "source": [
    "bool_arr = arr>4\n",
    "bool_arr"
   ]
  },
  {
   "cell_type": "code",
   "execution_count": null,
   "id": "2eb43a3d",
   "metadata": {},
   "outputs": [
    {
     "data": {
      "text/plain": [
       "array([ 5,  6,  7,  8,  9, 10])"
      ]
     },
     "execution_count": 139,
     "metadata": {},
     "output_type": "execute_result"
    }
   ],
   "source": [
    "arr[bool_arr]"
   ]
  },
  {
   "cell_type": "markdown",
   "id": "9eece7d1",
   "metadata": {},
   "source": [
    "### Numpy Operation\n",
    "#### Arithmetic\n",
    "You can easily perform array with array arithmetic, or scalar with array arithmetic. Let's see some examples:\n"
   ]
  },
  {
   "cell_type": "code",
   "execution_count": null,
   "id": "5d22e68e",
   "metadata": {},
   "outputs": [],
   "source": [
    "arr = np.arange(0,10)"
   ]
  },
  {
   "cell_type": "code",
   "execution_count": null,
   "id": "889799ce",
   "metadata": {},
   "outputs": [
    {
     "data": {
      "text/plain": [
       "array([ 0,  2,  4,  6,  8, 10, 12, 14, 16, 18])"
      ]
     },
     "execution_count": 141,
     "metadata": {},
     "output_type": "execute_result"
    }
   ],
   "source": [
    "arr + arr"
   ]
  },
  {
   "cell_type": "code",
   "execution_count": null,
   "id": "cd5007a8",
   "metadata": {},
   "outputs": [
    {
     "data": {
      "text/plain": [
       "array([ 0,  1,  4,  9, 16, 25, 36, 49, 64, 81])"
      ]
     },
     "execution_count": 142,
     "metadata": {},
     "output_type": "execute_result"
    }
   ],
   "source": [
    "arr * arr"
   ]
  },
  {
   "cell_type": "code",
   "execution_count": null,
   "id": "14f3e285",
   "metadata": {},
   "outputs": [
    {
     "data": {
      "text/plain": [
       "array([0, 0, 0, 0, 0, 0, 0, 0, 0, 0])"
      ]
     },
     "execution_count": 143,
     "metadata": {},
     "output_type": "execute_result"
    }
   ],
   "source": [
    "arr - arr"
   ]
  },
  {
   "cell_type": "code",
   "execution_count": null,
   "id": "9d990002",
   "metadata": {},
   "outputs": [
    {
     "name": "stderr",
     "output_type": "stream",
     "text": [
      "C:\\Users\\Nirav\\AppData\\Local\\Temp\\ipykernel_3960\\751198033.py:1: RuntimeWarning: invalid value encountered in divide\n",
      "  arr/arr\n"
     ]
    },
    {
     "data": {
      "text/plain": [
       "array([nan,  1.,  1.,  1.,  1.,  1.,  1.,  1.,  1.,  1.])"
      ]
     },
     "execution_count": 144,
     "metadata": {},
     "output_type": "execute_result"
    }
   ],
   "source": [
    "\n",
    "arr/arr"
   ]
  },
  {
   "cell_type": "code",
   "execution_count": null,
   "id": "eef72db1",
   "metadata": {},
   "outputs": [
    {
     "name": "stderr",
     "output_type": "stream",
     "text": [
      "C:\\Users\\Nirav\\AppData\\Local\\Temp\\ipykernel_3960\\1360216608.py:2: RuntimeWarning: divide by zero encountered in divide\n",
      "  1/arr\n"
     ]
    },
    {
     "data": {
      "text/plain": [
       "array([       inf, 1.        , 0.5       , 0.33333333, 0.25      ,\n",
       "       0.2       , 0.16666667, 0.14285714, 0.125     , 0.11111111])"
      ]
     },
     "execution_count": 145,
     "metadata": {},
     "output_type": "execute_result"
    }
   ],
   "source": [
    "# Also warning, but not an error instead infinity\n",
    "1/arr"
   ]
  },
  {
   "cell_type": "code",
   "execution_count": null,
   "id": "67f71738",
   "metadata": {},
   "outputs": [
    {
     "data": {
      "text/plain": [
       "array([  0,   1,   8,  27,  64, 125, 216, 343, 512, 729])"
      ]
     },
     "execution_count": 146,
     "metadata": {},
     "output_type": "execute_result"
    }
   ],
   "source": [
    "arr**3"
   ]
  },
  {
   "cell_type": "markdown",
   "id": "728efdfa",
   "metadata": {},
   "source": [
    "#### Universal Array Functions¶\n",
    "Numpy comes with many universal array functions, which are essentially just mathematical operations you can use to perform the operation across the array. Let's show some common ones:"
   ]
  },
  {
   "cell_type": "code",
   "execution_count": null,
   "id": "25a239b7",
   "metadata": {},
   "outputs": [
    {
     "data": {
      "text/plain": [
       "array([0.        , 1.        , 1.41421356, 1.73205081, 2.        ,\n",
       "       2.23606798, 2.44948974, 2.64575131, 2.82842712, 3.        ])"
      ]
     },
     "execution_count": 147,
     "metadata": {},
     "output_type": "execute_result"
    }
   ],
   "source": [
    "np.sqrt(arr)"
   ]
  },
  {
   "cell_type": "code",
   "execution_count": null,
   "id": "bb86d491",
   "metadata": {},
   "outputs": [
    {
     "data": {
      "text/plain": [
       "array([1.00000000e+00, 2.71828183e+00, 7.38905610e+00, 2.00855369e+01,\n",
       "       5.45981500e+01, 1.48413159e+02, 4.03428793e+02, 1.09663316e+03,\n",
       "       2.98095799e+03, 8.10308393e+03])"
      ]
     },
     "execution_count": 148,
     "metadata": {},
     "output_type": "execute_result"
    }
   ],
   "source": [
    "np.exp(arr)"
   ]
  },
  {
   "cell_type": "code",
   "execution_count": null,
   "id": "9a32ccef",
   "metadata": {},
   "outputs": [
    {
     "data": {
      "text/plain": [
       "array([ 0.        ,  0.84147098,  0.90929743,  0.14112001, -0.7568025 ,\n",
       "       -0.95892427, -0.2794155 ,  0.6569866 ,  0.98935825,  0.41211849])"
      ]
     },
     "execution_count": 149,
     "metadata": {},
     "output_type": "execute_result"
    }
   ],
   "source": [
    "np.sin(arr)"
   ]
  },
  {
   "cell_type": "code",
   "execution_count": null,
   "id": "f344ff8a",
   "metadata": {},
   "outputs": [
    {
     "name": "stderr",
     "output_type": "stream",
     "text": [
      "C:\\Users\\Nirav\\AppData\\Local\\Temp\\ipykernel_3960\\3120950136.py:1: RuntimeWarning: divide by zero encountered in log\n",
      "  np.log(arr)\n"
     ]
    },
    {
     "data": {
      "text/plain": [
       "array([      -inf, 0.        , 0.69314718, 1.09861229, 1.38629436,\n",
       "       1.60943791, 1.79175947, 1.94591015, 2.07944154, 2.19722458])"
      ]
     },
     "execution_count": 150,
     "metadata": {},
     "output_type": "execute_result"
    }
   ],
   "source": [
    "np.log(arr)"
   ]
  },
  {
   "cell_type": "markdown",
   "id": "49361116",
   "metadata": {},
   "source": [
    "#### FizzBuzz\n"
   ]
  },
  {
   "cell_type": "code",
   "execution_count": null,
   "id": "dc4a797c",
   "metadata": {},
   "outputs": [
    {
     "name": "stdout",
     "output_type": "stream",
     "text": [
      "Fizz\n",
      "ZZZZZZZ\n",
      "ZZZZZZZ\n",
      "Buzz\n",
      "ZZZZZZZ\n",
      "ZZZZZZZ\n",
      "Fizz\n",
      "ZZZZZZZ\n",
      "ZZZZZZZ\n",
      "Buzz\n",
      "[84  7 67 85 91 67 84 71 83 95]\n"
     ]
    }
   ],
   "source": [
    "list1 = np. random.randint(0,100,10)\n",
    "\n",
    "for i in range(len(list1)):\n",
    "    if list1[i] %  3 == 0 and list1[i]% 5==0:\n",
    "        print(\"Fizzbuzz\")\n",
    "    elif list1[i] %  3 == 0:\n",
    "        print(\"Fizz\")\n",
    "    elif list1[i] %  5 == 0:\n",
    "        print(\"Buzz\")\n",
    "    else:\n",
    "        print(\"ZZZZZZZ\")\n",
    "\n",
    "print(list1)"
   ]
  },
  {
   "cell_type": "code",
   "execution_count": null,
   "id": "4c3fd1ac",
   "metadata": {},
   "outputs": [
    {
     "data": {
      "image/png": "[encoded data removed]",
      "text/plain": [
       "<Figure size 500x500 with 1 Axes>"
      ]
     },
     "metadata": {},
     "output_type": "display_data"
    },
    {
     "name": "stdout",
     "output_type": "stream",
     "text": [
      "[-0.46341769 -0.46572975  0.24196227 -1.91328024 -1.72491783 -0.56228753\n",
      " -1.01283112  0.31424733 -0.90802408 -1.4123037 ]\n"
     ]
    }
   ],
   "source": [
    "from numpy import random\n",
    "import matplotlib.pyplot as plt\n",
    "import seaborn as sns\n",
    "np.random.seed(42)\n",
    "sns.displot(random.normal(size=10), kind=\"kde\")\n",
    "x = random.normal(size=10)\n",
    "plt.show()\n",
    "print(x)"
   ]
  },
  {
   "cell_type": "code",
   "execution_count": null,
   "id": "c089b6aa",
   "metadata": {},
   "outputs": [
    {
     "data": {
      "image/png": "[encoded data removed]",
      "text/plain": [
       "<Figure size 500x500 with 1 Axes>"
      ]
     },
     "metadata": {},
     "output_type": "display_data"
    }
   ],
   "source": [
    "from numpy import random\n",
    "import matplotlib.pyplot as plt\n",
    "import seaborn as sns\n",
    "# Given 10 trials for coin toss generate 1000 data points\n",
    "sns.displot(random.binomial(n=10, p=0.5, size=1000))\n",
    "\n",
    "plt.show()"
   ]
  },
  {
   "cell_type": "markdown",
   "id": "333e072e",
   "metadata": {},
   "source": [
    "### Difference Between Normal and Binomial Distribution\n",
    "The main difference is that normal distribution is continous whereas binomial is discrete, but if there are enough data points it will be quite similar to normal distribution with certain loc and scale."
   ]
  },
  {
   "cell_type": "code",
   "execution_count": null,
   "id": "bc5c418f",
   "metadata": {},
   "outputs": [
    {
     "data": {
      "image/png": "[encoded data removed]",
      "text/plain": [
       "<Figure size 609.875x500 with 1 Axes>"
      ]
     },
     "metadata": {},
     "output_type": "display_data"
    }
   ],
   "source": [
    "import seaborn as sns\n",
    "data = {\n",
    "    \"normal\": random.normal(loc= 50, scale =5, size=1000 ),\n",
    "    \"binomial\": random.binomial(n=100 , p= 0.5, size=1000)\n",
    "}\n",
    "sns.displot(data,kind=\"kde\")\n",
    "plt.show()"
   ]
  },
  {
   "cell_type": "markdown",
   "id": "832497d8",
   "metadata": {},
   "source": [
    "### Binomial Distribution Examples (Discrete outcomes)\n",
    "- Quality Control in Manufacturing: A factory produces light bulbs, and each bulb has a probability of being defective. If 100 bulbs are tested, the number of defective bulbs follows a binomial distribution.\n",
    "- Email Spam Detection: Suppose an email filter identifies spam messages with an 80% accuracy rate. If 20 emails are checked, the number of correctly identified spam messages is binomially distributed.\n",
    "- Sports Wins/Losses: A basketball player makes a free throw with a probability of 75%. If they attempt 10 free throws, the number of successful shots follows a binomial distribution.\n",
    "Normal Distribution Examples (Continuous outcomes)\n",
    "- Human Body Temperature: The body temperature of healthy adults typically follows a normal distribution, with an average of around 98.6°F and a small standard deviation.\n",
    "- Student Exam Scores: If a large number of students take a standardized test, their scores tend to form a bell-shaped curve, with most students scoring near the average and fewer students at the extremes.\n",
    "- Height of People: The heights of adults in a given population tend to follow a normal distribution, with most people clustered around the mean height.\n",
    "The key difference remains that binomial distributions deal with distinct success/failure outcomes, while normal distributions represent continuous data.\n"
   ]
  },
  {
   "cell_type": "markdown",
   "id": "a1359b30",
   "metadata": {},
   "source": [
    "### Poisson distribution\n",
    "The Poisson distribution is a probability distribution that describes the number of events occurring within a fixed interval (time, space, etc.), given that the events happen independently and at a constant average rate. It is commonly used for modeling rare or random occurrences.\n",
    "Key Features of Poisson Distribution\n",
    "- Discrete Distribution: It models the probability of discrete events occurring (like calls to a helpline or arrivals at a store).\n",
    "- Parameter ((\\lambda)): The distribution is characterized by (\\lambda), which represents the expected number of occurrences in a given interval.\n",
    "- Formula: [ P(X = k) = \\frac{e^{-\\lambda} \\lambda^k}{k!} ] where:\n",
    "- ( k ) is the number of occurrences.\n",
    "- ( \\lambda ) is the mean number of occurrences.\n",
    "- ( e ) is Euler’s number (~2.718).\n",
    "\n",
    "Real-World Example\n",
    "Imagine a call center receives an average of 5 calls per hour. If we want to find the probability of receiving exactly 3 calls in an hour, we use: [ P(X = 3) = \\frac{e^{-5} 5^3}{3!} ]\n",
    "Python Code for Visualization\n",
    "Below is Python code to plot a Poisson distribution for (\\lambda = 5):\n"
   ]
  },
  {
   "cell_type": "code",
   "execution_count": null,
   "id": "16245e3f",
   "metadata": {},
   "outputs": [
    {
     "data": {
      "image/png": "[encoded data removed]",
      "text/plain": [
       "<Figure size 640x480 with 1 Axes>"
      ]
     },
     "metadata": {},
     "output_type": "display_data"
    },
    {
     "name": "stdout",
     "output_type": "stream",
     "text": [
      "[0.00673795 0.03368973 0.08422434 0.1403739  0.17546737 0.17546737\n",
      " 0.14622281 0.10444486 0.06527804 0.03626558 0.01813279 0.00824218\n",
      " 0.00343424 0.00132086 0.00047174]\n"
     ]
    }
   ],
   "source": [
    "import numpy as np\n",
    "import matplotlib.pyplot as plt\n",
    "from scipy.stats import poisson\n",
    "\n",
    "lamda = 5 # Set mean number of occurance \n",
    "x= np.arange(0,15) # possible value of x\n",
    "y = poisson.pmf(x, lamda)\n",
    "\n",
    "plt.bar(x, y, color='blue', alpha=0.5, label=f'Poisson (λ={lamda})') #alpha is for visual\n",
    "plt.xlabel('Number of Events')\n",
    "plt.ylabel('Probability')\n",
    "plt.title('Poisson Distribution')\n",
    "plt.legend()\n",
    "plt.grid()\n",
    "plt.show()\n",
    "print(y)"
   ]
  },
  {
   "cell_type": "code",
   "execution_count": null,
   "id": "bfa6a363",
   "metadata": {},
   "outputs": [
    {
     "data": {
      "text/plain": [
       "np.float64(0.9997737463238228)"
      ]
     },
     "execution_count": 84,
     "metadata": {},
     "output_type": "execute_result"
    }
   ],
   "source": [
    "sum(y)"
   ]
  },
  {
   "cell_type": "markdown",
   "id": "4159e23b",
   "metadata": {},
   "source": [
    "Think of this as the probability of a single event happening, like how likely it is that exactly 3 calls occur in an hour at a call center. The chances of any particular event (0 calls, 1 call, 2 calls, etc.) are relatively small, but their combined probability adds up to nearly 1.\n"
   ]
  },
  {
   "cell_type": "markdown",
   "id": "4ec574fa",
   "metadata": {},
   "source": [
    "### Uniform Distribution \n",
    "\n",
    "Used to describe probability where every event has equal chances of occuring.\n",
    "\n",
    "E.g. Generation of random numbers.\n",
    "\n",
    "It has three parameters:\n",
    "\n",
    "low - lower bound - default 0 .0.\n",
    "\n",
    "high - upper bound - default 1.0.\n",
    "\n",
    "size - The shape of the returned array."
   ]
  },
  {
   "cell_type": "code",
   "execution_count": null,
   "id": "47b22d36",
   "metadata": {},
   "outputs": [
    {
     "name": "stdout",
     "output_type": "stream",
     "text": [
      "[[0.39037645 0.4157748  0.4691775 ]\n",
      " [0.36770851 0.10061998 0.30963181]]\n"
     ]
    }
   ],
   "source": [
    "from numpy import random\n",
    "\n",
    "x = random.uniform(size=(2, 3))\n",
    "\n",
    "print(x)"
   ]
  },
  {
   "cell_type": "code",
   "execution_count": null,
   "id": "285bf8f5",
   "metadata": {},
   "outputs": [
    {
     "data": {
      "image/png": "[encoded data removed]",
      "text/plain": [
       "<Figure size 500x500 with 1 Axes>"
      ]
     },
     "metadata": {},
     "output_type": "display_data"
    }
   ],
   "source": [
    "from numpy import random\n",
    "import matplotlib.pyplot as plt\n",
    "import seaborn as sns\n",
    "\n",
    "sns.displot(random.uniform(size=1000), kind=\"kde\")\n",
    "\n",
    "plt.show()"
   ]
  },
  {
   "cell_type": "code",
   "execution_count": null,
   "id": "f91ae793",
   "metadata": {},
   "outputs": [
    {
     "data": {
      "image/png": "[encoded data removed]",
      "text/plain": [
       "<Figure size 640x480 with 1 Axes>"
      ]
     },
     "metadata": {},
     "output_type": "display_data"
    }
   ],
   "source": [
    "import numpy as np\n",
    "import matplotlib.pyplot as plt\n",
    "from scipy.stats import poisson\n",
    "\n",
    "# Set Poisson distribution parameters\n",
    "lambda_value = 400\n",
    "x = np.arange(0, 1000)  # Possible event counts\n",
    "y = poisson.pmf(x, lambda_value)  # Poisson probability values\n",
    "\n",
    "# Create scatter plot\n",
    "plt.scatter(x, y, color='blue', marker='o', label='Poisson PMF values')\n",
    "\n",
    "# Label the graph\n",
    "plt.xlabel('Number of Events')\n",
    "plt.ylabel('Probability')\n",
    "plt.title('Scatter Plot of Poisson Distribution')\n",
    "plt.legend()\n",
    "plt.grid()\n",
    "\n",
    "# Show the plot\n",
    "plt.show()"
   ]
  },
  {
   "cell_type": "markdown",
   "id": "26cf0021",
   "metadata": {},
   "source": [
    "### Logistic Distribution\n",
    "Logistic Distribution is used to describe growth.\n",
    "\n",
    "Used extensively in machine learning in logistic regression, neural networks etc.\n",
    "\n",
    "It has three parameters:\n",
    "\n",
    "loc - mean, where the peak is. Default 0.\n",
    "\n",
    "scale - standard deviation, the flatness of distribution. Default 1.\n",
    "\n",
    "size - The shape of the returned array."
   ]
  },
  {
   "cell_type": "code",
   "execution_count": null,
   "id": "b48d7561",
   "metadata": {},
   "outputs": [
    {
     "data": {
      "image/png": "[encoded data removed]",
      "text/plain": [
       "<Figure size 500x500 with 1 Axes>"
      ]
     },
     "metadata": {},
     "output_type": "display_data"
    }
   ],
   "source": [
    "from numpy import random\n",
    "import matplotlib.pyplot as plt\n",
    "import seaborn as sns\n",
    "\n",
    "sns.displot(random.logistic(size=1000), kind=\"kde\")\n",
    "\n",
    "plt.show()"
   ]
  },
  {
   "cell_type": "code",
   "execution_count": null,
   "id": "110cf994",
   "metadata": {},
   "outputs": [
    {
     "data": {
      "image/png": "[encoded data removed]",
      "text/plain": [
       "<Figure size 599.25x500 with 1 Axes>"
      ]
     },
     "metadata": {},
     "output_type": "display_data"
    }
   ],
   "source": [
    "# difference between normal and logistic\n",
    "\n",
    "from numpy import random\n",
    "import matplotlib.pyplot as plt\n",
    "import seaborn as sns\n",
    "\n",
    "data = {\n",
    "  \"normal\": random.normal(scale=2, size=1000),\n",
    "  \"logistic\": random.logistic(size=1000)\n",
    "}\n",
    "\n",
    "sns.displot(data, kind=\"kde\")\n",
    "\n",
    "plt.show()"
   ]
  },
  {
   "cell_type": "markdown",
   "id": "b7a5f3eb",
   "metadata": {},
   "source": [
    "The Logistic distribution is a continuous probability distribution. It's similar to the normal distribution in shape but has heavier tails (more kurtosis), which makes it useful in certain statistical models.\n",
    "\n",
    "✅ Probability Density Function (PDF)\n",
    "The PDF of a logistic distribution is:\n",
    "\n",
    "𝑓\n",
    "(\n",
    "𝑥\n",
    ";\n",
    "𝜇\n",
    ",\n",
    "𝑠\n",
    ")\n",
    "=\n",
    "𝑒\n",
    "−\n",
    "(\n",
    "𝑥\n",
    "−\n",
    "𝜇\n",
    ")\n",
    "/\n",
    "𝑠\n",
    "𝑠\n",
    "(\n",
    "1\n",
    "+\n",
    "𝑒\n",
    "−\n",
    "(\n",
    "𝑥\n",
    "−\n",
    "𝜇\n",
    ")\n",
    "/\n",
    "𝑠\n",
    ")\n",
    "2\n",
    "f(x;μ,s)= \n",
    "s(1+e \n",
    "−(x−μ)/s\n",
    " ) \n",
    "2\n",
    " \n",
    "e \n",
    "−(x−μ)/s\n",
    " \n",
    "​\n",
    " \n",
    "Where:\n",
    "\n",
    "𝜇\n",
    "μ: location (mean)\n",
    "\n",
    "𝑠\n",
    "s: scale (> 0)\n",
    "\n",
    "𝑥\n",
    "x: the variable\n",
    "\n",
    "✅ Cumulative Distribution Function (CDF)\n",
    "The CDF is:\n",
    "\n",
    "𝐹\n",
    "(\n",
    "𝑥\n",
    ";\n",
    "𝜇\n",
    ",\n",
    "𝑠\n",
    ")\n",
    "=\n",
    "1\n",
    "1\n",
    "+\n",
    "𝑒\n",
    "−\n",
    "(\n",
    "𝑥\n",
    "−\n",
    "𝜇\n",
    ")\n",
    "/\n",
    "𝑠\n",
    "F(x;μ,s)= \n",
    "1+e \n",
    "−(x−μ)/s\n",
    " \n",
    "1\n",
    "​\n",
    " \n",
    "Note: This is the sigmoid function, which is why the logistic distribution connects to logistic regression.\n",
    "\n"
   ]
  },
  {
   "cell_type": "code",
   "execution_count": null,
   "id": "6c2c41b6",
   "metadata": {},
   "outputs": [
    {
     "data": {
      "image/png": "[encoded data removed]",
      "text/plain": [
       "<Figure size 1200x500 with 2 Axes>"
      ]
     },
     "metadata": {},
     "output_type": "display_data"
    },
    {
     "name": "stdout",
     "output_type": "stream",
     "text": [
      "Sample Mean: 0.029963879271832524\n",
      "Sample Variance: 3.345607034276211\n"
     ]
    }
   ],
   "source": [
    "import numpy as np\n",
    "import matplotlib.pyplot as plt\n",
    "from scipy.stats import logistic\n",
    "\n",
    "# Parameters\n",
    "mu = 0     # location (mean)\n",
    "s = 1      # scale\n",
    "\n",
    "# Generate x values\n",
    "x = np.linspace(-10, 10, 1000)\n",
    "\n",
    "# PDF and CDF\n",
    "pdf = logistic.pdf(x, loc=mu, scale=s)\n",
    "cdf = logistic.cdf(x, loc=mu, scale=s)\n",
    "\n",
    "# Plotting PDF and CDF\n",
    "plt.figure(figsize=(12, 5))\n",
    "\n",
    "# PDF plot\n",
    "plt.subplot(1, 2, 1)\n",
    "plt.plot(x, pdf, label='PDF', color='blue')\n",
    "plt.title('Logistic Distribution - PDF')\n",
    "plt.xlabel('x')\n",
    "plt.ylabel('Density')\n",
    "plt.grid(True)\n",
    "\n",
    "# CDF plot\n",
    "plt.subplot(1, 2, 2)\n",
    "plt.plot(x, cdf, label='CDF', color='green')\n",
    "plt.title('Logistic Distribution - CDF')\n",
    "plt.xlabel('x')\n",
    "plt.ylabel('Cumulative Probability')\n",
    "plt.grid(True)\n",
    "\n",
    "plt.tight_layout()\n",
    "plt.show()\n",
    "\n",
    "# Generate random samples\n",
    "samples = logistic.rvs(loc=mu, scale=s, size=10000)\n",
    "\n",
    "# Summary statistics\n",
    "print(\"Sample Mean:\", np.mean(samples))\n",
    "print(\"Sample Variance:\", np.var(samples))\n"
   ]
  },
  {
   "cell_type": "markdown",
   "id": "492345f5",
   "metadata": {},
   "source": [
    "🧪 Example: Binary Classification with Logistic Regression (Titanic-style data)\n",
    "We’ll:\n",
    "\n",
    "Generate synthetic binary classification data\n",
    "\n",
    "Train a logistic regression model\n",
    "\n",
    "Use the logistic (sigmoid) function\n",
    "\n",
    "Show probabilities (from logistic distribution)"
   ]
  },
  {
   "cell_type": "code",
   "execution_count": null,
   "id": "bb973b1f",
   "metadata": {},
   "outputs": [
    {
     "name": "stdout",
     "output_type": "stream",
     "text": [
      "Classification Report:\n",
      "               precision    recall  f1-score   support\n",
      "\n",
      "           0       0.85      0.93      0.89       147\n",
      "           1       0.93      0.84      0.88       153\n",
      "\n",
      "    accuracy                           0.88       300\n",
      "   macro avg       0.89      0.88      0.88       300\n",
      "weighted avg       0.89      0.88      0.88       300\n",
      "\n",
      "Confusion Matrix:\n",
      " [[137  10]\n",
      " [ 25 128]]\n"
     ]
    },
    {
     "data": {
      "image/png": "[encoded data removed]",
      "text/plain": [
       "<Figure size 800x600 with 2 Axes>"
      ]
     },
     "metadata": {},
     "output_type": "display_data"
    }
   ],
   "source": [
    "import numpy as np\n",
    "import matplotlib.pyplot as plt\n",
    "from sklearn.datasets import make_classification\n",
    "from sklearn.linear_model import LogisticRegression\n",
    "from sklearn.model_selection import train_test_split\n",
    "from sklearn.metrics import classification_report, confusion_matrix\n",
    "\n",
    "# Step 1: Generate binary classification dataset\n",
    "X, y = make_classification(n_samples=1000, n_features=2, \n",
    "                           n_redundant=0, n_informative=2,\n",
    "                           random_state=42, n_clusters_per_class=1)\n",
    "\n",
    "# Step 2: Split into train and test\n",
    "X_train, X_test, y_train, y_test = train_test_split(X, y, test_size=0.3, random_state=42)\n",
    "\n",
    "# Step 3: Train logistic regression model\n",
    "model = LogisticRegression()\n",
    "model.fit(X_train, y_train)\n",
    "\n",
    "# Step 4: Predict probabilities (logistic function output)\n",
    "y_probs = model.predict_proba(X_test)[:, 1]  # Probability of class 1\n",
    "y_pred = model.predict(X_test)\n",
    "\n",
    "# Step 5: Evaluate model\n",
    "print(\"Classification Report:\\n\", classification_report(y_test, y_pred))\n",
    "print(\"Confusion Matrix:\\n\", confusion_matrix(y_test, y_pred))\n",
    "\n",
    "# Step 6: Visualize probabilities and decision boundary\n",
    "plt.figure(figsize=(8, 6))\n",
    "\n",
    "# Scatter plot with color by true label\n",
    "plt.scatter(X_test[:, 0], X_test[:, 1], c=y_probs, cmap='coolwarm', edgecolors='k')\n",
    "plt.colorbar(label=\"Predicted Probability (Class 1)\")\n",
    "plt.title(\"Logistic Regression - Probabilities via Logistic Distribution\")\n",
    "plt.xlabel(\"Feature 1\")\n",
    "plt.ylabel(\"Feature 2\")\n",
    "plt.grid(True)\n",
    "plt.show()\n"
   ]
  },
  {
   "cell_type": "markdown",
   "id": "e40bbcd0",
   "metadata": {},
   "source": [
    " When to Use This Model?\n",
    "Use logistic regression with logistic distribution when:\n",
    "\n",
    "The target is binary (yes/no, true/false, 0/1)\n",
    "\n",
    "You need probabilistic outputs\n",
    "\n",
    "You want a simple, interpretable model\n",
    "\n",
    "Common examples:\n",
    "\n",
    "Email spam classification\n",
    "\n",
    "Disease prediction (sick/not sick)\n",
    "\n",
    "Customer churn prediction (leave/stay)\n",
    "\n",
    "✅ Summary\n",
    "sklearn.LogisticRegression uses the logistic distribution via the sigmoid function.\n",
    "\n",
    "This example trains a model, predicts probabilities, and shows how it maps to the logistic curve.\n",
    "\n",
    "It’s a core method for many binary classification tasks.\n",
    "\n"
   ]
  },
  {
   "cell_type": "markdown",
   "id": "fa2af528",
   "metadata": {},
   "source": [
    "### Multinomial Distribution\n",
    "Multinomial distribution is a generalization of binomial distribution.\n",
    "\n",
    "It describes outcomes of multi-nomial scenarios unlike binomial where scenarios must be only one of two. e.g. Blood type of a population, dice roll outcome.\n",
    "\n",
    "It has three parameters:\n",
    "\n",
    "n - number of times to run the experiment.\n",
    "\n",
    "pvals - list of probabilties of outcomes (e.g. [1/6, 1/6, 1/6, 1/6, 1/6, 1/6] for dice roll).\n",
    "\n",
    "size - The shape of the returned array."
   ]
  },
  {
   "cell_type": "code",
   "execution_count": null,
   "id": "fc222d2d",
   "metadata": {},
   "outputs": [
    {
     "name": "stdout",
     "output_type": "stream",
     "text": [
      "Dice face counts (1 to 6): [173 169 164 163 180 151]\n",
      "Total rolls: 1000\n"
     ]
    },
    {
     "data": {
      "image/png": "[encoded data removed]",
      "text/plain": [
       "<Figure size 640x480 with 1 Axes>"
      ]
     },
     "metadata": {},
     "output_type": "display_data"
    }
   ],
   "source": [
    "import numpy as np\n",
    "\n",
    "# Simulate rolling a fair 6-sided die 1000 times\n",
    "n_trials = 1000\n",
    "probabilities = [1/6] * 6  # Equal chance for each face\n",
    "\n",
    "# Perform the simulation once\n",
    "outcomes = np.random.multinomial(n_trials, probabilities)\n",
    "\n",
    "print(\"Dice face counts (1 to 6):\", outcomes)\n",
    "print(\"Total rolls:\", np.sum(outcomes))  # Should equal 1000\n",
    "faces = ['1', '2', '3', '4', '5', '6']\n",
    "plt.bar(faces, outcomes, color='skyblue')\n",
    "plt.title(\"Outcome of 1000 Dice Rolls\")\n",
    "plt.xlabel(\"Dice Face\")\n",
    "plt.ylabel(\"Frequency\")\n",
    "plt.grid(axis='y')\n",
    "plt.show()"
   ]
  },
  {
   "cell_type": "markdown",
   "id": "d18e13fb",
   "metadata": {},
   "source": [
    "### Exponential Distribution\n",
    "Exponential distribution is used for describing time till next event e.g. failure/success etc.\n",
    "\n",
    "It has two parameters:\n",
    "\n",
    "scale - inverse of rate ( see lam in poisson distribution ) defaults to 1.0.\n",
    "\n",
    "size - The shape of the returned array."
   ]
  },
  {
   "cell_type": "code",
   "execution_count": null,
   "id": "355a2d5d",
   "metadata": {},
   "outputs": [
    {
     "name": "stdout",
     "output_type": "stream",
     "text": [
      "[[5.23386772 2.42175489 1.06896628]\n",
      " [1.82449256 1.12344794 1.2522456 ]]\n"
     ]
    }
   ],
   "source": [
    "from numpy import random\n",
    "\n",
    "x = random.exponential(scale=2, size=(2, 3))\n",
    "\n",
    "print(x)"
   ]
  },
  {
   "cell_type": "code",
   "execution_count": null,
   "id": "a62edb05",
   "metadata": {},
   "outputs": [
    {
     "data": {
      "image/png": "[encoded data removed]",
      "text/plain": [
       "<Figure size 500x500 with 1 Axes>"
      ]
     },
     "metadata": {},
     "output_type": "display_data"
    }
   ],
   "source": [
    "from numpy import random\n",
    "import matplotlib.pyplot as plt\n",
    "import seaborn as sns\n",
    "\n",
    "sns.displot(random.exponential(size=1000), kind=\"kde\")\n",
    "\n",
    "plt.show()"
   ]
  },
  {
   "cell_type": "markdown",
   "id": "0c424314",
   "metadata": {},
   "source": [
    "The Exponential distribution models the time between events in a process where events happen continuously and independently at a constant average rate.\n",
    "\n",
    "🧠 In Simple Terms:\n",
    "\"How long do I have to wait until the next event happens?\"\n",
    "\n",
    "For example:\n",
    "\n",
    "Time between bus arrivals\n",
    "\n",
    "Time until light bulb fails\n",
    "\n",
    "Time until next earthquake in a region"
   ]
  },
  {
   "cell_type": "code",
   "execution_count": null,
   "id": "f32a617b",
   "metadata": {},
   "outputs": [
    {
     "data": {
      "image/png": "[encoded data removed]",
      "text/plain": [
       "<Figure size 640x480 with 1 Axes>"
      ]
     },
     "metadata": {},
     "output_type": "display_data"
    }
   ],
   "source": [
    "import numpy as np\n",
    "import matplotlib.pyplot as plt\n",
    "\n",
    "# Set random seed for reproducibility\n",
    "np.random.seed(42)\n",
    "\n",
    "# Parameters\n",
    "lambda_rate = 0.5  # event happens on average every 2 units of time\n",
    "sample_size = 1000\n",
    "\n",
    "# Generate random samples\n",
    "samples = np.random.exponential(scale=1/lambda_rate, size=sample_size)\n",
    "\n",
    "# Plot histogram\n",
    "plt.hist(samples, bins=50, density=True, alpha=0.7, color='skyblue', edgecolor='black')\n",
    "plt.title(\"Exponential Distribution (λ = 0.5)\")\n",
    "plt.xlabel(\"Time until next event\")\n",
    "plt.ylabel(\"Probability Density\")\n",
    "plt.grid(True)\n",
    "plt.show()\n"
   ]
  },
  {
   "cell_type": "markdown",
   "id": "46144e1b",
   "metadata": {},
   "source": [
    "Use Cases of Exponential Distribution\n",
    "✅ Real-World Applications:\n",
    "Reliability Engineering:\n",
    "\n",
    "Time until a system component fails (like electronics or machines)\n",
    "\n",
    "Queueing Theory:\n",
    "\n",
    "Time between customers arriving at a service desk\n",
    "\n",
    "Survival Analysis:\n",
    "\n",
    "Time until death or failure in biological or mechanical systems\n",
    "\n",
    "Poisson Process:\n",
    "\n",
    "If events follow a Poisson distribution over time, then the time between events is exponential."
   ]
  },
  {
   "cell_type": "markdown",
   "id": "4e8fff2e",
   "metadata": {},
   "source": [
    "Feature \t    Exponential Distribution\t        Poisson Distribution\n",
    "\n",
    "Models\t         Time between events\t            Number of events in fixed time\n",
    "\n",
    "Continuous \n",
    "\n",
    "or Discrete?\t      Continuous\t                        Discrete\n",
    "\n",
    "Parameter\t            λ (rate)                            λ (rate)\t\n",
    "\n",
    "\n",
    "Python function\tnp.random.exponential()\tnp.random.poisson()"
   ]
  },
  {
   "cell_type": "markdown",
   "id": "37b595c5",
   "metadata": {},
   "source": [
    "### What is the Chi-Square Distribution?\n",
    "\n",
    "The Chi-Square distribution is a continuous probability distribution often used in hypothesis testing and confidence interval estimation, especially for:\n",
    "\n",
    "Variances\n",
    "\n",
    "Goodness of fit\n",
    "\n",
    "Independence in contingency tables\n",
    "\n",
    "\n",
    "🧠 Intuition:\n",
    "It arises naturally when you sum the squares of independent standard normal variables.\n",
    "\n",
    "\n",
    "If you square \n",
    "𝑘\n",
    "k standard normal variables \n",
    "𝑍\n",
    "1\n",
    ",\n",
    "𝑍\n",
    "2\n",
    ",\n",
    ".\n",
    ".\n",
    ".\n",
    ",\n",
    "𝑍\n",
    "𝑘\n",
    "Z \n",
    "1\n",
    "​\n",
    " ,Z \n",
    "2\n",
    "​\n",
    " ,...,Z \n",
    "k\n",
    "​\n",
    " :\n",
    "\n",
    "𝑋\n",
    "=\n",
    "𝑍\n",
    "1\n",
    "2\n",
    "+\n",
    "𝑍\n",
    "2\n",
    "2\n",
    "+\n",
    "⋯\n",
    "+\n",
    "𝑍\n",
    "𝑘\n",
    "2\n",
    "X=Z \n",
    "1\n",
    "2\n",
    "​\n",
    " +Z \n",
    "2\n",
    "2\n",
    "​\n",
    " +⋯+Z \n",
    "k\n",
    "2\n",
    "​\n",
    " \n",
    "\n",
    "Then \n",
    "𝑋\n",
    "X follows a chi-square distribution with \n",
    "𝑘\n",
    "k degrees of freedom.\n",
    "\n",
    "\n",
    "🔧 Parameters\n",
    "Degrees of freedom (df or \n",
    "𝑘\n",
    "k): the number of independent standard normal variables you're summing.\n",
    "\n",
    "\n",
    "📈 Shape of the Distribution\n",
    "Skewed to the right (especially at low df)\n",
    "\n",
    "\n",
    "As df increases, it becomes more symmetric (approaching a normal distribution)\n",
    "\n",
    "\n",
    "📊 Common Uses\n",
    "Chi-Square Goodness-of-Fit Test\n",
    "\n",
    "\n",
    "Does observed data match expected frequencies?\n",
    "\n",
    "\n",
    "Chi-Square Test for Independence\n",
    "\n",
    "\n",
    "Are two categorical variables independent?\n",
    "\n",
    "\n",
    "Variance Testing\n",
    "\n",
    "Used to construct confidence intervals or test hypotheses about variances."
   ]
  },
  {
   "cell_type": "code",
   "execution_count": null,
   "id": "5017947f",
   "metadata": {},
   "outputs": [
    {
     "data": {
      "image/png": "[encoded data removed]",
      "text/plain": [
       "<Figure size 640x480 with 1 Axes>"
      ]
     },
     "metadata": {},
     "output_type": "display_data"
    }
   ],
   "source": [
    "import numpy as np\n",
    "import matplotlib.pyplot as plt\n",
    "from scipy.stats import chi2\n",
    "\n",
    "# Degrees of freedom\n",
    "df = 4\n",
    "\n",
    "# Generate data\n",
    "sample = np.random.chisquare(df, size=1000)\n",
    "\n",
    "# Plot histogram and theoretical PDF\n",
    "x = np.linspace(0, 20, 500)\n",
    "pdf = chi2.pdf(x, df)\n",
    "\n",
    "plt.hist(sample, bins=50, density=True, alpha=0.7, label='Sample Histogram')\n",
    "plt.plot(x, pdf, 'r-', lw=2, label=f'Chi-Square PDF (df={df})')\n",
    "plt.title(\"Chi-Square Distribution\")\n",
    "plt.xlabel(\"Value\")\n",
    "plt.ylabel(\"Density\")\n",
    "plt.legend()\n",
    "plt.grid(True)\n",
    "plt.show()\n"
   ]
  },
  {
   "cell_type": "markdown",
   "id": "7eb8086e",
   "metadata": {},
   "source": [
    "Example Use Case: Goodness of Fit\n",
    "Let’s say you want to check whether a 6-sided die is fair. You roll it 60 times and observe:\n",
    "\n",
    "ini\n",
    "Copy\n",
    "Edit\n",
    "Observed = [8, 9, 10, 11, 12, 10]\n",
    "Expected = [10, 10, 10, 10, 10, 10]"
   ]
  },
  {
   "cell_type": "code",
   "execution_count": 61,
   "id": "9581c083",
   "metadata": {},
   "outputs": [
    {
     "name": "stdout",
     "output_type": "stream",
     "text": [
      "Chi-Square Statistic = 1.00\n",
      "P-value = 0.9626\n"
     ]
    }
   ],
   "source": [
    "from scipy.stats import chisquare\n",
    "\n",
    "observed = [8, 9, 10, 11, 12, 10]\n",
    "expected = [10] * 6\n",
    "\n",
    "stat, p = chisquare(f_obs=observed, f_exp=expected)\n",
    "\n",
    "print(f\"Chi-Square Statistic = {stat:.2f}\")\n",
    "print(f\"P-value = {p:.4f}\")\n"
   ]
  },
  {
   "cell_type": "markdown",
   "id": "b2e7ce28",
   "metadata": {},
   "source": [
    "### Pareto Distribution"
   ]
  },
  {
   "cell_type": "code",
   "execution_count": null,
   "id": "7b655aff",
   "metadata": {},
   "outputs": [
    {
     "data": {
      "text/plain": [
       "array([[0, 3, 2],\n",
       "       [0, 1, 3],\n",
       "       [9, 7, 5],\n",
       "       [8, 3, 3],\n",
       "       [2, 6, 0]], dtype=int32)"
      ]
     },
     "execution_count": 127,
     "metadata": {},
     "output_type": "execute_result"
    }
   ],
   "source": [
    "np.random.seed(41)\n",
    "random_array2 = np.random.randint(10, size=(5,3))\n",
    "random_array2"
   ]
  },
  {
   "cell_type": "markdown",
   "id": "64277784",
   "metadata": {},
   "source": []
  }
 ],
 "metadata": {
  "kernelspec": {
   "display_name": "venv",
   "language": "python",
   "name": "python3"
  },
  "language_info": {
   "codemirror_mode": {
    "name": "ipython",
    "version": 3
   },
   "file_extension": ".py",
   "mimetype": "text/x-python",
   "name": "python",
   "nbconvert_exporter": "python",
   "pygments_lexer": "ipython3",
   "version": "3.13.4"
  }
 },
 "nbformat": 4,
 "nbformat_minor": 5
}
