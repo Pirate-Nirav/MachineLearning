{
 "cells": [
  {
   "cell_type": "code",
   "execution_count": 1,
   "id": "4f5baf85",
   "metadata": {},
   "outputs": [],
   "source": [
    "# This file is created to practise of pandas famework "
   ]
  },
  {
   "cell_type": "code",
   "execution_count": 2,
   "id": "fc6e9b27",
   "metadata": {},
   "outputs": [],
   "source": [
    "import pandas as pd \n",
    "import numpy as np"
   ]
  },
  {
   "cell_type": "code",
   "execution_count": 3,
   "id": "1876a022",
   "metadata": {},
   "outputs": [
    {
     "data": {
      "application/vnd.microsoft.datawrangler.viewer.v0+json": {
       "columns": [
        {
         "name": "index",
         "rawType": "int64",
         "type": "integer"
        },
        {
         "name": "0",
         "rawType": "object",
         "type": "string"
        },
        {
         "name": "1",
         "rawType": "int64",
         "type": "integer"
        }
       ],
       "ref": "864acc2e-6fca-4518-9491-a1fd61a56545",
       "rows": [
        [
         "0",
         "abc",
         "1"
        ],
        [
         "1",
         "def",
         "2"
        ],
        [
         "2",
         "ghi",
         "3"
        ]
       ],
       "shape": {
        "columns": 2,
        "rows": 3
       }
      },
      "text/html": [
       "<div>\n",
       "<style scoped>\n",
       "    .dataframe tbody tr th:only-of-type {\n",
       "        vertical-align: middle;\n",
       "    }\n",
       "\n",
       "    .dataframe tbody tr th {\n",
       "        vertical-align: top;\n",
       "    }\n",
       "\n",
       "    .dataframe thead th {\n",
       "        text-align: right;\n",
       "    }\n",
       "</style>\n",
       "<table border=\"1\" class=\"dataframe\">\n",
       "  <thead>\n",
       "    <tr style=\"text-align: right;\">\n",
       "      <th></th>\n",
       "      <th>0</th>\n",
       "      <th>1</th>\n",
       "    </tr>\n",
       "  </thead>\n",
       "  <tbody>\n",
       "    <tr>\n",
       "      <th>0</th>\n",
       "      <td>abc</td>\n",
       "      <td>1</td>\n",
       "    </tr>\n",
       "    <tr>\n",
       "      <th>1</th>\n",
       "      <td>def</td>\n",
       "      <td>2</td>\n",
       "    </tr>\n",
       "    <tr>\n",
       "      <th>2</th>\n",
       "      <td>ghi</td>\n",
       "      <td>3</td>\n",
       "    </tr>\n",
       "  </tbody>\n",
       "</table>\n",
       "</div>"
      ],
      "text/plain": [
       "     0  1\n",
       "0  abc  1\n",
       "1  def  2\n",
       "2  ghi  3"
      ]
     },
     "metadata": {},
     "output_type": "display_data"
    }
   ],
   "source": [
    "# Makinf a dataframe of 2d with list \n",
    "list1 = [['abc',1],['def',2],['ghi',3]]\n",
    "df = pd.DataFrame(list1)\n",
    "display(df)"
   ]
  },
  {
   "cell_type": "code",
   "execution_count": 4,
   "id": "c9aa04fd",
   "metadata": {},
   "outputs": [
    {
     "data": {
      "application/vnd.microsoft.datawrangler.viewer.v0+json": {
       "columns": [
        {
         "name": "index",
         "rawType": "int64",
         "type": "integer"
        },
        {
         "name": "Alphabet",
         "rawType": "object",
         "type": "string"
        },
        {
         "name": "Number",
         "rawType": "int64",
         "type": "integer"
        }
       ],
       "ref": "18c4928d-8800-47dc-bf95-83bd8da9ab78",
       "rows": [
        [
         "0",
         "abc",
         "1"
        ],
        [
         "1",
         "def",
         "2"
        ],
        [
         "2",
         "ghi",
         "3"
        ]
       ],
       "shape": {
        "columns": 2,
        "rows": 3
       }
      },
      "text/html": [
       "<div>\n",
       "<style scoped>\n",
       "    .dataframe tbody tr th:only-of-type {\n",
       "        vertical-align: middle;\n",
       "    }\n",
       "\n",
       "    .dataframe tbody tr th {\n",
       "        vertical-align: top;\n",
       "    }\n",
       "\n",
       "    .dataframe thead th {\n",
       "        text-align: right;\n",
       "    }\n",
       "</style>\n",
       "<table border=\"1\" class=\"dataframe\">\n",
       "  <thead>\n",
       "    <tr style=\"text-align: right;\">\n",
       "      <th></th>\n",
       "      <th>Alphabet</th>\n",
       "      <th>Number</th>\n",
       "    </tr>\n",
       "  </thead>\n",
       "  <tbody>\n",
       "    <tr>\n",
       "      <th>0</th>\n",
       "      <td>abc</td>\n",
       "      <td>1</td>\n",
       "    </tr>\n",
       "    <tr>\n",
       "      <th>1</th>\n",
       "      <td>def</td>\n",
       "      <td>2</td>\n",
       "    </tr>\n",
       "    <tr>\n",
       "      <th>2</th>\n",
       "      <td>ghi</td>\n",
       "      <td>3</td>\n",
       "    </tr>\n",
       "  </tbody>\n",
       "</table>\n",
       "</div>"
      ],
      "text/plain": [
       "  Alphabet  Number\n",
       "0      abc       1\n",
       "1      def       2\n",
       "2      ghi       3"
      ]
     },
     "metadata": {},
     "output_type": "display_data"
    }
   ],
   "source": [
    "# adding column name\n",
    "column = ['Alphabet', 'Number']\n",
    "df = pd.DataFrame(list1, columns=column)\n",
    "display(df)"
   ]
  },
  {
   "cell_type": "code",
   "execution_count": 5,
   "id": "e0881502",
   "metadata": {},
   "outputs": [
    {
     "data": {
      "application/vnd.microsoft.datawrangler.viewer.v0+json": {
       "columns": [
        {
         "name": "index",
         "rawType": "int64",
         "type": "integer"
        },
        {
         "name": "Name",
         "rawType": "object",
         "type": "string"
        },
        {
         "name": "Age",
         "rawType": "int64",
         "type": "integer"
        }
       ],
       "ref": "fd6e2e89-6c1f-4ad3-a9f8-b65af7f21d7d",
       "rows": [
        [
         "0",
         "John",
         "19"
        ],
        [
         "1",
         "Joe",
         "21"
        ]
       ],
       "shape": {
        "columns": 2,
        "rows": 2
       }
      },
      "text/html": [
       "<div>\n",
       "<style scoped>\n",
       "    .dataframe tbody tr th:only-of-type {\n",
       "        vertical-align: middle;\n",
       "    }\n",
       "\n",
       "    .dataframe tbody tr th {\n",
       "        vertical-align: top;\n",
       "    }\n",
       "\n",
       "    .dataframe thead th {\n",
       "        text-align: right;\n",
       "    }\n",
       "</style>\n",
       "<table border=\"1\" class=\"dataframe\">\n",
       "  <thead>\n",
       "    <tr style=\"text-align: right;\">\n",
       "      <th></th>\n",
       "      <th>Name</th>\n",
       "      <th>Age</th>\n",
       "    </tr>\n",
       "  </thead>\n",
       "  <tbody>\n",
       "    <tr>\n",
       "      <th>0</th>\n",
       "      <td>John</td>\n",
       "      <td>19</td>\n",
       "    </tr>\n",
       "    <tr>\n",
       "      <th>1</th>\n",
       "      <td>Joe</td>\n",
       "      <td>21</td>\n",
       "    </tr>\n",
       "  </tbody>\n",
       "</table>\n",
       "</div>"
      ],
      "text/plain": [
       "   Name  Age\n",
       "0  John   19\n",
       "1   Joe   21"
      ]
     },
     "metadata": {},
     "output_type": "display_data"
    }
   ],
   "source": [
    "# Using pd.Dataframe.from_records()\n",
    "# This method is ideal for working with the sequence of records like list, tuples, dict or objects \n",
    "# It treats each item like a row of data\n",
    "# When to use ?? Use when your data is sstructed like records\n",
    "# Often from  JSON , CSV or database fetches \n",
    "\n",
    "records = [('John', 19), ('Joe', 21)]\n",
    "df =  pd.DataFrame.from_records(records, columns=['Name', 'Age'])\n",
    "display(df)"
   ]
  },
  {
   "cell_type": "code",
   "execution_count": 6,
   "id": "41223682",
   "metadata": {},
   "outputs": [
    {
     "data": {
      "application/vnd.microsoft.datawrangler.viewer.v0+json": {
       "columns": [
        {
         "name": "index",
         "rawType": "object",
         "type": "string"
        },
        {
         "name": "0",
         "rawType": "object",
         "type": "unknown"
        },
        {
         "name": "1",
         "rawType": "object",
         "type": "unknown"
        },
        {
         "name": "2",
         "rawType": "object",
         "type": "unknown"
        }
       ],
       "ref": "6033063b-6e22-4128-98c2-4ae3fb447fb2",
       "rows": [
        [
         "name",
         "a",
         "b",
         "c"
        ],
        [
         "age",
         "18",
         "19",
         "20"
        ],
        [
         "div",
         "x",
         "y",
         "z"
        ]
       ],
       "shape": {
        "columns": 3,
        "rows": 3
       }
      },
      "text/html": [
       "<div>\n",
       "<style scoped>\n",
       "    .dataframe tbody tr th:only-of-type {\n",
       "        vertical-align: middle;\n",
       "    }\n",
       "\n",
       "    .dataframe tbody tr th {\n",
       "        vertical-align: top;\n",
       "    }\n",
       "\n",
       "    .dataframe thead th {\n",
       "        text-align: right;\n",
       "    }\n",
       "</style>\n",
       "<table border=\"1\" class=\"dataframe\">\n",
       "  <thead>\n",
       "    <tr style=\"text-align: right;\">\n",
       "      <th></th>\n",
       "      <th>0</th>\n",
       "      <th>1</th>\n",
       "      <th>2</th>\n",
       "    </tr>\n",
       "  </thead>\n",
       "  <tbody>\n",
       "    <tr>\n",
       "      <th>name</th>\n",
       "      <td>a</td>\n",
       "      <td>b</td>\n",
       "      <td>c</td>\n",
       "    </tr>\n",
       "    <tr>\n",
       "      <th>age</th>\n",
       "      <td>18</td>\n",
       "      <td>19</td>\n",
       "      <td>20</td>\n",
       "    </tr>\n",
       "    <tr>\n",
       "      <th>div</th>\n",
       "      <td>x</td>\n",
       "      <td>y</td>\n",
       "      <td>z</td>\n",
       "    </tr>\n",
       "  </tbody>\n",
       "</table>\n",
       "</div>"
      ],
      "text/plain": [
       "       0   1   2\n",
       "name   a   b   c\n",
       "age   18  19  20\n",
       "div    x   y   z"
      ]
     },
     "metadata": {},
     "output_type": "display_data"
    },
    {
     "data": {
      "application/vnd.microsoft.datawrangler.viewer.v0+json": {
       "columns": [
        {
         "name": "index",
         "rawType": "int64",
         "type": "integer"
        },
        {
         "name": "name",
         "rawType": "object",
         "type": "string"
        },
        {
         "name": "age",
         "rawType": "int64",
         "type": "integer"
        },
        {
         "name": "div",
         "rawType": "object",
         "type": "string"
        }
       ],
       "ref": "df77da99-bc3f-42dd-845b-d564134f821f",
       "rows": [
        [
         "0",
         "a",
         "18",
         "x"
        ],
        [
         "1",
         "b",
         "19",
         "y"
        ],
        [
         "2",
         "c",
         "20",
         "z"
        ]
       ],
       "shape": {
        "columns": 3,
        "rows": 3
       }
      },
      "text/html": [
       "<div>\n",
       "<style scoped>\n",
       "    .dataframe tbody tr th:only-of-type {\n",
       "        vertical-align: middle;\n",
       "    }\n",
       "\n",
       "    .dataframe tbody tr th {\n",
       "        vertical-align: top;\n",
       "    }\n",
       "\n",
       "    .dataframe thead th {\n",
       "        text-align: right;\n",
       "    }\n",
       "</style>\n",
       "<table border=\"1\" class=\"dataframe\">\n",
       "  <thead>\n",
       "    <tr style=\"text-align: right;\">\n",
       "      <th></th>\n",
       "      <th>name</th>\n",
       "      <th>age</th>\n",
       "      <th>div</th>\n",
       "    </tr>\n",
       "  </thead>\n",
       "  <tbody>\n",
       "    <tr>\n",
       "      <th>0</th>\n",
       "      <td>a</td>\n",
       "      <td>18</td>\n",
       "      <td>x</td>\n",
       "    </tr>\n",
       "    <tr>\n",
       "      <th>1</th>\n",
       "      <td>b</td>\n",
       "      <td>19</td>\n",
       "      <td>y</td>\n",
       "    </tr>\n",
       "    <tr>\n",
       "      <th>2</th>\n",
       "      <td>c</td>\n",
       "      <td>20</td>\n",
       "      <td>z</td>\n",
       "    </tr>\n",
       "  </tbody>\n",
       "</table>\n",
       "</div>"
      ],
      "text/plain": [
       "  name  age div\n",
       "0    a   18   x\n",
       "1    b   19   y\n",
       "2    c   20   z"
      ]
     },
     "execution_count": 6,
     "metadata": {},
     "output_type": "execute_result"
    }
   ],
   "source": [
    "# pd.DataFrame.from_dict()\n",
    "# When to use ?? Use it when you have dictionary based data \n",
    "# If orient = 'index' the keys are treated as row indices\n",
    "\n",
    "data = {\n",
    "    'name': ['a','b','c'],\n",
    "    'age': [18,19,20],\n",
    "    'div':['x','y','z']\n",
    "}\n",
    "\n",
    "df =  pd.DataFrame.from_dict(data, orient='index')\n",
    "display(df)\n",
    "df =  pd.DataFrame.from_dict(data)\n",
    "df"
   ]
  },
  {
   "cell_type": "markdown",
   "id": "dc2f9ac1",
   "metadata": {},
   "source": [
    "No matter how we are creating the datatypes we can specify them using dtype arguement or by assiging the types after creation"
   ]
  },
  {
   "cell_type": "code",
   "execution_count": 7,
   "id": "a0003c2e",
   "metadata": {},
   "outputs": [
    {
     "name": "stdout",
     "output_type": "stream",
     "text": [
      "The error is : could not convert string to float: 'a'\n"
     ]
    },
    {
     "data": {
      "application/vnd.microsoft.datawrangler.viewer.v0+json": {
       "columns": [
        {
         "name": "index",
         "rawType": "int64",
         "type": "integer"
        },
        {
         "name": "name",
         "rawType": "object",
         "type": "string"
        },
        {
         "name": "age",
         "rawType": "float64",
         "type": "float"
        },
        {
         "name": "div",
         "rawType": "object",
         "type": "string"
        }
       ],
       "ref": "3b3fa9a3-4cb9-4d04-9d8f-5fdd89d9379c",
       "rows": [
        [
         "0",
         "a",
         "18.0",
         "x"
        ],
        [
         "1",
         "b",
         "19.0",
         "y"
        ],
        [
         "2",
         "c",
         "20.0",
         "z"
        ]
       ],
       "shape": {
        "columns": 3,
        "rows": 3
       }
      },
      "text/html": [
       "<div>\n",
       "<style scoped>\n",
       "    .dataframe tbody tr th:only-of-type {\n",
       "        vertical-align: middle;\n",
       "    }\n",
       "\n",
       "    .dataframe tbody tr th {\n",
       "        vertical-align: top;\n",
       "    }\n",
       "\n",
       "    .dataframe thead th {\n",
       "        text-align: right;\n",
       "    }\n",
       "</style>\n",
       "<table border=\"1\" class=\"dataframe\">\n",
       "  <thead>\n",
       "    <tr style=\"text-align: right;\">\n",
       "      <th></th>\n",
       "      <th>name</th>\n",
       "      <th>age</th>\n",
       "      <th>div</th>\n",
       "    </tr>\n",
       "  </thead>\n",
       "  <tbody>\n",
       "    <tr>\n",
       "      <th>0</th>\n",
       "      <td>a</td>\n",
       "      <td>18.0</td>\n",
       "      <td>x</td>\n",
       "    </tr>\n",
       "    <tr>\n",
       "      <th>1</th>\n",
       "      <td>b</td>\n",
       "      <td>19.0</td>\n",
       "      <td>y</td>\n",
       "    </tr>\n",
       "    <tr>\n",
       "      <th>2</th>\n",
       "      <td>c</td>\n",
       "      <td>20.0</td>\n",
       "      <td>z</td>\n",
       "    </tr>\n",
       "  </tbody>\n",
       "</table>\n",
       "</div>"
      ],
      "text/plain": [
       "  name   age div\n",
       "0    a  18.0   x\n",
       "1    b  19.0   y\n",
       "2    c  20.0   z"
      ]
     },
     "metadata": {},
     "output_type": "display_data"
    }
   ],
   "source": [
    "try:\n",
    "    df = pd.DataFrame(data, dtype='float' )\n",
    "except Exception as e :\n",
    "    print(\"The error is :\",e)\n",
    "else:\n",
    "    display(df)\n",
    "# In this dataframe the column include the str so it will generate the error \n",
    "# instead of this we can use \n",
    "ddf = pd.DataFrame(data)\n",
    "ddf = ddf.astype({'age':'float'})\n",
    "display(ddf)"
   ]
  },
  {
   "cell_type": "code",
   "execution_count": 8,
   "id": "9f2486ff",
   "metadata": {},
   "outputs": [
    {
     "data": {
      "application/vnd.microsoft.datawrangler.viewer.v0+json": {
       "columns": [
        {
         "name": "index",
         "rawType": "int64",
         "type": "integer"
        },
        {
         "name": "name",
         "rawType": "object",
         "type": "string"
        },
        {
         "name": "age",
         "rawType": "float64",
         "type": "float"
        },
        {
         "name": "div",
         "rawType": "object",
         "type": "string"
        },
        {
         "name": "N_col",
         "rawType": "object",
         "type": "string"
        },
        {
         "name": "N_Int",
         "rawType": "int64",
         "type": "integer"
        }
       ],
       "ref": "bf42cbe6-29d7-4e4c-b634-01a701e5fdee",
       "rows": [
        [
         "0",
         "a",
         "18.0",
         "x",
         "Tiger",
         "11"
        ],
        [
         "1",
         "b",
         "19.0",
         "y",
         "Lion",
         "12"
        ],
        [
         "2",
         "c",
         "20.0",
         "z",
         "Elephant",
         "122"
        ]
       ],
       "shape": {
        "columns": 5,
        "rows": 3
       }
      },
      "text/html": [
       "<div>\n",
       "<style scoped>\n",
       "    .dataframe tbody tr th:only-of-type {\n",
       "        vertical-align: middle;\n",
       "    }\n",
       "\n",
       "    .dataframe tbody tr th {\n",
       "        vertical-align: top;\n",
       "    }\n",
       "\n",
       "    .dataframe thead th {\n",
       "        text-align: right;\n",
       "    }\n",
       "</style>\n",
       "<table border=\"1\" class=\"dataframe\">\n",
       "  <thead>\n",
       "    <tr style=\"text-align: right;\">\n",
       "      <th></th>\n",
       "      <th>name</th>\n",
       "      <th>age</th>\n",
       "      <th>div</th>\n",
       "      <th>N_col</th>\n",
       "      <th>N_Int</th>\n",
       "    </tr>\n",
       "  </thead>\n",
       "  <tbody>\n",
       "    <tr>\n",
       "      <th>0</th>\n",
       "      <td>a</td>\n",
       "      <td>18.0</td>\n",
       "      <td>x</td>\n",
       "      <td>Tiger</td>\n",
       "      <td>11</td>\n",
       "    </tr>\n",
       "    <tr>\n",
       "      <th>1</th>\n",
       "      <td>b</td>\n",
       "      <td>19.0</td>\n",
       "      <td>y</td>\n",
       "      <td>Lion</td>\n",
       "      <td>12</td>\n",
       "    </tr>\n",
       "    <tr>\n",
       "      <th>2</th>\n",
       "      <td>c</td>\n",
       "      <td>20.0</td>\n",
       "      <td>z</td>\n",
       "      <td>Elephant</td>\n",
       "      <td>122</td>\n",
       "    </tr>\n",
       "  </tbody>\n",
       "</table>\n",
       "</div>"
      ],
      "text/plain": [
       "  name   age div     N_col  N_Int\n",
       "0    a  18.0   x     Tiger     11\n",
       "1    b  19.0   y      Lion     12\n",
       "2    c  20.0   z  Elephant    122"
      ]
     },
     "execution_count": 8,
     "metadata": {},
     "output_type": "execute_result"
    }
   ],
   "source": [
    "# adding new column in the data Frame \n",
    "ddf['N_col'] = ['Tiger','Lion','Elephant']\n",
    "ddf['N_Int'] = [11,12,122]\n",
    "ddf"
   ]
  },
  {
   "cell_type": "code",
   "execution_count": 9,
   "id": "fda34eee",
   "metadata": {},
   "outputs": [
    {
     "data": {
      "application/vnd.microsoft.datawrangler.viewer.v0+json": {
       "columns": [
        {
         "name": "index",
         "rawType": "int64",
         "type": "integer"
        },
        {
         "name": "name",
         "rawType": "object",
         "type": "string"
        },
        {
         "name": "age",
         "rawType": "float64",
         "type": "float"
        },
        {
         "name": "div",
         "rawType": "bool",
         "type": "boolean"
        },
        {
         "name": "N_col",
         "rawType": "object",
         "type": "string"
        },
        {
         "name": "N_Int",
         "rawType": "complex128",
         "type": "unknown"
        }
       ],
       "ref": "87fdba05-b214-430a-975e-849877de7ed3",
       "rows": [
        [
         "0",
         "a",
         "18.0",
         "True",
         "Tiger",
         "(11+0j)"
        ],
        [
         "1",
         "b",
         "19.0",
         "True",
         "Lion",
         "(12+0j)"
        ],
        [
         "2",
         "c",
         "20.0",
         "True",
         "Elephant",
         "(122+0j)"
        ]
       ],
       "shape": {
        "columns": 5,
        "rows": 3
       }
      },
      "text/html": [
       "<div>\n",
       "<style scoped>\n",
       "    .dataframe tbody tr th:only-of-type {\n",
       "        vertical-align: middle;\n",
       "    }\n",
       "\n",
       "    .dataframe tbody tr th {\n",
       "        vertical-align: top;\n",
       "    }\n",
       "\n",
       "    .dataframe thead th {\n",
       "        text-align: right;\n",
       "    }\n",
       "</style>\n",
       "<table border=\"1\" class=\"dataframe\">\n",
       "  <thead>\n",
       "    <tr style=\"text-align: right;\">\n",
       "      <th></th>\n",
       "      <th>name</th>\n",
       "      <th>age</th>\n",
       "      <th>div</th>\n",
       "      <th>N_col</th>\n",
       "      <th>N_Int</th>\n",
       "    </tr>\n",
       "  </thead>\n",
       "  <tbody>\n",
       "    <tr>\n",
       "      <th>0</th>\n",
       "      <td>a</td>\n",
       "      <td>18.0</td>\n",
       "      <td>True</td>\n",
       "      <td>Tiger</td>\n",
       "      <td>11.0+  0.0j</td>\n",
       "    </tr>\n",
       "    <tr>\n",
       "      <th>1</th>\n",
       "      <td>b</td>\n",
       "      <td>19.0</td>\n",
       "      <td>True</td>\n",
       "      <td>Lion</td>\n",
       "      <td>12.0+  0.0j</td>\n",
       "    </tr>\n",
       "    <tr>\n",
       "      <th>2</th>\n",
       "      <td>c</td>\n",
       "      <td>20.0</td>\n",
       "      <td>True</td>\n",
       "      <td>Elephant</td>\n",
       "      <td>122.0+  0.0j</td>\n",
       "    </tr>\n",
       "  </tbody>\n",
       "</table>\n",
       "</div>"
      ],
      "text/plain": [
       "  name   age   div     N_col         N_Int\n",
       "0    a  18.0  True     Tiger   11.0+  0.0j\n",
       "1    b  19.0  True      Lion   12.0+  0.0j\n",
       "2    c  20.0  True  Elephant  122.0+  0.0j"
      ]
     },
     "metadata": {},
     "output_type": "display_data"
    }
   ],
   "source": [
    "ddf = ddf.astype({\n",
    "    'age' :'float',\n",
    "    'N_Int':'complex',\n",
    "    'div':'bool'\n",
    "})\n",
    "display(ddf)"
   ]
  },
  {
   "cell_type": "code",
   "execution_count": 10,
   "id": "c8df133b",
   "metadata": {},
   "outputs": [
    {
     "data": {
      "application/vnd.microsoft.datawrangler.viewer.v0+json": {
       "columns": [
        {
         "name": "index",
         "rawType": "object",
         "type": "string"
        },
        {
         "name": "0",
         "rawType": "object",
         "type": "unknown"
        },
        {
         "name": "1",
         "rawType": "object",
         "type": "unknown"
        },
        {
         "name": "2",
         "rawType": "object",
         "type": "unknown"
        }
       ],
       "ref": "627a883b-f978-4e67-8af2-37b3465dd196",
       "rows": [
        [
         "name",
         "a",
         "b",
         "c"
        ],
        [
         "age",
         "18.0",
         "19.0",
         "20.0"
        ],
        [
         "div",
         "True",
         "True",
         "True"
        ],
        [
         "N_col",
         "Tiger",
         "Lion",
         "Elephant"
        ],
        [
         "N_Int",
         "(11+0j)",
         "(12+0j)",
         "(122+0j)"
        ]
       ],
       "shape": {
        "columns": 3,
        "rows": 5
       }
      },
      "text/html": [
       "<div>\n",
       "<style scoped>\n",
       "    .dataframe tbody tr th:only-of-type {\n",
       "        vertical-align: middle;\n",
       "    }\n",
       "\n",
       "    .dataframe tbody tr th {\n",
       "        vertical-align: top;\n",
       "    }\n",
       "\n",
       "    .dataframe thead th {\n",
       "        text-align: right;\n",
       "    }\n",
       "</style>\n",
       "<table border=\"1\" class=\"dataframe\">\n",
       "  <thead>\n",
       "    <tr style=\"text-align: right;\">\n",
       "      <th></th>\n",
       "      <th>0</th>\n",
       "      <th>1</th>\n",
       "      <th>2</th>\n",
       "    </tr>\n",
       "  </thead>\n",
       "  <tbody>\n",
       "    <tr>\n",
       "      <th>name</th>\n",
       "      <td>a</td>\n",
       "      <td>b</td>\n",
       "      <td>c</td>\n",
       "    </tr>\n",
       "    <tr>\n",
       "      <th>age</th>\n",
       "      <td>18.0</td>\n",
       "      <td>19.0</td>\n",
       "      <td>20.0</td>\n",
       "    </tr>\n",
       "    <tr>\n",
       "      <th>div</th>\n",
       "      <td>True</td>\n",
       "      <td>True</td>\n",
       "      <td>True</td>\n",
       "    </tr>\n",
       "    <tr>\n",
       "      <th>N_col</th>\n",
       "      <td>Tiger</td>\n",
       "      <td>Lion</td>\n",
       "      <td>Elephant</td>\n",
       "    </tr>\n",
       "    <tr>\n",
       "      <th>N_Int</th>\n",
       "      <td>(11+0j)</td>\n",
       "      <td>(12+0j)</td>\n",
       "      <td>(122+0j)</td>\n",
       "    </tr>\n",
       "  </tbody>\n",
       "</table>\n",
       "</div>"
      ],
      "text/plain": [
       "             0        1         2\n",
       "name         a        b         c\n",
       "age       18.0     19.0      20.0\n",
       "div       True     True      True\n",
       "N_col    Tiger     Lion  Elephant\n",
       "N_Int  (11+0j)  (12+0j)  (122+0j)"
      ]
     },
     "execution_count": 10,
     "metadata": {},
     "output_type": "execute_result"
    }
   ],
   "source": [
    "ddf = ddf.transpose()\n",
    "ddf"
   ]
  },
  {
   "cell_type": "code",
   "execution_count": 11,
   "id": "2e5a8e8b",
   "metadata": {},
   "outputs": [
    {
     "name": "stdout",
     "output_type": "stream",
     "text": [
      "    Name   Age     Designation\n",
      "0  Geek1  28.0        Engineer\n",
      "1  Geek2   NaN  Data Scientist\n",
      "2  Geek3  32.0            None\n"
     ]
    }
   ],
   "source": [
    "data = [['Geek1', 28, 'Engineer'],\n",
    "        ['Geek2', None, 'Data Scientist'],\n",
    "        ['Geek3', 32, None]]\n",
    "\n",
    "columns =  ['Name', 'Age','Designation']\n",
    "\n",
    "df = pd.DataFrame(data , columns=columns)\n",
    "print(df)"
   ]
  },
  {
   "cell_type": "code",
   "execution_count": 12,
   "id": "312d537d",
   "metadata": {},
   "outputs": [
    {
     "data": {
      "application/vnd.microsoft.datawrangler.viewer.v0+json": {
       "columns": [
        {
         "name": "index",
         "rawType": "int64",
         "type": "integer"
        },
        {
         "name": "Name",
         "rawType": "object",
         "type": "string"
        },
        {
         "name": "Age",
         "rawType": "float64",
         "type": "float"
        },
        {
         "name": "Designation",
         "rawType": "object",
         "type": "unknown"
        }
       ],
       "ref": "9aa077b8-1af6-44eb-a378-7f8cb94435ef",
       "rows": [
        [
         "0",
         "Geek1",
         "28.0",
         "Engineer"
        ],
        [
         "1",
         "Geek2",
         null,
         "Data Scientist"
        ],
        [
         "2",
         "Geek3",
         "32.0",
         null
        ]
       ],
       "shape": {
        "columns": 3,
        "rows": 3
       }
      },
      "text/html": [
       "<div>\n",
       "<style scoped>\n",
       "    .dataframe tbody tr th:only-of-type {\n",
       "        vertical-align: middle;\n",
       "    }\n",
       "\n",
       "    .dataframe tbody tr th {\n",
       "        vertical-align: top;\n",
       "    }\n",
       "\n",
       "    .dataframe thead th {\n",
       "        text-align: right;\n",
       "    }\n",
       "</style>\n",
       "<table border=\"1\" class=\"dataframe\">\n",
       "  <thead>\n",
       "    <tr style=\"text-align: right;\">\n",
       "      <th></th>\n",
       "      <th>Name</th>\n",
       "      <th>Age</th>\n",
       "      <th>Designation</th>\n",
       "    </tr>\n",
       "  </thead>\n",
       "  <tbody>\n",
       "    <tr>\n",
       "      <th>0</th>\n",
       "      <td>Geek1</td>\n",
       "      <td>28.0</td>\n",
       "      <td>Engineer</td>\n",
       "    </tr>\n",
       "    <tr>\n",
       "      <th>1</th>\n",
       "      <td>Geek2</td>\n",
       "      <td>NaN</td>\n",
       "      <td>Data Scientist</td>\n",
       "    </tr>\n",
       "    <tr>\n",
       "      <th>2</th>\n",
       "      <td>Geek3</td>\n",
       "      <td>32.0</td>\n",
       "      <td>None</td>\n",
       "    </tr>\n",
       "  </tbody>\n",
       "</table>\n",
       "</div>"
      ],
      "text/plain": [
       "    Name   Age     Designation\n",
       "0  Geek1  28.0        Engineer\n",
       "1  Geek2   NaN  Data Scientist\n",
       "2  Geek3  32.0            None"
      ]
     },
     "execution_count": 12,
     "metadata": {},
     "output_type": "execute_result"
    }
   ],
   "source": [
    "df = df.replace({'None':np.nan})\n",
    "df"
   ]
  },
  {
   "cell_type": "code",
   "execution_count": 13,
   "id": "7fd0bda1",
   "metadata": {},
   "outputs": [
    {
     "data": {
      "application/vnd.microsoft.datawrangler.viewer.v0+json": {
       "columns": [
        {
         "name": "index",
         "rawType": "int64",
         "type": "integer"
        },
        {
         "name": "Name",
         "rawType": "object",
         "type": "string"
        },
        {
         "name": "Age",
         "rawType": "object",
         "type": "unknown"
        },
        {
         "name": "Designation",
         "rawType": "object",
         "type": "string"
        }
       ],
       "ref": "c461f693-bb64-4742-acc5-0e436411f42b",
       "rows": [
        [
         "0",
         "Geek1",
         "28",
         "Engineer"
        ],
        [
         "1",
         "Geek2",
         "25",
         "Data Scientist"
        ],
        [
         "2",
         "Geek3",
         "32",
         "Manager"
        ]
       ],
       "shape": {
        "columns": 3,
        "rows": 3
       }
      },
      "text/html": [
       "<div>\n",
       "<style scoped>\n",
       "    .dataframe tbody tr th:only-of-type {\n",
       "        vertical-align: middle;\n",
       "    }\n",
       "\n",
       "    .dataframe tbody tr th {\n",
       "        vertical-align: top;\n",
       "    }\n",
       "\n",
       "    .dataframe thead th {\n",
       "        text-align: right;\n",
       "    }\n",
       "</style>\n",
       "<table border=\"1\" class=\"dataframe\">\n",
       "  <thead>\n",
       "    <tr style=\"text-align: right;\">\n",
       "      <th></th>\n",
       "      <th>Name</th>\n",
       "      <th>Age</th>\n",
       "      <th>Designation</th>\n",
       "    </tr>\n",
       "  </thead>\n",
       "  <tbody>\n",
       "    <tr>\n",
       "      <th>0</th>\n",
       "      <td>Geek1</td>\n",
       "      <td>28</td>\n",
       "      <td>Engineer</td>\n",
       "    </tr>\n",
       "    <tr>\n",
       "      <th>1</th>\n",
       "      <td>Geek2</td>\n",
       "      <td>25</td>\n",
       "      <td>Data Scientist</td>\n",
       "    </tr>\n",
       "    <tr>\n",
       "      <th>2</th>\n",
       "      <td>Geek3</td>\n",
       "      <td>32</td>\n",
       "      <td>Manager</td>\n",
       "    </tr>\n",
       "  </tbody>\n",
       "</table>\n",
       "</div>"
      ],
      "text/plain": [
       "    Name Age     Designation\n",
       "0  Geek1  28        Engineer\n",
       "1  Geek2  25  Data Scientist\n",
       "2  Geek3  32         Manager"
      ]
     },
     "metadata": {},
     "output_type": "display_data"
    },
    {
     "name": "stdout",
     "output_type": "stream",
     "text": [
      "    Name  Age     Designation\n",
      "0  Geek1   28        Engineer\n",
      "1  Geek2   25  Data Scientist\n",
      "2  Geek3   32         Manager\n"
     ]
    }
   ],
   "source": [
    "data = [['Geek1', 28, 'Engineer'],\n",
    "        ['Geek2', 25, 'Data Scientist'],\n",
    "        ['Geek3', '32', 'Manager']]\n",
    "# here the age is declared as string \n",
    "# to_string only can be done when there is only digit in the str \n",
    "\n",
    "df = pd.DataFrame(data, columns=columns)\n",
    "\n",
    "\n",
    "display(df)\n",
    "# print(df['Age'].dtype)\n",
    "df['Age'] = pd.to_numeric(df.Age, errors='coerce', downcast='integer')\n",
    "print(df)"
   ]
  },
  {
   "cell_type": "code",
   "execution_count": 14,
   "id": "0e5c0af1",
   "metadata": {},
   "outputs": [
    {
     "data": {
      "application/vnd.microsoft.datawrangler.viewer.v0+json": {
       "columns": [
        {
         "name": "index",
         "rawType": "int64",
         "type": "integer"
        },
        {
         "name": "name",
         "rawType": "object",
         "type": "string"
        },
        {
         "name": "age",
         "rawType": "int64",
         "type": "integer"
        },
        {
         "name": "score",
         "rawType": "int64",
         "type": "integer"
        }
       ],
       "ref": "ffd51366-3f30-421e-800d-f51297aef0bb",
       "rows": [
        [
         "0",
         "ANSH",
         "22",
         "9"
        ],
        [
         "1",
         "SAHIL",
         "22",
         "6"
        ],
        [
         "2",
         "JAYAN",
         "23",
         "8"
        ],
        [
         "3",
         "AYUSHI",
         "21",
         "7"
        ],
        [
         "4",
         "SPARSH",
         "20",
         "8"
        ]
       ],
       "shape": {
        "columns": 3,
        "rows": 5
       }
      },
      "text/html": [
       "<div>\n",
       "<style scoped>\n",
       "    .dataframe tbody tr th:only-of-type {\n",
       "        vertical-align: middle;\n",
       "    }\n",
       "\n",
       "    .dataframe tbody tr th {\n",
       "        vertical-align: top;\n",
       "    }\n",
       "\n",
       "    .dataframe thead th {\n",
       "        text-align: right;\n",
       "    }\n",
       "</style>\n",
       "<table border=\"1\" class=\"dataframe\">\n",
       "  <thead>\n",
       "    <tr style=\"text-align: right;\">\n",
       "      <th></th>\n",
       "      <th>name</th>\n",
       "      <th>age</th>\n",
       "      <th>score</th>\n",
       "    </tr>\n",
       "  </thead>\n",
       "  <tbody>\n",
       "    <tr>\n",
       "      <th>0</th>\n",
       "      <td>ANSH</td>\n",
       "      <td>22</td>\n",
       "      <td>9</td>\n",
       "    </tr>\n",
       "    <tr>\n",
       "      <th>1</th>\n",
       "      <td>SAHIL</td>\n",
       "      <td>22</td>\n",
       "      <td>6</td>\n",
       "    </tr>\n",
       "    <tr>\n",
       "      <th>2</th>\n",
       "      <td>JAYAN</td>\n",
       "      <td>23</td>\n",
       "      <td>8</td>\n",
       "    </tr>\n",
       "    <tr>\n",
       "      <th>3</th>\n",
       "      <td>AYUSHI</td>\n",
       "      <td>21</td>\n",
       "      <td>7</td>\n",
       "    </tr>\n",
       "    <tr>\n",
       "      <th>4</th>\n",
       "      <td>SPARSH</td>\n",
       "      <td>20</td>\n",
       "      <td>8</td>\n",
       "    </tr>\n",
       "  </tbody>\n",
       "</table>\n",
       "</div>"
      ],
      "text/plain": [
       "     name  age  score\n",
       "0    ANSH   22      9\n",
       "1   SAHIL   22      6\n",
       "2   JAYAN   23      8\n",
       "3  AYUSHI   21      7\n",
       "4  SPARSH   20      8"
      ]
     },
     "execution_count": 14,
     "metadata": {},
     "output_type": "execute_result"
    }
   ],
   "source": [
    "data = [('ANSH', 22, 9),\n",
    "        ('SAHIL', 22, 6),\n",
    "        ('JAYAN', 23, 8),\n",
    "        ('AYUSHI', 21, 7),\n",
    "        ('SPARSH', 20, 8) ]\n",
    "df = pd.DataFrame.from_records(data, columns=['name', 'age', 'score'])\n",
    "df"
   ]
  },
  {
   "cell_type": "code",
   "execution_count": 15,
   "id": "71c11b9b",
   "metadata": {},
   "outputs": [
    {
     "data": {
      "application/vnd.microsoft.datawrangler.viewer.v0+json": {
       "columns": [
        {
         "name": "index",
         "rawType": "int64",
         "type": "integer"
        },
        {
         "name": "Name",
         "rawType": "object",
         "type": "string"
        },
        {
         "name": "Age",
         "rawType": "int64",
         "type": "integer"
        },
        {
         "name": "Score",
         "rawType": "int64",
         "type": "integer"
        }
       ],
       "ref": "651a2668-0514-4828-b265-60947467d4b0",
       "rows": [
        [
         "0",
         "ANSH",
         "22",
         "9"
        ],
        [
         "1",
         "SAHIL",
         "22",
         "6"
        ],
        [
         "2",
         "JAYAN",
         "23",
         "8"
        ],
        [
         "3",
         "AYUSHI",
         "21",
         "7"
        ],
        [
         "4",
         "SPARSH",
         "20",
         "8"
        ]
       ],
       "shape": {
        "columns": 3,
        "rows": 5
       }
      },
      "text/html": [
       "<div>\n",
       "<style scoped>\n",
       "    .dataframe tbody tr th:only-of-type {\n",
       "        vertical-align: middle;\n",
       "    }\n",
       "\n",
       "    .dataframe tbody tr th {\n",
       "        vertical-align: top;\n",
       "    }\n",
       "\n",
       "    .dataframe thead th {\n",
       "        text-align: right;\n",
       "    }\n",
       "</style>\n",
       "<table border=\"1\" class=\"dataframe\">\n",
       "  <thead>\n",
       "    <tr style=\"text-align: right;\">\n",
       "      <th></th>\n",
       "      <th>Name</th>\n",
       "      <th>Age</th>\n",
       "      <th>Score</th>\n",
       "    </tr>\n",
       "  </thead>\n",
       "  <tbody>\n",
       "    <tr>\n",
       "      <th>0</th>\n",
       "      <td>ANSH</td>\n",
       "      <td>22</td>\n",
       "      <td>9</td>\n",
       "    </tr>\n",
       "    <tr>\n",
       "      <th>1</th>\n",
       "      <td>SAHIL</td>\n",
       "      <td>22</td>\n",
       "      <td>6</td>\n",
       "    </tr>\n",
       "    <tr>\n",
       "      <th>2</th>\n",
       "      <td>JAYAN</td>\n",
       "      <td>23</td>\n",
       "      <td>8</td>\n",
       "    </tr>\n",
       "    <tr>\n",
       "      <th>3</th>\n",
       "      <td>AYUSHI</td>\n",
       "      <td>21</td>\n",
       "      <td>7</td>\n",
       "    </tr>\n",
       "    <tr>\n",
       "      <th>4</th>\n",
       "      <td>SPARSH</td>\n",
       "      <td>20</td>\n",
       "      <td>8</td>\n",
       "    </tr>\n",
       "  </tbody>\n",
       "</table>\n",
       "</div>"
      ],
      "text/plain": [
       "     Name  Age  Score\n",
       "0    ANSH   22      9\n",
       "1   SAHIL   22      6\n",
       "2   JAYAN   23      8\n",
       "3  AYUSHI   21      7\n",
       "4  SPARSH   20      8"
      ]
     },
     "execution_count": 15,
     "metadata": {},
     "output_type": "execute_result"
    }
   ],
   "source": [
    "df.columns =  df.columns.str.capitalize()\n",
    "df "
   ]
  },
  {
   "cell_type": "code",
   "execution_count": 16,
   "id": "5ef48292",
   "metadata": {},
   "outputs": [],
   "source": [
    "df = df.transpose()"
   ]
  },
  {
   "cell_type": "code",
   "execution_count": 17,
   "id": "50f4ae3c",
   "metadata": {},
   "outputs": [
    {
     "data": {
      "application/vnd.microsoft.datawrangler.viewer.v0+json": {
       "columns": [
        {
         "name": "index",
         "rawType": "object",
         "type": "string"
        },
        {
         "name": "0",
         "rawType": "object",
         "type": "unknown"
        },
        {
         "name": "1",
         "rawType": "object",
         "type": "unknown"
        },
        {
         "name": "2",
         "rawType": "object",
         "type": "unknown"
        },
        {
         "name": "3",
         "rawType": "object",
         "type": "unknown"
        },
        {
         "name": "4",
         "rawType": "object",
         "type": "unknown"
        }
       ],
       "ref": "158a3508-0c17-4edc-bfba-3d054b35fa98",
       "rows": [
        [
         "Name",
         "ANSH",
         "SAHIL",
         "JAYAN",
         "AYUSHI",
         "SPARSH"
        ],
        [
         "Age",
         "22",
         "22",
         "23",
         "21",
         "20"
        ],
        [
         "Score",
         "9",
         "6",
         "8",
         "7",
         "8"
        ]
       ],
       "shape": {
        "columns": 5,
        "rows": 3
       }
      },
      "text/html": [
       "<div>\n",
       "<style scoped>\n",
       "    .dataframe tbody tr th:only-of-type {\n",
       "        vertical-align: middle;\n",
       "    }\n",
       "\n",
       "    .dataframe tbody tr th {\n",
       "        vertical-align: top;\n",
       "    }\n",
       "\n",
       "    .dataframe thead th {\n",
       "        text-align: right;\n",
       "    }\n",
       "</style>\n",
       "<table border=\"1\" class=\"dataframe\">\n",
       "  <thead>\n",
       "    <tr style=\"text-align: right;\">\n",
       "      <th></th>\n",
       "      <th>0</th>\n",
       "      <th>1</th>\n",
       "      <th>2</th>\n",
       "      <th>3</th>\n",
       "      <th>4</th>\n",
       "    </tr>\n",
       "  </thead>\n",
       "  <tbody>\n",
       "    <tr>\n",
       "      <th>Name</th>\n",
       "      <td>ANSH</td>\n",
       "      <td>SAHIL</td>\n",
       "      <td>JAYAN</td>\n",
       "      <td>AYUSHI</td>\n",
       "      <td>SPARSH</td>\n",
       "    </tr>\n",
       "    <tr>\n",
       "      <th>Age</th>\n",
       "      <td>22</td>\n",
       "      <td>22</td>\n",
       "      <td>23</td>\n",
       "      <td>21</td>\n",
       "      <td>20</td>\n",
       "    </tr>\n",
       "    <tr>\n",
       "      <th>Score</th>\n",
       "      <td>9</td>\n",
       "      <td>6</td>\n",
       "      <td>8</td>\n",
       "      <td>7</td>\n",
       "      <td>8</td>\n",
       "    </tr>\n",
       "  </tbody>\n",
       "</table>\n",
       "</div>"
      ],
      "text/plain": [
       "          0      1      2       3       4\n",
       "Name   ANSH  SAHIL  JAYAN  AYUSHI  SPARSH\n",
       "Age      22     22     23      21      20\n",
       "Score     9      6      8       7       8"
      ]
     },
     "execution_count": 17,
     "metadata": {},
     "output_type": "execute_result"
    }
   ],
   "source": [
    "df"
   ]
  },
  {
   "cell_type": "code",
   "execution_count": 18,
   "id": "b511bc6a",
   "metadata": {},
   "outputs": [
    {
     "data": {
      "application/vnd.microsoft.datawrangler.viewer.v0+json": {
       "columns": [
        {
         "name": "index",
         "rawType": "object",
         "type": "string"
        },
        {
         "name": "Name",
         "rawType": "object",
         "type": "string"
        },
        {
         "name": "Age",
         "rawType": "object",
         "type": "unknown"
        },
        {
         "name": "Score",
         "rawType": "object",
         "type": "unknown"
        }
       ],
       "ref": "4d0feceb-110c-41eb-83fe-027f7c034f02",
       "rows": [
        [
         "0",
         "ANSH",
         "22",
         "9"
        ],
        [
         "1",
         "SAHIL",
         "22",
         "6"
        ],
        [
         "2",
         "JAYAN",
         "23",
         "8"
        ],
        [
         "3",
         "AYUSHI",
         "21",
         "7"
        ],
        [
         "4",
         "SPARSH",
         "20",
         "8"
        ]
       ],
       "shape": {
        "columns": 3,
        "rows": 5
       }
      },
      "text/html": [
       "<div>\n",
       "<style scoped>\n",
       "    .dataframe tbody tr th:only-of-type {\n",
       "        vertical-align: middle;\n",
       "    }\n",
       "\n",
       "    .dataframe tbody tr th {\n",
       "        vertical-align: top;\n",
       "    }\n",
       "\n",
       "    .dataframe thead th {\n",
       "        text-align: right;\n",
       "    }\n",
       "</style>\n",
       "<table border=\"1\" class=\"dataframe\">\n",
       "  <thead>\n",
       "    <tr style=\"text-align: right;\">\n",
       "      <th></th>\n",
       "      <th>Name</th>\n",
       "      <th>Age</th>\n",
       "      <th>Score</th>\n",
       "    </tr>\n",
       "  </thead>\n",
       "  <tbody>\n",
       "    <tr>\n",
       "      <th>0</th>\n",
       "      <td>ANSH</td>\n",
       "      <td>22</td>\n",
       "      <td>9</td>\n",
       "    </tr>\n",
       "    <tr>\n",
       "      <th>1</th>\n",
       "      <td>SAHIL</td>\n",
       "      <td>22</td>\n",
       "      <td>6</td>\n",
       "    </tr>\n",
       "    <tr>\n",
       "      <th>2</th>\n",
       "      <td>JAYAN</td>\n",
       "      <td>23</td>\n",
       "      <td>8</td>\n",
       "    </tr>\n",
       "    <tr>\n",
       "      <th>3</th>\n",
       "      <td>AYUSHI</td>\n",
       "      <td>21</td>\n",
       "      <td>7</td>\n",
       "    </tr>\n",
       "    <tr>\n",
       "      <th>4</th>\n",
       "      <td>SPARSH</td>\n",
       "      <td>20</td>\n",
       "      <td>8</td>\n",
       "    </tr>\n",
       "  </tbody>\n",
       "</table>\n",
       "</div>"
      ],
      "text/plain": [
       "     Name Age Score\n",
       "0    ANSH  22     9\n",
       "1   SAHIL  22     6\n",
       "2   JAYAN  23     8\n",
       "3  AYUSHI  21     7\n",
       "4  SPARSH  20     8"
      ]
     },
     "execution_count": 18,
     "metadata": {},
     "output_type": "execute_result"
    }
   ],
   "source": [
    "df = df.transpose()\n",
    "df.index = df.index.astype(str).str.upper()\n",
    "df"
   ]
  },
  {
   "cell_type": "code",
   "execution_count": 19,
   "id": "b2911501",
   "metadata": {},
   "outputs": [
    {
     "data": {
      "application/vnd.microsoft.datawrangler.viewer.v0+json": {
       "columns": [
        {
         "name": "index",
         "rawType": "object",
         "type": "string"
        },
        {
         "name": "0",
         "rawType": "object",
         "type": "unknown"
        },
        {
         "name": "1",
         "rawType": "object",
         "type": "unknown"
        },
        {
         "name": "2",
         "rawType": "object",
         "type": "unknown"
        },
        {
         "name": "3",
         "rawType": "object",
         "type": "unknown"
        },
        {
         "name": "4",
         "rawType": "object",
         "type": "unknown"
        }
       ],
       "ref": "2292807f-51c1-4d1d-9535-8418e3934be9",
       "rows": [
        [
         "Name",
         "ANSH",
         "SAHIL",
         "JAYAN",
         "AYUSHI",
         "SPARSH"
        ],
        [
         "Age",
         "22",
         "22",
         "23",
         "21",
         "20"
        ],
        [
         "Score",
         "9",
         "6",
         "8",
         "7",
         "8"
        ]
       ],
       "shape": {
        "columns": 5,
        "rows": 3
       }
      },
      "text/html": [
       "<div>\n",
       "<style scoped>\n",
       "    .dataframe tbody tr th:only-of-type {\n",
       "        vertical-align: middle;\n",
       "    }\n",
       "\n",
       "    .dataframe tbody tr th {\n",
       "        vertical-align: top;\n",
       "    }\n",
       "\n",
       "    .dataframe thead th {\n",
       "        text-align: right;\n",
       "    }\n",
       "</style>\n",
       "<table border=\"1\" class=\"dataframe\">\n",
       "  <thead>\n",
       "    <tr style=\"text-align: right;\">\n",
       "      <th></th>\n",
       "      <th>0</th>\n",
       "      <th>1</th>\n",
       "      <th>2</th>\n",
       "      <th>3</th>\n",
       "      <th>4</th>\n",
       "    </tr>\n",
       "  </thead>\n",
       "  <tbody>\n",
       "    <tr>\n",
       "      <th>Name</th>\n",
       "      <td>ANSH</td>\n",
       "      <td>SAHIL</td>\n",
       "      <td>JAYAN</td>\n",
       "      <td>AYUSHI</td>\n",
       "      <td>SPARSH</td>\n",
       "    </tr>\n",
       "    <tr>\n",
       "      <th>Age</th>\n",
       "      <td>22</td>\n",
       "      <td>22</td>\n",
       "      <td>23</td>\n",
       "      <td>21</td>\n",
       "      <td>20</td>\n",
       "    </tr>\n",
       "    <tr>\n",
       "      <th>Score</th>\n",
       "      <td>9</td>\n",
       "      <td>6</td>\n",
       "      <td>8</td>\n",
       "      <td>7</td>\n",
       "      <td>8</td>\n",
       "    </tr>\n",
       "  </tbody>\n",
       "</table>\n",
       "</div>"
      ],
      "text/plain": [
       "          0      1      2       3       4\n",
       "Name   ANSH  SAHIL  JAYAN  AYUSHI  SPARSH\n",
       "Age      22     22     23      21      20\n",
       "Score     9      6      8       7       8"
      ]
     },
     "execution_count": 19,
     "metadata": {},
     "output_type": "execute_result"
    }
   ],
   "source": [
    "df = df.transpose()\n",
    "df"
   ]
  },
  {
   "cell_type": "markdown",
   "id": "f0caa710",
   "metadata": {},
   "source": [
    "### Transform vs Apply()"
   ]
  },
  {
   "cell_type": "code",
   "execution_count": 21,
   "id": "d3c94a72",
   "metadata": {},
   "outputs": [],
   "source": [
    "# transfrom return shape matches original \n",
    "# works element wise : each group returns something the sam e size as the input\n",
    "# Ideal when you want to add new column to the dataframe \n",
    "# Output shape is always aligned with the original index\n",
    " \n",
    "# df['score_mean'] = df.groupby('AGE')['SCORE'].transform('mean')\n",
    "# df"
   ]
  },
  {
   "cell_type": "code",
   "execution_count": null,
   "id": "ef6af290",
   "metadata": {},
   "outputs": [
    {
     "name": "stdout",
     "output_type": "stream",
     "text": [
      "AGE\n",
      "20    8.0\n",
      "21    7.0\n",
      "22    7.5\n",
      "23    8.0\n",
      "Name: SCORE, dtype: float64\n"
     ]
    }
   ],
   "source": [
    "# apply() - Flexible , but shape may change \n",
    "# Can return aggregated results, series or even dataframe \n",
    "\n",
    "print(df.groupby('AGE')['SCORE'].apply(lambda x: x.mean()))\n"
   ]
  },
  {
   "cell_type": "code",
   "execution_count": null,
   "id": "60a5b767",
   "metadata": {},
   "outputs": [
    {
     "data": {
      "application/vnd.microsoft.datawrangler.viewer.v0+json": {
       "columns": [
        {
         "name": "index",
         "rawType": "object",
         "type": "string"
        },
        {
         "name": "NAME",
         "rawType": "object",
         "type": "string"
        },
        {
         "name": "AGE",
         "rawType": "object",
         "type": "unknown"
        },
        {
         "name": "SCORE",
         "rawType": "object",
         "type": "unknown"
        },
        {
         "name": "score_mean",
         "rawType": "object",
         "type": "unknown"
        },
        {
         "name": "score_mean_apply",
         "rawType": "float64",
         "type": "float"
        }
       ],
       "ref": "a4c53dcb-8c87-4545-a43f-8792ca030d64",
       "rows": [
        [
         "0",
         "ANSH",
         "22",
         "9",
         "7.5",
         null
        ],
        [
         "1",
         "SAHIL",
         "22",
         "6",
         "7.5",
         null
        ],
        [
         "2",
         "JAYAN",
         "23",
         "8",
         "8.0",
         null
        ],
        [
         "3",
         "AYUSHI",
         "21",
         "7",
         "7.0",
         null
        ],
        [
         "4",
         "SPARSH",
         "20",
         "8",
         "8.0",
         null
        ]
       ],
       "shape": {
        "columns": 5,
        "rows": 5
       }
      },
      "text/html": [
       "<div>\n",
       "<style scoped>\n",
       "    .dataframe tbody tr th:only-of-type {\n",
       "        vertical-align: middle;\n",
       "    }\n",
       "\n",
       "    .dataframe tbody tr th {\n",
       "        vertical-align: top;\n",
       "    }\n",
       "\n",
       "    .dataframe thead th {\n",
       "        text-align: right;\n",
       "    }\n",
       "</style>\n",
       "<table border=\"1\" class=\"dataframe\">\n",
       "  <thead>\n",
       "    <tr style=\"text-align: right;\">\n",
       "      <th></th>\n",
       "      <th>NAME</th>\n",
       "      <th>AGE</th>\n",
       "      <th>SCORE</th>\n",
       "      <th>score_mean</th>\n",
       "      <th>score_mean_apply</th>\n",
       "    </tr>\n",
       "  </thead>\n",
       "  <tbody>\n",
       "    <tr>\n",
       "      <th>0</th>\n",
       "      <td>ANSH</td>\n",
       "      <td>22</td>\n",
       "      <td>9</td>\n",
       "      <td>7.5</td>\n",
       "      <td>NaN</td>\n",
       "    </tr>\n",
       "    <tr>\n",
       "      <th>1</th>\n",
       "      <td>SAHIL</td>\n",
       "      <td>22</td>\n",
       "      <td>6</td>\n",
       "      <td>7.5</td>\n",
       "      <td>NaN</td>\n",
       "    </tr>\n",
       "    <tr>\n",
       "      <th>2</th>\n",
       "      <td>JAYAN</td>\n",
       "      <td>23</td>\n",
       "      <td>8</td>\n",
       "      <td>8.0</td>\n",
       "      <td>NaN</td>\n",
       "    </tr>\n",
       "    <tr>\n",
       "      <th>3</th>\n",
       "      <td>AYUSHI</td>\n",
       "      <td>21</td>\n",
       "      <td>7</td>\n",
       "      <td>7.0</td>\n",
       "      <td>NaN</td>\n",
       "    </tr>\n",
       "    <tr>\n",
       "      <th>4</th>\n",
       "      <td>SPARSH</td>\n",
       "      <td>20</td>\n",
       "      <td>8</td>\n",
       "      <td>8.0</td>\n",
       "      <td>NaN</td>\n",
       "    </tr>\n",
       "  </tbody>\n",
       "</table>\n",
       "</div>"
      ],
      "text/plain": [
       "     NAME AGE SCORE score_mean  score_mean_apply\n",
       "0    ANSH  22     9        7.5               NaN\n",
       "1   SAHIL  22     6        7.5               NaN\n",
       "2   JAYAN  23     8        8.0               NaN\n",
       "3  AYUSHI  21     7        7.0               NaN\n",
       "4  SPARSH  20     8        8.0               NaN"
      ]
     },
     "execution_count": 59,
     "metadata": {},
     "output_type": "execute_result"
    }
   ],
   "source": [
    "df['score_mean_apply']= df.groupby('AGE')['SCORE'].apply(lambda x: x.mean())\n",
    "df\n",
    "# This will give the missing values because there is 4 output and we need 5 answer to fill the column "
   ]
  },
  {
   "cell_type": "markdown",
   "id": "3a51bffe",
   "metadata": {},
   "source": [
    "### Pivot vs Pivot_Table()\n",
    "\n",
    "Pivoting is a powerful technique to reshape detailed (long - form) data into a summary table (wide-form ) --ideal for spotting trends and comparing group statistics.\n",
    "\n",
    "pivot() --  Strict but Simple\n",
    "\n",
    "* Best used when your data is perfectly clean, meaning there is one unique value for every combination of index and columns.\n",
    "\n",
    "* Converts rows into columns for easier comparison.\n",
    "\n",
    "* It is fast and straightforward, but throws an error if duplicate entries exist."
   ]
  },
  {
   "cell_type": "code",
   "execution_count": null,
   "id": "707dd25c",
   "metadata": {},
   "outputs": [
    {
     "name": "stdout",
     "output_type": "stream",
     "text": [
      "Score      6     7     8     9\n",
      "Name                          \n",
      "ANSH     NaN   NaN   NaN  22.0\n",
      "AYUSHI   NaN  21.0   NaN   NaN\n",
      "JAYAN    NaN   NaN  23.0   NaN\n",
      "SAHIL   22.0   NaN   NaN   NaN\n",
      "SPARSH   NaN   NaN  20.0   NaN\n"
     ]
    }
   ],
   "source": [
    "data = [('ANSH', 22, 9),\n",
    "        ('SAHIL', 22, 6),\n",
    "        ('JAYAN', 23, 8),\n",
    "        ('AYUSHI', 21, 7),\n",
    "        ('SPARSH', 20, 8) ]\n",
    "\n",
    "df = pd.DataFrame(data , columns=['Name','Age','Score'])\n",
    "df_p = df.pivot(index='Name', columns='Score', values='Age')\n",
    "print(df_p)"
   ]
  },
  {
   "cell_type": "code",
   "execution_count": null,
   "id": "7c1475ff",
   "metadata": {},
   "outputs": [
    {
     "name": "stdout",
     "output_type": "stream",
     "text": [
      "'Department'\n"
     ]
    }
   ],
   "source": [
    "df_pivot = pd.DataFrame({\n",
    "    'Department': ['HR', 'HR', 'Sales', 'Sales', 'IT'],\n",
    "    'Gender': ['M', 'F', 'M', 'F', 'M'],\n",
    "    'Salary': [3000, 3200, 4000, 3900, 4500]\n",
    "})\n",
    "\n",
    "try:\n",
    "    pivot = pd.pivot(df, index=\"Department\", columns=\"Gender\", values=\"Salary\")\n",
    "\n",
    "except Exception as e:\n",
    "    print(e)\n",
    "\n",
    "else:\n",
    "    print(pivot)\n",
    "    \n"
   ]
  },
  {
   "cell_type": "markdown",
   "id": "42cdbe62",
   "metadata": {},
   "source": [
    "pivot_table() — Flexible and Powerful\n",
    "\n",
    "* Works just like pivot(), but with aggregation support — great for handling duplicates or missing data.\n",
    "\n",
    "* Lets you group data by one or more keys.\n",
    "\n",
    "* Supports common aggregations like mean, sum, count, and even multiple functions.\n",
    "\n",
    "* Accepts multiple columns in index, columns, and values.\n"
   ]
  },
  {
   "cell_type": "code",
   "execution_count": null,
   "id": "2afe726c",
   "metadata": {},
   "outputs": [
    {
     "data": {
      "application/vnd.microsoft.datawrangler.viewer.v0+json": {
       "columns": [
        {
         "name": "Department",
         "rawType": "object",
         "type": "string"
        },
        {
         "name": "F",
         "rawType": "float64",
         "type": "float"
        },
        {
         "name": "M",
         "rawType": "float64",
         "type": "float"
        }
       ],
       "ref": "15920676-30a7-48a1-8e31-ae37f72f4c95",
       "rows": [
        [
         "HR",
         "3200.0",
         "3000.0"
        ],
        [
         "IT",
         null,
         "4500.0"
        ],
        [
         "Sales",
         "3900.0",
         "4000.0"
        ]
       ],
       "shape": {
        "columns": 2,
        "rows": 3
       }
      },
      "text/html": [
       "<div>\n",
       "<style scoped>\n",
       "    .dataframe tbody tr th:only-of-type {\n",
       "        vertical-align: middle;\n",
       "    }\n",
       "\n",
       "    .dataframe tbody tr th {\n",
       "        vertical-align: top;\n",
       "    }\n",
       "\n",
       "    .dataframe thead th {\n",
       "        text-align: right;\n",
       "    }\n",
       "</style>\n",
       "<table border=\"1\" class=\"dataframe\">\n",
       "  <thead>\n",
       "    <tr style=\"text-align: right;\">\n",
       "      <th>Gender</th>\n",
       "      <th>F</th>\n",
       "      <th>M</th>\n",
       "    </tr>\n",
       "    <tr>\n",
       "      <th>Department</th>\n",
       "      <th></th>\n",
       "      <th></th>\n",
       "    </tr>\n",
       "  </thead>\n",
       "  <tbody>\n",
       "    <tr>\n",
       "      <th>HR</th>\n",
       "      <td>3200.0</td>\n",
       "      <td>3000.0</td>\n",
       "    </tr>\n",
       "    <tr>\n",
       "      <th>IT</th>\n",
       "      <td>NaN</td>\n",
       "      <td>4500.0</td>\n",
       "    </tr>\n",
       "    <tr>\n",
       "      <th>Sales</th>\n",
       "      <td>3900.0</td>\n",
       "      <td>4000.0</td>\n",
       "    </tr>\n",
       "  </tbody>\n",
       "</table>\n",
       "</div>"
      ],
      "text/plain": [
       "Gender           F       M\n",
       "Department                \n",
       "HR          3200.0  3000.0\n",
       "IT             NaN  4500.0\n",
       "Sales       3900.0  4000.0"
      ]
     },
     "execution_count": 67,
     "metadata": {},
     "output_type": "execute_result"
    }
   ],
   "source": [
    "pivot_t = df_pivot.pivot_table(index='Department', columns='Gender', values='Salary', aggfunc='mean')\n",
    "pivot"
   ]
  },
  {
   "cell_type": "markdown",
   "id": "1ff75ec2",
   "metadata": {},
   "source": [
    "Create a Pandas DataFrame from list of Dictionaries\n",
    "* df = pd.DataFrame.from_records()  # we can also pass the index\n",
    "* Using pd.json_normalize()\n",
    "* df = pd.DataFrame.from_dict()\n",
    "* Using pd.DataFrame()"
   ]
  },
  {
   "cell_type": "code",
   "execution_count": null,
   "id": "7b36ade4",
   "metadata": {},
   "outputs": [
    {
     "data": {
      "application/vnd.microsoft.datawrangler.viewer.v0+json": {
       "columns": [
        {
         "name": "index",
         "rawType": "int64",
         "type": "integer"
        },
        {
         "name": "This",
         "rawType": "object",
         "type": "unknown"
        },
        {
         "name": "Side",
         "rawType": "object",
         "type": "unknown"
        },
        {
         "name": "Nirav",
         "rawType": "object",
         "type": "unknown"
        }
       ],
       "ref": "5df9bacd-6eea-4499-ba7a-f869b4cf4826",
       "rows": [
        [
         "0",
         "dataframe",
         "Using",
         "List"
        ],
        [
         "1",
         "10",
         "20",
         "30"
        ]
       ],
       "shape": {
        "columns": 3,
        "rows": 2
       }
      },
      "text/html": [
       "<div>\n",
       "<style scoped>\n",
       "    .dataframe tbody tr th:only-of-type {\n",
       "        vertical-align: middle;\n",
       "    }\n",
       "\n",
       "    .dataframe tbody tr th {\n",
       "        vertical-align: top;\n",
       "    }\n",
       "\n",
       "    .dataframe thead th {\n",
       "        text-align: right;\n",
       "    }\n",
       "</style>\n",
       "<table border=\"1\" class=\"dataframe\">\n",
       "  <thead>\n",
       "    <tr style=\"text-align: right;\">\n",
       "      <th></th>\n",
       "      <th>This</th>\n",
       "      <th>Side</th>\n",
       "      <th>Nirav</th>\n",
       "    </tr>\n",
       "  </thead>\n",
       "  <tbody>\n",
       "    <tr>\n",
       "      <th>0</th>\n",
       "      <td>dataframe</td>\n",
       "      <td>Using</td>\n",
       "      <td>List</td>\n",
       "    </tr>\n",
       "    <tr>\n",
       "      <th>1</th>\n",
       "      <td>10</td>\n",
       "      <td>20</td>\n",
       "      <td>30</td>\n",
       "    </tr>\n",
       "  </tbody>\n",
       "</table>\n",
       "</div>"
      ],
      "text/plain": [
       "        This   Side Nirav\n",
       "0  dataframe  Using  List\n",
       "1         10     20    30"
      ]
     },
     "metadata": {},
     "output_type": "display_data"
    },
    {
     "data": {
      "application/vnd.microsoft.datawrangler.viewer.v0+json": {
       "columns": [
        {
         "name": "index",
         "rawType": "int64",
         "type": "integer"
        },
        {
         "name": "This",
         "rawType": "object",
         "type": "unknown"
        },
        {
         "name": "Side",
         "rawType": "object",
         "type": "unknown"
        },
        {
         "name": "Nirav",
         "rawType": "object",
         "type": "unknown"
        }
       ],
       "ref": "bd02da3f-af72-42cb-960e-f99e6029c55e",
       "rows": [
        [
         "0",
         "dataframe",
         "Using",
         "List"
        ],
        [
         "1",
         "10",
         "20",
         "30"
        ]
       ],
       "shape": {
        "columns": 3,
        "rows": 2
       }
      },
      "text/html": [
       "<div>\n",
       "<style scoped>\n",
       "    .dataframe tbody tr th:only-of-type {\n",
       "        vertical-align: middle;\n",
       "    }\n",
       "\n",
       "    .dataframe tbody tr th {\n",
       "        vertical-align: top;\n",
       "    }\n",
       "\n",
       "    .dataframe thead th {\n",
       "        text-align: right;\n",
       "    }\n",
       "</style>\n",
       "<table border=\"1\" class=\"dataframe\">\n",
       "  <thead>\n",
       "    <tr style=\"text-align: right;\">\n",
       "      <th></th>\n",
       "      <th>This</th>\n",
       "      <th>Side</th>\n",
       "      <th>Nirav</th>\n",
       "    </tr>\n",
       "  </thead>\n",
       "  <tbody>\n",
       "    <tr>\n",
       "      <th>0</th>\n",
       "      <td>dataframe</td>\n",
       "      <td>Using</td>\n",
       "      <td>List</td>\n",
       "    </tr>\n",
       "    <tr>\n",
       "      <th>1</th>\n",
       "      <td>10</td>\n",
       "      <td>20</td>\n",
       "      <td>30</td>\n",
       "    </tr>\n",
       "  </tbody>\n",
       "</table>\n",
       "</div>"
      ],
      "text/plain": [
       "        This   Side Nirav\n",
       "0  dataframe  Using  List\n",
       "1         10     20    30"
      ]
     },
     "metadata": {},
     "output_type": "display_data"
    }
   ],
   "source": [
    "data = [{'This':'dataframe', 'Side':'Using', 'Nirav':'List' },\n",
    "        {'This': 10, 'Side':20, 'Nirav': 30 }]\n",
    "\n",
    "df = pd.DataFrame.from_records(data)\n",
    "display(df)\n",
    "df = pd.DataFrame.from_dict(data)\n",
    "display(df)"
   ]
  },
  {
   "cell_type": "code",
   "execution_count": null,
   "id": "bb75740b",
   "metadata": {},
   "outputs": [
    {
     "data": {
      "application/vnd.microsoft.datawrangler.viewer.v0+json": {
       "columns": [
        {
         "name": "index",
         "rawType": "int64",
         "type": "integer"
        },
        {
         "name": "This",
         "rawType": "object",
         "type": "unknown"
        },
        {
         "name": "Side",
         "rawType": "object",
         "type": "unknown"
        },
        {
         "name": "Nirav",
         "rawType": "object",
         "type": "unknown"
        }
       ],
       "ref": "949632c9-83c1-4d68-9b21-47164be00563",
       "rows": [
        [
         "0",
         "dataframe",
         "Using",
         "List"
        ],
        [
         "1",
         "10",
         "20",
         "30"
        ]
       ],
       "shape": {
        "columns": 3,
        "rows": 2
       }
      },
      "text/html": [
       "<div>\n",
       "<style scoped>\n",
       "    .dataframe tbody tr th:only-of-type {\n",
       "        vertical-align: middle;\n",
       "    }\n",
       "\n",
       "    .dataframe tbody tr th {\n",
       "        vertical-align: top;\n",
       "    }\n",
       "\n",
       "    .dataframe thead th {\n",
       "        text-align: right;\n",
       "    }\n",
       "</style>\n",
       "<table border=\"1\" class=\"dataframe\">\n",
       "  <thead>\n",
       "    <tr style=\"text-align: right;\">\n",
       "      <th></th>\n",
       "      <th>This</th>\n",
       "      <th>Side</th>\n",
       "      <th>Nirav</th>\n",
       "    </tr>\n",
       "  </thead>\n",
       "  <tbody>\n",
       "    <tr>\n",
       "      <th>0</th>\n",
       "      <td>dataframe</td>\n",
       "      <td>Using</td>\n",
       "      <td>List</td>\n",
       "    </tr>\n",
       "    <tr>\n",
       "      <th>1</th>\n",
       "      <td>10</td>\n",
       "      <td>20</td>\n",
       "      <td>30</td>\n",
       "    </tr>\n",
       "  </tbody>\n",
       "</table>\n",
       "</div>"
      ],
      "text/plain": [
       "        This   Side Nirav\n",
       "0  dataframe  Using  List\n",
       "1         10     20    30"
      ]
     },
     "execution_count": 22,
     "metadata": {},
     "output_type": "execute_result"
    }
   ],
   "source": [
    "df = pd.json_normalize(data)\n",
    "df"
   ]
  },
  {
   "cell_type": "code",
   "execution_count": null,
   "id": "fe5104d5",
   "metadata": {},
   "outputs": [
    {
     "data": {
      "application/vnd.microsoft.datawrangler.viewer.v0+json": {
       "columns": [
        {
         "name": "index",
         "rawType": "int64",
         "type": "integer"
        },
        {
         "name": "This",
         "rawType": "object",
         "type": "unknown"
        },
        {
         "name": "Side",
         "rawType": "object",
         "type": "unknown"
        },
        {
         "name": "Nirav",
         "rawType": "object",
         "type": "unknown"
        }
       ],
       "ref": "90e73d5c-e5a0-4d5f-87df-6e7ec780c241",
       "rows": [
        [
         "0",
         "dataframe",
         "Using",
         "List"
        ],
        [
         "1",
         "10",
         "20",
         "30"
        ]
       ],
       "shape": {
        "columns": 3,
        "rows": 2
       }
      },
      "text/html": [
       "<div>\n",
       "<style scoped>\n",
       "    .dataframe tbody tr th:only-of-type {\n",
       "        vertical-align: middle;\n",
       "    }\n",
       "\n",
       "    .dataframe tbody tr th {\n",
       "        vertical-align: top;\n",
       "    }\n",
       "\n",
       "    .dataframe thead th {\n",
       "        text-align: right;\n",
       "    }\n",
       "</style>\n",
       "<table border=\"1\" class=\"dataframe\">\n",
       "  <thead>\n",
       "    <tr style=\"text-align: right;\">\n",
       "      <th></th>\n",
       "      <th>This</th>\n",
       "      <th>Side</th>\n",
       "      <th>Nirav</th>\n",
       "    </tr>\n",
       "  </thead>\n",
       "  <tbody>\n",
       "    <tr>\n",
       "      <th>0</th>\n",
       "      <td>dataframe</td>\n",
       "      <td>Using</td>\n",
       "      <td>List</td>\n",
       "    </tr>\n",
       "    <tr>\n",
       "      <th>1</th>\n",
       "      <td>10</td>\n",
       "      <td>20</td>\n",
       "      <td>30</td>\n",
       "    </tr>\n",
       "  </tbody>\n",
       "</table>\n",
       "</div>"
      ],
      "text/plain": [
       "        This   Side Nirav\n",
       "0  dataframe  Using  List\n",
       "1         10     20    30"
      ]
     },
     "execution_count": 23,
     "metadata": {},
     "output_type": "execute_result"
    }
   ],
   "source": [
    "df = pd.DataFrame(data)\n",
    "df"
   ]
  },
  {
   "cell_type": "code",
   "execution_count": null,
   "id": "eefad204",
   "metadata": {},
   "outputs": [
    {
     "data": {
      "application/vnd.microsoft.datawrangler.viewer.v0+json": {
       "columns": [
        {
         "name": "index",
         "rawType": "object",
         "type": "string"
        },
        {
         "name": "This",
         "rawType": "object",
         "type": "unknown"
        },
        {
         "name": "Side",
         "rawType": "object",
         "type": "unknown"
        }
       ],
       "ref": "9893fc8c-ee75-4a56-be34-fe0bbf3d3786",
       "rows": [
        [
         "ind1",
         "dataframe",
         "Using"
        ],
        [
         "ind2",
         "10",
         "20"
        ]
       ],
       "shape": {
        "columns": 2,
        "rows": 2
       }
      },
      "text/html": [
       "<div>\n",
       "<style scoped>\n",
       "    .dataframe tbody tr th:only-of-type {\n",
       "        vertical-align: middle;\n",
       "    }\n",
       "\n",
       "    .dataframe tbody tr th {\n",
       "        vertical-align: top;\n",
       "    }\n",
       "\n",
       "    .dataframe thead th {\n",
       "        text-align: right;\n",
       "    }\n",
       "</style>\n",
       "<table border=\"1\" class=\"dataframe\">\n",
       "  <thead>\n",
       "    <tr style=\"text-align: right;\">\n",
       "      <th></th>\n",
       "      <th>This</th>\n",
       "      <th>Side</th>\n",
       "    </tr>\n",
       "  </thead>\n",
       "  <tbody>\n",
       "    <tr>\n",
       "      <th>ind1</th>\n",
       "      <td>dataframe</td>\n",
       "      <td>Using</td>\n",
       "    </tr>\n",
       "    <tr>\n",
       "      <th>ind2</th>\n",
       "      <td>10</td>\n",
       "      <td>20</td>\n",
       "    </tr>\n",
       "  </tbody>\n",
       "</table>\n",
       "</div>"
      ],
      "text/plain": [
       "           This   Side\n",
       "ind1  dataframe  Using\n",
       "ind2         10     20"
      ]
     },
     "metadata": {},
     "output_type": "display_data"
    },
    {
     "data": {
      "application/vnd.microsoft.datawrangler.viewer.v0+json": {
       "columns": [
        {
         "name": "index",
         "rawType": "object",
         "type": "string"
        },
        {
         "name": "This",
         "rawType": "object",
         "type": "unknown"
        },
        {
         "name": "Side",
         "rawType": "object",
         "type": "unknown"
        },
        {
         "name": "Nirav",
         "rawType": "object",
         "type": "unknown"
        }
       ],
       "ref": "3440c5cc-a49b-4907-83ec-1863d4d9874a",
       "rows": [
        [
         "indx",
         "dataframe",
         "Using",
         "List"
        ],
        [
         "indy",
         "10",
         "20",
         "30"
        ]
       ],
       "shape": {
        "columns": 3,
        "rows": 2
       }
      },
      "text/html": [
       "<div>\n",
       "<style scoped>\n",
       "    .dataframe tbody tr th:only-of-type {\n",
       "        vertical-align: middle;\n",
       "    }\n",
       "\n",
       "    .dataframe tbody tr th {\n",
       "        vertical-align: top;\n",
       "    }\n",
       "\n",
       "    .dataframe thead th {\n",
       "        text-align: right;\n",
       "    }\n",
       "</style>\n",
       "<table border=\"1\" class=\"dataframe\">\n",
       "  <thead>\n",
       "    <tr style=\"text-align: right;\">\n",
       "      <th></th>\n",
       "      <th>This</th>\n",
       "      <th>Side</th>\n",
       "      <th>Nirav</th>\n",
       "    </tr>\n",
       "  </thead>\n",
       "  <tbody>\n",
       "    <tr>\n",
       "      <th>indx</th>\n",
       "      <td>dataframe</td>\n",
       "      <td>Using</td>\n",
       "      <td>List</td>\n",
       "    </tr>\n",
       "    <tr>\n",
       "      <th>indy</th>\n",
       "      <td>10</td>\n",
       "      <td>20</td>\n",
       "      <td>30</td>\n",
       "    </tr>\n",
       "  </tbody>\n",
       "</table>\n",
       "</div>"
      ],
      "text/plain": [
       "           This   Side Nirav\n",
       "indx  dataframe  Using  List\n",
       "indy         10     20    30"
      ]
     },
     "metadata": {},
     "output_type": "display_data"
    }
   ],
   "source": [
    "# with two column indices, values same as ditionary keys\n",
    "\n",
    "df1 = pd.DataFrame(data, index=['ind1','ind2'],\n",
    "                   columns=['This', 'Side'])\n",
    "# With two column indices with one index with other name\n",
    "df2 = pd.DataFrame(data, index=['indx','indy'])\n",
    "display(df1)\n",
    "display(df2)"
   ]
  },
  {
   "cell_type": "markdown",
   "id": "97798d34",
   "metadata": {},
   "source": [
    " Convert list of nested dictionaries into Pandas dataframe \n",
    " * Using from_dict(orient='index')\n",
    " * Native methods"
   ]
  },
  {
   "cell_type": "code",
   "execution_count": null,
   "id": "af315a32",
   "metadata": {},
   "outputs": [
    {
     "data": {
      "application/vnd.microsoft.datawrangler.viewer.v0+json": {
       "columns": [
        {
         "name": "index",
         "rawType": "object",
         "type": "string"
        },
        {
         "name": "Country",
         "rawType": "object",
         "type": "string"
        },
        {
         "name": "Capital",
         "rawType": "object",
         "type": "string"
        },
        {
         "name": "Population",
         "rawType": "object",
         "type": "string"
        }
       ],
       "ref": "c61f8a7c-dc89-40e2-9ad5-134383a18410",
       "rows": [
        [
         "1",
         "New Country 1",
         "New Capital 1",
         "123,456,789"
        ],
        [
         "2",
         "New Country 2",
         "New Capital 2",
         "987,654,321"
        ],
        [
         "3",
         "New Country 3",
         "New Capital 3",
         "111,222,333"
        ]
       ],
       "shape": {
        "columns": 3,
        "rows": 3
       }
      },
      "text/html": [
       "<div>\n",
       "<style scoped>\n",
       "    .dataframe tbody tr th:only-of-type {\n",
       "        vertical-align: middle;\n",
       "    }\n",
       "\n",
       "    .dataframe tbody tr th {\n",
       "        vertical-align: top;\n",
       "    }\n",
       "\n",
       "    .dataframe thead th {\n",
       "        text-align: right;\n",
       "    }\n",
       "</style>\n",
       "<table border=\"1\" class=\"dataframe\">\n",
       "  <thead>\n",
       "    <tr style=\"text-align: right;\">\n",
       "      <th></th>\n",
       "      <th>Country</th>\n",
       "      <th>Capital</th>\n",
       "      <th>Population</th>\n",
       "    </tr>\n",
       "  </thead>\n",
       "  <tbody>\n",
       "    <tr>\n",
       "      <th>1</th>\n",
       "      <td>New Country 1</td>\n",
       "      <td>New Capital 1</td>\n",
       "      <td>123,456,789</td>\n",
       "    </tr>\n",
       "    <tr>\n",
       "      <th>2</th>\n",
       "      <td>New Country 2</td>\n",
       "      <td>New Capital 2</td>\n",
       "      <td>987,654,321</td>\n",
       "    </tr>\n",
       "    <tr>\n",
       "      <th>3</th>\n",
       "      <td>New Country 3</td>\n",
       "      <td>New Capital 3</td>\n",
       "      <td>111,222,333</td>\n",
       "    </tr>\n",
       "  </tbody>\n",
       "</table>\n",
       "</div>"
      ],
      "text/plain": [
       "         Country        Capital   Population\n",
       "1  New Country 1  New Capital 1  123,456,789\n",
       "2  New Country 2  New Capital 2  987,654,321\n",
       "3  New Country 3  New Capital 3  111,222,333"
      ]
     },
     "execution_count": 26,
     "metadata": {},
     "output_type": "execute_result"
    }
   ],
   "source": [
    "countries = {\n",
    "    \"1\": {\"Country\": \"New Country 1\",\n",
    "          \"Capital\": \"New Capital 1\",\n",
    "          \"Population\": \"123,456,789\"},\n",
    "    \"2\": {\"Country\": \"New Country 2\",\n",
    "          \"Capital\": \"New Capital 2\",\n",
    "          \"Population\": \"987,654,321\"},\n",
    "    \"3\": {\"Country\": \"New Country 3\",\n",
    "          \"Capital\": \"New Capital 3\",\n",
    "          \"Population\": \"111,222,333\"}\n",
    "}\n",
    "data = pd.DataFrame.from_dict(countries , orient='index')\n",
    "data"
   ]
  },
  {
   "cell_type": "code",
   "execution_count": null,
   "id": "a8186abf",
   "metadata": {},
   "outputs": [
    {
     "data": {
      "application/vnd.microsoft.datawrangler.viewer.v0+json": {
       "columns": [
        {
         "name": "index",
         "rawType": "int64",
         "type": "integer"
        },
        {
         "name": "Student",
         "rawType": "object",
         "type": "unknown"
        },
        {
         "name": "Name",
         "rawType": "object",
         "type": "string"
        }
       ],
       "ref": "7b15f3a9-16a1-4dd8-83f4-ec7d58c2aab2",
       "rows": [
        [
         "0",
         "[{'Exam': 90, 'Grade': 'a'}, {'Exam': 99, 'Grade': 'b'}, {'Exam': 97, 'Grade': 'c'}]",
         "Paras Jain"
        ],
        [
         "1",
         "[{'Exam': 89, 'Grade': 'a'}, {'Exam': 80, 'Grade': 'b'}]",
         "Chunky Pandey"
        ]
       ],
       "shape": {
        "columns": 2,
        "rows": 2
       }
      },
      "text/html": [
       "<div>\n",
       "<style scoped>\n",
       "    .dataframe tbody tr th:only-of-type {\n",
       "        vertical-align: middle;\n",
       "    }\n",
       "\n",
       "    .dataframe tbody tr th {\n",
       "        vertical-align: top;\n",
       "    }\n",
       "\n",
       "    .dataframe thead th {\n",
       "        text-align: right;\n",
       "    }\n",
       "</style>\n",
       "<table border=\"1\" class=\"dataframe\">\n",
       "  <thead>\n",
       "    <tr style=\"text-align: right;\">\n",
       "      <th></th>\n",
       "      <th>Student</th>\n",
       "      <th>Name</th>\n",
       "    </tr>\n",
       "  </thead>\n",
       "  <tbody>\n",
       "    <tr>\n",
       "      <th>0</th>\n",
       "      <td>[{'Exam': 90, 'Grade': 'a'}, {'Exam': 99, 'Gra...</td>\n",
       "      <td>Paras Jain</td>\n",
       "    </tr>\n",
       "    <tr>\n",
       "      <th>1</th>\n",
       "      <td>[{'Exam': 89, 'Grade': 'a'}, {'Exam': 80, 'Gra...</td>\n",
       "      <td>Chunky Pandey</td>\n",
       "    </tr>\n",
       "  </tbody>\n",
       "</table>\n",
       "</div>"
      ],
      "text/plain": [
       "                                             Student           Name\n",
       "0  [{'Exam': 90, 'Grade': 'a'}, {'Exam': 99, 'Gra...     Paras Jain\n",
       "1  [{'Exam': 89, 'Grade': 'a'}, {'Exam': 80, 'Gra...  Chunky Pandey"
      ]
     },
     "metadata": {},
     "output_type": "display_data"
    }
   ],
   "source": [
    "list = [{\n",
    "        \"Student\": [{\"Exam\": 90, \"Grade\": \"a\"},\n",
    "                    {\"Exam\": 99, \"Grade\": \"b\"},\n",
    "                    {\"Exam\": 97, \"Grade\": \"c\"},\n",
    "                    ],\n",
    "        \"Name\": \"Paras Jain\"\n",
    "        },\n",
    "        {\n",
    "        \"Student\": [{\"Exam\": 89, \"Grade\": \"a\"},\n",
    "                    {\"Exam\": 80, \"Grade\": \"b\"}\n",
    "                    ],\n",
    "        \"Name\": \"Chunky Pandey\"\n",
    "        }\n",
    "        ]\n",
    "\n",
    "data = pd.DataFrame.from_dict(list)\n",
    "display(data)\n",
    "\n"
   ]
  },
  {
   "cell_type": "code",
   "execution_count": null,
   "id": "2ad5c1e5",
   "metadata": {},
   "outputs": [
    {
     "name": "stdout",
     "output_type": "stream",
     "text": [
      "[{'Exam': 90, 'Grade': 'a', 'Name': 'Paras Jain'}, {'Exam': 99, 'Grade': 'b', 'Name': 'Paras Jain'}, {'Exam': 97, 'Grade': 'c', 'Name': 'Paras Jain'}, {'Exam': 89, 'Grade': 'a', 'Name': 'Chunky Pandey'}, {'Exam': 80, 'Grade': 'b', 'Name': 'Chunky Pandey'}]\n"
     ]
    }
   ],
   "source": [
    "rows = []\n",
    "\n",
    "for data in list:\n",
    "    data_row = data['Student']\n",
    "    time = data['Name']\n",
    "\n",
    "    for row in data_row:\n",
    "        row['Name'] = time\n",
    "        rows.append(row)\n",
    "print(rows)\n"
   ]
  },
  {
   "cell_type": "code",
   "execution_count": null,
   "id": "7f1747d3",
   "metadata": {},
   "outputs": [
    {
     "data": {
      "application/vnd.microsoft.datawrangler.viewer.v0+json": {
       "columns": [
        {
         "name": "index",
         "rawType": "int64",
         "type": "integer"
        },
        {
         "name": "Exam",
         "rawType": "int64",
         "type": "integer"
        },
        {
         "name": "Grade",
         "rawType": "object",
         "type": "string"
        },
        {
         "name": "Name",
         "rawType": "object",
         "type": "string"
        }
       ],
       "ref": "845b7781-5625-4b2a-8120-8f7b6af8664d",
       "rows": [
        [
         "0",
         "90",
         "a",
         "Paras Jain"
        ],
        [
         "1",
         "99",
         "b",
         "Paras Jain"
        ],
        [
         "2",
         "97",
         "c",
         "Paras Jain"
        ],
        [
         "3",
         "89",
         "a",
         "Chunky Pandey"
        ],
        [
         "4",
         "80",
         "b",
         "Chunky Pandey"
        ]
       ],
       "shape": {
        "columns": 3,
        "rows": 5
       }
      },
      "text/html": [
       "<div>\n",
       "<style scoped>\n",
       "    .dataframe tbody tr th:only-of-type {\n",
       "        vertical-align: middle;\n",
       "    }\n",
       "\n",
       "    .dataframe tbody tr th {\n",
       "        vertical-align: top;\n",
       "    }\n",
       "\n",
       "    .dataframe thead th {\n",
       "        text-align: right;\n",
       "    }\n",
       "</style>\n",
       "<table border=\"1\" class=\"dataframe\">\n",
       "  <thead>\n",
       "    <tr style=\"text-align: right;\">\n",
       "      <th></th>\n",
       "      <th>Exam</th>\n",
       "      <th>Grade</th>\n",
       "      <th>Name</th>\n",
       "    </tr>\n",
       "  </thead>\n",
       "  <tbody>\n",
       "    <tr>\n",
       "      <th>0</th>\n",
       "      <td>90</td>\n",
       "      <td>a</td>\n",
       "      <td>Paras Jain</td>\n",
       "    </tr>\n",
       "    <tr>\n",
       "      <th>1</th>\n",
       "      <td>99</td>\n",
       "      <td>b</td>\n",
       "      <td>Paras Jain</td>\n",
       "    </tr>\n",
       "    <tr>\n",
       "      <th>2</th>\n",
       "      <td>97</td>\n",
       "      <td>c</td>\n",
       "      <td>Paras Jain</td>\n",
       "    </tr>\n",
       "    <tr>\n",
       "      <th>3</th>\n",
       "      <td>89</td>\n",
       "      <td>a</td>\n",
       "      <td>Chunky Pandey</td>\n",
       "    </tr>\n",
       "    <tr>\n",
       "      <th>4</th>\n",
       "      <td>80</td>\n",
       "      <td>b</td>\n",
       "      <td>Chunky Pandey</td>\n",
       "    </tr>\n",
       "  </tbody>\n",
       "</table>\n",
       "</div>"
      ],
      "text/plain": [
       "   Exam Grade           Name\n",
       "0    90     a     Paras Jain\n",
       "1    99     b     Paras Jain\n",
       "2    97     c     Paras Jain\n",
       "3    89     a  Chunky Pandey\n",
       "4    80     b  Chunky Pandey"
      ]
     },
     "metadata": {},
     "output_type": "display_data"
    }
   ],
   "source": [
    "df = pd.DataFrame(rows)\n",
    "display(df)"
   ]
  },
  {
   "cell_type": "code",
   "execution_count": null,
   "id": "2b3ad8e3",
   "metadata": {},
   "outputs": [
    {
     "data": {
      "application/vnd.microsoft.datawrangler.viewer.v0+json": {
       "columns": [
        {
         "name": "Name",
         "rawType": "object",
         "type": "string"
        },
        {
         "name": "Exam",
         "rawType": "int64",
         "type": "integer"
        },
        {
         "name": "Grade",
         "rawType": "object",
         "type": "string"
        }
       ],
       "ref": "f98850ff-6f1a-41c7-99a5-1789773cc493",
       "rows": [
        [
         "Paras Jain",
         "90",
         "a"
        ],
        [
         "Paras Jain",
         "99",
         "b"
        ],
        [
         "Paras Jain",
         "97",
         "c"
        ],
        [
         "Chunky Pandey",
         "89",
         "a"
        ],
        [
         "Chunky Pandey",
         "80",
         "b"
        ]
       ],
       "shape": {
        "columns": 2,
        "rows": 5
       }
      },
      "text/html": [
       "<div>\n",
       "<style scoped>\n",
       "    .dataframe tbody tr th:only-of-type {\n",
       "        vertical-align: middle;\n",
       "    }\n",
       "\n",
       "    .dataframe tbody tr th {\n",
       "        vertical-align: top;\n",
       "    }\n",
       "\n",
       "    .dataframe thead th {\n",
       "        text-align: right;\n",
       "    }\n",
       "</style>\n",
       "<table border=\"1\" class=\"dataframe\">\n",
       "  <thead>\n",
       "    <tr style=\"text-align: right;\">\n",
       "      <th></th>\n",
       "      <th>Exam</th>\n",
       "      <th>Grade</th>\n",
       "    </tr>\n",
       "    <tr>\n",
       "      <th>Name</th>\n",
       "      <th></th>\n",
       "      <th></th>\n",
       "    </tr>\n",
       "  </thead>\n",
       "  <tbody>\n",
       "    <tr>\n",
       "      <th>Paras Jain</th>\n",
       "      <td>90</td>\n",
       "      <td>a</td>\n",
       "    </tr>\n",
       "    <tr>\n",
       "      <th>Paras Jain</th>\n",
       "      <td>99</td>\n",
       "      <td>b</td>\n",
       "    </tr>\n",
       "    <tr>\n",
       "      <th>Paras Jain</th>\n",
       "      <td>97</td>\n",
       "      <td>c</td>\n",
       "    </tr>\n",
       "    <tr>\n",
       "      <th>Chunky Pandey</th>\n",
       "      <td>89</td>\n",
       "      <td>a</td>\n",
       "    </tr>\n",
       "    <tr>\n",
       "      <th>Chunky Pandey</th>\n",
       "      <td>80</td>\n",
       "      <td>b</td>\n",
       "    </tr>\n",
       "  </tbody>\n",
       "</table>\n",
       "</div>"
      ],
      "text/plain": [
       "               Exam Grade\n",
       "Name                     \n",
       "Paras Jain       90     a\n",
       "Paras Jain       99     b\n",
       "Paras Jain       97     c\n",
       "Chunky Pandey    89     a\n",
       "Chunky Pandey    80     b"
      ]
     },
     "metadata": {},
     "output_type": "display_data"
    }
   ],
   "source": [
    "df.set_index('Name', inplace =  True) # to make column name in index\n",
    "display(df)"
   ]
  },
  {
   "cell_type": "code",
   "execution_count": null,
   "id": "6024d181",
   "metadata": {},
   "outputs": [
    {
     "name": "stdout",
     "output_type": "stream",
     "text": [
      "            NAME  Maths  Physics  Chemistry\n",
      "0  Chunky Pandey   89.0     80.0        NaN\n",
      "1     Paras Jain   90.0     99.0       97.0\n"
     ]
    }
   ],
   "source": [
    "# Using pivot-table\n",
    "df = df.pivot_table(index='Name', columns=['Grade'],\n",
    "                    values=['Exam']).reset_index()\n",
    "\n",
    "df.columns=['NAME','Maths','Physics','Chemistry']\n",
    "\n",
    "print(df)"
   ]
  },
  {
   "cell_type": "code",
   "execution_count": null,
   "id": "bc4b5596",
   "metadata": {},
   "outputs": [
    {
     "data": {
      "application/vnd.microsoft.datawrangler.viewer.v0+json": {
       "columns": [
        {
         "name": "index",
         "rawType": "int64",
         "type": "integer"
        },
        {
         "name": "City",
         "rawType": "object",
         "type": "string"
        },
        {
         "name": "Event",
         "rawType": "object",
         "type": "string"
        },
        {
         "name": "Cost",
         "rawType": "int64",
         "type": "integer"
        }
       ],
       "ref": "91d4c62e-cfcf-415b-9576-b17c1b2a4966",
       "rows": [
        [
         "0",
         "New York",
         "Music",
         "10000"
        ],
        [
         "1",
         "Parague",
         "Poetry",
         "5000"
        ],
        [
         "2",
         "New Delhi",
         "Theatre",
         "15000"
        ],
        [
         "3",
         "Venice",
         "Comedy",
         "2000"
        ],
        [
         "4",
         "new Orleans",
         "Tech_Summit",
         "12000"
        ]
       ],
       "shape": {
        "columns": 3,
        "rows": 5
       }
      },
      "text/html": [
       "<div>\n",
       "<style scoped>\n",
       "    .dataframe tbody tr th:only-of-type {\n",
       "        vertical-align: middle;\n",
       "    }\n",
       "\n",
       "    .dataframe tbody tr th {\n",
       "        vertical-align: top;\n",
       "    }\n",
       "\n",
       "    .dataframe thead th {\n",
       "        text-align: right;\n",
       "    }\n",
       "</style>\n",
       "<table border=\"1\" class=\"dataframe\">\n",
       "  <thead>\n",
       "    <tr style=\"text-align: right;\">\n",
       "      <th></th>\n",
       "      <th>City</th>\n",
       "      <th>Event</th>\n",
       "      <th>Cost</th>\n",
       "    </tr>\n",
       "  </thead>\n",
       "  <tbody>\n",
       "    <tr>\n",
       "      <th>0</th>\n",
       "      <td>New York</td>\n",
       "      <td>Music</td>\n",
       "      <td>10000</td>\n",
       "    </tr>\n",
       "    <tr>\n",
       "      <th>1</th>\n",
       "      <td>Parague</td>\n",
       "      <td>Poetry</td>\n",
       "      <td>5000</td>\n",
       "    </tr>\n",
       "    <tr>\n",
       "      <th>2</th>\n",
       "      <td>New Delhi</td>\n",
       "      <td>Theatre</td>\n",
       "      <td>15000</td>\n",
       "    </tr>\n",
       "    <tr>\n",
       "      <th>3</th>\n",
       "      <td>Venice</td>\n",
       "      <td>Comedy</td>\n",
       "      <td>2000</td>\n",
       "    </tr>\n",
       "    <tr>\n",
       "      <th>4</th>\n",
       "      <td>new Orleans</td>\n",
       "      <td>Tech_Summit</td>\n",
       "      <td>12000</td>\n",
       "    </tr>\n",
       "  </tbody>\n",
       "</table>\n",
       "</div>"
      ],
      "text/plain": [
       "          City        Event   Cost\n",
       "0     New York        Music  10000\n",
       "1      Parague       Poetry   5000\n",
       "2    New Delhi      Theatre  15000\n",
       "3       Venice       Comedy   2000\n",
       "4  new Orleans  Tech_Summit  12000"
      ]
     },
     "metadata": {},
     "output_type": "display_data"
    }
   ],
   "source": [
    "df = pd.DataFrame({'City':['New York', 'Parague', 'New Delhi', 'Venice', 'new Orleans'],\n",
    "                    'Event':['Music', 'Poetry', 'Theatre', 'Comedy', 'Tech_Summit'],\n",
    "                    'Cost':[10000, 5000, 15000, 2000, 12000]})\n",
    "display(df)"
   ]
  },
  {
   "cell_type": "code",
   "execution_count": null,
   "id": "ea45ece9",
   "metadata": {},
   "outputs": [
    {
     "data": {
      "application/vnd.microsoft.datawrangler.viewer.v0+json": {
       "columns": [
        {
         "name": "index",
         "rawType": "period[M]",
         "type": "unknown"
        },
        {
         "name": "City",
         "rawType": "object",
         "type": "string"
        },
        {
         "name": "Event",
         "rawType": "object",
         "type": "string"
        },
        {
         "name": "Cost",
         "rawType": "int64",
         "type": "integer"
        }
       ],
       "ref": "4a315f0e-3772-4bd6-8ffd-759503d6eb8b",
       "rows": [
        [
         "2018-02",
         "New York",
         "Music",
         "10000"
        ],
        [
         "2018-04",
         "Parague",
         "Poetry",
         "5000"
        ],
        [
         "2018-06",
         "New Delhi",
         "Theatre",
         "15000"
        ],
        [
         "2018-10",
         "Venice",
         "Comedy",
         "2000"
        ],
        [
         "2018-12",
         "new Orleans",
         "Tech_Summit",
         "12000"
        ]
       ],
       "shape": {
        "columns": 3,
        "rows": 5
       }
      },
      "text/html": [
       "<div>\n",
       "<style scoped>\n",
       "    .dataframe tbody tr th:only-of-type {\n",
       "        vertical-align: middle;\n",
       "    }\n",
       "\n",
       "    .dataframe tbody tr th {\n",
       "        vertical-align: top;\n",
       "    }\n",
       "\n",
       "    .dataframe thead th {\n",
       "        text-align: right;\n",
       "    }\n",
       "</style>\n",
       "<table border=\"1\" class=\"dataframe\">\n",
       "  <thead>\n",
       "    <tr style=\"text-align: right;\">\n",
       "      <th></th>\n",
       "      <th>City</th>\n",
       "      <th>Event</th>\n",
       "      <th>Cost</th>\n",
       "    </tr>\n",
       "  </thead>\n",
       "  <tbody>\n",
       "    <tr>\n",
       "      <th>2018-02</th>\n",
       "      <td>New York</td>\n",
       "      <td>Music</td>\n",
       "      <td>10000</td>\n",
       "    </tr>\n",
       "    <tr>\n",
       "      <th>2018-04</th>\n",
       "      <td>Parague</td>\n",
       "      <td>Poetry</td>\n",
       "      <td>5000</td>\n",
       "    </tr>\n",
       "    <tr>\n",
       "      <th>2018-06</th>\n",
       "      <td>New Delhi</td>\n",
       "      <td>Theatre</td>\n",
       "      <td>15000</td>\n",
       "    </tr>\n",
       "    <tr>\n",
       "      <th>2018-10</th>\n",
       "      <td>Venice</td>\n",
       "      <td>Comedy</td>\n",
       "      <td>2000</td>\n",
       "    </tr>\n",
       "    <tr>\n",
       "      <th>2018-12</th>\n",
       "      <td>new Orleans</td>\n",
       "      <td>Tech_Summit</td>\n",
       "      <td>12000</td>\n",
       "    </tr>\n",
       "  </tbody>\n",
       "</table>\n",
       "</div>"
      ],
      "text/plain": [
       "                City        Event   Cost\n",
       "2018-02     New York        Music  10000\n",
       "2018-04      Parague       Poetry   5000\n",
       "2018-06    New Delhi      Theatre  15000\n",
       "2018-10       Venice       Comedy   2000\n",
       "2018-12  new Orleans  Tech_Summit  12000"
      ]
     },
     "metadata": {},
     "output_type": "display_data"
    }
   ],
   "source": [
    "index_ = [pd.Period('02-2018', freq='M'), pd.Period('04-2018', freq='M'),\n",
    "          pd.Period('06-2018', freq='M'), pd.Period('10-2018', freq='M'), pd.Period('12-2018', freq='M')]\n",
    "\n",
    "df.index = index_\n",
    "\n",
    "display(df)"
   ]
  },
  {
   "cell_type": "code",
   "execution_count": null,
   "id": "b022d073",
   "metadata": {},
   "outputs": [
    {
     "data": {
      "application/vnd.microsoft.datawrangler.viewer.v0+json": {
       "columns": [
        {
         "name": "index",
         "rawType": "period[M]",
         "type": "unknown"
        },
        {
         "name": "City",
         "rawType": "object",
         "type": "string"
        },
        {
         "name": "Event",
         "rawType": "object",
         "type": "string"
        },
        {
         "name": "Cost",
         "rawType": "int64",
         "type": "integer"
        }
       ],
       "ref": "c55415d4-e8bd-4e8b-bf06-7fef98f9daa9",
       "rows": [
        [
         "2018-02",
         "New_ York",
         "Music",
         "10000"
        ],
        [
         "2018-04",
         "Parague",
         "Poetry",
         "5000"
        ],
        [
         "2018-06",
         "New_ Delhi",
         "Theatre",
         "15000"
        ],
        [
         "2018-10",
         "Venice",
         "Comedy",
         "2000"
        ],
        [
         "2018-12",
         "New_ Orleans",
         "Tech_Summit",
         "12000"
        ]
       ],
       "shape": {
        "columns": 3,
        "rows": 5
       }
      },
      "text/html": [
       "<div>\n",
       "<style scoped>\n",
       "    .dataframe tbody tr th:only-of-type {\n",
       "        vertical-align: middle;\n",
       "    }\n",
       "\n",
       "    .dataframe tbody tr th {\n",
       "        vertical-align: top;\n",
       "    }\n",
       "\n",
       "    .dataframe thead th {\n",
       "        text-align: right;\n",
       "    }\n",
       "</style>\n",
       "<table border=\"1\" class=\"dataframe\">\n",
       "  <thead>\n",
       "    <tr style=\"text-align: right;\">\n",
       "      <th></th>\n",
       "      <th>City</th>\n",
       "      <th>Event</th>\n",
       "      <th>Cost</th>\n",
       "    </tr>\n",
       "  </thead>\n",
       "  <tbody>\n",
       "    <tr>\n",
       "      <th>2018-02</th>\n",
       "      <td>New_ York</td>\n",
       "      <td>Music</td>\n",
       "      <td>10000</td>\n",
       "    </tr>\n",
       "    <tr>\n",
       "      <th>2018-04</th>\n",
       "      <td>Parague</td>\n",
       "      <td>Poetry</td>\n",
       "      <td>5000</td>\n",
       "    </tr>\n",
       "    <tr>\n",
       "      <th>2018-06</th>\n",
       "      <td>New_ Delhi</td>\n",
       "      <td>Theatre</td>\n",
       "      <td>15000</td>\n",
       "    </tr>\n",
       "    <tr>\n",
       "      <th>2018-10</th>\n",
       "      <td>Venice</td>\n",
       "      <td>Comedy</td>\n",
       "      <td>2000</td>\n",
       "    </tr>\n",
       "    <tr>\n",
       "      <th>2018-12</th>\n",
       "      <td>New_ Orleans</td>\n",
       "      <td>Tech_Summit</td>\n",
       "      <td>12000</td>\n",
       "    </tr>\n",
       "  </tbody>\n",
       "</table>\n",
       "</div>"
      ],
      "text/plain": [
       "                 City        Event   Cost\n",
       "2018-02     New_ York        Music  10000\n",
       "2018-04       Parague       Poetry   5000\n",
       "2018-06    New_ Delhi      Theatre  15000\n",
       "2018-10        Venice       Comedy   2000\n",
       "2018-12  New_ Orleans  Tech_Summit  12000"
      ]
     },
     "execution_count": 35,
     "metadata": {},
     "output_type": "execute_result"
    }
   ],
   "source": [
    "df['City'] = df['City'].replace('[nN]ew',  'New_', regex=True)\n",
    "df"
   ]
  },
  {
   "cell_type": "code",
   "execution_count": null,
   "id": "2b09b61c",
   "metadata": {},
   "outputs": [
    {
     "data": {
      "application/vnd.microsoft.datawrangler.viewer.v0+json": {
       "columns": [
        {
         "name": "index",
         "rawType": "int64",
         "type": "integer"
        },
        {
         "name": "Date",
         "rawType": "object",
         "type": "string"
        },
        {
         "name": "Product",
         "rawType": "object",
         "type": "string"
        },
        {
         "name": "Updated_Price",
         "rawType": "int64",
         "type": "integer"
        },
        {
         "name": "Discount",
         "rawType": "int64",
         "type": "integer"
        }
       ],
       "ref": "e5af8948-864f-4e37-8bcf-18db2987c9fd",
       "rows": [
        [
         "0",
         "10/2/2011",
         " UMbreLla",
         "1250",
         "10"
        ],
        [
         "1",
         "11/2/2011",
         "  maTtress",
         "1450",
         "8"
        ],
        [
         "2",
         "12/2/2011",
         "BaDmintoN ",
         "1550",
         "15"
        ],
        [
         "3",
         "13/2/2011",
         "Shuttle",
         "400",
         "10"
        ]
       ],
       "shape": {
        "columns": 4,
        "rows": 4
       }
      },
      "text/html": [
       "<div>\n",
       "<style scoped>\n",
       "    .dataframe tbody tr th:only-of-type {\n",
       "        vertical-align: middle;\n",
       "    }\n",
       "\n",
       "    .dataframe tbody tr th {\n",
       "        vertical-align: top;\n",
       "    }\n",
       "\n",
       "    .dataframe thead th {\n",
       "        text-align: right;\n",
       "    }\n",
       "</style>\n",
       "<table border=\"1\" class=\"dataframe\">\n",
       "  <thead>\n",
       "    <tr style=\"text-align: right;\">\n",
       "      <th></th>\n",
       "      <th>Date</th>\n",
       "      <th>Product</th>\n",
       "      <th>Updated_Price</th>\n",
       "      <th>Discount</th>\n",
       "    </tr>\n",
       "  </thead>\n",
       "  <tbody>\n",
       "    <tr>\n",
       "      <th>0</th>\n",
       "      <td>10/2/2011</td>\n",
       "      <td>UMbreLla</td>\n",
       "      <td>1250</td>\n",
       "      <td>10</td>\n",
       "    </tr>\n",
       "    <tr>\n",
       "      <th>1</th>\n",
       "      <td>11/2/2011</td>\n",
       "      <td>maTtress</td>\n",
       "      <td>1450</td>\n",
       "      <td>8</td>\n",
       "    </tr>\n",
       "    <tr>\n",
       "      <th>2</th>\n",
       "      <td>12/2/2011</td>\n",
       "      <td>BaDmintoN</td>\n",
       "      <td>1550</td>\n",
       "      <td>15</td>\n",
       "    </tr>\n",
       "    <tr>\n",
       "      <th>3</th>\n",
       "      <td>13/2/2011</td>\n",
       "      <td>Shuttle</td>\n",
       "      <td>400</td>\n",
       "      <td>10</td>\n",
       "    </tr>\n",
       "  </tbody>\n",
       "</table>\n",
       "</div>"
      ],
      "text/plain": [
       "        Date     Product  Updated_Price  Discount\n",
       "0  10/2/2011    UMbreLla           1250        10\n",
       "1  11/2/2011    maTtress           1450         8\n",
       "2  12/2/2011  BaDmintoN            1550        15\n",
       "3  13/2/2011     Shuttle            400        10"
      ]
     },
     "execution_count": 36,
     "metadata": {},
     "output_type": "execute_result"
    }
   ],
   "source": [
    "\n",
    "df = pd.DataFrame({'Date':['10/2/2011', '11/2/2011', '12/2/2011', '13/2/2011'],\n",
    "                   'Product':[' UMbreLla', '  maTtress', 'BaDmintoN ', 'Shuttle'],\n",
    "                   'Updated_Price':[1250, 1450, 1550, 400],\n",
    "                   'Discount':[10, 8, 15, 10]})\n",
    "\n",
    "df"
   ]
  },
  {
   "cell_type": "code",
   "execution_count": null,
   "id": "022c210a",
   "metadata": {},
   "outputs": [
    {
     "data": {
      "application/vnd.microsoft.datawrangler.viewer.v0+json": {
       "columns": [
        {
         "name": "index",
         "rawType": "int64",
         "type": "integer"
        },
        {
         "name": "Date",
         "rawType": "object",
         "type": "string"
        },
        {
         "name": "Product",
         "rawType": "object",
         "type": "string"
        },
        {
         "name": "Updated_Price",
         "rawType": "int64",
         "type": "integer"
        },
        {
         "name": "Discount",
         "rawType": "int64",
         "type": "integer"
        }
       ],
       "ref": "a14a31ba-f5b2-4883-b5aa-e69025bcb3b1",
       "rows": [
        [
         "0",
         "10/2/2011",
         "Umbrella",
         "1250",
         "10"
        ],
        [
         "1",
         "11/2/2011",
         "Mattress",
         "1450",
         "8"
        ],
        [
         "2",
         "12/2/2011",
         "Badminton",
         "1550",
         "15"
        ],
        [
         "3",
         "13/2/2011",
         "Shuttle",
         "400",
         "10"
        ]
       ],
       "shape": {
        "columns": 4,
        "rows": 4
       }
      },
      "text/html": [
       "<div>\n",
       "<style scoped>\n",
       "    .dataframe tbody tr th:only-of-type {\n",
       "        vertical-align: middle;\n",
       "    }\n",
       "\n",
       "    .dataframe tbody tr th {\n",
       "        vertical-align: top;\n",
       "    }\n",
       "\n",
       "    .dataframe thead th {\n",
       "        text-align: right;\n",
       "    }\n",
       "</style>\n",
       "<table border=\"1\" class=\"dataframe\">\n",
       "  <thead>\n",
       "    <tr style=\"text-align: right;\">\n",
       "      <th></th>\n",
       "      <th>Date</th>\n",
       "      <th>Product</th>\n",
       "      <th>Updated_Price</th>\n",
       "      <th>Discount</th>\n",
       "    </tr>\n",
       "  </thead>\n",
       "  <tbody>\n",
       "    <tr>\n",
       "      <th>0</th>\n",
       "      <td>10/2/2011</td>\n",
       "      <td>Umbrella</td>\n",
       "      <td>1250</td>\n",
       "      <td>10</td>\n",
       "    </tr>\n",
       "    <tr>\n",
       "      <th>1</th>\n",
       "      <td>11/2/2011</td>\n",
       "      <td>Mattress</td>\n",
       "      <td>1450</td>\n",
       "      <td>8</td>\n",
       "    </tr>\n",
       "    <tr>\n",
       "      <th>2</th>\n",
       "      <td>12/2/2011</td>\n",
       "      <td>Badminton</td>\n",
       "      <td>1550</td>\n",
       "      <td>15</td>\n",
       "    </tr>\n",
       "    <tr>\n",
       "      <th>3</th>\n",
       "      <td>13/2/2011</td>\n",
       "      <td>Shuttle</td>\n",
       "      <td>400</td>\n",
       "      <td>10</td>\n",
       "    </tr>\n",
       "  </tbody>\n",
       "</table>\n",
       "</div>"
      ],
      "text/plain": [
       "        Date    Product  Updated_Price  Discount\n",
       "0  10/2/2011   Umbrella           1250        10\n",
       "1  11/2/2011   Mattress           1450         8\n",
       "2  12/2/2011  Badminton           1550        15\n",
       "3  13/2/2011    Shuttle            400        10"
      ]
     },
     "execution_count": 37,
     "metadata": {},
     "output_type": "execute_result"
    }
   ],
   "source": [
    "df['Product'] = df['Product'].apply(lambda x : x.strip().capitalize())\n",
    "df"
   ]
  },
  {
   "cell_type": "code",
   "execution_count": null,
   "id": "11a6f36b",
   "metadata": {},
   "outputs": [
    {
     "data": {
      "application/vnd.microsoft.datawrangler.viewer.v0+json": {
       "columns": [
        {
         "name": "index",
         "rawType": "int64",
         "type": "integer"
        },
        {
         "name": "Date",
         "rawType": "datetime64[ns]",
         "type": "datetime"
        },
        {
         "name": "Product",
         "rawType": "object",
         "type": "string"
        },
        {
         "name": "Updated_Price",
         "rawType": "int64",
         "type": "integer"
        },
        {
         "name": "Discount",
         "rawType": "int64",
         "type": "integer"
        }
       ],
       "ref": "a047ca69-3038-446b-b2a7-ed1b75bfc86f",
       "rows": [
        [
         "0",
         "2011-02-10 00:00:00",
         "Umbrella",
         "1250",
         "10"
        ],
        [
         "1",
         "2011-02-11 00:00:00",
         "Mattress",
         "1450",
         "8"
        ],
        [
         "2",
         "2011-02-12 00:00:00",
         "Badminton",
         "1550",
         "15"
        ],
        [
         "3",
         "2011-02-13 00:00:00",
         "Shuttle",
         "400",
         "10"
        ]
       ],
       "shape": {
        "columns": 4,
        "rows": 4
       }
      },
      "text/html": [
       "<div>\n",
       "<style scoped>\n",
       "    .dataframe tbody tr th:only-of-type {\n",
       "        vertical-align: middle;\n",
       "    }\n",
       "\n",
       "    .dataframe tbody tr th {\n",
       "        vertical-align: top;\n",
       "    }\n",
       "\n",
       "    .dataframe thead th {\n",
       "        text-align: right;\n",
       "    }\n",
       "</style>\n",
       "<table border=\"1\" class=\"dataframe\">\n",
       "  <thead>\n",
       "    <tr style=\"text-align: right;\">\n",
       "      <th></th>\n",
       "      <th>Date</th>\n",
       "      <th>Product</th>\n",
       "      <th>Updated_Price</th>\n",
       "      <th>Discount</th>\n",
       "    </tr>\n",
       "  </thead>\n",
       "  <tbody>\n",
       "    <tr>\n",
       "      <th>0</th>\n",
       "      <td>2011-02-10</td>\n",
       "      <td>Umbrella</td>\n",
       "      <td>1250</td>\n",
       "      <td>10</td>\n",
       "    </tr>\n",
       "    <tr>\n",
       "      <th>1</th>\n",
       "      <td>2011-02-11</td>\n",
       "      <td>Mattress</td>\n",
       "      <td>1450</td>\n",
       "      <td>8</td>\n",
       "    </tr>\n",
       "    <tr>\n",
       "      <th>2</th>\n",
       "      <td>2011-02-12</td>\n",
       "      <td>Badminton</td>\n",
       "      <td>1550</td>\n",
       "      <td>15</td>\n",
       "    </tr>\n",
       "    <tr>\n",
       "      <th>3</th>\n",
       "      <td>2011-02-13</td>\n",
       "      <td>Shuttle</td>\n",
       "      <td>400</td>\n",
       "      <td>10</td>\n",
       "    </tr>\n",
       "  </tbody>\n",
       "</table>\n",
       "</div>"
      ],
      "text/plain": [
       "        Date    Product  Updated_Price  Discount\n",
       "0 2011-02-10   Umbrella           1250        10\n",
       "1 2011-02-11   Mattress           1450         8\n",
       "2 2011-02-12  Badminton           1550        15\n",
       "3 2011-02-13    Shuttle            400        10"
      ]
     },
     "metadata": {},
     "output_type": "display_data"
    }
   ],
   "source": [
    "df['Date'] = pd.to_datetime(df['Date'], errors='coerce')\n",
    "display(df)"
   ]
  },
  {
   "cell_type": "code",
   "execution_count": null,
   "id": "a0476875",
   "metadata": {},
   "outputs": [
    {
     "data": {
      "application/vnd.microsoft.datawrangler.viewer.v0+json": {
       "columns": [
        {
         "name": "index",
         "rawType": "int64",
         "type": "integer"
        },
        {
         "name": "Date",
         "rawType": "object",
         "type": "unknown"
        },
        {
         "name": "Product",
         "rawType": "object",
         "type": "unknown"
        },
        {
         "name": "Updated_Price",
         "rawType": "int64",
         "type": "integer"
        },
        {
         "name": "Discount",
         "rawType": "int64",
         "type": "integer"
        },
        {
         "name": "Temp",
         "rawType": "int64",
         "type": "integer"
        }
       ],
       "ref": "23a162b2-01ff-4aaf-95dc-c391b92075d7",
       "rows": [
        [
         "3",
         "2011-02-13 00:00:00",
         "Shuttle",
         "400",
         "10",
         "0"
        ],
        [
         "0",
         "2011-02-10 00:00:00",
         "Umbrella",
         "1250",
         "10",
         "0"
        ],
        [
         "2",
         "2011-02-12 00:00:00",
         "Badminton",
         "1550",
         "15",
         "0"
        ],
        [
         "5",
         "0",
         "0",
         "0",
         "0",
         "0"
        ],
        [
         "1",
         "2011-02-11 00:00:00",
         "Mattress",
         "1450",
         "8",
         "0"
        ]
       ],
       "shape": {
        "columns": 5,
        "rows": 5
       }
      },
      "text/html": [
       "<div>\n",
       "<style scoped>\n",
       "    .dataframe tbody tr th:only-of-type {\n",
       "        vertical-align: middle;\n",
       "    }\n",
       "\n",
       "    .dataframe tbody tr th {\n",
       "        vertical-align: top;\n",
       "    }\n",
       "\n",
       "    .dataframe thead th {\n",
       "        text-align: right;\n",
       "    }\n",
       "</style>\n",
       "<table border=\"1\" class=\"dataframe\">\n",
       "  <thead>\n",
       "    <tr style=\"text-align: right;\">\n",
       "      <th></th>\n",
       "      <th>Date</th>\n",
       "      <th>Product</th>\n",
       "      <th>Updated_Price</th>\n",
       "      <th>Discount</th>\n",
       "      <th>Temp</th>\n",
       "    </tr>\n",
       "  </thead>\n",
       "  <tbody>\n",
       "    <tr>\n",
       "      <th>3</th>\n",
       "      <td>2011-02-13 00:00:00</td>\n",
       "      <td>Shuttle</td>\n",
       "      <td>400</td>\n",
       "      <td>10</td>\n",
       "      <td>0</td>\n",
       "    </tr>\n",
       "    <tr>\n",
       "      <th>0</th>\n",
       "      <td>2011-02-10 00:00:00</td>\n",
       "      <td>Umbrella</td>\n",
       "      <td>1250</td>\n",
       "      <td>10</td>\n",
       "      <td>0</td>\n",
       "    </tr>\n",
       "    <tr>\n",
       "      <th>2</th>\n",
       "      <td>2011-02-12 00:00:00</td>\n",
       "      <td>Badminton</td>\n",
       "      <td>1550</td>\n",
       "      <td>15</td>\n",
       "      <td>0</td>\n",
       "    </tr>\n",
       "    <tr>\n",
       "      <th>5</th>\n",
       "      <td>0</td>\n",
       "      <td>0</td>\n",
       "      <td>0</td>\n",
       "      <td>0</td>\n",
       "      <td>0</td>\n",
       "    </tr>\n",
       "    <tr>\n",
       "      <th>1</th>\n",
       "      <td>2011-02-11 00:00:00</td>\n",
       "      <td>Mattress</td>\n",
       "      <td>1450</td>\n",
       "      <td>8</td>\n",
       "      <td>0</td>\n",
       "    </tr>\n",
       "  </tbody>\n",
       "</table>\n",
       "</div>"
      ],
      "text/plain": [
       "                  Date    Product  Updated_Price  Discount  Temp\n",
       "3  2011-02-13 00:00:00    Shuttle            400        10     0\n",
       "0  2011-02-10 00:00:00   Umbrella           1250        10     0\n",
       "2  2011-02-12 00:00:00  Badminton           1550        15     0\n",
       "5                    0          0              0         0     0\n",
       "1  2011-02-11 00:00:00   Mattress           1450         8     0"
      ]
     },
     "metadata": {},
     "output_type": "display_data"
    }
   ],
   "source": [
    "new_index = [3,0,2,5,1]\n",
    "new_co_index = ['Date', 'Product', 'Updated_Price', 'Discount','Temp']\n",
    "a = df.reindex(new_index,columns=new_co_index, fill_value=0)\n",
    "display(a)"
   ]
  },
  {
   "cell_type": "code",
   "execution_count": null,
   "id": "50fceff6",
   "metadata": {},
   "outputs": [
    {
     "data": {
      "application/vnd.microsoft.datawrangler.viewer.v0+json": {
       "columns": [
        {
         "name": "index",
         "rawType": "int64",
         "type": "integer"
        },
        {
         "name": "Date",
         "rawType": "object",
         "type": "unknown"
        },
        {
         "name": "Product",
         "rawType": "object",
         "type": "string"
        },
        {
         "name": "Updated_Price",
         "rawType": "object",
         "type": "unknown"
        },
        {
         "name": "Discount",
         "rawType": "object",
         "type": "unknown"
        },
        {
         "name": "Temp",
         "rawType": "object",
         "type": "unknown"
        }
       ],
       "ref": "c1267a0c-06eb-4dfe-9faf-a405b2578a2f",
       "rows": [
        [
         "3",
         "2011-02-13 00:00:00",
         "Shuttle",
         "400.0",
         "10.0",
         "10.0"
        ],
        [
         "0",
         "2011-02-10 00:00:00",
         "Umbrella",
         "1250.0",
         "10.0",
         "10.0"
        ],
        [
         "2",
         "2011-02-12 00:00:00",
         "Badminton",
         "1550.0",
         "15.0",
         "15.0"
        ],
        [
         "5",
         "2011-02-12 00:00:00",
         "Badminton",
         "1550.0",
         "15.0",
         "15.0"
        ],
        [
         "1",
         "2011-02-11 00:00:00",
         "Mattress",
         "1450.0",
         "8.0",
         "8.0"
        ]
       ],
       "shape": {
        "columns": 5,
        "rows": 5
       }
      },
      "text/html": [
       "<div>\n",
       "<style scoped>\n",
       "    .dataframe tbody tr th:only-of-type {\n",
       "        vertical-align: middle;\n",
       "    }\n",
       "\n",
       "    .dataframe tbody tr th {\n",
       "        vertical-align: top;\n",
       "    }\n",
       "\n",
       "    .dataframe thead th {\n",
       "        text-align: right;\n",
       "    }\n",
       "</style>\n",
       "<table border=\"1\" class=\"dataframe\">\n",
       "  <thead>\n",
       "    <tr style=\"text-align: right;\">\n",
       "      <th></th>\n",
       "      <th>Date</th>\n",
       "      <th>Product</th>\n",
       "      <th>Updated_Price</th>\n",
       "      <th>Discount</th>\n",
       "      <th>Temp</th>\n",
       "    </tr>\n",
       "  </thead>\n",
       "  <tbody>\n",
       "    <tr>\n",
       "      <th>3</th>\n",
       "      <td>2011-02-13 00:00:00</td>\n",
       "      <td>Shuttle</td>\n",
       "      <td>400.0</td>\n",
       "      <td>10.0</td>\n",
       "      <td>10.0</td>\n",
       "    </tr>\n",
       "    <tr>\n",
       "      <th>0</th>\n",
       "      <td>2011-02-10 00:00:00</td>\n",
       "      <td>Umbrella</td>\n",
       "      <td>1250.0</td>\n",
       "      <td>10.0</td>\n",
       "      <td>10.0</td>\n",
       "    </tr>\n",
       "    <tr>\n",
       "      <th>2</th>\n",
       "      <td>2011-02-12 00:00:00</td>\n",
       "      <td>Badminton</td>\n",
       "      <td>1550.0</td>\n",
       "      <td>15.0</td>\n",
       "      <td>15.0</td>\n",
       "    </tr>\n",
       "    <tr>\n",
       "      <th>5</th>\n",
       "      <td>2011-02-12 00:00:00</td>\n",
       "      <td>Badminton</td>\n",
       "      <td>1550.0</td>\n",
       "      <td>15.0</td>\n",
       "      <td>15.0</td>\n",
       "    </tr>\n",
       "    <tr>\n",
       "      <th>1</th>\n",
       "      <td>2011-02-11 00:00:00</td>\n",
       "      <td>Mattress</td>\n",
       "      <td>1450.0</td>\n",
       "      <td>8.0</td>\n",
       "      <td>8.0</td>\n",
       "    </tr>\n",
       "  </tbody>\n",
       "</table>\n",
       "</div>"
      ],
      "text/plain": [
       "                  Date    Product Updated_Price Discount  Temp\n",
       "3  2011-02-13 00:00:00    Shuttle         400.0     10.0  10.0\n",
       "0  2011-02-10 00:00:00   Umbrella        1250.0     10.0  10.0\n",
       "2  2011-02-12 00:00:00  Badminton        1550.0     15.0  15.0\n",
       "5  2011-02-12 00:00:00  Badminton        1550.0     15.0  15.0\n",
       "1  2011-02-11 00:00:00   Mattress        1450.0      8.0   8.0"
      ]
     },
     "metadata": {},
     "output_type": "display_data"
    }
   ],
   "source": [
    "a_temp = df.reindex(new_index, columns=new_co_index)\n",
    "a_fill = a_temp.ffill()\n",
    "a_fill = a_fill.ffill(axis=1)\n",
    "display(a_fill)"
   ]
  },
  {
   "cell_type": "code",
   "execution_count": null,
   "id": "2bdb4207",
   "metadata": {},
   "outputs": [
    {
     "data": {
      "application/vnd.microsoft.datawrangler.viewer.v0+json": {
       "columns": [
        {
         "name": "index",
         "rawType": "int64",
         "type": "integer"
        },
        {
         "name": "First_name",
         "rawType": "object",
         "type": "string"
        },
        {
         "name": "Last_name",
         "rawType": "object",
         "type": "string"
        },
        {
         "name": "Age",
         "rawType": "int64",
         "type": "integer"
        },
        {
         "name": "City",
         "rawType": "object",
         "type": "string"
        }
       ],
       "ref": "de9cbc2c-40be-4b7c-921c-a19a8b47a0b0",
       "rows": [
        [
         "0",
         "Ram",
         "Kumar",
         "42",
         "Mumbai"
        ],
        [
         "1",
         "Mohan",
         "Sharma",
         "52",
         "Noida"
        ],
        [
         "2",
         "Tina",
         "Ali",
         "36",
         "Pune"
        ],
        [
         "3",
         "Jeetu",
         "Gandhi",
         "21",
         "Delhi"
        ],
        [
         "4",
         "Meera",
         "Kumari",
         "23",
         "Bihar"
        ],
        [
         "5",
         "happens",
         "Nothing",
         "99",
         "nooo"
        ]
       ],
       "shape": {
        "columns": 4,
        "rows": 6
       }
      },
      "text/html": [
       "<div>\n",
       "<style scoped>\n",
       "    .dataframe tbody tr th:only-of-type {\n",
       "        vertical-align: middle;\n",
       "    }\n",
       "\n",
       "    .dataframe tbody tr th {\n",
       "        vertical-align: top;\n",
       "    }\n",
       "\n",
       "    .dataframe thead th {\n",
       "        text-align: right;\n",
       "    }\n",
       "</style>\n",
       "<table border=\"1\" class=\"dataframe\">\n",
       "  <thead>\n",
       "    <tr style=\"text-align: right;\">\n",
       "      <th></th>\n",
       "      <th>First_name</th>\n",
       "      <th>Last_name</th>\n",
       "      <th>Age</th>\n",
       "      <th>City</th>\n",
       "    </tr>\n",
       "  </thead>\n",
       "  <tbody>\n",
       "    <tr>\n",
       "      <th>0</th>\n",
       "      <td>Ram</td>\n",
       "      <td>Kumar</td>\n",
       "      <td>42</td>\n",
       "      <td>Mumbai</td>\n",
       "    </tr>\n",
       "    <tr>\n",
       "      <th>1</th>\n",
       "      <td>Mohan</td>\n",
       "      <td>Sharma</td>\n",
       "      <td>52</td>\n",
       "      <td>Noida</td>\n",
       "    </tr>\n",
       "    <tr>\n",
       "      <th>2</th>\n",
       "      <td>Tina</td>\n",
       "      <td>Ali</td>\n",
       "      <td>36</td>\n",
       "      <td>Pune</td>\n",
       "    </tr>\n",
       "    <tr>\n",
       "      <th>3</th>\n",
       "      <td>Jeetu</td>\n",
       "      <td>Gandhi</td>\n",
       "      <td>21</td>\n",
       "      <td>Delhi</td>\n",
       "    </tr>\n",
       "    <tr>\n",
       "      <th>4</th>\n",
       "      <td>Meera</td>\n",
       "      <td>Kumari</td>\n",
       "      <td>23</td>\n",
       "      <td>Bihar</td>\n",
       "    </tr>\n",
       "    <tr>\n",
       "      <th>5</th>\n",
       "      <td>happens</td>\n",
       "      <td>Nothing</td>\n",
       "      <td>99</td>\n",
       "      <td>nooo</td>\n",
       "    </tr>\n",
       "  </tbody>\n",
       "</table>\n",
       "</div>"
      ],
      "text/plain": [
       "  First_name Last_name  Age    City\n",
       "0        Ram     Kumar   42  Mumbai\n",
       "1      Mohan    Sharma   52   Noida\n",
       "2       Tina       Ali   36    Pune\n",
       "3      Jeetu    Gandhi   21   Delhi\n",
       "4      Meera    Kumari   23   Bihar\n",
       "5    happens   Nothing   99    nooo"
      ]
     },
     "execution_count": 43,
     "metadata": {},
     "output_type": "execute_result"
    }
   ],
   "source": [
    "initial_data = {'First_name': ['Ram', 'Mohan', 'Tina', 'Jeetu', 'Meera', 'happens'],\n",
    "                'Last_name': ['Kumar', 'Sharma', 'Ali', 'Gandhi', 'Kumari', 'Nothing'],\n",
    "                'Age': [42, 52, 36, 21, 23, 99],\n",
    "                'City': ['Mumbai', 'Noida', 'Pune', 'Delhi', 'Bihar', 'nooo']}\n",
    "\n",
    "\n",
    "df = pd.DataFrame(initial_data)\n",
    "df"
   ]
  },
  {
   "cell_type": "code",
   "execution_count": null,
   "id": "ae59870d",
   "metadata": {},
   "outputs": [
    {
     "data": {
      "application/vnd.microsoft.datawrangler.viewer.v0+json": {
       "columns": [
        {
         "name": "index",
         "rawType": "int64",
         "type": "integer"
        },
        {
         "name": "First_name",
         "rawType": "object",
         "type": "string"
        },
        {
         "name": "Last_name",
         "rawType": "object",
         "type": "string"
        },
        {
         "name": "Age",
         "rawType": "int64",
         "type": "integer"
        },
        {
         "name": "City",
         "rawType": "object",
         "type": "string"
        },
        {
         "name": "Qualification",
         "rawType": "object",
         "type": "unknown"
        }
       ],
       "ref": "927795c6-530a-4ee3-a773-aea5b627846e",
       "rows": [
        [
         "0",
         "Ram",
         "Kumar",
         "42",
         "Mumbai",
         "B.Com"
        ],
        [
         "1",
         "Mohan",
         "Sharma",
         "52",
         "Noida",
         "IAS"
        ],
        [
         "2",
         "Tina",
         "Ali",
         "36",
         "Pune",
         "LLB"
        ],
        [
         "3",
         "Jeetu",
         "Gandhi",
         "21",
         "Delhi",
         "B.Tech"
        ],
        [
         "4",
         "Meera",
         "Kumari",
         "23",
         "Bihar",
         "MBBS"
        ],
        [
         "5",
         "happens",
         "Nothing",
         "99",
         "nooo",
         null
        ]
       ],
       "shape": {
        "columns": 5,
        "rows": 6
       }
      },
      "text/html": [
       "<div>\n",
       "<style scoped>\n",
       "    .dataframe tbody tr th:only-of-type {\n",
       "        vertical-align: middle;\n",
       "    }\n",
       "\n",
       "    .dataframe tbody tr th {\n",
       "        vertical-align: top;\n",
       "    }\n",
       "\n",
       "    .dataframe thead th {\n",
       "        text-align: right;\n",
       "    }\n",
       "</style>\n",
       "<table border=\"1\" class=\"dataframe\">\n",
       "  <thead>\n",
       "    <tr style=\"text-align: right;\">\n",
       "      <th></th>\n",
       "      <th>First_name</th>\n",
       "      <th>Last_name</th>\n",
       "      <th>Age</th>\n",
       "      <th>City</th>\n",
       "      <th>Qualification</th>\n",
       "    </tr>\n",
       "  </thead>\n",
       "  <tbody>\n",
       "    <tr>\n",
       "      <th>0</th>\n",
       "      <td>Ram</td>\n",
       "      <td>Kumar</td>\n",
       "      <td>42</td>\n",
       "      <td>Mumbai</td>\n",
       "      <td>B.Com</td>\n",
       "    </tr>\n",
       "    <tr>\n",
       "      <th>1</th>\n",
       "      <td>Mohan</td>\n",
       "      <td>Sharma</td>\n",
       "      <td>52</td>\n",
       "      <td>Noida</td>\n",
       "      <td>IAS</td>\n",
       "    </tr>\n",
       "    <tr>\n",
       "      <th>2</th>\n",
       "      <td>Tina</td>\n",
       "      <td>Ali</td>\n",
       "      <td>36</td>\n",
       "      <td>Pune</td>\n",
       "      <td>LLB</td>\n",
       "    </tr>\n",
       "    <tr>\n",
       "      <th>3</th>\n",
       "      <td>Jeetu</td>\n",
       "      <td>Gandhi</td>\n",
       "      <td>21</td>\n",
       "      <td>Delhi</td>\n",
       "      <td>B.Tech</td>\n",
       "    </tr>\n",
       "    <tr>\n",
       "      <th>4</th>\n",
       "      <td>Meera</td>\n",
       "      <td>Kumari</td>\n",
       "      <td>23</td>\n",
       "      <td>Bihar</td>\n",
       "      <td>MBBS</td>\n",
       "    </tr>\n",
       "    <tr>\n",
       "      <th>5</th>\n",
       "      <td>happens</td>\n",
       "      <td>Nothing</td>\n",
       "      <td>99</td>\n",
       "      <td>nooo</td>\n",
       "      <td>NaN</td>\n",
       "    </tr>\n",
       "  </tbody>\n",
       "</table>\n",
       "</div>"
      ],
      "text/plain": [
       "  First_name Last_name  Age    City Qualification\n",
       "0        Ram     Kumar   42  Mumbai         B.Com\n",
       "1      Mohan    Sharma   52   Noida           IAS\n",
       "2       Tina       Ali   36    Pune           LLB\n",
       "3      Jeetu    Gandhi   21   Delhi        B.Tech\n",
       "4      Meera    Kumari   23   Bihar          MBBS\n",
       "5    happens   Nothing   99    nooo           NaN"
      ]
     },
     "execution_count": 44,
     "metadata": {},
     "output_type": "execute_result"
    }
   ],
   "source": [
    "\n",
    "# Create new column using dictionary\n",
    "new_data = { \"Ram\":\"B.Com\",\n",
    "            \"Mohan\":\"IAS\",\n",
    "            \"Tina\":\"LLB\",\n",
    "            \"Jeetu\":\"B.Tech\",\n",
    "            \"Meera\":\"MBBS\",\n",
    "            \"Teena\": \"Noneed\" }\n",
    "\n",
    "df['Qualification'] = df['First_name'].map(new_data)\n",
    "df"
   ]
  },
  {
   "cell_type": "markdown",
   "id": "9befab6d",
   "metadata": {},
   "source": [
    "What happened in the above table\n",
    "\n",
    "Key in First_name : There is NaN in qualification because there is no teena in the dataframe \n",
    "\n",
    "Key in newdata not in First_name ignored silently \n"
   ]
  },
  {
   "cell_type": "markdown",
   "id": "8d00117a",
   "metadata": {},
   "source": [
    "Method 2: Using replace function \n",
    "* with regex\n",
    "* without regex"
   ]
  },
  {
   "cell_type": "code",
   "execution_count": null,
   "id": "21dae5e3",
   "metadata": {},
   "outputs": [
    {
     "data": {
      "application/vnd.microsoft.datawrangler.viewer.v0+json": {
       "columns": [
        {
         "name": "index",
         "rawType": "int64",
         "type": "integer"
        },
        {
         "name": "First_name",
         "rawType": "object",
         "type": "string"
        },
        {
         "name": "Last_name",
         "rawType": "object",
         "type": "string"
        },
        {
         "name": "Age",
         "rawType": "int64",
         "type": "integer"
        },
        {
         "name": "City",
         "rawType": "object",
         "type": "string"
        }
       ],
       "ref": "452fd148-0957-4a1d-a45d-787a59f3e5fe",
       "rows": [
        [
         "0",
         "Ramm",
         "Kumar",
         "42",
         "Mumbai"
        ],
        [
         "1",
         "Mohan",
         "Sharma",
         "52",
         "Noida"
        ],
        [
         "2",
         "Tina",
         "Ali",
         "36",
         "Pune"
        ],
        [
         "3",
         "Jeetu",
         "Gandhi",
         "21",
         "Delhi"
        ],
        [
         "4",
         "Meera",
         "Kumari",
         "23",
         "Bihar"
        ]
       ],
       "shape": {
        "columns": 4,
        "rows": 5
       }
      },
      "text/html": [
       "<div>\n",
       "<style scoped>\n",
       "    .dataframe tbody tr th:only-of-type {\n",
       "        vertical-align: middle;\n",
       "    }\n",
       "\n",
       "    .dataframe tbody tr th {\n",
       "        vertical-align: top;\n",
       "    }\n",
       "\n",
       "    .dataframe thead th {\n",
       "        text-align: right;\n",
       "    }\n",
       "</style>\n",
       "<table border=\"1\" class=\"dataframe\">\n",
       "  <thead>\n",
       "    <tr style=\"text-align: right;\">\n",
       "      <th></th>\n",
       "      <th>First_name</th>\n",
       "      <th>Last_name</th>\n",
       "      <th>Age</th>\n",
       "      <th>City</th>\n",
       "    </tr>\n",
       "  </thead>\n",
       "  <tbody>\n",
       "    <tr>\n",
       "      <th>0</th>\n",
       "      <td>Ramm</td>\n",
       "      <td>Kumar</td>\n",
       "      <td>42</td>\n",
       "      <td>Mumbai</td>\n",
       "    </tr>\n",
       "    <tr>\n",
       "      <th>1</th>\n",
       "      <td>Mohan</td>\n",
       "      <td>Sharma</td>\n",
       "      <td>52</td>\n",
       "      <td>Noida</td>\n",
       "    </tr>\n",
       "    <tr>\n",
       "      <th>2</th>\n",
       "      <td>Tina</td>\n",
       "      <td>Ali</td>\n",
       "      <td>36</td>\n",
       "      <td>Pune</td>\n",
       "    </tr>\n",
       "    <tr>\n",
       "      <th>3</th>\n",
       "      <td>Jeetu</td>\n",
       "      <td>Gandhi</td>\n",
       "      <td>21</td>\n",
       "      <td>Delhi</td>\n",
       "    </tr>\n",
       "    <tr>\n",
       "      <th>4</th>\n",
       "      <td>Meera</td>\n",
       "      <td>Kumari</td>\n",
       "      <td>23</td>\n",
       "      <td>Bihar</td>\n",
       "    </tr>\n",
       "  </tbody>\n",
       "</table>\n",
       "</div>"
      ],
      "text/plain": [
       "  First_name Last_name  Age    City\n",
       "0       Ramm     Kumar   42  Mumbai\n",
       "1      Mohan    Sharma   52   Noida\n",
       "2       Tina       Ali   36    Pune\n",
       "3      Jeetu    Gandhi   21   Delhi\n",
       "4      Meera    Kumari   23   Bihar"
      ]
     },
     "execution_count": 51,
     "metadata": {},
     "output_type": "execute_result"
    }
   ],
   "source": [
    "# Creating new dataframe\n",
    "import pandas as pd\n",
    "initial_data = {'First_name': ['Ramm', 'Mohan', 'Tina', 'Jeetu', 'Meera'],\n",
    "                'Last_name': ['Kumar', 'Sharma', 'Ali', 'Gandhi', 'Kumari'],\n",
    "                'Age': [42, 52, 36, 21, 23],\n",
    "                'City': ['Mumbai', 'Noida', 'Pune', 'Delhi', 'Bihar']}\n",
    "\n",
    "df = pd.DataFrame(initial_data, columns=['First_name','Last_name', 'Age', 'City'])\n",
    "\n",
    "\n",
    "df"
   ]
  },
  {
   "cell_type": "code",
   "execution_count": null,
   "id": "5b20e9c3",
   "metadata": {},
   "outputs": [
    {
     "name": "stdout",
     "output_type": "stream",
     "text": [
      "  First_name Last_name  Age    City\n",
      "0       Ramm     Kumar   42  Mumbai\n",
      "1      Mohan    Sharma   52   Noida\n",
      "2       Tina       Ali   36    Pune\n",
      "3      Jeetu    Gandhi   21   Delhi\n",
      "4      Meera    Kumari   23   Bihar\n",
      "\n"
     ]
    }
   ],
   "source": [
    "new_data = { \"Ramm\":\"Ram\",\n",
    "            \"Tina\":\"Riya\",\n",
    "            \"Jeetu\":\"Jitender\" }\n",
    "\n",
    "print(df, end=\"\\n\\n\")"
   ]
  },
  {
   "cell_type": "code",
   "execution_count": null,
   "id": "6ac95139",
   "metadata": {},
   "outputs": [
    {
     "name": "stdout",
     "output_type": "stream",
     "text": [
      "  First_name Last_name  Age    City\n",
      "0        Ram     Kumar   42  Mumbai\n",
      "1      Mohan    Sharma   52   Noida\n",
      "2       Riya       Ali   36    Pune\n",
      "3   Jitender    Gandhi   21   Delhi\n",
      "4      Meera    Kumari   23   Bihar\n"
     ]
    }
   ],
   "source": [
    "df = df.replace({'First_name':new_data})\n",
    "print(df)"
   ]
  },
  {
   "cell_type": "code",
   "execution_count": null,
   "id": "cc6ce4e2",
   "metadata": {},
   "outputs": [
    {
     "data": {
      "application/vnd.microsoft.datawrangler.viewer.v0+json": {
       "columns": [
        {
         "name": "index",
         "rawType": "int64",
         "type": "integer"
        },
        {
         "name": "First_name",
         "rawType": "object",
         "type": "string"
        },
        {
         "name": "Last_name",
         "rawType": "object",
         "type": "string"
        },
        {
         "name": "Age",
         "rawType": "int64",
         "type": "integer"
        },
        {
         "name": "City",
         "rawType": "object",
         "type": "string"
        }
       ],
       "ref": "15a44a22-a7f7-41c9-9335-3682502f39c5",
       "rows": [
        [
         "0",
         "Ram",
         "Kumar",
         "42",
         "Mumbai"
        ],
        [
         "1",
         "Mohan",
         "Sharma",
         "52",
         "Noida"
        ],
        [
         "2",
         "Tina",
         "Ali",
         "36",
         "Pune"
        ],
        [
         "3",
         "Jeetu",
         "Gandhi",
         "21",
         "Delhi"
        ],
        [
         "4",
         "Meera",
         "Kumari",
         "23",
         "Bihar"
        ]
       ],
       "shape": {
        "columns": 4,
        "rows": 5
       }
      },
      "text/html": [
       "<div>\n",
       "<style scoped>\n",
       "    .dataframe tbody tr th:only-of-type {\n",
       "        vertical-align: middle;\n",
       "    }\n",
       "\n",
       "    .dataframe tbody tr th {\n",
       "        vertical-align: top;\n",
       "    }\n",
       "\n",
       "    .dataframe thead th {\n",
       "        text-align: right;\n",
       "    }\n",
       "</style>\n",
       "<table border=\"1\" class=\"dataframe\">\n",
       "  <thead>\n",
       "    <tr style=\"text-align: right;\">\n",
       "      <th></th>\n",
       "      <th>First_name</th>\n",
       "      <th>Last_name</th>\n",
       "      <th>Age</th>\n",
       "      <th>City</th>\n",
       "    </tr>\n",
       "  </thead>\n",
       "  <tbody>\n",
       "    <tr>\n",
       "      <th>0</th>\n",
       "      <td>Ram</td>\n",
       "      <td>Kumar</td>\n",
       "      <td>42</td>\n",
       "      <td>Mumbai</td>\n",
       "    </tr>\n",
       "    <tr>\n",
       "      <th>1</th>\n",
       "      <td>Mohan</td>\n",
       "      <td>Sharma</td>\n",
       "      <td>52</td>\n",
       "      <td>Noida</td>\n",
       "    </tr>\n",
       "    <tr>\n",
       "      <th>2</th>\n",
       "      <td>Tina</td>\n",
       "      <td>Ali</td>\n",
       "      <td>36</td>\n",
       "      <td>Pune</td>\n",
       "    </tr>\n",
       "    <tr>\n",
       "      <th>3</th>\n",
       "      <td>Jeetu</td>\n",
       "      <td>Gandhi</td>\n",
       "      <td>21</td>\n",
       "      <td>Delhi</td>\n",
       "    </tr>\n",
       "    <tr>\n",
       "      <th>4</th>\n",
       "      <td>Meera</td>\n",
       "      <td>Kumari</td>\n",
       "      <td>23</td>\n",
       "      <td>Bihar</td>\n",
       "    </tr>\n",
       "  </tbody>\n",
       "</table>\n",
       "</div>"
      ],
      "text/plain": [
       "  First_name Last_name  Age    City\n",
       "0        Ram     Kumar   42  Mumbai\n",
       "1      Mohan    Sharma   52   Noida\n",
       "2       Tina       Ali   36    Pune\n",
       "3      Jeetu    Gandhi   21   Delhi\n",
       "4      Meera    Kumari   23   Bihar"
      ]
     },
     "metadata": {},
     "output_type": "display_data"
    },
    {
     "data": {
      "application/vnd.microsoft.datawrangler.viewer.v0+json": {
       "columns": [
        {
         "name": "index",
         "rawType": "int64",
         "type": "integer"
        },
        {
         "name": "First_name",
         "rawType": "object",
         "type": "string"
        },
        {
         "name": "Last_name",
         "rawType": "object",
         "type": "string"
        },
        {
         "name": "Age",
         "rawType": "int64",
         "type": "integer"
        },
        {
         "name": "City",
         "rawType": "object",
         "type": "string"
        }
       ],
       "ref": "ccee2085-f69e-4c6a-ba88-9bcbf1d36e20",
       "rows": [
        [
         "0",
         "Shyam",
         "Kumar",
         "42",
         "Mumbai"
        ],
        [
         "1",
         "Mohan",
         "Sharma",
         "52",
         "Noida"
        ],
        [
         "2",
         "Riya",
         "Ali",
         "36",
         "Pune"
        ],
        [
         "3",
         "Jitender",
         "Gandhi",
         "21",
         "Delhi"
        ],
        [
         "4",
         "Meera",
         "Kumari",
         "23",
         "Bihar"
        ]
       ],
       "shape": {
        "columns": 4,
        "rows": 5
       }
      },
      "text/html": [
       "<div>\n",
       "<style scoped>\n",
       "    .dataframe tbody tr th:only-of-type {\n",
       "        vertical-align: middle;\n",
       "    }\n",
       "\n",
       "    .dataframe tbody tr th {\n",
       "        vertical-align: top;\n",
       "    }\n",
       "\n",
       "    .dataframe thead th {\n",
       "        text-align: right;\n",
       "    }\n",
       "</style>\n",
       "<table border=\"1\" class=\"dataframe\">\n",
       "  <thead>\n",
       "    <tr style=\"text-align: right;\">\n",
       "      <th></th>\n",
       "      <th>First_name</th>\n",
       "      <th>Last_name</th>\n",
       "      <th>Age</th>\n",
       "      <th>City</th>\n",
       "    </tr>\n",
       "  </thead>\n",
       "  <tbody>\n",
       "    <tr>\n",
       "      <th>0</th>\n",
       "      <td>Shyam</td>\n",
       "      <td>Kumar</td>\n",
       "      <td>42</td>\n",
       "      <td>Mumbai</td>\n",
       "    </tr>\n",
       "    <tr>\n",
       "      <th>1</th>\n",
       "      <td>Mohan</td>\n",
       "      <td>Sharma</td>\n",
       "      <td>52</td>\n",
       "      <td>Noida</td>\n",
       "    </tr>\n",
       "    <tr>\n",
       "      <th>2</th>\n",
       "      <td>Riya</td>\n",
       "      <td>Ali</td>\n",
       "      <td>36</td>\n",
       "      <td>Pune</td>\n",
       "    </tr>\n",
       "    <tr>\n",
       "      <th>3</th>\n",
       "      <td>Jitender</td>\n",
       "      <td>Gandhi</td>\n",
       "      <td>21</td>\n",
       "      <td>Delhi</td>\n",
       "    </tr>\n",
       "    <tr>\n",
       "      <th>4</th>\n",
       "      <td>Meera</td>\n",
       "      <td>Kumari</td>\n",
       "      <td>23</td>\n",
       "      <td>Bihar</td>\n",
       "    </tr>\n",
       "  </tbody>\n",
       "</table>\n",
       "</div>"
      ],
      "text/plain": [
       "  First_name Last_name  Age    City\n",
       "0      Shyam     Kumar   42  Mumbai\n",
       "1      Mohan    Sharma   52   Noida\n",
       "2       Riya       Ali   36    Pune\n",
       "3   Jitender    Gandhi   21   Delhi\n",
       "4      Meera    Kumari   23   Bihar"
      ]
     },
     "metadata": {},
     "output_type": "display_data"
    }
   ],
   "source": [
    "# Update work on the index\n",
    "\n",
    "initial_data = {'First_name': ['Ram', 'Mohan', 'Tina', 'Jeetu', 'Meera'],\n",
    "                'Last_name': ['Kumar', 'Sharma', 'Ali', 'Gandhi', 'Kumari'],\n",
    "                'Age': [42, 52, 36, 21, 23],\n",
    "                'City': ['Mumbai', 'Noida', 'Pune', 'Delhi', 'Bihar']}\n",
    "\n",
    "new_data = { 0:\"Shyam\",\n",
    "            2:\"Riya\",\n",
    "            3:\"Jitender\" }\n",
    "\n",
    "\n",
    "df = pd.DataFrame(initial_data)\n",
    "display(df)\n",
    "# df[\"First_name\"].update(pd.Series(new_data)) #this will give the warning\n",
    "df.update(pd.DataFrame({\"First_name\": new_data}))\n",
    "\n",
    "display(df)"
   ]
  },
  {
   "cell_type": "markdown",
   "id": "9891a174",
   "metadata": {},
   "source": [
    "To ungroup the group we use unstack()"
   ]
  },
  {
   "cell_type": "code",
   "execution_count": null,
   "id": "8aca9195",
   "metadata": {},
   "outputs": [
    {
     "data": {
      "application/vnd.microsoft.datawrangler.viewer.v0+json": {
       "columns": [
        {
         "name": "index",
         "rawType": "int64",
         "type": "integer"
        },
        {
         "name": "Department",
         "rawType": "object",
         "type": "string"
        },
        {
         "name": "Gender",
         "rawType": "object",
         "type": "string"
        },
        {
         "name": "Salary",
         "rawType": "int64",
         "type": "integer"
        }
       ],
       "ref": "cdf6f77e-d2d4-4c44-a2ee-c328f5ac3d9d",
       "rows": [
        [
         "0",
         "Sales",
         "Male",
         "5000"
        ],
        [
         "1",
         "Sales",
         "Female",
         "5200"
        ],
        [
         "2",
         "HR",
         "Male",
         "4800"
        ],
        [
         "3",
         "HR",
         "Female",
         "5100"
        ]
       ],
       "shape": {
        "columns": 3,
        "rows": 4
       }
      },
      "text/html": [
       "<div>\n",
       "<style scoped>\n",
       "    .dataframe tbody tr th:only-of-type {\n",
       "        vertical-align: middle;\n",
       "    }\n",
       "\n",
       "    .dataframe tbody tr th {\n",
       "        vertical-align: top;\n",
       "    }\n",
       "\n",
       "    .dataframe thead th {\n",
       "        text-align: right;\n",
       "    }\n",
       "</style>\n",
       "<table border=\"1\" class=\"dataframe\">\n",
       "  <thead>\n",
       "    <tr style=\"text-align: right;\">\n",
       "      <th></th>\n",
       "      <th>Department</th>\n",
       "      <th>Gender</th>\n",
       "      <th>Salary</th>\n",
       "    </tr>\n",
       "  </thead>\n",
       "  <tbody>\n",
       "    <tr>\n",
       "      <th>0</th>\n",
       "      <td>Sales</td>\n",
       "      <td>Male</td>\n",
       "      <td>5000</td>\n",
       "    </tr>\n",
       "    <tr>\n",
       "      <th>1</th>\n",
       "      <td>Sales</td>\n",
       "      <td>Female</td>\n",
       "      <td>5200</td>\n",
       "    </tr>\n",
       "    <tr>\n",
       "      <th>2</th>\n",
       "      <td>HR</td>\n",
       "      <td>Male</td>\n",
       "      <td>4800</td>\n",
       "    </tr>\n",
       "    <tr>\n",
       "      <th>3</th>\n",
       "      <td>HR</td>\n",
       "      <td>Female</td>\n",
       "      <td>5100</td>\n",
       "    </tr>\n",
       "  </tbody>\n",
       "</table>\n",
       "</div>"
      ],
      "text/plain": [
       "  Department  Gender  Salary\n",
       "0      Sales    Male    5000\n",
       "1      Sales  Female    5200\n",
       "2         HR    Male    4800\n",
       "3         HR  Female    5100"
      ]
     },
     "execution_count": 64,
     "metadata": {},
     "output_type": "execute_result"
    }
   ],
   "source": [
    "data = {\n",
    "    'Department': ['Sales', 'Sales', 'HR', 'HR'],\n",
    "    'Gender': ['Male', 'Female', 'Male', 'Female'],\n",
    "    'Salary': [5000, 5200, 4800, 5100]\n",
    "}\n",
    "df = pd.DataFrame(data)\n",
    "df"
   ]
  },
  {
   "cell_type": "code",
   "execution_count": null,
   "id": "1a971eef",
   "metadata": {},
   "outputs": [
    {
     "name": "stdout",
     "output_type": "stream",
     "text": [
      "Department  Gender\n",
      "HR          Female    5100.0\n",
      "            Male      4800.0\n",
      "Sales       Female    5200.0\n",
      "            Male      5000.0\n",
      "Name: Salary, dtype: float64\n"
     ]
    }
   ],
   "source": [
    "df_g = df.groupby(['Department','Gender'])['Salary'].mean()\n",
    "print(df_g)"
   ]
  },
  {
   "cell_type": "code",
   "execution_count": null,
   "id": "34e84661",
   "metadata": {},
   "outputs": [
    {
     "name": "stdout",
     "output_type": "stream",
     "text": [
      "Gender      Female    Male\n",
      "Department                \n",
      "HR          5100.0  4800.0\n",
      "Sales       5200.0  5000.0\n"
     ]
    }
   ],
   "source": [
    "df_u = df_g.unstack()\n",
    "print(df_u)"
   ]
  },
  {
   "cell_type": "markdown",
   "id": "5add252a",
   "metadata": {},
   "source": [
    "melt()\n",
    "\n",
    "The melt() method in pandas is your go-to tool when you need to transform wide-format data into long-format — essentially doing the opposite of a pivot. It’s perfect for turning column headers into row values, making your data tidy and ready for analysis.\n",
    "\n",
    "Why use melt()? It simplifies datasets where values are spread across multiple columns but would be better analyzed in a key-value format."
   ]
  },
  {
   "cell_type": "code",
   "execution_count": null,
   "id": "1edd5bbb",
   "metadata": {},
   "outputs": [
    {
     "name": "stdout",
     "output_type": "stream",
     "text": [
      "    Name  Math  Science\n",
      "0   Ansh    66       99\n",
      "1  Harsh    89       67\n"
     ]
    }
   ],
   "source": [
    "df = pd.DataFrame({\n",
    "    'Name': ['Ansh', 'Harsh'],\n",
    "    'Math':[66,89],\n",
    "    'Science':[99,67]\n",
    "})\n",
    "print(df)"
   ]
  },
  {
   "cell_type": "code",
   "execution_count": null,
   "id": "718ea4fb",
   "metadata": {},
   "outputs": [
    {
     "data": {
      "application/vnd.microsoft.datawrangler.viewer.v0+json": {
       "columns": [
        {
         "name": "index",
         "rawType": "int64",
         "type": "integer"
        },
        {
         "name": "Name",
         "rawType": "object",
         "type": "string"
        },
        {
         "name": "Subject",
         "rawType": "object",
         "type": "string"
        },
        {
         "name": "Marks",
         "rawType": "int64",
         "type": "integer"
        }
       ],
       "ref": "8278d1de-b96c-4bf9-97bd-1ea2e676025d",
       "rows": [
        [
         "0",
         "Ansh",
         "Math",
         "66"
        ],
        [
         "1",
         "Harsh",
         "Math",
         "89"
        ],
        [
         "2",
         "Ansh",
         "Science",
         "99"
        ],
        [
         "3",
         "Harsh",
         "Science",
         "67"
        ]
       ],
       "shape": {
        "columns": 3,
        "rows": 4
       }
      },
      "text/html": [
       "<div>\n",
       "<style scoped>\n",
       "    .dataframe tbody tr th:only-of-type {\n",
       "        vertical-align: middle;\n",
       "    }\n",
       "\n",
       "    .dataframe tbody tr th {\n",
       "        vertical-align: top;\n",
       "    }\n",
       "\n",
       "    .dataframe thead th {\n",
       "        text-align: right;\n",
       "    }\n",
       "</style>\n",
       "<table border=\"1\" class=\"dataframe\">\n",
       "  <thead>\n",
       "    <tr style=\"text-align: right;\">\n",
       "      <th></th>\n",
       "      <th>Name</th>\n",
       "      <th>Subject</th>\n",
       "      <th>Marks</th>\n",
       "    </tr>\n",
       "  </thead>\n",
       "  <tbody>\n",
       "    <tr>\n",
       "      <th>0</th>\n",
       "      <td>Ansh</td>\n",
       "      <td>Math</td>\n",
       "      <td>66</td>\n",
       "    </tr>\n",
       "    <tr>\n",
       "      <th>1</th>\n",
       "      <td>Harsh</td>\n",
       "      <td>Math</td>\n",
       "      <td>89</td>\n",
       "    </tr>\n",
       "    <tr>\n",
       "      <th>2</th>\n",
       "      <td>Ansh</td>\n",
       "      <td>Science</td>\n",
       "      <td>99</td>\n",
       "    </tr>\n",
       "    <tr>\n",
       "      <th>3</th>\n",
       "      <td>Harsh</td>\n",
       "      <td>Science</td>\n",
       "      <td>67</td>\n",
       "    </tr>\n",
       "  </tbody>\n",
       "</table>\n",
       "</div>"
      ],
      "text/plain": [
       "    Name  Subject  Marks\n",
       "0   Ansh     Math     66\n",
       "1  Harsh     Math     89\n",
       "2   Ansh  Science     99\n",
       "3  Harsh  Science     67"
      ]
     },
     "execution_count": 73,
     "metadata": {},
     "output_type": "execute_result"
    }
   ],
   "source": [
    "df_melted = df.melt( id_vars=\"Name\",var_name='Subject', value_name='Marks')\n",
    "df_melted"
   ]
  },
  {
   "cell_type": "markdown",
   "id": "6360b101",
   "metadata": {},
   "source": [
    "Key parameters: id_vars: Columns to keep as identifiers (they won’t be unpivoted)\n",
    "\n",
    "var_name: Name of the new column for former column headers\n",
    "\n",
    "value_name: Name of the new column for values\n",
    "\n",
    "How pandas figures it out: id_vars='Name' → This tells pandas: “Hey, keep the Name column as is.”\n",
    "\n",
    "Everything else (like Math and Science) → Becomes part of the Subject column — because they’re the column headers being melted.\n",
    "\n",
    "Their cell values (like 90, 85, 80, 89) → Go under the new column called Marks, which you assigned using value_name='Marks'."
   ]
  },
  {
   "cell_type": "markdown",
   "id": "b99bf32d",
   "metadata": {},
   "source": [
    "### Reset Index in Pandas Dataframe\n",
    "Syntax :\n",
    "\n",
    "DataFrame.reset_index(level=None, drop=False, inplace=False, col_level=0, col_fill='')\n",
    "\n",
    "Parameters:\n",
    "\n",
    "* level: Specifies multi-level index levels to reset.\n",
    "* drop: Discards current index if True; adds as a new column if False.\n",
    "* inplace: Modifies DataFrame in place if True; returns a new DataFrame if False.\n",
    "* col_level: Specifies which level of multi-level columns to reset.\n",
    "* col_fill: Fills missing values in columns' levels. Return Type: Returns a new DataFrame if inplace is False; None if inplace is True\n",
    "used methods\n",
    "\n",
    "* Create Own Index Without Removing Default Index\n",
    "* Create your Own Index and Remove the Default Index\n",
    "* Reset Own Index and Create Default Index as Index\n",
    "* Make a Column of Dataframe as Index and Removing Default Index\n",
    "* Make a Column of Dataframe as an Index Without Removing Index"
   ]
  },
  {
   "cell_type": "code",
   "execution_count": 35,
   "id": "8d968cdb",
   "metadata": {},
   "outputs": [
    {
     "name": "stdout",
     "output_type": "stream",
     "text": [
      "        Name  Age      Address Qualification\n",
      "0      Nirav   19        Surat          12th\n",
      "1       Vala   15  Gandhinagar          10th\n",
      "2       Arpi   16     Vadodara          10th\n",
      "3   Vaibhav    17    Karnavati          11th\n",
      "4      Thapa   18        Daman          11th\n"
     ]
    }
   ],
   "source": [
    "data = {\n",
    "    'Name':['Nirav', 'Vala',' Arpi',' Vaibhav ', 'Thapa'],\n",
    "    'Age':[19,15,16,17,18,],\n",
    "    'Address':['Surat', 'Gandhinagar', 'Vadodara', 'Karnavati', 'Daman'],\n",
    "    'Qualification':['12th', '10th', '10th','11th', '11th']\n",
    "}\n",
    "\n",
    "df = pd.DataFrame.from_dict(data)\n",
    "print(df)"
   ]
  },
  {
   "cell_type": "code",
   "execution_count": 36,
   "id": "0a611a3a",
   "metadata": {},
   "outputs": [],
   "source": [
    "df['Name'] = df['Name'].apply(lambda x: x.strip())"
   ]
  },
  {
   "cell_type": "code",
   "execution_count": 37,
   "id": "f3ee4ac2",
   "metadata": {},
   "outputs": [
    {
     "data": {
      "application/vnd.microsoft.datawrangler.viewer.v0+json": {
       "columns": [
        {
         "name": "index",
         "rawType": "int64",
         "type": "integer"
        },
        {
         "name": "Name",
         "rawType": "object",
         "type": "string"
        },
        {
         "name": "Age",
         "rawType": "int64",
         "type": "integer"
        },
        {
         "name": "Address",
         "rawType": "object",
         "type": "string"
        },
        {
         "name": "Qualification",
         "rawType": "object",
         "type": "string"
        }
       ],
       "ref": "af7eb2a7-eb99-4037-a265-f0ac4dfa0a05",
       "rows": [
        [
         "0",
         "Nirav",
         "19",
         "Surat",
         "12th"
        ],
        [
         "1",
         "Vala",
         "15",
         "Gandhinagar",
         "10th"
        ],
        [
         "2",
         "Arpi",
         "16",
         "Vadodara",
         "10th"
        ],
        [
         "3",
         "Vaibhav",
         "17",
         "Karnavati",
         "11th"
        ],
        [
         "4",
         "Thapa",
         "18",
         "Daman",
         "11th"
        ]
       ],
       "shape": {
        "columns": 4,
        "rows": 5
       }
      },
      "text/html": [
       "<div>\n",
       "<style scoped>\n",
       "    .dataframe tbody tr th:only-of-type {\n",
       "        vertical-align: middle;\n",
       "    }\n",
       "\n",
       "    .dataframe tbody tr th {\n",
       "        vertical-align: top;\n",
       "    }\n",
       "\n",
       "    .dataframe thead th {\n",
       "        text-align: right;\n",
       "    }\n",
       "</style>\n",
       "<table border=\"1\" class=\"dataframe\">\n",
       "  <thead>\n",
       "    <tr style=\"text-align: right;\">\n",
       "      <th></th>\n",
       "      <th>Name</th>\n",
       "      <th>Age</th>\n",
       "      <th>Address</th>\n",
       "      <th>Qualification</th>\n",
       "    </tr>\n",
       "  </thead>\n",
       "  <tbody>\n",
       "    <tr>\n",
       "      <th>0</th>\n",
       "      <td>Nirav</td>\n",
       "      <td>19</td>\n",
       "      <td>Surat</td>\n",
       "      <td>12th</td>\n",
       "    </tr>\n",
       "    <tr>\n",
       "      <th>1</th>\n",
       "      <td>Vala</td>\n",
       "      <td>15</td>\n",
       "      <td>Gandhinagar</td>\n",
       "      <td>10th</td>\n",
       "    </tr>\n",
       "    <tr>\n",
       "      <th>2</th>\n",
       "      <td>Arpi</td>\n",
       "      <td>16</td>\n",
       "      <td>Vadodara</td>\n",
       "      <td>10th</td>\n",
       "    </tr>\n",
       "    <tr>\n",
       "      <th>3</th>\n",
       "      <td>Vaibhav</td>\n",
       "      <td>17</td>\n",
       "      <td>Karnavati</td>\n",
       "      <td>11th</td>\n",
       "    </tr>\n",
       "    <tr>\n",
       "      <th>4</th>\n",
       "      <td>Thapa</td>\n",
       "      <td>18</td>\n",
       "      <td>Daman</td>\n",
       "      <td>11th</td>\n",
       "    </tr>\n",
       "  </tbody>\n",
       "</table>\n",
       "</div>"
      ],
      "text/plain": [
       "      Name  Age      Address Qualification\n",
       "0    Nirav   19        Surat          12th\n",
       "1     Vala   15  Gandhinagar          10th\n",
       "2     Arpi   16     Vadodara          10th\n",
       "3  Vaibhav   17    Karnavati          11th\n",
       "4    Thapa   18        Daman          11th"
      ]
     },
     "execution_count": 37,
     "metadata": {},
     "output_type": "execute_result"
    }
   ],
   "source": [
    "df"
   ]
  },
  {
   "cell_type": "code",
   "execution_count": 38,
   "id": "99f8a2f9",
   "metadata": {},
   "outputs": [
    {
     "name": "stdout",
     "output_type": "stream",
     "text": [
      "['Nirav', 'Vala', 'Arpi', 'Vaibhav', 'Thapa']\n"
     ]
    }
   ],
   "source": [
    "list = []\n",
    "for i in df['Name']:\n",
    "    list.append(i)\n",
    "\n",
    "print(list)"
   ]
  },
  {
   "cell_type": "code",
   "execution_count": 39,
   "id": "ed45d8e0",
   "metadata": {},
   "outputs": [
    {
     "data": {
      "application/vnd.microsoft.datawrangler.viewer.v0+json": {
       "columns": [
        {
         "name": "index",
         "rawType": "object",
         "type": "string"
        },
        {
         "name": "Name",
         "rawType": "object",
         "type": "string"
        },
        {
         "name": "Age",
         "rawType": "int64",
         "type": "integer"
        },
        {
         "name": "Address",
         "rawType": "object",
         "type": "string"
        },
        {
         "name": "Qualification",
         "rawType": "object",
         "type": "string"
        }
       ],
       "ref": "4a959522-886b-4d72-924e-4b3a35b5716e",
       "rows": [
        [
         "h",
         "Nirav",
         "19",
         "Surat",
         "12th"
        ],
        [
         "e",
         "Vala",
         "15",
         "Gandhinagar",
         "10th"
        ],
        [
         "l",
         " Arpi",
         "16",
         "Vadodara",
         "10th"
        ],
        [
         "l",
         " Vaibhav ",
         "17",
         "Karnavati",
         "11th"
        ],
        [
         "o",
         "Thapa",
         "18",
         "Daman",
         "11th"
        ]
       ],
       "shape": {
        "columns": 4,
        "rows": 5
       }
      },
      "text/html": [
       "<div>\n",
       "<style scoped>\n",
       "    .dataframe tbody tr th:only-of-type {\n",
       "        vertical-align: middle;\n",
       "    }\n",
       "\n",
       "    .dataframe tbody tr th {\n",
       "        vertical-align: top;\n",
       "    }\n",
       "\n",
       "    .dataframe thead th {\n",
       "        text-align: right;\n",
       "    }\n",
       "</style>\n",
       "<table border=\"1\" class=\"dataframe\">\n",
       "  <thead>\n",
       "    <tr style=\"text-align: right;\">\n",
       "      <th></th>\n",
       "      <th>Name</th>\n",
       "      <th>Age</th>\n",
       "      <th>Address</th>\n",
       "      <th>Qualification</th>\n",
       "    </tr>\n",
       "  </thead>\n",
       "  <tbody>\n",
       "    <tr>\n",
       "      <th>h</th>\n",
       "      <td>Nirav</td>\n",
       "      <td>19</td>\n",
       "      <td>Surat</td>\n",
       "      <td>12th</td>\n",
       "    </tr>\n",
       "    <tr>\n",
       "      <th>e</th>\n",
       "      <td>Vala</td>\n",
       "      <td>15</td>\n",
       "      <td>Gandhinagar</td>\n",
       "      <td>10th</td>\n",
       "    </tr>\n",
       "    <tr>\n",
       "      <th>l</th>\n",
       "      <td>Arpi</td>\n",
       "      <td>16</td>\n",
       "      <td>Vadodara</td>\n",
       "      <td>10th</td>\n",
       "    </tr>\n",
       "    <tr>\n",
       "      <th>l</th>\n",
       "      <td>Vaibhav</td>\n",
       "      <td>17</td>\n",
       "      <td>Karnavati</td>\n",
       "      <td>11th</td>\n",
       "    </tr>\n",
       "    <tr>\n",
       "      <th>o</th>\n",
       "      <td>Thapa</td>\n",
       "      <td>18</td>\n",
       "      <td>Daman</td>\n",
       "      <td>11th</td>\n",
       "    </tr>\n",
       "  </tbody>\n",
       "</table>\n",
       "</div>"
      ],
      "text/plain": [
       "        Name  Age      Address Qualification\n",
       "h      Nirav   19        Surat          12th\n",
       "e       Vala   15  Gandhinagar          10th\n",
       "l       Arpi   16     Vadodara          10th\n",
       "l   Vaibhav    17    Karnavati          11th\n",
       "o      Thapa   18        Daman          11th"
      ]
     },
     "execution_count": 39,
     "metadata": {},
     "output_type": "execute_result"
    }
   ],
   "source": [
    "#Create Own Index without Removing Default Index\n",
    "\n",
    "index_ = ['h','e','l','l','o']\n",
    "df = pd.DataFrame(data, index=index_)\n",
    "df\n"
   ]
  },
  {
   "cell_type": "code",
   "execution_count": 40,
   "id": "320f5254",
   "metadata": {},
   "outputs": [
    {
     "data": {
      "application/vnd.microsoft.datawrangler.viewer.v0+json": {
       "columns": [
        {
         "name": "index",
         "rawType": "int64",
         "type": "integer"
        },
        {
         "name": "Name",
         "rawType": "object",
         "type": "string"
        },
        {
         "name": "Age",
         "rawType": "int64",
         "type": "integer"
        },
        {
         "name": "Address",
         "rawType": "object",
         "type": "string"
        },
        {
         "name": "Qualification",
         "rawType": "object",
         "type": "string"
        }
       ],
       "ref": "3d8ad824-b3fd-467f-88d2-2042c912a350",
       "rows": [
        [
         "0",
         "Nirav",
         "19",
         "Surat",
         "12th"
        ],
        [
         "1",
         "Vala",
         "15",
         "Gandhinagar",
         "10th"
        ],
        [
         "2",
         " Arpi",
         "16",
         "Vadodara",
         "10th"
        ],
        [
         "3",
         " Vaibhav ",
         "17",
         "Karnavati",
         "11th"
        ],
        [
         "4",
         "Thapa",
         "18",
         "Daman",
         "11th"
        ]
       ],
       "shape": {
        "columns": 4,
        "rows": 5
       }
      },
      "text/html": [
       "<div>\n",
       "<style scoped>\n",
       "    .dataframe tbody tr th:only-of-type {\n",
       "        vertical-align: middle;\n",
       "    }\n",
       "\n",
       "    .dataframe tbody tr th {\n",
       "        vertical-align: top;\n",
       "    }\n",
       "\n",
       "    .dataframe thead th {\n",
       "        text-align: right;\n",
       "    }\n",
       "</style>\n",
       "<table border=\"1\" class=\"dataframe\">\n",
       "  <thead>\n",
       "    <tr style=\"text-align: right;\">\n",
       "      <th></th>\n",
       "      <th>Name</th>\n",
       "      <th>Age</th>\n",
       "      <th>Address</th>\n",
       "      <th>Qualification</th>\n",
       "    </tr>\n",
       "  </thead>\n",
       "  <tbody>\n",
       "    <tr>\n",
       "      <th>0</th>\n",
       "      <td>Nirav</td>\n",
       "      <td>19</td>\n",
       "      <td>Surat</td>\n",
       "      <td>12th</td>\n",
       "    </tr>\n",
       "    <tr>\n",
       "      <th>1</th>\n",
       "      <td>Vala</td>\n",
       "      <td>15</td>\n",
       "      <td>Gandhinagar</td>\n",
       "      <td>10th</td>\n",
       "    </tr>\n",
       "    <tr>\n",
       "      <th>2</th>\n",
       "      <td>Arpi</td>\n",
       "      <td>16</td>\n",
       "      <td>Vadodara</td>\n",
       "      <td>10th</td>\n",
       "    </tr>\n",
       "    <tr>\n",
       "      <th>3</th>\n",
       "      <td>Vaibhav</td>\n",
       "      <td>17</td>\n",
       "      <td>Karnavati</td>\n",
       "      <td>11th</td>\n",
       "    </tr>\n",
       "    <tr>\n",
       "      <th>4</th>\n",
       "      <td>Thapa</td>\n",
       "      <td>18</td>\n",
       "      <td>Daman</td>\n",
       "      <td>11th</td>\n",
       "    </tr>\n",
       "  </tbody>\n",
       "</table>\n",
       "</div>"
      ],
      "text/plain": [
       "        Name  Age      Address Qualification\n",
       "0      Nirav   19        Surat          12th\n",
       "1       Vala   15  Gandhinagar          10th\n",
       "2       Arpi   16     Vadodara          10th\n",
       "3   Vaibhav    17    Karnavati          11th\n",
       "4      Thapa   18        Daman          11th"
      ]
     },
     "execution_count": 40,
     "metadata": {},
     "output_type": "execute_result"
    }
   ],
   "source": [
    "df.reset_index(inplace=True , drop = True )\n",
    "df"
   ]
  },
  {
   "cell_type": "code",
   "execution_count": 42,
   "id": "4e891b42",
   "metadata": {},
   "outputs": [
    {
     "name": "stdout",
     "output_type": "stream",
     "text": [
      "Name              Vaibhav \n",
      "Address          Karnavati\n",
      "Qualification         11th\n",
      "Name: 17, dtype: object\n"
     ]
    }
   ],
   "source": [
    "df = pd.DataFrame(data , index_)\n",
    "df.set_index(['Age'], inplace=True)\n",
    "df\n",
    "print(df.loc[17])"
   ]
  },
  {
   "cell_type": "code",
   "execution_count": 43,
   "id": "504e5148",
   "metadata": {},
   "outputs": [
    {
     "data": {
      "application/vnd.microsoft.datawrangler.viewer.v0+json": {
       "columns": [
        {
         "name": "index",
         "rawType": "int64",
         "type": "integer"
        },
        {
         "name": "Age",
         "rawType": "int64",
         "type": "integer"
        },
        {
         "name": "Name",
         "rawType": "object",
         "type": "string"
        },
        {
         "name": "Address",
         "rawType": "object",
         "type": "string"
        },
        {
         "name": "Qualification",
         "rawType": "object",
         "type": "string"
        }
       ],
       "ref": "c1ffa13b-29fe-418e-ac97-474555de1ec0",
       "rows": [
        [
         "0",
         "19",
         "Nirav",
         "Surat",
         "12th"
        ],
        [
         "1",
         "15",
         "Vala",
         "Gandhinagar",
         "10th"
        ],
        [
         "2",
         "16",
         " Arpi",
         "Vadodara",
         "10th"
        ],
        [
         "3",
         "17",
         " Vaibhav ",
         "Karnavati",
         "11th"
        ],
        [
         "4",
         "18",
         "Thapa",
         "Daman",
         "11th"
        ]
       ],
       "shape": {
        "columns": 4,
        "rows": 5
       }
      },
      "text/html": [
       "<div>\n",
       "<style scoped>\n",
       "    .dataframe tbody tr th:only-of-type {\n",
       "        vertical-align: middle;\n",
       "    }\n",
       "\n",
       "    .dataframe tbody tr th {\n",
       "        vertical-align: top;\n",
       "    }\n",
       "\n",
       "    .dataframe thead th {\n",
       "        text-align: right;\n",
       "    }\n",
       "</style>\n",
       "<table border=\"1\" class=\"dataframe\">\n",
       "  <thead>\n",
       "    <tr style=\"text-align: right;\">\n",
       "      <th></th>\n",
       "      <th>Age</th>\n",
       "      <th>Name</th>\n",
       "      <th>Address</th>\n",
       "      <th>Qualification</th>\n",
       "    </tr>\n",
       "  </thead>\n",
       "  <tbody>\n",
       "    <tr>\n",
       "      <th>0</th>\n",
       "      <td>19</td>\n",
       "      <td>Nirav</td>\n",
       "      <td>Surat</td>\n",
       "      <td>12th</td>\n",
       "    </tr>\n",
       "    <tr>\n",
       "      <th>1</th>\n",
       "      <td>15</td>\n",
       "      <td>Vala</td>\n",
       "      <td>Gandhinagar</td>\n",
       "      <td>10th</td>\n",
       "    </tr>\n",
       "    <tr>\n",
       "      <th>2</th>\n",
       "      <td>16</td>\n",
       "      <td>Arpi</td>\n",
       "      <td>Vadodara</td>\n",
       "      <td>10th</td>\n",
       "    </tr>\n",
       "    <tr>\n",
       "      <th>3</th>\n",
       "      <td>17</td>\n",
       "      <td>Vaibhav</td>\n",
       "      <td>Karnavati</td>\n",
       "      <td>11th</td>\n",
       "    </tr>\n",
       "    <tr>\n",
       "      <th>4</th>\n",
       "      <td>18</td>\n",
       "      <td>Thapa</td>\n",
       "      <td>Daman</td>\n",
       "      <td>11th</td>\n",
       "    </tr>\n",
       "  </tbody>\n",
       "</table>\n",
       "</div>"
      ],
      "text/plain": [
       "   Age       Name      Address Qualification\n",
       "0   19      Nirav        Surat          12th\n",
       "1   15       Vala  Gandhinagar          10th\n",
       "2   16       Arpi     Vadodara          10th\n",
       "3   17   Vaibhav     Karnavati          11th\n",
       "4   18      Thapa        Daman          11th"
      ]
     },
     "execution_count": 43,
     "metadata": {},
     "output_type": "execute_result"
    }
   ],
   "source": [
    "df.reset_index(level=['Age'], inplace=True)\n",
    "df"
   ]
  },
  {
   "cell_type": "markdown",
   "id": "e1657929",
   "metadata": {},
   "source": [
    "Changing Column Names and Row Indexes in Pandas\n",
    "\n",
    "* Method 1: Using .columns and .index directly\n",
    "\n",
    "* Method 2: Using .rename() with a dictionary\n",
    "\n",
    "* Method 3: With lambda functions Dynamically change all names\n",
    "\n",
    "* Method 4: Using .columns.values Modify a specific column name"
   ]
  },
  {
   "cell_type": "code",
   "execution_count": 44,
   "id": "9f929c87",
   "metadata": {},
   "outputs": [
    {
     "name": "stdout",
     "output_type": "stream",
     "text": [
      "Original DataFrame:\n"
     ]
    },
    {
     "data": {
      "application/vnd.microsoft.datawrangler.viewer.v0+json": {
       "columns": [
        {
         "name": "index",
         "rawType": "int64",
         "type": "integer"
        },
        {
         "name": "Name",
         "rawType": "object",
         "type": "string"
        },
        {
         "name": "Age",
         "rawType": "int64",
         "type": "integer"
        }
       ],
       "ref": "da247983-4497-465b-be15-380f57ebfa0c",
       "rows": [
        [
         "0",
         "Tom",
         "15"
        ],
        [
         "1",
         "Nick",
         "26"
        ],
        [
         "2",
         "John",
         "17"
        ],
        [
         "3",
         "Peter",
         "28"
        ]
       ],
       "shape": {
        "columns": 2,
        "rows": 4
       }
      },
      "text/html": [
       "<div>\n",
       "<style scoped>\n",
       "    .dataframe tbody tr th:only-of-type {\n",
       "        vertical-align: middle;\n",
       "    }\n",
       "\n",
       "    .dataframe tbody tr th {\n",
       "        vertical-align: top;\n",
       "    }\n",
       "\n",
       "    .dataframe thead th {\n",
       "        text-align: right;\n",
       "    }\n",
       "</style>\n",
       "<table border=\"1\" class=\"dataframe\">\n",
       "  <thead>\n",
       "    <tr style=\"text-align: right;\">\n",
       "      <th></th>\n",
       "      <th>Name</th>\n",
       "      <th>Age</th>\n",
       "    </tr>\n",
       "  </thead>\n",
       "  <tbody>\n",
       "    <tr>\n",
       "      <th>0</th>\n",
       "      <td>Tom</td>\n",
       "      <td>15</td>\n",
       "    </tr>\n",
       "    <tr>\n",
       "      <th>1</th>\n",
       "      <td>Nick</td>\n",
       "      <td>26</td>\n",
       "    </tr>\n",
       "    <tr>\n",
       "      <th>2</th>\n",
       "      <td>John</td>\n",
       "      <td>17</td>\n",
       "    </tr>\n",
       "    <tr>\n",
       "      <th>3</th>\n",
       "      <td>Peter</td>\n",
       "      <td>28</td>\n",
       "    </tr>\n",
       "  </tbody>\n",
       "</table>\n",
       "</div>"
      ],
      "text/plain": [
       "    Name  Age\n",
       "0    Tom   15\n",
       "1   Nick   26\n",
       "2   John   17\n",
       "3  Peter   28"
      ]
     },
     "metadata": {},
     "output_type": "display_data"
    }
   ],
   "source": [
    "df = pd.DataFrame({\n",
    "    \"Name\": ['Tom', 'Nick', 'John', 'Peter'],\n",
    "    \"Age\": [15, 26, 17, 28]\n",
    "})\n",
    "print(\"Original DataFrame:\")\n",
    "display(df)"
   ]
  },
  {
   "cell_type": "code",
   "execution_count": 45,
   "id": "21cef0fc",
   "metadata": {},
   "outputs": [
    {
     "data": {
      "application/vnd.microsoft.datawrangler.viewer.v0+json": {
       "columns": [
        {
         "name": "index",
         "rawType": "int64",
         "type": "integer"
        },
        {
         "name": "column1",
         "rawType": "object",
         "type": "string"
        },
        {
         "name": "column2",
         "rawType": "int64",
         "type": "integer"
        }
       ],
       "ref": "9c542b92-a2af-4f9d-b987-098fc816c1db",
       "rows": [
        [
         "4",
         "Tom",
         "15"
        ],
        [
         "4",
         "Nick",
         "26"
        ],
        [
         "7",
         "John",
         "17"
        ],
        [
         "8",
         "Peter",
         "28"
        ]
       ],
       "shape": {
        "columns": 2,
        "rows": 4
       }
      },
      "text/html": [
       "<div>\n",
       "<style scoped>\n",
       "    .dataframe tbody tr th:only-of-type {\n",
       "        vertical-align: middle;\n",
       "    }\n",
       "\n",
       "    .dataframe tbody tr th {\n",
       "        vertical-align: top;\n",
       "    }\n",
       "\n",
       "    .dataframe thead th {\n",
       "        text-align: right;\n",
       "    }\n",
       "</style>\n",
       "<table border=\"1\" class=\"dataframe\">\n",
       "  <thead>\n",
       "    <tr style=\"text-align: right;\">\n",
       "      <th></th>\n",
       "      <th>column1</th>\n",
       "      <th>column2</th>\n",
       "    </tr>\n",
       "  </thead>\n",
       "  <tbody>\n",
       "    <tr>\n",
       "      <th>4</th>\n",
       "      <td>Tom</td>\n",
       "      <td>15</td>\n",
       "    </tr>\n",
       "    <tr>\n",
       "      <th>4</th>\n",
       "      <td>Nick</td>\n",
       "      <td>26</td>\n",
       "    </tr>\n",
       "    <tr>\n",
       "      <th>7</th>\n",
       "      <td>John</td>\n",
       "      <td>17</td>\n",
       "    </tr>\n",
       "    <tr>\n",
       "      <th>8</th>\n",
       "      <td>Peter</td>\n",
       "      <td>28</td>\n",
       "    </tr>\n",
       "  </tbody>\n",
       "</table>\n",
       "</div>"
      ],
      "text/plain": [
       "  column1  column2\n",
       "4     Tom       15\n",
       "4    Nick       26\n",
       "7    John       17\n",
       "8   Peter       28"
      ]
     },
     "execution_count": 45,
     "metadata": {},
     "output_type": "execute_result"
    }
   ],
   "source": [
    "# Method 1\n",
    "df.columns = ['column1', 'column2']\n",
    "df.index = [4,4,7,8]\n",
    "df"
   ]
  },
  {
   "cell_type": "code",
   "execution_count": 49,
   "id": "4df2bafb",
   "metadata": {},
   "outputs": [
    {
     "data": {
      "application/vnd.microsoft.datawrangler.viewer.v0+json": {
       "columns": [
        {
         "name": "index",
         "rawType": "int64",
         "type": "integer"
        },
        {
         "name": "ncol1",
         "rawType": "object",
         "type": "string"
        },
        {
         "name": "column2",
         "rawType": "int64",
         "type": "integer"
        }
       ],
       "ref": "fc8d46c3-8f8d-493c-9fdf-73e6411fa140",
       "rows": [
        [
         "4",
         "Tom",
         "15"
        ],
        [
         "4",
         "Nick",
         "26"
        ],
        [
         "8",
         "John",
         "17"
        ],
        [
         "8",
         "Peter",
         "28"
        ]
       ],
       "shape": {
        "columns": 2,
        "rows": 4
       }
      },
      "text/html": [
       "<div>\n",
       "<style scoped>\n",
       "    .dataframe tbody tr th:only-of-type {\n",
       "        vertical-align: middle;\n",
       "    }\n",
       "\n",
       "    .dataframe tbody tr th {\n",
       "        vertical-align: top;\n",
       "    }\n",
       "\n",
       "    .dataframe thead th {\n",
       "        text-align: right;\n",
       "    }\n",
       "</style>\n",
       "<table border=\"1\" class=\"dataframe\">\n",
       "  <thead>\n",
       "    <tr style=\"text-align: right;\">\n",
       "      <th></th>\n",
       "      <th>ncol1</th>\n",
       "      <th>column2</th>\n",
       "    </tr>\n",
       "  </thead>\n",
       "  <tbody>\n",
       "    <tr>\n",
       "      <th>4</th>\n",
       "      <td>Tom</td>\n",
       "      <td>15</td>\n",
       "    </tr>\n",
       "    <tr>\n",
       "      <th>4</th>\n",
       "      <td>Nick</td>\n",
       "      <td>26</td>\n",
       "    </tr>\n",
       "    <tr>\n",
       "      <th>8</th>\n",
       "      <td>John</td>\n",
       "      <td>17</td>\n",
       "    </tr>\n",
       "    <tr>\n",
       "      <th>8</th>\n",
       "      <td>Peter</td>\n",
       "      <td>28</td>\n",
       "    </tr>\n",
       "  </tbody>\n",
       "</table>\n",
       "</div>"
      ],
      "text/plain": [
       "   ncol1  column2\n",
       "4    Tom       15\n",
       "4   Nick       26\n",
       "8   John       17\n",
       "8  Peter       28"
      ]
     },
     "execution_count": 49,
     "metadata": {},
     "output_type": "execute_result"
    }
   ],
   "source": [
    "# method - 2\n",
    "df.rename(columns={\"column1\": \"ncol1\"}, index={7: 8}, inplace=True)\n",
    "df"
   ]
  },
  {
   "cell_type": "code",
   "execution_count": null,
   "id": "af2a3e1f",
   "metadata": {},
   "outputs": [],
   "source": []
  }
 ],
 "metadata": {
  "kernelspec": {
   "display_name": "venv",
   "language": "python",
   "name": "python3"
  },
  "language_info": {
   "codemirror_mode": {
    "name": "ipython",
    "version": 3
   },
   "file_extension": ".py",
   "mimetype": "text/x-python",
   "name": "python",
   "nbconvert_exporter": "python",
   "pygments_lexer": "ipython3",
   "version": "3.13.4"
  }
 },
 "nbformat": 4,
 "nbformat_minor": 5
}
