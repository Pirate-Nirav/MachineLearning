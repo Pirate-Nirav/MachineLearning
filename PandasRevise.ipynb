{
 "cells": [
  {
   "cell_type": "code",
   "execution_count": 22,
   "id": "4f5baf85",
   "metadata": {},
   "outputs": [],
   "source": [
    "# This file is created to practise of pandas famework "
   ]
  },
  {
   "cell_type": "code",
   "execution_count": 23,
   "id": "fc6e9b27",
   "metadata": {},
   "outputs": [],
   "source": [
    "import pandas as pd \n",
    "import numpy as np"
   ]
  },
  {
   "cell_type": "code",
   "execution_count": 24,
   "id": "1876a022",
   "metadata": {},
   "outputs": [
    {
     "data": {
      "application/vnd.microsoft.datawrangler.viewer.v0+json": {
       "columns": [
        {
         "name": "index",
         "rawType": "int64",
         "type": "integer"
        },
        {
         "name": "0",
         "rawType": "object",
         "type": "string"
        },
        {
         "name": "1",
         "rawType": "int64",
         "type": "integer"
        }
       ],
       "ref": "f1fcd65f-08aa-4d31-b588-25086f60a651",
       "rows": [
        [
         "0",
         "abc",
         "1"
        ],
        [
         "1",
         "def",
         "2"
        ],
        [
         "2",
         "ghi",
         "3"
        ]
       ],
       "shape": {
        "columns": 2,
        "rows": 3
       }
      },
      "text/html": [
       "<div>\n",
       "<style scoped>\n",
       "    .dataframe tbody tr th:only-of-type {\n",
       "        vertical-align: middle;\n",
       "    }\n",
       "\n",
       "    .dataframe tbody tr th {\n",
       "        vertical-align: top;\n",
       "    }\n",
       "\n",
       "    .dataframe thead th {\n",
       "        text-align: right;\n",
       "    }\n",
       "</style>\n",
       "<table border=\"1\" class=\"dataframe\">\n",
       "  <thead>\n",
       "    <tr style=\"text-align: right;\">\n",
       "      <th></th>\n",
       "      <th>0</th>\n",
       "      <th>1</th>\n",
       "    </tr>\n",
       "  </thead>\n",
       "  <tbody>\n",
       "    <tr>\n",
       "      <th>0</th>\n",
       "      <td>abc</td>\n",
       "      <td>1</td>\n",
       "    </tr>\n",
       "    <tr>\n",
       "      <th>1</th>\n",
       "      <td>def</td>\n",
       "      <td>2</td>\n",
       "    </tr>\n",
       "    <tr>\n",
       "      <th>2</th>\n",
       "      <td>ghi</td>\n",
       "      <td>3</td>\n",
       "    </tr>\n",
       "  </tbody>\n",
       "</table>\n",
       "</div>"
      ],
      "text/plain": [
       "     0  1\n",
       "0  abc  1\n",
       "1  def  2\n",
       "2  ghi  3"
      ]
     },
     "metadata": {},
     "output_type": "display_data"
    }
   ],
   "source": [
    "# Makinf a dataframe of 2d with list \n",
    "list1 = [['abc',1],['def',2],['ghi',3]]\n",
    "df = pd.DataFrame(list1)\n",
    "display(df)"
   ]
  },
  {
   "cell_type": "code",
   "execution_count": 25,
   "id": "c9aa04fd",
   "metadata": {},
   "outputs": [
    {
     "data": {
      "application/vnd.microsoft.datawrangler.viewer.v0+json": {
       "columns": [
        {
         "name": "index",
         "rawType": "int64",
         "type": "integer"
        },
        {
         "name": "Alphabet",
         "rawType": "object",
         "type": "string"
        },
        {
         "name": "Number",
         "rawType": "int64",
         "type": "integer"
        }
       ],
       "ref": "faeb5ba3-b3fb-4e4b-a992-8bc8cac4f63c",
       "rows": [
        [
         "0",
         "abc",
         "1"
        ],
        [
         "1",
         "def",
         "2"
        ],
        [
         "2",
         "ghi",
         "3"
        ]
       ],
       "shape": {
        "columns": 2,
        "rows": 3
       }
      },
      "text/html": [
       "<div>\n",
       "<style scoped>\n",
       "    .dataframe tbody tr th:only-of-type {\n",
       "        vertical-align: middle;\n",
       "    }\n",
       "\n",
       "    .dataframe tbody tr th {\n",
       "        vertical-align: top;\n",
       "    }\n",
       "\n",
       "    .dataframe thead th {\n",
       "        text-align: right;\n",
       "    }\n",
       "</style>\n",
       "<table border=\"1\" class=\"dataframe\">\n",
       "  <thead>\n",
       "    <tr style=\"text-align: right;\">\n",
       "      <th></th>\n",
       "      <th>Alphabet</th>\n",
       "      <th>Number</th>\n",
       "    </tr>\n",
       "  </thead>\n",
       "  <tbody>\n",
       "    <tr>\n",
       "      <th>0</th>\n",
       "      <td>abc</td>\n",
       "      <td>1</td>\n",
       "    </tr>\n",
       "    <tr>\n",
       "      <th>1</th>\n",
       "      <td>def</td>\n",
       "      <td>2</td>\n",
       "    </tr>\n",
       "    <tr>\n",
       "      <th>2</th>\n",
       "      <td>ghi</td>\n",
       "      <td>3</td>\n",
       "    </tr>\n",
       "  </tbody>\n",
       "</table>\n",
       "</div>"
      ],
      "text/plain": [
       "  Alphabet  Number\n",
       "0      abc       1\n",
       "1      def       2\n",
       "2      ghi       3"
      ]
     },
     "metadata": {},
     "output_type": "display_data"
    }
   ],
   "source": [
    "# adding column name\n",
    "column = ['Alphabet', 'Number']\n",
    "df = pd.DataFrame(list1, columns=column)\n",
    "display(df)"
   ]
  },
  {
   "cell_type": "code",
   "execution_count": 26,
   "id": "e0881502",
   "metadata": {},
   "outputs": [
    {
     "data": {
      "application/vnd.microsoft.datawrangler.viewer.v0+json": {
       "columns": [
        {
         "name": "index",
         "rawType": "int64",
         "type": "integer"
        },
        {
         "name": "Name",
         "rawType": "object",
         "type": "string"
        },
        {
         "name": "Age",
         "rawType": "int64",
         "type": "integer"
        }
       ],
       "ref": "795c7e29-5cc2-4490-8e84-3c96f9b940c2",
       "rows": [
        [
         "0",
         "John",
         "19"
        ],
        [
         "1",
         "Joe",
         "21"
        ]
       ],
       "shape": {
        "columns": 2,
        "rows": 2
       }
      },
      "text/html": [
       "<div>\n",
       "<style scoped>\n",
       "    .dataframe tbody tr th:only-of-type {\n",
       "        vertical-align: middle;\n",
       "    }\n",
       "\n",
       "    .dataframe tbody tr th {\n",
       "        vertical-align: top;\n",
       "    }\n",
       "\n",
       "    .dataframe thead th {\n",
       "        text-align: right;\n",
       "    }\n",
       "</style>\n",
       "<table border=\"1\" class=\"dataframe\">\n",
       "  <thead>\n",
       "    <tr style=\"text-align: right;\">\n",
       "      <th></th>\n",
       "      <th>Name</th>\n",
       "      <th>Age</th>\n",
       "    </tr>\n",
       "  </thead>\n",
       "  <tbody>\n",
       "    <tr>\n",
       "      <th>0</th>\n",
       "      <td>John</td>\n",
       "      <td>19</td>\n",
       "    </tr>\n",
       "    <tr>\n",
       "      <th>1</th>\n",
       "      <td>Joe</td>\n",
       "      <td>21</td>\n",
       "    </tr>\n",
       "  </tbody>\n",
       "</table>\n",
       "</div>"
      ],
      "text/plain": [
       "   Name  Age\n",
       "0  John   19\n",
       "1   Joe   21"
      ]
     },
     "metadata": {},
     "output_type": "display_data"
    }
   ],
   "source": [
    "# Using pd.Dataframe.from_records()\n",
    "# This method is ideal for working with the sequence of records like list, tuples, dict or objects \n",
    "# It treats each item like a row of data\n",
    "# When to use ?? Use when your data is sstructed like records\n",
    "# Often from  JSON , CSV or database fetches \n",
    "\n",
    "records = [('John', 19), ('Joe', 21)]\n",
    "df =  pd.DataFrame.from_records(records, columns=['Name', 'Age'])\n",
    "display(df)"
   ]
  },
  {
   "cell_type": "code",
   "execution_count": 27,
   "id": "41223682",
   "metadata": {},
   "outputs": [
    {
     "data": {
      "application/vnd.microsoft.datawrangler.viewer.v0+json": {
       "columns": [
        {
         "name": "index",
         "rawType": "object",
         "type": "string"
        },
        {
         "name": "0",
         "rawType": "object",
         "type": "unknown"
        },
        {
         "name": "1",
         "rawType": "object",
         "type": "unknown"
        },
        {
         "name": "2",
         "rawType": "object",
         "type": "unknown"
        }
       ],
       "ref": "ff2d8995-8e46-4f02-a35b-9adb2e3fa881",
       "rows": [
        [
         "name",
         "a",
         "b",
         "c"
        ],
        [
         "age",
         "18",
         "19",
         "20"
        ],
        [
         "div",
         "x",
         "y",
         "z"
        ]
       ],
       "shape": {
        "columns": 3,
        "rows": 3
       }
      },
      "text/html": [
       "<div>\n",
       "<style scoped>\n",
       "    .dataframe tbody tr th:only-of-type {\n",
       "        vertical-align: middle;\n",
       "    }\n",
       "\n",
       "    .dataframe tbody tr th {\n",
       "        vertical-align: top;\n",
       "    }\n",
       "\n",
       "    .dataframe thead th {\n",
       "        text-align: right;\n",
       "    }\n",
       "</style>\n",
       "<table border=\"1\" class=\"dataframe\">\n",
       "  <thead>\n",
       "    <tr style=\"text-align: right;\">\n",
       "      <th></th>\n",
       "      <th>0</th>\n",
       "      <th>1</th>\n",
       "      <th>2</th>\n",
       "    </tr>\n",
       "  </thead>\n",
       "  <tbody>\n",
       "    <tr>\n",
       "      <th>name</th>\n",
       "      <td>a</td>\n",
       "      <td>b</td>\n",
       "      <td>c</td>\n",
       "    </tr>\n",
       "    <tr>\n",
       "      <th>age</th>\n",
       "      <td>18</td>\n",
       "      <td>19</td>\n",
       "      <td>20</td>\n",
       "    </tr>\n",
       "    <tr>\n",
       "      <th>div</th>\n",
       "      <td>x</td>\n",
       "      <td>y</td>\n",
       "      <td>z</td>\n",
       "    </tr>\n",
       "  </tbody>\n",
       "</table>\n",
       "</div>"
      ],
      "text/plain": [
       "       0   1   2\n",
       "name   a   b   c\n",
       "age   18  19  20\n",
       "div    x   y   z"
      ]
     },
     "metadata": {},
     "output_type": "display_data"
    },
    {
     "data": {
      "application/vnd.microsoft.datawrangler.viewer.v0+json": {
       "columns": [
        {
         "name": "index",
         "rawType": "int64",
         "type": "integer"
        },
        {
         "name": "name",
         "rawType": "object",
         "type": "string"
        },
        {
         "name": "age",
         "rawType": "int64",
         "type": "integer"
        },
        {
         "name": "div",
         "rawType": "object",
         "type": "string"
        }
       ],
       "ref": "1ee389be-5606-447d-a729-c34f810a5f46",
       "rows": [
        [
         "0",
         "a",
         "18",
         "x"
        ],
        [
         "1",
         "b",
         "19",
         "y"
        ],
        [
         "2",
         "c",
         "20",
         "z"
        ]
       ],
       "shape": {
        "columns": 3,
        "rows": 3
       }
      },
      "text/html": [
       "<div>\n",
       "<style scoped>\n",
       "    .dataframe tbody tr th:only-of-type {\n",
       "        vertical-align: middle;\n",
       "    }\n",
       "\n",
       "    .dataframe tbody tr th {\n",
       "        vertical-align: top;\n",
       "    }\n",
       "\n",
       "    .dataframe thead th {\n",
       "        text-align: right;\n",
       "    }\n",
       "</style>\n",
       "<table border=\"1\" class=\"dataframe\">\n",
       "  <thead>\n",
       "    <tr style=\"text-align: right;\">\n",
       "      <th></th>\n",
       "      <th>name</th>\n",
       "      <th>age</th>\n",
       "      <th>div</th>\n",
       "    </tr>\n",
       "  </thead>\n",
       "  <tbody>\n",
       "    <tr>\n",
       "      <th>0</th>\n",
       "      <td>a</td>\n",
       "      <td>18</td>\n",
       "      <td>x</td>\n",
       "    </tr>\n",
       "    <tr>\n",
       "      <th>1</th>\n",
       "      <td>b</td>\n",
       "      <td>19</td>\n",
       "      <td>y</td>\n",
       "    </tr>\n",
       "    <tr>\n",
       "      <th>2</th>\n",
       "      <td>c</td>\n",
       "      <td>20</td>\n",
       "      <td>z</td>\n",
       "    </tr>\n",
       "  </tbody>\n",
       "</table>\n",
       "</div>"
      ],
      "text/plain": [
       "  name  age div\n",
       "0    a   18   x\n",
       "1    b   19   y\n",
       "2    c   20   z"
      ]
     },
     "execution_count": 27,
     "metadata": {},
     "output_type": "execute_result"
    }
   ],
   "source": [
    "# pd.DataFrame.from_dict()\n",
    "# When to use ?? Use it when you have dictionary based data \n",
    "# If orient = 'index' the keys are treated as row indices\n",
    "\n",
    "data = {\n",
    "    'name': ['a','b','c'],\n",
    "    'age': [18,19,20],\n",
    "    'div':['x','y','z']\n",
    "}\n",
    "\n",
    "df =  pd.DataFrame.from_dict(data, orient='index')\n",
    "display(df)\n",
    "df =  pd.DataFrame.from_dict(data)\n",
    "df"
   ]
  },
  {
   "cell_type": "markdown",
   "id": "dc2f9ac1",
   "metadata": {},
   "source": [
    "No matter how we are creating the datatypes we can specify them using dtype arguement or by assiging the types after creation"
   ]
  },
  {
   "cell_type": "code",
   "execution_count": 28,
   "id": "a0003c2e",
   "metadata": {},
   "outputs": [
    {
     "name": "stdout",
     "output_type": "stream",
     "text": [
      "The error is : could not convert string to float: 'a'\n"
     ]
    },
    {
     "data": {
      "application/vnd.microsoft.datawrangler.viewer.v0+json": {
       "columns": [
        {
         "name": "index",
         "rawType": "int64",
         "type": "integer"
        },
        {
         "name": "name",
         "rawType": "object",
         "type": "string"
        },
        {
         "name": "age",
         "rawType": "float64",
         "type": "float"
        },
        {
         "name": "div",
         "rawType": "object",
         "type": "string"
        }
       ],
       "ref": "121a56e8-53f7-4f44-8892-9c7d329bfd56",
       "rows": [
        [
         "0",
         "a",
         "18.0",
         "x"
        ],
        [
         "1",
         "b",
         "19.0",
         "y"
        ],
        [
         "2",
         "c",
         "20.0",
         "z"
        ]
       ],
       "shape": {
        "columns": 3,
        "rows": 3
       }
      },
      "text/html": [
       "<div>\n",
       "<style scoped>\n",
       "    .dataframe tbody tr th:only-of-type {\n",
       "        vertical-align: middle;\n",
       "    }\n",
       "\n",
       "    .dataframe tbody tr th {\n",
       "        vertical-align: top;\n",
       "    }\n",
       "\n",
       "    .dataframe thead th {\n",
       "        text-align: right;\n",
       "    }\n",
       "</style>\n",
       "<table border=\"1\" class=\"dataframe\">\n",
       "  <thead>\n",
       "    <tr style=\"text-align: right;\">\n",
       "      <th></th>\n",
       "      <th>name</th>\n",
       "      <th>age</th>\n",
       "      <th>div</th>\n",
       "    </tr>\n",
       "  </thead>\n",
       "  <tbody>\n",
       "    <tr>\n",
       "      <th>0</th>\n",
       "      <td>a</td>\n",
       "      <td>18.0</td>\n",
       "      <td>x</td>\n",
       "    </tr>\n",
       "    <tr>\n",
       "      <th>1</th>\n",
       "      <td>b</td>\n",
       "      <td>19.0</td>\n",
       "      <td>y</td>\n",
       "    </tr>\n",
       "    <tr>\n",
       "      <th>2</th>\n",
       "      <td>c</td>\n",
       "      <td>20.0</td>\n",
       "      <td>z</td>\n",
       "    </tr>\n",
       "  </tbody>\n",
       "</table>\n",
       "</div>"
      ],
      "text/plain": [
       "  name   age div\n",
       "0    a  18.0   x\n",
       "1    b  19.0   y\n",
       "2    c  20.0   z"
      ]
     },
     "metadata": {},
     "output_type": "display_data"
    }
   ],
   "source": [
    "try:\n",
    "    df = pd.DataFrame(data, dtype='float' )\n",
    "except Exception as e :\n",
    "    print(\"The error is :\",e)\n",
    "else:\n",
    "    display(df)\n",
    "# In this dataframe the column include the str so it will generate the error \n",
    "# instead of this we can use \n",
    "ddf = pd.DataFrame(data)\n",
    "ddf = ddf.astype({'age':'float'})\n",
    "display(ddf)"
   ]
  },
  {
   "cell_type": "code",
   "execution_count": 29,
   "id": "9f2486ff",
   "metadata": {},
   "outputs": [
    {
     "data": {
      "application/vnd.microsoft.datawrangler.viewer.v0+json": {
       "columns": [
        {
         "name": "index",
         "rawType": "int64",
         "type": "integer"
        },
        {
         "name": "name",
         "rawType": "object",
         "type": "string"
        },
        {
         "name": "age",
         "rawType": "float64",
         "type": "float"
        },
        {
         "name": "div",
         "rawType": "object",
         "type": "string"
        },
        {
         "name": "N_col",
         "rawType": "object",
         "type": "string"
        },
        {
         "name": "N_Int",
         "rawType": "int64",
         "type": "integer"
        }
       ],
       "ref": "aa68971c-ec05-46f4-9ecd-2f6a58944961",
       "rows": [
        [
         "0",
         "a",
         "18.0",
         "x",
         "Tiger",
         "11"
        ],
        [
         "1",
         "b",
         "19.0",
         "y",
         "Lion",
         "12"
        ],
        [
         "2",
         "c",
         "20.0",
         "z",
         "Elephant",
         "122"
        ]
       ],
       "shape": {
        "columns": 5,
        "rows": 3
       }
      },
      "text/html": [
       "<div>\n",
       "<style scoped>\n",
       "    .dataframe tbody tr th:only-of-type {\n",
       "        vertical-align: middle;\n",
       "    }\n",
       "\n",
       "    .dataframe tbody tr th {\n",
       "        vertical-align: top;\n",
       "    }\n",
       "\n",
       "    .dataframe thead th {\n",
       "        text-align: right;\n",
       "    }\n",
       "</style>\n",
       "<table border=\"1\" class=\"dataframe\">\n",
       "  <thead>\n",
       "    <tr style=\"text-align: right;\">\n",
       "      <th></th>\n",
       "      <th>name</th>\n",
       "      <th>age</th>\n",
       "      <th>div</th>\n",
       "      <th>N_col</th>\n",
       "      <th>N_Int</th>\n",
       "    </tr>\n",
       "  </thead>\n",
       "  <tbody>\n",
       "    <tr>\n",
       "      <th>0</th>\n",
       "      <td>a</td>\n",
       "      <td>18.0</td>\n",
       "      <td>x</td>\n",
       "      <td>Tiger</td>\n",
       "      <td>11</td>\n",
       "    </tr>\n",
       "    <tr>\n",
       "      <th>1</th>\n",
       "      <td>b</td>\n",
       "      <td>19.0</td>\n",
       "      <td>y</td>\n",
       "      <td>Lion</td>\n",
       "      <td>12</td>\n",
       "    </tr>\n",
       "    <tr>\n",
       "      <th>2</th>\n",
       "      <td>c</td>\n",
       "      <td>20.0</td>\n",
       "      <td>z</td>\n",
       "      <td>Elephant</td>\n",
       "      <td>122</td>\n",
       "    </tr>\n",
       "  </tbody>\n",
       "</table>\n",
       "</div>"
      ],
      "text/plain": [
       "  name   age div     N_col  N_Int\n",
       "0    a  18.0   x     Tiger     11\n",
       "1    b  19.0   y      Lion     12\n",
       "2    c  20.0   z  Elephant    122"
      ]
     },
     "execution_count": 29,
     "metadata": {},
     "output_type": "execute_result"
    }
   ],
   "source": [
    "# adding new column in the data Frame \n",
    "ddf['N_col'] = ['Tiger','Lion','Elephant']\n",
    "ddf['N_Int'] = [11,12,122]\n",
    "ddf"
   ]
  },
  {
   "cell_type": "code",
   "execution_count": 30,
   "id": "fda34eee",
   "metadata": {},
   "outputs": [
    {
     "data": {
      "application/vnd.microsoft.datawrangler.viewer.v0+json": {
       "columns": [
        {
         "name": "index",
         "rawType": "int64",
         "type": "integer"
        },
        {
         "name": "name",
         "rawType": "object",
         "type": "string"
        },
        {
         "name": "age",
         "rawType": "float64",
         "type": "float"
        },
        {
         "name": "div",
         "rawType": "bool",
         "type": "boolean"
        },
        {
         "name": "N_col",
         "rawType": "object",
         "type": "string"
        },
        {
         "name": "N_Int",
         "rawType": "complex128",
         "type": "unknown"
        }
       ],
       "ref": "fad93908-9279-44d0-8a46-377834de1d0c",
       "rows": [
        [
         "0",
         "a",
         "18.0",
         "True",
         "Tiger",
         "(11+0j)"
        ],
        [
         "1",
         "b",
         "19.0",
         "True",
         "Lion",
         "(12+0j)"
        ],
        [
         "2",
         "c",
         "20.0",
         "True",
         "Elephant",
         "(122+0j)"
        ]
       ],
       "shape": {
        "columns": 5,
        "rows": 3
       }
      },
      "text/html": [
       "<div>\n",
       "<style scoped>\n",
       "    .dataframe tbody tr th:only-of-type {\n",
       "        vertical-align: middle;\n",
       "    }\n",
       "\n",
       "    .dataframe tbody tr th {\n",
       "        vertical-align: top;\n",
       "    }\n",
       "\n",
       "    .dataframe thead th {\n",
       "        text-align: right;\n",
       "    }\n",
       "</style>\n",
       "<table border=\"1\" class=\"dataframe\">\n",
       "  <thead>\n",
       "    <tr style=\"text-align: right;\">\n",
       "      <th></th>\n",
       "      <th>name</th>\n",
       "      <th>age</th>\n",
       "      <th>div</th>\n",
       "      <th>N_col</th>\n",
       "      <th>N_Int</th>\n",
       "    </tr>\n",
       "  </thead>\n",
       "  <tbody>\n",
       "    <tr>\n",
       "      <th>0</th>\n",
       "      <td>a</td>\n",
       "      <td>18.0</td>\n",
       "      <td>True</td>\n",
       "      <td>Tiger</td>\n",
       "      <td>11.0+  0.0j</td>\n",
       "    </tr>\n",
       "    <tr>\n",
       "      <th>1</th>\n",
       "      <td>b</td>\n",
       "      <td>19.0</td>\n",
       "      <td>True</td>\n",
       "      <td>Lion</td>\n",
       "      <td>12.0+  0.0j</td>\n",
       "    </tr>\n",
       "    <tr>\n",
       "      <th>2</th>\n",
       "      <td>c</td>\n",
       "      <td>20.0</td>\n",
       "      <td>True</td>\n",
       "      <td>Elephant</td>\n",
       "      <td>122.0+  0.0j</td>\n",
       "    </tr>\n",
       "  </tbody>\n",
       "</table>\n",
       "</div>"
      ],
      "text/plain": [
       "  name   age   div     N_col         N_Int\n",
       "0    a  18.0  True     Tiger   11.0+  0.0j\n",
       "1    b  19.0  True      Lion   12.0+  0.0j\n",
       "2    c  20.0  True  Elephant  122.0+  0.0j"
      ]
     },
     "metadata": {},
     "output_type": "display_data"
    }
   ],
   "source": [
    "ddf = ddf.astype({\n",
    "    'age' :'float',\n",
    "    'N_Int':'complex',\n",
    "    'div':'bool'\n",
    "})\n",
    "display(ddf)"
   ]
  },
  {
   "cell_type": "code",
   "execution_count": 31,
   "id": "c8df133b",
   "metadata": {},
   "outputs": [
    {
     "data": {
      "application/vnd.microsoft.datawrangler.viewer.v0+json": {
       "columns": [
        {
         "name": "index",
         "rawType": "object",
         "type": "string"
        },
        {
         "name": "0",
         "rawType": "object",
         "type": "unknown"
        },
        {
         "name": "1",
         "rawType": "object",
         "type": "unknown"
        },
        {
         "name": "2",
         "rawType": "object",
         "type": "unknown"
        }
       ],
       "ref": "bb1d02a5-56ce-4351-b055-722f3a5a23c4",
       "rows": [
        [
         "name",
         "a",
         "b",
         "c"
        ],
        [
         "age",
         "18.0",
         "19.0",
         "20.0"
        ],
        [
         "div",
         "True",
         "True",
         "True"
        ],
        [
         "N_col",
         "Tiger",
         "Lion",
         "Elephant"
        ],
        [
         "N_Int",
         "(11+0j)",
         "(12+0j)",
         "(122+0j)"
        ]
       ],
       "shape": {
        "columns": 3,
        "rows": 5
       }
      },
      "text/html": [
       "<div>\n",
       "<style scoped>\n",
       "    .dataframe tbody tr th:only-of-type {\n",
       "        vertical-align: middle;\n",
       "    }\n",
       "\n",
       "    .dataframe tbody tr th {\n",
       "        vertical-align: top;\n",
       "    }\n",
       "\n",
       "    .dataframe thead th {\n",
       "        text-align: right;\n",
       "    }\n",
       "</style>\n",
       "<table border=\"1\" class=\"dataframe\">\n",
       "  <thead>\n",
       "    <tr style=\"text-align: right;\">\n",
       "      <th></th>\n",
       "      <th>0</th>\n",
       "      <th>1</th>\n",
       "      <th>2</th>\n",
       "    </tr>\n",
       "  </thead>\n",
       "  <tbody>\n",
       "    <tr>\n",
       "      <th>name</th>\n",
       "      <td>a</td>\n",
       "      <td>b</td>\n",
       "      <td>c</td>\n",
       "    </tr>\n",
       "    <tr>\n",
       "      <th>age</th>\n",
       "      <td>18.0</td>\n",
       "      <td>19.0</td>\n",
       "      <td>20.0</td>\n",
       "    </tr>\n",
       "    <tr>\n",
       "      <th>div</th>\n",
       "      <td>True</td>\n",
       "      <td>True</td>\n",
       "      <td>True</td>\n",
       "    </tr>\n",
       "    <tr>\n",
       "      <th>N_col</th>\n",
       "      <td>Tiger</td>\n",
       "      <td>Lion</td>\n",
       "      <td>Elephant</td>\n",
       "    </tr>\n",
       "    <tr>\n",
       "      <th>N_Int</th>\n",
       "      <td>(11+0j)</td>\n",
       "      <td>(12+0j)</td>\n",
       "      <td>(122+0j)</td>\n",
       "    </tr>\n",
       "  </tbody>\n",
       "</table>\n",
       "</div>"
      ],
      "text/plain": [
       "             0        1         2\n",
       "name         a        b         c\n",
       "age       18.0     19.0      20.0\n",
       "div       True     True      True\n",
       "N_col    Tiger     Lion  Elephant\n",
       "N_Int  (11+0j)  (12+0j)  (122+0j)"
      ]
     },
     "execution_count": 31,
     "metadata": {},
     "output_type": "execute_result"
    }
   ],
   "source": [
    "ddf = ddf.transpose()\n",
    "ddf"
   ]
  },
  {
   "cell_type": "code",
   "execution_count": 32,
   "id": "2e5a8e8b",
   "metadata": {},
   "outputs": [
    {
     "name": "stdout",
     "output_type": "stream",
     "text": [
      "    Name   Age     Designation\n",
      "0  Geek1  28.0        Engineer\n",
      "1  Geek2   NaN  Data Scientist\n",
      "2  Geek3  32.0            None\n"
     ]
    }
   ],
   "source": [
    "data = [['Geek1', 28, 'Engineer'],\n",
    "        ['Geek2', None, 'Data Scientist'],\n",
    "        ['Geek3', 32, None]]\n",
    "\n",
    "columns =  ['Name', 'Age','Designation']\n",
    "\n",
    "df = pd.DataFrame(data , columns=columns)\n",
    "print(df)"
   ]
  },
  {
   "cell_type": "code",
   "execution_count": 33,
   "id": "312d537d",
   "metadata": {},
   "outputs": [
    {
     "data": {
      "application/vnd.microsoft.datawrangler.viewer.v0+json": {
       "columns": [
        {
         "name": "index",
         "rawType": "int64",
         "type": "integer"
        },
        {
         "name": "Name",
         "rawType": "object",
         "type": "string"
        },
        {
         "name": "Age",
         "rawType": "float64",
         "type": "float"
        },
        {
         "name": "Designation",
         "rawType": "object",
         "type": "unknown"
        }
       ],
       "ref": "7f208a0e-9001-4d52-94fc-54bb85d8375d",
       "rows": [
        [
         "0",
         "Geek1",
         "28.0",
         "Engineer"
        ],
        [
         "1",
         "Geek2",
         null,
         "Data Scientist"
        ],
        [
         "2",
         "Geek3",
         "32.0",
         null
        ]
       ],
       "shape": {
        "columns": 3,
        "rows": 3
       }
      },
      "text/html": [
       "<div>\n",
       "<style scoped>\n",
       "    .dataframe tbody tr th:only-of-type {\n",
       "        vertical-align: middle;\n",
       "    }\n",
       "\n",
       "    .dataframe tbody tr th {\n",
       "        vertical-align: top;\n",
       "    }\n",
       "\n",
       "    .dataframe thead th {\n",
       "        text-align: right;\n",
       "    }\n",
       "</style>\n",
       "<table border=\"1\" class=\"dataframe\">\n",
       "  <thead>\n",
       "    <tr style=\"text-align: right;\">\n",
       "      <th></th>\n",
       "      <th>Name</th>\n",
       "      <th>Age</th>\n",
       "      <th>Designation</th>\n",
       "    </tr>\n",
       "  </thead>\n",
       "  <tbody>\n",
       "    <tr>\n",
       "      <th>0</th>\n",
       "      <td>Geek1</td>\n",
       "      <td>28.0</td>\n",
       "      <td>Engineer</td>\n",
       "    </tr>\n",
       "    <tr>\n",
       "      <th>1</th>\n",
       "      <td>Geek2</td>\n",
       "      <td>NaN</td>\n",
       "      <td>Data Scientist</td>\n",
       "    </tr>\n",
       "    <tr>\n",
       "      <th>2</th>\n",
       "      <td>Geek3</td>\n",
       "      <td>32.0</td>\n",
       "      <td>None</td>\n",
       "    </tr>\n",
       "  </tbody>\n",
       "</table>\n",
       "</div>"
      ],
      "text/plain": [
       "    Name   Age     Designation\n",
       "0  Geek1  28.0        Engineer\n",
       "1  Geek2   NaN  Data Scientist\n",
       "2  Geek3  32.0            None"
      ]
     },
     "execution_count": 33,
     "metadata": {},
     "output_type": "execute_result"
    }
   ],
   "source": [
    "df = df.replace({'None':np.nan})\n",
    "df"
   ]
  },
  {
   "cell_type": "code",
   "execution_count": 34,
   "id": "7fd0bda1",
   "metadata": {},
   "outputs": [
    {
     "data": {
      "application/vnd.microsoft.datawrangler.viewer.v0+json": {
       "columns": [
        {
         "name": "index",
         "rawType": "int64",
         "type": "integer"
        },
        {
         "name": "Name",
         "rawType": "object",
         "type": "string"
        },
        {
         "name": "Age",
         "rawType": "object",
         "type": "unknown"
        },
        {
         "name": "Designation",
         "rawType": "object",
         "type": "string"
        }
       ],
       "ref": "58fbbca4-a578-4a8c-8813-748a6ed72d57",
       "rows": [
        [
         "0",
         "Geek1",
         "28",
         "Engineer"
        ],
        [
         "1",
         "Geek2",
         "25",
         "Data Scientist"
        ],
        [
         "2",
         "Geek3",
         "32",
         "Manager"
        ]
       ],
       "shape": {
        "columns": 3,
        "rows": 3
       }
      },
      "text/html": [
       "<div>\n",
       "<style scoped>\n",
       "    .dataframe tbody tr th:only-of-type {\n",
       "        vertical-align: middle;\n",
       "    }\n",
       "\n",
       "    .dataframe tbody tr th {\n",
       "        vertical-align: top;\n",
       "    }\n",
       "\n",
       "    .dataframe thead th {\n",
       "        text-align: right;\n",
       "    }\n",
       "</style>\n",
       "<table border=\"1\" class=\"dataframe\">\n",
       "  <thead>\n",
       "    <tr style=\"text-align: right;\">\n",
       "      <th></th>\n",
       "      <th>Name</th>\n",
       "      <th>Age</th>\n",
       "      <th>Designation</th>\n",
       "    </tr>\n",
       "  </thead>\n",
       "  <tbody>\n",
       "    <tr>\n",
       "      <th>0</th>\n",
       "      <td>Geek1</td>\n",
       "      <td>28</td>\n",
       "      <td>Engineer</td>\n",
       "    </tr>\n",
       "    <tr>\n",
       "      <th>1</th>\n",
       "      <td>Geek2</td>\n",
       "      <td>25</td>\n",
       "      <td>Data Scientist</td>\n",
       "    </tr>\n",
       "    <tr>\n",
       "      <th>2</th>\n",
       "      <td>Geek3</td>\n",
       "      <td>32</td>\n",
       "      <td>Manager</td>\n",
       "    </tr>\n",
       "  </tbody>\n",
       "</table>\n",
       "</div>"
      ],
      "text/plain": [
       "    Name Age     Designation\n",
       "0  Geek1  28        Engineer\n",
       "1  Geek2  25  Data Scientist\n",
       "2  Geek3  32         Manager"
      ]
     },
     "metadata": {},
     "output_type": "display_data"
    },
    {
     "name": "stdout",
     "output_type": "stream",
     "text": [
      "    Name  Age     Designation\n",
      "0  Geek1   28        Engineer\n",
      "1  Geek2   25  Data Scientist\n",
      "2  Geek3   32         Manager\n"
     ]
    }
   ],
   "source": [
    "data = [['Geek1', 28, 'Engineer'],\n",
    "        ['Geek2', 25, 'Data Scientist'],\n",
    "        ['Geek3', '32', 'Manager']]\n",
    "# here the age is declared as string \n",
    "# to_string only can be done when there is only digit in the str \n",
    "\n",
    "df = pd.DataFrame(data, columns=columns)\n",
    "\n",
    "\n",
    "display(df)\n",
    "# print(df['Age'].dtype)\n",
    "df['Age'] = pd.to_numeric(df.Age, errors='coerce', downcast='integer')\n",
    "print(df)"
   ]
  },
  {
   "cell_type": "code",
   "execution_count": 35,
   "id": "0e5c0af1",
   "metadata": {},
   "outputs": [
    {
     "data": {
      "application/vnd.microsoft.datawrangler.viewer.v0+json": {
       "columns": [
        {
         "name": "index",
         "rawType": "int64",
         "type": "integer"
        },
        {
         "name": "name",
         "rawType": "object",
         "type": "string"
        },
        {
         "name": "age",
         "rawType": "int64",
         "type": "integer"
        },
        {
         "name": "score",
         "rawType": "int64",
         "type": "integer"
        }
       ],
       "ref": "104064a5-bcdc-4557-9947-64c74e135fc7",
       "rows": [
        [
         "0",
         "ANSH",
         "22",
         "9"
        ],
        [
         "1",
         "SAHIL",
         "22",
         "6"
        ],
        [
         "2",
         "JAYAN",
         "23",
         "8"
        ],
        [
         "3",
         "AYUSHI",
         "21",
         "7"
        ],
        [
         "4",
         "SPARSH",
         "20",
         "8"
        ]
       ],
       "shape": {
        "columns": 3,
        "rows": 5
       }
      },
      "text/html": [
       "<div>\n",
       "<style scoped>\n",
       "    .dataframe tbody tr th:only-of-type {\n",
       "        vertical-align: middle;\n",
       "    }\n",
       "\n",
       "    .dataframe tbody tr th {\n",
       "        vertical-align: top;\n",
       "    }\n",
       "\n",
       "    .dataframe thead th {\n",
       "        text-align: right;\n",
       "    }\n",
       "</style>\n",
       "<table border=\"1\" class=\"dataframe\">\n",
       "  <thead>\n",
       "    <tr style=\"text-align: right;\">\n",
       "      <th></th>\n",
       "      <th>name</th>\n",
       "      <th>age</th>\n",
       "      <th>score</th>\n",
       "    </tr>\n",
       "  </thead>\n",
       "  <tbody>\n",
       "    <tr>\n",
       "      <th>0</th>\n",
       "      <td>ANSH</td>\n",
       "      <td>22</td>\n",
       "      <td>9</td>\n",
       "    </tr>\n",
       "    <tr>\n",
       "      <th>1</th>\n",
       "      <td>SAHIL</td>\n",
       "      <td>22</td>\n",
       "      <td>6</td>\n",
       "    </tr>\n",
       "    <tr>\n",
       "      <th>2</th>\n",
       "      <td>JAYAN</td>\n",
       "      <td>23</td>\n",
       "      <td>8</td>\n",
       "    </tr>\n",
       "    <tr>\n",
       "      <th>3</th>\n",
       "      <td>AYUSHI</td>\n",
       "      <td>21</td>\n",
       "      <td>7</td>\n",
       "    </tr>\n",
       "    <tr>\n",
       "      <th>4</th>\n",
       "      <td>SPARSH</td>\n",
       "      <td>20</td>\n",
       "      <td>8</td>\n",
       "    </tr>\n",
       "  </tbody>\n",
       "</table>\n",
       "</div>"
      ],
      "text/plain": [
       "     name  age  score\n",
       "0    ANSH   22      9\n",
       "1   SAHIL   22      6\n",
       "2   JAYAN   23      8\n",
       "3  AYUSHI   21      7\n",
       "4  SPARSH   20      8"
      ]
     },
     "execution_count": 35,
     "metadata": {},
     "output_type": "execute_result"
    }
   ],
   "source": [
    "data = [('ANSH', 22, 9),\n",
    "        ('SAHIL', 22, 6),\n",
    "        ('JAYAN', 23, 8),\n",
    "        ('AYUSHI', 21, 7),\n",
    "        ('SPARSH', 20, 8) ]\n",
    "df = pd.DataFrame.from_records(data, columns=['name', 'age', 'score'])\n",
    "df"
   ]
  },
  {
   "cell_type": "code",
   "execution_count": 36,
   "id": "71c11b9b",
   "metadata": {},
   "outputs": [
    {
     "data": {
      "application/vnd.microsoft.datawrangler.viewer.v0+json": {
       "columns": [
        {
         "name": "index",
         "rawType": "int64",
         "type": "integer"
        },
        {
         "name": "Name",
         "rawType": "object",
         "type": "string"
        },
        {
         "name": "Age",
         "rawType": "int64",
         "type": "integer"
        },
        {
         "name": "Score",
         "rawType": "int64",
         "type": "integer"
        }
       ],
       "ref": "6d207e2e-88b1-44a7-bec6-a765076f5929",
       "rows": [
        [
         "0",
         "ANSH",
         "22",
         "9"
        ],
        [
         "1",
         "SAHIL",
         "22",
         "6"
        ],
        [
         "2",
         "JAYAN",
         "23",
         "8"
        ],
        [
         "3",
         "AYUSHI",
         "21",
         "7"
        ],
        [
         "4",
         "SPARSH",
         "20",
         "8"
        ]
       ],
       "shape": {
        "columns": 3,
        "rows": 5
       }
      },
      "text/html": [
       "<div>\n",
       "<style scoped>\n",
       "    .dataframe tbody tr th:only-of-type {\n",
       "        vertical-align: middle;\n",
       "    }\n",
       "\n",
       "    .dataframe tbody tr th {\n",
       "        vertical-align: top;\n",
       "    }\n",
       "\n",
       "    .dataframe thead th {\n",
       "        text-align: right;\n",
       "    }\n",
       "</style>\n",
       "<table border=\"1\" class=\"dataframe\">\n",
       "  <thead>\n",
       "    <tr style=\"text-align: right;\">\n",
       "      <th></th>\n",
       "      <th>Name</th>\n",
       "      <th>Age</th>\n",
       "      <th>Score</th>\n",
       "    </tr>\n",
       "  </thead>\n",
       "  <tbody>\n",
       "    <tr>\n",
       "      <th>0</th>\n",
       "      <td>ANSH</td>\n",
       "      <td>22</td>\n",
       "      <td>9</td>\n",
       "    </tr>\n",
       "    <tr>\n",
       "      <th>1</th>\n",
       "      <td>SAHIL</td>\n",
       "      <td>22</td>\n",
       "      <td>6</td>\n",
       "    </tr>\n",
       "    <tr>\n",
       "      <th>2</th>\n",
       "      <td>JAYAN</td>\n",
       "      <td>23</td>\n",
       "      <td>8</td>\n",
       "    </tr>\n",
       "    <tr>\n",
       "      <th>3</th>\n",
       "      <td>AYUSHI</td>\n",
       "      <td>21</td>\n",
       "      <td>7</td>\n",
       "    </tr>\n",
       "    <tr>\n",
       "      <th>4</th>\n",
       "      <td>SPARSH</td>\n",
       "      <td>20</td>\n",
       "      <td>8</td>\n",
       "    </tr>\n",
       "  </tbody>\n",
       "</table>\n",
       "</div>"
      ],
      "text/plain": [
       "     Name  Age  Score\n",
       "0    ANSH   22      9\n",
       "1   SAHIL   22      6\n",
       "2   JAYAN   23      8\n",
       "3  AYUSHI   21      7\n",
       "4  SPARSH   20      8"
      ]
     },
     "execution_count": 36,
     "metadata": {},
     "output_type": "execute_result"
    }
   ],
   "source": [
    "df.columns =  df.columns.str.capitalize()\n",
    "df "
   ]
  },
  {
   "cell_type": "code",
   "execution_count": 37,
   "id": "5ef48292",
   "metadata": {},
   "outputs": [],
   "source": [
    "df = df.transpose()"
   ]
  },
  {
   "cell_type": "code",
   "execution_count": 38,
   "id": "50f4ae3c",
   "metadata": {},
   "outputs": [
    {
     "data": {
      "application/vnd.microsoft.datawrangler.viewer.v0+json": {
       "columns": [
        {
         "name": "index",
         "rawType": "object",
         "type": "string"
        },
        {
         "name": "0",
         "rawType": "object",
         "type": "unknown"
        },
        {
         "name": "1",
         "rawType": "object",
         "type": "unknown"
        },
        {
         "name": "2",
         "rawType": "object",
         "type": "unknown"
        },
        {
         "name": "3",
         "rawType": "object",
         "type": "unknown"
        },
        {
         "name": "4",
         "rawType": "object",
         "type": "unknown"
        }
       ],
       "ref": "7261a637-30c0-4ede-a563-cd4072ec58f2",
       "rows": [
        [
         "Name",
         "ANSH",
         "SAHIL",
         "JAYAN",
         "AYUSHI",
         "SPARSH"
        ],
        [
         "Age",
         "22",
         "22",
         "23",
         "21",
         "20"
        ],
        [
         "Score",
         "9",
         "6",
         "8",
         "7",
         "8"
        ]
       ],
       "shape": {
        "columns": 5,
        "rows": 3
       }
      },
      "text/html": [
       "<div>\n",
       "<style scoped>\n",
       "    .dataframe tbody tr th:only-of-type {\n",
       "        vertical-align: middle;\n",
       "    }\n",
       "\n",
       "    .dataframe tbody tr th {\n",
       "        vertical-align: top;\n",
       "    }\n",
       "\n",
       "    .dataframe thead th {\n",
       "        text-align: right;\n",
       "    }\n",
       "</style>\n",
       "<table border=\"1\" class=\"dataframe\">\n",
       "  <thead>\n",
       "    <tr style=\"text-align: right;\">\n",
       "      <th></th>\n",
       "      <th>0</th>\n",
       "      <th>1</th>\n",
       "      <th>2</th>\n",
       "      <th>3</th>\n",
       "      <th>4</th>\n",
       "    </tr>\n",
       "  </thead>\n",
       "  <tbody>\n",
       "    <tr>\n",
       "      <th>Name</th>\n",
       "      <td>ANSH</td>\n",
       "      <td>SAHIL</td>\n",
       "      <td>JAYAN</td>\n",
       "      <td>AYUSHI</td>\n",
       "      <td>SPARSH</td>\n",
       "    </tr>\n",
       "    <tr>\n",
       "      <th>Age</th>\n",
       "      <td>22</td>\n",
       "      <td>22</td>\n",
       "      <td>23</td>\n",
       "      <td>21</td>\n",
       "      <td>20</td>\n",
       "    </tr>\n",
       "    <tr>\n",
       "      <th>Score</th>\n",
       "      <td>9</td>\n",
       "      <td>6</td>\n",
       "      <td>8</td>\n",
       "      <td>7</td>\n",
       "      <td>8</td>\n",
       "    </tr>\n",
       "  </tbody>\n",
       "</table>\n",
       "</div>"
      ],
      "text/plain": [
       "          0      1      2       3       4\n",
       "Name   ANSH  SAHIL  JAYAN  AYUSHI  SPARSH\n",
       "Age      22     22     23      21      20\n",
       "Score     9      6      8       7       8"
      ]
     },
     "execution_count": 38,
     "metadata": {},
     "output_type": "execute_result"
    }
   ],
   "source": [
    "df"
   ]
  },
  {
   "cell_type": "code",
   "execution_count": 39,
   "id": "b511bc6a",
   "metadata": {},
   "outputs": [
    {
     "data": {
      "application/vnd.microsoft.datawrangler.viewer.v0+json": {
       "columns": [
        {
         "name": "index",
         "rawType": "object",
         "type": "string"
        },
        {
         "name": "Name",
         "rawType": "object",
         "type": "string"
        },
        {
         "name": "Age",
         "rawType": "object",
         "type": "unknown"
        },
        {
         "name": "Score",
         "rawType": "object",
         "type": "unknown"
        }
       ],
       "ref": "6a44679d-e98a-47e7-a683-1edbe8ecec63",
       "rows": [
        [
         "0",
         "ANSH",
         "22",
         "9"
        ],
        [
         "1",
         "SAHIL",
         "22",
         "6"
        ],
        [
         "2",
         "JAYAN",
         "23",
         "8"
        ],
        [
         "3",
         "AYUSHI",
         "21",
         "7"
        ],
        [
         "4",
         "SPARSH",
         "20",
         "8"
        ]
       ],
       "shape": {
        "columns": 3,
        "rows": 5
       }
      },
      "text/html": [
       "<div>\n",
       "<style scoped>\n",
       "    .dataframe tbody tr th:only-of-type {\n",
       "        vertical-align: middle;\n",
       "    }\n",
       "\n",
       "    .dataframe tbody tr th {\n",
       "        vertical-align: top;\n",
       "    }\n",
       "\n",
       "    .dataframe thead th {\n",
       "        text-align: right;\n",
       "    }\n",
       "</style>\n",
       "<table border=\"1\" class=\"dataframe\">\n",
       "  <thead>\n",
       "    <tr style=\"text-align: right;\">\n",
       "      <th></th>\n",
       "      <th>Name</th>\n",
       "      <th>Age</th>\n",
       "      <th>Score</th>\n",
       "    </tr>\n",
       "  </thead>\n",
       "  <tbody>\n",
       "    <tr>\n",
       "      <th>0</th>\n",
       "      <td>ANSH</td>\n",
       "      <td>22</td>\n",
       "      <td>9</td>\n",
       "    </tr>\n",
       "    <tr>\n",
       "      <th>1</th>\n",
       "      <td>SAHIL</td>\n",
       "      <td>22</td>\n",
       "      <td>6</td>\n",
       "    </tr>\n",
       "    <tr>\n",
       "      <th>2</th>\n",
       "      <td>JAYAN</td>\n",
       "      <td>23</td>\n",
       "      <td>8</td>\n",
       "    </tr>\n",
       "    <tr>\n",
       "      <th>3</th>\n",
       "      <td>AYUSHI</td>\n",
       "      <td>21</td>\n",
       "      <td>7</td>\n",
       "    </tr>\n",
       "    <tr>\n",
       "      <th>4</th>\n",
       "      <td>SPARSH</td>\n",
       "      <td>20</td>\n",
       "      <td>8</td>\n",
       "    </tr>\n",
       "  </tbody>\n",
       "</table>\n",
       "</div>"
      ],
      "text/plain": [
       "     Name Age Score\n",
       "0    ANSH  22     9\n",
       "1   SAHIL  22     6\n",
       "2   JAYAN  23     8\n",
       "3  AYUSHI  21     7\n",
       "4  SPARSH  20     8"
      ]
     },
     "execution_count": 39,
     "metadata": {},
     "output_type": "execute_result"
    }
   ],
   "source": [
    "df = df.transpose()\n",
    "df.index = df.index.astype(str).str.upper()\n",
    "df"
   ]
  },
  {
   "cell_type": "code",
   "execution_count": 40,
   "id": "b2911501",
   "metadata": {},
   "outputs": [
    {
     "data": {
      "application/vnd.microsoft.datawrangler.viewer.v0+json": {
       "columns": [
        {
         "name": "index",
         "rawType": "object",
         "type": "string"
        },
        {
         "name": "0",
         "rawType": "object",
         "type": "unknown"
        },
        {
         "name": "1",
         "rawType": "object",
         "type": "unknown"
        },
        {
         "name": "2",
         "rawType": "object",
         "type": "unknown"
        },
        {
         "name": "3",
         "rawType": "object",
         "type": "unknown"
        },
        {
         "name": "4",
         "rawType": "object",
         "type": "unknown"
        }
       ],
       "ref": "f41c7c9f-1b60-4e04-b044-8e41bfd39a75",
       "rows": [
        [
         "Name",
         "ANSH",
         "SAHIL",
         "JAYAN",
         "AYUSHI",
         "SPARSH"
        ],
        [
         "Age",
         "22",
         "22",
         "23",
         "21",
         "20"
        ],
        [
         "Score",
         "9",
         "6",
         "8",
         "7",
         "8"
        ]
       ],
       "shape": {
        "columns": 5,
        "rows": 3
       }
      },
      "text/html": [
       "<div>\n",
       "<style scoped>\n",
       "    .dataframe tbody tr th:only-of-type {\n",
       "        vertical-align: middle;\n",
       "    }\n",
       "\n",
       "    .dataframe tbody tr th {\n",
       "        vertical-align: top;\n",
       "    }\n",
       "\n",
       "    .dataframe thead th {\n",
       "        text-align: right;\n",
       "    }\n",
       "</style>\n",
       "<table border=\"1\" class=\"dataframe\">\n",
       "  <thead>\n",
       "    <tr style=\"text-align: right;\">\n",
       "      <th></th>\n",
       "      <th>0</th>\n",
       "      <th>1</th>\n",
       "      <th>2</th>\n",
       "      <th>3</th>\n",
       "      <th>4</th>\n",
       "    </tr>\n",
       "  </thead>\n",
       "  <tbody>\n",
       "    <tr>\n",
       "      <th>Name</th>\n",
       "      <td>ANSH</td>\n",
       "      <td>SAHIL</td>\n",
       "      <td>JAYAN</td>\n",
       "      <td>AYUSHI</td>\n",
       "      <td>SPARSH</td>\n",
       "    </tr>\n",
       "    <tr>\n",
       "      <th>Age</th>\n",
       "      <td>22</td>\n",
       "      <td>22</td>\n",
       "      <td>23</td>\n",
       "      <td>21</td>\n",
       "      <td>20</td>\n",
       "    </tr>\n",
       "    <tr>\n",
       "      <th>Score</th>\n",
       "      <td>9</td>\n",
       "      <td>6</td>\n",
       "      <td>8</td>\n",
       "      <td>7</td>\n",
       "      <td>8</td>\n",
       "    </tr>\n",
       "  </tbody>\n",
       "</table>\n",
       "</div>"
      ],
      "text/plain": [
       "          0      1      2       3       4\n",
       "Name   ANSH  SAHIL  JAYAN  AYUSHI  SPARSH\n",
       "Age      22     22     23      21      20\n",
       "Score     9      6      8       7       8"
      ]
     },
     "execution_count": 40,
     "metadata": {},
     "output_type": "execute_result"
    }
   ],
   "source": [
    "df = df.transpose()\n",
    "df"
   ]
  },
  {
   "cell_type": "markdown",
   "id": "f0caa710",
   "metadata": {},
   "source": [
    "### Transform vs Apply()"
   ]
  },
  {
   "cell_type": "code",
   "execution_count": 41,
   "id": "d3c94a72",
   "metadata": {},
   "outputs": [],
   "source": [
    "# transfrom return shape matches original \n",
    "# works element wise : each group returns something the sam e size as the input\n",
    "# Ideal when you want to add new column to the dataframe \n",
    "# Output shape is always aligned with the original index\n",
    " \n",
    "# df['score_mean'] = df.groupby('AGE')['SCORE'].transform('mean')\n",
    "# df"
   ]
  },
  {
   "cell_type": "code",
   "execution_count": 43,
   "id": "ef6af290",
   "metadata": {},
   "outputs": [],
   "source": [
    "# apply() - Flexible , but shape may change \n",
    "# Can return aggregated results, series or even dataframe \n",
    "\n",
    "# print(df.groupby(['Age'])['Score'].apply(lambda x: x.mean()))\n"
   ]
  },
  {
   "cell_type": "code",
   "execution_count": null,
   "id": "60a5b767",
   "metadata": {},
   "outputs": [
    {
     "data": {
      "application/vnd.microsoft.datawrangler.viewer.v0+json": {
       "columns": [
        {
         "name": "index",
         "rawType": "object",
         "type": "string"
        },
        {
         "name": "Name",
         "rawType": "object",
         "type": "string"
        },
        {
         "name": "Age",
         "rawType": "object",
         "type": "unknown"
        },
        {
         "name": "Score",
         "rawType": "object",
         "type": "unknown"
        },
        {
         "name": "score_mean_apply",
         "rawType": "float64",
         "type": "float"
        }
       ],
       "ref": "6713b211-6462-44d7-8a14-ab5fa5027f92",
       "rows": [
        [
         "0",
         "ANSH",
         "22",
         "9",
         null
        ],
        [
         "1",
         "SAHIL",
         "22",
         "6",
         null
        ],
        [
         "2",
         "JAYAN",
         "23",
         "8",
         null
        ],
        [
         "3",
         "AYUSHI",
         "21",
         "7",
         null
        ],
        [
         "4",
         "SPARSH",
         "20",
         "8",
         null
        ]
       ],
       "shape": {
        "columns": 4,
        "rows": 5
       }
      },
      "text/html": [
       "<div>\n",
       "<style scoped>\n",
       "    .dataframe tbody tr th:only-of-type {\n",
       "        vertical-align: middle;\n",
       "    }\n",
       "\n",
       "    .dataframe tbody tr th {\n",
       "        vertical-align: top;\n",
       "    }\n",
       "\n",
       "    .dataframe thead th {\n",
       "        text-align: right;\n",
       "    }\n",
       "</style>\n",
       "<table border=\"1\" class=\"dataframe\">\n",
       "  <thead>\n",
       "    <tr style=\"text-align: right;\">\n",
       "      <th></th>\n",
       "      <th>Name</th>\n",
       "      <th>Age</th>\n",
       "      <th>Score</th>\n",
       "      <th>score_mean_apply</th>\n",
       "    </tr>\n",
       "  </thead>\n",
       "  <tbody>\n",
       "    <tr>\n",
       "      <th>0</th>\n",
       "      <td>ANSH</td>\n",
       "      <td>22</td>\n",
       "      <td>9</td>\n",
       "      <td>NaN</td>\n",
       "    </tr>\n",
       "    <tr>\n",
       "      <th>1</th>\n",
       "      <td>SAHIL</td>\n",
       "      <td>22</td>\n",
       "      <td>6</td>\n",
       "      <td>NaN</td>\n",
       "    </tr>\n",
       "    <tr>\n",
       "      <th>2</th>\n",
       "      <td>JAYAN</td>\n",
       "      <td>23</td>\n",
       "      <td>8</td>\n",
       "      <td>NaN</td>\n",
       "    </tr>\n",
       "    <tr>\n",
       "      <th>3</th>\n",
       "      <td>AYUSHI</td>\n",
       "      <td>21</td>\n",
       "      <td>7</td>\n",
       "      <td>NaN</td>\n",
       "    </tr>\n",
       "    <tr>\n",
       "      <th>4</th>\n",
       "      <td>SPARSH</td>\n",
       "      <td>20</td>\n",
       "      <td>8</td>\n",
       "      <td>NaN</td>\n",
       "    </tr>\n",
       "  </tbody>\n",
       "</table>\n",
       "</div>"
      ],
      "text/plain": [
       "     Name Age Score  score_mean_apply\n",
       "0    ANSH  22     9               NaN\n",
       "1   SAHIL  22     6               NaN\n",
       "2   JAYAN  23     8               NaN\n",
       "3  AYUSHI  21     7               NaN\n",
       "4  SPARSH  20     8               NaN"
      ]
     },
     "execution_count": 53,
     "metadata": {},
     "output_type": "execute_result"
    }
   ],
   "source": [
    "df['score_mean_apply']= df.groupby('Age')['Score'].apply(lambda x: x.mean())\n",
    "df\n",
    "# This will give the missing values because there is 4 output and we need 5 answer to fill the column "
   ]
  },
  {
   "cell_type": "code",
   "execution_count": null,
   "id": "ffacabb4",
   "metadata": {},
   "outputs": [
    {
     "data": {
      "application/vnd.microsoft.datawrangler.viewer.v0+json": {
       "columns": [
        {
         "name": "index",
         "rawType": "object",
         "type": "string"
        },
        {
         "name": "Name",
         "rawType": "object",
         "type": "string"
        },
        {
         "name": "Age",
         "rawType": "object",
         "type": "unknown"
        },
        {
         "name": "Score",
         "rawType": "object",
         "type": "unknown"
        },
        {
         "name": "score_mean_apply",
         "rawType": "float64",
         "type": "float"
        }
       ],
       "ref": "dba49027-6485-48d3-b432-ec015c9d0d7f",
       "rows": [
        [
         "0",
         "ANSH",
         "22",
         "9",
         "7.5"
        ],
        [
         "1",
         "SAHIL",
         "22",
         "6",
         "7.5"
        ],
        [
         "2",
         "JAYAN",
         "23",
         "8",
         "8.0"
        ],
        [
         "3",
         "AYUSHI",
         "21",
         "7",
         "7.0"
        ],
        [
         "4",
         "SPARSH",
         "20",
         "8",
         "8.0"
        ]
       ],
       "shape": {
        "columns": 4,
        "rows": 5
       }
      },
      "text/html": [
       "<div>\n",
       "<style scoped>\n",
       "    .dataframe tbody tr th:only-of-type {\n",
       "        vertical-align: middle;\n",
       "    }\n",
       "\n",
       "    .dataframe tbody tr th {\n",
       "        vertical-align: top;\n",
       "    }\n",
       "\n",
       "    .dataframe thead th {\n",
       "        text-align: right;\n",
       "    }\n",
       "</style>\n",
       "<table border=\"1\" class=\"dataframe\">\n",
       "  <thead>\n",
       "    <tr style=\"text-align: right;\">\n",
       "      <th></th>\n",
       "      <th>Name</th>\n",
       "      <th>Age</th>\n",
       "      <th>Score</th>\n",
       "      <th>score_mean_apply</th>\n",
       "    </tr>\n",
       "  </thead>\n",
       "  <tbody>\n",
       "    <tr>\n",
       "      <th>0</th>\n",
       "      <td>ANSH</td>\n",
       "      <td>22</td>\n",
       "      <td>9</td>\n",
       "      <td>7.5</td>\n",
       "    </tr>\n",
       "    <tr>\n",
       "      <th>1</th>\n",
       "      <td>SAHIL</td>\n",
       "      <td>22</td>\n",
       "      <td>6</td>\n",
       "      <td>7.5</td>\n",
       "    </tr>\n",
       "    <tr>\n",
       "      <th>2</th>\n",
       "      <td>JAYAN</td>\n",
       "      <td>23</td>\n",
       "      <td>8</td>\n",
       "      <td>8.0</td>\n",
       "    </tr>\n",
       "    <tr>\n",
       "      <th>3</th>\n",
       "      <td>AYUSHI</td>\n",
       "      <td>21</td>\n",
       "      <td>7</td>\n",
       "      <td>7.0</td>\n",
       "    </tr>\n",
       "    <tr>\n",
       "      <th>4</th>\n",
       "      <td>SPARSH</td>\n",
       "      <td>20</td>\n",
       "      <td>8</td>\n",
       "      <td>8.0</td>\n",
       "    </tr>\n",
       "  </tbody>\n",
       "</table>\n",
       "</div>"
      ],
      "text/plain": [
       "     Name Age Score  score_mean_apply\n",
       "0    ANSH  22     9               7.5\n",
       "1   SAHIL  22     6               7.5\n",
       "2   JAYAN  23     8               8.0\n",
       "3  AYUSHI  21     7               7.0\n",
       "4  SPARSH  20     8               8.0"
      ]
     },
     "execution_count": 54,
     "metadata": {},
     "output_type": "execute_result"
    }
   ],
   "source": [
    "df['score_mean_apply']= df.groupby('Age')['Score'].transform(lambda x: x.mean())\n",
    "df"
   ]
  },
  {
   "cell_type": "markdown",
   "id": "3a51bffe",
   "metadata": {},
   "source": [
    "### Pivot vs Pivot_Table()\n",
    "\n",
    "Pivoting is a powerful technique to reshape detailed (long - form) data into a summary table (wide-form ) --ideal for spotting trends and comparing group statistics.\n",
    "\n",
    "pivot() --  Strict but Simple\n",
    "\n",
    "* Best used when your data is perfectly clean, meaning there is one unique value for every combination of index and columns.\n",
    "\n",
    "* Converts rows into columns for easier comparison.\n",
    "\n",
    "* It is fast and straightforward, but throws an error if duplicate entries exist."
   ]
  },
  {
   "cell_type": "code",
   "execution_count": null,
   "id": "707dd25c",
   "metadata": {},
   "outputs": [
    {
     "name": "stdout",
     "output_type": "stream",
     "text": [
      "Score      6     7     8     9\n",
      "Name                          \n",
      "ANSH     NaN   NaN   NaN  22.0\n",
      "AYUSHI   NaN  21.0   NaN   NaN\n",
      "JAYAN    NaN   NaN  23.0   NaN\n",
      "SAHIL   22.0   NaN   NaN   NaN\n",
      "SPARSH   NaN   NaN  20.0   NaN\n"
     ]
    }
   ],
   "source": [
    "data = [('ANSH', 22, 9),\n",
    "        ('SAHIL', 22, 6),\n",
    "        ('JAYAN', 23, 8),\n",
    "        ('AYUSHI', 21, 7),\n",
    "        ('SPARSH', 20, 8) ]\n",
    "\n",
    "df = pd.DataFrame(data , columns=['Name','Age','Score'])\n",
    "df_p = df.pivot(index='Name', columns='Score', values='Age')\n",
    "print(df_p)"
   ]
  },
  {
   "cell_type": "code",
   "execution_count": null,
   "id": "7c1475ff",
   "metadata": {},
   "outputs": [
    {
     "name": "stdout",
     "output_type": "stream",
     "text": [
      "'Department'\n"
     ]
    }
   ],
   "source": [
    "df_pivot = pd.DataFrame({\n",
    "    'Department': ['HR', 'HR', 'Sales', 'Sales', 'IT'],\n",
    "    'Gender': ['M', 'F', 'M', 'F', 'M'],\n",
    "    'Salary': [3000, 3200, 4000, 3900, 4500]\n",
    "})\n",
    "\n",
    "try:\n",
    "    pivot = pd.pivot(df, index=\"Department\", columns=\"Gender\", values=\"Salary\")\n",
    "\n",
    "except Exception as e:\n",
    "    print(e)\n",
    "\n",
    "else:\n",
    "    print(pivot)\n",
    "    \n"
   ]
  },
  {
   "cell_type": "markdown",
   "id": "42cdbe62",
   "metadata": {},
   "source": [
    "pivot_table() — Flexible and Powerful\n",
    "\n",
    "* Works just like pivot(), but with aggregation support — great for handling duplicates or missing data.\n",
    "\n",
    "* Lets you group data by one or more keys.\n",
    "\n",
    "* Supports common aggregations like mean, sum, count, and even multiple functions.\n",
    "\n",
    "* Accepts multiple columns in index, columns, and values.\n"
   ]
  },
  {
   "cell_type": "code",
   "execution_count": null,
   "id": "2afe726c",
   "metadata": {},
   "outputs": [
    {
     "data": {
      "application/vnd.microsoft.datawrangler.viewer.v0+json": {
       "columns": [
        {
         "name": "Department",
         "rawType": "object",
         "type": "string"
        },
        {
         "name": "F",
         "rawType": "float64",
         "type": "float"
        },
        {
         "name": "M",
         "rawType": "float64",
         "type": "float"
        }
       ],
       "ref": "15920676-30a7-48a1-8e31-ae37f72f4c95",
       "rows": [
        [
         "HR",
         "3200.0",
         "3000.0"
        ],
        [
         "IT",
         null,
         "4500.0"
        ],
        [
         "Sales",
         "3900.0",
         "4000.0"
        ]
       ],
       "shape": {
        "columns": 2,
        "rows": 3
       }
      },
      "text/html": [
       "<div>\n",
       "<style scoped>\n",
       "    .dataframe tbody tr th:only-of-type {\n",
       "        vertical-align: middle;\n",
       "    }\n",
       "\n",
       "    .dataframe tbody tr th {\n",
       "        vertical-align: top;\n",
       "    }\n",
       "\n",
       "    .dataframe thead th {\n",
       "        text-align: right;\n",
       "    }\n",
       "</style>\n",
       "<table border=\"1\" class=\"dataframe\">\n",
       "  <thead>\n",
       "    <tr style=\"text-align: right;\">\n",
       "      <th>Gender</th>\n",
       "      <th>F</th>\n",
       "      <th>M</th>\n",
       "    </tr>\n",
       "    <tr>\n",
       "      <th>Department</th>\n",
       "      <th></th>\n",
       "      <th></th>\n",
       "    </tr>\n",
       "  </thead>\n",
       "  <tbody>\n",
       "    <tr>\n",
       "      <th>HR</th>\n",
       "      <td>3200.0</td>\n",
       "      <td>3000.0</td>\n",
       "    </tr>\n",
       "    <tr>\n",
       "      <th>IT</th>\n",
       "      <td>NaN</td>\n",
       "      <td>4500.0</td>\n",
       "    </tr>\n",
       "    <tr>\n",
       "      <th>Sales</th>\n",
       "      <td>3900.0</td>\n",
       "      <td>4000.0</td>\n",
       "    </tr>\n",
       "  </tbody>\n",
       "</table>\n",
       "</div>"
      ],
      "text/plain": [
       "Gender           F       M\n",
       "Department                \n",
       "HR          3200.0  3000.0\n",
       "IT             NaN  4500.0\n",
       "Sales       3900.0  4000.0"
      ]
     },
     "execution_count": 67,
     "metadata": {},
     "output_type": "execute_result"
    }
   ],
   "source": [
    "pivot_t = df_pivot.pivot_table(index='Department', columns='Gender', values='Salary', aggfunc='mean')\n",
    "pivot"
   ]
  },
  {
   "cell_type": "markdown",
   "id": "1ff75ec2",
   "metadata": {},
   "source": [
    "Create a Pandas DataFrame from list of Dictionaries\n",
    "* df = pd.DataFrame.from_records()  # we can also pass the index\n",
    "* Using pd.json_normalize()\n",
    "* df = pd.DataFrame.from_dict()\n",
    "* Using pd.DataFrame()"
   ]
  },
  {
   "cell_type": "code",
   "execution_count": null,
   "id": "7b36ade4",
   "metadata": {},
   "outputs": [
    {
     "data": {
      "application/vnd.microsoft.datawrangler.viewer.v0+json": {
       "columns": [
        {
         "name": "index",
         "rawType": "int64",
         "type": "integer"
        },
        {
         "name": "This",
         "rawType": "object",
         "type": "unknown"
        },
        {
         "name": "Side",
         "rawType": "object",
         "type": "unknown"
        },
        {
         "name": "Nirav",
         "rawType": "object",
         "type": "unknown"
        }
       ],
       "ref": "5df9bacd-6eea-4499-ba7a-f869b4cf4826",
       "rows": [
        [
         "0",
         "dataframe",
         "Using",
         "List"
        ],
        [
         "1",
         "10",
         "20",
         "30"
        ]
       ],
       "shape": {
        "columns": 3,
        "rows": 2
       }
      },
      "text/html": [
       "<div>\n",
       "<style scoped>\n",
       "    .dataframe tbody tr th:only-of-type {\n",
       "        vertical-align: middle;\n",
       "    }\n",
       "\n",
       "    .dataframe tbody tr th {\n",
       "        vertical-align: top;\n",
       "    }\n",
       "\n",
       "    .dataframe thead th {\n",
       "        text-align: right;\n",
       "    }\n",
       "</style>\n",
       "<table border=\"1\" class=\"dataframe\">\n",
       "  <thead>\n",
       "    <tr style=\"text-align: right;\">\n",
       "      <th></th>\n",
       "      <th>This</th>\n",
       "      <th>Side</th>\n",
       "      <th>Nirav</th>\n",
       "    </tr>\n",
       "  </thead>\n",
       "  <tbody>\n",
       "    <tr>\n",
       "      <th>0</th>\n",
       "      <td>dataframe</td>\n",
       "      <td>Using</td>\n",
       "      <td>List</td>\n",
       "    </tr>\n",
       "    <tr>\n",
       "      <th>1</th>\n",
       "      <td>10</td>\n",
       "      <td>20</td>\n",
       "      <td>30</td>\n",
       "    </tr>\n",
       "  </tbody>\n",
       "</table>\n",
       "</div>"
      ],
      "text/plain": [
       "        This   Side Nirav\n",
       "0  dataframe  Using  List\n",
       "1         10     20    30"
      ]
     },
     "metadata": {},
     "output_type": "display_data"
    },
    {
     "data": {
      "application/vnd.microsoft.datawrangler.viewer.v0+json": {
       "columns": [
        {
         "name": "index",
         "rawType": "int64",
         "type": "integer"
        },
        {
         "name": "This",
         "rawType": "object",
         "type": "unknown"
        },
        {
         "name": "Side",
         "rawType": "object",
         "type": "unknown"
        },
        {
         "name": "Nirav",
         "rawType": "object",
         "type": "unknown"
        }
       ],
       "ref": "bd02da3f-af72-42cb-960e-f99e6029c55e",
       "rows": [
        [
         "0",
         "dataframe",
         "Using",
         "List"
        ],
        [
         "1",
         "10",
         "20",
         "30"
        ]
       ],
       "shape": {
        "columns": 3,
        "rows": 2
       }
      },
      "text/html": [
       "<div>\n",
       "<style scoped>\n",
       "    .dataframe tbody tr th:only-of-type {\n",
       "        vertical-align: middle;\n",
       "    }\n",
       "\n",
       "    .dataframe tbody tr th {\n",
       "        vertical-align: top;\n",
       "    }\n",
       "\n",
       "    .dataframe thead th {\n",
       "        text-align: right;\n",
       "    }\n",
       "</style>\n",
       "<table border=\"1\" class=\"dataframe\">\n",
       "  <thead>\n",
       "    <tr style=\"text-align: right;\">\n",
       "      <th></th>\n",
       "      <th>This</th>\n",
       "      <th>Side</th>\n",
       "      <th>Nirav</th>\n",
       "    </tr>\n",
       "  </thead>\n",
       "  <tbody>\n",
       "    <tr>\n",
       "      <th>0</th>\n",
       "      <td>dataframe</td>\n",
       "      <td>Using</td>\n",
       "      <td>List</td>\n",
       "    </tr>\n",
       "    <tr>\n",
       "      <th>1</th>\n",
       "      <td>10</td>\n",
       "      <td>20</td>\n",
       "      <td>30</td>\n",
       "    </tr>\n",
       "  </tbody>\n",
       "</table>\n",
       "</div>"
      ],
      "text/plain": [
       "        This   Side Nirav\n",
       "0  dataframe  Using  List\n",
       "1         10     20    30"
      ]
     },
     "metadata": {},
     "output_type": "display_data"
    }
   ],
   "source": [
    "data = [{'This':'dataframe', 'Side':'Using', 'Nirav':'List' },\n",
    "        {'This': 10, 'Side':20, 'Nirav': 30 }]\n",
    "\n",
    "df = pd.DataFrame.from_records(data)\n",
    "display(df)\n",
    "df = pd.DataFrame.from_dict(data)\n",
    "display(df)"
   ]
  },
  {
   "cell_type": "code",
   "execution_count": null,
   "id": "bb75740b",
   "metadata": {},
   "outputs": [
    {
     "data": {
      "application/vnd.microsoft.datawrangler.viewer.v0+json": {
       "columns": [
        {
         "name": "index",
         "rawType": "int64",
         "type": "integer"
        },
        {
         "name": "This",
         "rawType": "object",
         "type": "unknown"
        },
        {
         "name": "Side",
         "rawType": "object",
         "type": "unknown"
        },
        {
         "name": "Nirav",
         "rawType": "object",
         "type": "unknown"
        }
       ],
       "ref": "949632c9-83c1-4d68-9b21-47164be00563",
       "rows": [
        [
         "0",
         "dataframe",
         "Using",
         "List"
        ],
        [
         "1",
         "10",
         "20",
         "30"
        ]
       ],
       "shape": {
        "columns": 3,
        "rows": 2
       }
      },
      "text/html": [
       "<div>\n",
       "<style scoped>\n",
       "    .dataframe tbody tr th:only-of-type {\n",
       "        vertical-align: middle;\n",
       "    }\n",
       "\n",
       "    .dataframe tbody tr th {\n",
       "        vertical-align: top;\n",
       "    }\n",
       "\n",
       "    .dataframe thead th {\n",
       "        text-align: right;\n",
       "    }\n",
       "</style>\n",
       "<table border=\"1\" class=\"dataframe\">\n",
       "  <thead>\n",
       "    <tr style=\"text-align: right;\">\n",
       "      <th></th>\n",
       "      <th>This</th>\n",
       "      <th>Side</th>\n",
       "      <th>Nirav</th>\n",
       "    </tr>\n",
       "  </thead>\n",
       "  <tbody>\n",
       "    <tr>\n",
       "      <th>0</th>\n",
       "      <td>dataframe</td>\n",
       "      <td>Using</td>\n",
       "      <td>List</td>\n",
       "    </tr>\n",
       "    <tr>\n",
       "      <th>1</th>\n",
       "      <td>10</td>\n",
       "      <td>20</td>\n",
       "      <td>30</td>\n",
       "    </tr>\n",
       "  </tbody>\n",
       "</table>\n",
       "</div>"
      ],
      "text/plain": [
       "        This   Side Nirav\n",
       "0  dataframe  Using  List\n",
       "1         10     20    30"
      ]
     },
     "execution_count": 22,
     "metadata": {},
     "output_type": "execute_result"
    }
   ],
   "source": [
    "df = pd.json_normalize(data)\n",
    "df"
   ]
  },
  {
   "cell_type": "code",
   "execution_count": null,
   "id": "fe5104d5",
   "metadata": {},
   "outputs": [
    {
     "data": {
      "application/vnd.microsoft.datawrangler.viewer.v0+json": {
       "columns": [
        {
         "name": "index",
         "rawType": "int64",
         "type": "integer"
        },
        {
         "name": "This",
         "rawType": "object",
         "type": "unknown"
        },
        {
         "name": "Side",
         "rawType": "object",
         "type": "unknown"
        },
        {
         "name": "Nirav",
         "rawType": "object",
         "type": "unknown"
        }
       ],
       "ref": "90e73d5c-e5a0-4d5f-87df-6e7ec780c241",
       "rows": [
        [
         "0",
         "dataframe",
         "Using",
         "List"
        ],
        [
         "1",
         "10",
         "20",
         "30"
        ]
       ],
       "shape": {
        "columns": 3,
        "rows": 2
       }
      },
      "text/html": [
       "<div>\n",
       "<style scoped>\n",
       "    .dataframe tbody tr th:only-of-type {\n",
       "        vertical-align: middle;\n",
       "    }\n",
       "\n",
       "    .dataframe tbody tr th {\n",
       "        vertical-align: top;\n",
       "    }\n",
       "\n",
       "    .dataframe thead th {\n",
       "        text-align: right;\n",
       "    }\n",
       "</style>\n",
       "<table border=\"1\" class=\"dataframe\">\n",
       "  <thead>\n",
       "    <tr style=\"text-align: right;\">\n",
       "      <th></th>\n",
       "      <th>This</th>\n",
       "      <th>Side</th>\n",
       "      <th>Nirav</th>\n",
       "    </tr>\n",
       "  </thead>\n",
       "  <tbody>\n",
       "    <tr>\n",
       "      <th>0</th>\n",
       "      <td>dataframe</td>\n",
       "      <td>Using</td>\n",
       "      <td>List</td>\n",
       "    </tr>\n",
       "    <tr>\n",
       "      <th>1</th>\n",
       "      <td>10</td>\n",
       "      <td>20</td>\n",
       "      <td>30</td>\n",
       "    </tr>\n",
       "  </tbody>\n",
       "</table>\n",
       "</div>"
      ],
      "text/plain": [
       "        This   Side Nirav\n",
       "0  dataframe  Using  List\n",
       "1         10     20    30"
      ]
     },
     "execution_count": 23,
     "metadata": {},
     "output_type": "execute_result"
    }
   ],
   "source": [
    "df = pd.DataFrame(data)\n",
    "df"
   ]
  },
  {
   "cell_type": "code",
   "execution_count": null,
   "id": "c0068e3a",
   "metadata": {},
   "outputs": [
    {
     "data": {
      "application/vnd.microsoft.datawrangler.viewer.v0+json": {
       "columns": [
        {
         "name": "index",
         "rawType": "int64",
         "type": "integer"
        },
        {
         "name": "Date",
         "rawType": "object",
         "type": "string"
        },
        {
         "name": "Product",
         "rawType": "object",
         "type": "string"
        },
        {
         "name": "Sales",
         "rawType": "int64",
         "type": "integer"
        }
       ],
       "ref": "4c130f28-9f66-4044-a99f-6aeef377ae40",
       "rows": [
        [
         "0",
         "2024-01",
         "A",
         "100"
        ],
        [
         "1",
         "2024-01",
         "A",
         "200"
        ],
        [
         "2",
         "2024-02",
         "A",
         "150"
        ],
        [
         "3",
         "2024-02",
         "B",
         "300"
        ]
       ],
       "shape": {
        "columns": 3,
        "rows": 4
       }
      },
      "text/html": [
       "<div>\n",
       "<style scoped>\n",
       "    .dataframe tbody tr th:only-of-type {\n",
       "        vertical-align: middle;\n",
       "    }\n",
       "\n",
       "    .dataframe tbody tr th {\n",
       "        vertical-align: top;\n",
       "    }\n",
       "\n",
       "    .dataframe thead th {\n",
       "        text-align: right;\n",
       "    }\n",
       "</style>\n",
       "<table border=\"1\" class=\"dataframe\">\n",
       "  <thead>\n",
       "    <tr style=\"text-align: right;\">\n",
       "      <th></th>\n",
       "      <th>Date</th>\n",
       "      <th>Product</th>\n",
       "      <th>Sales</th>\n",
       "    </tr>\n",
       "  </thead>\n",
       "  <tbody>\n",
       "    <tr>\n",
       "      <th>0</th>\n",
       "      <td>2024-01</td>\n",
       "      <td>A</td>\n",
       "      <td>100</td>\n",
       "    </tr>\n",
       "    <tr>\n",
       "      <th>1</th>\n",
       "      <td>2024-01</td>\n",
       "      <td>A</td>\n",
       "      <td>200</td>\n",
       "    </tr>\n",
       "    <tr>\n",
       "      <th>2</th>\n",
       "      <td>2024-02</td>\n",
       "      <td>A</td>\n",
       "      <td>150</td>\n",
       "    </tr>\n",
       "    <tr>\n",
       "      <th>3</th>\n",
       "      <td>2024-02</td>\n",
       "      <td>B</td>\n",
       "      <td>300</td>\n",
       "    </tr>\n",
       "  </tbody>\n",
       "</table>\n",
       "</div>"
      ],
      "text/plain": [
       "      Date Product  Sales\n",
       "0  2024-01       A    100\n",
       "1  2024-01       A    200\n",
       "2  2024-02       A    150\n",
       "3  2024-02       B    300"
      ]
     },
     "metadata": {},
     "output_type": "display_data"
    },
    {
     "data": {
      "application/vnd.microsoft.datawrangler.viewer.v0+json": {
       "columns": [
        {
         "name": "Date",
         "rawType": "object",
         "type": "string"
        },
        {
         "name": "A",
         "rawType": "float64",
         "type": "float"
        },
        {
         "name": "B",
         "rawType": "float64",
         "type": "float"
        }
       ],
       "ref": "f18ef293-3b6a-42f4-809e-ab0c31ee06cf",
       "rows": [
        [
         "2024-01",
         "300.0",
         null
        ],
        [
         "2024-02",
         "150.0",
         "300.0"
        ]
       ],
       "shape": {
        "columns": 2,
        "rows": 2
       }
      },
      "text/html": [
       "<div>\n",
       "<style scoped>\n",
       "    .dataframe tbody tr th:only-of-type {\n",
       "        vertical-align: middle;\n",
       "    }\n",
       "\n",
       "    .dataframe tbody tr th {\n",
       "        vertical-align: top;\n",
       "    }\n",
       "\n",
       "    .dataframe thead th {\n",
       "        text-align: right;\n",
       "    }\n",
       "</style>\n",
       "<table border=\"1\" class=\"dataframe\">\n",
       "  <thead>\n",
       "    <tr style=\"text-align: right;\">\n",
       "      <th>Product</th>\n",
       "      <th>A</th>\n",
       "      <th>B</th>\n",
       "    </tr>\n",
       "    <tr>\n",
       "      <th>Date</th>\n",
       "      <th></th>\n",
       "      <th></th>\n",
       "    </tr>\n",
       "  </thead>\n",
       "  <tbody>\n",
       "    <tr>\n",
       "      <th>2024-01</th>\n",
       "      <td>300.0</td>\n",
       "      <td>NaN</td>\n",
       "    </tr>\n",
       "    <tr>\n",
       "      <th>2024-02</th>\n",
       "      <td>150.0</td>\n",
       "      <td>300.0</td>\n",
       "    </tr>\n",
       "  </tbody>\n",
       "</table>\n",
       "</div>"
      ],
      "text/plain": [
       "Product      A      B\n",
       "Date                 \n",
       "2024-01  300.0    NaN\n",
       "2024-02  150.0  300.0"
      ]
     },
     "execution_count": 63,
     "metadata": {},
     "output_type": "execute_result"
    }
   ],
   "source": [
    "\n",
    "df = pd.DataFrame({\n",
    "    'Date': ['2024-01', '2024-01', '2024-02', '2024-02'],\n",
    "    'Product': ['A', 'A', 'A', 'B'],\n",
    "    'Sales': [100, 200, 150, 300]\n",
    "})\n",
    "display(df)\n",
    "df.pivot_table(index='Date', columns='Product', values='Sales', aggfunc='sum')\n"
   ]
  },
  {
   "cell_type": "code",
   "execution_count": null,
   "id": "d7d5b0d6",
   "metadata": {},
   "outputs": [
    {
     "data": {
      "application/vnd.microsoft.datawrangler.viewer.v0+json": {
       "columns": [
        {
         "name": "index",
         "rawType": "int64",
         "type": "integer"
        },
        {
         "name": "Date",
         "rawType": "object",
         "type": "string"
        },
        {
         "name": "Product",
         "rawType": "object",
         "type": "string"
        },
        {
         "name": "Sales",
         "rawType": "int64",
         "type": "integer"
        }
       ],
       "ref": "9fa4ba26-44a7-4998-b440-86f3163f4ebb",
       "rows": [
        [
         "3",
         "2024-02",
         "B",
         "300"
        ],
        [
         "1",
         "2024-01",
         "A",
         "200"
        ],
        [
         "2",
         "2024-02",
         "A",
         "150"
        ],
        [
         "0",
         "2024-01",
         "A",
         "100"
        ]
       ],
       "shape": {
        "columns": 3,
        "rows": 4
       }
      },
      "text/html": [
       "<div>\n",
       "<style scoped>\n",
       "    .dataframe tbody tr th:only-of-type {\n",
       "        vertical-align: middle;\n",
       "    }\n",
       "\n",
       "    .dataframe tbody tr th {\n",
       "        vertical-align: top;\n",
       "    }\n",
       "\n",
       "    .dataframe thead th {\n",
       "        text-align: right;\n",
       "    }\n",
       "</style>\n",
       "<table border=\"1\" class=\"dataframe\">\n",
       "  <thead>\n",
       "    <tr style=\"text-align: right;\">\n",
       "      <th></th>\n",
       "      <th>Date</th>\n",
       "      <th>Product</th>\n",
       "      <th>Sales</th>\n",
       "    </tr>\n",
       "  </thead>\n",
       "  <tbody>\n",
       "    <tr>\n",
       "      <th>3</th>\n",
       "      <td>2024-02</td>\n",
       "      <td>B</td>\n",
       "      <td>300</td>\n",
       "    </tr>\n",
       "    <tr>\n",
       "      <th>1</th>\n",
       "      <td>2024-01</td>\n",
       "      <td>A</td>\n",
       "      <td>200</td>\n",
       "    </tr>\n",
       "    <tr>\n",
       "      <th>2</th>\n",
       "      <td>2024-02</td>\n",
       "      <td>A</td>\n",
       "      <td>150</td>\n",
       "    </tr>\n",
       "    <tr>\n",
       "      <th>0</th>\n",
       "      <td>2024-01</td>\n",
       "      <td>A</td>\n",
       "      <td>100</td>\n",
       "    </tr>\n",
       "  </tbody>\n",
       "</table>\n",
       "</div>"
      ],
      "text/plain": [
       "      Date Product  Sales\n",
       "3  2024-02       B    300\n",
       "1  2024-01       A    200\n",
       "2  2024-02       A    150\n",
       "0  2024-01       A    100"
      ]
     },
     "execution_count": 78,
     "metadata": {},
     "output_type": "execute_result"
    }
   ],
   "source": [
    "df.sort_values('Sales', ascending=False)"
   ]
  },
  {
   "cell_type": "code",
   "execution_count": null,
   "id": "9b261efe",
   "metadata": {},
   "outputs": [
    {
     "data": {
      "application/vnd.microsoft.datawrangler.viewer.v0+json": {
       "columns": [
        {
         "name": "index",
         "rawType": "int64",
         "type": "integer"
        },
        {
         "name": "Date",
         "rawType": "object",
         "type": "string"
        },
        {
         "name": "Product",
         "rawType": "object",
         "type": "string"
        },
        {
         "name": "Sales",
         "rawType": "int64",
         "type": "integer"
        }
       ],
       "ref": "95a3f3c7-611e-48ac-b16c-3aa9e1889d92",
       "rows": [
        [
         "0",
         "2024-01",
         "A",
         "100"
        ],
        [
         "2",
         "2024-02",
         "A",
         "150"
        ]
       ],
       "shape": {
        "columns": 3,
        "rows": 2
       }
      },
      "text/html": [
       "<div>\n",
       "<style scoped>\n",
       "    .dataframe tbody tr th:only-of-type {\n",
       "        vertical-align: middle;\n",
       "    }\n",
       "\n",
       "    .dataframe tbody tr th {\n",
       "        vertical-align: top;\n",
       "    }\n",
       "\n",
       "    .dataframe thead th {\n",
       "        text-align: right;\n",
       "    }\n",
       "</style>\n",
       "<table border=\"1\" class=\"dataframe\">\n",
       "  <thead>\n",
       "    <tr style=\"text-align: right;\">\n",
       "      <th></th>\n",
       "      <th>Date</th>\n",
       "      <th>Product</th>\n",
       "      <th>Sales</th>\n",
       "    </tr>\n",
       "  </thead>\n",
       "  <tbody>\n",
       "    <tr>\n",
       "      <th>0</th>\n",
       "      <td>2024-01</td>\n",
       "      <td>A</td>\n",
       "      <td>100</td>\n",
       "    </tr>\n",
       "    <tr>\n",
       "      <th>2</th>\n",
       "      <td>2024-02</td>\n",
       "      <td>A</td>\n",
       "      <td>150</td>\n",
       "    </tr>\n",
       "  </tbody>\n",
       "</table>\n",
       "</div>"
      ],
      "text/plain": [
       "      Date Product  Sales\n",
       "0  2024-01       A    100\n",
       "2  2024-02       A    150"
      ]
     },
     "execution_count": 74,
     "metadata": {},
     "output_type": "execute_result"
    }
   ],
   "source": [
    "df[df['Sales']<200]"
   ]
  },
  {
   "cell_type": "code",
   "execution_count": null,
   "id": "6ad9606f",
   "metadata": {},
   "outputs": [
    {
     "data": {
      "application/vnd.microsoft.datawrangler.viewer.v0+json": {
       "columns": [
        {
         "name": "index",
         "rawType": "int64",
         "type": "integer"
        },
        {
         "name": "Date",
         "rawType": "object",
         "type": "string"
        },
        {
         "name": "Product",
         "rawType": "object",
         "type": "string"
        }
       ],
       "ref": "008c26ea-5ac1-4850-ac45-a6a1628e1e32",
       "rows": [
        [
         "0",
         "2024-01",
         "A"
        ],
        [
         "1",
         "2024-01",
         "A"
        ]
       ],
       "shape": {
        "columns": 2,
        "rows": 2
       }
      },
      "text/html": [
       "<div>\n",
       "<style scoped>\n",
       "    .dataframe tbody tr th:only-of-type {\n",
       "        vertical-align: middle;\n",
       "    }\n",
       "\n",
       "    .dataframe tbody tr th {\n",
       "        vertical-align: top;\n",
       "    }\n",
       "\n",
       "    .dataframe thead th {\n",
       "        text-align: right;\n",
       "    }\n",
       "</style>\n",
       "<table border=\"1\" class=\"dataframe\">\n",
       "  <thead>\n",
       "    <tr style=\"text-align: right;\">\n",
       "      <th></th>\n",
       "      <th>Date</th>\n",
       "      <th>Product</th>\n",
       "    </tr>\n",
       "  </thead>\n",
       "  <tbody>\n",
       "    <tr>\n",
       "      <th>0</th>\n",
       "      <td>2024-01</td>\n",
       "      <td>A</td>\n",
       "    </tr>\n",
       "    <tr>\n",
       "      <th>1</th>\n",
       "      <td>2024-01</td>\n",
       "      <td>A</td>\n",
       "    </tr>\n",
       "  </tbody>\n",
       "</table>\n",
       "</div>"
      ],
      "text/plain": [
       "      Date Product\n",
       "0  2024-01       A\n",
       "1  2024-01       A"
      ]
     },
     "execution_count": 72,
     "metadata": {},
     "output_type": "execute_result"
    }
   ],
   "source": [
    "df.iloc[0:2, 0:2]"
   ]
  },
  {
   "cell_type": "code",
   "execution_count": null,
   "id": "eefad204",
   "metadata": {},
   "outputs": [
    {
     "data": {
      "application/vnd.microsoft.datawrangler.viewer.v0+json": {
       "columns": [
        {
         "name": "index",
         "rawType": "object",
         "type": "string"
        },
        {
         "name": "This",
         "rawType": "object",
         "type": "unknown"
        },
        {
         "name": "Side",
         "rawType": "object",
         "type": "unknown"
        }
       ],
       "ref": "9893fc8c-ee75-4a56-be34-fe0bbf3d3786",
       "rows": [
        [
         "ind1",
         "dataframe",
         "Using"
        ],
        [
         "ind2",
         "10",
         "20"
        ]
       ],
       "shape": {
        "columns": 2,
        "rows": 2
       }
      },
      "text/html": [
       "<div>\n",
       "<style scoped>\n",
       "    .dataframe tbody tr th:only-of-type {\n",
       "        vertical-align: middle;\n",
       "    }\n",
       "\n",
       "    .dataframe tbody tr th {\n",
       "        vertical-align: top;\n",
       "    }\n",
       "\n",
       "    .dataframe thead th {\n",
       "        text-align: right;\n",
       "    }\n",
       "</style>\n",
       "<table border=\"1\" class=\"dataframe\">\n",
       "  <thead>\n",
       "    <tr style=\"text-align: right;\">\n",
       "      <th></th>\n",
       "      <th>This</th>\n",
       "      <th>Side</th>\n",
       "    </tr>\n",
       "  </thead>\n",
       "  <tbody>\n",
       "    <tr>\n",
       "      <th>ind1</th>\n",
       "      <td>dataframe</td>\n",
       "      <td>Using</td>\n",
       "    </tr>\n",
       "    <tr>\n",
       "      <th>ind2</th>\n",
       "      <td>10</td>\n",
       "      <td>20</td>\n",
       "    </tr>\n",
       "  </tbody>\n",
       "</table>\n",
       "</div>"
      ],
      "text/plain": [
       "           This   Side\n",
       "ind1  dataframe  Using\n",
       "ind2         10     20"
      ]
     },
     "metadata": {},
     "output_type": "display_data"
    },
    {
     "data": {
      "application/vnd.microsoft.datawrangler.viewer.v0+json": {
       "columns": [
        {
         "name": "index",
         "rawType": "object",
         "type": "string"
        },
        {
         "name": "This",
         "rawType": "object",
         "type": "unknown"
        },
        {
         "name": "Side",
         "rawType": "object",
         "type": "unknown"
        },
        {
         "name": "Nirav",
         "rawType": "object",
         "type": "unknown"
        }
       ],
       "ref": "3440c5cc-a49b-4907-83ec-1863d4d9874a",
       "rows": [
        [
         "indx",
         "dataframe",
         "Using",
         "List"
        ],
        [
         "indy",
         "10",
         "20",
         "30"
        ]
       ],
       "shape": {
        "columns": 3,
        "rows": 2
       }
      },
      "text/html": [
       "<div>\n",
       "<style scoped>\n",
       "    .dataframe tbody tr th:only-of-type {\n",
       "        vertical-align: middle;\n",
       "    }\n",
       "\n",
       "    .dataframe tbody tr th {\n",
       "        vertical-align: top;\n",
       "    }\n",
       "\n",
       "    .dataframe thead th {\n",
       "        text-align: right;\n",
       "    }\n",
       "</style>\n",
       "<table border=\"1\" class=\"dataframe\">\n",
       "  <thead>\n",
       "    <tr style=\"text-align: right;\">\n",
       "      <th></th>\n",
       "      <th>This</th>\n",
       "      <th>Side</th>\n",
       "      <th>Nirav</th>\n",
       "    </tr>\n",
       "  </thead>\n",
       "  <tbody>\n",
       "    <tr>\n",
       "      <th>indx</th>\n",
       "      <td>dataframe</td>\n",
       "      <td>Using</td>\n",
       "      <td>List</td>\n",
       "    </tr>\n",
       "    <tr>\n",
       "      <th>indy</th>\n",
       "      <td>10</td>\n",
       "      <td>20</td>\n",
       "      <td>30</td>\n",
       "    </tr>\n",
       "  </tbody>\n",
       "</table>\n",
       "</div>"
      ],
      "text/plain": [
       "           This   Side Nirav\n",
       "indx  dataframe  Using  List\n",
       "indy         10     20    30"
      ]
     },
     "metadata": {},
     "output_type": "display_data"
    }
   ],
   "source": [
    "# with two column indices, values same as ditionary keys\n",
    "\n",
    "df1 = pd.DataFrame(data, index=['ind1','ind2'],\n",
    "                   columns=['This', 'Side'])\n",
    "# With two column indices with one index with other name\n",
    "df2 = pd.DataFrame(data, index=['indx','indy'])\n",
    "display(df1)\n",
    "display(df2)"
   ]
  },
  {
   "cell_type": "markdown",
   "id": "97798d34",
   "metadata": {},
   "source": [
    " Convert list of nested dictionaries into Pandas dataframe \n",
    " * Using from_dict(orient='index')\n",
    " * Native methods"
   ]
  },
  {
   "cell_type": "code",
   "execution_count": null,
   "id": "af315a32",
   "metadata": {},
   "outputs": [
    {
     "data": {
      "application/vnd.microsoft.datawrangler.viewer.v0+json": {
       "columns": [
        {
         "name": "index",
         "rawType": "object",
         "type": "string"
        },
        {
         "name": "Country",
         "rawType": "object",
         "type": "string"
        },
        {
         "name": "Capital",
         "rawType": "object",
         "type": "string"
        },
        {
         "name": "Population",
         "rawType": "object",
         "type": "string"
        }
       ],
       "ref": "c61f8a7c-dc89-40e2-9ad5-134383a18410",
       "rows": [
        [
         "1",
         "New Country 1",
         "New Capital 1",
         "123,456,789"
        ],
        [
         "2",
         "New Country 2",
         "New Capital 2",
         "987,654,321"
        ],
        [
         "3",
         "New Country 3",
         "New Capital 3",
         "111,222,333"
        ]
       ],
       "shape": {
        "columns": 3,
        "rows": 3
       }
      },
      "text/html": [
       "<div>\n",
       "<style scoped>\n",
       "    .dataframe tbody tr th:only-of-type {\n",
       "        vertical-align: middle;\n",
       "    }\n",
       "\n",
       "    .dataframe tbody tr th {\n",
       "        vertical-align: top;\n",
       "    }\n",
       "\n",
       "    .dataframe thead th {\n",
       "        text-align: right;\n",
       "    }\n",
       "</style>\n",
       "<table border=\"1\" class=\"dataframe\">\n",
       "  <thead>\n",
       "    <tr style=\"text-align: right;\">\n",
       "      <th></th>\n",
       "      <th>Country</th>\n",
       "      <th>Capital</th>\n",
       "      <th>Population</th>\n",
       "    </tr>\n",
       "  </thead>\n",
       "  <tbody>\n",
       "    <tr>\n",
       "      <th>1</th>\n",
       "      <td>New Country 1</td>\n",
       "      <td>New Capital 1</td>\n",
       "      <td>123,456,789</td>\n",
       "    </tr>\n",
       "    <tr>\n",
       "      <th>2</th>\n",
       "      <td>New Country 2</td>\n",
       "      <td>New Capital 2</td>\n",
       "      <td>987,654,321</td>\n",
       "    </tr>\n",
       "    <tr>\n",
       "      <th>3</th>\n",
       "      <td>New Country 3</td>\n",
       "      <td>New Capital 3</td>\n",
       "      <td>111,222,333</td>\n",
       "    </tr>\n",
       "  </tbody>\n",
       "</table>\n",
       "</div>"
      ],
      "text/plain": [
       "         Country        Capital   Population\n",
       "1  New Country 1  New Capital 1  123,456,789\n",
       "2  New Country 2  New Capital 2  987,654,321\n",
       "3  New Country 3  New Capital 3  111,222,333"
      ]
     },
     "execution_count": 26,
     "metadata": {},
     "output_type": "execute_result"
    }
   ],
   "source": [
    "countries = {\n",
    "    \"1\": {\"Country\": \"New Country 1\",\n",
    "          \"Capital\": \"New Capital 1\",\n",
    "          \"Population\": \"123,456,789\"},\n",
    "    \"2\": {\"Country\": \"New Country 2\",\n",
    "          \"Capital\": \"New Capital 2\",\n",
    "          \"Population\": \"987,654,321\"},\n",
    "    \"3\": {\"Country\": \"New Country 3\",\n",
    "          \"Capital\": \"New Capital 3\",\n",
    "          \"Population\": \"111,222,333\"}\n",
    "}\n",
    "data = pd.DataFrame.from_dict(countries , orient='index')\n",
    "data"
   ]
  },
  {
   "cell_type": "code",
   "execution_count": null,
   "id": "a8186abf",
   "metadata": {},
   "outputs": [
    {
     "data": {
      "application/vnd.microsoft.datawrangler.viewer.v0+json": {
       "columns": [
        {
         "name": "index",
         "rawType": "int64",
         "type": "integer"
        },
        {
         "name": "Student",
         "rawType": "object",
         "type": "unknown"
        },
        {
         "name": "Name",
         "rawType": "object",
         "type": "string"
        }
       ],
       "ref": "7b15f3a9-16a1-4dd8-83f4-ec7d58c2aab2",
       "rows": [
        [
         "0",
         "[{'Exam': 90, 'Grade': 'a'}, {'Exam': 99, 'Grade': 'b'}, {'Exam': 97, 'Grade': 'c'}]",
         "Paras Jain"
        ],
        [
         "1",
         "[{'Exam': 89, 'Grade': 'a'}, {'Exam': 80, 'Grade': 'b'}]",
         "Chunky Pandey"
        ]
       ],
       "shape": {
        "columns": 2,
        "rows": 2
       }
      },
      "text/html": [
       "<div>\n",
       "<style scoped>\n",
       "    .dataframe tbody tr th:only-of-type {\n",
       "        vertical-align: middle;\n",
       "    }\n",
       "\n",
       "    .dataframe tbody tr th {\n",
       "        vertical-align: top;\n",
       "    }\n",
       "\n",
       "    .dataframe thead th {\n",
       "        text-align: right;\n",
       "    }\n",
       "</style>\n",
       "<table border=\"1\" class=\"dataframe\">\n",
       "  <thead>\n",
       "    <tr style=\"text-align: right;\">\n",
       "      <th></th>\n",
       "      <th>Student</th>\n",
       "      <th>Name</th>\n",
       "    </tr>\n",
       "  </thead>\n",
       "  <tbody>\n",
       "    <tr>\n",
       "      <th>0</th>\n",
       "      <td>[{'Exam': 90, 'Grade': 'a'}, {'Exam': 99, 'Gra...</td>\n",
       "      <td>Paras Jain</td>\n",
       "    </tr>\n",
       "    <tr>\n",
       "      <th>1</th>\n",
       "      <td>[{'Exam': 89, 'Grade': 'a'}, {'Exam': 80, 'Gra...</td>\n",
       "      <td>Chunky Pandey</td>\n",
       "    </tr>\n",
       "  </tbody>\n",
       "</table>\n",
       "</div>"
      ],
      "text/plain": [
       "                                             Student           Name\n",
       "0  [{'Exam': 90, 'Grade': 'a'}, {'Exam': 99, 'Gra...     Paras Jain\n",
       "1  [{'Exam': 89, 'Grade': 'a'}, {'Exam': 80, 'Gra...  Chunky Pandey"
      ]
     },
     "metadata": {},
     "output_type": "display_data"
    }
   ],
   "source": [
    "list = [{\n",
    "        \"Student\": [{\"Exam\": 90, \"Grade\": \"a\"},\n",
    "                    {\"Exam\": 99, \"Grade\": \"b\"},\n",
    "                    {\"Exam\": 97, \"Grade\": \"c\"},\n",
    "                    ],\n",
    "        \"Name\": \"Paras Jain\"\n",
    "        },\n",
    "        {\n",
    "        \"Student\": [{\"Exam\": 89, \"Grade\": \"a\"},\n",
    "                    {\"Exam\": 80, \"Grade\": \"b\"}\n",
    "                    ],\n",
    "        \"Name\": \"Chunky Pandey\"\n",
    "        }\n",
    "        ]\n",
    "\n",
    "data = pd.DataFrame.from_dict(list)\n",
    "display(data)\n",
    "\n"
   ]
  },
  {
   "cell_type": "code",
   "execution_count": null,
   "id": "2ad5c1e5",
   "metadata": {},
   "outputs": [
    {
     "name": "stdout",
     "output_type": "stream",
     "text": [
      "[{'Exam': 90, 'Grade': 'a', 'Name': 'Paras Jain'}, {'Exam': 99, 'Grade': 'b', 'Name': 'Paras Jain'}, {'Exam': 97, 'Grade': 'c', 'Name': 'Paras Jain'}, {'Exam': 89, 'Grade': 'a', 'Name': 'Chunky Pandey'}, {'Exam': 80, 'Grade': 'b', 'Name': 'Chunky Pandey'}]\n"
     ]
    }
   ],
   "source": [
    "rows = []\n",
    "\n",
    "for data in list:\n",
    "    data_row = data['Student']\n",
    "    time = data['Name']\n",
    "\n",
    "    for row in data_row:\n",
    "        row['Name'] = time\n",
    "        rows.append(row)\n",
    "print(rows)\n"
   ]
  },
  {
   "cell_type": "code",
   "execution_count": null,
   "id": "7f1747d3",
   "metadata": {},
   "outputs": [
    {
     "data": {
      "application/vnd.microsoft.datawrangler.viewer.v0+json": {
       "columns": [
        {
         "name": "index",
         "rawType": "int64",
         "type": "integer"
        },
        {
         "name": "Exam",
         "rawType": "int64",
         "type": "integer"
        },
        {
         "name": "Grade",
         "rawType": "object",
         "type": "string"
        },
        {
         "name": "Name",
         "rawType": "object",
         "type": "string"
        }
       ],
       "ref": "845b7781-5625-4b2a-8120-8f7b6af8664d",
       "rows": [
        [
         "0",
         "90",
         "a",
         "Paras Jain"
        ],
        [
         "1",
         "99",
         "b",
         "Paras Jain"
        ],
        [
         "2",
         "97",
         "c",
         "Paras Jain"
        ],
        [
         "3",
         "89",
         "a",
         "Chunky Pandey"
        ],
        [
         "4",
         "80",
         "b",
         "Chunky Pandey"
        ]
       ],
       "shape": {
        "columns": 3,
        "rows": 5
       }
      },
      "text/html": [
       "<div>\n",
       "<style scoped>\n",
       "    .dataframe tbody tr th:only-of-type {\n",
       "        vertical-align: middle;\n",
       "    }\n",
       "\n",
       "    .dataframe tbody tr th {\n",
       "        vertical-align: top;\n",
       "    }\n",
       "\n",
       "    .dataframe thead th {\n",
       "        text-align: right;\n",
       "    }\n",
       "</style>\n",
       "<table border=\"1\" class=\"dataframe\">\n",
       "  <thead>\n",
       "    <tr style=\"text-align: right;\">\n",
       "      <th></th>\n",
       "      <th>Exam</th>\n",
       "      <th>Grade</th>\n",
       "      <th>Name</th>\n",
       "    </tr>\n",
       "  </thead>\n",
       "  <tbody>\n",
       "    <tr>\n",
       "      <th>0</th>\n",
       "      <td>90</td>\n",
       "      <td>a</td>\n",
       "      <td>Paras Jain</td>\n",
       "    </tr>\n",
       "    <tr>\n",
       "      <th>1</th>\n",
       "      <td>99</td>\n",
       "      <td>b</td>\n",
       "      <td>Paras Jain</td>\n",
       "    </tr>\n",
       "    <tr>\n",
       "      <th>2</th>\n",
       "      <td>97</td>\n",
       "      <td>c</td>\n",
       "      <td>Paras Jain</td>\n",
       "    </tr>\n",
       "    <tr>\n",
       "      <th>3</th>\n",
       "      <td>89</td>\n",
       "      <td>a</td>\n",
       "      <td>Chunky Pandey</td>\n",
       "    </tr>\n",
       "    <tr>\n",
       "      <th>4</th>\n",
       "      <td>80</td>\n",
       "      <td>b</td>\n",
       "      <td>Chunky Pandey</td>\n",
       "    </tr>\n",
       "  </tbody>\n",
       "</table>\n",
       "</div>"
      ],
      "text/plain": [
       "   Exam Grade           Name\n",
       "0    90     a     Paras Jain\n",
       "1    99     b     Paras Jain\n",
       "2    97     c     Paras Jain\n",
       "3    89     a  Chunky Pandey\n",
       "4    80     b  Chunky Pandey"
      ]
     },
     "metadata": {},
     "output_type": "display_data"
    }
   ],
   "source": [
    "df = pd.DataFrame(rows)\n",
    "display(df)"
   ]
  },
  {
   "cell_type": "code",
   "execution_count": null,
   "id": "2b3ad8e3",
   "metadata": {},
   "outputs": [
    {
     "data": {
      "application/vnd.microsoft.datawrangler.viewer.v0+json": {
       "columns": [
        {
         "name": "Name",
         "rawType": "object",
         "type": "string"
        },
        {
         "name": "Exam",
         "rawType": "int64",
         "type": "integer"
        },
        {
         "name": "Grade",
         "rawType": "object",
         "type": "string"
        }
       ],
       "ref": "f98850ff-6f1a-41c7-99a5-1789773cc493",
       "rows": [
        [
         "Paras Jain",
         "90",
         "a"
        ],
        [
         "Paras Jain",
         "99",
         "b"
        ],
        [
         "Paras Jain",
         "97",
         "c"
        ],
        [
         "Chunky Pandey",
         "89",
         "a"
        ],
        [
         "Chunky Pandey",
         "80",
         "b"
        ]
       ],
       "shape": {
        "columns": 2,
        "rows": 5
       }
      },
      "text/html": [
       "<div>\n",
       "<style scoped>\n",
       "    .dataframe tbody tr th:only-of-type {\n",
       "        vertical-align: middle;\n",
       "    }\n",
       "\n",
       "    .dataframe tbody tr th {\n",
       "        vertical-align: top;\n",
       "    }\n",
       "\n",
       "    .dataframe thead th {\n",
       "        text-align: right;\n",
       "    }\n",
       "</style>\n",
       "<table border=\"1\" class=\"dataframe\">\n",
       "  <thead>\n",
       "    <tr style=\"text-align: right;\">\n",
       "      <th></th>\n",
       "      <th>Exam</th>\n",
       "      <th>Grade</th>\n",
       "    </tr>\n",
       "    <tr>\n",
       "      <th>Name</th>\n",
       "      <th></th>\n",
       "      <th></th>\n",
       "    </tr>\n",
       "  </thead>\n",
       "  <tbody>\n",
       "    <tr>\n",
       "      <th>Paras Jain</th>\n",
       "      <td>90</td>\n",
       "      <td>a</td>\n",
       "    </tr>\n",
       "    <tr>\n",
       "      <th>Paras Jain</th>\n",
       "      <td>99</td>\n",
       "      <td>b</td>\n",
       "    </tr>\n",
       "    <tr>\n",
       "      <th>Paras Jain</th>\n",
       "      <td>97</td>\n",
       "      <td>c</td>\n",
       "    </tr>\n",
       "    <tr>\n",
       "      <th>Chunky Pandey</th>\n",
       "      <td>89</td>\n",
       "      <td>a</td>\n",
       "    </tr>\n",
       "    <tr>\n",
       "      <th>Chunky Pandey</th>\n",
       "      <td>80</td>\n",
       "      <td>b</td>\n",
       "    </tr>\n",
       "  </tbody>\n",
       "</table>\n",
       "</div>"
      ],
      "text/plain": [
       "               Exam Grade\n",
       "Name                     \n",
       "Paras Jain       90     a\n",
       "Paras Jain       99     b\n",
       "Paras Jain       97     c\n",
       "Chunky Pandey    89     a\n",
       "Chunky Pandey    80     b"
      ]
     },
     "metadata": {},
     "output_type": "display_data"
    }
   ],
   "source": [
    "df.set_index('Name', inplace =  True) # to make column name in index\n",
    "display(df)"
   ]
  },
  {
   "cell_type": "code",
   "execution_count": null,
   "id": "6024d181",
   "metadata": {},
   "outputs": [
    {
     "name": "stdout",
     "output_type": "stream",
     "text": [
      "            NAME  Maths  Physics  Chemistry\n",
      "0  Chunky Pandey   89.0     80.0        NaN\n",
      "1     Paras Jain   90.0     99.0       97.0\n"
     ]
    }
   ],
   "source": [
    "# Using pivot-table\n",
    "df = df.pivot_table(index='Name', columns=['Grade'],\n",
    "                    values=['Exam']).reset_index()\n",
    "\n",
    "df.columns=['NAME','Maths','Physics','Chemistry']\n",
    "\n",
    "print(df)"
   ]
  },
  {
   "cell_type": "code",
   "execution_count": null,
   "id": "bc4b5596",
   "metadata": {},
   "outputs": [
    {
     "data": {
      "application/vnd.microsoft.datawrangler.viewer.v0+json": {
       "columns": [
        {
         "name": "index",
         "rawType": "int64",
         "type": "integer"
        },
        {
         "name": "City",
         "rawType": "object",
         "type": "string"
        },
        {
         "name": "Event",
         "rawType": "object",
         "type": "string"
        },
        {
         "name": "Cost",
         "rawType": "int64",
         "type": "integer"
        }
       ],
       "ref": "91d4c62e-cfcf-415b-9576-b17c1b2a4966",
       "rows": [
        [
         "0",
         "New York",
         "Music",
         "10000"
        ],
        [
         "1",
         "Parague",
         "Poetry",
         "5000"
        ],
        [
         "2",
         "New Delhi",
         "Theatre",
         "15000"
        ],
        [
         "3",
         "Venice",
         "Comedy",
         "2000"
        ],
        [
         "4",
         "new Orleans",
         "Tech_Summit",
         "12000"
        ]
       ],
       "shape": {
        "columns": 3,
        "rows": 5
       }
      },
      "text/html": [
       "<div>\n",
       "<style scoped>\n",
       "    .dataframe tbody tr th:only-of-type {\n",
       "        vertical-align: middle;\n",
       "    }\n",
       "\n",
       "    .dataframe tbody tr th {\n",
       "        vertical-align: top;\n",
       "    }\n",
       "\n",
       "    .dataframe thead th {\n",
       "        text-align: right;\n",
       "    }\n",
       "</style>\n",
       "<table border=\"1\" class=\"dataframe\">\n",
       "  <thead>\n",
       "    <tr style=\"text-align: right;\">\n",
       "      <th></th>\n",
       "      <th>City</th>\n",
       "      <th>Event</th>\n",
       "      <th>Cost</th>\n",
       "    </tr>\n",
       "  </thead>\n",
       "  <tbody>\n",
       "    <tr>\n",
       "      <th>0</th>\n",
       "      <td>New York</td>\n",
       "      <td>Music</td>\n",
       "      <td>10000</td>\n",
       "    </tr>\n",
       "    <tr>\n",
       "      <th>1</th>\n",
       "      <td>Parague</td>\n",
       "      <td>Poetry</td>\n",
       "      <td>5000</td>\n",
       "    </tr>\n",
       "    <tr>\n",
       "      <th>2</th>\n",
       "      <td>New Delhi</td>\n",
       "      <td>Theatre</td>\n",
       "      <td>15000</td>\n",
       "    </tr>\n",
       "    <tr>\n",
       "      <th>3</th>\n",
       "      <td>Venice</td>\n",
       "      <td>Comedy</td>\n",
       "      <td>2000</td>\n",
       "    </tr>\n",
       "    <tr>\n",
       "      <th>4</th>\n",
       "      <td>new Orleans</td>\n",
       "      <td>Tech_Summit</td>\n",
       "      <td>12000</td>\n",
       "    </tr>\n",
       "  </tbody>\n",
       "</table>\n",
       "</div>"
      ],
      "text/plain": [
       "          City        Event   Cost\n",
       "0     New York        Music  10000\n",
       "1      Parague       Poetry   5000\n",
       "2    New Delhi      Theatre  15000\n",
       "3       Venice       Comedy   2000\n",
       "4  new Orleans  Tech_Summit  12000"
      ]
     },
     "metadata": {},
     "output_type": "display_data"
    }
   ],
   "source": [
    "df = pd.DataFrame({'City':['New York', 'Parague', 'New Delhi', 'Venice', 'new Orleans'],\n",
    "                    'Event':['Music', 'Poetry', 'Theatre', 'Comedy', 'Tech_Summit'],\n",
    "                    'Cost':[10000, 5000, 15000, 2000, 12000]})\n",
    "display(df)"
   ]
  },
  {
   "cell_type": "code",
   "execution_count": null,
   "id": "ea45ece9",
   "metadata": {},
   "outputs": [
    {
     "data": {
      "application/vnd.microsoft.datawrangler.viewer.v0+json": {
       "columns": [
        {
         "name": "index",
         "rawType": "period[M]",
         "type": "unknown"
        },
        {
         "name": "City",
         "rawType": "object",
         "type": "string"
        },
        {
         "name": "Event",
         "rawType": "object",
         "type": "string"
        },
        {
         "name": "Cost",
         "rawType": "int64",
         "type": "integer"
        }
       ],
       "ref": "4a315f0e-3772-4bd6-8ffd-759503d6eb8b",
       "rows": [
        [
         "2018-02",
         "New York",
         "Music",
         "10000"
        ],
        [
         "2018-04",
         "Parague",
         "Poetry",
         "5000"
        ],
        [
         "2018-06",
         "New Delhi",
         "Theatre",
         "15000"
        ],
        [
         "2018-10",
         "Venice",
         "Comedy",
         "2000"
        ],
        [
         "2018-12",
         "new Orleans",
         "Tech_Summit",
         "12000"
        ]
       ],
       "shape": {
        "columns": 3,
        "rows": 5
       }
      },
      "text/html": [
       "<div>\n",
       "<style scoped>\n",
       "    .dataframe tbody tr th:only-of-type {\n",
       "        vertical-align: middle;\n",
       "    }\n",
       "\n",
       "    .dataframe tbody tr th {\n",
       "        vertical-align: top;\n",
       "    }\n",
       "\n",
       "    .dataframe thead th {\n",
       "        text-align: right;\n",
       "    }\n",
       "</style>\n",
       "<table border=\"1\" class=\"dataframe\">\n",
       "  <thead>\n",
       "    <tr style=\"text-align: right;\">\n",
       "      <th></th>\n",
       "      <th>City</th>\n",
       "      <th>Event</th>\n",
       "      <th>Cost</th>\n",
       "    </tr>\n",
       "  </thead>\n",
       "  <tbody>\n",
       "    <tr>\n",
       "      <th>2018-02</th>\n",
       "      <td>New York</td>\n",
       "      <td>Music</td>\n",
       "      <td>10000</td>\n",
       "    </tr>\n",
       "    <tr>\n",
       "      <th>2018-04</th>\n",
       "      <td>Parague</td>\n",
       "      <td>Poetry</td>\n",
       "      <td>5000</td>\n",
       "    </tr>\n",
       "    <tr>\n",
       "      <th>2018-06</th>\n",
       "      <td>New Delhi</td>\n",
       "      <td>Theatre</td>\n",
       "      <td>15000</td>\n",
       "    </tr>\n",
       "    <tr>\n",
       "      <th>2018-10</th>\n",
       "      <td>Venice</td>\n",
       "      <td>Comedy</td>\n",
       "      <td>2000</td>\n",
       "    </tr>\n",
       "    <tr>\n",
       "      <th>2018-12</th>\n",
       "      <td>new Orleans</td>\n",
       "      <td>Tech_Summit</td>\n",
       "      <td>12000</td>\n",
       "    </tr>\n",
       "  </tbody>\n",
       "</table>\n",
       "</div>"
      ],
      "text/plain": [
       "                City        Event   Cost\n",
       "2018-02     New York        Music  10000\n",
       "2018-04      Parague       Poetry   5000\n",
       "2018-06    New Delhi      Theatre  15000\n",
       "2018-10       Venice       Comedy   2000\n",
       "2018-12  new Orleans  Tech_Summit  12000"
      ]
     },
     "metadata": {},
     "output_type": "display_data"
    }
   ],
   "source": [
    "index_ = [pd.Period('02-2018', freq='M'), pd.Period('04-2018', freq='M'),\n",
    "          pd.Period('06-2018', freq='M'), pd.Period('10-2018', freq='M'), pd.Period('12-2018', freq='M')]\n",
    "\n",
    "df.index = index_\n",
    "\n",
    "display(df)"
   ]
  },
  {
   "cell_type": "code",
   "execution_count": null,
   "id": "b022d073",
   "metadata": {},
   "outputs": [
    {
     "data": {
      "application/vnd.microsoft.datawrangler.viewer.v0+json": {
       "columns": [
        {
         "name": "index",
         "rawType": "period[M]",
         "type": "unknown"
        },
        {
         "name": "City",
         "rawType": "object",
         "type": "string"
        },
        {
         "name": "Event",
         "rawType": "object",
         "type": "string"
        },
        {
         "name": "Cost",
         "rawType": "int64",
         "type": "integer"
        }
       ],
       "ref": "c55415d4-e8bd-4e8b-bf06-7fef98f9daa9",
       "rows": [
        [
         "2018-02",
         "New_ York",
         "Music",
         "10000"
        ],
        [
         "2018-04",
         "Parague",
         "Poetry",
         "5000"
        ],
        [
         "2018-06",
         "New_ Delhi",
         "Theatre",
         "15000"
        ],
        [
         "2018-10",
         "Venice",
         "Comedy",
         "2000"
        ],
        [
         "2018-12",
         "New_ Orleans",
         "Tech_Summit",
         "12000"
        ]
       ],
       "shape": {
        "columns": 3,
        "rows": 5
       }
      },
      "text/html": [
       "<div>\n",
       "<style scoped>\n",
       "    .dataframe tbody tr th:only-of-type {\n",
       "        vertical-align: middle;\n",
       "    }\n",
       "\n",
       "    .dataframe tbody tr th {\n",
       "        vertical-align: top;\n",
       "    }\n",
       "\n",
       "    .dataframe thead th {\n",
       "        text-align: right;\n",
       "    }\n",
       "</style>\n",
       "<table border=\"1\" class=\"dataframe\">\n",
       "  <thead>\n",
       "    <tr style=\"text-align: right;\">\n",
       "      <th></th>\n",
       "      <th>City</th>\n",
       "      <th>Event</th>\n",
       "      <th>Cost</th>\n",
       "    </tr>\n",
       "  </thead>\n",
       "  <tbody>\n",
       "    <tr>\n",
       "      <th>2018-02</th>\n",
       "      <td>New_ York</td>\n",
       "      <td>Music</td>\n",
       "      <td>10000</td>\n",
       "    </tr>\n",
       "    <tr>\n",
       "      <th>2018-04</th>\n",
       "      <td>Parague</td>\n",
       "      <td>Poetry</td>\n",
       "      <td>5000</td>\n",
       "    </tr>\n",
       "    <tr>\n",
       "      <th>2018-06</th>\n",
       "      <td>New_ Delhi</td>\n",
       "      <td>Theatre</td>\n",
       "      <td>15000</td>\n",
       "    </tr>\n",
       "    <tr>\n",
       "      <th>2018-10</th>\n",
       "      <td>Venice</td>\n",
       "      <td>Comedy</td>\n",
       "      <td>2000</td>\n",
       "    </tr>\n",
       "    <tr>\n",
       "      <th>2018-12</th>\n",
       "      <td>New_ Orleans</td>\n",
       "      <td>Tech_Summit</td>\n",
       "      <td>12000</td>\n",
       "    </tr>\n",
       "  </tbody>\n",
       "</table>\n",
       "</div>"
      ],
      "text/plain": [
       "                 City        Event   Cost\n",
       "2018-02     New_ York        Music  10000\n",
       "2018-04       Parague       Poetry   5000\n",
       "2018-06    New_ Delhi      Theatre  15000\n",
       "2018-10        Venice       Comedy   2000\n",
       "2018-12  New_ Orleans  Tech_Summit  12000"
      ]
     },
     "execution_count": 35,
     "metadata": {},
     "output_type": "execute_result"
    }
   ],
   "source": [
    "df['City'] = df['City'].replace('[nN]ew',  'New_', regex=True)\n",
    "df"
   ]
  },
  {
   "cell_type": "code",
   "execution_count": null,
   "id": "2b09b61c",
   "metadata": {},
   "outputs": [
    {
     "data": {
      "application/vnd.microsoft.datawrangler.viewer.v0+json": {
       "columns": [
        {
         "name": "index",
         "rawType": "int64",
         "type": "integer"
        },
        {
         "name": "Date",
         "rawType": "object",
         "type": "string"
        },
        {
         "name": "Product",
         "rawType": "object",
         "type": "string"
        },
        {
         "name": "Updated_Price",
         "rawType": "int64",
         "type": "integer"
        },
        {
         "name": "Discount",
         "rawType": "int64",
         "type": "integer"
        }
       ],
       "ref": "e5af8948-864f-4e37-8bcf-18db2987c9fd",
       "rows": [
        [
         "0",
         "10/2/2011",
         " UMbreLla",
         "1250",
         "10"
        ],
        [
         "1",
         "11/2/2011",
         "  maTtress",
         "1450",
         "8"
        ],
        [
         "2",
         "12/2/2011",
         "BaDmintoN ",
         "1550",
         "15"
        ],
        [
         "3",
         "13/2/2011",
         "Shuttle",
         "400",
         "10"
        ]
       ],
       "shape": {
        "columns": 4,
        "rows": 4
       }
      },
      "text/html": [
       "<div>\n",
       "<style scoped>\n",
       "    .dataframe tbody tr th:only-of-type {\n",
       "        vertical-align: middle;\n",
       "    }\n",
       "\n",
       "    .dataframe tbody tr th {\n",
       "        vertical-align: top;\n",
       "    }\n",
       "\n",
       "    .dataframe thead th {\n",
       "        text-align: right;\n",
       "    }\n",
       "</style>\n",
       "<table border=\"1\" class=\"dataframe\">\n",
       "  <thead>\n",
       "    <tr style=\"text-align: right;\">\n",
       "      <th></th>\n",
       "      <th>Date</th>\n",
       "      <th>Product</th>\n",
       "      <th>Updated_Price</th>\n",
       "      <th>Discount</th>\n",
       "    </tr>\n",
       "  </thead>\n",
       "  <tbody>\n",
       "    <tr>\n",
       "      <th>0</th>\n",
       "      <td>10/2/2011</td>\n",
       "      <td>UMbreLla</td>\n",
       "      <td>1250</td>\n",
       "      <td>10</td>\n",
       "    </tr>\n",
       "    <tr>\n",
       "      <th>1</th>\n",
       "      <td>11/2/2011</td>\n",
       "      <td>maTtress</td>\n",
       "      <td>1450</td>\n",
       "      <td>8</td>\n",
       "    </tr>\n",
       "    <tr>\n",
       "      <th>2</th>\n",
       "      <td>12/2/2011</td>\n",
       "      <td>BaDmintoN</td>\n",
       "      <td>1550</td>\n",
       "      <td>15</td>\n",
       "    </tr>\n",
       "    <tr>\n",
       "      <th>3</th>\n",
       "      <td>13/2/2011</td>\n",
       "      <td>Shuttle</td>\n",
       "      <td>400</td>\n",
       "      <td>10</td>\n",
       "    </tr>\n",
       "  </tbody>\n",
       "</table>\n",
       "</div>"
      ],
      "text/plain": [
       "        Date     Product  Updated_Price  Discount\n",
       "0  10/2/2011    UMbreLla           1250        10\n",
       "1  11/2/2011    maTtress           1450         8\n",
       "2  12/2/2011  BaDmintoN            1550        15\n",
       "3  13/2/2011     Shuttle            400        10"
      ]
     },
     "execution_count": 36,
     "metadata": {},
     "output_type": "execute_result"
    }
   ],
   "source": [
    "\n",
    "df = pd.DataFrame({'Date':['10/2/2011', '11/2/2011', '12/2/2011', '13/2/2011'],\n",
    "                   'Product':[' UMbreLla', '  maTtress', 'BaDmintoN ', 'Shuttle'],\n",
    "                   'Updated_Price':[1250, 1450, 1550, 400],\n",
    "                   'Discount':[10, 8, 15, 10]})\n",
    "\n",
    "df"
   ]
  },
  {
   "cell_type": "code",
   "execution_count": null,
   "id": "022c210a",
   "metadata": {},
   "outputs": [
    {
     "data": {
      "application/vnd.microsoft.datawrangler.viewer.v0+json": {
       "columns": [
        {
         "name": "index",
         "rawType": "int64",
         "type": "integer"
        },
        {
         "name": "Date",
         "rawType": "object",
         "type": "string"
        },
        {
         "name": "Product",
         "rawType": "object",
         "type": "string"
        },
        {
         "name": "Updated_Price",
         "rawType": "int64",
         "type": "integer"
        },
        {
         "name": "Discount",
         "rawType": "int64",
         "type": "integer"
        }
       ],
       "ref": "a14a31ba-f5b2-4883-b5aa-e69025bcb3b1",
       "rows": [
        [
         "0",
         "10/2/2011",
         "Umbrella",
         "1250",
         "10"
        ],
        [
         "1",
         "11/2/2011",
         "Mattress",
         "1450",
         "8"
        ],
        [
         "2",
         "12/2/2011",
         "Badminton",
         "1550",
         "15"
        ],
        [
         "3",
         "13/2/2011",
         "Shuttle",
         "400",
         "10"
        ]
       ],
       "shape": {
        "columns": 4,
        "rows": 4
       }
      },
      "text/html": [
       "<div>\n",
       "<style scoped>\n",
       "    .dataframe tbody tr th:only-of-type {\n",
       "        vertical-align: middle;\n",
       "    }\n",
       "\n",
       "    .dataframe tbody tr th {\n",
       "        vertical-align: top;\n",
       "    }\n",
       "\n",
       "    .dataframe thead th {\n",
       "        text-align: right;\n",
       "    }\n",
       "</style>\n",
       "<table border=\"1\" class=\"dataframe\">\n",
       "  <thead>\n",
       "    <tr style=\"text-align: right;\">\n",
       "      <th></th>\n",
       "      <th>Date</th>\n",
       "      <th>Product</th>\n",
       "      <th>Updated_Price</th>\n",
       "      <th>Discount</th>\n",
       "    </tr>\n",
       "  </thead>\n",
       "  <tbody>\n",
       "    <tr>\n",
       "      <th>0</th>\n",
       "      <td>10/2/2011</td>\n",
       "      <td>Umbrella</td>\n",
       "      <td>1250</td>\n",
       "      <td>10</td>\n",
       "    </tr>\n",
       "    <tr>\n",
       "      <th>1</th>\n",
       "      <td>11/2/2011</td>\n",
       "      <td>Mattress</td>\n",
       "      <td>1450</td>\n",
       "      <td>8</td>\n",
       "    </tr>\n",
       "    <tr>\n",
       "      <th>2</th>\n",
       "      <td>12/2/2011</td>\n",
       "      <td>Badminton</td>\n",
       "      <td>1550</td>\n",
       "      <td>15</td>\n",
       "    </tr>\n",
       "    <tr>\n",
       "      <th>3</th>\n",
       "      <td>13/2/2011</td>\n",
       "      <td>Shuttle</td>\n",
       "      <td>400</td>\n",
       "      <td>10</td>\n",
       "    </tr>\n",
       "  </tbody>\n",
       "</table>\n",
       "</div>"
      ],
      "text/plain": [
       "        Date    Product  Updated_Price  Discount\n",
       "0  10/2/2011   Umbrella           1250        10\n",
       "1  11/2/2011   Mattress           1450         8\n",
       "2  12/2/2011  Badminton           1550        15\n",
       "3  13/2/2011    Shuttle            400        10"
      ]
     },
     "execution_count": 37,
     "metadata": {},
     "output_type": "execute_result"
    }
   ],
   "source": [
    "df['Product'] = df['Product'].apply(lambda x : x.strip().capitalize())\n",
    "df"
   ]
  },
  {
   "cell_type": "code",
   "execution_count": null,
   "id": "11a6f36b",
   "metadata": {},
   "outputs": [
    {
     "data": {
      "application/vnd.microsoft.datawrangler.viewer.v0+json": {
       "columns": [
        {
         "name": "index",
         "rawType": "int64",
         "type": "integer"
        },
        {
         "name": "Date",
         "rawType": "datetime64[ns]",
         "type": "datetime"
        },
        {
         "name": "Product",
         "rawType": "object",
         "type": "string"
        },
        {
         "name": "Updated_Price",
         "rawType": "int64",
         "type": "integer"
        },
        {
         "name": "Discount",
         "rawType": "int64",
         "type": "integer"
        }
       ],
       "ref": "a047ca69-3038-446b-b2a7-ed1b75bfc86f",
       "rows": [
        [
         "0",
         "2011-02-10 00:00:00",
         "Umbrella",
         "1250",
         "10"
        ],
        [
         "1",
         "2011-02-11 00:00:00",
         "Mattress",
         "1450",
         "8"
        ],
        [
         "2",
         "2011-02-12 00:00:00",
         "Badminton",
         "1550",
         "15"
        ],
        [
         "3",
         "2011-02-13 00:00:00",
         "Shuttle",
         "400",
         "10"
        ]
       ],
       "shape": {
        "columns": 4,
        "rows": 4
       }
      },
      "text/html": [
       "<div>\n",
       "<style scoped>\n",
       "    .dataframe tbody tr th:only-of-type {\n",
       "        vertical-align: middle;\n",
       "    }\n",
       "\n",
       "    .dataframe tbody tr th {\n",
       "        vertical-align: top;\n",
       "    }\n",
       "\n",
       "    .dataframe thead th {\n",
       "        text-align: right;\n",
       "    }\n",
       "</style>\n",
       "<table border=\"1\" class=\"dataframe\">\n",
       "  <thead>\n",
       "    <tr style=\"text-align: right;\">\n",
       "      <th></th>\n",
       "      <th>Date</th>\n",
       "      <th>Product</th>\n",
       "      <th>Updated_Price</th>\n",
       "      <th>Discount</th>\n",
       "    </tr>\n",
       "  </thead>\n",
       "  <tbody>\n",
       "    <tr>\n",
       "      <th>0</th>\n",
       "      <td>2011-02-10</td>\n",
       "      <td>Umbrella</td>\n",
       "      <td>1250</td>\n",
       "      <td>10</td>\n",
       "    </tr>\n",
       "    <tr>\n",
       "      <th>1</th>\n",
       "      <td>2011-02-11</td>\n",
       "      <td>Mattress</td>\n",
       "      <td>1450</td>\n",
       "      <td>8</td>\n",
       "    </tr>\n",
       "    <tr>\n",
       "      <th>2</th>\n",
       "      <td>2011-02-12</td>\n",
       "      <td>Badminton</td>\n",
       "      <td>1550</td>\n",
       "      <td>15</td>\n",
       "    </tr>\n",
       "    <tr>\n",
       "      <th>3</th>\n",
       "      <td>2011-02-13</td>\n",
       "      <td>Shuttle</td>\n",
       "      <td>400</td>\n",
       "      <td>10</td>\n",
       "    </tr>\n",
       "  </tbody>\n",
       "</table>\n",
       "</div>"
      ],
      "text/plain": [
       "        Date    Product  Updated_Price  Discount\n",
       "0 2011-02-10   Umbrella           1250        10\n",
       "1 2011-02-11   Mattress           1450         8\n",
       "2 2011-02-12  Badminton           1550        15\n",
       "3 2011-02-13    Shuttle            400        10"
      ]
     },
     "metadata": {},
     "output_type": "display_data"
    }
   ],
   "source": [
    "df['Date'] = pd.to_datetime(df['Date'], errors='coerce')\n",
    "display(df)"
   ]
  },
  {
   "cell_type": "code",
   "execution_count": null,
   "id": "a0476875",
   "metadata": {},
   "outputs": [
    {
     "data": {
      "application/vnd.microsoft.datawrangler.viewer.v0+json": {
       "columns": [
        {
         "name": "index",
         "rawType": "int64",
         "type": "integer"
        },
        {
         "name": "Date",
         "rawType": "object",
         "type": "unknown"
        },
        {
         "name": "Product",
         "rawType": "object",
         "type": "unknown"
        },
        {
         "name": "Updated_Price",
         "rawType": "int64",
         "type": "integer"
        },
        {
         "name": "Discount",
         "rawType": "int64",
         "type": "integer"
        },
        {
         "name": "Temp",
         "rawType": "int64",
         "type": "integer"
        }
       ],
       "ref": "23a162b2-01ff-4aaf-95dc-c391b92075d7",
       "rows": [
        [
         "3",
         "2011-02-13 00:00:00",
         "Shuttle",
         "400",
         "10",
         "0"
        ],
        [
         "0",
         "2011-02-10 00:00:00",
         "Umbrella",
         "1250",
         "10",
         "0"
        ],
        [
         "2",
         "2011-02-12 00:00:00",
         "Badminton",
         "1550",
         "15",
         "0"
        ],
        [
         "5",
         "0",
         "0",
         "0",
         "0",
         "0"
        ],
        [
         "1",
         "2011-02-11 00:00:00",
         "Mattress",
         "1450",
         "8",
         "0"
        ]
       ],
       "shape": {
        "columns": 5,
        "rows": 5
       }
      },
      "text/html": [
       "<div>\n",
       "<style scoped>\n",
       "    .dataframe tbody tr th:only-of-type {\n",
       "        vertical-align: middle;\n",
       "    }\n",
       "\n",
       "    .dataframe tbody tr th {\n",
       "        vertical-align: top;\n",
       "    }\n",
       "\n",
       "    .dataframe thead th {\n",
       "        text-align: right;\n",
       "    }\n",
       "</style>\n",
       "<table border=\"1\" class=\"dataframe\">\n",
       "  <thead>\n",
       "    <tr style=\"text-align: right;\">\n",
       "      <th></th>\n",
       "      <th>Date</th>\n",
       "      <th>Product</th>\n",
       "      <th>Updated_Price</th>\n",
       "      <th>Discount</th>\n",
       "      <th>Temp</th>\n",
       "    </tr>\n",
       "  </thead>\n",
       "  <tbody>\n",
       "    <tr>\n",
       "      <th>3</th>\n",
       "      <td>2011-02-13 00:00:00</td>\n",
       "      <td>Shuttle</td>\n",
       "      <td>400</td>\n",
       "      <td>10</td>\n",
       "      <td>0</td>\n",
       "    </tr>\n",
       "    <tr>\n",
       "      <th>0</th>\n",
       "      <td>2011-02-10 00:00:00</td>\n",
       "      <td>Umbrella</td>\n",
       "      <td>1250</td>\n",
       "      <td>10</td>\n",
       "      <td>0</td>\n",
       "    </tr>\n",
       "    <tr>\n",
       "      <th>2</th>\n",
       "      <td>2011-02-12 00:00:00</td>\n",
       "      <td>Badminton</td>\n",
       "      <td>1550</td>\n",
       "      <td>15</td>\n",
       "      <td>0</td>\n",
       "    </tr>\n",
       "    <tr>\n",
       "      <th>5</th>\n",
       "      <td>0</td>\n",
       "      <td>0</td>\n",
       "      <td>0</td>\n",
       "      <td>0</td>\n",
       "      <td>0</td>\n",
       "    </tr>\n",
       "    <tr>\n",
       "      <th>1</th>\n",
       "      <td>2011-02-11 00:00:00</td>\n",
       "      <td>Mattress</td>\n",
       "      <td>1450</td>\n",
       "      <td>8</td>\n",
       "      <td>0</td>\n",
       "    </tr>\n",
       "  </tbody>\n",
       "</table>\n",
       "</div>"
      ],
      "text/plain": [
       "                  Date    Product  Updated_Price  Discount  Temp\n",
       "3  2011-02-13 00:00:00    Shuttle            400        10     0\n",
       "0  2011-02-10 00:00:00   Umbrella           1250        10     0\n",
       "2  2011-02-12 00:00:00  Badminton           1550        15     0\n",
       "5                    0          0              0         0     0\n",
       "1  2011-02-11 00:00:00   Mattress           1450         8     0"
      ]
     },
     "metadata": {},
     "output_type": "display_data"
    }
   ],
   "source": [
    "new_index = [3,0,2,5,1]\n",
    "new_co_index = ['Date', 'Product', 'Updated_Price', 'Discount','Temp']\n",
    "a = df.reindex(new_index,columns=new_co_index, fill_value=0)\n",
    "display(a)"
   ]
  },
  {
   "cell_type": "code",
   "execution_count": null,
   "id": "50fceff6",
   "metadata": {},
   "outputs": [
    {
     "data": {
      "application/vnd.microsoft.datawrangler.viewer.v0+json": {
       "columns": [
        {
         "name": "index",
         "rawType": "int64",
         "type": "integer"
        },
        {
         "name": "Date",
         "rawType": "object",
         "type": "unknown"
        },
        {
         "name": "Product",
         "rawType": "object",
         "type": "string"
        },
        {
         "name": "Updated_Price",
         "rawType": "object",
         "type": "unknown"
        },
        {
         "name": "Discount",
         "rawType": "object",
         "type": "unknown"
        },
        {
         "name": "Temp",
         "rawType": "object",
         "type": "unknown"
        }
       ],
       "ref": "c1267a0c-06eb-4dfe-9faf-a405b2578a2f",
       "rows": [
        [
         "3",
         "2011-02-13 00:00:00",
         "Shuttle",
         "400.0",
         "10.0",
         "10.0"
        ],
        [
         "0",
         "2011-02-10 00:00:00",
         "Umbrella",
         "1250.0",
         "10.0",
         "10.0"
        ],
        [
         "2",
         "2011-02-12 00:00:00",
         "Badminton",
         "1550.0",
         "15.0",
         "15.0"
        ],
        [
         "5",
         "2011-02-12 00:00:00",
         "Badminton",
         "1550.0",
         "15.0",
         "15.0"
        ],
        [
         "1",
         "2011-02-11 00:00:00",
         "Mattress",
         "1450.0",
         "8.0",
         "8.0"
        ]
       ],
       "shape": {
        "columns": 5,
        "rows": 5
       }
      },
      "text/html": [
       "<div>\n",
       "<style scoped>\n",
       "    .dataframe tbody tr th:only-of-type {\n",
       "        vertical-align: middle;\n",
       "    }\n",
       "\n",
       "    .dataframe tbody tr th {\n",
       "        vertical-align: top;\n",
       "    }\n",
       "\n",
       "    .dataframe thead th {\n",
       "        text-align: right;\n",
       "    }\n",
       "</style>\n",
       "<table border=\"1\" class=\"dataframe\">\n",
       "  <thead>\n",
       "    <tr style=\"text-align: right;\">\n",
       "      <th></th>\n",
       "      <th>Date</th>\n",
       "      <th>Product</th>\n",
       "      <th>Updated_Price</th>\n",
       "      <th>Discount</th>\n",
       "      <th>Temp</th>\n",
       "    </tr>\n",
       "  </thead>\n",
       "  <tbody>\n",
       "    <tr>\n",
       "      <th>3</th>\n",
       "      <td>2011-02-13 00:00:00</td>\n",
       "      <td>Shuttle</td>\n",
       "      <td>400.0</td>\n",
       "      <td>10.0</td>\n",
       "      <td>10.0</td>\n",
       "    </tr>\n",
       "    <tr>\n",
       "      <th>0</th>\n",
       "      <td>2011-02-10 00:00:00</td>\n",
       "      <td>Umbrella</td>\n",
       "      <td>1250.0</td>\n",
       "      <td>10.0</td>\n",
       "      <td>10.0</td>\n",
       "    </tr>\n",
       "    <tr>\n",
       "      <th>2</th>\n",
       "      <td>2011-02-12 00:00:00</td>\n",
       "      <td>Badminton</td>\n",
       "      <td>1550.0</td>\n",
       "      <td>15.0</td>\n",
       "      <td>15.0</td>\n",
       "    </tr>\n",
       "    <tr>\n",
       "      <th>5</th>\n",
       "      <td>2011-02-12 00:00:00</td>\n",
       "      <td>Badminton</td>\n",
       "      <td>1550.0</td>\n",
       "      <td>15.0</td>\n",
       "      <td>15.0</td>\n",
       "    </tr>\n",
       "    <tr>\n",
       "      <th>1</th>\n",
       "      <td>2011-02-11 00:00:00</td>\n",
       "      <td>Mattress</td>\n",
       "      <td>1450.0</td>\n",
       "      <td>8.0</td>\n",
       "      <td>8.0</td>\n",
       "    </tr>\n",
       "  </tbody>\n",
       "</table>\n",
       "</div>"
      ],
      "text/plain": [
       "                  Date    Product Updated_Price Discount  Temp\n",
       "3  2011-02-13 00:00:00    Shuttle         400.0     10.0  10.0\n",
       "0  2011-02-10 00:00:00   Umbrella        1250.0     10.0  10.0\n",
       "2  2011-02-12 00:00:00  Badminton        1550.0     15.0  15.0\n",
       "5  2011-02-12 00:00:00  Badminton        1550.0     15.0  15.0\n",
       "1  2011-02-11 00:00:00   Mattress        1450.0      8.0   8.0"
      ]
     },
     "metadata": {},
     "output_type": "display_data"
    }
   ],
   "source": [
    "a_temp = df.reindex(new_index, columns=new_co_index)\n",
    "a_fill = a_temp.ffill()\n",
    "a_fill = a_fill.ffill(axis=1)\n",
    "display(a_fill)"
   ]
  },
  {
   "cell_type": "code",
   "execution_count": null,
   "id": "2bdb4207",
   "metadata": {},
   "outputs": [
    {
     "data": {
      "application/vnd.microsoft.datawrangler.viewer.v0+json": {
       "columns": [
        {
         "name": "index",
         "rawType": "int64",
         "type": "integer"
        },
        {
         "name": "First_name",
         "rawType": "object",
         "type": "string"
        },
        {
         "name": "Last_name",
         "rawType": "object",
         "type": "string"
        },
        {
         "name": "Age",
         "rawType": "int64",
         "type": "integer"
        },
        {
         "name": "City",
         "rawType": "object",
         "type": "string"
        }
       ],
       "ref": "de9cbc2c-40be-4b7c-921c-a19a8b47a0b0",
       "rows": [
        [
         "0",
         "Ram",
         "Kumar",
         "42",
         "Mumbai"
        ],
        [
         "1",
         "Mohan",
         "Sharma",
         "52",
         "Noida"
        ],
        [
         "2",
         "Tina",
         "Ali",
         "36",
         "Pune"
        ],
        [
         "3",
         "Jeetu",
         "Gandhi",
         "21",
         "Delhi"
        ],
        [
         "4",
         "Meera",
         "Kumari",
         "23",
         "Bihar"
        ],
        [
         "5",
         "happens",
         "Nothing",
         "99",
         "nooo"
        ]
       ],
       "shape": {
        "columns": 4,
        "rows": 6
       }
      },
      "text/html": [
       "<div>\n",
       "<style scoped>\n",
       "    .dataframe tbody tr th:only-of-type {\n",
       "        vertical-align: middle;\n",
       "    }\n",
       "\n",
       "    .dataframe tbody tr th {\n",
       "        vertical-align: top;\n",
       "    }\n",
       "\n",
       "    .dataframe thead th {\n",
       "        text-align: right;\n",
       "    }\n",
       "</style>\n",
       "<table border=\"1\" class=\"dataframe\">\n",
       "  <thead>\n",
       "    <tr style=\"text-align: right;\">\n",
       "      <th></th>\n",
       "      <th>First_name</th>\n",
       "      <th>Last_name</th>\n",
       "      <th>Age</th>\n",
       "      <th>City</th>\n",
       "    </tr>\n",
       "  </thead>\n",
       "  <tbody>\n",
       "    <tr>\n",
       "      <th>0</th>\n",
       "      <td>Ram</td>\n",
       "      <td>Kumar</td>\n",
       "      <td>42</td>\n",
       "      <td>Mumbai</td>\n",
       "    </tr>\n",
       "    <tr>\n",
       "      <th>1</th>\n",
       "      <td>Mohan</td>\n",
       "      <td>Sharma</td>\n",
       "      <td>52</td>\n",
       "      <td>Noida</td>\n",
       "    </tr>\n",
       "    <tr>\n",
       "      <th>2</th>\n",
       "      <td>Tina</td>\n",
       "      <td>Ali</td>\n",
       "      <td>36</td>\n",
       "      <td>Pune</td>\n",
       "    </tr>\n",
       "    <tr>\n",
       "      <th>3</th>\n",
       "      <td>Jeetu</td>\n",
       "      <td>Gandhi</td>\n",
       "      <td>21</td>\n",
       "      <td>Delhi</td>\n",
       "    </tr>\n",
       "    <tr>\n",
       "      <th>4</th>\n",
       "      <td>Meera</td>\n",
       "      <td>Kumari</td>\n",
       "      <td>23</td>\n",
       "      <td>Bihar</td>\n",
       "    </tr>\n",
       "    <tr>\n",
       "      <th>5</th>\n",
       "      <td>happens</td>\n",
       "      <td>Nothing</td>\n",
       "      <td>99</td>\n",
       "      <td>nooo</td>\n",
       "    </tr>\n",
       "  </tbody>\n",
       "</table>\n",
       "</div>"
      ],
      "text/plain": [
       "  First_name Last_name  Age    City\n",
       "0        Ram     Kumar   42  Mumbai\n",
       "1      Mohan    Sharma   52   Noida\n",
       "2       Tina       Ali   36    Pune\n",
       "3      Jeetu    Gandhi   21   Delhi\n",
       "4      Meera    Kumari   23   Bihar\n",
       "5    happens   Nothing   99    nooo"
      ]
     },
     "execution_count": 43,
     "metadata": {},
     "output_type": "execute_result"
    }
   ],
   "source": [
    "initial_data = {'First_name': ['Ram', 'Mohan', 'Tina', 'Jeetu', 'Meera', 'happens'],\n",
    "                'Last_name': ['Kumar', 'Sharma', 'Ali', 'Gandhi', 'Kumari', 'Nothing'],\n",
    "                'Age': [42, 52, 36, 21, 23, 99],\n",
    "                'City': ['Mumbai', 'Noida', 'Pune', 'Delhi', 'Bihar', 'nooo']}\n",
    "\n",
    "\n",
    "df = pd.DataFrame(initial_data)\n",
    "df"
   ]
  },
  {
   "cell_type": "code",
   "execution_count": null,
   "id": "ae59870d",
   "metadata": {},
   "outputs": [
    {
     "data": {
      "application/vnd.microsoft.datawrangler.viewer.v0+json": {
       "columns": [
        {
         "name": "index",
         "rawType": "int64",
         "type": "integer"
        },
        {
         "name": "First_name",
         "rawType": "object",
         "type": "string"
        },
        {
         "name": "Last_name",
         "rawType": "object",
         "type": "string"
        },
        {
         "name": "Age",
         "rawType": "int64",
         "type": "integer"
        },
        {
         "name": "City",
         "rawType": "object",
         "type": "string"
        },
        {
         "name": "Qualification",
         "rawType": "object",
         "type": "unknown"
        }
       ],
       "ref": "927795c6-530a-4ee3-a773-aea5b627846e",
       "rows": [
        [
         "0",
         "Ram",
         "Kumar",
         "42",
         "Mumbai",
         "B.Com"
        ],
        [
         "1",
         "Mohan",
         "Sharma",
         "52",
         "Noida",
         "IAS"
        ],
        [
         "2",
         "Tina",
         "Ali",
         "36",
         "Pune",
         "LLB"
        ],
        [
         "3",
         "Jeetu",
         "Gandhi",
         "21",
         "Delhi",
         "B.Tech"
        ],
        [
         "4",
         "Meera",
         "Kumari",
         "23",
         "Bihar",
         "MBBS"
        ],
        [
         "5",
         "happens",
         "Nothing",
         "99",
         "nooo",
         null
        ]
       ],
       "shape": {
        "columns": 5,
        "rows": 6
       }
      },
      "text/html": [
       "<div>\n",
       "<style scoped>\n",
       "    .dataframe tbody tr th:only-of-type {\n",
       "        vertical-align: middle;\n",
       "    }\n",
       "\n",
       "    .dataframe tbody tr th {\n",
       "        vertical-align: top;\n",
       "    }\n",
       "\n",
       "    .dataframe thead th {\n",
       "        text-align: right;\n",
       "    }\n",
       "</style>\n",
       "<table border=\"1\" class=\"dataframe\">\n",
       "  <thead>\n",
       "    <tr style=\"text-align: right;\">\n",
       "      <th></th>\n",
       "      <th>First_name</th>\n",
       "      <th>Last_name</th>\n",
       "      <th>Age</th>\n",
       "      <th>City</th>\n",
       "      <th>Qualification</th>\n",
       "    </tr>\n",
       "  </thead>\n",
       "  <tbody>\n",
       "    <tr>\n",
       "      <th>0</th>\n",
       "      <td>Ram</td>\n",
       "      <td>Kumar</td>\n",
       "      <td>42</td>\n",
       "      <td>Mumbai</td>\n",
       "      <td>B.Com</td>\n",
       "    </tr>\n",
       "    <tr>\n",
       "      <th>1</th>\n",
       "      <td>Mohan</td>\n",
       "      <td>Sharma</td>\n",
       "      <td>52</td>\n",
       "      <td>Noida</td>\n",
       "      <td>IAS</td>\n",
       "    </tr>\n",
       "    <tr>\n",
       "      <th>2</th>\n",
       "      <td>Tina</td>\n",
       "      <td>Ali</td>\n",
       "      <td>36</td>\n",
       "      <td>Pune</td>\n",
       "      <td>LLB</td>\n",
       "    </tr>\n",
       "    <tr>\n",
       "      <th>3</th>\n",
       "      <td>Jeetu</td>\n",
       "      <td>Gandhi</td>\n",
       "      <td>21</td>\n",
       "      <td>Delhi</td>\n",
       "      <td>B.Tech</td>\n",
       "    </tr>\n",
       "    <tr>\n",
       "      <th>4</th>\n",
       "      <td>Meera</td>\n",
       "      <td>Kumari</td>\n",
       "      <td>23</td>\n",
       "      <td>Bihar</td>\n",
       "      <td>MBBS</td>\n",
       "    </tr>\n",
       "    <tr>\n",
       "      <th>5</th>\n",
       "      <td>happens</td>\n",
       "      <td>Nothing</td>\n",
       "      <td>99</td>\n",
       "      <td>nooo</td>\n",
       "      <td>NaN</td>\n",
       "    </tr>\n",
       "  </tbody>\n",
       "</table>\n",
       "</div>"
      ],
      "text/plain": [
       "  First_name Last_name  Age    City Qualification\n",
       "0        Ram     Kumar   42  Mumbai         B.Com\n",
       "1      Mohan    Sharma   52   Noida           IAS\n",
       "2       Tina       Ali   36    Pune           LLB\n",
       "3      Jeetu    Gandhi   21   Delhi        B.Tech\n",
       "4      Meera    Kumari   23   Bihar          MBBS\n",
       "5    happens   Nothing   99    nooo           NaN"
      ]
     },
     "execution_count": 44,
     "metadata": {},
     "output_type": "execute_result"
    }
   ],
   "source": [
    "\n",
    "# Create new column using dictionary\n",
    "new_data = { \"Ram\":\"B.Com\",\n",
    "            \"Mohan\":\"IAS\",\n",
    "            \"Tina\":\"LLB\",\n",
    "            \"Jeetu\":\"B.Tech\",\n",
    "            \"Meera\":\"MBBS\",\n",
    "            \"Teena\": \"Noneed\" }\n",
    "\n",
    "df['Qualification'] = df['First_name'].map(new_data)\n",
    "df"
   ]
  },
  {
   "cell_type": "markdown",
   "id": "9befab6d",
   "metadata": {},
   "source": [
    "What happened in the above table\n",
    "\n",
    "Key in First_name : There is NaN in qualification because there is no teena in the dataframe \n",
    "\n",
    "Key in newdata not in First_name ignored silently \n"
   ]
  },
  {
   "cell_type": "markdown",
   "id": "8d00117a",
   "metadata": {},
   "source": [
    "Method 2: Using replace function \n",
    "* with regex\n",
    "* without regex"
   ]
  },
  {
   "cell_type": "code",
   "execution_count": null,
   "id": "21dae5e3",
   "metadata": {},
   "outputs": [
    {
     "data": {
      "application/vnd.microsoft.datawrangler.viewer.v0+json": {
       "columns": [
        {
         "name": "index",
         "rawType": "int64",
         "type": "integer"
        },
        {
         "name": "First_name",
         "rawType": "object",
         "type": "string"
        },
        {
         "name": "Last_name",
         "rawType": "object",
         "type": "string"
        },
        {
         "name": "Age",
         "rawType": "int64",
         "type": "integer"
        },
        {
         "name": "City",
         "rawType": "object",
         "type": "string"
        }
       ],
       "ref": "452fd148-0957-4a1d-a45d-787a59f3e5fe",
       "rows": [
        [
         "0",
         "Ramm",
         "Kumar",
         "42",
         "Mumbai"
        ],
        [
         "1",
         "Mohan",
         "Sharma",
         "52",
         "Noida"
        ],
        [
         "2",
         "Tina",
         "Ali",
         "36",
         "Pune"
        ],
        [
         "3",
         "Jeetu",
         "Gandhi",
         "21",
         "Delhi"
        ],
        [
         "4",
         "Meera",
         "Kumari",
         "23",
         "Bihar"
        ]
       ],
       "shape": {
        "columns": 4,
        "rows": 5
       }
      },
      "text/html": [
       "<div>\n",
       "<style scoped>\n",
       "    .dataframe tbody tr th:only-of-type {\n",
       "        vertical-align: middle;\n",
       "    }\n",
       "\n",
       "    .dataframe tbody tr th {\n",
       "        vertical-align: top;\n",
       "    }\n",
       "\n",
       "    .dataframe thead th {\n",
       "        text-align: right;\n",
       "    }\n",
       "</style>\n",
       "<table border=\"1\" class=\"dataframe\">\n",
       "  <thead>\n",
       "    <tr style=\"text-align: right;\">\n",
       "      <th></th>\n",
       "      <th>First_name</th>\n",
       "      <th>Last_name</th>\n",
       "      <th>Age</th>\n",
       "      <th>City</th>\n",
       "    </tr>\n",
       "  </thead>\n",
       "  <tbody>\n",
       "    <tr>\n",
       "      <th>0</th>\n",
       "      <td>Ramm</td>\n",
       "      <td>Kumar</td>\n",
       "      <td>42</td>\n",
       "      <td>Mumbai</td>\n",
       "    </tr>\n",
       "    <tr>\n",
       "      <th>1</th>\n",
       "      <td>Mohan</td>\n",
       "      <td>Sharma</td>\n",
       "      <td>52</td>\n",
       "      <td>Noida</td>\n",
       "    </tr>\n",
       "    <tr>\n",
       "      <th>2</th>\n",
       "      <td>Tina</td>\n",
       "      <td>Ali</td>\n",
       "      <td>36</td>\n",
       "      <td>Pune</td>\n",
       "    </tr>\n",
       "    <tr>\n",
       "      <th>3</th>\n",
       "      <td>Jeetu</td>\n",
       "      <td>Gandhi</td>\n",
       "      <td>21</td>\n",
       "      <td>Delhi</td>\n",
       "    </tr>\n",
       "    <tr>\n",
       "      <th>4</th>\n",
       "      <td>Meera</td>\n",
       "      <td>Kumari</td>\n",
       "      <td>23</td>\n",
       "      <td>Bihar</td>\n",
       "    </tr>\n",
       "  </tbody>\n",
       "</table>\n",
       "</div>"
      ],
      "text/plain": [
       "  First_name Last_name  Age    City\n",
       "0       Ramm     Kumar   42  Mumbai\n",
       "1      Mohan    Sharma   52   Noida\n",
       "2       Tina       Ali   36    Pune\n",
       "3      Jeetu    Gandhi   21   Delhi\n",
       "4      Meera    Kumari   23   Bihar"
      ]
     },
     "execution_count": 51,
     "metadata": {},
     "output_type": "execute_result"
    }
   ],
   "source": [
    "# Creating new dataframe\n",
    "import pandas as pd\n",
    "initial_data = {'First_name': ['Ramm', 'Mohan', 'Tina', 'Jeetu', 'Meera'],\n",
    "                'Last_name': ['Kumar', 'Sharma', 'Ali', 'Gandhi', 'Kumari'],\n",
    "                'Age': [42, 52, 36, 21, 23],\n",
    "                'City': ['Mumbai', 'Noida', 'Pune', 'Delhi', 'Bihar']}\n",
    "\n",
    "df = pd.DataFrame(initial_data, columns=['First_name','Last_name', 'Age', 'City'])\n",
    "\n",
    "\n",
    "df"
   ]
  },
  {
   "cell_type": "code",
   "execution_count": null,
   "id": "5b20e9c3",
   "metadata": {},
   "outputs": [
    {
     "name": "stdout",
     "output_type": "stream",
     "text": [
      "  First_name Last_name  Age    City\n",
      "0       Ramm     Kumar   42  Mumbai\n",
      "1      Mohan    Sharma   52   Noida\n",
      "2       Tina       Ali   36    Pune\n",
      "3      Jeetu    Gandhi   21   Delhi\n",
      "4      Meera    Kumari   23   Bihar\n",
      "\n"
     ]
    }
   ],
   "source": [
    "new_data = { \"Ramm\":\"Ram\",\n",
    "            \"Tina\":\"Riya\",\n",
    "            \"Jeetu\":\"Jitender\" }\n",
    "\n",
    "print(df, end=\"\\n\\n\")"
   ]
  },
  {
   "cell_type": "code",
   "execution_count": null,
   "id": "6ac95139",
   "metadata": {},
   "outputs": [
    {
     "name": "stdout",
     "output_type": "stream",
     "text": [
      "  First_name Last_name  Age    City\n",
      "0        Ram     Kumar   42  Mumbai\n",
      "1      Mohan    Sharma   52   Noida\n",
      "2       Riya       Ali   36    Pune\n",
      "3   Jitender    Gandhi   21   Delhi\n",
      "4      Meera    Kumari   23   Bihar\n"
     ]
    }
   ],
   "source": [
    "df = df.replace({'First_name':new_data})\n",
    "print(df)"
   ]
  },
  {
   "cell_type": "code",
   "execution_count": null,
   "id": "cc6ce4e2",
   "metadata": {},
   "outputs": [
    {
     "data": {
      "application/vnd.microsoft.datawrangler.viewer.v0+json": {
       "columns": [
        {
         "name": "index",
         "rawType": "int64",
         "type": "integer"
        },
        {
         "name": "First_name",
         "rawType": "object",
         "type": "string"
        },
        {
         "name": "Last_name",
         "rawType": "object",
         "type": "string"
        },
        {
         "name": "Age",
         "rawType": "int64",
         "type": "integer"
        },
        {
         "name": "City",
         "rawType": "object",
         "type": "string"
        }
       ],
       "ref": "15a44a22-a7f7-41c9-9335-3682502f39c5",
       "rows": [
        [
         "0",
         "Ram",
         "Kumar",
         "42",
         "Mumbai"
        ],
        [
         "1",
         "Mohan",
         "Sharma",
         "52",
         "Noida"
        ],
        [
         "2",
         "Tina",
         "Ali",
         "36",
         "Pune"
        ],
        [
         "3",
         "Jeetu",
         "Gandhi",
         "21",
         "Delhi"
        ],
        [
         "4",
         "Meera",
         "Kumari",
         "23",
         "Bihar"
        ]
       ],
       "shape": {
        "columns": 4,
        "rows": 5
       }
      },
      "text/html": [
       "<div>\n",
       "<style scoped>\n",
       "    .dataframe tbody tr th:only-of-type {\n",
       "        vertical-align: middle;\n",
       "    }\n",
       "\n",
       "    .dataframe tbody tr th {\n",
       "        vertical-align: top;\n",
       "    }\n",
       "\n",
       "    .dataframe thead th {\n",
       "        text-align: right;\n",
       "    }\n",
       "</style>\n",
       "<table border=\"1\" class=\"dataframe\">\n",
       "  <thead>\n",
       "    <tr style=\"text-align: right;\">\n",
       "      <th></th>\n",
       "      <th>First_name</th>\n",
       "      <th>Last_name</th>\n",
       "      <th>Age</th>\n",
       "      <th>City</th>\n",
       "    </tr>\n",
       "  </thead>\n",
       "  <tbody>\n",
       "    <tr>\n",
       "      <th>0</th>\n",
       "      <td>Ram</td>\n",
       "      <td>Kumar</td>\n",
       "      <td>42</td>\n",
       "      <td>Mumbai</td>\n",
       "    </tr>\n",
       "    <tr>\n",
       "      <th>1</th>\n",
       "      <td>Mohan</td>\n",
       "      <td>Sharma</td>\n",
       "      <td>52</td>\n",
       "      <td>Noida</td>\n",
       "    </tr>\n",
       "    <tr>\n",
       "      <th>2</th>\n",
       "      <td>Tina</td>\n",
       "      <td>Ali</td>\n",
       "      <td>36</td>\n",
       "      <td>Pune</td>\n",
       "    </tr>\n",
       "    <tr>\n",
       "      <th>3</th>\n",
       "      <td>Jeetu</td>\n",
       "      <td>Gandhi</td>\n",
       "      <td>21</td>\n",
       "      <td>Delhi</td>\n",
       "    </tr>\n",
       "    <tr>\n",
       "      <th>4</th>\n",
       "      <td>Meera</td>\n",
       "      <td>Kumari</td>\n",
       "      <td>23</td>\n",
       "      <td>Bihar</td>\n",
       "    </tr>\n",
       "  </tbody>\n",
       "</table>\n",
       "</div>"
      ],
      "text/plain": [
       "  First_name Last_name  Age    City\n",
       "0        Ram     Kumar   42  Mumbai\n",
       "1      Mohan    Sharma   52   Noida\n",
       "2       Tina       Ali   36    Pune\n",
       "3      Jeetu    Gandhi   21   Delhi\n",
       "4      Meera    Kumari   23   Bihar"
      ]
     },
     "metadata": {},
     "output_type": "display_data"
    },
    {
     "data": {
      "application/vnd.microsoft.datawrangler.viewer.v0+json": {
       "columns": [
        {
         "name": "index",
         "rawType": "int64",
         "type": "integer"
        },
        {
         "name": "First_name",
         "rawType": "object",
         "type": "string"
        },
        {
         "name": "Last_name",
         "rawType": "object",
         "type": "string"
        },
        {
         "name": "Age",
         "rawType": "int64",
         "type": "integer"
        },
        {
         "name": "City",
         "rawType": "object",
         "type": "string"
        }
       ],
       "ref": "ccee2085-f69e-4c6a-ba88-9bcbf1d36e20",
       "rows": [
        [
         "0",
         "Shyam",
         "Kumar",
         "42",
         "Mumbai"
        ],
        [
         "1",
         "Mohan",
         "Sharma",
         "52",
         "Noida"
        ],
        [
         "2",
         "Riya",
         "Ali",
         "36",
         "Pune"
        ],
        [
         "3",
         "Jitender",
         "Gandhi",
         "21",
         "Delhi"
        ],
        [
         "4",
         "Meera",
         "Kumari",
         "23",
         "Bihar"
        ]
       ],
       "shape": {
        "columns": 4,
        "rows": 5
       }
      },
      "text/html": [
       "<div>\n",
       "<style scoped>\n",
       "    .dataframe tbody tr th:only-of-type {\n",
       "        vertical-align: middle;\n",
       "    }\n",
       "\n",
       "    .dataframe tbody tr th {\n",
       "        vertical-align: top;\n",
       "    }\n",
       "\n",
       "    .dataframe thead th {\n",
       "        text-align: right;\n",
       "    }\n",
       "</style>\n",
       "<table border=\"1\" class=\"dataframe\">\n",
       "  <thead>\n",
       "    <tr style=\"text-align: right;\">\n",
       "      <th></th>\n",
       "      <th>First_name</th>\n",
       "      <th>Last_name</th>\n",
       "      <th>Age</th>\n",
       "      <th>City</th>\n",
       "    </tr>\n",
       "  </thead>\n",
       "  <tbody>\n",
       "    <tr>\n",
       "      <th>0</th>\n",
       "      <td>Shyam</td>\n",
       "      <td>Kumar</td>\n",
       "      <td>42</td>\n",
       "      <td>Mumbai</td>\n",
       "    </tr>\n",
       "    <tr>\n",
       "      <th>1</th>\n",
       "      <td>Mohan</td>\n",
       "      <td>Sharma</td>\n",
       "      <td>52</td>\n",
       "      <td>Noida</td>\n",
       "    </tr>\n",
       "    <tr>\n",
       "      <th>2</th>\n",
       "      <td>Riya</td>\n",
       "      <td>Ali</td>\n",
       "      <td>36</td>\n",
       "      <td>Pune</td>\n",
       "    </tr>\n",
       "    <tr>\n",
       "      <th>3</th>\n",
       "      <td>Jitender</td>\n",
       "      <td>Gandhi</td>\n",
       "      <td>21</td>\n",
       "      <td>Delhi</td>\n",
       "    </tr>\n",
       "    <tr>\n",
       "      <th>4</th>\n",
       "      <td>Meera</td>\n",
       "      <td>Kumari</td>\n",
       "      <td>23</td>\n",
       "      <td>Bihar</td>\n",
       "    </tr>\n",
       "  </tbody>\n",
       "</table>\n",
       "</div>"
      ],
      "text/plain": [
       "  First_name Last_name  Age    City\n",
       "0      Shyam     Kumar   42  Mumbai\n",
       "1      Mohan    Sharma   52   Noida\n",
       "2       Riya       Ali   36    Pune\n",
       "3   Jitender    Gandhi   21   Delhi\n",
       "4      Meera    Kumari   23   Bihar"
      ]
     },
     "metadata": {},
     "output_type": "display_data"
    }
   ],
   "source": [
    "# Update work on the index\n",
    "\n",
    "initial_data = {'First_name': ['Ram', 'Mohan', 'Tina', 'Jeetu', 'Meera'],\n",
    "                'Last_name': ['Kumar', 'Sharma', 'Ali', 'Gandhi', 'Kumari'],\n",
    "                'Age': [42, 52, 36, 21, 23],\n",
    "                'City': ['Mumbai', 'Noida', 'Pune', 'Delhi', 'Bihar']}\n",
    "\n",
    "new_data = { 0:\"Shyam\",\n",
    "            2:\"Riya\",\n",
    "            3:\"Jitender\" }\n",
    "\n",
    "\n",
    "df = pd.DataFrame(initial_data)\n",
    "display(df)\n",
    "# df[\"First_name\"].update(pd.Series(new_data)) #this will give the warning\n",
    "df.update(pd.DataFrame({\"First_name\": new_data}))\n",
    "\n",
    "display(df)"
   ]
  },
  {
   "cell_type": "markdown",
   "id": "9891a174",
   "metadata": {},
   "source": [
    "To ungroup the group we use unstack()"
   ]
  },
  {
   "cell_type": "code",
   "execution_count": null,
   "id": "8aca9195",
   "metadata": {},
   "outputs": [
    {
     "data": {
      "application/vnd.microsoft.datawrangler.viewer.v0+json": {
       "columns": [
        {
         "name": "index",
         "rawType": "int64",
         "type": "integer"
        },
        {
         "name": "Department",
         "rawType": "object",
         "type": "string"
        },
        {
         "name": "Gender",
         "rawType": "object",
         "type": "string"
        },
        {
         "name": "Salary",
         "rawType": "int64",
         "type": "integer"
        }
       ],
       "ref": "cdf6f77e-d2d4-4c44-a2ee-c328f5ac3d9d",
       "rows": [
        [
         "0",
         "Sales",
         "Male",
         "5000"
        ],
        [
         "1",
         "Sales",
         "Female",
         "5200"
        ],
        [
         "2",
         "HR",
         "Male",
         "4800"
        ],
        [
         "3",
         "HR",
         "Female",
         "5100"
        ]
       ],
       "shape": {
        "columns": 3,
        "rows": 4
       }
      },
      "text/html": [
       "<div>\n",
       "<style scoped>\n",
       "    .dataframe tbody tr th:only-of-type {\n",
       "        vertical-align: middle;\n",
       "    }\n",
       "\n",
       "    .dataframe tbody tr th {\n",
       "        vertical-align: top;\n",
       "    }\n",
       "\n",
       "    .dataframe thead th {\n",
       "        text-align: right;\n",
       "    }\n",
       "</style>\n",
       "<table border=\"1\" class=\"dataframe\">\n",
       "  <thead>\n",
       "    <tr style=\"text-align: right;\">\n",
       "      <th></th>\n",
       "      <th>Department</th>\n",
       "      <th>Gender</th>\n",
       "      <th>Salary</th>\n",
       "    </tr>\n",
       "  </thead>\n",
       "  <tbody>\n",
       "    <tr>\n",
       "      <th>0</th>\n",
       "      <td>Sales</td>\n",
       "      <td>Male</td>\n",
       "      <td>5000</td>\n",
       "    </tr>\n",
       "    <tr>\n",
       "      <th>1</th>\n",
       "      <td>Sales</td>\n",
       "      <td>Female</td>\n",
       "      <td>5200</td>\n",
       "    </tr>\n",
       "    <tr>\n",
       "      <th>2</th>\n",
       "      <td>HR</td>\n",
       "      <td>Male</td>\n",
       "      <td>4800</td>\n",
       "    </tr>\n",
       "    <tr>\n",
       "      <th>3</th>\n",
       "      <td>HR</td>\n",
       "      <td>Female</td>\n",
       "      <td>5100</td>\n",
       "    </tr>\n",
       "  </tbody>\n",
       "</table>\n",
       "</div>"
      ],
      "text/plain": [
       "  Department  Gender  Salary\n",
       "0      Sales    Male    5000\n",
       "1      Sales  Female    5200\n",
       "2         HR    Male    4800\n",
       "3         HR  Female    5100"
      ]
     },
     "execution_count": 64,
     "metadata": {},
     "output_type": "execute_result"
    }
   ],
   "source": [
    "data = {\n",
    "    'Department': ['Sales', 'Sales', 'HR', 'HR'],\n",
    "    'Gender': ['Male', 'Female', 'Male', 'Female'],\n",
    "    'Salary': [5000, 5200, 4800, 5100]\n",
    "}\n",
    "df = pd.DataFrame(data)\n",
    "df"
   ]
  },
  {
   "cell_type": "code",
   "execution_count": null,
   "id": "1a971eef",
   "metadata": {},
   "outputs": [
    {
     "name": "stdout",
     "output_type": "stream",
     "text": [
      "Department  Gender\n",
      "HR          Female    5100.0\n",
      "            Male      4800.0\n",
      "Sales       Female    5200.0\n",
      "            Male      5000.0\n",
      "Name: Salary, dtype: float64\n"
     ]
    }
   ],
   "source": [
    "df_g = df.groupby(['Department','Gender'])['Salary'].mean()\n",
    "print(df_g)"
   ]
  },
  {
   "cell_type": "code",
   "execution_count": null,
   "id": "34e84661",
   "metadata": {},
   "outputs": [
    {
     "name": "stdout",
     "output_type": "stream",
     "text": [
      "Gender      Female    Male\n",
      "Department                \n",
      "HR          5100.0  4800.0\n",
      "Sales       5200.0  5000.0\n"
     ]
    }
   ],
   "source": [
    "df_u = df_g.unstack()\n",
    "print(df_u)"
   ]
  },
  {
   "cell_type": "markdown",
   "id": "5add252a",
   "metadata": {},
   "source": [
    "melt()\n",
    "\n",
    "The melt() method in pandas is your go-to tool when you need to transform wide-format data into long-format — essentially doing the opposite of a pivot. It’s perfect for turning column headers into row values, making your data tidy and ready for analysis.\n",
    "\n",
    "Why use melt()? It simplifies datasets where values are spread across multiple columns but would be better analyzed in a key-value format."
   ]
  },
  {
   "cell_type": "code",
   "execution_count": null,
   "id": "1edd5bbb",
   "metadata": {},
   "outputs": [
    {
     "name": "stdout",
     "output_type": "stream",
     "text": [
      "    Name  Math  Science\n",
      "0   Ansh    66       99\n",
      "1  Harsh    89       67\n"
     ]
    }
   ],
   "source": [
    "df = pd.DataFrame({\n",
    "    'Name': ['Ansh', 'Harsh'],\n",
    "    'Math':[66,89],\n",
    "    'Science':[99,67]\n",
    "})\n",
    "print(df)"
   ]
  },
  {
   "cell_type": "code",
   "execution_count": null,
   "id": "718ea4fb",
   "metadata": {},
   "outputs": [
    {
     "data": {
      "application/vnd.microsoft.datawrangler.viewer.v0+json": {
       "columns": [
        {
         "name": "index",
         "rawType": "int64",
         "type": "integer"
        },
        {
         "name": "Name",
         "rawType": "object",
         "type": "string"
        },
        {
         "name": "Subject",
         "rawType": "object",
         "type": "string"
        },
        {
         "name": "Marks",
         "rawType": "int64",
         "type": "integer"
        }
       ],
       "ref": "8278d1de-b96c-4bf9-97bd-1ea2e676025d",
       "rows": [
        [
         "0",
         "Ansh",
         "Math",
         "66"
        ],
        [
         "1",
         "Harsh",
         "Math",
         "89"
        ],
        [
         "2",
         "Ansh",
         "Science",
         "99"
        ],
        [
         "3",
         "Harsh",
         "Science",
         "67"
        ]
       ],
       "shape": {
        "columns": 3,
        "rows": 4
       }
      },
      "text/html": [
       "<div>\n",
       "<style scoped>\n",
       "    .dataframe tbody tr th:only-of-type {\n",
       "        vertical-align: middle;\n",
       "    }\n",
       "\n",
       "    .dataframe tbody tr th {\n",
       "        vertical-align: top;\n",
       "    }\n",
       "\n",
       "    .dataframe thead th {\n",
       "        text-align: right;\n",
       "    }\n",
       "</style>\n",
       "<table border=\"1\" class=\"dataframe\">\n",
       "  <thead>\n",
       "    <tr style=\"text-align: right;\">\n",
       "      <th></th>\n",
       "      <th>Name</th>\n",
       "      <th>Subject</th>\n",
       "      <th>Marks</th>\n",
       "    </tr>\n",
       "  </thead>\n",
       "  <tbody>\n",
       "    <tr>\n",
       "      <th>0</th>\n",
       "      <td>Ansh</td>\n",
       "      <td>Math</td>\n",
       "      <td>66</td>\n",
       "    </tr>\n",
       "    <tr>\n",
       "      <th>1</th>\n",
       "      <td>Harsh</td>\n",
       "      <td>Math</td>\n",
       "      <td>89</td>\n",
       "    </tr>\n",
       "    <tr>\n",
       "      <th>2</th>\n",
       "      <td>Ansh</td>\n",
       "      <td>Science</td>\n",
       "      <td>99</td>\n",
       "    </tr>\n",
       "    <tr>\n",
       "      <th>3</th>\n",
       "      <td>Harsh</td>\n",
       "      <td>Science</td>\n",
       "      <td>67</td>\n",
       "    </tr>\n",
       "  </tbody>\n",
       "</table>\n",
       "</div>"
      ],
      "text/plain": [
       "    Name  Subject  Marks\n",
       "0   Ansh     Math     66\n",
       "1  Harsh     Math     89\n",
       "2   Ansh  Science     99\n",
       "3  Harsh  Science     67"
      ]
     },
     "execution_count": 73,
     "metadata": {},
     "output_type": "execute_result"
    }
   ],
   "source": [
    "df_melted = df.melt( id_vars=\"Name\",var_name='Subject', value_name='Marks')\n",
    "df_melted"
   ]
  },
  {
   "cell_type": "markdown",
   "id": "6360b101",
   "metadata": {},
   "source": [
    "Key parameters: id_vars: Columns to keep as identifiers (they won’t be unpivoted)\n",
    "\n",
    "var_name: Name of the new column for former column headers\n",
    "\n",
    "value_name: Name of the new column for values\n",
    "\n",
    "How pandas figures it out: id_vars='Name' → This tells pandas: “Hey, keep the Name column as is.”\n",
    "\n",
    "Everything else (like Math and Science) → Becomes part of the Subject column — because they’re the column headers being melted.\n",
    "\n",
    "Their cell values (like 90, 85, 80, 89) → Go under the new column called Marks, which you assigned using value_name='Marks'."
   ]
  },
  {
   "cell_type": "markdown",
   "id": "b99bf32d",
   "metadata": {},
   "source": [
    "### Reset Index in Pandas Dataframe\n",
    "Syntax :\n",
    "\n",
    "DataFrame.reset_index(level=None, drop=False, inplace=False, col_level=0, col_fill='')\n",
    "\n",
    "Parameters:\n",
    "\n",
    "* level: Specifies multi-level index levels to reset.\n",
    "* drop: Discards current index if True; adds as a new column if False.\n",
    "* inplace: Modifies DataFrame in place if True; returns a new DataFrame if False.\n",
    "* col_level: Specifies which level of multi-level columns to reset.\n",
    "* col_fill: Fills missing values in columns' levels. Return Type: Returns a new DataFrame if inplace is False; None if inplace is True\n",
    "used methods\n",
    "\n",
    "* Create Own Index Without Removing Default Index\n",
    "* Create your Own Index and Remove the Default Index\n",
    "* Reset Own Index and Create Default Index as Index\n",
    "* Make a Column of Dataframe as Index and Removing Default Index\n",
    "* Make a Column of Dataframe as an Index Without Removing Index"
   ]
  },
  {
   "cell_type": "code",
   "execution_count": null,
   "id": "8d968cdb",
   "metadata": {},
   "outputs": [
    {
     "name": "stdout",
     "output_type": "stream",
     "text": [
      "        Name  Age      Address Qualification\n",
      "0      Nirav   19        Surat          12th\n",
      "1       Vala   15  Gandhinagar          10th\n",
      "2       Arpi   16     Vadodara          10th\n",
      "3   Vaibhav    17    Karnavati          11th\n",
      "4      Thapa   18        Daman          11th\n"
     ]
    }
   ],
   "source": [
    "data = {\n",
    "    'Name':['Nirav', 'Vala',' Arpi',' Vaibhav ', 'Thapa'],\n",
    "    'Age':[19,15,16,17,18,],\n",
    "    'Address':['Surat', 'Gandhinagar', 'Vadodara', 'Karnavati', 'Daman'],\n",
    "    'Qualification':['12th', '10th', '10th','11th', '11th']\n",
    "}\n",
    "\n",
    "df = pd.DataFrame.from_dict(data)\n",
    "print(df)"
   ]
  },
  {
   "cell_type": "code",
   "execution_count": null,
   "id": "0a611a3a",
   "metadata": {},
   "outputs": [],
   "source": [
    "df['Name'] = df['Name'].apply(lambda x: x.strip())"
   ]
  },
  {
   "cell_type": "code",
   "execution_count": null,
   "id": "f3ee4ac2",
   "metadata": {},
   "outputs": [
    {
     "data": {
      "application/vnd.microsoft.datawrangler.viewer.v0+json": {
       "columns": [
        {
         "name": "index",
         "rawType": "int64",
         "type": "integer"
        },
        {
         "name": "Name",
         "rawType": "object",
         "type": "string"
        },
        {
         "name": "Age",
         "rawType": "int64",
         "type": "integer"
        },
        {
         "name": "Address",
         "rawType": "object",
         "type": "string"
        },
        {
         "name": "Qualification",
         "rawType": "object",
         "type": "string"
        }
       ],
       "ref": "af7eb2a7-eb99-4037-a265-f0ac4dfa0a05",
       "rows": [
        [
         "0",
         "Nirav",
         "19",
         "Surat",
         "12th"
        ],
        [
         "1",
         "Vala",
         "15",
         "Gandhinagar",
         "10th"
        ],
        [
         "2",
         "Arpi",
         "16",
         "Vadodara",
         "10th"
        ],
        [
         "3",
         "Vaibhav",
         "17",
         "Karnavati",
         "11th"
        ],
        [
         "4",
         "Thapa",
         "18",
         "Daman",
         "11th"
        ]
       ],
       "shape": {
        "columns": 4,
        "rows": 5
       }
      },
      "text/html": [
       "<div>\n",
       "<style scoped>\n",
       "    .dataframe tbody tr th:only-of-type {\n",
       "        vertical-align: middle;\n",
       "    }\n",
       "\n",
       "    .dataframe tbody tr th {\n",
       "        vertical-align: top;\n",
       "    }\n",
       "\n",
       "    .dataframe thead th {\n",
       "        text-align: right;\n",
       "    }\n",
       "</style>\n",
       "<table border=\"1\" class=\"dataframe\">\n",
       "  <thead>\n",
       "    <tr style=\"text-align: right;\">\n",
       "      <th></th>\n",
       "      <th>Name</th>\n",
       "      <th>Age</th>\n",
       "      <th>Address</th>\n",
       "      <th>Qualification</th>\n",
       "    </tr>\n",
       "  </thead>\n",
       "  <tbody>\n",
       "    <tr>\n",
       "      <th>0</th>\n",
       "      <td>Nirav</td>\n",
       "      <td>19</td>\n",
       "      <td>Surat</td>\n",
       "      <td>12th</td>\n",
       "    </tr>\n",
       "    <tr>\n",
       "      <th>1</th>\n",
       "      <td>Vala</td>\n",
       "      <td>15</td>\n",
       "      <td>Gandhinagar</td>\n",
       "      <td>10th</td>\n",
       "    </tr>\n",
       "    <tr>\n",
       "      <th>2</th>\n",
       "      <td>Arpi</td>\n",
       "      <td>16</td>\n",
       "      <td>Vadodara</td>\n",
       "      <td>10th</td>\n",
       "    </tr>\n",
       "    <tr>\n",
       "      <th>3</th>\n",
       "      <td>Vaibhav</td>\n",
       "      <td>17</td>\n",
       "      <td>Karnavati</td>\n",
       "      <td>11th</td>\n",
       "    </tr>\n",
       "    <tr>\n",
       "      <th>4</th>\n",
       "      <td>Thapa</td>\n",
       "      <td>18</td>\n",
       "      <td>Daman</td>\n",
       "      <td>11th</td>\n",
       "    </tr>\n",
       "  </tbody>\n",
       "</table>\n",
       "</div>"
      ],
      "text/plain": [
       "      Name  Age      Address Qualification\n",
       "0    Nirav   19        Surat          12th\n",
       "1     Vala   15  Gandhinagar          10th\n",
       "2     Arpi   16     Vadodara          10th\n",
       "3  Vaibhav   17    Karnavati          11th\n",
       "4    Thapa   18        Daman          11th"
      ]
     },
     "execution_count": 37,
     "metadata": {},
     "output_type": "execute_result"
    }
   ],
   "source": [
    "df"
   ]
  },
  {
   "cell_type": "code",
   "execution_count": null,
   "id": "99f8a2f9",
   "metadata": {},
   "outputs": [
    {
     "name": "stdout",
     "output_type": "stream",
     "text": [
      "['Nirav', 'Vala', 'Arpi', 'Vaibhav', 'Thapa']\n"
     ]
    }
   ],
   "source": [
    "list = []\n",
    "for i in df['Name']:\n",
    "    list.append(i)\n",
    "\n",
    "print(list)"
   ]
  },
  {
   "cell_type": "code",
   "execution_count": null,
   "id": "ed45d8e0",
   "metadata": {},
   "outputs": [
    {
     "data": {
      "application/vnd.microsoft.datawrangler.viewer.v0+json": {
       "columns": [
        {
         "name": "index",
         "rawType": "object",
         "type": "string"
        },
        {
         "name": "Name",
         "rawType": "object",
         "type": "string"
        },
        {
         "name": "Age",
         "rawType": "int64",
         "type": "integer"
        },
        {
         "name": "Address",
         "rawType": "object",
         "type": "string"
        },
        {
         "name": "Qualification",
         "rawType": "object",
         "type": "string"
        }
       ],
       "ref": "4a959522-886b-4d72-924e-4b3a35b5716e",
       "rows": [
        [
         "h",
         "Nirav",
         "19",
         "Surat",
         "12th"
        ],
        [
         "e",
         "Vala",
         "15",
         "Gandhinagar",
         "10th"
        ],
        [
         "l",
         " Arpi",
         "16",
         "Vadodara",
         "10th"
        ],
        [
         "l",
         " Vaibhav ",
         "17",
         "Karnavati",
         "11th"
        ],
        [
         "o",
         "Thapa",
         "18",
         "Daman",
         "11th"
        ]
       ],
       "shape": {
        "columns": 4,
        "rows": 5
       }
      },
      "text/html": [
       "<div>\n",
       "<style scoped>\n",
       "    .dataframe tbody tr th:only-of-type {\n",
       "        vertical-align: middle;\n",
       "    }\n",
       "\n",
       "    .dataframe tbody tr th {\n",
       "        vertical-align: top;\n",
       "    }\n",
       "\n",
       "    .dataframe thead th {\n",
       "        text-align: right;\n",
       "    }\n",
       "</style>\n",
       "<table border=\"1\" class=\"dataframe\">\n",
       "  <thead>\n",
       "    <tr style=\"text-align: right;\">\n",
       "      <th></th>\n",
       "      <th>Name</th>\n",
       "      <th>Age</th>\n",
       "      <th>Address</th>\n",
       "      <th>Qualification</th>\n",
       "    </tr>\n",
       "  </thead>\n",
       "  <tbody>\n",
       "    <tr>\n",
       "      <th>h</th>\n",
       "      <td>Nirav</td>\n",
       "      <td>19</td>\n",
       "      <td>Surat</td>\n",
       "      <td>12th</td>\n",
       "    </tr>\n",
       "    <tr>\n",
       "      <th>e</th>\n",
       "      <td>Vala</td>\n",
       "      <td>15</td>\n",
       "      <td>Gandhinagar</td>\n",
       "      <td>10th</td>\n",
       "    </tr>\n",
       "    <tr>\n",
       "      <th>l</th>\n",
       "      <td>Arpi</td>\n",
       "      <td>16</td>\n",
       "      <td>Vadodara</td>\n",
       "      <td>10th</td>\n",
       "    </tr>\n",
       "    <tr>\n",
       "      <th>l</th>\n",
       "      <td>Vaibhav</td>\n",
       "      <td>17</td>\n",
       "      <td>Karnavati</td>\n",
       "      <td>11th</td>\n",
       "    </tr>\n",
       "    <tr>\n",
       "      <th>o</th>\n",
       "      <td>Thapa</td>\n",
       "      <td>18</td>\n",
       "      <td>Daman</td>\n",
       "      <td>11th</td>\n",
       "    </tr>\n",
       "  </tbody>\n",
       "</table>\n",
       "</div>"
      ],
      "text/plain": [
       "        Name  Age      Address Qualification\n",
       "h      Nirav   19        Surat          12th\n",
       "e       Vala   15  Gandhinagar          10th\n",
       "l       Arpi   16     Vadodara          10th\n",
       "l   Vaibhav    17    Karnavati          11th\n",
       "o      Thapa   18        Daman          11th"
      ]
     },
     "execution_count": 39,
     "metadata": {},
     "output_type": "execute_result"
    }
   ],
   "source": [
    "#Create Own Index without Removing Default Index\n",
    "\n",
    "index_ = ['h','e','l','l','o']\n",
    "df = pd.DataFrame(data, index=index_)\n",
    "df\n"
   ]
  },
  {
   "cell_type": "code",
   "execution_count": null,
   "id": "320f5254",
   "metadata": {},
   "outputs": [
    {
     "data": {
      "application/vnd.microsoft.datawrangler.viewer.v0+json": {
       "columns": [
        {
         "name": "index",
         "rawType": "int64",
         "type": "integer"
        },
        {
         "name": "Name",
         "rawType": "object",
         "type": "string"
        },
        {
         "name": "Age",
         "rawType": "int64",
         "type": "integer"
        },
        {
         "name": "Address",
         "rawType": "object",
         "type": "string"
        },
        {
         "name": "Qualification",
         "rawType": "object",
         "type": "string"
        }
       ],
       "ref": "3d8ad824-b3fd-467f-88d2-2042c912a350",
       "rows": [
        [
         "0",
         "Nirav",
         "19",
         "Surat",
         "12th"
        ],
        [
         "1",
         "Vala",
         "15",
         "Gandhinagar",
         "10th"
        ],
        [
         "2",
         " Arpi",
         "16",
         "Vadodara",
         "10th"
        ],
        [
         "3",
         " Vaibhav ",
         "17",
         "Karnavati",
         "11th"
        ],
        [
         "4",
         "Thapa",
         "18",
         "Daman",
         "11th"
        ]
       ],
       "shape": {
        "columns": 4,
        "rows": 5
       }
      },
      "text/html": [
       "<div>\n",
       "<style scoped>\n",
       "    .dataframe tbody tr th:only-of-type {\n",
       "        vertical-align: middle;\n",
       "    }\n",
       "\n",
       "    .dataframe tbody tr th {\n",
       "        vertical-align: top;\n",
       "    }\n",
       "\n",
       "    .dataframe thead th {\n",
       "        text-align: right;\n",
       "    }\n",
       "</style>\n",
       "<table border=\"1\" class=\"dataframe\">\n",
       "  <thead>\n",
       "    <tr style=\"text-align: right;\">\n",
       "      <th></th>\n",
       "      <th>Name</th>\n",
       "      <th>Age</th>\n",
       "      <th>Address</th>\n",
       "      <th>Qualification</th>\n",
       "    </tr>\n",
       "  </thead>\n",
       "  <tbody>\n",
       "    <tr>\n",
       "      <th>0</th>\n",
       "      <td>Nirav</td>\n",
       "      <td>19</td>\n",
       "      <td>Surat</td>\n",
       "      <td>12th</td>\n",
       "    </tr>\n",
       "    <tr>\n",
       "      <th>1</th>\n",
       "      <td>Vala</td>\n",
       "      <td>15</td>\n",
       "      <td>Gandhinagar</td>\n",
       "      <td>10th</td>\n",
       "    </tr>\n",
       "    <tr>\n",
       "      <th>2</th>\n",
       "      <td>Arpi</td>\n",
       "      <td>16</td>\n",
       "      <td>Vadodara</td>\n",
       "      <td>10th</td>\n",
       "    </tr>\n",
       "    <tr>\n",
       "      <th>3</th>\n",
       "      <td>Vaibhav</td>\n",
       "      <td>17</td>\n",
       "      <td>Karnavati</td>\n",
       "      <td>11th</td>\n",
       "    </tr>\n",
       "    <tr>\n",
       "      <th>4</th>\n",
       "      <td>Thapa</td>\n",
       "      <td>18</td>\n",
       "      <td>Daman</td>\n",
       "      <td>11th</td>\n",
       "    </tr>\n",
       "  </tbody>\n",
       "</table>\n",
       "</div>"
      ],
      "text/plain": [
       "        Name  Age      Address Qualification\n",
       "0      Nirav   19        Surat          12th\n",
       "1       Vala   15  Gandhinagar          10th\n",
       "2       Arpi   16     Vadodara          10th\n",
       "3   Vaibhav    17    Karnavati          11th\n",
       "4      Thapa   18        Daman          11th"
      ]
     },
     "execution_count": 40,
     "metadata": {},
     "output_type": "execute_result"
    }
   ],
   "source": [
    "df.reset_index(inplace=True , drop = True )\n",
    "df"
   ]
  },
  {
   "cell_type": "code",
   "execution_count": null,
   "id": "4e891b42",
   "metadata": {},
   "outputs": [
    {
     "name": "stdout",
     "output_type": "stream",
     "text": [
      "Name              Vaibhav \n",
      "Address          Karnavati\n",
      "Qualification         11th\n",
      "Name: 17, dtype: object\n"
     ]
    }
   ],
   "source": [
    "df = pd.DataFrame(data , index_)\n",
    "df.set_index(['Age'], inplace=True)\n",
    "df\n",
    "print(df.loc[17])"
   ]
  },
  {
   "cell_type": "code",
   "execution_count": null,
   "id": "504e5148",
   "metadata": {},
   "outputs": [
    {
     "data": {
      "application/vnd.microsoft.datawrangler.viewer.v0+json": {
       "columns": [
        {
         "name": "index",
         "rawType": "int64",
         "type": "integer"
        },
        {
         "name": "Age",
         "rawType": "int64",
         "type": "integer"
        },
        {
         "name": "Name",
         "rawType": "object",
         "type": "string"
        },
        {
         "name": "Address",
         "rawType": "object",
         "type": "string"
        },
        {
         "name": "Qualification",
         "rawType": "object",
         "type": "string"
        }
       ],
       "ref": "c1ffa13b-29fe-418e-ac97-474555de1ec0",
       "rows": [
        [
         "0",
         "19",
         "Nirav",
         "Surat",
         "12th"
        ],
        [
         "1",
         "15",
         "Vala",
         "Gandhinagar",
         "10th"
        ],
        [
         "2",
         "16",
         " Arpi",
         "Vadodara",
         "10th"
        ],
        [
         "3",
         "17",
         " Vaibhav ",
         "Karnavati",
         "11th"
        ],
        [
         "4",
         "18",
         "Thapa",
         "Daman",
         "11th"
        ]
       ],
       "shape": {
        "columns": 4,
        "rows": 5
       }
      },
      "text/html": [
       "<div>\n",
       "<style scoped>\n",
       "    .dataframe tbody tr th:only-of-type {\n",
       "        vertical-align: middle;\n",
       "    }\n",
       "\n",
       "    .dataframe tbody tr th {\n",
       "        vertical-align: top;\n",
       "    }\n",
       "\n",
       "    .dataframe thead th {\n",
       "        text-align: right;\n",
       "    }\n",
       "</style>\n",
       "<table border=\"1\" class=\"dataframe\">\n",
       "  <thead>\n",
       "    <tr style=\"text-align: right;\">\n",
       "      <th></th>\n",
       "      <th>Age</th>\n",
       "      <th>Name</th>\n",
       "      <th>Address</th>\n",
       "      <th>Qualification</th>\n",
       "    </tr>\n",
       "  </thead>\n",
       "  <tbody>\n",
       "    <tr>\n",
       "      <th>0</th>\n",
       "      <td>19</td>\n",
       "      <td>Nirav</td>\n",
       "      <td>Surat</td>\n",
       "      <td>12th</td>\n",
       "    </tr>\n",
       "    <tr>\n",
       "      <th>1</th>\n",
       "      <td>15</td>\n",
       "      <td>Vala</td>\n",
       "      <td>Gandhinagar</td>\n",
       "      <td>10th</td>\n",
       "    </tr>\n",
       "    <tr>\n",
       "      <th>2</th>\n",
       "      <td>16</td>\n",
       "      <td>Arpi</td>\n",
       "      <td>Vadodara</td>\n",
       "      <td>10th</td>\n",
       "    </tr>\n",
       "    <tr>\n",
       "      <th>3</th>\n",
       "      <td>17</td>\n",
       "      <td>Vaibhav</td>\n",
       "      <td>Karnavati</td>\n",
       "      <td>11th</td>\n",
       "    </tr>\n",
       "    <tr>\n",
       "      <th>4</th>\n",
       "      <td>18</td>\n",
       "      <td>Thapa</td>\n",
       "      <td>Daman</td>\n",
       "      <td>11th</td>\n",
       "    </tr>\n",
       "  </tbody>\n",
       "</table>\n",
       "</div>"
      ],
      "text/plain": [
       "   Age       Name      Address Qualification\n",
       "0   19      Nirav        Surat          12th\n",
       "1   15       Vala  Gandhinagar          10th\n",
       "2   16       Arpi     Vadodara          10th\n",
       "3   17   Vaibhav     Karnavati          11th\n",
       "4   18      Thapa        Daman          11th"
      ]
     },
     "execution_count": 43,
     "metadata": {},
     "output_type": "execute_result"
    }
   ],
   "source": [
    "df.reset_index(level=['Age'], inplace=True)\n",
    "df"
   ]
  },
  {
   "cell_type": "markdown",
   "id": "e1657929",
   "metadata": {},
   "source": [
    "Changing Column Names and Row Indexes in Pandas\n",
    "\n",
    "* Method 1: Using .columns and .index directly\n",
    "\n",
    "* Method 2: Using .rename() with a dictionary\n",
    "\n",
    "* Method 3: With lambda functions Dynamically change all names\n",
    "\n",
    "* Method 4: Using .columns.values Modify a specific column name"
   ]
  },
  {
   "cell_type": "code",
   "execution_count": null,
   "id": "9f929c87",
   "metadata": {},
   "outputs": [
    {
     "name": "stdout",
     "output_type": "stream",
     "text": [
      "Original DataFrame:\n"
     ]
    },
    {
     "data": {
      "application/vnd.microsoft.datawrangler.viewer.v0+json": {
       "columns": [
        {
         "name": "index",
         "rawType": "int64",
         "type": "integer"
        },
        {
         "name": "Name",
         "rawType": "object",
         "type": "string"
        },
        {
         "name": "Age",
         "rawType": "int64",
         "type": "integer"
        }
       ],
       "ref": "da247983-4497-465b-be15-380f57ebfa0c",
       "rows": [
        [
         "0",
         "Tom",
         "15"
        ],
        [
         "1",
         "Nick",
         "26"
        ],
        [
         "2",
         "John",
         "17"
        ],
        [
         "3",
         "Peter",
         "28"
        ]
       ],
       "shape": {
        "columns": 2,
        "rows": 4
       }
      },
      "text/html": [
       "<div>\n",
       "<style scoped>\n",
       "    .dataframe tbody tr th:only-of-type {\n",
       "        vertical-align: middle;\n",
       "    }\n",
       "\n",
       "    .dataframe tbody tr th {\n",
       "        vertical-align: top;\n",
       "    }\n",
       "\n",
       "    .dataframe thead th {\n",
       "        text-align: right;\n",
       "    }\n",
       "</style>\n",
       "<table border=\"1\" class=\"dataframe\">\n",
       "  <thead>\n",
       "    <tr style=\"text-align: right;\">\n",
       "      <th></th>\n",
       "      <th>Name</th>\n",
       "      <th>Age</th>\n",
       "    </tr>\n",
       "  </thead>\n",
       "  <tbody>\n",
       "    <tr>\n",
       "      <th>0</th>\n",
       "      <td>Tom</td>\n",
       "      <td>15</td>\n",
       "    </tr>\n",
       "    <tr>\n",
       "      <th>1</th>\n",
       "      <td>Nick</td>\n",
       "      <td>26</td>\n",
       "    </tr>\n",
       "    <tr>\n",
       "      <th>2</th>\n",
       "      <td>John</td>\n",
       "      <td>17</td>\n",
       "    </tr>\n",
       "    <tr>\n",
       "      <th>3</th>\n",
       "      <td>Peter</td>\n",
       "      <td>28</td>\n",
       "    </tr>\n",
       "  </tbody>\n",
       "</table>\n",
       "</div>"
      ],
      "text/plain": [
       "    Name  Age\n",
       "0    Tom   15\n",
       "1   Nick   26\n",
       "2   John   17\n",
       "3  Peter   28"
      ]
     },
     "metadata": {},
     "output_type": "display_data"
    }
   ],
   "source": [
    "df = pd.DataFrame({\n",
    "    \"Name\": ['Tom', 'Nick', 'John', 'Peter'],\n",
    "    \"Age\": [15, 26, 17, 28]\n",
    "})\n",
    "print(\"Original DataFrame:\")\n",
    "display(df)"
   ]
  },
  {
   "cell_type": "code",
   "execution_count": null,
   "id": "21cef0fc",
   "metadata": {},
   "outputs": [
    {
     "data": {
      "application/vnd.microsoft.datawrangler.viewer.v0+json": {
       "columns": [
        {
         "name": "index",
         "rawType": "int64",
         "type": "integer"
        },
        {
         "name": "column1",
         "rawType": "object",
         "type": "string"
        },
        {
         "name": "column2",
         "rawType": "int64",
         "type": "integer"
        }
       ],
       "ref": "9c542b92-a2af-4f9d-b987-098fc816c1db",
       "rows": [
        [
         "4",
         "Tom",
         "15"
        ],
        [
         "4",
         "Nick",
         "26"
        ],
        [
         "7",
         "John",
         "17"
        ],
        [
         "8",
         "Peter",
         "28"
        ]
       ],
       "shape": {
        "columns": 2,
        "rows": 4
       }
      },
      "text/html": [
       "<div>\n",
       "<style scoped>\n",
       "    .dataframe tbody tr th:only-of-type {\n",
       "        vertical-align: middle;\n",
       "    }\n",
       "\n",
       "    .dataframe tbody tr th {\n",
       "        vertical-align: top;\n",
       "    }\n",
       "\n",
       "    .dataframe thead th {\n",
       "        text-align: right;\n",
       "    }\n",
       "</style>\n",
       "<table border=\"1\" class=\"dataframe\">\n",
       "  <thead>\n",
       "    <tr style=\"text-align: right;\">\n",
       "      <th></th>\n",
       "      <th>column1</th>\n",
       "      <th>column2</th>\n",
       "    </tr>\n",
       "  </thead>\n",
       "  <tbody>\n",
       "    <tr>\n",
       "      <th>4</th>\n",
       "      <td>Tom</td>\n",
       "      <td>15</td>\n",
       "    </tr>\n",
       "    <tr>\n",
       "      <th>4</th>\n",
       "      <td>Nick</td>\n",
       "      <td>26</td>\n",
       "    </tr>\n",
       "    <tr>\n",
       "      <th>7</th>\n",
       "      <td>John</td>\n",
       "      <td>17</td>\n",
       "    </tr>\n",
       "    <tr>\n",
       "      <th>8</th>\n",
       "      <td>Peter</td>\n",
       "      <td>28</td>\n",
       "    </tr>\n",
       "  </tbody>\n",
       "</table>\n",
       "</div>"
      ],
      "text/plain": [
       "  column1  column2\n",
       "4     Tom       15\n",
       "4    Nick       26\n",
       "7    John       17\n",
       "8   Peter       28"
      ]
     },
     "execution_count": 45,
     "metadata": {},
     "output_type": "execute_result"
    }
   ],
   "source": [
    "# Method 1\n",
    "df.columns = ['column1', 'column2']\n",
    "df.index = [4,4,7,8]\n",
    "df"
   ]
  },
  {
   "cell_type": "code",
   "execution_count": null,
   "id": "4df2bafb",
   "metadata": {},
   "outputs": [
    {
     "data": {
      "application/vnd.microsoft.datawrangler.viewer.v0+json": {
       "columns": [
        {
         "name": "index",
         "rawType": "int64",
         "type": "integer"
        },
        {
         "name": "ncol1",
         "rawType": "object",
         "type": "string"
        },
        {
         "name": "column2",
         "rawType": "int64",
         "type": "integer"
        }
       ],
       "ref": "fc8d46c3-8f8d-493c-9fdf-73e6411fa140",
       "rows": [
        [
         "4",
         "Tom",
         "15"
        ],
        [
         "4",
         "Nick",
         "26"
        ],
        [
         "8",
         "John",
         "17"
        ],
        [
         "8",
         "Peter",
         "28"
        ]
       ],
       "shape": {
        "columns": 2,
        "rows": 4
       }
      },
      "text/html": [
       "<div>\n",
       "<style scoped>\n",
       "    .dataframe tbody tr th:only-of-type {\n",
       "        vertical-align: middle;\n",
       "    }\n",
       "\n",
       "    .dataframe tbody tr th {\n",
       "        vertical-align: top;\n",
       "    }\n",
       "\n",
       "    .dataframe thead th {\n",
       "        text-align: right;\n",
       "    }\n",
       "</style>\n",
       "<table border=\"1\" class=\"dataframe\">\n",
       "  <thead>\n",
       "    <tr style=\"text-align: right;\">\n",
       "      <th></th>\n",
       "      <th>ncol1</th>\n",
       "      <th>column2</th>\n",
       "    </tr>\n",
       "  </thead>\n",
       "  <tbody>\n",
       "    <tr>\n",
       "      <th>4</th>\n",
       "      <td>Tom</td>\n",
       "      <td>15</td>\n",
       "    </tr>\n",
       "    <tr>\n",
       "      <th>4</th>\n",
       "      <td>Nick</td>\n",
       "      <td>26</td>\n",
       "    </tr>\n",
       "    <tr>\n",
       "      <th>8</th>\n",
       "      <td>John</td>\n",
       "      <td>17</td>\n",
       "    </tr>\n",
       "    <tr>\n",
       "      <th>8</th>\n",
       "      <td>Peter</td>\n",
       "      <td>28</td>\n",
       "    </tr>\n",
       "  </tbody>\n",
       "</table>\n",
       "</div>"
      ],
      "text/plain": [
       "   ncol1  column2\n",
       "4    Tom       15\n",
       "4   Nick       26\n",
       "8   John       17\n",
       "8  Peter       28"
      ]
     },
     "execution_count": 49,
     "metadata": {},
     "output_type": "execute_result"
    }
   ],
   "source": [
    "# method - 2\n",
    "df.rename(columns={\"column1\": \"ncol1\"}, index={7: 8}, inplace=True)\n",
    "df"
   ]
  },
  {
   "cell_type": "markdown",
   "id": "3df66289",
   "metadata": {},
   "source": [
    "# NBA"
   ]
  },
  {
   "cell_type": "code",
   "execution_count": 49,
   "id": "af2a3e1f",
   "metadata": {},
   "outputs": [
    {
     "data": {
      "application/vnd.microsoft.datawrangler.viewer.v0+json": {
       "columns": [
        {
         "name": "index",
         "rawType": "int64",
         "type": "integer"
        },
        {
         "name": "Name",
         "rawType": "object",
         "type": "string"
        },
        {
         "name": "Team",
         "rawType": "object",
         "type": "string"
        },
        {
         "name": "Number",
         "rawType": "float64",
         "type": "float"
        },
        {
         "name": "Position",
         "rawType": "object",
         "type": "string"
        },
        {
         "name": "Age",
         "rawType": "float64",
         "type": "float"
        },
        {
         "name": "Height",
         "rawType": "object",
         "type": "string"
        },
        {
         "name": "Weight",
         "rawType": "float64",
         "type": "float"
        },
        {
         "name": "College",
         "rawType": "object",
         "type": "unknown"
        },
        {
         "name": "Salary",
         "rawType": "float64",
         "type": "float"
        }
       ],
       "ref": "618aad29-46d2-4858-b58c-b25458db6044",
       "rows": [
        [
         "0",
         "Avery Bradley",
         "Boston Celtics",
         "0.0",
         "PG",
         "25.0",
         "6-2",
         "180.0",
         "Texas",
         "7730337.0"
        ],
        [
         "1",
         "Jae Crowder",
         "Boston Celtics",
         "99.0",
         "SF",
         "25.0",
         "6-6",
         "235.0",
         "Marquette",
         "6796117.0"
        ],
        [
         "2",
         "John Holland",
         "Boston Celtics",
         "30.0",
         "SG",
         "27.0",
         "6-5",
         "205.0",
         "Boston University",
         null
        ],
        [
         "3",
         "R.J. Hunter",
         "Boston Celtics",
         "28.0",
         "SG",
         "22.0",
         "6-5",
         "185.0",
         "Georgia State",
         "1148640.0"
        ],
        [
         "4",
         "Jonas Jerebko",
         "Boston Celtics",
         "8.0",
         "PF",
         "29.0",
         "6-10",
         "231.0",
         null,
         "5000000.0"
        ]
       ],
       "shape": {
        "columns": 9,
        "rows": 5
       }
      },
      "text/html": [
       "<div>\n",
       "<style scoped>\n",
       "    .dataframe tbody tr th:only-of-type {\n",
       "        vertical-align: middle;\n",
       "    }\n",
       "\n",
       "    .dataframe tbody tr th {\n",
       "        vertical-align: top;\n",
       "    }\n",
       "\n",
       "    .dataframe thead th {\n",
       "        text-align: right;\n",
       "    }\n",
       "</style>\n",
       "<table border=\"1\" class=\"dataframe\">\n",
       "  <thead>\n",
       "    <tr style=\"text-align: right;\">\n",
       "      <th></th>\n",
       "      <th>Name</th>\n",
       "      <th>Team</th>\n",
       "      <th>Number</th>\n",
       "      <th>Position</th>\n",
       "      <th>Age</th>\n",
       "      <th>Height</th>\n",
       "      <th>Weight</th>\n",
       "      <th>College</th>\n",
       "      <th>Salary</th>\n",
       "    </tr>\n",
       "  </thead>\n",
       "  <tbody>\n",
       "    <tr>\n",
       "      <th>0</th>\n",
       "      <td>Avery Bradley</td>\n",
       "      <td>Boston Celtics</td>\n",
       "      <td>0.0</td>\n",
       "      <td>PG</td>\n",
       "      <td>25.0</td>\n",
       "      <td>6-2</td>\n",
       "      <td>180.0</td>\n",
       "      <td>Texas</td>\n",
       "      <td>7730337.0</td>\n",
       "    </tr>\n",
       "    <tr>\n",
       "      <th>1</th>\n",
       "      <td>Jae Crowder</td>\n",
       "      <td>Boston Celtics</td>\n",
       "      <td>99.0</td>\n",
       "      <td>SF</td>\n",
       "      <td>25.0</td>\n",
       "      <td>6-6</td>\n",
       "      <td>235.0</td>\n",
       "      <td>Marquette</td>\n",
       "      <td>6796117.0</td>\n",
       "    </tr>\n",
       "    <tr>\n",
       "      <th>2</th>\n",
       "      <td>John Holland</td>\n",
       "      <td>Boston Celtics</td>\n",
       "      <td>30.0</td>\n",
       "      <td>SG</td>\n",
       "      <td>27.0</td>\n",
       "      <td>6-5</td>\n",
       "      <td>205.0</td>\n",
       "      <td>Boston University</td>\n",
       "      <td>NaN</td>\n",
       "    </tr>\n",
       "    <tr>\n",
       "      <th>3</th>\n",
       "      <td>R.J. Hunter</td>\n",
       "      <td>Boston Celtics</td>\n",
       "      <td>28.0</td>\n",
       "      <td>SG</td>\n",
       "      <td>22.0</td>\n",
       "      <td>6-5</td>\n",
       "      <td>185.0</td>\n",
       "      <td>Georgia State</td>\n",
       "      <td>1148640.0</td>\n",
       "    </tr>\n",
       "    <tr>\n",
       "      <th>4</th>\n",
       "      <td>Jonas Jerebko</td>\n",
       "      <td>Boston Celtics</td>\n",
       "      <td>8.0</td>\n",
       "      <td>PF</td>\n",
       "      <td>29.0</td>\n",
       "      <td>6-10</td>\n",
       "      <td>231.0</td>\n",
       "      <td>NaN</td>\n",
       "      <td>5000000.0</td>\n",
       "    </tr>\n",
       "  </tbody>\n",
       "</table>\n",
       "</div>"
      ],
      "text/plain": [
       "            Name            Team  Number Position   Age Height  Weight  \\\n",
       "0  Avery Bradley  Boston Celtics     0.0       PG  25.0    6-2   180.0   \n",
       "1    Jae Crowder  Boston Celtics    99.0       SF  25.0    6-6   235.0   \n",
       "2   John Holland  Boston Celtics    30.0       SG  27.0    6-5   205.0   \n",
       "3    R.J. Hunter  Boston Celtics    28.0       SG  22.0    6-5   185.0   \n",
       "4  Jonas Jerebko  Boston Celtics     8.0       PF  29.0   6-10   231.0   \n",
       "\n",
       "             College     Salary  \n",
       "0              Texas  7730337.0  \n",
       "1          Marquette  6796117.0  \n",
       "2  Boston University        NaN  \n",
       "3      Georgia State  1148640.0  \n",
       "4                NaN  5000000.0  "
      ]
     },
     "execution_count": 49,
     "metadata": {},
     "output_type": "execute_result"
    }
   ],
   "source": [
    "import pandas as pd\n",
    "df = pd.read_csv(\"data\\\\nba.csv\")\n",
    "df.head()\n"
   ]
  },
  {
   "cell_type": "code",
   "execution_count": 50,
   "id": "ee8b5497",
   "metadata": {},
   "outputs": [
    {
     "data": {
      "text/plain": [
       "(458, 9)"
      ]
     },
     "execution_count": 50,
     "metadata": {},
     "output_type": "execute_result"
    }
   ],
   "source": [
    "df.shape"
   ]
  },
  {
   "cell_type": "code",
   "execution_count": 51,
   "id": "c9b23efa",
   "metadata": {},
   "outputs": [
    {
     "data": {
      "application/vnd.microsoft.datawrangler.viewer.v0+json": {
       "columns": [
        {
         "name": "index",
         "rawType": "object",
         "type": "string"
        },
        {
         "name": "0",
         "rawType": "int64",
         "type": "integer"
        }
       ],
       "ref": "96030f3d-8596-4f07-802d-32309e790777",
       "rows": [
        [
         "Name",
         "1"
        ],
        [
         "Team",
         "1"
        ],
        [
         "Number",
         "1"
        ],
        [
         "Position",
         "1"
        ],
        [
         "Age",
         "1"
        ],
        [
         "Height",
         "1"
        ],
        [
         "Weight",
         "1"
        ],
        [
         "College",
         "85"
        ],
        [
         "Salary",
         "12"
        ]
       ],
       "shape": {
        "columns": 1,
        "rows": 9
       }
      },
      "text/plain": [
       "Name         1\n",
       "Team         1\n",
       "Number       1\n",
       "Position     1\n",
       "Age          1\n",
       "Height       1\n",
       "Weight       1\n",
       "College     85\n",
       "Salary      12\n",
       "dtype: int64"
      ]
     },
     "execution_count": 51,
     "metadata": {},
     "output_type": "execute_result"
    }
   ],
   "source": [
    "df.isnull().sum()"
   ]
  },
  {
   "cell_type": "code",
   "execution_count": 52,
   "id": "03c7e681",
   "metadata": {},
   "outputs": [
    {
     "data": {
      "application/vnd.microsoft.datawrangler.viewer.v0+json": {
       "columns": [
        {
         "name": "index",
         "rawType": "object",
         "type": "string"
        },
        {
         "name": "0",
         "rawType": "object",
         "type": "unknown"
        }
       ],
       "ref": "7b00db4b-f64f-4017-bf6e-c2efa1342001",
       "rows": [
        [
         "Name",
         "object"
        ],
        [
         "Team",
         "object"
        ],
        [
         "Number",
         "float64"
        ],
        [
         "Position",
         "object"
        ],
        [
         "Age",
         "float64"
        ],
        [
         "Height",
         "object"
        ],
        [
         "Weight",
         "float64"
        ],
        [
         "College",
         "object"
        ],
        [
         "Salary",
         "float64"
        ]
       ],
       "shape": {
        "columns": 1,
        "rows": 9
       }
      },
      "text/plain": [
       "Name         object\n",
       "Team         object\n",
       "Number      float64\n",
       "Position     object\n",
       "Age         float64\n",
       "Height       object\n",
       "Weight      float64\n",
       "College      object\n",
       "Salary      float64\n",
       "dtype: object"
      ]
     },
     "execution_count": 52,
     "metadata": {},
     "output_type": "execute_result"
    }
   ],
   "source": [
    "df.dtypes"
   ]
  },
  {
   "cell_type": "code",
   "execution_count": 53,
   "id": "cdd3c44c",
   "metadata": {},
   "outputs": [
    {
     "data": {
      "text/plain": [
       "array(['Boston Celtics', 'Brooklyn Nets', 'New York Knicks',\n",
       "       'Philadelphia 76ers', 'Toronto Raptors', 'Golden State Warriors',\n",
       "       'Los Angeles Clippers', 'Los Angeles Lakers', 'Phoenix Suns',\n",
       "       'Sacramento Kings', 'Chicago Bulls', 'Cleveland Cavaliers',\n",
       "       'Detroit Pistons', 'Indiana Pacers', 'Milwaukee Bucks',\n",
       "       'Dallas Mavericks', 'Houston Rockets', 'Memphis Grizzlies',\n",
       "       'New Orleans Pelicans', 'San Antonio Spurs', 'Atlanta Hawks',\n",
       "       'Charlotte Hornets', 'Miami Heat', 'Orlando Magic',\n",
       "       'Washington Wizards', 'Denver Nuggets', 'Minnesota Timberwolves',\n",
       "       'Oklahoma City Thunder', 'Portland Trail Blazers', 'Utah Jazz',\n",
       "       nan], dtype=object)"
      ]
     },
     "execution_count": 53,
     "metadata": {},
     "output_type": "execute_result"
    }
   ],
   "source": [
    "TEAM = df['Team'].unique()\n",
    "TEAM"
   ]
  },
  {
   "cell_type": "code",
   "execution_count": 54,
   "id": "252f4ead",
   "metadata": {},
   "outputs": [
    {
     "data": {
      "application/vnd.microsoft.datawrangler.viewer.v0+json": {
       "columns": [
        {
         "name": "Team",
         "rawType": "object",
         "type": "string"
        },
        {
         "name": "0",
         "rawType": "int64",
         "type": "integer"
        }
       ],
       "ref": "15ef81b9-e043-467f-95ee-c61f10a2c612",
       "rows": [
        [
         "Atlanta Hawks",
         "15"
        ],
        [
         "Boston Celtics",
         "15"
        ],
        [
         "Brooklyn Nets",
         "15"
        ],
        [
         "Charlotte Hornets",
         "15"
        ],
        [
         "Chicago Bulls",
         "15"
        ],
        [
         "Cleveland Cavaliers",
         "15"
        ],
        [
         "Dallas Mavericks",
         "15"
        ],
        [
         "Denver Nuggets",
         "15"
        ],
        [
         "Detroit Pistons",
         "15"
        ],
        [
         "Golden State Warriors",
         "15"
        ],
        [
         "Houston Rockets",
         "15"
        ],
        [
         "Indiana Pacers",
         "15"
        ],
        [
         "Los Angeles Clippers",
         "15"
        ],
        [
         "Los Angeles Lakers",
         "15"
        ],
        [
         "Memphis Grizzlies",
         "18"
        ],
        [
         "Miami Heat",
         "15"
        ],
        [
         "Milwaukee Bucks",
         "16"
        ],
        [
         "Minnesota Timberwolves",
         "14"
        ],
        [
         "New Orleans Pelicans",
         "19"
        ],
        [
         "New York Knicks",
         "16"
        ],
        [
         "Oklahoma City Thunder",
         "15"
        ],
        [
         "Orlando Magic",
         "14"
        ],
        [
         "Philadelphia 76ers",
         "15"
        ],
        [
         "Phoenix Suns",
         "15"
        ],
        [
         "Portland Trail Blazers",
         "15"
        ],
        [
         "Sacramento Kings",
         "15"
        ],
        [
         "San Antonio Spurs",
         "15"
        ],
        [
         "Toronto Raptors",
         "15"
        ],
        [
         "Utah Jazz",
         "15"
        ],
        [
         "Washington Wizards",
         "15"
        ]
       ],
       "shape": {
        "columns": 1,
        "rows": 30
       }
      },
      "text/plain": [
       "Team\n",
       "Atlanta Hawks             15\n",
       "Boston Celtics            15\n",
       "Brooklyn Nets             15\n",
       "Charlotte Hornets         15\n",
       "Chicago Bulls             15\n",
       "Cleveland Cavaliers       15\n",
       "Dallas Mavericks          15\n",
       "Denver Nuggets            15\n",
       "Detroit Pistons           15\n",
       "Golden State Warriors     15\n",
       "Houston Rockets           15\n",
       "Indiana Pacers            15\n",
       "Los Angeles Clippers      15\n",
       "Los Angeles Lakers        15\n",
       "Memphis Grizzlies         18\n",
       "Miami Heat                15\n",
       "Milwaukee Bucks           16\n",
       "Minnesota Timberwolves    14\n",
       "New Orleans Pelicans      19\n",
       "New York Knicks           16\n",
       "Oklahoma City Thunder     15\n",
       "Orlando Magic             14\n",
       "Philadelphia 76ers        15\n",
       "Phoenix Suns              15\n",
       "Portland Trail Blazers    15\n",
       "Sacramento Kings          15\n",
       "San Antonio Spurs         15\n",
       "Toronto Raptors           15\n",
       "Utah Jazz                 15\n",
       "Washington Wizards        15\n",
       "dtype: int64"
      ]
     },
     "execution_count": 54,
     "metadata": {},
     "output_type": "execute_result"
    }
   ],
   "source": [
    "df.groupby('Team').size()"
   ]
  },
  {
   "cell_type": "code",
   "execution_count": 55,
   "id": "9e89c2a2",
   "metadata": {},
   "outputs": [
    {
     "data": {
      "application/vnd.microsoft.datawrangler.viewer.v0+json": {
       "columns": [
        {
         "name": "Team",
         "rawType": "object",
         "type": "string"
        },
        {
         "name": "count",
         "rawType": "int64",
         "type": "integer"
        }
       ],
       "ref": "003ecd7b-66d1-46d8-9624-c5cb8e6a7c87",
       "rows": [
        [
         "New Orleans Pelicans",
         "19"
        ],
        [
         "Memphis Grizzlies",
         "18"
        ],
        [
         "New York Knicks",
         "16"
        ],
        [
         "Milwaukee Bucks",
         "16"
        ],
        [
         "Brooklyn Nets",
         "15"
        ],
        [
         "Boston Celtics",
         "15"
        ],
        [
         "Los Angeles Clippers",
         "15"
        ],
        [
         "Los Angeles Lakers",
         "15"
        ],
        [
         "Phoenix Suns",
         "15"
        ],
        [
         "Sacramento Kings",
         "15"
        ],
        [
         "Chicago Bulls",
         "15"
        ],
        [
         "Philadelphia 76ers",
         "15"
        ],
        [
         "Toronto Raptors",
         "15"
        ],
        [
         "Golden State Warriors",
         "15"
        ],
        [
         "Indiana Pacers",
         "15"
        ],
        [
         "Detroit Pistons",
         "15"
        ],
        [
         "Cleveland Cavaliers",
         "15"
        ],
        [
         "Dallas Mavericks",
         "15"
        ],
        [
         "Houston Rockets",
         "15"
        ],
        [
         "San Antonio Spurs",
         "15"
        ],
        [
         "Atlanta Hawks",
         "15"
        ],
        [
         "Charlotte Hornets",
         "15"
        ],
        [
         "Miami Heat",
         "15"
        ],
        [
         "Washington Wizards",
         "15"
        ],
        [
         "Denver Nuggets",
         "15"
        ],
        [
         "Oklahoma City Thunder",
         "15"
        ],
        [
         "Utah Jazz",
         "15"
        ],
        [
         "Portland Trail Blazers",
         "15"
        ],
        [
         "Orlando Magic",
         "14"
        ],
        [
         "Minnesota Timberwolves",
         "14"
        ]
       ],
       "shape": {
        "columns": 1,
        "rows": 30
       }
      },
      "text/plain": [
       "Team\n",
       "New Orleans Pelicans      19\n",
       "Memphis Grizzlies         18\n",
       "New York Knicks           16\n",
       "Milwaukee Bucks           16\n",
       "Brooklyn Nets             15\n",
       "Boston Celtics            15\n",
       "Los Angeles Clippers      15\n",
       "Los Angeles Lakers        15\n",
       "Phoenix Suns              15\n",
       "Sacramento Kings          15\n",
       "Chicago Bulls             15\n",
       "Philadelphia 76ers        15\n",
       "Toronto Raptors           15\n",
       "Golden State Warriors     15\n",
       "Indiana Pacers            15\n",
       "Detroit Pistons           15\n",
       "Cleveland Cavaliers       15\n",
       "Dallas Mavericks          15\n",
       "Houston Rockets           15\n",
       "San Antonio Spurs         15\n",
       "Atlanta Hawks             15\n",
       "Charlotte Hornets         15\n",
       "Miami Heat                15\n",
       "Washington Wizards        15\n",
       "Denver Nuggets            15\n",
       "Oklahoma City Thunder     15\n",
       "Utah Jazz                 15\n",
       "Portland Trail Blazers    15\n",
       "Orlando Magic             14\n",
       "Minnesota Timberwolves    14\n",
       "Name: count, dtype: int64"
      ]
     },
     "execution_count": 55,
     "metadata": {},
     "output_type": "execute_result"
    }
   ],
   "source": [
    "df['Team'].value_counts()\n"
   ]
  },
  {
   "cell_type": "code",
   "execution_count": 56,
   "id": "580ff0e0",
   "metadata": {},
   "outputs": [
    {
     "name": "stdout",
     "output_type": "stream",
     "text": [
      "26.938730853391686\n"
     ]
    }
   ],
   "source": [
    "print(df['Age'].mean())"
   ]
  },
  {
   "cell_type": "code",
   "execution_count": 57,
   "id": "ac3897b6",
   "metadata": {},
   "outputs": [
    {
     "name": "stdout",
     "output_type": "stream",
     "text": [
      "Minimum salry is : 30888.0\n",
      "Maximum salry is : 25000000.0\n"
     ]
    }
   ],
   "source": [
    "print(\"Minimum salry is :\",df['Salary'].min())\n",
    "print(\"Maximum salry is :\",df['Salary'].max())"
   ]
  },
  {
   "cell_type": "code",
   "execution_count": 58,
   "id": "a7b5ea28",
   "metadata": {},
   "outputs": [
    {
     "data": {
      "application/vnd.microsoft.datawrangler.viewer.v0+json": {
       "columns": [
        {
         "name": "index",
         "rawType": "int64",
         "type": "integer"
        },
        {
         "name": "Name",
         "rawType": "object",
         "type": "string"
        },
        {
         "name": "Team",
         "rawType": "object",
         "type": "string"
        },
        {
         "name": "Number",
         "rawType": "float64",
         "type": "float"
        },
        {
         "name": "Position",
         "rawType": "object",
         "type": "string"
        },
        {
         "name": "Age",
         "rawType": "float64",
         "type": "float"
        },
        {
         "name": "Height",
         "rawType": "object",
         "type": "string"
        },
        {
         "name": "Weight",
         "rawType": "float64",
         "type": "float"
        },
        {
         "name": "College",
         "rawType": "object",
         "type": "string"
        },
        {
         "name": "Salary",
         "rawType": "float64",
         "type": "float"
        }
       ],
       "ref": "0c69d379-83e9-4182-833b-ef8e94e0dc49",
       "rows": [
        [
         "0",
         "Avery Bradley",
         "Boston Celtics",
         "0.0",
         "PG",
         "25.0",
         "6-2",
         "180.0",
         "Texas",
         "7730337.0"
        ],
        [
         "1",
         "Jae Crowder",
         "Boston Celtics",
         "99.0",
         "SF",
         "25.0",
         "6-6",
         "235.0",
         "Marquette",
         "6796117.0"
        ],
        [
         "3",
         "R.J. Hunter",
         "Boston Celtics",
         "28.0",
         "SG",
         "22.0",
         "6-5",
         "185.0",
         "Georgia State",
         "1148640.0"
        ],
        [
         "6",
         "Jordan Mickey",
         "Boston Celtics",
         "55.0",
         "PF",
         "21.0",
         "6-8",
         "235.0",
         "LSU",
         "1170960.0"
        ],
        [
         "7",
         "Kelly Olynyk",
         "Boston Celtics",
         "41.0",
         "C",
         "25.0",
         "7-0",
         "238.0",
         "Gonzaga",
         "2165160.0"
        ],
        [
         "8",
         "Terry Rozier",
         "Boston Celtics",
         "12.0",
         "PG",
         "22.0",
         "6-2",
         "190.0",
         "Louisville",
         "1824360.0"
        ],
        [
         "9",
         "Marcus Smart",
         "Boston Celtics",
         "36.0",
         "PG",
         "22.0",
         "6-4",
         "220.0",
         "Oklahoma State",
         "3431040.0"
        ],
        [
         "10",
         "Jared Sullinger",
         "Boston Celtics",
         "7.0",
         "C",
         "24.0",
         "6-9",
         "260.0",
         "Ohio State",
         "2569260.0"
        ],
        [
         "11",
         "Isaiah Thomas",
         "Boston Celtics",
         "4.0",
         "PG",
         "27.0",
         "5-9",
         "185.0",
         "Washington",
         "6912869.0"
        ],
        [
         "12",
         "Evan Turner",
         "Boston Celtics",
         "11.0",
         "SG",
         "27.0",
         "6-7",
         "220.0",
         "Ohio State",
         "3425510.0"
        ],
        [
         "13",
         "James Young",
         "Boston Celtics",
         "13.0",
         "SG",
         "20.0",
         "6-6",
         "215.0",
         "Kentucky",
         "1749840.0"
        ],
        [
         "14",
         "Tyler Zeller",
         "Boston Celtics",
         "44.0",
         "C",
         "26.0",
         "7-0",
         "253.0",
         "North Carolina",
         "2616975.0"
        ],
        [
         "16",
         "Markel Brown",
         "Brooklyn Nets",
         "22.0",
         "SG",
         "24.0",
         "6-3",
         "190.0",
         "Oklahoma State",
         "845059.0"
        ],
        [
         "17",
         "Wayne Ellington",
         "Brooklyn Nets",
         "21.0",
         "SG",
         "28.0",
         "6-4",
         "200.0",
         "North Carolina",
         "1500000.0"
        ],
        [
         "18",
         "Rondae Hollis-Jefferson",
         "Brooklyn Nets",
         "24.0",
         "SG",
         "21.0",
         "6-7",
         "220.0",
         "Arizona",
         "1335480.0"
        ],
        [
         "19",
         "Jarrett Jack",
         "Brooklyn Nets",
         "2.0",
         "PG",
         "32.0",
         "6-3",
         "200.0",
         "Georgia Tech",
         "6300000.0"
        ],
        [
         "21",
         "Sean Kilpatrick",
         "Brooklyn Nets",
         "6.0",
         "SG",
         "26.0",
         "6-4",
         "219.0",
         "Cincinnati",
         "134215.0"
        ],
        [
         "22",
         "Shane Larkin",
         "Brooklyn Nets",
         "0.0",
         "PG",
         "23.0",
         "5-11",
         "175.0",
         "Miami (FL)",
         "1500000.0"
        ],
        [
         "23",
         "Brook Lopez",
         "Brooklyn Nets",
         "11.0",
         "C",
         "28.0",
         "7-0",
         "275.0",
         "Stanford",
         "19689000.0"
        ],
        [
         "24",
         "Chris McCullough",
         "Brooklyn Nets",
         "1.0",
         "PF",
         "21.0",
         "6-11",
         "200.0",
         "Syracuse",
         "1140240.0"
        ],
        [
         "25",
         "Willie Reed",
         "Brooklyn Nets",
         "33.0",
         "PF",
         "26.0",
         "6-10",
         "220.0",
         "Saint Louis",
         "947276.0"
        ],
        [
         "26",
         "Thomas Robinson",
         "Brooklyn Nets",
         "41.0",
         "PF",
         "25.0",
         "6-10",
         "237.0",
         "Kansas",
         "981348.0"
        ],
        [
         "27",
         "Henry Sims",
         "Brooklyn Nets",
         "14.0",
         "C",
         "26.0",
         "6-10",
         "248.0",
         "Georgetown",
         "947276.0"
        ],
        [
         "28",
         "Donald Sloan",
         "Brooklyn Nets",
         "15.0",
         "PG",
         "28.0",
         "6-3",
         "205.0",
         "Texas A&M",
         "947276.0"
        ],
        [
         "29",
         "Thaddeus Young",
         "Brooklyn Nets",
         "30.0",
         "PF",
         "27.0",
         "6-8",
         "221.0",
         "Georgia Tech",
         "11235955.0"
        ],
        [
         "30",
         "Arron Afflalo",
         "New York Knicks",
         "4.0",
         "SG",
         "30.0",
         "6-5",
         "210.0",
         "UCLA",
         "8000000.0"
        ],
        [
         "31",
         "Lou Amundson",
         "New York Knicks",
         "17.0",
         "PF",
         "33.0",
         "6-9",
         "220.0",
         "UNLV",
         "1635476.0"
        ],
        [
         "33",
         "Carmelo Anthony",
         "New York Knicks",
         "7.0",
         "SF",
         "32.0",
         "6-8",
         "240.0",
         "Syracuse",
         "22875000.0"
        ],
        [
         "35",
         "Cleanthony Early",
         "New York Knicks",
         "11.0",
         "SF",
         "25.0",
         "6-8",
         "210.0",
         "Wichita State",
         "845059.0"
        ],
        [
         "36",
         "Langston Galloway",
         "New York Knicks",
         "2.0",
         "SG",
         "24.0",
         "6-2",
         "200.0",
         "Saint Joseph's",
         "845059.0"
        ],
        [
         "37",
         "Jerian Grant",
         "New York Knicks",
         "13.0",
         "PG",
         "23.0",
         "6-4",
         "195.0",
         "Notre Dame",
         "1572360.0"
        ],
        [
         "38",
         "Robin Lopez",
         "New York Knicks",
         "8.0",
         "C",
         "28.0",
         "7-0",
         "255.0",
         "Stanford",
         "12650000.0"
        ],
        [
         "39",
         "Kyle O'Quinn",
         "New York Knicks",
         "9.0",
         "PF",
         "26.0",
         "6-10",
         "250.0",
         "Norfolk State",
         "3750000.0"
        ],
        [
         "42",
         "Lance Thomas",
         "New York Knicks",
         "42.0",
         "SF",
         "28.0",
         "6-8",
         "235.0",
         "Duke",
         "1636842.0"
        ],
        [
         "44",
         "Derrick Williams",
         "New York Knicks",
         "23.0",
         "PF",
         "25.0",
         "6-8",
         "240.0",
         "Arizona",
         "4000000.0"
        ],
        [
         "45",
         "Tony Wroten",
         "New York Knicks",
         "5.0",
         "SG",
         "23.0",
         "6-6",
         "205.0",
         "Washington",
         "167406.0"
        ],
        [
         "47",
         "Isaiah Canaan",
         "Philadelphia 76ers",
         "0.0",
         "PG",
         "25.0",
         "6-0",
         "201.0",
         "Murray State",
         "947276.0"
        ],
        [
         "48",
         "Robert Covington",
         "Philadelphia 76ers",
         "33.0",
         "SF",
         "25.0",
         "6-9",
         "215.0",
         "Tennessee State",
         "1000000.0"
        ],
        [
         "49",
         "Joel Embiid",
         "Philadelphia 76ers",
         "21.0",
         "C",
         "22.0",
         "7-0",
         "250.0",
         "Kansas",
         "4626960.0"
        ],
        [
         "50",
         "Jerami Grant",
         "Philadelphia 76ers",
         "39.0",
         "SF",
         "22.0",
         "6-8",
         "210.0",
         "Syracuse",
         "845059.0"
        ],
        [
         "51",
         "Richaun Holmes",
         "Philadelphia 76ers",
         "22.0",
         "PF",
         "22.0",
         "6-10",
         "245.0",
         "Bowling Green",
         "1074169.0"
        ],
        [
         "52",
         "Carl Landry",
         "Philadelphia 76ers",
         "7.0",
         "PF",
         "32.0",
         "6-9",
         "248.0",
         "Purdue",
         "6500000.0"
        ],
        [
         "53",
         "Kendall Marshall",
         "Philadelphia 76ers",
         "5.0",
         "PG",
         "24.0",
         "6-4",
         "200.0",
         "North Carolina",
         "2144772.0"
        ],
        [
         "54",
         "T.J. McConnell",
         "Philadelphia 76ers",
         "12.0",
         "PG",
         "24.0",
         "6-2",
         "200.0",
         "Arizona",
         "525093.0"
        ],
        [
         "55",
         "Nerlens Noel",
         "Philadelphia 76ers",
         "4.0",
         "PF",
         "22.0",
         "6-11",
         "228.0",
         "Kentucky",
         "3457800.0"
        ],
        [
         "56",
         "Jahlil Okafor",
         "Philadelphia 76ers",
         "8.0",
         "C",
         "20.0",
         "6-11",
         "275.0",
         "Duke",
         "4582680.0"
        ],
        [
         "57",
         "Ish Smith",
         "Philadelphia 76ers",
         "1.0",
         "PG",
         "27.0",
         "6-0",
         "175.0",
         "Wake Forest",
         "947276.0"
        ],
        [
         "58",
         "Nik Stauskas",
         "Philadelphia 76ers",
         "11.0",
         "SG",
         "22.0",
         "6-6",
         "205.0",
         "Michigan",
         "2869440.0"
        ],
        [
         "59",
         "Hollis Thompson",
         "Philadelphia 76ers",
         "31.0",
         "SG",
         "25.0",
         "6-8",
         "206.0",
         "Georgetown",
         "947276.0"
        ],
        [
         "60",
         "Christian Wood",
         "Philadelphia 76ers",
         "35.0",
         "PF",
         "20.0",
         "6-11",
         "220.0",
         "UNLV",
         "525093.0"
        ]
       ],
       "shape": {
        "columns": 9,
        "rows": 364
       }
      },
      "text/html": [
       "<div>\n",
       "<style scoped>\n",
       "    .dataframe tbody tr th:only-of-type {\n",
       "        vertical-align: middle;\n",
       "    }\n",
       "\n",
       "    .dataframe tbody tr th {\n",
       "        vertical-align: top;\n",
       "    }\n",
       "\n",
       "    .dataframe thead th {\n",
       "        text-align: right;\n",
       "    }\n",
       "</style>\n",
       "<table border=\"1\" class=\"dataframe\">\n",
       "  <thead>\n",
       "    <tr style=\"text-align: right;\">\n",
       "      <th></th>\n",
       "      <th>Name</th>\n",
       "      <th>Team</th>\n",
       "      <th>Number</th>\n",
       "      <th>Position</th>\n",
       "      <th>Age</th>\n",
       "      <th>Height</th>\n",
       "      <th>Weight</th>\n",
       "      <th>College</th>\n",
       "      <th>Salary</th>\n",
       "    </tr>\n",
       "  </thead>\n",
       "  <tbody>\n",
       "    <tr>\n",
       "      <th>0</th>\n",
       "      <td>Avery Bradley</td>\n",
       "      <td>Boston Celtics</td>\n",
       "      <td>0.0</td>\n",
       "      <td>PG</td>\n",
       "      <td>25.0</td>\n",
       "      <td>6-2</td>\n",
       "      <td>180.0</td>\n",
       "      <td>Texas</td>\n",
       "      <td>7730337.0</td>\n",
       "    </tr>\n",
       "    <tr>\n",
       "      <th>1</th>\n",
       "      <td>Jae Crowder</td>\n",
       "      <td>Boston Celtics</td>\n",
       "      <td>99.0</td>\n",
       "      <td>SF</td>\n",
       "      <td>25.0</td>\n",
       "      <td>6-6</td>\n",
       "      <td>235.0</td>\n",
       "      <td>Marquette</td>\n",
       "      <td>6796117.0</td>\n",
       "    </tr>\n",
       "    <tr>\n",
       "      <th>3</th>\n",
       "      <td>R.J. Hunter</td>\n",
       "      <td>Boston Celtics</td>\n",
       "      <td>28.0</td>\n",
       "      <td>SG</td>\n",
       "      <td>22.0</td>\n",
       "      <td>6-5</td>\n",
       "      <td>185.0</td>\n",
       "      <td>Georgia State</td>\n",
       "      <td>1148640.0</td>\n",
       "    </tr>\n",
       "    <tr>\n",
       "      <th>6</th>\n",
       "      <td>Jordan Mickey</td>\n",
       "      <td>Boston Celtics</td>\n",
       "      <td>55.0</td>\n",
       "      <td>PF</td>\n",
       "      <td>21.0</td>\n",
       "      <td>6-8</td>\n",
       "      <td>235.0</td>\n",
       "      <td>LSU</td>\n",
       "      <td>1170960.0</td>\n",
       "    </tr>\n",
       "    <tr>\n",
       "      <th>7</th>\n",
       "      <td>Kelly Olynyk</td>\n",
       "      <td>Boston Celtics</td>\n",
       "      <td>41.0</td>\n",
       "      <td>C</td>\n",
       "      <td>25.0</td>\n",
       "      <td>7-0</td>\n",
       "      <td>238.0</td>\n",
       "      <td>Gonzaga</td>\n",
       "      <td>2165160.0</td>\n",
       "    </tr>\n",
       "    <tr>\n",
       "      <th>...</th>\n",
       "      <td>...</td>\n",
       "      <td>...</td>\n",
       "      <td>...</td>\n",
       "      <td>...</td>\n",
       "      <td>...</td>\n",
       "      <td>...</td>\n",
       "      <td>...</td>\n",
       "      <td>...</td>\n",
       "      <td>...</td>\n",
       "    </tr>\n",
       "    <tr>\n",
       "      <th>449</th>\n",
       "      <td>Rodney Hood</td>\n",
       "      <td>Utah Jazz</td>\n",
       "      <td>5.0</td>\n",
       "      <td>SG</td>\n",
       "      <td>23.0</td>\n",
       "      <td>6-8</td>\n",
       "      <td>206.0</td>\n",
       "      <td>Duke</td>\n",
       "      <td>1348440.0</td>\n",
       "    </tr>\n",
       "    <tr>\n",
       "      <th>451</th>\n",
       "      <td>Chris Johnson</td>\n",
       "      <td>Utah Jazz</td>\n",
       "      <td>23.0</td>\n",
       "      <td>SF</td>\n",
       "      <td>26.0</td>\n",
       "      <td>6-6</td>\n",
       "      <td>206.0</td>\n",
       "      <td>Dayton</td>\n",
       "      <td>981348.0</td>\n",
       "    </tr>\n",
       "    <tr>\n",
       "      <th>452</th>\n",
       "      <td>Trey Lyles</td>\n",
       "      <td>Utah Jazz</td>\n",
       "      <td>41.0</td>\n",
       "      <td>PF</td>\n",
       "      <td>20.0</td>\n",
       "      <td>6-10</td>\n",
       "      <td>234.0</td>\n",
       "      <td>Kentucky</td>\n",
       "      <td>2239800.0</td>\n",
       "    </tr>\n",
       "    <tr>\n",
       "      <th>453</th>\n",
       "      <td>Shelvin Mack</td>\n",
       "      <td>Utah Jazz</td>\n",
       "      <td>8.0</td>\n",
       "      <td>PG</td>\n",
       "      <td>26.0</td>\n",
       "      <td>6-3</td>\n",
       "      <td>203.0</td>\n",
       "      <td>Butler</td>\n",
       "      <td>2433333.0</td>\n",
       "    </tr>\n",
       "    <tr>\n",
       "      <th>456</th>\n",
       "      <td>Jeff Withey</td>\n",
       "      <td>Utah Jazz</td>\n",
       "      <td>24.0</td>\n",
       "      <td>C</td>\n",
       "      <td>26.0</td>\n",
       "      <td>7-0</td>\n",
       "      <td>231.0</td>\n",
       "      <td>Kansas</td>\n",
       "      <td>947276.0</td>\n",
       "    </tr>\n",
       "  </tbody>\n",
       "</table>\n",
       "<p>364 rows × 9 columns</p>\n",
       "</div>"
      ],
      "text/plain": [
       "              Name            Team  Number Position   Age Height  Weight  \\\n",
       "0    Avery Bradley  Boston Celtics     0.0       PG  25.0    6-2   180.0   \n",
       "1      Jae Crowder  Boston Celtics    99.0       SF  25.0    6-6   235.0   \n",
       "3      R.J. Hunter  Boston Celtics    28.0       SG  22.0    6-5   185.0   \n",
       "6    Jordan Mickey  Boston Celtics    55.0       PF  21.0    6-8   235.0   \n",
       "7     Kelly Olynyk  Boston Celtics    41.0        C  25.0    7-0   238.0   \n",
       "..             ...             ...     ...      ...   ...    ...     ...   \n",
       "449    Rodney Hood       Utah Jazz     5.0       SG  23.0    6-8   206.0   \n",
       "451  Chris Johnson       Utah Jazz    23.0       SF  26.0    6-6   206.0   \n",
       "452     Trey Lyles       Utah Jazz    41.0       PF  20.0   6-10   234.0   \n",
       "453   Shelvin Mack       Utah Jazz     8.0       PG  26.0    6-3   203.0   \n",
       "456    Jeff Withey       Utah Jazz    24.0        C  26.0    7-0   231.0   \n",
       "\n",
       "           College     Salary  \n",
       "0            Texas  7730337.0  \n",
       "1        Marquette  6796117.0  \n",
       "3    Georgia State  1148640.0  \n",
       "6              LSU  1170960.0  \n",
       "7          Gonzaga  2165160.0  \n",
       "..             ...        ...  \n",
       "449           Duke  1348440.0  \n",
       "451         Dayton   981348.0  \n",
       "452       Kentucky  2239800.0  \n",
       "453         Butler  2433333.0  \n",
       "456         Kansas   947276.0  \n",
       "\n",
       "[364 rows x 9 columns]"
      ]
     },
     "execution_count": 58,
     "metadata": {},
     "output_type": "execute_result"
    }
   ],
   "source": [
    "df.dropna(axis=0, inplace=True)\n",
    "df"
   ]
  },
  {
   "cell_type": "code",
   "execution_count": 59,
   "id": "2bef60ce",
   "metadata": {},
   "outputs": [],
   "source": [
    "df['Salary'] = df['Salary'].astype(int)"
   ]
  },
  {
   "cell_type": "code",
   "execution_count": 60,
   "id": "79b87f4c",
   "metadata": {},
   "outputs": [],
   "source": [
    "df = df.rename(columns={'College':'University'})"
   ]
  },
  {
   "cell_type": "code",
   "execution_count": 61,
   "id": "8c1158d4",
   "metadata": {},
   "outputs": [
    {
     "data": {
      "application/vnd.microsoft.datawrangler.viewer.v0+json": {
       "columns": [
        {
         "name": "index",
         "rawType": "int64",
         "type": "integer"
        },
        {
         "name": "Name",
         "rawType": "object",
         "type": "string"
        },
        {
         "name": "Team",
         "rawType": "object",
         "type": "string"
        },
        {
         "name": "Number",
         "rawType": "float64",
         "type": "float"
        },
        {
         "name": "Position",
         "rawType": "object",
         "type": "string"
        },
        {
         "name": "Age",
         "rawType": "float64",
         "type": "float"
        },
        {
         "name": "Height",
         "rawType": "object",
         "type": "string"
        },
        {
         "name": "Weight",
         "rawType": "float64",
         "type": "float"
        },
        {
         "name": "University",
         "rawType": "object",
         "type": "string"
        },
        {
         "name": "Salary",
         "rawType": "int64",
         "type": "integer"
        }
       ],
       "ref": "7e175436-aa76-4380-b763-853681b9165d",
       "rows": [
        [
         "23",
         "Brook Lopez",
         "Brooklyn Nets",
         "11.0",
         "C",
         "28.0",
         "7-0",
         "275.0",
         "Stanford",
         "19689000"
        ],
        [
         "29",
         "Thaddeus Young",
         "Brooklyn Nets",
         "30.0",
         "PF",
         "27.0",
         "6-8",
         "221.0",
         "Georgia Tech",
         "11235955"
        ],
        [
         "33",
         "Carmelo Anthony",
         "New York Knicks",
         "7.0",
         "SF",
         "32.0",
         "6-8",
         "240.0",
         "Syracuse",
         "22875000"
        ],
        [
         "38",
         "Robin Lopez",
         "New York Knicks",
         "8.0",
         "C",
         "28.0",
         "7-0",
         "255.0",
         "Stanford",
         "12650000"
        ],
        [
         "63",
         "DeMarre Carroll",
         "Toronto Raptors",
         "5.0",
         "SF",
         "29.0",
         "6-8",
         "212.0",
         "Missouri",
         "13600000"
        ],
        [
         "64",
         "DeMar DeRozan",
         "Toronto Raptors",
         "10.0",
         "SG",
         "26.0",
         "6-7",
         "220.0",
         "USC",
         "10050000"
        ],
        [
         "67",
         "Kyle Lowry",
         "Toronto Raptors",
         "7.0",
         "PG",
         "30.0",
         "6-0",
         "205.0",
         "Villanova",
         "12000000"
        ],
        [
         "78",
         "Andrew Bogut",
         "Golden State Warriors",
         "12.0",
         "C",
         "31.0",
         "7-0",
         "260.0",
         "Utah",
         "13800000"
        ],
        [
         "80",
         "Stephen Curry",
         "Golden State Warriors",
         "30.0",
         "PG",
         "28.0",
         "6-3",
         "190.0",
         "Davidson",
         "11370786"
        ],
        [
         "82",
         "Draymond Green",
         "Golden State Warriors",
         "23.0",
         "PF",
         "26.0",
         "6-7",
         "230.0",
         "Michigan State",
         "14260870"
        ],
        [
         "83",
         "Andre Iguodala",
         "Golden State Warriors",
         "9.0",
         "SF",
         "32.0",
         "6-6",
         "215.0",
         "Arizona",
         "11710456"
        ],
        [
         "89",
         "Klay Thompson",
         "Golden State Warriors",
         "11.0",
         "SG",
         "26.0",
         "6-7",
         "215.0",
         "Washington State",
         "15501000"
        ],
        [
         "96",
         "Blake Griffin",
         "Los Angeles Clippers",
         "32.0",
         "PF",
         "27.0",
         "6-10",
         "251.0",
         "Oklahoma",
         "18907726"
        ],
        [
         "98",
         "DeAndre Jordan",
         "Los Angeles Clippers",
         "6.0",
         "C",
         "27.0",
         "6-11",
         "265.0",
         "Texas A&M",
         "19689000"
        ],
        [
         "100",
         "Chris Paul",
         "Los Angeles Clippers",
         "3.0",
         "PG",
         "31.0",
         "6-0",
         "175.0",
         "Wake Forest",
         "21468695"
        ],
        [
         "111",
         "Roy Hibbert",
         "Los Angeles Lakers",
         "17.0",
         "C",
         "29.0",
         "7-2",
         "270.0",
         "Georgetown",
         "15592217"
        ],
        [
         "121",
         "Eric Bledsoe",
         "Phoenix Suns",
         "2.0",
         "PG",
         "26.0",
         "6-1",
         "190.0",
         "Kentucky",
         "13500000"
        ],
        [
         "127",
         "Brandon Knight",
         "Phoenix Suns",
         "3.0",
         "PG",
         "24.0",
         "6-3",
         "189.0",
         "Kentucky",
         "13500000"
        ],
        [
         "143",
         "DeMarcus Cousins",
         "Sacramento Kings",
         "15.0",
         "C",
         "25.0",
         "6-11",
         "270.0",
         "Kentucky",
         "15851950"
        ],
        [
         "146",
         "Rudy Gay",
         "Sacramento Kings",
         "8.0",
         "SF",
         "29.0",
         "6-8",
         "230.0",
         "Connecticut",
         "12403101"
        ],
        [
         "153",
         "Jimmy Butler",
         "Chicago Bulls",
         "21.0",
         "SG",
         "26.0",
         "6-7",
         "220.0",
         "Marquette",
         "16407500"
        ],
        [
         "162",
         "Joakim Noah",
         "Chicago Bulls",
         "13.0",
         "C",
         "31.0",
         "6-11",
         "232.0",
         "Florida",
         "13400000"
        ],
        [
         "164",
         "Derrick Rose",
         "Chicago Bulls",
         "1.0",
         "PG",
         "27.0",
         "6-3",
         "190.0",
         "Memphis",
         "20093064"
        ],
        [
         "168",
         "Kyrie Irving",
         "Cleveland Cavaliers",
         "2.0",
         "PG",
         "24.0",
         "6-3",
         "193.0",
         "Duke",
         "16407501"
        ],
        [
         "174",
         "Kevin Love",
         "Cleveland Cavaliers",
         "0.0",
         "PF",
         "27.0",
         "6-10",
         "251.0",
         "UCLA",
         "19689000"
        ],
        [
         "179",
         "Tristan Thompson",
         "Cleveland Cavaliers",
         "13.0",
         "C",
         "25.0",
         "6-9",
         "238.0",
         "Texas",
         "14260870"
        ],
        [
         "189",
         "Tobias Harris",
         "Detroit Pistons",
         "34.0",
         "SF",
         "23.0",
         "6-9",
         "235.0",
         "Tennessee",
         "16000000"
        ],
        [
         "191",
         "Reggie Jackson",
         "Detroit Pistons",
         "1.0",
         "PG",
         "26.0",
         "6-3",
         "208.0",
         "Boston College",
         "13913044"
        ],
        [
         "199",
         "Paul George",
         "Indiana Pacers",
         "13.0",
         "SF",
         "26.0",
         "6-9",
         "220.0",
         "Fresno State",
         "17120106"
        ],
        [
         "219",
         "Khris Middleton",
         "Milwaukee Bucks",
         "22.0",
         "SG",
         "24.0",
         "6-8",
         "234.0",
         "Texas A&M",
         "14700000"
        ],
        [
         "220",
         "Greg Monroe",
         "Milwaukee Bucks",
         "15.0",
         "C",
         "26.0",
         "6-11",
         "265.0",
         "Georgetown",
         "16407500"
        ],
        [
         "233",
         "Wesley Matthews",
         "Dallas Mavericks",
         "23.0",
         "SG",
         "29.0",
         "6-5",
         "220.0",
         "Marquette",
         "16407500"
        ],
        [
         "238",
         "Chandler Parsons",
         "Dallas Mavericks",
         "25.0",
         "SF",
         "27.0",
         "6-10",
         "230.0",
         "Florida",
         "15361500"
        ],
        [
         "249",
         "James Harden",
         "Houston Rockets",
         "13.0",
         "SG",
         "26.0",
         "6-5",
         "220.0",
         "Arizona State",
         "15756438"
        ],
        [
         "285",
         "Tyreke Evans",
         "New Orleans Pelicans",
         "1.0",
         "SG",
         "26.0",
         "6-6",
         "220.0",
         "Memphis",
         "10734586"
        ],
        [
         "288",
         "Eric Gordon",
         "New Orleans Pelicans",
         "10.0",
         "SG",
         "27.0",
         "6-4",
         "215.0",
         "Indiana",
         "15514031"
        ],
        [
         "290",
         "Jrue Holiday",
         "New Orleans Pelicans",
         "11.0",
         "PG",
         "25.0",
         "6-4",
         "205.0",
         "UCLA",
         "10595507"
        ],
        [
         "294",
         "LaMarcus Aldridge",
         "San Antonio Spurs",
         "12.0",
         "PF",
         "30.0",
         "6-11",
         "240.0",
         "Texas",
         "19689000"
        ],
        [
         "301",
         "Kawhi Leonard",
         "San Antonio Spurs",
         "2.0",
         "SF",
         "24.0",
         "6-7",
         "230.0",
         "San Diego State",
         "16407500"
        ],
        [
         "312",
         "Al Horford",
         "Atlanta Hawks",
         "15.0",
         "C",
         "30.0",
         "6-10",
         "245.0",
         "Florida",
         "12000000"
        ],
        [
         "315",
         "Paul Millsap",
         "Atlanta Hawks",
         "4.0",
         "PF",
         "31.0",
         "6-8",
         "246.0",
         "Louisiana Tech",
         "18671659"
        ],
        [
         "336",
         "Kemba Walker",
         "Charlotte Hornets",
         "15.0",
         "PG",
         "26.0",
         "6-1",
         "184.0",
         "Connecticut",
         "12000000"
        ],
        [
         "339",
         "Chris Bosh",
         "Miami Heat",
         "1.0",
         "PF",
         "32.0",
         "6-11",
         "235.0",
         "Georgia Tech",
         "22192730"
        ],
        [
         "340",
         "Luol Deng",
         "Miami Heat",
         "9.0",
         "SF",
         "31.0",
         "6-9",
         "220.0",
         "Duke",
         "10151612"
        ],
        [
         "349",
         "Dwyane Wade",
         "Miami Heat",
         "3.0",
         "SG",
         "34.0",
         "6-4",
         "220.0",
         "Marquette",
         "20000000"
        ],
        [
         "366",
         "Nikola Vucevic",
         "Orlando Magic",
         "9.0",
         "C",
         "25.0",
         "7-0",
         "260.0",
         "USC",
         "11250000"
        ],
        [
         "382",
         "John Wall",
         "Washington Wizards",
         "2.0",
         "PG",
         "25.0",
         "6-4",
         "195.0",
         "Kentucky",
         "15851950"
        ],
        [
         "386",
         "Wilson Chandler",
         "Denver Nuggets",
         "21.0",
         "SF",
         "29.0",
         "6-8",
         "225.0",
         "DePaul",
         "10449438"
        ],
        [
         "387",
         "Kenneth Faried",
         "Denver Nuggets",
         "35.0",
         "PF",
         "26.0",
         "6-8",
         "228.0",
         "Morehead State",
         "11235955"
        ],
        [
         "414",
         "Kevin Durant",
         "Oklahoma City Thunder",
         "35.0",
         "SF",
         "27.0",
         "6-9",
         "240.0",
         "Texas",
         "20158622"
        ]
       ],
       "shape": {
        "columns": 9,
        "rows": 54
       }
      },
      "text/html": [
       "<div>\n",
       "<style scoped>\n",
       "    .dataframe tbody tr th:only-of-type {\n",
       "        vertical-align: middle;\n",
       "    }\n",
       "\n",
       "    .dataframe tbody tr th {\n",
       "        vertical-align: top;\n",
       "    }\n",
       "\n",
       "    .dataframe thead th {\n",
       "        text-align: right;\n",
       "    }\n",
       "</style>\n",
       "<table border=\"1\" class=\"dataframe\">\n",
       "  <thead>\n",
       "    <tr style=\"text-align: right;\">\n",
       "      <th></th>\n",
       "      <th>Name</th>\n",
       "      <th>Team</th>\n",
       "      <th>Number</th>\n",
       "      <th>Position</th>\n",
       "      <th>Age</th>\n",
       "      <th>Height</th>\n",
       "      <th>Weight</th>\n",
       "      <th>University</th>\n",
       "      <th>Salary</th>\n",
       "    </tr>\n",
       "  </thead>\n",
       "  <tbody>\n",
       "    <tr>\n",
       "      <th>23</th>\n",
       "      <td>Brook Lopez</td>\n",
       "      <td>Brooklyn Nets</td>\n",
       "      <td>11.0</td>\n",
       "      <td>C</td>\n",
       "      <td>28.0</td>\n",
       "      <td>7-0</td>\n",
       "      <td>275.0</td>\n",
       "      <td>Stanford</td>\n",
       "      <td>19689000</td>\n",
       "    </tr>\n",
       "    <tr>\n",
       "      <th>29</th>\n",
       "      <td>Thaddeus Young</td>\n",
       "      <td>Brooklyn Nets</td>\n",
       "      <td>30.0</td>\n",
       "      <td>PF</td>\n",
       "      <td>27.0</td>\n",
       "      <td>6-8</td>\n",
       "      <td>221.0</td>\n",
       "      <td>Georgia Tech</td>\n",
       "      <td>11235955</td>\n",
       "    </tr>\n",
       "    <tr>\n",
       "      <th>33</th>\n",
       "      <td>Carmelo Anthony</td>\n",
       "      <td>New York Knicks</td>\n",
       "      <td>7.0</td>\n",
       "      <td>SF</td>\n",
       "      <td>32.0</td>\n",
       "      <td>6-8</td>\n",
       "      <td>240.0</td>\n",
       "      <td>Syracuse</td>\n",
       "      <td>22875000</td>\n",
       "    </tr>\n",
       "    <tr>\n",
       "      <th>38</th>\n",
       "      <td>Robin Lopez</td>\n",
       "      <td>New York Knicks</td>\n",
       "      <td>8.0</td>\n",
       "      <td>C</td>\n",
       "      <td>28.0</td>\n",
       "      <td>7-0</td>\n",
       "      <td>255.0</td>\n",
       "      <td>Stanford</td>\n",
       "      <td>12650000</td>\n",
       "    </tr>\n",
       "    <tr>\n",
       "      <th>63</th>\n",
       "      <td>DeMarre Carroll</td>\n",
       "      <td>Toronto Raptors</td>\n",
       "      <td>5.0</td>\n",
       "      <td>SF</td>\n",
       "      <td>29.0</td>\n",
       "      <td>6-8</td>\n",
       "      <td>212.0</td>\n",
       "      <td>Missouri</td>\n",
       "      <td>13600000</td>\n",
       "    </tr>\n",
       "    <tr>\n",
       "      <th>64</th>\n",
       "      <td>DeMar DeRozan</td>\n",
       "      <td>Toronto Raptors</td>\n",
       "      <td>10.0</td>\n",
       "      <td>SG</td>\n",
       "      <td>26.0</td>\n",
       "      <td>6-7</td>\n",
       "      <td>220.0</td>\n",
       "      <td>USC</td>\n",
       "      <td>10050000</td>\n",
       "    </tr>\n",
       "    <tr>\n",
       "      <th>67</th>\n",
       "      <td>Kyle Lowry</td>\n",
       "      <td>Toronto Raptors</td>\n",
       "      <td>7.0</td>\n",
       "      <td>PG</td>\n",
       "      <td>30.0</td>\n",
       "      <td>6-0</td>\n",
       "      <td>205.0</td>\n",
       "      <td>Villanova</td>\n",
       "      <td>12000000</td>\n",
       "    </tr>\n",
       "    <tr>\n",
       "      <th>78</th>\n",
       "      <td>Andrew Bogut</td>\n",
       "      <td>Golden State Warriors</td>\n",
       "      <td>12.0</td>\n",
       "      <td>C</td>\n",
       "      <td>31.0</td>\n",
       "      <td>7-0</td>\n",
       "      <td>260.0</td>\n",
       "      <td>Utah</td>\n",
       "      <td>13800000</td>\n",
       "    </tr>\n",
       "    <tr>\n",
       "      <th>80</th>\n",
       "      <td>Stephen Curry</td>\n",
       "      <td>Golden State Warriors</td>\n",
       "      <td>30.0</td>\n",
       "      <td>PG</td>\n",
       "      <td>28.0</td>\n",
       "      <td>6-3</td>\n",
       "      <td>190.0</td>\n",
       "      <td>Davidson</td>\n",
       "      <td>11370786</td>\n",
       "    </tr>\n",
       "    <tr>\n",
       "      <th>82</th>\n",
       "      <td>Draymond Green</td>\n",
       "      <td>Golden State Warriors</td>\n",
       "      <td>23.0</td>\n",
       "      <td>PF</td>\n",
       "      <td>26.0</td>\n",
       "      <td>6-7</td>\n",
       "      <td>230.0</td>\n",
       "      <td>Michigan State</td>\n",
       "      <td>14260870</td>\n",
       "    </tr>\n",
       "    <tr>\n",
       "      <th>83</th>\n",
       "      <td>Andre Iguodala</td>\n",
       "      <td>Golden State Warriors</td>\n",
       "      <td>9.0</td>\n",
       "      <td>SF</td>\n",
       "      <td>32.0</td>\n",
       "      <td>6-6</td>\n",
       "      <td>215.0</td>\n",
       "      <td>Arizona</td>\n",
       "      <td>11710456</td>\n",
       "    </tr>\n",
       "    <tr>\n",
       "      <th>89</th>\n",
       "      <td>Klay Thompson</td>\n",
       "      <td>Golden State Warriors</td>\n",
       "      <td>11.0</td>\n",
       "      <td>SG</td>\n",
       "      <td>26.0</td>\n",
       "      <td>6-7</td>\n",
       "      <td>215.0</td>\n",
       "      <td>Washington State</td>\n",
       "      <td>15501000</td>\n",
       "    </tr>\n",
       "    <tr>\n",
       "      <th>96</th>\n",
       "      <td>Blake Griffin</td>\n",
       "      <td>Los Angeles Clippers</td>\n",
       "      <td>32.0</td>\n",
       "      <td>PF</td>\n",
       "      <td>27.0</td>\n",
       "      <td>6-10</td>\n",
       "      <td>251.0</td>\n",
       "      <td>Oklahoma</td>\n",
       "      <td>18907726</td>\n",
       "    </tr>\n",
       "    <tr>\n",
       "      <th>98</th>\n",
       "      <td>DeAndre Jordan</td>\n",
       "      <td>Los Angeles Clippers</td>\n",
       "      <td>6.0</td>\n",
       "      <td>C</td>\n",
       "      <td>27.0</td>\n",
       "      <td>6-11</td>\n",
       "      <td>265.0</td>\n",
       "      <td>Texas A&amp;M</td>\n",
       "      <td>19689000</td>\n",
       "    </tr>\n",
       "    <tr>\n",
       "      <th>100</th>\n",
       "      <td>Chris Paul</td>\n",
       "      <td>Los Angeles Clippers</td>\n",
       "      <td>3.0</td>\n",
       "      <td>PG</td>\n",
       "      <td>31.0</td>\n",
       "      <td>6-0</td>\n",
       "      <td>175.0</td>\n",
       "      <td>Wake Forest</td>\n",
       "      <td>21468695</td>\n",
       "    </tr>\n",
       "    <tr>\n",
       "      <th>111</th>\n",
       "      <td>Roy Hibbert</td>\n",
       "      <td>Los Angeles Lakers</td>\n",
       "      <td>17.0</td>\n",
       "      <td>C</td>\n",
       "      <td>29.0</td>\n",
       "      <td>7-2</td>\n",
       "      <td>270.0</td>\n",
       "      <td>Georgetown</td>\n",
       "      <td>15592217</td>\n",
       "    </tr>\n",
       "    <tr>\n",
       "      <th>121</th>\n",
       "      <td>Eric Bledsoe</td>\n",
       "      <td>Phoenix Suns</td>\n",
       "      <td>2.0</td>\n",
       "      <td>PG</td>\n",
       "      <td>26.0</td>\n",
       "      <td>6-1</td>\n",
       "      <td>190.0</td>\n",
       "      <td>Kentucky</td>\n",
       "      <td>13500000</td>\n",
       "    </tr>\n",
       "    <tr>\n",
       "      <th>127</th>\n",
       "      <td>Brandon Knight</td>\n",
       "      <td>Phoenix Suns</td>\n",
       "      <td>3.0</td>\n",
       "      <td>PG</td>\n",
       "      <td>24.0</td>\n",
       "      <td>6-3</td>\n",
       "      <td>189.0</td>\n",
       "      <td>Kentucky</td>\n",
       "      <td>13500000</td>\n",
       "    </tr>\n",
       "    <tr>\n",
       "      <th>143</th>\n",
       "      <td>DeMarcus Cousins</td>\n",
       "      <td>Sacramento Kings</td>\n",
       "      <td>15.0</td>\n",
       "      <td>C</td>\n",
       "      <td>25.0</td>\n",
       "      <td>6-11</td>\n",
       "      <td>270.0</td>\n",
       "      <td>Kentucky</td>\n",
       "      <td>15851950</td>\n",
       "    </tr>\n",
       "    <tr>\n",
       "      <th>146</th>\n",
       "      <td>Rudy Gay</td>\n",
       "      <td>Sacramento Kings</td>\n",
       "      <td>8.0</td>\n",
       "      <td>SF</td>\n",
       "      <td>29.0</td>\n",
       "      <td>6-8</td>\n",
       "      <td>230.0</td>\n",
       "      <td>Connecticut</td>\n",
       "      <td>12403101</td>\n",
       "    </tr>\n",
       "    <tr>\n",
       "      <th>153</th>\n",
       "      <td>Jimmy Butler</td>\n",
       "      <td>Chicago Bulls</td>\n",
       "      <td>21.0</td>\n",
       "      <td>SG</td>\n",
       "      <td>26.0</td>\n",
       "      <td>6-7</td>\n",
       "      <td>220.0</td>\n",
       "      <td>Marquette</td>\n",
       "      <td>16407500</td>\n",
       "    </tr>\n",
       "    <tr>\n",
       "      <th>162</th>\n",
       "      <td>Joakim Noah</td>\n",
       "      <td>Chicago Bulls</td>\n",
       "      <td>13.0</td>\n",
       "      <td>C</td>\n",
       "      <td>31.0</td>\n",
       "      <td>6-11</td>\n",
       "      <td>232.0</td>\n",
       "      <td>Florida</td>\n",
       "      <td>13400000</td>\n",
       "    </tr>\n",
       "    <tr>\n",
       "      <th>164</th>\n",
       "      <td>Derrick Rose</td>\n",
       "      <td>Chicago Bulls</td>\n",
       "      <td>1.0</td>\n",
       "      <td>PG</td>\n",
       "      <td>27.0</td>\n",
       "      <td>6-3</td>\n",
       "      <td>190.0</td>\n",
       "      <td>Memphis</td>\n",
       "      <td>20093064</td>\n",
       "    </tr>\n",
       "    <tr>\n",
       "      <th>168</th>\n",
       "      <td>Kyrie Irving</td>\n",
       "      <td>Cleveland Cavaliers</td>\n",
       "      <td>2.0</td>\n",
       "      <td>PG</td>\n",
       "      <td>24.0</td>\n",
       "      <td>6-3</td>\n",
       "      <td>193.0</td>\n",
       "      <td>Duke</td>\n",
       "      <td>16407501</td>\n",
       "    </tr>\n",
       "    <tr>\n",
       "      <th>174</th>\n",
       "      <td>Kevin Love</td>\n",
       "      <td>Cleveland Cavaliers</td>\n",
       "      <td>0.0</td>\n",
       "      <td>PF</td>\n",
       "      <td>27.0</td>\n",
       "      <td>6-10</td>\n",
       "      <td>251.0</td>\n",
       "      <td>UCLA</td>\n",
       "      <td>19689000</td>\n",
       "    </tr>\n",
       "    <tr>\n",
       "      <th>179</th>\n",
       "      <td>Tristan Thompson</td>\n",
       "      <td>Cleveland Cavaliers</td>\n",
       "      <td>13.0</td>\n",
       "      <td>C</td>\n",
       "      <td>25.0</td>\n",
       "      <td>6-9</td>\n",
       "      <td>238.0</td>\n",
       "      <td>Texas</td>\n",
       "      <td>14260870</td>\n",
       "    </tr>\n",
       "    <tr>\n",
       "      <th>189</th>\n",
       "      <td>Tobias Harris</td>\n",
       "      <td>Detroit Pistons</td>\n",
       "      <td>34.0</td>\n",
       "      <td>SF</td>\n",
       "      <td>23.0</td>\n",
       "      <td>6-9</td>\n",
       "      <td>235.0</td>\n",
       "      <td>Tennessee</td>\n",
       "      <td>16000000</td>\n",
       "    </tr>\n",
       "    <tr>\n",
       "      <th>191</th>\n",
       "      <td>Reggie Jackson</td>\n",
       "      <td>Detroit Pistons</td>\n",
       "      <td>1.0</td>\n",
       "      <td>PG</td>\n",
       "      <td>26.0</td>\n",
       "      <td>6-3</td>\n",
       "      <td>208.0</td>\n",
       "      <td>Boston College</td>\n",
       "      <td>13913044</td>\n",
       "    </tr>\n",
       "    <tr>\n",
       "      <th>199</th>\n",
       "      <td>Paul George</td>\n",
       "      <td>Indiana Pacers</td>\n",
       "      <td>13.0</td>\n",
       "      <td>SF</td>\n",
       "      <td>26.0</td>\n",
       "      <td>6-9</td>\n",
       "      <td>220.0</td>\n",
       "      <td>Fresno State</td>\n",
       "      <td>17120106</td>\n",
       "    </tr>\n",
       "    <tr>\n",
       "      <th>219</th>\n",
       "      <td>Khris Middleton</td>\n",
       "      <td>Milwaukee Bucks</td>\n",
       "      <td>22.0</td>\n",
       "      <td>SG</td>\n",
       "      <td>24.0</td>\n",
       "      <td>6-8</td>\n",
       "      <td>234.0</td>\n",
       "      <td>Texas A&amp;M</td>\n",
       "      <td>14700000</td>\n",
       "    </tr>\n",
       "    <tr>\n",
       "      <th>220</th>\n",
       "      <td>Greg Monroe</td>\n",
       "      <td>Milwaukee Bucks</td>\n",
       "      <td>15.0</td>\n",
       "      <td>C</td>\n",
       "      <td>26.0</td>\n",
       "      <td>6-11</td>\n",
       "      <td>265.0</td>\n",
       "      <td>Georgetown</td>\n",
       "      <td>16407500</td>\n",
       "    </tr>\n",
       "    <tr>\n",
       "      <th>233</th>\n",
       "      <td>Wesley Matthews</td>\n",
       "      <td>Dallas Mavericks</td>\n",
       "      <td>23.0</td>\n",
       "      <td>SG</td>\n",
       "      <td>29.0</td>\n",
       "      <td>6-5</td>\n",
       "      <td>220.0</td>\n",
       "      <td>Marquette</td>\n",
       "      <td>16407500</td>\n",
       "    </tr>\n",
       "    <tr>\n",
       "      <th>238</th>\n",
       "      <td>Chandler Parsons</td>\n",
       "      <td>Dallas Mavericks</td>\n",
       "      <td>25.0</td>\n",
       "      <td>SF</td>\n",
       "      <td>27.0</td>\n",
       "      <td>6-10</td>\n",
       "      <td>230.0</td>\n",
       "      <td>Florida</td>\n",
       "      <td>15361500</td>\n",
       "    </tr>\n",
       "    <tr>\n",
       "      <th>249</th>\n",
       "      <td>James Harden</td>\n",
       "      <td>Houston Rockets</td>\n",
       "      <td>13.0</td>\n",
       "      <td>SG</td>\n",
       "      <td>26.0</td>\n",
       "      <td>6-5</td>\n",
       "      <td>220.0</td>\n",
       "      <td>Arizona State</td>\n",
       "      <td>15756438</td>\n",
       "    </tr>\n",
       "    <tr>\n",
       "      <th>285</th>\n",
       "      <td>Tyreke Evans</td>\n",
       "      <td>New Orleans Pelicans</td>\n",
       "      <td>1.0</td>\n",
       "      <td>SG</td>\n",
       "      <td>26.0</td>\n",
       "      <td>6-6</td>\n",
       "      <td>220.0</td>\n",
       "      <td>Memphis</td>\n",
       "      <td>10734586</td>\n",
       "    </tr>\n",
       "    <tr>\n",
       "      <th>288</th>\n",
       "      <td>Eric Gordon</td>\n",
       "      <td>New Orleans Pelicans</td>\n",
       "      <td>10.0</td>\n",
       "      <td>SG</td>\n",
       "      <td>27.0</td>\n",
       "      <td>6-4</td>\n",
       "      <td>215.0</td>\n",
       "      <td>Indiana</td>\n",
       "      <td>15514031</td>\n",
       "    </tr>\n",
       "    <tr>\n",
       "      <th>290</th>\n",
       "      <td>Jrue Holiday</td>\n",
       "      <td>New Orleans Pelicans</td>\n",
       "      <td>11.0</td>\n",
       "      <td>PG</td>\n",
       "      <td>25.0</td>\n",
       "      <td>6-4</td>\n",
       "      <td>205.0</td>\n",
       "      <td>UCLA</td>\n",
       "      <td>10595507</td>\n",
       "    </tr>\n",
       "    <tr>\n",
       "      <th>294</th>\n",
       "      <td>LaMarcus Aldridge</td>\n",
       "      <td>San Antonio Spurs</td>\n",
       "      <td>12.0</td>\n",
       "      <td>PF</td>\n",
       "      <td>30.0</td>\n",
       "      <td>6-11</td>\n",
       "      <td>240.0</td>\n",
       "      <td>Texas</td>\n",
       "      <td>19689000</td>\n",
       "    </tr>\n",
       "    <tr>\n",
       "      <th>301</th>\n",
       "      <td>Kawhi Leonard</td>\n",
       "      <td>San Antonio Spurs</td>\n",
       "      <td>2.0</td>\n",
       "      <td>SF</td>\n",
       "      <td>24.0</td>\n",
       "      <td>6-7</td>\n",
       "      <td>230.0</td>\n",
       "      <td>San Diego State</td>\n",
       "      <td>16407500</td>\n",
       "    </tr>\n",
       "    <tr>\n",
       "      <th>312</th>\n",
       "      <td>Al Horford</td>\n",
       "      <td>Atlanta Hawks</td>\n",
       "      <td>15.0</td>\n",
       "      <td>C</td>\n",
       "      <td>30.0</td>\n",
       "      <td>6-10</td>\n",
       "      <td>245.0</td>\n",
       "      <td>Florida</td>\n",
       "      <td>12000000</td>\n",
       "    </tr>\n",
       "    <tr>\n",
       "      <th>315</th>\n",
       "      <td>Paul Millsap</td>\n",
       "      <td>Atlanta Hawks</td>\n",
       "      <td>4.0</td>\n",
       "      <td>PF</td>\n",
       "      <td>31.0</td>\n",
       "      <td>6-8</td>\n",
       "      <td>246.0</td>\n",
       "      <td>Louisiana Tech</td>\n",
       "      <td>18671659</td>\n",
       "    </tr>\n",
       "    <tr>\n",
       "      <th>336</th>\n",
       "      <td>Kemba Walker</td>\n",
       "      <td>Charlotte Hornets</td>\n",
       "      <td>15.0</td>\n",
       "      <td>PG</td>\n",
       "      <td>26.0</td>\n",
       "      <td>6-1</td>\n",
       "      <td>184.0</td>\n",
       "      <td>Connecticut</td>\n",
       "      <td>12000000</td>\n",
       "    </tr>\n",
       "    <tr>\n",
       "      <th>339</th>\n",
       "      <td>Chris Bosh</td>\n",
       "      <td>Miami Heat</td>\n",
       "      <td>1.0</td>\n",
       "      <td>PF</td>\n",
       "      <td>32.0</td>\n",
       "      <td>6-11</td>\n",
       "      <td>235.0</td>\n",
       "      <td>Georgia Tech</td>\n",
       "      <td>22192730</td>\n",
       "    </tr>\n",
       "    <tr>\n",
       "      <th>340</th>\n",
       "      <td>Luol Deng</td>\n",
       "      <td>Miami Heat</td>\n",
       "      <td>9.0</td>\n",
       "      <td>SF</td>\n",
       "      <td>31.0</td>\n",
       "      <td>6-9</td>\n",
       "      <td>220.0</td>\n",
       "      <td>Duke</td>\n",
       "      <td>10151612</td>\n",
       "    </tr>\n",
       "    <tr>\n",
       "      <th>349</th>\n",
       "      <td>Dwyane Wade</td>\n",
       "      <td>Miami Heat</td>\n",
       "      <td>3.0</td>\n",
       "      <td>SG</td>\n",
       "      <td>34.0</td>\n",
       "      <td>6-4</td>\n",
       "      <td>220.0</td>\n",
       "      <td>Marquette</td>\n",
       "      <td>20000000</td>\n",
       "    </tr>\n",
       "    <tr>\n",
       "      <th>366</th>\n",
       "      <td>Nikola Vucevic</td>\n",
       "      <td>Orlando Magic</td>\n",
       "      <td>9.0</td>\n",
       "      <td>C</td>\n",
       "      <td>25.0</td>\n",
       "      <td>7-0</td>\n",
       "      <td>260.0</td>\n",
       "      <td>USC</td>\n",
       "      <td>11250000</td>\n",
       "    </tr>\n",
       "    <tr>\n",
       "      <th>382</th>\n",
       "      <td>John Wall</td>\n",
       "      <td>Washington Wizards</td>\n",
       "      <td>2.0</td>\n",
       "      <td>PG</td>\n",
       "      <td>25.0</td>\n",
       "      <td>6-4</td>\n",
       "      <td>195.0</td>\n",
       "      <td>Kentucky</td>\n",
       "      <td>15851950</td>\n",
       "    </tr>\n",
       "    <tr>\n",
       "      <th>386</th>\n",
       "      <td>Wilson Chandler</td>\n",
       "      <td>Denver Nuggets</td>\n",
       "      <td>21.0</td>\n",
       "      <td>SF</td>\n",
       "      <td>29.0</td>\n",
       "      <td>6-8</td>\n",
       "      <td>225.0</td>\n",
       "      <td>DePaul</td>\n",
       "      <td>10449438</td>\n",
       "    </tr>\n",
       "    <tr>\n",
       "      <th>387</th>\n",
       "      <td>Kenneth Faried</td>\n",
       "      <td>Denver Nuggets</td>\n",
       "      <td>35.0</td>\n",
       "      <td>PF</td>\n",
       "      <td>26.0</td>\n",
       "      <td>6-8</td>\n",
       "      <td>228.0</td>\n",
       "      <td>Morehead State</td>\n",
       "      <td>11235955</td>\n",
       "    </tr>\n",
       "    <tr>\n",
       "      <th>414</th>\n",
       "      <td>Kevin Durant</td>\n",
       "      <td>Oklahoma City Thunder</td>\n",
       "      <td>35.0</td>\n",
       "      <td>SF</td>\n",
       "      <td>27.0</td>\n",
       "      <td>6-9</td>\n",
       "      <td>240.0</td>\n",
       "      <td>Texas</td>\n",
       "      <td>20158622</td>\n",
       "    </tr>\n",
       "    <tr>\n",
       "      <th>418</th>\n",
       "      <td>Enes Kanter</td>\n",
       "      <td>Oklahoma City Thunder</td>\n",
       "      <td>11.0</td>\n",
       "      <td>C</td>\n",
       "      <td>24.0</td>\n",
       "      <td>6-11</td>\n",
       "      <td>245.0</td>\n",
       "      <td>Kentucky</td>\n",
       "      <td>16407500</td>\n",
       "    </tr>\n",
       "    <tr>\n",
       "      <th>426</th>\n",
       "      <td>Russell Westbrook</td>\n",
       "      <td>Oklahoma City Thunder</td>\n",
       "      <td>0.0</td>\n",
       "      <td>PG</td>\n",
       "      <td>27.0</td>\n",
       "      <td>6-3</td>\n",
       "      <td>200.0</td>\n",
       "      <td>UCLA</td>\n",
       "      <td>16744218</td>\n",
       "    </tr>\n",
       "    <tr>\n",
       "      <th>446</th>\n",
       "      <td>Derrick Favors</td>\n",
       "      <td>Utah Jazz</td>\n",
       "      <td>15.0</td>\n",
       "      <td>PF</td>\n",
       "      <td>24.0</td>\n",
       "      <td>6-10</td>\n",
       "      <td>265.0</td>\n",
       "      <td>Georgia Tech</td>\n",
       "      <td>12000000</td>\n",
       "    </tr>\n",
       "    <tr>\n",
       "      <th>448</th>\n",
       "      <td>Gordon Hayward</td>\n",
       "      <td>Utah Jazz</td>\n",
       "      <td>20.0</td>\n",
       "      <td>SF</td>\n",
       "      <td>26.0</td>\n",
       "      <td>6-8</td>\n",
       "      <td>226.0</td>\n",
       "      <td>Butler</td>\n",
       "      <td>15409570</td>\n",
       "    </tr>\n",
       "  </tbody>\n",
       "</table>\n",
       "</div>"
      ],
      "text/plain": [
       "                  Name                   Team  Number Position   Age Height  \\\n",
       "23         Brook Lopez          Brooklyn Nets    11.0        C  28.0    7-0   \n",
       "29      Thaddeus Young          Brooklyn Nets    30.0       PF  27.0    6-8   \n",
       "33     Carmelo Anthony        New York Knicks     7.0       SF  32.0    6-8   \n",
       "38         Robin Lopez        New York Knicks     8.0        C  28.0    7-0   \n",
       "63     DeMarre Carroll        Toronto Raptors     5.0       SF  29.0    6-8   \n",
       "64       DeMar DeRozan        Toronto Raptors    10.0       SG  26.0    6-7   \n",
       "67          Kyle Lowry        Toronto Raptors     7.0       PG  30.0    6-0   \n",
       "78        Andrew Bogut  Golden State Warriors    12.0        C  31.0    7-0   \n",
       "80       Stephen Curry  Golden State Warriors    30.0       PG  28.0    6-3   \n",
       "82      Draymond Green  Golden State Warriors    23.0       PF  26.0    6-7   \n",
       "83      Andre Iguodala  Golden State Warriors     9.0       SF  32.0    6-6   \n",
       "89       Klay Thompson  Golden State Warriors    11.0       SG  26.0    6-7   \n",
       "96       Blake Griffin   Los Angeles Clippers    32.0       PF  27.0   6-10   \n",
       "98      DeAndre Jordan   Los Angeles Clippers     6.0        C  27.0   6-11   \n",
       "100         Chris Paul   Los Angeles Clippers     3.0       PG  31.0    6-0   \n",
       "111        Roy Hibbert     Los Angeles Lakers    17.0        C  29.0    7-2   \n",
       "121       Eric Bledsoe           Phoenix Suns     2.0       PG  26.0    6-1   \n",
       "127     Brandon Knight           Phoenix Suns     3.0       PG  24.0    6-3   \n",
       "143   DeMarcus Cousins       Sacramento Kings    15.0        C  25.0   6-11   \n",
       "146           Rudy Gay       Sacramento Kings     8.0       SF  29.0    6-8   \n",
       "153       Jimmy Butler          Chicago Bulls    21.0       SG  26.0    6-7   \n",
       "162        Joakim Noah          Chicago Bulls    13.0        C  31.0   6-11   \n",
       "164       Derrick Rose          Chicago Bulls     1.0       PG  27.0    6-3   \n",
       "168       Kyrie Irving    Cleveland Cavaliers     2.0       PG  24.0    6-3   \n",
       "174         Kevin Love    Cleveland Cavaliers     0.0       PF  27.0   6-10   \n",
       "179   Tristan Thompson    Cleveland Cavaliers    13.0        C  25.0    6-9   \n",
       "189      Tobias Harris        Detroit Pistons    34.0       SF  23.0    6-9   \n",
       "191     Reggie Jackson        Detroit Pistons     1.0       PG  26.0    6-3   \n",
       "199        Paul George         Indiana Pacers    13.0       SF  26.0    6-9   \n",
       "219    Khris Middleton        Milwaukee Bucks    22.0       SG  24.0    6-8   \n",
       "220        Greg Monroe        Milwaukee Bucks    15.0        C  26.0   6-11   \n",
       "233    Wesley Matthews       Dallas Mavericks    23.0       SG  29.0    6-5   \n",
       "238   Chandler Parsons       Dallas Mavericks    25.0       SF  27.0   6-10   \n",
       "249       James Harden        Houston Rockets    13.0       SG  26.0    6-5   \n",
       "285       Tyreke Evans   New Orleans Pelicans     1.0       SG  26.0    6-6   \n",
       "288        Eric Gordon   New Orleans Pelicans    10.0       SG  27.0    6-4   \n",
       "290       Jrue Holiday   New Orleans Pelicans    11.0       PG  25.0    6-4   \n",
       "294  LaMarcus Aldridge      San Antonio Spurs    12.0       PF  30.0   6-11   \n",
       "301      Kawhi Leonard      San Antonio Spurs     2.0       SF  24.0    6-7   \n",
       "312         Al Horford          Atlanta Hawks    15.0        C  30.0   6-10   \n",
       "315       Paul Millsap          Atlanta Hawks     4.0       PF  31.0    6-8   \n",
       "336       Kemba Walker      Charlotte Hornets    15.0       PG  26.0    6-1   \n",
       "339         Chris Bosh             Miami Heat     1.0       PF  32.0   6-11   \n",
       "340          Luol Deng             Miami Heat     9.0       SF  31.0    6-9   \n",
       "349        Dwyane Wade             Miami Heat     3.0       SG  34.0    6-4   \n",
       "366     Nikola Vucevic          Orlando Magic     9.0        C  25.0    7-0   \n",
       "382          John Wall     Washington Wizards     2.0       PG  25.0    6-4   \n",
       "386    Wilson Chandler         Denver Nuggets    21.0       SF  29.0    6-8   \n",
       "387     Kenneth Faried         Denver Nuggets    35.0       PF  26.0    6-8   \n",
       "414       Kevin Durant  Oklahoma City Thunder    35.0       SF  27.0    6-9   \n",
       "418        Enes Kanter  Oklahoma City Thunder    11.0        C  24.0   6-11   \n",
       "426  Russell Westbrook  Oklahoma City Thunder     0.0       PG  27.0    6-3   \n",
       "446     Derrick Favors              Utah Jazz    15.0       PF  24.0   6-10   \n",
       "448     Gordon Hayward              Utah Jazz    20.0       SF  26.0    6-8   \n",
       "\n",
       "     Weight        University    Salary  \n",
       "23    275.0          Stanford  19689000  \n",
       "29    221.0      Georgia Tech  11235955  \n",
       "33    240.0          Syracuse  22875000  \n",
       "38    255.0          Stanford  12650000  \n",
       "63    212.0          Missouri  13600000  \n",
       "64    220.0               USC  10050000  \n",
       "67    205.0         Villanova  12000000  \n",
       "78    260.0              Utah  13800000  \n",
       "80    190.0          Davidson  11370786  \n",
       "82    230.0    Michigan State  14260870  \n",
       "83    215.0           Arizona  11710456  \n",
       "89    215.0  Washington State  15501000  \n",
       "96    251.0          Oklahoma  18907726  \n",
       "98    265.0         Texas A&M  19689000  \n",
       "100   175.0       Wake Forest  21468695  \n",
       "111   270.0        Georgetown  15592217  \n",
       "121   190.0          Kentucky  13500000  \n",
       "127   189.0          Kentucky  13500000  \n",
       "143   270.0          Kentucky  15851950  \n",
       "146   230.0       Connecticut  12403101  \n",
       "153   220.0         Marquette  16407500  \n",
       "162   232.0           Florida  13400000  \n",
       "164   190.0           Memphis  20093064  \n",
       "168   193.0              Duke  16407501  \n",
       "174   251.0              UCLA  19689000  \n",
       "179   238.0             Texas  14260870  \n",
       "189   235.0         Tennessee  16000000  \n",
       "191   208.0    Boston College  13913044  \n",
       "199   220.0      Fresno State  17120106  \n",
       "219   234.0         Texas A&M  14700000  \n",
       "220   265.0        Georgetown  16407500  \n",
       "233   220.0         Marquette  16407500  \n",
       "238   230.0           Florida  15361500  \n",
       "249   220.0     Arizona State  15756438  \n",
       "285   220.0           Memphis  10734586  \n",
       "288   215.0           Indiana  15514031  \n",
       "290   205.0              UCLA  10595507  \n",
       "294   240.0             Texas  19689000  \n",
       "301   230.0   San Diego State  16407500  \n",
       "312   245.0           Florida  12000000  \n",
       "315   246.0    Louisiana Tech  18671659  \n",
       "336   184.0       Connecticut  12000000  \n",
       "339   235.0      Georgia Tech  22192730  \n",
       "340   220.0              Duke  10151612  \n",
       "349   220.0         Marquette  20000000  \n",
       "366   260.0               USC  11250000  \n",
       "382   195.0          Kentucky  15851950  \n",
       "386   225.0            DePaul  10449438  \n",
       "387   228.0    Morehead State  11235955  \n",
       "414   240.0             Texas  20158622  \n",
       "418   245.0          Kentucky  16407500  \n",
       "426   200.0              UCLA  16744218  \n",
       "446   265.0      Georgia Tech  12000000  \n",
       "448   226.0            Butler  15409570  "
      ]
     },
     "execution_count": 61,
     "metadata": {},
     "output_type": "execute_result"
    }
   ],
   "source": [
    "df[df['Salary'] > 10000000]"
   ]
  },
  {
   "cell_type": "code",
   "execution_count": 62,
   "id": "7daff67f",
   "metadata": {},
   "outputs": [
    {
     "data": {
      "application/vnd.microsoft.datawrangler.viewer.v0+json": {
       "columns": [
        {
         "name": "index",
         "rawType": "int64",
         "type": "integer"
        },
        {
         "name": "Name",
         "rawType": "object",
         "type": "string"
        },
        {
         "name": "Team",
         "rawType": "object",
         "type": "string"
        },
        {
         "name": "Number",
         "rawType": "float64",
         "type": "float"
        },
        {
         "name": "Position",
         "rawType": "object",
         "type": "string"
        },
        {
         "name": "Age",
         "rawType": "float64",
         "type": "float"
        },
        {
         "name": "Height",
         "rawType": "object",
         "type": "string"
        },
        {
         "name": "Weight",
         "rawType": "float64",
         "type": "float"
        },
        {
         "name": "University",
         "rawType": "object",
         "type": "string"
        },
        {
         "name": "Salary",
         "rawType": "int64",
         "type": "integer"
        }
       ],
       "ref": "a41392db-a434-4a3e-9a72-c333f4d7b170",
       "rows": [
        [
         "19",
         "Jarrett Jack",
         "Brooklyn Nets",
         "2.0",
         "PG",
         "32.0",
         "6-3",
         "200.0",
         "Georgia Tech",
         "6300000"
        ],
        [
         "31",
         "Lou Amundson",
         "New York Knicks",
         "17.0",
         "PF",
         "33.0",
         "6-9",
         "220.0",
         "UNLV",
         "1635476"
        ],
        [
         "33",
         "Carmelo Anthony",
         "New York Knicks",
         "7.0",
         "SF",
         "32.0",
         "6-8",
         "240.0",
         "Syracuse",
         "22875000"
        ],
        [
         "52",
         "Carl Landry",
         "Philadelphia 76ers",
         "7.0",
         "PF",
         "32.0",
         "6-9",
         "248.0",
         "Purdue",
         "6500000"
        ],
        [
         "78",
         "Andrew Bogut",
         "Golden State Warriors",
         "12.0",
         "C",
         "31.0",
         "7-0",
         "260.0",
         "Utah",
         "13800000"
        ],
        [
         "83",
         "Andre Iguodala",
         "Golden State Warriors",
         "9.0",
         "SF",
         "32.0",
         "6-6",
         "215.0",
         "Arizona",
         "11710456"
        ],
        [
         "93",
         "Jamal Crawford",
         "Los Angeles Clippers",
         "11.0",
         "SG",
         "36.0",
         "6-5",
         "195.0",
         "Michigan",
         "5675000"
        ],
        [
         "100",
         "Chris Paul",
         "Los Angeles Clippers",
         "3.0",
         "PG",
         "31.0",
         "6-0",
         "175.0",
         "Wake Forest",
         "21468695"
        ],
        [
         "101",
         "Paul Pierce",
         "Los Angeles Clippers",
         "34.0",
         "SF",
         "38.0",
         "6-7",
         "235.0",
         "Kansas",
         "3376000"
        ],
        [
         "103",
         "JJ Redick",
         "Los Angeles Clippers",
         "4.0",
         "SG",
         "31.0",
         "6-4",
         "190.0",
         "Duke",
         "7085000"
        ],
        [
         "106",
         "Brandon Bass",
         "Los Angeles Lakers",
         "2.0",
         "PF",
         "31.0",
         "6-8",
         "250.0",
         "LSU",
         "3000000"
        ],
        [
         "119",
         "Metta World Peace",
         "Los Angeles Lakers",
         "37.0",
         "SF",
         "36.0",
         "6-7",
         "260.0",
         "St. John's",
         "947276"
        ],
        [
         "120",
         "Nick Young",
         "Los Angeles Lakers",
         "0.0",
         "SF",
         "31.0",
         "6-7",
         "210.0",
         "USC",
         "5219169"
        ],
        [
         "131",
         "Ronnie Price",
         "Phoenix Suns",
         "14.0",
         "PG",
         "32.0",
         "6-2",
         "190.0",
         "Utah Valley",
         "947276"
        ],
        [
         "133",
         "P.J. Tucker",
         "Phoenix Suns",
         "17.0",
         "SF",
         "31.0",
         "6-6",
         "245.0",
         "Texas",
         "5500000"
        ],
        [
         "139",
         "Caron Butler",
         "Sacramento Kings",
         "31.0",
         "SF",
         "36.0",
         "6-7",
         "228.0",
         "Connecticut",
         "1449187"
        ],
        [
         "152",
         "Aaron Brooks",
         "Chicago Bulls",
         "0.0",
         "PG",
         "31.0",
         "6-0",
         "161.0",
         "Oregon",
         "2250000"
        ],
        [
         "154",
         "Mike Dunleavy",
         "Chicago Bulls",
         "34.0",
         "SG",
         "35.0",
         "6-9",
         "230.0",
         "Duke",
         "4500000"
        ],
        [
         "162",
         "Joakim Noah",
         "Chicago Bulls",
         "13.0",
         "C",
         "31.0",
         "6-11",
         "232.0",
         "Florida",
         "13400000"
        ],
        [
         "167",
         "Channing Frye",
         "Cleveland Cavaliers",
         "9.0",
         "PF",
         "33.0",
         "6-11",
         "255.0",
         "Arizona",
         "8193029"
        ],
        [
         "170",
         "Richard Jefferson",
         "Cleveland Cavaliers",
         "24.0",
         "SF",
         "35.0",
         "6-7",
         "233.0",
         "Arizona",
         "947276"
        ],
        [
         "172",
         "James Jones",
         "Cleveland Cavaliers",
         "1.0",
         "SG",
         "35.0",
         "6-8",
         "218.0",
         "Miami (FL)",
         "947276"
        ],
        [
         "173",
         "Sasha Kaun",
         "Cleveland Cavaliers",
         "14.0",
         "C",
         "31.0",
         "6-11",
         "260.0",
         "Kansas",
         "1276000"
        ],
        [
         "180",
         "Mo Williams",
         "Cleveland Cavaliers",
         "52.0",
         "PG",
         "33.0",
         "6-1",
         "198.0",
         "Alabama",
         "2100000"
        ],
        [
         "181",
         "Joel Anthony",
         "Detroit Pistons",
         "50.0",
         "C",
         "33.0",
         "6-9",
         "245.0",
         "UNLV",
         "2500000"
        ],
        [
         "183",
         "Steve Blake",
         "Detroit Pistons",
         "22.0",
         "PG",
         "36.0",
         "6-3",
         "172.0",
         "Maryland",
         "2170465"
        ],
        [
         "195",
         "Anthony Tolliver",
         "Detroit Pistons",
         "43.0",
         "PF",
         "31.0",
         "6-8",
         "240.0",
         "Creighton",
         "3000000"
        ],
        [
         "221",
         "Steve Novak",
         "Milwaukee Bucks",
         "6.0",
         "SF",
         "32.0",
         "6-10",
         "225.0",
         "Marquette",
         "295327"
        ],
        [
         "228",
         "J.J. Barea",
         "Dallas Mavericks",
         "5.0",
         "PG",
         "31.0",
         "6-0",
         "185.0",
         "Northeastern",
         "4290000"
        ],
        [
         "230",
         "Raymond Felton",
         "Dallas Mavericks",
         "2.0",
         "PG",
         "31.0",
         "6-1",
         "205.0",
         "North Carolina",
         "3950313"
        ],
        [
         "231",
         "Devin Harris",
         "Dallas Mavericks",
         "34.0",
         "PG",
         "33.0",
         "6-3",
         "185.0",
         "Wisconsin",
         "4053446"
        ],
        [
         "232",
         "David Lee",
         "Dallas Mavericks",
         "42.0",
         "PF",
         "33.0",
         "6-9",
         "245.0",
         "Florida",
         "2085671"
        ],
        [
         "240",
         "Charlie Villanueva",
         "Dallas Mavericks",
         "3.0",
         "PF",
         "31.0",
         "6-11",
         "232.0",
         "Connecticut",
         "947276"
        ],
        [
         "241",
         "Deron Williams",
         "Dallas Mavericks",
         "8.0",
         "PG",
         "31.0",
         "6-3",
         "200.0",
         "Illinois",
         "5378974"
        ],
        [
         "256",
         "Jason Terry",
         "Houston Rockets",
         "31.0",
         "SG",
         "38.0",
         "6-2",
         "185.0",
         "Arizona",
         "947276"
        ],
        [
         "258",
         "Tony Allen",
         "Memphis Grizzlies",
         "9.0",
         "SG",
         "34.0",
         "6-4",
         "213.0",
         "Oklahoma State",
         "5158539"
        ],
        [
         "259",
         "Chris Andersen",
         "Memphis Grizzlies",
         "7.0",
         "PF",
         "37.0",
         "6-10",
         "245.0",
         "Blinn College",
         "5000000"
        ],
        [
         "260",
         "Matt Barnes",
         "Memphis Grizzlies",
         "22.0",
         "SF",
         "36.0",
         "6-7",
         "226.0",
         "UCLA",
         "3542500"
        ],
        [
         "261",
         "Vince Carter",
         "Memphis Grizzlies",
         "15.0",
         "SG",
         "39.0",
         "6-6",
         "220.0",
         "North Carolina",
         "4088019"
        ],
        [
         "271",
         "Zach Randolph",
         "Memphis Grizzlies",
         "50.0",
         "PF",
         "34.0",
         "6-9",
         "260.0",
         "Michigan State",
         "9638555"
        ],
        [
         "296",
         "Matt Bonner",
         "San Antonio Spurs",
         "15.0",
         "C",
         "36.0",
         "6-10",
         "235.0",
         "Florida",
         "947276"
        ],
        [
         "298",
         "Tim Duncan",
         "San Antonio Spurs",
         "21.0",
         "C",
         "40.0",
         "6-11",
         "250.0",
         "Wake Forest",
         "5250000"
        ],
        [
         "303",
         "Kevin Martin",
         "San Antonio Spurs",
         "23.0",
         "SG",
         "33.0",
         "6-7",
         "199.0",
         "Western Carolina",
         "200600"
        ],
        [
         "304",
         "Andre Miller",
         "San Antonio Spurs",
         "24.0",
         "PG",
         "40.0",
         "6-3",
         "200.0",
         "Utah",
         "250750"
        ],
        [
         "308",
         "David West",
         "San Antonio Spurs",
         "30.0",
         "PF",
         "35.0",
         "6-9",
         "250.0",
         "Xavier",
         "1499187"
        ],
        [
         "311",
         "Kirk Hinrich",
         "Atlanta Hawks",
         "12.0",
         "SG",
         "35.0",
         "6-4",
         "190.0",
         "Kansas",
         "2854940"
        ],
        [
         "313",
         "Kris Humphries",
         "Atlanta Hawks",
         "43.0",
         "PF",
         "31.0",
         "6-9",
         "235.0",
         "Minnesota",
         "1000000"
        ],
        [
         "314",
         "Kyle Korver",
         "Atlanta Hawks",
         "26.0",
         "SG",
         "35.0",
         "6-7",
         "212.0",
         "Creighton",
         "5746479"
        ],
        [
         "315",
         "Paul Millsap",
         "Atlanta Hawks",
         "4.0",
         "PF",
         "31.0",
         "6-8",
         "246.0",
         "Louisiana Tech",
         "18671659"
        ],
        [
         "339",
         "Chris Bosh",
         "Miami Heat",
         "1.0",
         "PF",
         "32.0",
         "6-11",
         "235.0",
         "Georgia Tech",
         "22192730"
        ]
       ],
       "shape": {
        "columns": 9,
        "rows": 64
       }
      },
      "text/html": [
       "<div>\n",
       "<style scoped>\n",
       "    .dataframe tbody tr th:only-of-type {\n",
       "        vertical-align: middle;\n",
       "    }\n",
       "\n",
       "    .dataframe tbody tr th {\n",
       "        vertical-align: top;\n",
       "    }\n",
       "\n",
       "    .dataframe thead th {\n",
       "        text-align: right;\n",
       "    }\n",
       "</style>\n",
       "<table border=\"1\" class=\"dataframe\">\n",
       "  <thead>\n",
       "    <tr style=\"text-align: right;\">\n",
       "      <th></th>\n",
       "      <th>Name</th>\n",
       "      <th>Team</th>\n",
       "      <th>Number</th>\n",
       "      <th>Position</th>\n",
       "      <th>Age</th>\n",
       "      <th>Height</th>\n",
       "      <th>Weight</th>\n",
       "      <th>University</th>\n",
       "      <th>Salary</th>\n",
       "    </tr>\n",
       "  </thead>\n",
       "  <tbody>\n",
       "    <tr>\n",
       "      <th>19</th>\n",
       "      <td>Jarrett Jack</td>\n",
       "      <td>Brooklyn Nets</td>\n",
       "      <td>2.0</td>\n",
       "      <td>PG</td>\n",
       "      <td>32.0</td>\n",
       "      <td>6-3</td>\n",
       "      <td>200.0</td>\n",
       "      <td>Georgia Tech</td>\n",
       "      <td>6300000</td>\n",
       "    </tr>\n",
       "    <tr>\n",
       "      <th>31</th>\n",
       "      <td>Lou Amundson</td>\n",
       "      <td>New York Knicks</td>\n",
       "      <td>17.0</td>\n",
       "      <td>PF</td>\n",
       "      <td>33.0</td>\n",
       "      <td>6-9</td>\n",
       "      <td>220.0</td>\n",
       "      <td>UNLV</td>\n",
       "      <td>1635476</td>\n",
       "    </tr>\n",
       "    <tr>\n",
       "      <th>33</th>\n",
       "      <td>Carmelo Anthony</td>\n",
       "      <td>New York Knicks</td>\n",
       "      <td>7.0</td>\n",
       "      <td>SF</td>\n",
       "      <td>32.0</td>\n",
       "      <td>6-8</td>\n",
       "      <td>240.0</td>\n",
       "      <td>Syracuse</td>\n",
       "      <td>22875000</td>\n",
       "    </tr>\n",
       "    <tr>\n",
       "      <th>52</th>\n",
       "      <td>Carl Landry</td>\n",
       "      <td>Philadelphia 76ers</td>\n",
       "      <td>7.0</td>\n",
       "      <td>PF</td>\n",
       "      <td>32.0</td>\n",
       "      <td>6-9</td>\n",
       "      <td>248.0</td>\n",
       "      <td>Purdue</td>\n",
       "      <td>6500000</td>\n",
       "    </tr>\n",
       "    <tr>\n",
       "      <th>78</th>\n",
       "      <td>Andrew Bogut</td>\n",
       "      <td>Golden State Warriors</td>\n",
       "      <td>12.0</td>\n",
       "      <td>C</td>\n",
       "      <td>31.0</td>\n",
       "      <td>7-0</td>\n",
       "      <td>260.0</td>\n",
       "      <td>Utah</td>\n",
       "      <td>13800000</td>\n",
       "    </tr>\n",
       "    <tr>\n",
       "      <th>...</th>\n",
       "      <td>...</td>\n",
       "      <td>...</td>\n",
       "      <td>...</td>\n",
       "      <td>...</td>\n",
       "      <td>...</td>\n",
       "      <td>...</td>\n",
       "      <td>...</td>\n",
       "      <td>...</td>\n",
       "      <td>...</td>\n",
       "    </tr>\n",
       "    <tr>\n",
       "      <th>406</th>\n",
       "      <td>Tayshaun Prince</td>\n",
       "      <td>Minnesota Timberwolves</td>\n",
       "      <td>12.0</td>\n",
       "      <td>SF</td>\n",
       "      <td>36.0</td>\n",
       "      <td>6-9</td>\n",
       "      <td>212.0</td>\n",
       "      <td>Kentucky</td>\n",
       "      <td>947276</td>\n",
       "    </tr>\n",
       "    <tr>\n",
       "      <th>413</th>\n",
       "      <td>Nick Collison</td>\n",
       "      <td>Oklahoma City Thunder</td>\n",
       "      <td>4.0</td>\n",
       "      <td>PF</td>\n",
       "      <td>35.0</td>\n",
       "      <td>6-10</td>\n",
       "      <td>255.0</td>\n",
       "      <td>Kansas</td>\n",
       "      <td>3750000</td>\n",
       "    </tr>\n",
       "    <tr>\n",
       "      <th>415</th>\n",
       "      <td>Randy Foye</td>\n",
       "      <td>Oklahoma City Thunder</td>\n",
       "      <td>6.0</td>\n",
       "      <td>SG</td>\n",
       "      <td>32.0</td>\n",
       "      <td>6-4</td>\n",
       "      <td>213.0</td>\n",
       "      <td>Villanova</td>\n",
       "      <td>3135000</td>\n",
       "    </tr>\n",
       "    <tr>\n",
       "      <th>420</th>\n",
       "      <td>Nazr Mohammed</td>\n",
       "      <td>Oklahoma City Thunder</td>\n",
       "      <td>13.0</td>\n",
       "      <td>C</td>\n",
       "      <td>38.0</td>\n",
       "      <td>6-10</td>\n",
       "      <td>250.0</td>\n",
       "      <td>Kentucky</td>\n",
       "      <td>222888</td>\n",
       "    </tr>\n",
       "    <tr>\n",
       "      <th>434</th>\n",
       "      <td>Chris Kaman</td>\n",
       "      <td>Portland Trail Blazers</td>\n",
       "      <td>35.0</td>\n",
       "      <td>C</td>\n",
       "      <td>34.0</td>\n",
       "      <td>7-0</td>\n",
       "      <td>265.0</td>\n",
       "      <td>Central Michigan</td>\n",
       "      <td>5016000</td>\n",
       "    </tr>\n",
       "  </tbody>\n",
       "</table>\n",
       "<p>64 rows × 9 columns</p>\n",
       "</div>"
      ],
      "text/plain": [
       "                Name                    Team  Number Position   Age Height  \\\n",
       "19      Jarrett Jack           Brooklyn Nets     2.0       PG  32.0    6-3   \n",
       "31      Lou Amundson         New York Knicks    17.0       PF  33.0    6-9   \n",
       "33   Carmelo Anthony         New York Knicks     7.0       SF  32.0    6-8   \n",
       "52       Carl Landry      Philadelphia 76ers     7.0       PF  32.0    6-9   \n",
       "78      Andrew Bogut   Golden State Warriors    12.0        C  31.0    7-0   \n",
       "..               ...                     ...     ...      ...   ...    ...   \n",
       "406  Tayshaun Prince  Minnesota Timberwolves    12.0       SF  36.0    6-9   \n",
       "413    Nick Collison   Oklahoma City Thunder     4.0       PF  35.0   6-10   \n",
       "415       Randy Foye   Oklahoma City Thunder     6.0       SG  32.0    6-4   \n",
       "420    Nazr Mohammed   Oklahoma City Thunder    13.0        C  38.0   6-10   \n",
       "434      Chris Kaman  Portland Trail Blazers    35.0        C  34.0    7-0   \n",
       "\n",
       "     Weight        University    Salary  \n",
       "19    200.0      Georgia Tech   6300000  \n",
       "31    220.0              UNLV   1635476  \n",
       "33    240.0          Syracuse  22875000  \n",
       "52    248.0            Purdue   6500000  \n",
       "78    260.0              Utah  13800000  \n",
       "..      ...               ...       ...  \n",
       "406   212.0          Kentucky    947276  \n",
       "413   255.0            Kansas   3750000  \n",
       "415   213.0         Villanova   3135000  \n",
       "420   250.0          Kentucky    222888  \n",
       "434   265.0  Central Michigan   5016000  \n",
       "\n",
       "[64 rows x 9 columns]"
      ]
     },
     "execution_count": 62,
     "metadata": {},
     "output_type": "execute_result"
    }
   ],
   "source": [
    "df[df['Age']>30]"
   ]
  },
  {
   "cell_type": "code",
   "execution_count": 63,
   "id": "603007ed",
   "metadata": {},
   "outputs": [
    {
     "data": {
      "application/vnd.microsoft.datawrangler.viewer.v0+json": {
       "columns": [
        {
         "name": "index",
         "rawType": "int64",
         "type": "integer"
        },
        {
         "name": "Name",
         "rawType": "object",
         "type": "string"
        },
        {
         "name": "Team",
         "rawType": "object",
         "type": "string"
        },
        {
         "name": "Number",
         "rawType": "float64",
         "type": "float"
        },
        {
         "name": "Position",
         "rawType": "object",
         "type": "string"
        },
        {
         "name": "Age",
         "rawType": "float64",
         "type": "float"
        },
        {
         "name": "Height",
         "rawType": "object",
         "type": "string"
        },
        {
         "name": "Weight",
         "rawType": "float64",
         "type": "float"
        },
        {
         "name": "University",
         "rawType": "object",
         "type": "string"
        },
        {
         "name": "Salary",
         "rawType": "int64",
         "type": "integer"
        }
       ],
       "ref": "c4149e2b-7dd1-43d7-855c-7c3b61a88e4e",
       "rows": [
        [
         "33",
         "Carmelo Anthony",
         "New York Knicks",
         "7.0",
         "SF",
         "32.0",
         "6-8",
         "240.0",
         "Syracuse",
         "22875000"
        ],
        [
         "339",
         "Chris Bosh",
         "Miami Heat",
         "1.0",
         "PF",
         "32.0",
         "6-11",
         "235.0",
         "Georgia Tech",
         "22192730"
        ],
        [
         "100",
         "Chris Paul",
         "Los Angeles Clippers",
         "3.0",
         "PG",
         "31.0",
         "6-0",
         "175.0",
         "Wake Forest",
         "21468695"
        ],
        [
         "414",
         "Kevin Durant",
         "Oklahoma City Thunder",
         "35.0",
         "SF",
         "27.0",
         "6-9",
         "240.0",
         "Texas",
         "20158622"
        ],
        [
         "164",
         "Derrick Rose",
         "Chicago Bulls",
         "1.0",
         "PG",
         "27.0",
         "6-3",
         "190.0",
         "Memphis",
         "20093064"
        ],
        [
         "349",
         "Dwyane Wade",
         "Miami Heat",
         "3.0",
         "SG",
         "34.0",
         "6-4",
         "220.0",
         "Marquette",
         "20000000"
        ],
        [
         "98",
         "DeAndre Jordan",
         "Los Angeles Clippers",
         "6.0",
         "C",
         "27.0",
         "6-11",
         "265.0",
         "Texas A&M",
         "19689000"
        ],
        [
         "174",
         "Kevin Love",
         "Cleveland Cavaliers",
         "0.0",
         "PF",
         "27.0",
         "6-10",
         "251.0",
         "UCLA",
         "19689000"
        ],
        [
         "23",
         "Brook Lopez",
         "Brooklyn Nets",
         "11.0",
         "C",
         "28.0",
         "7-0",
         "275.0",
         "Stanford",
         "19689000"
        ],
        [
         "294",
         "LaMarcus Aldridge",
         "San Antonio Spurs",
         "12.0",
         "PF",
         "30.0",
         "6-11",
         "240.0",
         "Texas",
         "19689000"
        ],
        [
         "96",
         "Blake Griffin",
         "Los Angeles Clippers",
         "32.0",
         "PF",
         "27.0",
         "6-10",
         "251.0",
         "Oklahoma",
         "18907726"
        ],
        [
         "315",
         "Paul Millsap",
         "Atlanta Hawks",
         "4.0",
         "PF",
         "31.0",
         "6-8",
         "246.0",
         "Louisiana Tech",
         "18671659"
        ],
        [
         "199",
         "Paul George",
         "Indiana Pacers",
         "13.0",
         "SF",
         "26.0",
         "6-9",
         "220.0",
         "Fresno State",
         "17120106"
        ],
        [
         "426",
         "Russell Westbrook",
         "Oklahoma City Thunder",
         "0.0",
         "PG",
         "27.0",
         "6-3",
         "200.0",
         "UCLA",
         "16744218"
        ],
        [
         "168",
         "Kyrie Irving",
         "Cleveland Cavaliers",
         "2.0",
         "PG",
         "24.0",
         "6-3",
         "193.0",
         "Duke",
         "16407501"
        ],
        [
         "220",
         "Greg Monroe",
         "Milwaukee Bucks",
         "15.0",
         "C",
         "26.0",
         "6-11",
         "265.0",
         "Georgetown",
         "16407500"
        ],
        [
         "153",
         "Jimmy Butler",
         "Chicago Bulls",
         "21.0",
         "SG",
         "26.0",
         "6-7",
         "220.0",
         "Marquette",
         "16407500"
        ],
        [
         "233",
         "Wesley Matthews",
         "Dallas Mavericks",
         "23.0",
         "SG",
         "29.0",
         "6-5",
         "220.0",
         "Marquette",
         "16407500"
        ],
        [
         "301",
         "Kawhi Leonard",
         "San Antonio Spurs",
         "2.0",
         "SF",
         "24.0",
         "6-7",
         "230.0",
         "San Diego State",
         "16407500"
        ],
        [
         "418",
         "Enes Kanter",
         "Oklahoma City Thunder",
         "11.0",
         "C",
         "24.0",
         "6-11",
         "245.0",
         "Kentucky",
         "16407500"
        ],
        [
         "189",
         "Tobias Harris",
         "Detroit Pistons",
         "34.0",
         "SF",
         "23.0",
         "6-9",
         "235.0",
         "Tennessee",
         "16000000"
        ],
        [
         "382",
         "John Wall",
         "Washington Wizards",
         "2.0",
         "PG",
         "25.0",
         "6-4",
         "195.0",
         "Kentucky",
         "15851950"
        ],
        [
         "143",
         "DeMarcus Cousins",
         "Sacramento Kings",
         "15.0",
         "C",
         "25.0",
         "6-11",
         "270.0",
         "Kentucky",
         "15851950"
        ],
        [
         "249",
         "James Harden",
         "Houston Rockets",
         "13.0",
         "SG",
         "26.0",
         "6-5",
         "220.0",
         "Arizona State",
         "15756438"
        ],
        [
         "111",
         "Roy Hibbert",
         "Los Angeles Lakers",
         "17.0",
         "C",
         "29.0",
         "7-2",
         "270.0",
         "Georgetown",
         "15592217"
        ],
        [
         "288",
         "Eric Gordon",
         "New Orleans Pelicans",
         "10.0",
         "SG",
         "27.0",
         "6-4",
         "215.0",
         "Indiana",
         "15514031"
        ],
        [
         "89",
         "Klay Thompson",
         "Golden State Warriors",
         "11.0",
         "SG",
         "26.0",
         "6-7",
         "215.0",
         "Washington State",
         "15501000"
        ],
        [
         "448",
         "Gordon Hayward",
         "Utah Jazz",
         "20.0",
         "SF",
         "26.0",
         "6-8",
         "226.0",
         "Butler",
         "15409570"
        ],
        [
         "238",
         "Chandler Parsons",
         "Dallas Mavericks",
         "25.0",
         "SF",
         "27.0",
         "6-10",
         "230.0",
         "Florida",
         "15361500"
        ],
        [
         "219",
         "Khris Middleton",
         "Milwaukee Bucks",
         "22.0",
         "SG",
         "24.0",
         "6-8",
         "234.0",
         "Texas A&M",
         "14700000"
        ],
        [
         "179",
         "Tristan Thompson",
         "Cleveland Cavaliers",
         "13.0",
         "C",
         "25.0",
         "6-9",
         "238.0",
         "Texas",
         "14260870"
        ],
        [
         "82",
         "Draymond Green",
         "Golden State Warriors",
         "23.0",
         "PF",
         "26.0",
         "6-7",
         "230.0",
         "Michigan State",
         "14260870"
        ],
        [
         "191",
         "Reggie Jackson",
         "Detroit Pistons",
         "1.0",
         "PG",
         "26.0",
         "6-3",
         "208.0",
         "Boston College",
         "13913044"
        ],
        [
         "78",
         "Andrew Bogut",
         "Golden State Warriors",
         "12.0",
         "C",
         "31.0",
         "7-0",
         "260.0",
         "Utah",
         "13800000"
        ],
        [
         "63",
         "DeMarre Carroll",
         "Toronto Raptors",
         "5.0",
         "SF",
         "29.0",
         "6-8",
         "212.0",
         "Missouri",
         "13600000"
        ],
        [
         "127",
         "Brandon Knight",
         "Phoenix Suns",
         "3.0",
         "PG",
         "24.0",
         "6-3",
         "189.0",
         "Kentucky",
         "13500000"
        ],
        [
         "121",
         "Eric Bledsoe",
         "Phoenix Suns",
         "2.0",
         "PG",
         "26.0",
         "6-1",
         "190.0",
         "Kentucky",
         "13500000"
        ],
        [
         "162",
         "Joakim Noah",
         "Chicago Bulls",
         "13.0",
         "C",
         "31.0",
         "6-11",
         "232.0",
         "Florida",
         "13400000"
        ],
        [
         "38",
         "Robin Lopez",
         "New York Knicks",
         "8.0",
         "C",
         "28.0",
         "7-0",
         "255.0",
         "Stanford",
         "12650000"
        ],
        [
         "146",
         "Rudy Gay",
         "Sacramento Kings",
         "8.0",
         "SF",
         "29.0",
         "6-8",
         "230.0",
         "Connecticut",
         "12403101"
        ],
        [
         "67",
         "Kyle Lowry",
         "Toronto Raptors",
         "7.0",
         "PG",
         "30.0",
         "6-0",
         "205.0",
         "Villanova",
         "12000000"
        ],
        [
         "336",
         "Kemba Walker",
         "Charlotte Hornets",
         "15.0",
         "PG",
         "26.0",
         "6-1",
         "184.0",
         "Connecticut",
         "12000000"
        ],
        [
         "446",
         "Derrick Favors",
         "Utah Jazz",
         "15.0",
         "PF",
         "24.0",
         "6-10",
         "265.0",
         "Georgia Tech",
         "12000000"
        ],
        [
         "312",
         "Al Horford",
         "Atlanta Hawks",
         "15.0",
         "C",
         "30.0",
         "6-10",
         "245.0",
         "Florida",
         "12000000"
        ],
        [
         "83",
         "Andre Iguodala",
         "Golden State Warriors",
         "9.0",
         "SF",
         "32.0",
         "6-6",
         "215.0",
         "Arizona",
         "11710456"
        ],
        [
         "80",
         "Stephen Curry",
         "Golden State Warriors",
         "30.0",
         "PG",
         "28.0",
         "6-3",
         "190.0",
         "Davidson",
         "11370786"
        ],
        [
         "366",
         "Nikola Vucevic",
         "Orlando Magic",
         "9.0",
         "C",
         "25.0",
         "7-0",
         "260.0",
         "USC",
         "11250000"
        ],
        [
         "29",
         "Thaddeus Young",
         "Brooklyn Nets",
         "30.0",
         "PF",
         "27.0",
         "6-8",
         "221.0",
         "Georgia Tech",
         "11235955"
        ],
        [
         "387",
         "Kenneth Faried",
         "Denver Nuggets",
         "35.0",
         "PF",
         "26.0",
         "6-8",
         "228.0",
         "Morehead State",
         "11235955"
        ],
        [
         "285",
         "Tyreke Evans",
         "New Orleans Pelicans",
         "1.0",
         "SG",
         "26.0",
         "6-6",
         "220.0",
         "Memphis",
         "10734586"
        ]
       ],
       "shape": {
        "columns": 9,
        "rows": 364
       }
      },
      "text/html": [
       "<div>\n",
       "<style scoped>\n",
       "    .dataframe tbody tr th:only-of-type {\n",
       "        vertical-align: middle;\n",
       "    }\n",
       "\n",
       "    .dataframe tbody tr th {\n",
       "        vertical-align: top;\n",
       "    }\n",
       "\n",
       "    .dataframe thead th {\n",
       "        text-align: right;\n",
       "    }\n",
       "</style>\n",
       "<table border=\"1\" class=\"dataframe\">\n",
       "  <thead>\n",
       "    <tr style=\"text-align: right;\">\n",
       "      <th></th>\n",
       "      <th>Name</th>\n",
       "      <th>Team</th>\n",
       "      <th>Number</th>\n",
       "      <th>Position</th>\n",
       "      <th>Age</th>\n",
       "      <th>Height</th>\n",
       "      <th>Weight</th>\n",
       "      <th>University</th>\n",
       "      <th>Salary</th>\n",
       "    </tr>\n",
       "  </thead>\n",
       "  <tbody>\n",
       "    <tr>\n",
       "      <th>33</th>\n",
       "      <td>Carmelo Anthony</td>\n",
       "      <td>New York Knicks</td>\n",
       "      <td>7.0</td>\n",
       "      <td>SF</td>\n",
       "      <td>32.0</td>\n",
       "      <td>6-8</td>\n",
       "      <td>240.0</td>\n",
       "      <td>Syracuse</td>\n",
       "      <td>22875000</td>\n",
       "    </tr>\n",
       "    <tr>\n",
       "      <th>339</th>\n",
       "      <td>Chris Bosh</td>\n",
       "      <td>Miami Heat</td>\n",
       "      <td>1.0</td>\n",
       "      <td>PF</td>\n",
       "      <td>32.0</td>\n",
       "      <td>6-11</td>\n",
       "      <td>235.0</td>\n",
       "      <td>Georgia Tech</td>\n",
       "      <td>22192730</td>\n",
       "    </tr>\n",
       "    <tr>\n",
       "      <th>100</th>\n",
       "      <td>Chris Paul</td>\n",
       "      <td>Los Angeles Clippers</td>\n",
       "      <td>3.0</td>\n",
       "      <td>PG</td>\n",
       "      <td>31.0</td>\n",
       "      <td>6-0</td>\n",
       "      <td>175.0</td>\n",
       "      <td>Wake Forest</td>\n",
       "      <td>21468695</td>\n",
       "    </tr>\n",
       "    <tr>\n",
       "      <th>414</th>\n",
       "      <td>Kevin Durant</td>\n",
       "      <td>Oklahoma City Thunder</td>\n",
       "      <td>35.0</td>\n",
       "      <td>SF</td>\n",
       "      <td>27.0</td>\n",
       "      <td>6-9</td>\n",
       "      <td>240.0</td>\n",
       "      <td>Texas</td>\n",
       "      <td>20158622</td>\n",
       "    </tr>\n",
       "    <tr>\n",
       "      <th>164</th>\n",
       "      <td>Derrick Rose</td>\n",
       "      <td>Chicago Bulls</td>\n",
       "      <td>1.0</td>\n",
       "      <td>PG</td>\n",
       "      <td>27.0</td>\n",
       "      <td>6-3</td>\n",
       "      <td>190.0</td>\n",
       "      <td>Memphis</td>\n",
       "      <td>20093064</td>\n",
       "    </tr>\n",
       "    <tr>\n",
       "      <th>...</th>\n",
       "      <td>...</td>\n",
       "      <td>...</td>\n",
       "      <td>...</td>\n",
       "      <td>...</td>\n",
       "      <td>...</td>\n",
       "      <td>...</td>\n",
       "      <td>...</td>\n",
       "      <td>...</td>\n",
       "      <td>...</td>\n",
       "    </tr>\n",
       "    <tr>\n",
       "      <th>184</th>\n",
       "      <td>Lorenzo Brown</td>\n",
       "      <td>Detroit Pistons</td>\n",
       "      <td>17.0</td>\n",
       "      <td>PG</td>\n",
       "      <td>25.0</td>\n",
       "      <td>6-5</td>\n",
       "      <td>189.0</td>\n",
       "      <td>North Carolina State</td>\n",
       "      <td>111444</td>\n",
       "    </tr>\n",
       "    <tr>\n",
       "      <th>175</th>\n",
       "      <td>Jordan McRae</td>\n",
       "      <td>Cleveland Cavaliers</td>\n",
       "      <td>12.0</td>\n",
       "      <td>SG</td>\n",
       "      <td>25.0</td>\n",
       "      <td>6-5</td>\n",
       "      <td>179.0</td>\n",
       "      <td>Tennessee</td>\n",
       "      <td>111196</td>\n",
       "    </tr>\n",
       "    <tr>\n",
       "      <th>135</th>\n",
       "      <td>Alan Williams</td>\n",
       "      <td>Phoenix Suns</td>\n",
       "      <td>15.0</td>\n",
       "      <td>C</td>\n",
       "      <td>23.0</td>\n",
       "      <td>6-8</td>\n",
       "      <td>260.0</td>\n",
       "      <td>UC Santa Barbara</td>\n",
       "      <td>83397</td>\n",
       "    </tr>\n",
       "    <tr>\n",
       "      <th>130</th>\n",
       "      <td>Phil Pressey</td>\n",
       "      <td>Phoenix Suns</td>\n",
       "      <td>25.0</td>\n",
       "      <td>PG</td>\n",
       "      <td>25.0</td>\n",
       "      <td>5-11</td>\n",
       "      <td>175.0</td>\n",
       "      <td>Missouri</td>\n",
       "      <td>55722</td>\n",
       "    </tr>\n",
       "    <tr>\n",
       "      <th>291</th>\n",
       "      <td>Orlando Johnson</td>\n",
       "      <td>New Orleans Pelicans</td>\n",
       "      <td>0.0</td>\n",
       "      <td>SG</td>\n",
       "      <td>27.0</td>\n",
       "      <td>6-5</td>\n",
       "      <td>220.0</td>\n",
       "      <td>UC Santa Barbara</td>\n",
       "      <td>55722</td>\n",
       "    </tr>\n",
       "  </tbody>\n",
       "</table>\n",
       "<p>364 rows × 9 columns</p>\n",
       "</div>"
      ],
      "text/plain": [
       "                Name                   Team  Number Position   Age Height  \\\n",
       "33   Carmelo Anthony        New York Knicks     7.0       SF  32.0    6-8   \n",
       "339       Chris Bosh             Miami Heat     1.0       PF  32.0   6-11   \n",
       "100       Chris Paul   Los Angeles Clippers     3.0       PG  31.0    6-0   \n",
       "414     Kevin Durant  Oklahoma City Thunder    35.0       SF  27.0    6-9   \n",
       "164     Derrick Rose          Chicago Bulls     1.0       PG  27.0    6-3   \n",
       "..               ...                    ...     ...      ...   ...    ...   \n",
       "184    Lorenzo Brown        Detroit Pistons    17.0       PG  25.0    6-5   \n",
       "175     Jordan McRae    Cleveland Cavaliers    12.0       SG  25.0    6-5   \n",
       "135    Alan Williams           Phoenix Suns    15.0        C  23.0    6-8   \n",
       "130     Phil Pressey           Phoenix Suns    25.0       PG  25.0   5-11   \n",
       "291  Orlando Johnson   New Orleans Pelicans     0.0       SG  27.0    6-5   \n",
       "\n",
       "     Weight            University    Salary  \n",
       "33    240.0              Syracuse  22875000  \n",
       "339   235.0          Georgia Tech  22192730  \n",
       "100   175.0           Wake Forest  21468695  \n",
       "414   240.0                 Texas  20158622  \n",
       "164   190.0               Memphis  20093064  \n",
       "..      ...                   ...       ...  \n",
       "184   189.0  North Carolina State    111444  \n",
       "175   179.0             Tennessee    111196  \n",
       "135   260.0      UC Santa Barbara     83397  \n",
       "130   175.0              Missouri     55722  \n",
       "291   220.0      UC Santa Barbara     55722  \n",
       "\n",
       "[364 rows x 9 columns]"
      ]
     },
     "execution_count": 63,
     "metadata": {},
     "output_type": "execute_result"
    }
   ],
   "source": [
    "df.sort_values('Salary', ascending=False)"
   ]
  },
  {
   "cell_type": "code",
   "execution_count": 64,
   "id": "1e145188",
   "metadata": {},
   "outputs": [
    {
     "data": {
      "application/vnd.microsoft.datawrangler.viewer.v0+json": {
       "columns": [
        {
         "name": "index",
         "rawType": "int64",
         "type": "integer"
        },
        {
         "name": "Name",
         "rawType": "object",
         "type": "string"
        },
        {
         "name": "Team",
         "rawType": "object",
         "type": "string"
        },
        {
         "name": "Number",
         "rawType": "float64",
         "type": "float"
        },
        {
         "name": "Position",
         "rawType": "object",
         "type": "string"
        },
        {
         "name": "Age",
         "rawType": "float64",
         "type": "float"
        },
        {
         "name": "Height",
         "rawType": "object",
         "type": "string"
        },
        {
         "name": "Weight",
         "rawType": "float64",
         "type": "float"
        },
        {
         "name": "University",
         "rawType": "object",
         "type": "string"
        },
        {
         "name": "Salary",
         "rawType": "int64",
         "type": "integer"
        }
       ],
       "ref": "5348f42b-58d8-4bd0-b8a3-37b016ef80e8",
       "rows": [
        [
         "33",
         "Carmelo Anthony",
         "New York Knicks",
         "7.0",
         "SF",
         "32.0",
         "6-8",
         "240.0",
         "Syracuse",
         "22875000"
        ],
        [
         "339",
         "Chris Bosh",
         "Miami Heat",
         "1.0",
         "PF",
         "32.0",
         "6-11",
         "235.0",
         "Georgia Tech",
         "22192730"
        ],
        [
         "100",
         "Chris Paul",
         "Los Angeles Clippers",
         "3.0",
         "PG",
         "31.0",
         "6-0",
         "175.0",
         "Wake Forest",
         "21468695"
        ],
        [
         "414",
         "Kevin Durant",
         "Oklahoma City Thunder",
         "35.0",
         "SF",
         "27.0",
         "6-9",
         "240.0",
         "Texas",
         "20158622"
        ],
        [
         "164",
         "Derrick Rose",
         "Chicago Bulls",
         "1.0",
         "PG",
         "27.0",
         "6-3",
         "190.0",
         "Memphis",
         "20093064"
        ]
       ],
       "shape": {
        "columns": 9,
        "rows": 5
       }
      },
      "text/html": [
       "<div>\n",
       "<style scoped>\n",
       "    .dataframe tbody tr th:only-of-type {\n",
       "        vertical-align: middle;\n",
       "    }\n",
       "\n",
       "    .dataframe tbody tr th {\n",
       "        vertical-align: top;\n",
       "    }\n",
       "\n",
       "    .dataframe thead th {\n",
       "        text-align: right;\n",
       "    }\n",
       "</style>\n",
       "<table border=\"1\" class=\"dataframe\">\n",
       "  <thead>\n",
       "    <tr style=\"text-align: right;\">\n",
       "      <th></th>\n",
       "      <th>Name</th>\n",
       "      <th>Team</th>\n",
       "      <th>Number</th>\n",
       "      <th>Position</th>\n",
       "      <th>Age</th>\n",
       "      <th>Height</th>\n",
       "      <th>Weight</th>\n",
       "      <th>University</th>\n",
       "      <th>Salary</th>\n",
       "    </tr>\n",
       "  </thead>\n",
       "  <tbody>\n",
       "    <tr>\n",
       "      <th>33</th>\n",
       "      <td>Carmelo Anthony</td>\n",
       "      <td>New York Knicks</td>\n",
       "      <td>7.0</td>\n",
       "      <td>SF</td>\n",
       "      <td>32.0</td>\n",
       "      <td>6-8</td>\n",
       "      <td>240.0</td>\n",
       "      <td>Syracuse</td>\n",
       "      <td>22875000</td>\n",
       "    </tr>\n",
       "    <tr>\n",
       "      <th>339</th>\n",
       "      <td>Chris Bosh</td>\n",
       "      <td>Miami Heat</td>\n",
       "      <td>1.0</td>\n",
       "      <td>PF</td>\n",
       "      <td>32.0</td>\n",
       "      <td>6-11</td>\n",
       "      <td>235.0</td>\n",
       "      <td>Georgia Tech</td>\n",
       "      <td>22192730</td>\n",
       "    </tr>\n",
       "    <tr>\n",
       "      <th>100</th>\n",
       "      <td>Chris Paul</td>\n",
       "      <td>Los Angeles Clippers</td>\n",
       "      <td>3.0</td>\n",
       "      <td>PG</td>\n",
       "      <td>31.0</td>\n",
       "      <td>6-0</td>\n",
       "      <td>175.0</td>\n",
       "      <td>Wake Forest</td>\n",
       "      <td>21468695</td>\n",
       "    </tr>\n",
       "    <tr>\n",
       "      <th>414</th>\n",
       "      <td>Kevin Durant</td>\n",
       "      <td>Oklahoma City Thunder</td>\n",
       "      <td>35.0</td>\n",
       "      <td>SF</td>\n",
       "      <td>27.0</td>\n",
       "      <td>6-9</td>\n",
       "      <td>240.0</td>\n",
       "      <td>Texas</td>\n",
       "      <td>20158622</td>\n",
       "    </tr>\n",
       "    <tr>\n",
       "      <th>164</th>\n",
       "      <td>Derrick Rose</td>\n",
       "      <td>Chicago Bulls</td>\n",
       "      <td>1.0</td>\n",
       "      <td>PG</td>\n",
       "      <td>27.0</td>\n",
       "      <td>6-3</td>\n",
       "      <td>190.0</td>\n",
       "      <td>Memphis</td>\n",
       "      <td>20093064</td>\n",
       "    </tr>\n",
       "  </tbody>\n",
       "</table>\n",
       "</div>"
      ],
      "text/plain": [
       "                Name                   Team  Number Position   Age Height  \\\n",
       "33   Carmelo Anthony        New York Knicks     7.0       SF  32.0    6-8   \n",
       "339       Chris Bosh             Miami Heat     1.0       PF  32.0   6-11   \n",
       "100       Chris Paul   Los Angeles Clippers     3.0       PG  31.0    6-0   \n",
       "414     Kevin Durant  Oklahoma City Thunder    35.0       SF  27.0    6-9   \n",
       "164     Derrick Rose          Chicago Bulls     1.0       PG  27.0    6-3   \n",
       "\n",
       "     Weight    University    Salary  \n",
       "33    240.0      Syracuse  22875000  \n",
       "339   235.0  Georgia Tech  22192730  \n",
       "100   175.0   Wake Forest  21468695  \n",
       "414   240.0         Texas  20158622  \n",
       "164   190.0       Memphis  20093064  "
      ]
     },
     "execution_count": 64,
     "metadata": {},
     "output_type": "execute_result"
    }
   ],
   "source": [
    "df.sort_values('Salary', ascending=False).head()"
   ]
  },
  {
   "cell_type": "code",
   "execution_count": 65,
   "id": "cef2a8e6",
   "metadata": {},
   "outputs": [
    {
     "data": {
      "application/vnd.microsoft.datawrangler.viewer.v0+json": {
       "columns": [
        {
         "name": "Team",
         "rawType": "object",
         "type": "string"
        },
        {
         "name": "Salary",
         "rawType": "float64",
         "type": "float"
        }
       ],
       "ref": "b269a23c-e6bf-42b1-ba09-9355d0c5f1b6",
       "rows": [
        [
         "Atlanta Hawks",
         "5125754.545454546"
        ],
        [
         "Boston Celtics",
         "3461755.6666666665"
        ],
        [
         "Brooklyn Nets",
         "3654086.5384615385"
        ],
        [
         "Charlotte Hornets",
         "3978124.153846154"
        ],
        [
         "Chicago Bulls",
         "6105483.333333333"
        ],
        [
         "Cleveland Cavaliers",
         "6733471.7272727275"
        ],
        [
         "Dallas Mavericks",
         "4761692.083333333"
        ],
        [
         "Denver Nuggets",
         "4240885.666666667"
        ],
        [
         "Detroit Pistons",
         "4477884.2"
        ],
        [
         "Golden State Warriors",
         "6711293.083333333"
        ],
        [
         "Houston Rockets",
         "4404132.363636363"
        ],
        [
         "Indiana Pacers",
         "4004800.0833333335"
        ],
        [
         "Los Angeles Clippers",
         "6707636.714285715"
        ],
        [
         "Los Angeles Lakers",
         "3270444.8333333335"
        ],
        [
         "Memphis Grizzlies",
         "4374067.692307692"
        ],
        [
         "Miami Heat",
         "6583812.1"
        ],
        [
         "Milwaukee Bucks",
         "4771039.785714285"
        ],
        [
         "Minnesota Timberwolves",
         "2663774.5"
        ],
        [
         "New Orleans Pelicans",
         "4262525.5"
        ],
        [
         "New York Knicks",
         "5270654.7272727275"
        ],
        [
         "Oklahoma City Thunder",
         "5822521.285714285"
        ],
        [
         "Orlando Magic",
         "3788728.8"
        ],
        [
         "Philadelphia 76ers",
         "2213778.1428571427"
        ],
        [
         "Phoenix Suns",
         "3457318.076923077"
        ],
        [
         "Portland Trail Blazers",
         "3220121.2"
        ],
        [
         "Sacramento Kings",
         "4829759.538461538"
        ],
        [
         "San Antonio Spurs",
         "5408293.909090909"
        ],
        [
         "Toronto Raptors",
         "5737712.9"
        ],
        [
         "Utah Jazz",
         "5225649.1"
        ],
        [
         "Washington Wizards",
         "4008557.3076923075"
        ]
       ],
       "shape": {
        "columns": 1,
        "rows": 30
       }
      },
      "text/plain": [
       "Team\n",
       "Atlanta Hawks             5.125755e+06\n",
       "Boston Celtics            3.461756e+06\n",
       "Brooklyn Nets             3.654087e+06\n",
       "Charlotte Hornets         3.978124e+06\n",
       "Chicago Bulls             6.105483e+06\n",
       "Cleveland Cavaliers       6.733472e+06\n",
       "Dallas Mavericks          4.761692e+06\n",
       "Denver Nuggets            4.240886e+06\n",
       "Detroit Pistons           4.477884e+06\n",
       "Golden State Warriors     6.711293e+06\n",
       "Houston Rockets           4.404132e+06\n",
       "Indiana Pacers            4.004800e+06\n",
       "Los Angeles Clippers      6.707637e+06\n",
       "Los Angeles Lakers        3.270445e+06\n",
       "Memphis Grizzlies         4.374068e+06\n",
       "Miami Heat                6.583812e+06\n",
       "Milwaukee Bucks           4.771040e+06\n",
       "Minnesota Timberwolves    2.663774e+06\n",
       "New Orleans Pelicans      4.262526e+06\n",
       "New York Knicks           5.270655e+06\n",
       "Oklahoma City Thunder     5.822521e+06\n",
       "Orlando Magic             3.788729e+06\n",
       "Philadelphia 76ers        2.213778e+06\n",
       "Phoenix Suns              3.457318e+06\n",
       "Portland Trail Blazers    3.220121e+06\n",
       "Sacramento Kings          4.829760e+06\n",
       "San Antonio Spurs         5.408294e+06\n",
       "Toronto Raptors           5.737713e+06\n",
       "Utah Jazz                 5.225649e+06\n",
       "Washington Wizards        4.008557e+06\n",
       "Name: Salary, dtype: float64"
      ]
     },
     "execution_count": 65,
     "metadata": {},
     "output_type": "execute_result"
    }
   ],
   "source": [
    "df.groupby('Team')['Salary'].mean()"
   ]
  },
  {
   "cell_type": "code",
   "execution_count": 66,
   "id": "fa2592bb",
   "metadata": {},
   "outputs": [
    {
     "data": {
      "application/vnd.microsoft.datawrangler.viewer.v0+json": {
       "columns": [
        {
         "name": "Position",
         "rawType": "object",
         "type": "string"
        },
        {
         "name": "0",
         "rawType": "int64",
         "type": "integer"
        }
       ],
       "ref": "f2349e9a-09c5-45f6-9b78-5d80398ea010",
       "rows": [
        [
         "C",
         "49"
        ],
        [
         "PF",
         "81"
        ],
        [
         "PG",
         "76"
        ],
        [
         "SF",
         "71"
        ],
        [
         "SG",
         "87"
        ]
       ],
       "shape": {
        "columns": 1,
        "rows": 5
       }
      },
      "text/plain": [
       "Position\n",
       "C     49\n",
       "PF    81\n",
       "PG    76\n",
       "SF    71\n",
       "SG    87\n",
       "dtype: int64"
      ]
     },
     "execution_count": 66,
     "metadata": {},
     "output_type": "execute_result"
    }
   ],
   "source": [
    "df.groupby('Position').size()"
   ]
  },
  {
   "cell_type": "code",
   "execution_count": 67,
   "id": "b9a05a2f",
   "metadata": {},
   "outputs": [
    {
     "data": {
      "application/vnd.microsoft.datawrangler.viewer.v0+json": {
       "columns": [
        {
         "name": "Position",
         "rawType": "object",
         "type": "string"
        },
        {
         "name": "count",
         "rawType": "int64",
         "type": "integer"
        }
       ],
       "ref": "e906b0ae-2b28-4131-84e7-fd831870ffa9",
       "rows": [
        [
         "SG",
         "87"
        ],
        [
         "PF",
         "81"
        ],
        [
         "PG",
         "76"
        ],
        [
         "SF",
         "71"
        ],
        [
         "C",
         "49"
        ]
       ],
       "shape": {
        "columns": 1,
        "rows": 5
       }
      },
      "text/plain": [
       "Position\n",
       "SG    87\n",
       "PF    81\n",
       "PG    76\n",
       "SF    71\n",
       "C     49\n",
       "Name: count, dtype: int64"
      ]
     },
     "execution_count": 67,
     "metadata": {},
     "output_type": "execute_result"
    }
   ],
   "source": [
    "df['Position'].value_counts()"
   ]
  },
  {
   "cell_type": "code",
   "execution_count": 68,
   "id": "b6ec4670",
   "metadata": {},
   "outputs": [
    {
     "data": {
      "application/vnd.microsoft.datawrangler.viewer.v0+json": {
       "columns": [
        {
         "name": "Team",
         "rawType": "object",
         "type": "string"
        },
        {
         "name": "Salary",
         "rawType": "int64",
         "type": "integer"
        }
       ],
       "ref": "038f4585-4c58-4b31-b1f9-2fa806d0a824",
       "rows": [
        [
         "Atlanta Hawks",
         "56383300"
        ],
        [
         "Boston Celtics",
         "41541068"
        ],
        [
         "Brooklyn Nets",
         "47503125"
        ],
        [
         "Charlotte Hornets",
         "51715614"
        ],
        [
         "Chicago Bulls",
         "73265800"
        ],
        [
         "Cleveland Cavaliers",
         "74068189"
        ],
        [
         "Dallas Mavericks",
         "57140305"
        ],
        [
         "Denver Nuggets",
         "38167971"
        ],
        [
         "Detroit Pistons",
         "67168263"
        ],
        [
         "Golden State Warriors",
         "80535517"
        ],
        [
         "Houston Rockets",
         "48445456"
        ],
        [
         "Indiana Pacers",
         "48057601"
        ],
        [
         "Los Angeles Clippers",
         "93906914"
        ],
        [
         "Los Angeles Lakers",
         "39245338"
        ],
        [
         "Memphis Grizzlies",
         "56862880"
        ],
        [
         "Miami Heat",
         "65838121"
        ],
        [
         "Milwaukee Bucks",
         "66794557"
        ],
        [
         "Minnesota Timberwolves",
         "21310196"
        ],
        [
         "New Orleans Pelicans",
         "68200408"
        ],
        [
         "New York Knicks",
         "57977202"
        ],
        [
         "Oklahoma City Thunder",
         "81515298"
        ],
        [
         "Orlando Magic",
         "37887288"
        ],
        [
         "Philadelphia 76ers",
         "30992894"
        ],
        [
         "Phoenix Suns",
         "44945135"
        ],
        [
         "Portland Trail Blazers",
         "48301818"
        ],
        [
         "Sacramento Kings",
         "62786874"
        ],
        [
         "San Antonio Spurs",
         "59491233"
        ],
        [
         "Toronto Raptors",
         "57377129"
        ],
        [
         "Utah Jazz",
         "52256491"
        ],
        [
         "Washington Wizards",
         "52111245"
        ]
       ],
       "shape": {
        "columns": 1,
        "rows": 30
       }
      },
      "text/plain": [
       "Team\n",
       "Atlanta Hawks             56383300\n",
       "Boston Celtics            41541068\n",
       "Brooklyn Nets             47503125\n",
       "Charlotte Hornets         51715614\n",
       "Chicago Bulls             73265800\n",
       "Cleveland Cavaliers       74068189\n",
       "Dallas Mavericks          57140305\n",
       "Denver Nuggets            38167971\n",
       "Detroit Pistons           67168263\n",
       "Golden State Warriors     80535517\n",
       "Houston Rockets           48445456\n",
       "Indiana Pacers            48057601\n",
       "Los Angeles Clippers      93906914\n",
       "Los Angeles Lakers        39245338\n",
       "Memphis Grizzlies         56862880\n",
       "Miami Heat                65838121\n",
       "Milwaukee Bucks           66794557\n",
       "Minnesota Timberwolves    21310196\n",
       "New Orleans Pelicans      68200408\n",
       "New York Knicks           57977202\n",
       "Oklahoma City Thunder     81515298\n",
       "Orlando Magic             37887288\n",
       "Philadelphia 76ers        30992894\n",
       "Phoenix Suns              44945135\n",
       "Portland Trail Blazers    48301818\n",
       "Sacramento Kings          62786874\n",
       "San Antonio Spurs         59491233\n",
       "Toronto Raptors           57377129\n",
       "Utah Jazz                 52256491\n",
       "Washington Wizards        52111245\n",
       "Name: Salary, dtype: int64"
      ]
     },
     "execution_count": 68,
     "metadata": {},
     "output_type": "execute_result"
    }
   ],
   "source": [
    "df.groupby('Team')['Salary'].sum()\n"
   ]
  },
  {
   "cell_type": "code",
   "execution_count": 69,
   "id": "c1bbabb3",
   "metadata": {},
   "outputs": [
    {
     "data": {
      "application/vnd.microsoft.datawrangler.viewer.v0+json": {
       "columns": [
        {
         "name": "index",
         "rawType": "int64",
         "type": "integer"
        },
        {
         "name": "Name",
         "rawType": "object",
         "type": "string"
        },
        {
         "name": "Team",
         "rawType": "object",
         "type": "string"
        },
        {
         "name": "Number",
         "rawType": "float64",
         "type": "float"
        },
        {
         "name": "Position",
         "rawType": "object",
         "type": "string"
        },
        {
         "name": "Age",
         "rawType": "float64",
         "type": "float"
        },
        {
         "name": "Height",
         "rawType": "object",
         "type": "string"
        },
        {
         "name": "Weight",
         "rawType": "float64",
         "type": "float"
        },
        {
         "name": "University",
         "rawType": "object",
         "type": "string"
        },
        {
         "name": "Salary",
         "rawType": "int64",
         "type": "integer"
        }
       ],
       "ref": "a9d1be72-c738-411d-84e5-67bda599e73e",
       "rows": [
        [
         "0",
         "Avery Bradley",
         "Boston Celtics",
         "0.0",
         "PG",
         "25.0",
         "6-2",
         "180.0",
         "Texas",
         "7730337"
        ],
        [
         "1",
         "Jae Crowder",
         "Boston Celtics",
         "99.0",
         "SF",
         "25.0",
         "6-6",
         "235.0",
         "Marquette",
         "6796117"
        ],
        [
         "3",
         "R.J. Hunter",
         "Boston Celtics",
         "28.0",
         "SG",
         "22.0",
         "6-5",
         "185.0",
         "Georgia State",
         "1148640"
        ],
        [
         "6",
         "Jordan Mickey",
         "Boston Celtics",
         "55.0",
         "PF",
         "21.0",
         "6-8",
         "235.0",
         "LSU",
         "1170960"
        ],
        [
         "7",
         "Kelly Olynyk",
         "Boston Celtics",
         "41.0",
         "C",
         "25.0",
         "7-0",
         "238.0",
         "Gonzaga",
         "2165160"
        ],
        [
         "8",
         "Terry Rozier",
         "Boston Celtics",
         "12.0",
         "PG",
         "22.0",
         "6-2",
         "190.0",
         "Louisville",
         "1824360"
        ],
        [
         "9",
         "Marcus Smart",
         "Boston Celtics",
         "36.0",
         "PG",
         "22.0",
         "6-4",
         "220.0",
         "Oklahoma State",
         "3431040"
        ],
        [
         "10",
         "Jared Sullinger",
         "Boston Celtics",
         "7.0",
         "C",
         "24.0",
         "6-9",
         "260.0",
         "Ohio State",
         "2569260"
        ],
        [
         "11",
         "Isaiah Thomas",
         "Boston Celtics",
         "4.0",
         "PG",
         "27.0",
         "5-9",
         "185.0",
         "Washington",
         "6912869"
        ],
        [
         "12",
         "Evan Turner",
         "Boston Celtics",
         "11.0",
         "SG",
         "27.0",
         "6-7",
         "220.0",
         "Ohio State",
         "3425510"
        ],
        [
         "13",
         "James Young",
         "Boston Celtics",
         "13.0",
         "SG",
         "20.0",
         "6-6",
         "215.0",
         "Kentucky",
         "1749840"
        ],
        [
         "14",
         "Tyler Zeller",
         "Boston Celtics",
         "44.0",
         "C",
         "26.0",
         "7-0",
         "253.0",
         "North Carolina",
         "2616975"
        ],
        [
         "16",
         "Markel Brown",
         "Brooklyn Nets",
         "22.0",
         "SG",
         "24.0",
         "6-3",
         "190.0",
         "Oklahoma State",
         "845059"
        ],
        [
         "17",
         "Wayne Ellington",
         "Brooklyn Nets",
         "21.0",
         "SG",
         "28.0",
         "6-4",
         "200.0",
         "North Carolina",
         "1500000"
        ],
        [
         "18",
         "Rondae Hollis-Jefferson",
         "Brooklyn Nets",
         "24.0",
         "SG",
         "21.0",
         "6-7",
         "220.0",
         "Arizona",
         "1335480"
        ],
        [
         "19",
         "Jarrett Jack",
         "Brooklyn Nets",
         "2.0",
         "PG",
         "32.0",
         "6-3",
         "200.0",
         "Georgia Tech",
         "6300000"
        ],
        [
         "21",
         "Sean Kilpatrick",
         "Brooklyn Nets",
         "6.0",
         "SG",
         "26.0",
         "6-4",
         "219.0",
         "Cincinnati",
         "134215"
        ],
        [
         "22",
         "Shane Larkin",
         "Brooklyn Nets",
         "0.0",
         "PG",
         "23.0",
         "5-11",
         "175.0",
         "Miami (FL)",
         "1500000"
        ],
        [
         "23",
         "Brook Lopez",
         "Brooklyn Nets",
         "11.0",
         "C",
         "28.0",
         "7-0",
         "275.0",
         "Stanford",
         "19689000"
        ],
        [
         "24",
         "Chris McCullough",
         "Brooklyn Nets",
         "1.0",
         "PF",
         "21.0",
         "6-11",
         "200.0",
         "Syracuse",
         "1140240"
        ],
        [
         "25",
         "Willie Reed",
         "Brooklyn Nets",
         "33.0",
         "PF",
         "26.0",
         "6-10",
         "220.0",
         "Saint Louis",
         "947276"
        ],
        [
         "26",
         "Thomas Robinson",
         "Brooklyn Nets",
         "41.0",
         "PF",
         "25.0",
         "6-10",
         "237.0",
         "Kansas",
         "981348"
        ],
        [
         "27",
         "Henry Sims",
         "Brooklyn Nets",
         "14.0",
         "C",
         "26.0",
         "6-10",
         "248.0",
         "Georgetown",
         "947276"
        ],
        [
         "28",
         "Donald Sloan",
         "Brooklyn Nets",
         "15.0",
         "PG",
         "28.0",
         "6-3",
         "205.0",
         "Texas A&M",
         "947276"
        ],
        [
         "29",
         "Thaddeus Young",
         "Brooklyn Nets",
         "30.0",
         "PF",
         "27.0",
         "6-8",
         "221.0",
         "Georgia Tech",
         "11235955"
        ],
        [
         "30",
         "Arron Afflalo",
         "New York Knicks",
         "4.0",
         "SG",
         "30.0",
         "6-5",
         "210.0",
         "UCLA",
         "8000000"
        ],
        [
         "31",
         "Lou Amundson",
         "New York Knicks",
         "17.0",
         "PF",
         "33.0",
         "6-9",
         "220.0",
         "UNLV",
         "1635476"
        ],
        [
         "33",
         "Carmelo Anthony",
         "New York Knicks",
         "7.0",
         "SF",
         "32.0",
         "6-8",
         "240.0",
         "Syracuse",
         "22875000"
        ],
        [
         "35",
         "Cleanthony Early",
         "New York Knicks",
         "11.0",
         "SF",
         "25.0",
         "6-8",
         "210.0",
         "Wichita State",
         "845059"
        ],
        [
         "36",
         "Langston Galloway",
         "New York Knicks",
         "2.0",
         "SG",
         "24.0",
         "6-2",
         "200.0",
         "Saint Joseph's",
         "845059"
        ],
        [
         "37",
         "Jerian Grant",
         "New York Knicks",
         "13.0",
         "PG",
         "23.0",
         "6-4",
         "195.0",
         "Notre Dame",
         "1572360"
        ],
        [
         "38",
         "Robin Lopez",
         "New York Knicks",
         "8.0",
         "C",
         "28.0",
         "7-0",
         "255.0",
         "Stanford",
         "12650000"
        ],
        [
         "39",
         "Kyle O'Quinn",
         "New York Knicks",
         "9.0",
         "PF",
         "26.0",
         "6-10",
         "250.0",
         "Norfolk State",
         "3750000"
        ],
        [
         "42",
         "Lance Thomas",
         "New York Knicks",
         "42.0",
         "SF",
         "28.0",
         "6-8",
         "235.0",
         "Duke",
         "1636842"
        ],
        [
         "44",
         "Derrick Williams",
         "New York Knicks",
         "23.0",
         "PF",
         "25.0",
         "6-8",
         "240.0",
         "Arizona",
         "4000000"
        ],
        [
         "45",
         "Tony Wroten",
         "New York Knicks",
         "5.0",
         "SG",
         "23.0",
         "6-6",
         "205.0",
         "Washington",
         "167406"
        ],
        [
         "47",
         "Isaiah Canaan",
         "Philadelphia 76ers",
         "0.0",
         "PG",
         "25.0",
         "6-0",
         "201.0",
         "Murray State",
         "947276"
        ],
        [
         "48",
         "Robert Covington",
         "Philadelphia 76ers",
         "33.0",
         "SF",
         "25.0",
         "6-9",
         "215.0",
         "Tennessee State",
         "1000000"
        ],
        [
         "49",
         "Joel Embiid",
         "Philadelphia 76ers",
         "21.0",
         "C",
         "22.0",
         "7-0",
         "250.0",
         "Kansas",
         "4626960"
        ],
        [
         "50",
         "Jerami Grant",
         "Philadelphia 76ers",
         "39.0",
         "SF",
         "22.0",
         "6-8",
         "210.0",
         "Syracuse",
         "845059"
        ],
        [
         "51",
         "Richaun Holmes",
         "Philadelphia 76ers",
         "22.0",
         "PF",
         "22.0",
         "6-10",
         "245.0",
         "Bowling Green",
         "1074169"
        ],
        [
         "52",
         "Carl Landry",
         "Philadelphia 76ers",
         "7.0",
         "PF",
         "32.0",
         "6-9",
         "248.0",
         "Purdue",
         "6500000"
        ],
        [
         "53",
         "Kendall Marshall",
         "Philadelphia 76ers",
         "5.0",
         "PG",
         "24.0",
         "6-4",
         "200.0",
         "North Carolina",
         "2144772"
        ],
        [
         "54",
         "T.J. McConnell",
         "Philadelphia 76ers",
         "12.0",
         "PG",
         "24.0",
         "6-2",
         "200.0",
         "Arizona",
         "525093"
        ],
        [
         "55",
         "Nerlens Noel",
         "Philadelphia 76ers",
         "4.0",
         "PF",
         "22.0",
         "6-11",
         "228.0",
         "Kentucky",
         "3457800"
        ],
        [
         "56",
         "Jahlil Okafor",
         "Philadelphia 76ers",
         "8.0",
         "C",
         "20.0",
         "6-11",
         "275.0",
         "Duke",
         "4582680"
        ],
        [
         "57",
         "Ish Smith",
         "Philadelphia 76ers",
         "1.0",
         "PG",
         "27.0",
         "6-0",
         "175.0",
         "Wake Forest",
         "947276"
        ],
        [
         "58",
         "Nik Stauskas",
         "Philadelphia 76ers",
         "11.0",
         "SG",
         "22.0",
         "6-6",
         "205.0",
         "Michigan",
         "2869440"
        ],
        [
         "59",
         "Hollis Thompson",
         "Philadelphia 76ers",
         "31.0",
         "SG",
         "25.0",
         "6-8",
         "206.0",
         "Georgetown",
         "947276"
        ],
        [
         "60",
         "Christian Wood",
         "Philadelphia 76ers",
         "35.0",
         "PF",
         "20.0",
         "6-11",
         "220.0",
         "UNLV",
         "525093"
        ]
       ],
       "shape": {
        "columns": 9,
        "rows": 364
       }
      },
      "text/html": [
       "<div>\n",
       "<style scoped>\n",
       "    .dataframe tbody tr th:only-of-type {\n",
       "        vertical-align: middle;\n",
       "    }\n",
       "\n",
       "    .dataframe tbody tr th {\n",
       "        vertical-align: top;\n",
       "    }\n",
       "\n",
       "    .dataframe thead th {\n",
       "        text-align: right;\n",
       "    }\n",
       "</style>\n",
       "<table border=\"1\" class=\"dataframe\">\n",
       "  <thead>\n",
       "    <tr style=\"text-align: right;\">\n",
       "      <th></th>\n",
       "      <th>Name</th>\n",
       "      <th>Team</th>\n",
       "      <th>Number</th>\n",
       "      <th>Position</th>\n",
       "      <th>Age</th>\n",
       "      <th>Height</th>\n",
       "      <th>Weight</th>\n",
       "      <th>University</th>\n",
       "      <th>Salary</th>\n",
       "    </tr>\n",
       "  </thead>\n",
       "  <tbody>\n",
       "    <tr>\n",
       "      <th>0</th>\n",
       "      <td>Avery Bradley</td>\n",
       "      <td>Boston Celtics</td>\n",
       "      <td>0.0</td>\n",
       "      <td>PG</td>\n",
       "      <td>25.0</td>\n",
       "      <td>6-2</td>\n",
       "      <td>180.0</td>\n",
       "      <td>Texas</td>\n",
       "      <td>7730337</td>\n",
       "    </tr>\n",
       "    <tr>\n",
       "      <th>1</th>\n",
       "      <td>Jae Crowder</td>\n",
       "      <td>Boston Celtics</td>\n",
       "      <td>99.0</td>\n",
       "      <td>SF</td>\n",
       "      <td>25.0</td>\n",
       "      <td>6-6</td>\n",
       "      <td>235.0</td>\n",
       "      <td>Marquette</td>\n",
       "      <td>6796117</td>\n",
       "    </tr>\n",
       "    <tr>\n",
       "      <th>3</th>\n",
       "      <td>R.J. Hunter</td>\n",
       "      <td>Boston Celtics</td>\n",
       "      <td>28.0</td>\n",
       "      <td>SG</td>\n",
       "      <td>22.0</td>\n",
       "      <td>6-5</td>\n",
       "      <td>185.0</td>\n",
       "      <td>Georgia State</td>\n",
       "      <td>1148640</td>\n",
       "    </tr>\n",
       "    <tr>\n",
       "      <th>6</th>\n",
       "      <td>Jordan Mickey</td>\n",
       "      <td>Boston Celtics</td>\n",
       "      <td>55.0</td>\n",
       "      <td>PF</td>\n",
       "      <td>21.0</td>\n",
       "      <td>6-8</td>\n",
       "      <td>235.0</td>\n",
       "      <td>LSU</td>\n",
       "      <td>1170960</td>\n",
       "    </tr>\n",
       "    <tr>\n",
       "      <th>7</th>\n",
       "      <td>Kelly Olynyk</td>\n",
       "      <td>Boston Celtics</td>\n",
       "      <td>41.0</td>\n",
       "      <td>C</td>\n",
       "      <td>25.0</td>\n",
       "      <td>7-0</td>\n",
       "      <td>238.0</td>\n",
       "      <td>Gonzaga</td>\n",
       "      <td>2165160</td>\n",
       "    </tr>\n",
       "    <tr>\n",
       "      <th>...</th>\n",
       "      <td>...</td>\n",
       "      <td>...</td>\n",
       "      <td>...</td>\n",
       "      <td>...</td>\n",
       "      <td>...</td>\n",
       "      <td>...</td>\n",
       "      <td>...</td>\n",
       "      <td>...</td>\n",
       "      <td>...</td>\n",
       "    </tr>\n",
       "    <tr>\n",
       "      <th>449</th>\n",
       "      <td>Rodney Hood</td>\n",
       "      <td>Utah Jazz</td>\n",
       "      <td>5.0</td>\n",
       "      <td>SG</td>\n",
       "      <td>23.0</td>\n",
       "      <td>6-8</td>\n",
       "      <td>206.0</td>\n",
       "      <td>Duke</td>\n",
       "      <td>1348440</td>\n",
       "    </tr>\n",
       "    <tr>\n",
       "      <th>451</th>\n",
       "      <td>Chris Johnson</td>\n",
       "      <td>Utah Jazz</td>\n",
       "      <td>23.0</td>\n",
       "      <td>SF</td>\n",
       "      <td>26.0</td>\n",
       "      <td>6-6</td>\n",
       "      <td>206.0</td>\n",
       "      <td>Dayton</td>\n",
       "      <td>981348</td>\n",
       "    </tr>\n",
       "    <tr>\n",
       "      <th>452</th>\n",
       "      <td>Trey Lyles</td>\n",
       "      <td>Utah Jazz</td>\n",
       "      <td>41.0</td>\n",
       "      <td>PF</td>\n",
       "      <td>20.0</td>\n",
       "      <td>6-10</td>\n",
       "      <td>234.0</td>\n",
       "      <td>Kentucky</td>\n",
       "      <td>2239800</td>\n",
       "    </tr>\n",
       "    <tr>\n",
       "      <th>453</th>\n",
       "      <td>Shelvin Mack</td>\n",
       "      <td>Utah Jazz</td>\n",
       "      <td>8.0</td>\n",
       "      <td>PG</td>\n",
       "      <td>26.0</td>\n",
       "      <td>6-3</td>\n",
       "      <td>203.0</td>\n",
       "      <td>Butler</td>\n",
       "      <td>2433333</td>\n",
       "    </tr>\n",
       "    <tr>\n",
       "      <th>456</th>\n",
       "      <td>Jeff Withey</td>\n",
       "      <td>Utah Jazz</td>\n",
       "      <td>24.0</td>\n",
       "      <td>C</td>\n",
       "      <td>26.0</td>\n",
       "      <td>7-0</td>\n",
       "      <td>231.0</td>\n",
       "      <td>Kansas</td>\n",
       "      <td>947276</td>\n",
       "    </tr>\n",
       "  </tbody>\n",
       "</table>\n",
       "<p>364 rows × 9 columns</p>\n",
       "</div>"
      ],
      "text/plain": [
       "              Name            Team  Number Position   Age Height  Weight  \\\n",
       "0    Avery Bradley  Boston Celtics     0.0       PG  25.0    6-2   180.0   \n",
       "1      Jae Crowder  Boston Celtics    99.0       SF  25.0    6-6   235.0   \n",
       "3      R.J. Hunter  Boston Celtics    28.0       SG  22.0    6-5   185.0   \n",
       "6    Jordan Mickey  Boston Celtics    55.0       PF  21.0    6-8   235.0   \n",
       "7     Kelly Olynyk  Boston Celtics    41.0        C  25.0    7-0   238.0   \n",
       "..             ...             ...     ...      ...   ...    ...     ...   \n",
       "449    Rodney Hood       Utah Jazz     5.0       SG  23.0    6-8   206.0   \n",
       "451  Chris Johnson       Utah Jazz    23.0       SF  26.0    6-6   206.0   \n",
       "452     Trey Lyles       Utah Jazz    41.0       PF  20.0   6-10   234.0   \n",
       "453   Shelvin Mack       Utah Jazz     8.0       PG  26.0    6-3   203.0   \n",
       "456    Jeff Withey       Utah Jazz    24.0        C  26.0    7-0   231.0   \n",
       "\n",
       "        University   Salary  \n",
       "0            Texas  7730337  \n",
       "1        Marquette  6796117  \n",
       "3    Georgia State  1148640  \n",
       "6              LSU  1170960  \n",
       "7          Gonzaga  2165160  \n",
       "..             ...      ...  \n",
       "449           Duke  1348440  \n",
       "451         Dayton   981348  \n",
       "452       Kentucky  2239800  \n",
       "453         Butler  2433333  \n",
       "456         Kansas   947276  \n",
       "\n",
       "[364 rows x 9 columns]"
      ]
     },
     "execution_count": 69,
     "metadata": {},
     "output_type": "execute_result"
    }
   ],
   "source": [
    "df"
   ]
  },
  {
   "cell_type": "code",
   "execution_count": 70,
   "id": "db2c99b0",
   "metadata": {},
   "outputs": [
    {
     "data": {
      "application/vnd.microsoft.datawrangler.viewer.v0+json": {
       "columns": [
        {
         "name": "index",
         "rawType": "int64",
         "type": "integer"
        },
        {
         "name": "Name",
         "rawType": "object",
         "type": "string"
        },
        {
         "name": "Team",
         "rawType": "object",
         "type": "string"
        },
        {
         "name": "Number",
         "rawType": "float64",
         "type": "float"
        },
        {
         "name": "Position",
         "rawType": "object",
         "type": "string"
        },
        {
         "name": "Age",
         "rawType": "float64",
         "type": "float"
        },
        {
         "name": "Height",
         "rawType": "object",
         "type": "string"
        },
        {
         "name": "Weight",
         "rawType": "float64",
         "type": "float"
        },
        {
         "name": "University",
         "rawType": "object",
         "type": "string"
        },
        {
         "name": "Salary",
         "rawType": "int64",
         "type": "integer"
        },
        {
         "name": "Salary In Millions",
         "rawType": "float64",
         "type": "float"
        }
       ],
       "ref": "b2669aee-b144-4c11-b28f-63c5e24bb9d4",
       "rows": [
        [
         "0",
         "Avery Bradley",
         "Boston Celtics",
         "0.0",
         "PG",
         "25.0",
         "6-2",
         "180.0",
         "Texas",
         "7730337",
         "7.73"
        ],
        [
         "1",
         "Jae Crowder",
         "Boston Celtics",
         "99.0",
         "SF",
         "25.0",
         "6-6",
         "235.0",
         "Marquette",
         "6796117",
         "6.8"
        ],
        [
         "3",
         "R.J. Hunter",
         "Boston Celtics",
         "28.0",
         "SG",
         "22.0",
         "6-5",
         "185.0",
         "Georgia State",
         "1148640",
         "1.15"
        ],
        [
         "6",
         "Jordan Mickey",
         "Boston Celtics",
         "55.0",
         "PF",
         "21.0",
         "6-8",
         "235.0",
         "LSU",
         "1170960",
         "1.17"
        ],
        [
         "7",
         "Kelly Olynyk",
         "Boston Celtics",
         "41.0",
         "C",
         "25.0",
         "7-0",
         "238.0",
         "Gonzaga",
         "2165160",
         "2.17"
        ],
        [
         "8",
         "Terry Rozier",
         "Boston Celtics",
         "12.0",
         "PG",
         "22.0",
         "6-2",
         "190.0",
         "Louisville",
         "1824360",
         "1.82"
        ],
        [
         "9",
         "Marcus Smart",
         "Boston Celtics",
         "36.0",
         "PG",
         "22.0",
         "6-4",
         "220.0",
         "Oklahoma State",
         "3431040",
         "3.43"
        ],
        [
         "10",
         "Jared Sullinger",
         "Boston Celtics",
         "7.0",
         "C",
         "24.0",
         "6-9",
         "260.0",
         "Ohio State",
         "2569260",
         "2.57"
        ],
        [
         "11",
         "Isaiah Thomas",
         "Boston Celtics",
         "4.0",
         "PG",
         "27.0",
         "5-9",
         "185.0",
         "Washington",
         "6912869",
         "6.91"
        ],
        [
         "12",
         "Evan Turner",
         "Boston Celtics",
         "11.0",
         "SG",
         "27.0",
         "6-7",
         "220.0",
         "Ohio State",
         "3425510",
         "3.43"
        ],
        [
         "13",
         "James Young",
         "Boston Celtics",
         "13.0",
         "SG",
         "20.0",
         "6-6",
         "215.0",
         "Kentucky",
         "1749840",
         "1.75"
        ],
        [
         "14",
         "Tyler Zeller",
         "Boston Celtics",
         "44.0",
         "C",
         "26.0",
         "7-0",
         "253.0",
         "North Carolina",
         "2616975",
         "2.62"
        ],
        [
         "16",
         "Markel Brown",
         "Brooklyn Nets",
         "22.0",
         "SG",
         "24.0",
         "6-3",
         "190.0",
         "Oklahoma State",
         "845059",
         "0.85"
        ],
        [
         "17",
         "Wayne Ellington",
         "Brooklyn Nets",
         "21.0",
         "SG",
         "28.0",
         "6-4",
         "200.0",
         "North Carolina",
         "1500000",
         "1.5"
        ],
        [
         "18",
         "Rondae Hollis-Jefferson",
         "Brooklyn Nets",
         "24.0",
         "SG",
         "21.0",
         "6-7",
         "220.0",
         "Arizona",
         "1335480",
         "1.34"
        ],
        [
         "19",
         "Jarrett Jack",
         "Brooklyn Nets",
         "2.0",
         "PG",
         "32.0",
         "6-3",
         "200.0",
         "Georgia Tech",
         "6300000",
         "6.3"
        ],
        [
         "21",
         "Sean Kilpatrick",
         "Brooklyn Nets",
         "6.0",
         "SG",
         "26.0",
         "6-4",
         "219.0",
         "Cincinnati",
         "134215",
         "0.13"
        ],
        [
         "22",
         "Shane Larkin",
         "Brooklyn Nets",
         "0.0",
         "PG",
         "23.0",
         "5-11",
         "175.0",
         "Miami (FL)",
         "1500000",
         "1.5"
        ],
        [
         "23",
         "Brook Lopez",
         "Brooklyn Nets",
         "11.0",
         "C",
         "28.0",
         "7-0",
         "275.0",
         "Stanford",
         "19689000",
         "19.69"
        ],
        [
         "24",
         "Chris McCullough",
         "Brooklyn Nets",
         "1.0",
         "PF",
         "21.0",
         "6-11",
         "200.0",
         "Syracuse",
         "1140240",
         "1.14"
        ],
        [
         "25",
         "Willie Reed",
         "Brooklyn Nets",
         "33.0",
         "PF",
         "26.0",
         "6-10",
         "220.0",
         "Saint Louis",
         "947276",
         "0.95"
        ],
        [
         "26",
         "Thomas Robinson",
         "Brooklyn Nets",
         "41.0",
         "PF",
         "25.0",
         "6-10",
         "237.0",
         "Kansas",
         "981348",
         "0.98"
        ],
        [
         "27",
         "Henry Sims",
         "Brooklyn Nets",
         "14.0",
         "C",
         "26.0",
         "6-10",
         "248.0",
         "Georgetown",
         "947276",
         "0.95"
        ],
        [
         "28",
         "Donald Sloan",
         "Brooklyn Nets",
         "15.0",
         "PG",
         "28.0",
         "6-3",
         "205.0",
         "Texas A&M",
         "947276",
         "0.95"
        ],
        [
         "29",
         "Thaddeus Young",
         "Brooklyn Nets",
         "30.0",
         "PF",
         "27.0",
         "6-8",
         "221.0",
         "Georgia Tech",
         "11235955",
         "11.24"
        ],
        [
         "30",
         "Arron Afflalo",
         "New York Knicks",
         "4.0",
         "SG",
         "30.0",
         "6-5",
         "210.0",
         "UCLA",
         "8000000",
         "8.0"
        ],
        [
         "31",
         "Lou Amundson",
         "New York Knicks",
         "17.0",
         "PF",
         "33.0",
         "6-9",
         "220.0",
         "UNLV",
         "1635476",
         "1.64"
        ],
        [
         "33",
         "Carmelo Anthony",
         "New York Knicks",
         "7.0",
         "SF",
         "32.0",
         "6-8",
         "240.0",
         "Syracuse",
         "22875000",
         "22.88"
        ],
        [
         "35",
         "Cleanthony Early",
         "New York Knicks",
         "11.0",
         "SF",
         "25.0",
         "6-8",
         "210.0",
         "Wichita State",
         "845059",
         "0.85"
        ],
        [
         "36",
         "Langston Galloway",
         "New York Knicks",
         "2.0",
         "SG",
         "24.0",
         "6-2",
         "200.0",
         "Saint Joseph's",
         "845059",
         "0.85"
        ],
        [
         "37",
         "Jerian Grant",
         "New York Knicks",
         "13.0",
         "PG",
         "23.0",
         "6-4",
         "195.0",
         "Notre Dame",
         "1572360",
         "1.57"
        ],
        [
         "38",
         "Robin Lopez",
         "New York Knicks",
         "8.0",
         "C",
         "28.0",
         "7-0",
         "255.0",
         "Stanford",
         "12650000",
         "12.65"
        ],
        [
         "39",
         "Kyle O'Quinn",
         "New York Knicks",
         "9.0",
         "PF",
         "26.0",
         "6-10",
         "250.0",
         "Norfolk State",
         "3750000",
         "3.75"
        ],
        [
         "42",
         "Lance Thomas",
         "New York Knicks",
         "42.0",
         "SF",
         "28.0",
         "6-8",
         "235.0",
         "Duke",
         "1636842",
         "1.64"
        ],
        [
         "44",
         "Derrick Williams",
         "New York Knicks",
         "23.0",
         "PF",
         "25.0",
         "6-8",
         "240.0",
         "Arizona",
         "4000000",
         "4.0"
        ],
        [
         "45",
         "Tony Wroten",
         "New York Knicks",
         "5.0",
         "SG",
         "23.0",
         "6-6",
         "205.0",
         "Washington",
         "167406",
         "0.17"
        ],
        [
         "47",
         "Isaiah Canaan",
         "Philadelphia 76ers",
         "0.0",
         "PG",
         "25.0",
         "6-0",
         "201.0",
         "Murray State",
         "947276",
         "0.95"
        ],
        [
         "48",
         "Robert Covington",
         "Philadelphia 76ers",
         "33.0",
         "SF",
         "25.0",
         "6-9",
         "215.0",
         "Tennessee State",
         "1000000",
         "1.0"
        ],
        [
         "49",
         "Joel Embiid",
         "Philadelphia 76ers",
         "21.0",
         "C",
         "22.0",
         "7-0",
         "250.0",
         "Kansas",
         "4626960",
         "4.63"
        ],
        [
         "50",
         "Jerami Grant",
         "Philadelphia 76ers",
         "39.0",
         "SF",
         "22.0",
         "6-8",
         "210.0",
         "Syracuse",
         "845059",
         "0.85"
        ],
        [
         "51",
         "Richaun Holmes",
         "Philadelphia 76ers",
         "22.0",
         "PF",
         "22.0",
         "6-10",
         "245.0",
         "Bowling Green",
         "1074169",
         "1.07"
        ],
        [
         "52",
         "Carl Landry",
         "Philadelphia 76ers",
         "7.0",
         "PF",
         "32.0",
         "6-9",
         "248.0",
         "Purdue",
         "6500000",
         "6.5"
        ],
        [
         "53",
         "Kendall Marshall",
         "Philadelphia 76ers",
         "5.0",
         "PG",
         "24.0",
         "6-4",
         "200.0",
         "North Carolina",
         "2144772",
         "2.14"
        ],
        [
         "54",
         "T.J. McConnell",
         "Philadelphia 76ers",
         "12.0",
         "PG",
         "24.0",
         "6-2",
         "200.0",
         "Arizona",
         "525093",
         "0.53"
        ],
        [
         "55",
         "Nerlens Noel",
         "Philadelphia 76ers",
         "4.0",
         "PF",
         "22.0",
         "6-11",
         "228.0",
         "Kentucky",
         "3457800",
         "3.46"
        ],
        [
         "56",
         "Jahlil Okafor",
         "Philadelphia 76ers",
         "8.0",
         "C",
         "20.0",
         "6-11",
         "275.0",
         "Duke",
         "4582680",
         "4.58"
        ],
        [
         "57",
         "Ish Smith",
         "Philadelphia 76ers",
         "1.0",
         "PG",
         "27.0",
         "6-0",
         "175.0",
         "Wake Forest",
         "947276",
         "0.95"
        ],
        [
         "58",
         "Nik Stauskas",
         "Philadelphia 76ers",
         "11.0",
         "SG",
         "22.0",
         "6-6",
         "205.0",
         "Michigan",
         "2869440",
         "2.87"
        ],
        [
         "59",
         "Hollis Thompson",
         "Philadelphia 76ers",
         "31.0",
         "SG",
         "25.0",
         "6-8",
         "206.0",
         "Georgetown",
         "947276",
         "0.95"
        ],
        [
         "60",
         "Christian Wood",
         "Philadelphia 76ers",
         "35.0",
         "PF",
         "20.0",
         "6-11",
         "220.0",
         "UNLV",
         "525093",
         "0.53"
        ]
       ],
       "shape": {
        "columns": 10,
        "rows": 364
       }
      },
      "text/html": [
       "<div>\n",
       "<style scoped>\n",
       "    .dataframe tbody tr th:only-of-type {\n",
       "        vertical-align: middle;\n",
       "    }\n",
       "\n",
       "    .dataframe tbody tr th {\n",
       "        vertical-align: top;\n",
       "    }\n",
       "\n",
       "    .dataframe thead th {\n",
       "        text-align: right;\n",
       "    }\n",
       "</style>\n",
       "<table border=\"1\" class=\"dataframe\">\n",
       "  <thead>\n",
       "    <tr style=\"text-align: right;\">\n",
       "      <th></th>\n",
       "      <th>Name</th>\n",
       "      <th>Team</th>\n",
       "      <th>Number</th>\n",
       "      <th>Position</th>\n",
       "      <th>Age</th>\n",
       "      <th>Height</th>\n",
       "      <th>Weight</th>\n",
       "      <th>University</th>\n",
       "      <th>Salary</th>\n",
       "      <th>Salary In Millions</th>\n",
       "    </tr>\n",
       "  </thead>\n",
       "  <tbody>\n",
       "    <tr>\n",
       "      <th>0</th>\n",
       "      <td>Avery Bradley</td>\n",
       "      <td>Boston Celtics</td>\n",
       "      <td>0.0</td>\n",
       "      <td>PG</td>\n",
       "      <td>25.0</td>\n",
       "      <td>6-2</td>\n",
       "      <td>180.0</td>\n",
       "      <td>Texas</td>\n",
       "      <td>7730337</td>\n",
       "      <td>7.73</td>\n",
       "    </tr>\n",
       "    <tr>\n",
       "      <th>1</th>\n",
       "      <td>Jae Crowder</td>\n",
       "      <td>Boston Celtics</td>\n",
       "      <td>99.0</td>\n",
       "      <td>SF</td>\n",
       "      <td>25.0</td>\n",
       "      <td>6-6</td>\n",
       "      <td>235.0</td>\n",
       "      <td>Marquette</td>\n",
       "      <td>6796117</td>\n",
       "      <td>6.80</td>\n",
       "    </tr>\n",
       "    <tr>\n",
       "      <th>3</th>\n",
       "      <td>R.J. Hunter</td>\n",
       "      <td>Boston Celtics</td>\n",
       "      <td>28.0</td>\n",
       "      <td>SG</td>\n",
       "      <td>22.0</td>\n",
       "      <td>6-5</td>\n",
       "      <td>185.0</td>\n",
       "      <td>Georgia State</td>\n",
       "      <td>1148640</td>\n",
       "      <td>1.15</td>\n",
       "    </tr>\n",
       "    <tr>\n",
       "      <th>6</th>\n",
       "      <td>Jordan Mickey</td>\n",
       "      <td>Boston Celtics</td>\n",
       "      <td>55.0</td>\n",
       "      <td>PF</td>\n",
       "      <td>21.0</td>\n",
       "      <td>6-8</td>\n",
       "      <td>235.0</td>\n",
       "      <td>LSU</td>\n",
       "      <td>1170960</td>\n",
       "      <td>1.17</td>\n",
       "    </tr>\n",
       "    <tr>\n",
       "      <th>7</th>\n",
       "      <td>Kelly Olynyk</td>\n",
       "      <td>Boston Celtics</td>\n",
       "      <td>41.0</td>\n",
       "      <td>C</td>\n",
       "      <td>25.0</td>\n",
       "      <td>7-0</td>\n",
       "      <td>238.0</td>\n",
       "      <td>Gonzaga</td>\n",
       "      <td>2165160</td>\n",
       "      <td>2.17</td>\n",
       "    </tr>\n",
       "    <tr>\n",
       "      <th>...</th>\n",
       "      <td>...</td>\n",
       "      <td>...</td>\n",
       "      <td>...</td>\n",
       "      <td>...</td>\n",
       "      <td>...</td>\n",
       "      <td>...</td>\n",
       "      <td>...</td>\n",
       "      <td>...</td>\n",
       "      <td>...</td>\n",
       "      <td>...</td>\n",
       "    </tr>\n",
       "    <tr>\n",
       "      <th>449</th>\n",
       "      <td>Rodney Hood</td>\n",
       "      <td>Utah Jazz</td>\n",
       "      <td>5.0</td>\n",
       "      <td>SG</td>\n",
       "      <td>23.0</td>\n",
       "      <td>6-8</td>\n",
       "      <td>206.0</td>\n",
       "      <td>Duke</td>\n",
       "      <td>1348440</td>\n",
       "      <td>1.35</td>\n",
       "    </tr>\n",
       "    <tr>\n",
       "      <th>451</th>\n",
       "      <td>Chris Johnson</td>\n",
       "      <td>Utah Jazz</td>\n",
       "      <td>23.0</td>\n",
       "      <td>SF</td>\n",
       "      <td>26.0</td>\n",
       "      <td>6-6</td>\n",
       "      <td>206.0</td>\n",
       "      <td>Dayton</td>\n",
       "      <td>981348</td>\n",
       "      <td>0.98</td>\n",
       "    </tr>\n",
       "    <tr>\n",
       "      <th>452</th>\n",
       "      <td>Trey Lyles</td>\n",
       "      <td>Utah Jazz</td>\n",
       "      <td>41.0</td>\n",
       "      <td>PF</td>\n",
       "      <td>20.0</td>\n",
       "      <td>6-10</td>\n",
       "      <td>234.0</td>\n",
       "      <td>Kentucky</td>\n",
       "      <td>2239800</td>\n",
       "      <td>2.24</td>\n",
       "    </tr>\n",
       "    <tr>\n",
       "      <th>453</th>\n",
       "      <td>Shelvin Mack</td>\n",
       "      <td>Utah Jazz</td>\n",
       "      <td>8.0</td>\n",
       "      <td>PG</td>\n",
       "      <td>26.0</td>\n",
       "      <td>6-3</td>\n",
       "      <td>203.0</td>\n",
       "      <td>Butler</td>\n",
       "      <td>2433333</td>\n",
       "      <td>2.43</td>\n",
       "    </tr>\n",
       "    <tr>\n",
       "      <th>456</th>\n",
       "      <td>Jeff Withey</td>\n",
       "      <td>Utah Jazz</td>\n",
       "      <td>24.0</td>\n",
       "      <td>C</td>\n",
       "      <td>26.0</td>\n",
       "      <td>7-0</td>\n",
       "      <td>231.0</td>\n",
       "      <td>Kansas</td>\n",
       "      <td>947276</td>\n",
       "      <td>0.95</td>\n",
       "    </tr>\n",
       "  </tbody>\n",
       "</table>\n",
       "<p>364 rows × 10 columns</p>\n",
       "</div>"
      ],
      "text/plain": [
       "              Name            Team  Number Position   Age Height  Weight  \\\n",
       "0    Avery Bradley  Boston Celtics     0.0       PG  25.0    6-2   180.0   \n",
       "1      Jae Crowder  Boston Celtics    99.0       SF  25.0    6-6   235.0   \n",
       "3      R.J. Hunter  Boston Celtics    28.0       SG  22.0    6-5   185.0   \n",
       "6    Jordan Mickey  Boston Celtics    55.0       PF  21.0    6-8   235.0   \n",
       "7     Kelly Olynyk  Boston Celtics    41.0        C  25.0    7-0   238.0   \n",
       "..             ...             ...     ...      ...   ...    ...     ...   \n",
       "449    Rodney Hood       Utah Jazz     5.0       SG  23.0    6-8   206.0   \n",
       "451  Chris Johnson       Utah Jazz    23.0       SF  26.0    6-6   206.0   \n",
       "452     Trey Lyles       Utah Jazz    41.0       PF  20.0   6-10   234.0   \n",
       "453   Shelvin Mack       Utah Jazz     8.0       PG  26.0    6-3   203.0   \n",
       "456    Jeff Withey       Utah Jazz    24.0        C  26.0    7-0   231.0   \n",
       "\n",
       "        University   Salary  Salary In Millions  \n",
       "0            Texas  7730337                7.73  \n",
       "1        Marquette  6796117                6.80  \n",
       "3    Georgia State  1148640                1.15  \n",
       "6              LSU  1170960                1.17  \n",
       "7          Gonzaga  2165160                2.17  \n",
       "..             ...      ...                 ...  \n",
       "449           Duke  1348440                1.35  \n",
       "451         Dayton   981348                0.98  \n",
       "452       Kentucky  2239800                2.24  \n",
       "453         Butler  2433333                2.43  \n",
       "456         Kansas   947276                0.95  \n",
       "\n",
       "[364 rows x 10 columns]"
      ]
     },
     "execution_count": 70,
     "metadata": {},
     "output_type": "execute_result"
    }
   ],
   "source": [
    "df['Salary In Millions'] =  df['Salary'].apply(lambda x: x/1000000).astype(float).round(2)\n",
    "df"
   ]
  },
  {
   "cell_type": "code",
   "execution_count": 71,
   "id": "5f826bb6",
   "metadata": {},
   "outputs": [
    {
     "data": {
      "text/plain": [
       "Index(['Name', 'Team', 'Number', 'Position', 'Age', 'Height', 'Weight',\n",
       "       'University', 'Salary', 'Salary In Millions'],\n",
       "      dtype='object')"
      ]
     },
     "execution_count": 71,
     "metadata": {},
     "output_type": "execute_result"
    }
   ],
   "source": [
    "df.columns"
   ]
  },
  {
   "cell_type": "code",
   "execution_count": 72,
   "id": "4109901b",
   "metadata": {},
   "outputs": [
    {
     "data": {
      "application/vnd.microsoft.datawrangler.viewer.v0+json": {
       "columns": [
        {
         "name": "Position",
         "rawType": "object",
         "type": "string"
        },
        {
         "name": "count",
         "rawType": "int64",
         "type": "integer"
        }
       ],
       "ref": "7270a760-f14d-4b5c-98ab-dcc7fd20c67e",
       "rows": [
        [
         "SG",
         "87"
        ],
        [
         "PF",
         "81"
        ],
        [
         "PG",
         "76"
        ],
        [
         "SF",
         "71"
        ],
        [
         "C",
         "49"
        ]
       ],
       "shape": {
        "columns": 1,
        "rows": 5
       }
      },
      "text/plain": [
       "Position\n",
       "SG    87\n",
       "PF    81\n",
       "PG    76\n",
       "SF    71\n",
       "C     49\n",
       "Name: count, dtype: int64"
      ]
     },
     "execution_count": 72,
     "metadata": {},
     "output_type": "execute_result"
    }
   ],
   "source": [
    "df['Position'].value_counts()\n"
   ]
  },
  {
   "cell_type": "code",
   "execution_count": 73,
   "id": "f196af92",
   "metadata": {},
   "outputs": [
    {
     "data": {
      "application/vnd.microsoft.datawrangler.viewer.v0+json": {
       "columns": [
        {
         "name": "Position",
         "rawType": "object",
         "type": "string"
        },
        {
         "name": "Salary",
         "rawType": "float64",
         "type": "float"
        }
       ],
       "ref": "f1f986aa-0313-4212-bfbd-3cb1df2a2559",
       "rows": [
        [
         "C",
         "5763866.84"
        ],
        [
         "PG",
         "4916069.18"
        ],
        [
         "SF",
         "4595907.62"
        ],
        [
         "PF",
         "4459987.91"
        ],
        [
         "SG",
         "3887057.87"
        ]
       ],
       "shape": {
        "columns": 1,
        "rows": 5
       }
      },
      "text/plain": [
       "Position\n",
       "C     5763866.84\n",
       "PG    4916069.18\n",
       "SF    4595907.62\n",
       "PF    4459987.91\n",
       "SG    3887057.87\n",
       "Name: Salary, dtype: float64"
      ]
     },
     "execution_count": 73,
     "metadata": {},
     "output_type": "execute_result"
    }
   ],
   "source": [
    "df.groupby('Position')['Salary'].mean().round(2).sort_values(ascending=False)"
   ]
  },
  {
   "cell_type": "code",
   "execution_count": 74,
   "id": "5cea7e7b",
   "metadata": {},
   "outputs": [
    {
     "data": {
      "application/vnd.microsoft.datawrangler.viewer.v0+json": {
       "columns": [
        {
         "name": "index",
         "rawType": "int64",
         "type": "integer"
        },
        {
         "name": "Name",
         "rawType": "object",
         "type": "string"
        },
        {
         "name": "Team",
         "rawType": "object",
         "type": "string"
        },
        {
         "name": "Number",
         "rawType": "float64",
         "type": "float"
        },
        {
         "name": "Position",
         "rawType": "object",
         "type": "string"
        },
        {
         "name": "Age",
         "rawType": "float64",
         "type": "float"
        },
        {
         "name": "Height",
         "rawType": "object",
         "type": "string"
        },
        {
         "name": "Weight",
         "rawType": "float64",
         "type": "float"
        },
        {
         "name": "University",
         "rawType": "object",
         "type": "string"
        },
        {
         "name": "Salary",
         "rawType": "int64",
         "type": "integer"
        },
        {
         "name": "Salary In Millions",
         "rawType": "float64",
         "type": "float"
        }
       ],
       "ref": "c030fd69-0315-4105-a015-529f3f9ae900",
       "rows": [
        [
         "23",
         "Brook Lopez",
         "Brooklyn Nets",
         "11.0",
         "C",
         "28.0",
         "7-0",
         "275.0",
         "Stanford",
         "19689000",
         "19.69"
        ],
        [
         "339",
         "Chris Bosh",
         "Miami Heat",
         "1.0",
         "PF",
         "32.0",
         "6-11",
         "235.0",
         "Georgia Tech",
         "22192730",
         "22.19"
        ],
        [
         "100",
         "Chris Paul",
         "Los Angeles Clippers",
         "3.0",
         "PG",
         "31.0",
         "6-0",
         "175.0",
         "Wake Forest",
         "21468695",
         "21.47"
        ],
        [
         "33",
         "Carmelo Anthony",
         "New York Knicks",
         "7.0",
         "SF",
         "32.0",
         "6-8",
         "240.0",
         "Syracuse",
         "22875000",
         "22.88"
        ],
        [
         "349",
         "Dwyane Wade",
         "Miami Heat",
         "3.0",
         "SG",
         "34.0",
         "6-4",
         "220.0",
         "Marquette",
         "20000000",
         "20.0"
        ]
       ],
       "shape": {
        "columns": 10,
        "rows": 5
       }
      },
      "text/html": [
       "<div>\n",
       "<style scoped>\n",
       "    .dataframe tbody tr th:only-of-type {\n",
       "        vertical-align: middle;\n",
       "    }\n",
       "\n",
       "    .dataframe tbody tr th {\n",
       "        vertical-align: top;\n",
       "    }\n",
       "\n",
       "    .dataframe thead th {\n",
       "        text-align: right;\n",
       "    }\n",
       "</style>\n",
       "<table border=\"1\" class=\"dataframe\">\n",
       "  <thead>\n",
       "    <tr style=\"text-align: right;\">\n",
       "      <th></th>\n",
       "      <th>Name</th>\n",
       "      <th>Team</th>\n",
       "      <th>Number</th>\n",
       "      <th>Position</th>\n",
       "      <th>Age</th>\n",
       "      <th>Height</th>\n",
       "      <th>Weight</th>\n",
       "      <th>University</th>\n",
       "      <th>Salary</th>\n",
       "      <th>Salary In Millions</th>\n",
       "    </tr>\n",
       "  </thead>\n",
       "  <tbody>\n",
       "    <tr>\n",
       "      <th>23</th>\n",
       "      <td>Brook Lopez</td>\n",
       "      <td>Brooklyn Nets</td>\n",
       "      <td>11.0</td>\n",
       "      <td>C</td>\n",
       "      <td>28.0</td>\n",
       "      <td>7-0</td>\n",
       "      <td>275.0</td>\n",
       "      <td>Stanford</td>\n",
       "      <td>19689000</td>\n",
       "      <td>19.69</td>\n",
       "    </tr>\n",
       "    <tr>\n",
       "      <th>339</th>\n",
       "      <td>Chris Bosh</td>\n",
       "      <td>Miami Heat</td>\n",
       "      <td>1.0</td>\n",
       "      <td>PF</td>\n",
       "      <td>32.0</td>\n",
       "      <td>6-11</td>\n",
       "      <td>235.0</td>\n",
       "      <td>Georgia Tech</td>\n",
       "      <td>22192730</td>\n",
       "      <td>22.19</td>\n",
       "    </tr>\n",
       "    <tr>\n",
       "      <th>100</th>\n",
       "      <td>Chris Paul</td>\n",
       "      <td>Los Angeles Clippers</td>\n",
       "      <td>3.0</td>\n",
       "      <td>PG</td>\n",
       "      <td>31.0</td>\n",
       "      <td>6-0</td>\n",
       "      <td>175.0</td>\n",
       "      <td>Wake Forest</td>\n",
       "      <td>21468695</td>\n",
       "      <td>21.47</td>\n",
       "    </tr>\n",
       "    <tr>\n",
       "      <th>33</th>\n",
       "      <td>Carmelo Anthony</td>\n",
       "      <td>New York Knicks</td>\n",
       "      <td>7.0</td>\n",
       "      <td>SF</td>\n",
       "      <td>32.0</td>\n",
       "      <td>6-8</td>\n",
       "      <td>240.0</td>\n",
       "      <td>Syracuse</td>\n",
       "      <td>22875000</td>\n",
       "      <td>22.88</td>\n",
       "    </tr>\n",
       "    <tr>\n",
       "      <th>349</th>\n",
       "      <td>Dwyane Wade</td>\n",
       "      <td>Miami Heat</td>\n",
       "      <td>3.0</td>\n",
       "      <td>SG</td>\n",
       "      <td>34.0</td>\n",
       "      <td>6-4</td>\n",
       "      <td>220.0</td>\n",
       "      <td>Marquette</td>\n",
       "      <td>20000000</td>\n",
       "      <td>20.00</td>\n",
       "    </tr>\n",
       "  </tbody>\n",
       "</table>\n",
       "</div>"
      ],
      "text/plain": [
       "                Name                  Team  Number Position   Age Height  \\\n",
       "23       Brook Lopez         Brooklyn Nets    11.0        C  28.0    7-0   \n",
       "339       Chris Bosh            Miami Heat     1.0       PF  32.0   6-11   \n",
       "100       Chris Paul  Los Angeles Clippers     3.0       PG  31.0    6-0   \n",
       "33   Carmelo Anthony       New York Knicks     7.0       SF  32.0    6-8   \n",
       "349      Dwyane Wade            Miami Heat     3.0       SG  34.0    6-4   \n",
       "\n",
       "     Weight    University    Salary  Salary In Millions  \n",
       "23    275.0      Stanford  19689000               19.69  \n",
       "339   235.0  Georgia Tech  22192730               22.19  \n",
       "100   175.0   Wake Forest  21468695               21.47  \n",
       "33    240.0      Syracuse  22875000               22.88  \n",
       "349   220.0     Marquette  20000000               20.00  "
      ]
     },
     "execution_count": 74,
     "metadata": {},
     "output_type": "execute_result"
    }
   ],
   "source": [
    "df.loc[df.groupby('Position')['Salary'].idxmax()]"
   ]
  },
  {
   "cell_type": "code",
   "execution_count": 75,
   "id": "7184b08c",
   "metadata": {},
   "outputs": [
    {
     "data": {
      "application/vnd.microsoft.datawrangler.viewer.v0+json": {
       "columns": [
        {
         "name": "index",
         "rawType": "int64",
         "type": "integer"
        },
        {
         "name": "Name",
         "rawType": "object",
         "type": "string"
        },
        {
         "name": "Team",
         "rawType": "object",
         "type": "string"
        },
        {
         "name": "Number",
         "rawType": "float64",
         "type": "float"
        },
        {
         "name": "Position",
         "rawType": "object",
         "type": "string"
        },
        {
         "name": "Age",
         "rawType": "float64",
         "type": "float"
        },
        {
         "name": "Height",
         "rawType": "object",
         "type": "string"
        },
        {
         "name": "Weight",
         "rawType": "float64",
         "type": "float"
        },
        {
         "name": "University",
         "rawType": "object",
         "type": "string"
        },
        {
         "name": "Salary",
         "rawType": "int64",
         "type": "integer"
        },
        {
         "name": "Salary In Millions",
         "rawType": "float64",
         "type": "float"
        },
        {
         "name": "Role Type",
         "rawType": "object",
         "type": "string"
        }
       ],
       "ref": "e4e4f48a-f9ff-4e24-b910-58dfb8a7d92c",
       "rows": [
        [
         "0",
         "Avery Bradley",
         "Boston Celtics",
         "0.0",
         "PG",
         "25.0",
         "6-2",
         "180.0",
         "Texas",
         "7730337",
         "7.73",
         "BackCourt"
        ],
        [
         "1",
         "Jae Crowder",
         "Boston Celtics",
         "99.0",
         "SF",
         "25.0",
         "6-6",
         "235.0",
         "Marquette",
         "6796117",
         "6.8",
         "BackCourt"
        ],
        [
         "3",
         "R.J. Hunter",
         "Boston Celtics",
         "28.0",
         "SG",
         "22.0",
         "6-5",
         "185.0",
         "Georgia State",
         "1148640",
         "1.15",
         "BackCourt"
        ],
        [
         "6",
         "Jordan Mickey",
         "Boston Celtics",
         "55.0",
         "PF",
         "21.0",
         "6-8",
         "235.0",
         "LSU",
         "1170960",
         "1.17",
         "BackCourt"
        ],
        [
         "7",
         "Kelly Olynyk",
         "Boston Celtics",
         "41.0",
         "C",
         "25.0",
         "7-0",
         "238.0",
         "Gonzaga",
         "2165160",
         "2.17",
         "BackCourt"
        ]
       ],
       "shape": {
        "columns": 11,
        "rows": 5
       }
      },
      "text/html": [
       "<div>\n",
       "<style scoped>\n",
       "    .dataframe tbody tr th:only-of-type {\n",
       "        vertical-align: middle;\n",
       "    }\n",
       "\n",
       "    .dataframe tbody tr th {\n",
       "        vertical-align: top;\n",
       "    }\n",
       "\n",
       "    .dataframe thead th {\n",
       "        text-align: right;\n",
       "    }\n",
       "</style>\n",
       "<table border=\"1\" class=\"dataframe\">\n",
       "  <thead>\n",
       "    <tr style=\"text-align: right;\">\n",
       "      <th></th>\n",
       "      <th>Name</th>\n",
       "      <th>Team</th>\n",
       "      <th>Number</th>\n",
       "      <th>Position</th>\n",
       "      <th>Age</th>\n",
       "      <th>Height</th>\n",
       "      <th>Weight</th>\n",
       "      <th>University</th>\n",
       "      <th>Salary</th>\n",
       "      <th>Salary In Millions</th>\n",
       "      <th>Role Type</th>\n",
       "    </tr>\n",
       "  </thead>\n",
       "  <tbody>\n",
       "    <tr>\n",
       "      <th>0</th>\n",
       "      <td>Avery Bradley</td>\n",
       "      <td>Boston Celtics</td>\n",
       "      <td>0.0</td>\n",
       "      <td>PG</td>\n",
       "      <td>25.0</td>\n",
       "      <td>6-2</td>\n",
       "      <td>180.0</td>\n",
       "      <td>Texas</td>\n",
       "      <td>7730337</td>\n",
       "      <td>7.73</td>\n",
       "      <td>BackCourt</td>\n",
       "    </tr>\n",
       "    <tr>\n",
       "      <th>1</th>\n",
       "      <td>Jae Crowder</td>\n",
       "      <td>Boston Celtics</td>\n",
       "      <td>99.0</td>\n",
       "      <td>SF</td>\n",
       "      <td>25.0</td>\n",
       "      <td>6-6</td>\n",
       "      <td>235.0</td>\n",
       "      <td>Marquette</td>\n",
       "      <td>6796117</td>\n",
       "      <td>6.80</td>\n",
       "      <td>BackCourt</td>\n",
       "    </tr>\n",
       "    <tr>\n",
       "      <th>3</th>\n",
       "      <td>R.J. Hunter</td>\n",
       "      <td>Boston Celtics</td>\n",
       "      <td>28.0</td>\n",
       "      <td>SG</td>\n",
       "      <td>22.0</td>\n",
       "      <td>6-5</td>\n",
       "      <td>185.0</td>\n",
       "      <td>Georgia State</td>\n",
       "      <td>1148640</td>\n",
       "      <td>1.15</td>\n",
       "      <td>BackCourt</td>\n",
       "    </tr>\n",
       "    <tr>\n",
       "      <th>6</th>\n",
       "      <td>Jordan Mickey</td>\n",
       "      <td>Boston Celtics</td>\n",
       "      <td>55.0</td>\n",
       "      <td>PF</td>\n",
       "      <td>21.0</td>\n",
       "      <td>6-8</td>\n",
       "      <td>235.0</td>\n",
       "      <td>LSU</td>\n",
       "      <td>1170960</td>\n",
       "      <td>1.17</td>\n",
       "      <td>BackCourt</td>\n",
       "    </tr>\n",
       "    <tr>\n",
       "      <th>7</th>\n",
       "      <td>Kelly Olynyk</td>\n",
       "      <td>Boston Celtics</td>\n",
       "      <td>41.0</td>\n",
       "      <td>C</td>\n",
       "      <td>25.0</td>\n",
       "      <td>7-0</td>\n",
       "      <td>238.0</td>\n",
       "      <td>Gonzaga</td>\n",
       "      <td>2165160</td>\n",
       "      <td>2.17</td>\n",
       "      <td>BackCourt</td>\n",
       "    </tr>\n",
       "  </tbody>\n",
       "</table>\n",
       "</div>"
      ],
      "text/plain": [
       "            Name            Team  Number Position   Age Height  Weight  \\\n",
       "0  Avery Bradley  Boston Celtics     0.0       PG  25.0    6-2   180.0   \n",
       "1    Jae Crowder  Boston Celtics    99.0       SF  25.0    6-6   235.0   \n",
       "3    R.J. Hunter  Boston Celtics    28.0       SG  22.0    6-5   185.0   \n",
       "6  Jordan Mickey  Boston Celtics    55.0       PF  21.0    6-8   235.0   \n",
       "7   Kelly Olynyk  Boston Celtics    41.0        C  25.0    7-0   238.0   \n",
       "\n",
       "      University   Salary  Salary In Millions  Role Type  \n",
       "0          Texas  7730337                7.73  BackCourt  \n",
       "1      Marquette  6796117                6.80  BackCourt  \n",
       "3  Georgia State  1148640                1.15  BackCourt  \n",
       "6            LSU  1170960                1.17  BackCourt  \n",
       "7        Gonzaga  2165160                2.17  BackCourt  "
      ]
     },
     "execution_count": 75,
     "metadata": {},
     "output_type": "execute_result"
    }
   ],
   "source": [
    "def get_role(pos):\n",
    "    if pos in ['PG', 'SG']:\n",
    "        return 'BackCourt'\n",
    "    elif pos in ['SF', 'PF', 'C']:\n",
    "        return 'BackCourt'\n",
    "    else:\n",
    "        return \"Unknowm\"\n",
    "    \n",
    "df['Role Type'] =  df['Position'].apply(get_role)\n",
    "df.head()"
   ]
  },
  {
   "cell_type": "code",
   "execution_count": 76,
   "id": "e71bda5e",
   "metadata": {},
   "outputs": [
    {
     "data": {
      "application/vnd.microsoft.datawrangler.viewer.v0+json": {
       "columns": [
        {
         "name": "index",
         "rawType": "int64",
         "type": "integer"
        },
        {
         "name": "Name",
         "rawType": "object",
         "type": "string"
        },
        {
         "name": "Team",
         "rawType": "object",
         "type": "string"
        },
        {
         "name": "Number",
         "rawType": "float64",
         "type": "float"
        },
        {
         "name": "Position",
         "rawType": "object",
         "type": "string"
        },
        {
         "name": "Age",
         "rawType": "float64",
         "type": "float"
        },
        {
         "name": "Height",
         "rawType": "object",
         "type": "string"
        },
        {
         "name": "Weight",
         "rawType": "float64",
         "type": "float"
        },
        {
         "name": "University",
         "rawType": "object",
         "type": "string"
        },
        {
         "name": "Salary",
         "rawType": "int64",
         "type": "integer"
        },
        {
         "name": "Salary In Millions",
         "rawType": "float64",
         "type": "float"
        },
        {
         "name": "Role Type",
         "rawType": "object",
         "type": "string"
        }
       ],
       "ref": "ec49fb2d-f31e-4a52-a5a5-e064b86a8fa4",
       "rows": [
        [
         "271",
         "Zach Randolph",
         "Memphis Grizzlies",
         "50.0",
         "PF",
         "34.0",
         "6-9",
         "260.0",
         "Michigan State",
         "9638555",
         "9.64",
         "BackCourt"
        ],
        [
         "402",
         "Zach LaVine",
         "Minnesota Timberwolves",
         "8.0",
         "PG",
         "21.0",
         "6-5",
         "189.0",
         "UCLA",
         "2148360",
         "2.15",
         "BackCourt"
        ],
        [
         "386",
         "Wilson Chandler",
         "Denver Nuggets",
         "21.0",
         "SF",
         "29.0",
         "6-8",
         "225.0",
         "DePaul",
         "10449438",
         "10.45",
         "BackCourt"
        ],
        [
         "25",
         "Willie Reed",
         "Brooklyn Nets",
         "33.0",
         "PF",
         "26.0",
         "6-10",
         "220.0",
         "Saint Louis",
         "947276",
         "0.95",
         "BackCourt"
        ],
        [
         "141",
         "Willie Cauley-Stein",
         "Sacramento Kings",
         "0.0",
         "C",
         "22.0",
         "7-0",
         "240.0",
         "Kentucky",
         "3398280",
         "3.4",
         "BackCourt"
        ],
        [
         "385",
         "Will Barton",
         "Denver Nuggets",
         "5.0",
         "SF",
         "25.0",
         "6-6",
         "175.0",
         "Memphis",
         "3533333",
         "3.53",
         "BackCourt"
        ],
        [
         "233",
         "Wesley Matthews",
         "Dallas Mavericks",
         "23.0",
         "SG",
         "29.0",
         "6-5",
         "220.0",
         "Marquette",
         "16407500",
         "16.41",
         "BackCourt"
        ],
        [
         "97",
         "Wesley Johnson",
         "Los Angeles Clippers",
         "33.0",
         "SF",
         "28.0",
         "6-7",
         "215.0",
         "Syracuse",
         "1100602",
         "1.1",
         "BackCourt"
        ],
        [
         "17",
         "Wayne Ellington",
         "Brooklyn Nets",
         "21.0",
         "SG",
         "28.0",
         "6-4",
         "200.0",
         "North Carolina",
         "1500000",
         "1.5",
         "BackCourt"
        ],
        [
         "261",
         "Vince Carter",
         "Memphis Grizzlies",
         "15.0",
         "SG",
         "39.0",
         "6-6",
         "220.0",
         "North Carolina",
         "4088019",
         "4.09",
         "BackCourt"
        ],
        [
         "363",
         "Victor Oladipo",
         "Orlando Magic",
         "5.0",
         "SG",
         "24.0",
         "6-4",
         "210.0",
         "Indiana",
         "5192520",
         "5.19",
         "BackCourt"
        ],
        [
         "343",
         "Udonis Haslem",
         "Miami Heat",
         "40.0",
         "PF",
         "36.0",
         "6-8",
         "235.0",
         "Florida",
         "2854940",
         "2.85",
         "BackCourt"
        ],
        [
         "401",
         "Tyus Jones",
         "Minnesota Timberwolves",
         "1.0",
         "PG",
         "20.0",
         "6-2",
         "195.0",
         "Duke",
         "1282080",
         "1.28",
         "BackCourt"
        ],
        [
         "285",
         "Tyreke Evans",
         "New Orleans Pelicans",
         "1.0",
         "SG",
         "26.0",
         "6-6",
         "220.0",
         "Memphis",
         "10734586",
         "10.73",
         "BackCourt"
        ],
        [
         "14",
         "Tyler Zeller",
         "Boston Celtics",
         "44.0",
         "C",
         "26.0",
         "7-0",
         "253.0",
         "North Carolina",
         "2616975",
         "2.62",
         "BackCourt"
        ],
        [
         "345",
         "Tyler Johnson",
         "Miami Heat",
         "8.0",
         "SG",
         "24.0",
         "6-4",
         "186.0",
         "Fresno State",
         "845059",
         "0.85",
         "BackCourt"
        ],
        [
         "327",
         "Tyler Hansbrough",
         "Charlotte Hornets",
         "50.0",
         "PF",
         "30.0",
         "6-9",
         "250.0",
         "North Carolina",
         "947276",
         "0.95",
         "BackCourt"
        ],
        [
         "215",
         "Tyler Ennis",
         "Milwaukee Bucks",
         "11.0",
         "PG",
         "21.0",
         "6-3",
         "194.0",
         "Syracuse",
         "1662360",
         "1.66",
         "BackCourt"
        ],
        [
         "203",
         "Ty Lawson",
         "Indiana Pacers",
         "10.0",
         "PG",
         "28.0",
         "5-11",
         "195.0",
         "North Carolina",
         "211744",
         "0.21",
         "BackCourt"
        ],
        [
         "325",
         "Troy Daniels",
         "Charlotte Hornets",
         "30.0",
         "SG",
         "24.0",
         "6-4",
         "205.0",
         "Virginia Commonwealth",
         "947276",
         "0.95",
         "BackCourt"
        ],
        [
         "179",
         "Tristan Thompson",
         "Cleveland Cavaliers",
         "13.0",
         "C",
         "25.0",
         "6-9",
         "238.0",
         "Texas",
         "14260870",
         "14.26",
         "BackCourt"
        ],
        [
         "452",
         "Trey Lyles",
         "Utah Jazz",
         "41.0",
         "PF",
         "20.0",
         "6-10",
         "234.0",
         "Kentucky",
         "2239800",
         "2.24",
         "BackCourt"
        ],
        [
         "443",
         "Trey Burke",
         "Utah Jazz",
         "3.0",
         "PG",
         "23.0",
         "6-1",
         "191.0",
         "Michigan",
         "2658240",
         "2.66",
         "BackCourt"
        ],
        [
         "442",
         "Trevor Booker",
         "Utah Jazz",
         "33.0",
         "PF",
         "28.0",
         "6-8",
         "228.0",
         "Clemson",
         "4775000",
         "4.78",
         "BackCourt"
        ],
        [
         "242",
         "Trevor Ariza",
         "Houston Rockets",
         "1.0",
         "SF",
         "30.0",
         "6-8",
         "215.0",
         "UCLA",
         "8193030",
         "8.19",
         "BackCourt"
        ],
        [
         "45",
         "Tony Wroten",
         "New York Knicks",
         "5.0",
         "SG",
         "23.0",
         "6-6",
         "205.0",
         "Washington",
         "167406",
         "0.17",
         "BackCourt"
        ],
        [
         "165",
         "Tony Snell",
         "Chicago Bulls",
         "20.0",
         "SF",
         "24.0",
         "6-7",
         "200.0",
         "New Mexico",
         "1535880",
         "1.54",
         "BackCourt"
        ],
        [
         "258",
         "Tony Allen",
         "Memphis Grizzlies",
         "9.0",
         "SG",
         "34.0",
         "6-4",
         "213.0",
         "Oklahoma State",
         "5158539",
         "5.16",
         "BackCourt"
        ],
        [
         "283",
         "Toney Douglas",
         "New Orleans Pelicans",
         "16.0",
         "PG",
         "30.0",
         "6-2",
         "195.0",
         "Florida State",
         "1164858",
         "1.16",
         "BackCourt"
        ],
        [
         "189",
         "Tobias Harris",
         "Detroit Pistons",
         "34.0",
         "SF",
         "23.0",
         "6-9",
         "235.0",
         "Tennessee",
         "16000000",
         "16.0",
         "BackCourt"
        ],
        [
         "310",
         "Tim Hardaway Jr.",
         "Atlanta Hawks",
         "10.0",
         "SG",
         "24.0",
         "6-6",
         "205.0",
         "Michigan",
         "1304520",
         "1.3",
         "BackCourt"
        ],
        [
         "286",
         "Tim Frazier",
         "New Orleans Pelicans",
         "2.0",
         "PG",
         "25.0",
         "6-1",
         "170.0",
         "Penn State",
         "845059",
         "0.85",
         "BackCourt"
        ],
        [
         "298",
         "Tim Duncan",
         "San Antonio Spurs",
         "21.0",
         "C",
         "40.0",
         "6-11",
         "250.0",
         "Wake Forest",
         "5250000",
         "5.25",
         "BackCourt"
        ],
        [
         "26",
         "Thomas Robinson",
         "Brooklyn Nets",
         "41.0",
         "PF",
         "25.0",
         "6-10",
         "237.0",
         "Kansas",
         "981348",
         "0.98",
         "BackCourt"
        ],
        [
         "29",
         "Thaddeus Young",
         "Brooklyn Nets",
         "30.0",
         "PF",
         "27.0",
         "6-8",
         "221.0",
         "Georgia Tech",
         "11235955",
         "11.24",
         "BackCourt"
        ],
        [
         "8",
         "Terry Rozier",
         "Boston Celtics",
         "12.0",
         "PG",
         "22.0",
         "6-2",
         "190.0",
         "Louisville",
         "1824360",
         "1.82",
         "BackCourt"
        ],
        [
         "71",
         "Terrence Ross",
         "Toronto Raptors",
         "31.0",
         "SF",
         "25.0",
         "6-7",
         "195.0",
         "Washington",
         "3553917",
         "3.55",
         "BackCourt"
        ],
        [
         "252",
         "Terrence Jones",
         "Houston Rockets",
         "6.0",
         "PF",
         "24.0",
         "6-9",
         "252.0",
         "Kentucky",
         "2489530",
         "2.49",
         "BackCourt"
        ],
        [
         "406",
         "Tayshaun Prince",
         "Minnesota Timberwolves",
         "12.0",
         "SF",
         "36.0",
         "6-9",
         "212.0",
         "Kentucky",
         "947276",
         "0.95",
         "BackCourt"
        ],
        [
         "107",
         "Tarik Black",
         "Los Angeles Lakers",
         "28.0",
         "C",
         "24.0",
         "6-9",
         "250.0",
         "Kansas",
         "845059",
         "0.85",
         "BackCourt"
        ],
        [
         "157",
         "Taj Gibson",
         "Chicago Bulls",
         "22.0",
         "PF",
         "30.0",
         "6-9",
         "225.0",
         "USC",
         "8500000",
         "8.5",
         "BackCourt"
        ],
        [
         "134",
         "T.J. Warren",
         "Phoenix Suns",
         "12.0",
         "SF",
         "22.0",
         "6-8",
         "230.0",
         "North Carolina State",
         "2041080",
         "2.04",
         "BackCourt"
        ],
        [
         "54",
         "T.J. McConnell",
         "Philadelphia 76ers",
         "12.0",
         "PG",
         "24.0",
         "6-2",
         "200.0",
         "Arizona",
         "525093",
         "0.53",
         "BackCourt"
        ],
        [
         "412",
         "Steven Adams",
         "Oklahoma City Thunder",
         "12.0",
         "C",
         "22.0",
         "7-0",
         "255.0",
         "Pittsburgh",
         "2279040",
         "2.28",
         "BackCourt"
        ],
        [
         "221",
         "Steve Novak",
         "Milwaukee Bucks",
         "6.0",
         "SF",
         "32.0",
         "6-10",
         "225.0",
         "Marquette",
         "295327",
         "0.3",
         "BackCourt"
        ],
        [
         "183",
         "Steve Blake",
         "Detroit Pistons",
         "22.0",
         "PG",
         "36.0",
         "6-3",
         "172.0",
         "Maryland",
         "2170465",
         "2.17",
         "BackCourt"
        ],
        [
         "80",
         "Stephen Curry",
         "Golden State Warriors",
         "30.0",
         "PG",
         "28.0",
         "6-3",
         "190.0",
         "Davidson",
         "11370786",
         "11.37",
         "BackCourt"
        ],
        [
         "192",
         "Stanley Johnson",
         "Detroit Pistons",
         "3.0",
         "SF",
         "20.0",
         "6-7",
         "245.0",
         "Arizona",
         "2841960",
         "2.84",
         "BackCourt"
        ],
        [
         "329",
         "Spencer Hawes",
         "Charlotte Hornets",
         "0.0",
         "PF",
         "28.0",
         "7-1",
         "245.0",
         "Washington",
         "6110034",
         "6.11",
         "BackCourt"
        ],
        [
         "187",
         "Spencer Dinwiddie",
         "Detroit Pistons",
         "8.0",
         "PG",
         "23.0",
         "6-6",
         "200.0",
         "Colorado",
         "845059",
         "0.85",
         "BackCourt"
        ]
       ],
       "shape": {
        "columns": 11,
        "rows": 364
       }
      },
      "text/html": [
       "<div>\n",
       "<style scoped>\n",
       "    .dataframe tbody tr th:only-of-type {\n",
       "        vertical-align: middle;\n",
       "    }\n",
       "\n",
       "    .dataframe tbody tr th {\n",
       "        vertical-align: top;\n",
       "    }\n",
       "\n",
       "    .dataframe thead th {\n",
       "        text-align: right;\n",
       "    }\n",
       "</style>\n",
       "<table border=\"1\" class=\"dataframe\">\n",
       "  <thead>\n",
       "    <tr style=\"text-align: right;\">\n",
       "      <th></th>\n",
       "      <th>Name</th>\n",
       "      <th>Team</th>\n",
       "      <th>Number</th>\n",
       "      <th>Position</th>\n",
       "      <th>Age</th>\n",
       "      <th>Height</th>\n",
       "      <th>Weight</th>\n",
       "      <th>University</th>\n",
       "      <th>Salary</th>\n",
       "      <th>Salary In Millions</th>\n",
       "      <th>Role Type</th>\n",
       "    </tr>\n",
       "  </thead>\n",
       "  <tbody>\n",
       "    <tr>\n",
       "      <th>271</th>\n",
       "      <td>Zach Randolph</td>\n",
       "      <td>Memphis Grizzlies</td>\n",
       "      <td>50.0</td>\n",
       "      <td>PF</td>\n",
       "      <td>34.0</td>\n",
       "      <td>6-9</td>\n",
       "      <td>260.0</td>\n",
       "      <td>Michigan State</td>\n",
       "      <td>9638555</td>\n",
       "      <td>9.64</td>\n",
       "      <td>BackCourt</td>\n",
       "    </tr>\n",
       "    <tr>\n",
       "      <th>402</th>\n",
       "      <td>Zach LaVine</td>\n",
       "      <td>Minnesota Timberwolves</td>\n",
       "      <td>8.0</td>\n",
       "      <td>PG</td>\n",
       "      <td>21.0</td>\n",
       "      <td>6-5</td>\n",
       "      <td>189.0</td>\n",
       "      <td>UCLA</td>\n",
       "      <td>2148360</td>\n",
       "      <td>2.15</td>\n",
       "      <td>BackCourt</td>\n",
       "    </tr>\n",
       "    <tr>\n",
       "      <th>386</th>\n",
       "      <td>Wilson Chandler</td>\n",
       "      <td>Denver Nuggets</td>\n",
       "      <td>21.0</td>\n",
       "      <td>SF</td>\n",
       "      <td>29.0</td>\n",
       "      <td>6-8</td>\n",
       "      <td>225.0</td>\n",
       "      <td>DePaul</td>\n",
       "      <td>10449438</td>\n",
       "      <td>10.45</td>\n",
       "      <td>BackCourt</td>\n",
       "    </tr>\n",
       "    <tr>\n",
       "      <th>25</th>\n",
       "      <td>Willie Reed</td>\n",
       "      <td>Brooklyn Nets</td>\n",
       "      <td>33.0</td>\n",
       "      <td>PF</td>\n",
       "      <td>26.0</td>\n",
       "      <td>6-10</td>\n",
       "      <td>220.0</td>\n",
       "      <td>Saint Louis</td>\n",
       "      <td>947276</td>\n",
       "      <td>0.95</td>\n",
       "      <td>BackCourt</td>\n",
       "    </tr>\n",
       "    <tr>\n",
       "      <th>141</th>\n",
       "      <td>Willie Cauley-Stein</td>\n",
       "      <td>Sacramento Kings</td>\n",
       "      <td>0.0</td>\n",
       "      <td>C</td>\n",
       "      <td>22.0</td>\n",
       "      <td>7-0</td>\n",
       "      <td>240.0</td>\n",
       "      <td>Kentucky</td>\n",
       "      <td>3398280</td>\n",
       "      <td>3.40</td>\n",
       "      <td>BackCourt</td>\n",
       "    </tr>\n",
       "    <tr>\n",
       "      <th>...</th>\n",
       "      <td>...</td>\n",
       "      <td>...</td>\n",
       "      <td>...</td>\n",
       "      <td>...</td>\n",
       "      <td>...</td>\n",
       "      <td>...</td>\n",
       "      <td>...</td>\n",
       "      <td>...</td>\n",
       "      <td>...</td>\n",
       "      <td>...</td>\n",
       "      <td>...</td>\n",
       "    </tr>\n",
       "    <tr>\n",
       "      <th>312</th>\n",
       "      <td>Al Horford</td>\n",
       "      <td>Atlanta Hawks</td>\n",
       "      <td>15.0</td>\n",
       "      <td>C</td>\n",
       "      <td>30.0</td>\n",
       "      <td>6-10</td>\n",
       "      <td>245.0</td>\n",
       "      <td>Florida</td>\n",
       "      <td>12000000</td>\n",
       "      <td>12.00</td>\n",
       "      <td>BackCourt</td>\n",
       "    </tr>\n",
       "    <tr>\n",
       "      <th>404</th>\n",
       "      <td>Adreian Payne</td>\n",
       "      <td>Minnesota Timberwolves</td>\n",
       "      <td>33.0</td>\n",
       "      <td>PF</td>\n",
       "      <td>25.0</td>\n",
       "      <td>6-10</td>\n",
       "      <td>237.0</td>\n",
       "      <td>Michigan State</td>\n",
       "      <td>1938840</td>\n",
       "      <td>1.94</td>\n",
       "      <td>BackCourt</td>\n",
       "    </tr>\n",
       "    <tr>\n",
       "      <th>328</th>\n",
       "      <td>Aaron Harrison</td>\n",
       "      <td>Charlotte Hornets</td>\n",
       "      <td>9.0</td>\n",
       "      <td>SG</td>\n",
       "      <td>21.0</td>\n",
       "      <td>6-6</td>\n",
       "      <td>210.0</td>\n",
       "      <td>Kentucky</td>\n",
       "      <td>525093</td>\n",
       "      <td>0.53</td>\n",
       "      <td>BackCourt</td>\n",
       "    </tr>\n",
       "    <tr>\n",
       "      <th>356</th>\n",
       "      <td>Aaron Gordon</td>\n",
       "      <td>Orlando Magic</td>\n",
       "      <td>0.0</td>\n",
       "      <td>PF</td>\n",
       "      <td>20.0</td>\n",
       "      <td>6-9</td>\n",
       "      <td>220.0</td>\n",
       "      <td>Arizona</td>\n",
       "      <td>4171680</td>\n",
       "      <td>4.17</td>\n",
       "      <td>BackCourt</td>\n",
       "    </tr>\n",
       "    <tr>\n",
       "      <th>152</th>\n",
       "      <td>Aaron Brooks</td>\n",
       "      <td>Chicago Bulls</td>\n",
       "      <td>0.0</td>\n",
       "      <td>PG</td>\n",
       "      <td>31.0</td>\n",
       "      <td>6-0</td>\n",
       "      <td>161.0</td>\n",
       "      <td>Oregon</td>\n",
       "      <td>2250000</td>\n",
       "      <td>2.25</td>\n",
       "      <td>BackCourt</td>\n",
       "    </tr>\n",
       "  </tbody>\n",
       "</table>\n",
       "<p>364 rows × 11 columns</p>\n",
       "</div>"
      ],
      "text/plain": [
       "                    Name                    Team  Number Position   Age  \\\n",
       "271        Zach Randolph       Memphis Grizzlies    50.0       PF  34.0   \n",
       "402          Zach LaVine  Minnesota Timberwolves     8.0       PG  21.0   \n",
       "386      Wilson Chandler          Denver Nuggets    21.0       SF  29.0   \n",
       "25           Willie Reed           Brooklyn Nets    33.0       PF  26.0   \n",
       "141  Willie Cauley-Stein        Sacramento Kings     0.0        C  22.0   \n",
       "..                   ...                     ...     ...      ...   ...   \n",
       "312           Al Horford           Atlanta Hawks    15.0        C  30.0   \n",
       "404        Adreian Payne  Minnesota Timberwolves    33.0       PF  25.0   \n",
       "328       Aaron Harrison       Charlotte Hornets     9.0       SG  21.0   \n",
       "356         Aaron Gordon           Orlando Magic     0.0       PF  20.0   \n",
       "152         Aaron Brooks           Chicago Bulls     0.0       PG  31.0   \n",
       "\n",
       "    Height  Weight      University    Salary  Salary In Millions  Role Type  \n",
       "271    6-9   260.0  Michigan State   9638555                9.64  BackCourt  \n",
       "402    6-5   189.0            UCLA   2148360                2.15  BackCourt  \n",
       "386    6-8   225.0          DePaul  10449438               10.45  BackCourt  \n",
       "25    6-10   220.0     Saint Louis    947276                0.95  BackCourt  \n",
       "141    7-0   240.0        Kentucky   3398280                3.40  BackCourt  \n",
       "..     ...     ...             ...       ...                 ...        ...  \n",
       "312   6-10   245.0         Florida  12000000               12.00  BackCourt  \n",
       "404   6-10   237.0  Michigan State   1938840                1.94  BackCourt  \n",
       "328    6-6   210.0        Kentucky    525093                0.53  BackCourt  \n",
       "356    6-9   220.0         Arizona   4171680                4.17  BackCourt  \n",
       "152    6-0   161.0          Oregon   2250000                2.25  BackCourt  \n",
       "\n",
       "[364 rows x 11 columns]"
      ]
     },
     "execution_count": 76,
     "metadata": {},
     "output_type": "execute_result"
    }
   ],
   "source": [
    "df.sort_values(by='Name', ascending=False)"
   ]
  },
  {
   "cell_type": "code",
   "execution_count": 77,
   "id": "26eba4e1",
   "metadata": {},
   "outputs": [
    {
     "data": {
      "text/plain": [
       "np.float64(0.1593849340088172)"
      ]
     },
     "execution_count": 77,
     "metadata": {},
     "output_type": "execute_result"
    }
   ],
   "source": [
    "df['Age'].corr(df['Salary'])"
   ]
  },
  {
   "cell_type": "code",
   "execution_count": 78,
   "id": "e4ef20f6",
   "metadata": {},
   "outputs": [
    {
     "data": {
      "image/png": "[encoded data removed]",
      "text/plain": [
       "<Figure size 640x480 with 2 Axes>"
      ]
     },
     "metadata": {},
     "output_type": "display_data"
    }
   ],
   "source": [
    "import seaborn as sns\n",
    "import matplotlib.pyplot as plt\n",
    "\n",
    "sns.heatmap(df.corr(numeric_only=True), annot=True, cmap='coolwarm')\n",
    "plt.show()"
   ]
  },
  {
   "cell_type": "code",
   "execution_count": 79,
   "id": "87ae7951",
   "metadata": {},
   "outputs": [
    {
     "data": {
      "image/png": "[encoded data removed]",
      "text/plain": [
       "<Figure size 1200x1000 with 1 Axes>"
      ]
     },
     "metadata": {},
     "output_type": "display_data"
    }
   ],
   "source": [
    "plt.figure(figsize=(12,10))\n",
    "sns.countplot(data=df, y='Team', order=df['Team'].value_counts().index)\n",
    "plt.xlabel('Player Count')\n",
    "plt.ylabel('Team')\n",
    "plt.title('Number of Player Per Team')\n",
    "plt.show()"
   ]
  },
  {
   "cell_type": "code",
   "execution_count": 80,
   "id": "216fb202",
   "metadata": {},
   "outputs": [
    {
     "name": "stderr",
     "output_type": "stream",
     "text": [
      "C:\\Users\\Nirav\\AppData\\Local\\Temp\\ipykernel_22912\\170747945.py:4: FutureWarning: \n",
      "\n",
      "Passing `palette` without assigning `hue` is deprecated and will be removed in v0.14.0. Assign the `y` variable to `hue` and set `legend=False` for the same effect.\n",
      "\n",
      "  sns.barplot(x=team_salary.values, y=team_salary.index, palette='Greens_d')\n"
     ]
    },
    {
     "data": {
      "image/png": "[encoded data removed]",
      "text/plain": [
       "<Figure size 1000x600 with 1 Axes>"
      ]
     },
     "metadata": {},
     "output_type": "display_data"
    }
   ],
   "source": [
    "team_salary = df.groupby('Team')['Salary'].sum().sort_values()\n",
    "\n",
    "plt.figure(figsize=(10,6))\n",
    "sns.barplot(x=team_salary.values, y=team_salary.index, palette='Greens_d')\n",
    "plt.title('Total Salary per Team', loc='left', pad=10)\n",
    "plt.xlabel('')\n",
    "plt.ylabel('')\n",
    "sns.despine(left=True, bottom=True)\n",
    "plt.tight_layout()\n",
    "plt.show()\n",
    "\n"
   ]
  },
  {
   "cell_type": "code",
   "execution_count": 81,
   "id": "baf753ae",
   "metadata": {},
   "outputs": [],
   "source": [
    "# Set minimalist seaborn theme\n",
    "sns.set_theme(style=\"whitegrid\")  # or \"white\" for even more minimal\n",
    "\n",
    "# Apply consistent font and style\n",
    "plt.rcParams.update({\n",
    "    \"axes.titlesize\": 16,\n",
    "    \"axes.labelsize\": 12,\n",
    "    \"axes.edgecolor\": \"#333333\",\n",
    "    \"axes.linewidth\": 0.8,\n",
    "    \"xtick.labelsize\": 10,\n",
    "    \"ytick.labelsize\": 10,\n",
    "    \"font.family\": \"sans-serif\",\n",
    "    \"font.sans-serif\": \"Arial\",\n",
    "    \"figure.dpi\": 120\n",
    "})"
   ]
  },
  {
   "cell_type": "code",
   "execution_count": 82,
   "id": "c354bdb0",
   "metadata": {},
   "outputs": [
    {
     "name": "stderr",
     "output_type": "stream",
     "text": [
      "C:\\Users\\Nirav\\AppData\\Local\\Temp\\ipykernel_22912\\3484102990.py:2: FutureWarning: \n",
      "\n",
      "The `ci` parameter is deprecated. Use `errorbar=None` for the same effect.\n",
      "\n",
      "  sns.barplot(x='Salary', y='Position', data=df, estimator='mean', ci=None, palette='coolwarm')\n",
      "C:\\Users\\Nirav\\AppData\\Local\\Temp\\ipykernel_22912\\3484102990.py:2: FutureWarning: \n",
      "\n",
      "Passing `palette` without assigning `hue` is deprecated and will be removed in v0.14.0. Assign the `y` variable to `hue` and set `legend=False` for the same effect.\n",
      "\n",
      "  sns.barplot(x='Salary', y='Position', data=df, estimator='mean', ci=None, palette='coolwarm')\n"
     ]
    },
    {
     "data": {
      "image/png": "[encoded data removed]",
      "text/plain": [
       "<Figure size 960x600 with 1 Axes>"
      ]
     },
     "metadata": {},
     "output_type": "display_data"
    }
   ],
   "source": [
    "plt.figure(figsize=(8,5))\n",
    "sns.barplot(x='Salary', y='Position', data=df, estimator='mean', ci=None, palette='coolwarm')\n",
    "plt.title('Average Salary by Position', loc='left')\n",
    "plt.xlabel('')\n",
    "plt.ylabel('')\n",
    "sns.despine()\n",
    "plt.tight_layout()\n",
    "plt.show()"
   ]
  },
  {
   "cell_type": "code",
   "execution_count": 83,
   "id": "26776f5a",
   "metadata": {},
   "outputs": [
    {
     "data": {
      "image/png": "[encoded data removed]",
      "text/plain": [
       "<Figure size 960x720 with 2 Axes>"
      ]
     },
     "metadata": {},
     "output_type": "display_data"
    }
   ],
   "source": [
    "plt.figure(figsize=(8,6))\n",
    "corr = df.corr(numeric_only=True)\n",
    "sns.heatmap(corr, annot=True, cmap='vlag', fmt=\".2f\", linewidths=0.5, square=True, cbar_kws={\"shrink\": .8})\n",
    "plt.title(\"Correlation Matrix\", loc='left', pad=10)\n",
    "plt.tight_layout()\n",
    "plt.show()\n"
   ]
  },
  {
   "cell_type": "code",
   "execution_count": 84,
   "id": "2b551570",
   "metadata": {},
   "outputs": [
    {
     "data": {
      "image/png": "[encoded data removed]",
      "text/plain": [
       "<Figure size 840x480 with 1 Axes>"
      ]
     },
     "metadata": {},
     "output_type": "display_data"
    }
   ],
   "source": [
    "plt.figure(figsize=(7,4))\n",
    "sns.histplot(data = df['Age'], bins = 10 , kde=True, color='teal', edgecolor='black')\n",
    "plt.title(\"Distribution of player age\", loc='left')\n",
    "plt.xlabel('')\n",
    "plt.ylabel('')\n",
    "sns.despine()\n",
    "plt.tight_layout()\n",
    "plt.show()"
   ]
  },
  {
   "cell_type": "code",
   "execution_count": 85,
   "id": "fda576b1",
   "metadata": {},
   "outputs": [
    {
     "data": {
      "application/vnd.microsoft.datawrangler.viewer.v0+json": {
       "columns": [
        {
         "name": "index",
         "rawType": "int64",
         "type": "integer"
        },
        {
         "name": "Name",
         "rawType": "object",
         "type": "string"
        },
        {
         "name": "Team",
         "rawType": "object",
         "type": "string"
        },
        {
         "name": "Number",
         "rawType": "float64",
         "type": "float"
        },
        {
         "name": "Position",
         "rawType": "object",
         "type": "string"
        },
        {
         "name": "Age",
         "rawType": "float64",
         "type": "float"
        },
        {
         "name": "Height",
         "rawType": "object",
         "type": "string"
        },
        {
         "name": "Weight",
         "rawType": "float64",
         "type": "float"
        },
        {
         "name": "University",
         "rawType": "object",
         "type": "string"
        },
        {
         "name": "Salary",
         "rawType": "int64",
         "type": "integer"
        },
        {
         "name": "Salary In Millions",
         "rawType": "float64",
         "type": "float"
        },
        {
         "name": "Role Type",
         "rawType": "object",
         "type": "string"
        }
       ],
       "ref": "0c5caeba-38ea-4389-9c20-179323e4f61e",
       "rows": [
        [
         "0",
         "Avery Bradley",
         "Boston Celtics",
         "0.0",
         "PG",
         "25.0",
         "6-2",
         "180.0",
         "Texas",
         "7730337",
         "7.73",
         "BackCourt"
        ],
        [
         "1",
         "Jae Crowder",
         "Boston Celtics",
         "99.0",
         "SF",
         "25.0",
         "6-6",
         "235.0",
         "Marquette",
         "6796117",
         "6.8",
         "BackCourt"
        ],
        [
         "3",
         "R.J. Hunter",
         "Boston Celtics",
         "28.0",
         "SG",
         "22.0",
         "6-5",
         "185.0",
         "Georgia State",
         "1148640",
         "1.15",
         "BackCourt"
        ],
        [
         "6",
         "Jordan Mickey",
         "Boston Celtics",
         "55.0",
         "PF",
         "21.0",
         "6-8",
         "235.0",
         "LSU",
         "1170960",
         "1.17",
         "BackCourt"
        ],
        [
         "7",
         "Kelly Olynyk",
         "Boston Celtics",
         "41.0",
         "C",
         "25.0",
         "7-0",
         "238.0",
         "Gonzaga",
         "2165160",
         "2.17",
         "BackCourt"
        ],
        [
         "8",
         "Terry Rozier",
         "Boston Celtics",
         "12.0",
         "PG",
         "22.0",
         "6-2",
         "190.0",
         "Louisville",
         "1824360",
         "1.82",
         "BackCourt"
        ],
        [
         "9",
         "Marcus Smart",
         "Boston Celtics",
         "36.0",
         "PG",
         "22.0",
         "6-4",
         "220.0",
         "Oklahoma State",
         "3431040",
         "3.43",
         "BackCourt"
        ],
        [
         "10",
         "Jared Sullinger",
         "Boston Celtics",
         "7.0",
         "C",
         "24.0",
         "6-9",
         "260.0",
         "Ohio State",
         "2569260",
         "2.57",
         "BackCourt"
        ],
        [
         "11",
         "Isaiah Thomas",
         "Boston Celtics",
         "4.0",
         "PG",
         "27.0",
         "5-9",
         "185.0",
         "Washington",
         "6912869",
         "6.91",
         "BackCourt"
        ],
        [
         "12",
         "Evan Turner",
         "Boston Celtics",
         "11.0",
         "SG",
         "27.0",
         "6-7",
         "220.0",
         "Ohio State",
         "3425510",
         "3.43",
         "BackCourt"
        ],
        [
         "13",
         "James Young",
         "Boston Celtics",
         "13.0",
         "SG",
         "20.0",
         "6-6",
         "215.0",
         "Kentucky",
         "1749840",
         "1.75",
         "BackCourt"
        ],
        [
         "14",
         "Tyler Zeller",
         "Boston Celtics",
         "44.0",
         "C",
         "26.0",
         "7-0",
         "253.0",
         "North Carolina",
         "2616975",
         "2.62",
         "BackCourt"
        ],
        [
         "16",
         "Markel Brown",
         "Brooklyn Nets",
         "22.0",
         "SG",
         "24.0",
         "6-3",
         "190.0",
         "Oklahoma State",
         "845059",
         "0.85",
         "BackCourt"
        ],
        [
         "17",
         "Wayne Ellington",
         "Brooklyn Nets",
         "21.0",
         "SG",
         "28.0",
         "6-4",
         "200.0",
         "North Carolina",
         "1500000",
         "1.5",
         "BackCourt"
        ],
        [
         "18",
         "Rondae Hollis-Jefferson",
         "Brooklyn Nets",
         "24.0",
         "SG",
         "21.0",
         "6-7",
         "220.0",
         "Arizona",
         "1335480",
         "1.34",
         "BackCourt"
        ],
        [
         "19",
         "Jarrett Jack",
         "Brooklyn Nets",
         "2.0",
         "PG",
         "32.0",
         "6-3",
         "200.0",
         "Georgia Tech",
         "6300000",
         "6.3",
         "BackCourt"
        ],
        [
         "21",
         "Sean Kilpatrick",
         "Brooklyn Nets",
         "6.0",
         "SG",
         "26.0",
         "6-4",
         "219.0",
         "Cincinnati",
         "134215",
         "0.13",
         "BackCourt"
        ],
        [
         "22",
         "Shane Larkin",
         "Brooklyn Nets",
         "0.0",
         "PG",
         "23.0",
         "5-11",
         "175.0",
         "Miami (FL)",
         "1500000",
         "1.5",
         "BackCourt"
        ],
        [
         "23",
         "Brook Lopez",
         "Brooklyn Nets",
         "11.0",
         "C",
         "28.0",
         "7-0",
         "275.0",
         "Stanford",
         "19689000",
         "19.69",
         "BackCourt"
        ],
        [
         "24",
         "Chris McCullough",
         "Brooklyn Nets",
         "1.0",
         "PF",
         "21.0",
         "6-11",
         "200.0",
         "Syracuse",
         "1140240",
         "1.14",
         "BackCourt"
        ],
        [
         "25",
         "Willie Reed",
         "Brooklyn Nets",
         "33.0",
         "PF",
         "26.0",
         "6-10",
         "220.0",
         "Saint Louis",
         "947276",
         "0.95",
         "BackCourt"
        ],
        [
         "26",
         "Thomas Robinson",
         "Brooklyn Nets",
         "41.0",
         "PF",
         "25.0",
         "6-10",
         "237.0",
         "Kansas",
         "981348",
         "0.98",
         "BackCourt"
        ],
        [
         "27",
         "Henry Sims",
         "Brooklyn Nets",
         "14.0",
         "C",
         "26.0",
         "6-10",
         "248.0",
         "Georgetown",
         "947276",
         "0.95",
         "BackCourt"
        ],
        [
         "28",
         "Donald Sloan",
         "Brooklyn Nets",
         "15.0",
         "PG",
         "28.0",
         "6-3",
         "205.0",
         "Texas A&M",
         "947276",
         "0.95",
         "BackCourt"
        ],
        [
         "29",
         "Thaddeus Young",
         "Brooklyn Nets",
         "30.0",
         "PF",
         "27.0",
         "6-8",
         "221.0",
         "Georgia Tech",
         "11235955",
         "11.24",
         "BackCourt"
        ],
        [
         "30",
         "Arron Afflalo",
         "New York Knicks",
         "4.0",
         "SG",
         "30.0",
         "6-5",
         "210.0",
         "UCLA",
         "8000000",
         "8.0",
         "BackCourt"
        ],
        [
         "31",
         "Lou Amundson",
         "New York Knicks",
         "17.0",
         "PF",
         "33.0",
         "6-9",
         "220.0",
         "UNLV",
         "1635476",
         "1.64",
         "BackCourt"
        ],
        [
         "33",
         "Carmelo Anthony",
         "New York Knicks",
         "7.0",
         "SF",
         "32.0",
         "6-8",
         "240.0",
         "Syracuse",
         "22875000",
         "22.88",
         "BackCourt"
        ],
        [
         "35",
         "Cleanthony Early",
         "New York Knicks",
         "11.0",
         "SF",
         "25.0",
         "6-8",
         "210.0",
         "Wichita State",
         "845059",
         "0.85",
         "BackCourt"
        ],
        [
         "36",
         "Langston Galloway",
         "New York Knicks",
         "2.0",
         "SG",
         "24.0",
         "6-2",
         "200.0",
         "Saint Joseph's",
         "845059",
         "0.85",
         "BackCourt"
        ],
        [
         "37",
         "Jerian Grant",
         "New York Knicks",
         "13.0",
         "PG",
         "23.0",
         "6-4",
         "195.0",
         "Notre Dame",
         "1572360",
         "1.57",
         "BackCourt"
        ],
        [
         "38",
         "Robin Lopez",
         "New York Knicks",
         "8.0",
         "C",
         "28.0",
         "7-0",
         "255.0",
         "Stanford",
         "12650000",
         "12.65",
         "BackCourt"
        ],
        [
         "39",
         "Kyle O'Quinn",
         "New York Knicks",
         "9.0",
         "PF",
         "26.0",
         "6-10",
         "250.0",
         "Norfolk State",
         "3750000",
         "3.75",
         "BackCourt"
        ],
        [
         "42",
         "Lance Thomas",
         "New York Knicks",
         "42.0",
         "SF",
         "28.0",
         "6-8",
         "235.0",
         "Duke",
         "1636842",
         "1.64",
         "BackCourt"
        ],
        [
         "44",
         "Derrick Williams",
         "New York Knicks",
         "23.0",
         "PF",
         "25.0",
         "6-8",
         "240.0",
         "Arizona",
         "4000000",
         "4.0",
         "BackCourt"
        ],
        [
         "45",
         "Tony Wroten",
         "New York Knicks",
         "5.0",
         "SG",
         "23.0",
         "6-6",
         "205.0",
         "Washington",
         "167406",
         "0.17",
         "BackCourt"
        ],
        [
         "47",
         "Isaiah Canaan",
         "Philadelphia 76ers",
         "0.0",
         "PG",
         "25.0",
         "6-0",
         "201.0",
         "Murray State",
         "947276",
         "0.95",
         "BackCourt"
        ],
        [
         "48",
         "Robert Covington",
         "Philadelphia 76ers",
         "33.0",
         "SF",
         "25.0",
         "6-9",
         "215.0",
         "Tennessee State",
         "1000000",
         "1.0",
         "BackCourt"
        ],
        [
         "49",
         "Joel Embiid",
         "Philadelphia 76ers",
         "21.0",
         "C",
         "22.0",
         "7-0",
         "250.0",
         "Kansas",
         "4626960",
         "4.63",
         "BackCourt"
        ],
        [
         "50",
         "Jerami Grant",
         "Philadelphia 76ers",
         "39.0",
         "SF",
         "22.0",
         "6-8",
         "210.0",
         "Syracuse",
         "845059",
         "0.85",
         "BackCourt"
        ],
        [
         "51",
         "Richaun Holmes",
         "Philadelphia 76ers",
         "22.0",
         "PF",
         "22.0",
         "6-10",
         "245.0",
         "Bowling Green",
         "1074169",
         "1.07",
         "BackCourt"
        ],
        [
         "52",
         "Carl Landry",
         "Philadelphia 76ers",
         "7.0",
         "PF",
         "32.0",
         "6-9",
         "248.0",
         "Purdue",
         "6500000",
         "6.5",
         "BackCourt"
        ],
        [
         "53",
         "Kendall Marshall",
         "Philadelphia 76ers",
         "5.0",
         "PG",
         "24.0",
         "6-4",
         "200.0",
         "North Carolina",
         "2144772",
         "2.14",
         "BackCourt"
        ],
        [
         "54",
         "T.J. McConnell",
         "Philadelphia 76ers",
         "12.0",
         "PG",
         "24.0",
         "6-2",
         "200.0",
         "Arizona",
         "525093",
         "0.53",
         "BackCourt"
        ],
        [
         "55",
         "Nerlens Noel",
         "Philadelphia 76ers",
         "4.0",
         "PF",
         "22.0",
         "6-11",
         "228.0",
         "Kentucky",
         "3457800",
         "3.46",
         "BackCourt"
        ],
        [
         "56",
         "Jahlil Okafor",
         "Philadelphia 76ers",
         "8.0",
         "C",
         "20.0",
         "6-11",
         "275.0",
         "Duke",
         "4582680",
         "4.58",
         "BackCourt"
        ],
        [
         "57",
         "Ish Smith",
         "Philadelphia 76ers",
         "1.0",
         "PG",
         "27.0",
         "6-0",
         "175.0",
         "Wake Forest",
         "947276",
         "0.95",
         "BackCourt"
        ],
        [
         "58",
         "Nik Stauskas",
         "Philadelphia 76ers",
         "11.0",
         "SG",
         "22.0",
         "6-6",
         "205.0",
         "Michigan",
         "2869440",
         "2.87",
         "BackCourt"
        ],
        [
         "59",
         "Hollis Thompson",
         "Philadelphia 76ers",
         "31.0",
         "SG",
         "25.0",
         "6-8",
         "206.0",
         "Georgetown",
         "947276",
         "0.95",
         "BackCourt"
        ],
        [
         "60",
         "Christian Wood",
         "Philadelphia 76ers",
         "35.0",
         "PF",
         "20.0",
         "6-11",
         "220.0",
         "UNLV",
         "525093",
         "0.53",
         "BackCourt"
        ]
       ],
       "shape": {
        "columns": 11,
        "rows": 364
       }
      },
      "text/html": [
       "<div>\n",
       "<style scoped>\n",
       "    .dataframe tbody tr th:only-of-type {\n",
       "        vertical-align: middle;\n",
       "    }\n",
       "\n",
       "    .dataframe tbody tr th {\n",
       "        vertical-align: top;\n",
       "    }\n",
       "\n",
       "    .dataframe thead th {\n",
       "        text-align: right;\n",
       "    }\n",
       "</style>\n",
       "<table border=\"1\" class=\"dataframe\">\n",
       "  <thead>\n",
       "    <tr style=\"text-align: right;\">\n",
       "      <th></th>\n",
       "      <th>Name</th>\n",
       "      <th>Team</th>\n",
       "      <th>Number</th>\n",
       "      <th>Position</th>\n",
       "      <th>Age</th>\n",
       "      <th>Height</th>\n",
       "      <th>Weight</th>\n",
       "      <th>University</th>\n",
       "      <th>Salary</th>\n",
       "      <th>Salary In Millions</th>\n",
       "      <th>Role Type</th>\n",
       "    </tr>\n",
       "  </thead>\n",
       "  <tbody>\n",
       "    <tr>\n",
       "      <th>0</th>\n",
       "      <td>Avery Bradley</td>\n",
       "      <td>Boston Celtics</td>\n",
       "      <td>0.0</td>\n",
       "      <td>PG</td>\n",
       "      <td>25.0</td>\n",
       "      <td>6-2</td>\n",
       "      <td>180.0</td>\n",
       "      <td>Texas</td>\n",
       "      <td>7730337</td>\n",
       "      <td>7.73</td>\n",
       "      <td>BackCourt</td>\n",
       "    </tr>\n",
       "    <tr>\n",
       "      <th>1</th>\n",
       "      <td>Jae Crowder</td>\n",
       "      <td>Boston Celtics</td>\n",
       "      <td>99.0</td>\n",
       "      <td>SF</td>\n",
       "      <td>25.0</td>\n",
       "      <td>6-6</td>\n",
       "      <td>235.0</td>\n",
       "      <td>Marquette</td>\n",
       "      <td>6796117</td>\n",
       "      <td>6.80</td>\n",
       "      <td>BackCourt</td>\n",
       "    </tr>\n",
       "    <tr>\n",
       "      <th>3</th>\n",
       "      <td>R.J. Hunter</td>\n",
       "      <td>Boston Celtics</td>\n",
       "      <td>28.0</td>\n",
       "      <td>SG</td>\n",
       "      <td>22.0</td>\n",
       "      <td>6-5</td>\n",
       "      <td>185.0</td>\n",
       "      <td>Georgia State</td>\n",
       "      <td>1148640</td>\n",
       "      <td>1.15</td>\n",
       "      <td>BackCourt</td>\n",
       "    </tr>\n",
       "    <tr>\n",
       "      <th>6</th>\n",
       "      <td>Jordan Mickey</td>\n",
       "      <td>Boston Celtics</td>\n",
       "      <td>55.0</td>\n",
       "      <td>PF</td>\n",
       "      <td>21.0</td>\n",
       "      <td>6-8</td>\n",
       "      <td>235.0</td>\n",
       "      <td>LSU</td>\n",
       "      <td>1170960</td>\n",
       "      <td>1.17</td>\n",
       "      <td>BackCourt</td>\n",
       "    </tr>\n",
       "    <tr>\n",
       "      <th>7</th>\n",
       "      <td>Kelly Olynyk</td>\n",
       "      <td>Boston Celtics</td>\n",
       "      <td>41.0</td>\n",
       "      <td>C</td>\n",
       "      <td>25.0</td>\n",
       "      <td>7-0</td>\n",
       "      <td>238.0</td>\n",
       "      <td>Gonzaga</td>\n",
       "      <td>2165160</td>\n",
       "      <td>2.17</td>\n",
       "      <td>BackCourt</td>\n",
       "    </tr>\n",
       "    <tr>\n",
       "      <th>...</th>\n",
       "      <td>...</td>\n",
       "      <td>...</td>\n",
       "      <td>...</td>\n",
       "      <td>...</td>\n",
       "      <td>...</td>\n",
       "      <td>...</td>\n",
       "      <td>...</td>\n",
       "      <td>...</td>\n",
       "      <td>...</td>\n",
       "      <td>...</td>\n",
       "      <td>...</td>\n",
       "    </tr>\n",
       "    <tr>\n",
       "      <th>449</th>\n",
       "      <td>Rodney Hood</td>\n",
       "      <td>Utah Jazz</td>\n",
       "      <td>5.0</td>\n",
       "      <td>SG</td>\n",
       "      <td>23.0</td>\n",
       "      <td>6-8</td>\n",
       "      <td>206.0</td>\n",
       "      <td>Duke</td>\n",
       "      <td>1348440</td>\n",
       "      <td>1.35</td>\n",
       "      <td>BackCourt</td>\n",
       "    </tr>\n",
       "    <tr>\n",
       "      <th>451</th>\n",
       "      <td>Chris Johnson</td>\n",
       "      <td>Utah Jazz</td>\n",
       "      <td>23.0</td>\n",
       "      <td>SF</td>\n",
       "      <td>26.0</td>\n",
       "      <td>6-6</td>\n",
       "      <td>206.0</td>\n",
       "      <td>Dayton</td>\n",
       "      <td>981348</td>\n",
       "      <td>0.98</td>\n",
       "      <td>BackCourt</td>\n",
       "    </tr>\n",
       "    <tr>\n",
       "      <th>452</th>\n",
       "      <td>Trey Lyles</td>\n",
       "      <td>Utah Jazz</td>\n",
       "      <td>41.0</td>\n",
       "      <td>PF</td>\n",
       "      <td>20.0</td>\n",
       "      <td>6-10</td>\n",
       "      <td>234.0</td>\n",
       "      <td>Kentucky</td>\n",
       "      <td>2239800</td>\n",
       "      <td>2.24</td>\n",
       "      <td>BackCourt</td>\n",
       "    </tr>\n",
       "    <tr>\n",
       "      <th>453</th>\n",
       "      <td>Shelvin Mack</td>\n",
       "      <td>Utah Jazz</td>\n",
       "      <td>8.0</td>\n",
       "      <td>PG</td>\n",
       "      <td>26.0</td>\n",
       "      <td>6-3</td>\n",
       "      <td>203.0</td>\n",
       "      <td>Butler</td>\n",
       "      <td>2433333</td>\n",
       "      <td>2.43</td>\n",
       "      <td>BackCourt</td>\n",
       "    </tr>\n",
       "    <tr>\n",
       "      <th>456</th>\n",
       "      <td>Jeff Withey</td>\n",
       "      <td>Utah Jazz</td>\n",
       "      <td>24.0</td>\n",
       "      <td>C</td>\n",
       "      <td>26.0</td>\n",
       "      <td>7-0</td>\n",
       "      <td>231.0</td>\n",
       "      <td>Kansas</td>\n",
       "      <td>947276</td>\n",
       "      <td>0.95</td>\n",
       "      <td>BackCourt</td>\n",
       "    </tr>\n",
       "  </tbody>\n",
       "</table>\n",
       "<p>364 rows × 11 columns</p>\n",
       "</div>"
      ],
      "text/plain": [
       "              Name            Team  Number Position   Age Height  Weight  \\\n",
       "0    Avery Bradley  Boston Celtics     0.0       PG  25.0    6-2   180.0   \n",
       "1      Jae Crowder  Boston Celtics    99.0       SF  25.0    6-6   235.0   \n",
       "3      R.J. Hunter  Boston Celtics    28.0       SG  22.0    6-5   185.0   \n",
       "6    Jordan Mickey  Boston Celtics    55.0       PF  21.0    6-8   235.0   \n",
       "7     Kelly Olynyk  Boston Celtics    41.0        C  25.0    7-0   238.0   \n",
       "..             ...             ...     ...      ...   ...    ...     ...   \n",
       "449    Rodney Hood       Utah Jazz     5.0       SG  23.0    6-8   206.0   \n",
       "451  Chris Johnson       Utah Jazz    23.0       SF  26.0    6-6   206.0   \n",
       "452     Trey Lyles       Utah Jazz    41.0       PF  20.0   6-10   234.0   \n",
       "453   Shelvin Mack       Utah Jazz     8.0       PG  26.0    6-3   203.0   \n",
       "456    Jeff Withey       Utah Jazz    24.0        C  26.0    7-0   231.0   \n",
       "\n",
       "        University   Salary  Salary In Millions  Role Type  \n",
       "0            Texas  7730337                7.73  BackCourt  \n",
       "1        Marquette  6796117                6.80  BackCourt  \n",
       "3    Georgia State  1148640                1.15  BackCourt  \n",
       "6              LSU  1170960                1.17  BackCourt  \n",
       "7          Gonzaga  2165160                2.17  BackCourt  \n",
       "..             ...      ...                 ...        ...  \n",
       "449           Duke  1348440                1.35  BackCourt  \n",
       "451         Dayton   981348                0.98  BackCourt  \n",
       "452       Kentucky  2239800                2.24  BackCourt  \n",
       "453         Butler  2433333                2.43  BackCourt  \n",
       "456         Kansas   947276                0.95  BackCourt  \n",
       "\n",
       "[364 rows x 11 columns]"
      ]
     },
     "execution_count": 85,
     "metadata": {},
     "output_type": "execute_result"
    }
   ],
   "source": [
    "df"
   ]
  },
  {
   "cell_type": "code",
   "execution_count": 97,
   "id": "c17a2539",
   "metadata": {},
   "outputs": [
    {
     "data": {
      "application/vnd.microsoft.datawrangler.viewer.v0+json": {
       "columns": [
        {
         "name": "index",
         "rawType": "int64",
         "type": "integer"
        },
        {
         "name": "Name",
         "rawType": "object",
         "type": "string"
        },
        {
         "name": "Age",
         "rawType": "float64",
         "type": "float"
        },
        {
         "name": "Salary",
         "rawType": "int64",
         "type": "integer"
        },
        {
         "name": "Team",
         "rawType": "object",
         "type": "string"
        }
       ],
       "ref": "ca6f0c3c-2646-48ed-896d-835684d5c8eb",
       "rows": [
        [
         "33",
         "Carmelo Anthony",
         "32.0",
         "22875000",
         "New York Knicks"
        ],
        [
         "339",
         "Chris Bosh",
         "32.0",
         "22192730",
         "Miami Heat"
        ],
        [
         "100",
         "Chris Paul",
         "31.0",
         "21468695",
         "Los Angeles Clippers"
        ],
        [
         "414",
         "Kevin Durant",
         "27.0",
         "20158622",
         "Oklahoma City Thunder"
        ],
        [
         "164",
         "Derrick Rose",
         "27.0",
         "20093064",
         "Chicago Bulls"
        ],
        [
         "349",
         "Dwyane Wade",
         "34.0",
         "20000000",
         "Miami Heat"
        ],
        [
         "98",
         "DeAndre Jordan",
         "27.0",
         "19689000",
         "Los Angeles Clippers"
        ],
        [
         "174",
         "Kevin Love",
         "27.0",
         "19689000",
         "Cleveland Cavaliers"
        ],
        [
         "23",
         "Brook Lopez",
         "28.0",
         "19689000",
         "Brooklyn Nets"
        ],
        [
         "294",
         "LaMarcus Aldridge",
         "30.0",
         "19689000",
         "San Antonio Spurs"
        ],
        [
         "96",
         "Blake Griffin",
         "27.0",
         "18907726",
         "Los Angeles Clippers"
        ],
        [
         "315",
         "Paul Millsap",
         "31.0",
         "18671659",
         "Atlanta Hawks"
        ],
        [
         "199",
         "Paul George",
         "26.0",
         "17120106",
         "Indiana Pacers"
        ],
        [
         "426",
         "Russell Westbrook",
         "27.0",
         "16744218",
         "Oklahoma City Thunder"
        ],
        [
         "168",
         "Kyrie Irving",
         "24.0",
         "16407501",
         "Cleveland Cavaliers"
        ],
        [
         "220",
         "Greg Monroe",
         "26.0",
         "16407500",
         "Milwaukee Bucks"
        ],
        [
         "153",
         "Jimmy Butler",
         "26.0",
         "16407500",
         "Chicago Bulls"
        ],
        [
         "233",
         "Wesley Matthews",
         "29.0",
         "16407500",
         "Dallas Mavericks"
        ],
        [
         "301",
         "Kawhi Leonard",
         "24.0",
         "16407500",
         "San Antonio Spurs"
        ],
        [
         "418",
         "Enes Kanter",
         "24.0",
         "16407500",
         "Oklahoma City Thunder"
        ],
        [
         "189",
         "Tobias Harris",
         "23.0",
         "16000000",
         "Detroit Pistons"
        ],
        [
         "382",
         "John Wall",
         "25.0",
         "15851950",
         "Washington Wizards"
        ],
        [
         "143",
         "DeMarcus Cousins",
         "25.0",
         "15851950",
         "Sacramento Kings"
        ],
        [
         "249",
         "James Harden",
         "26.0",
         "15756438",
         "Houston Rockets"
        ],
        [
         "111",
         "Roy Hibbert",
         "29.0",
         "15592217",
         "Los Angeles Lakers"
        ],
        [
         "288",
         "Eric Gordon",
         "27.0",
         "15514031",
         "New Orleans Pelicans"
        ],
        [
         "89",
         "Klay Thompson",
         "26.0",
         "15501000",
         "Golden State Warriors"
        ],
        [
         "448",
         "Gordon Hayward",
         "26.0",
         "15409570",
         "Utah Jazz"
        ],
        [
         "238",
         "Chandler Parsons",
         "27.0",
         "15361500",
         "Dallas Mavericks"
        ],
        [
         "219",
         "Khris Middleton",
         "24.0",
         "14700000",
         "Milwaukee Bucks"
        ],
        [
         "179",
         "Tristan Thompson",
         "25.0",
         "14260870",
         "Cleveland Cavaliers"
        ],
        [
         "82",
         "Draymond Green",
         "26.0",
         "14260870",
         "Golden State Warriors"
        ],
        [
         "191",
         "Reggie Jackson",
         "26.0",
         "13913044",
         "Detroit Pistons"
        ],
        [
         "78",
         "Andrew Bogut",
         "31.0",
         "13800000",
         "Golden State Warriors"
        ],
        [
         "63",
         "DeMarre Carroll",
         "29.0",
         "13600000",
         "Toronto Raptors"
        ],
        [
         "127",
         "Brandon Knight",
         "24.0",
         "13500000",
         "Phoenix Suns"
        ],
        [
         "121",
         "Eric Bledsoe",
         "26.0",
         "13500000",
         "Phoenix Suns"
        ],
        [
         "162",
         "Joakim Noah",
         "31.0",
         "13400000",
         "Chicago Bulls"
        ],
        [
         "38",
         "Robin Lopez",
         "28.0",
         "12650000",
         "New York Knicks"
        ],
        [
         "146",
         "Rudy Gay",
         "29.0",
         "12403101",
         "Sacramento Kings"
        ],
        [
         "67",
         "Kyle Lowry",
         "30.0",
         "12000000",
         "Toronto Raptors"
        ],
        [
         "336",
         "Kemba Walker",
         "26.0",
         "12000000",
         "Charlotte Hornets"
        ],
        [
         "446",
         "Derrick Favors",
         "24.0",
         "12000000",
         "Utah Jazz"
        ],
        [
         "312",
         "Al Horford",
         "30.0",
         "12000000",
         "Atlanta Hawks"
        ],
        [
         "83",
         "Andre Iguodala",
         "32.0",
         "11710456",
         "Golden State Warriors"
        ],
        [
         "80",
         "Stephen Curry",
         "28.0",
         "11370786",
         "Golden State Warriors"
        ],
        [
         "366",
         "Nikola Vucevic",
         "25.0",
         "11250000",
         "Orlando Magic"
        ],
        [
         "29",
         "Thaddeus Young",
         "27.0",
         "11235955",
         "Brooklyn Nets"
        ],
        [
         "387",
         "Kenneth Faried",
         "26.0",
         "11235955",
         "Denver Nuggets"
        ],
        [
         "285",
         "Tyreke Evans",
         "26.0",
         "10734586",
         "New Orleans Pelicans"
        ]
       ],
       "shape": {
        "columns": 4,
        "rows": 364
       }
      },
      "text/html": [
       "<div>\n",
       "<style scoped>\n",
       "    .dataframe tbody tr th:only-of-type {\n",
       "        vertical-align: middle;\n",
       "    }\n",
       "\n",
       "    .dataframe tbody tr th {\n",
       "        vertical-align: top;\n",
       "    }\n",
       "\n",
       "    .dataframe thead th {\n",
       "        text-align: right;\n",
       "    }\n",
       "</style>\n",
       "<table border=\"1\" class=\"dataframe\">\n",
       "  <thead>\n",
       "    <tr style=\"text-align: right;\">\n",
       "      <th></th>\n",
       "      <th>Name</th>\n",
       "      <th>Age</th>\n",
       "      <th>Salary</th>\n",
       "      <th>Team</th>\n",
       "    </tr>\n",
       "  </thead>\n",
       "  <tbody>\n",
       "    <tr>\n",
       "      <th>33</th>\n",
       "      <td>Carmelo Anthony</td>\n",
       "      <td>32.0</td>\n",
       "      <td>22875000</td>\n",
       "      <td>New York Knicks</td>\n",
       "    </tr>\n",
       "    <tr>\n",
       "      <th>339</th>\n",
       "      <td>Chris Bosh</td>\n",
       "      <td>32.0</td>\n",
       "      <td>22192730</td>\n",
       "      <td>Miami Heat</td>\n",
       "    </tr>\n",
       "    <tr>\n",
       "      <th>100</th>\n",
       "      <td>Chris Paul</td>\n",
       "      <td>31.0</td>\n",
       "      <td>21468695</td>\n",
       "      <td>Los Angeles Clippers</td>\n",
       "    </tr>\n",
       "    <tr>\n",
       "      <th>414</th>\n",
       "      <td>Kevin Durant</td>\n",
       "      <td>27.0</td>\n",
       "      <td>20158622</td>\n",
       "      <td>Oklahoma City Thunder</td>\n",
       "    </tr>\n",
       "    <tr>\n",
       "      <th>164</th>\n",
       "      <td>Derrick Rose</td>\n",
       "      <td>27.0</td>\n",
       "      <td>20093064</td>\n",
       "      <td>Chicago Bulls</td>\n",
       "    </tr>\n",
       "    <tr>\n",
       "      <th>...</th>\n",
       "      <td>...</td>\n",
       "      <td>...</td>\n",
       "      <td>...</td>\n",
       "      <td>...</td>\n",
       "    </tr>\n",
       "    <tr>\n",
       "      <th>184</th>\n",
       "      <td>Lorenzo Brown</td>\n",
       "      <td>25.0</td>\n",
       "      <td>111444</td>\n",
       "      <td>Detroit Pistons</td>\n",
       "    </tr>\n",
       "    <tr>\n",
       "      <th>175</th>\n",
       "      <td>Jordan McRae</td>\n",
       "      <td>25.0</td>\n",
       "      <td>111196</td>\n",
       "      <td>Cleveland Cavaliers</td>\n",
       "    </tr>\n",
       "    <tr>\n",
       "      <th>135</th>\n",
       "      <td>Alan Williams</td>\n",
       "      <td>23.0</td>\n",
       "      <td>83397</td>\n",
       "      <td>Phoenix Suns</td>\n",
       "    </tr>\n",
       "    <tr>\n",
       "      <th>130</th>\n",
       "      <td>Phil Pressey</td>\n",
       "      <td>25.0</td>\n",
       "      <td>55722</td>\n",
       "      <td>Phoenix Suns</td>\n",
       "    </tr>\n",
       "    <tr>\n",
       "      <th>291</th>\n",
       "      <td>Orlando Johnson</td>\n",
       "      <td>27.0</td>\n",
       "      <td>55722</td>\n",
       "      <td>New Orleans Pelicans</td>\n",
       "    </tr>\n",
       "  </tbody>\n",
       "</table>\n",
       "<p>364 rows × 4 columns</p>\n",
       "</div>"
      ],
      "text/plain": [
       "                Name   Age    Salary                   Team\n",
       "33   Carmelo Anthony  32.0  22875000        New York Knicks\n",
       "339       Chris Bosh  32.0  22192730             Miami Heat\n",
       "100       Chris Paul  31.0  21468695   Los Angeles Clippers\n",
       "414     Kevin Durant  27.0  20158622  Oklahoma City Thunder\n",
       "164     Derrick Rose  27.0  20093064          Chicago Bulls\n",
       "..               ...   ...       ...                    ...\n",
       "184    Lorenzo Brown  25.0    111444        Detroit Pistons\n",
       "175     Jordan McRae  25.0    111196    Cleveland Cavaliers\n",
       "135    Alan Williams  23.0     83397           Phoenix Suns\n",
       "130     Phil Pressey  25.0     55722           Phoenix Suns\n",
       "291  Orlando Johnson  27.0     55722   New Orleans Pelicans\n",
       "\n",
       "[364 rows x 4 columns]"
      ]
     },
     "execution_count": 97,
     "metadata": {},
     "output_type": "execute_result"
    }
   ],
   "source": [
    "df[['Name','Age','Salary','Team']].sort_values(ascending=False, by='Salary')"
   ]
  },
  {
   "cell_type": "code",
   "execution_count": null,
   "id": "c89d8f51",
   "metadata": {},
   "outputs": [
    {
     "data": {
      "text/plain": [
       "Index(['Name', 'Team', 'Number', 'Position', 'Age', 'Height', 'Weight',\n",
       "       'University', 'Salary', 'Salary In Millions', 'Role Type'],\n",
       "      dtype='object')"
      ]
     },
     "execution_count": 93,
     "metadata": {},
     "output_type": "execute_result"
    }
   ],
   "source": [
    "df.columns\n"
   ]
  },
  {
   "cell_type": "code",
   "execution_count": null,
   "id": "1b333a7f",
   "metadata": {},
   "outputs": [
    {
     "data": {
      "text/plain": [
       "[1, 4, 9, 16, 25]"
      ]
     },
     "execution_count": 100,
     "metadata": {},
     "output_type": "execute_result"
    }
   ],
   "source": [
    "a = [1,2,3,4,5]\n",
    "\n",
    "res = [val ** 2 for val in a ]\n",
    "res"
   ]
  },
  {
   "cell_type": "code",
   "execution_count": 103,
   "id": "88c9068c",
   "metadata": {},
   "outputs": [
    {
     "data": {
      "text/plain": [
       "[2, 4]"
      ]
     },
     "execution_count": 103,
     "metadata": {},
     "output_type": "execute_result"
    }
   ],
   "source": [
    "res = [val for val in a if val % 2 == 0]\n",
    "res"
   ]
  },
  {
   "cell_type": "code",
   "execution_count": 107,
   "id": "e925b77d",
   "metadata": {},
   "outputs": [
    {
     "data": {
      "text/plain": [
       "[98.60000000000001, 102.2, 100.4, 111.2, 105.8]"
      ]
     },
     "execution_count": 107,
     "metadata": {},
     "output_type": "execute_result"
    }
   ],
   "source": [
    "c= [37,39,38,44,41]\n",
    "fran = [(val*(9/5)+32) for val in c ]\n",
    "fran"
   ]
  },
  {
   "cell_type": "code",
   "execution_count": 111,
   "id": "f2e76dc0",
   "metadata": {},
   "outputs": [
    {
     "data": {
      "text/plain": [
       "[1, 2, 3, 4, 5, 6]"
      ]
     },
     "execution_count": 111,
     "metadata": {},
     "output_type": "execute_result"
    }
   ],
   "source": [
    "li = [[1, 2], [3, 4], [5, 6]]\n",
    "fl = [item  for sub in li for item in sub]\n",
    "fl"
   ]
  },
  {
   "cell_type": "code",
   "execution_count": 118,
   "id": "a77a6e74",
   "metadata": {},
   "outputs": [
    {
     "data": {
      "text/plain": [
       "[1, 2, 3, 4, 5, 6, 7]"
      ]
     },
     "execution_count": 118,
     "metadata": {},
     "output_type": "execute_result"
    }
   ],
   "source": [
    "str1 = \"abc123def4567\"\n",
    "l1 = [int(item) for item in str1 if item.isdigit()]\n",
    "l1"
   ]
  },
  {
   "cell_type": "code",
   "execution_count": 124,
   "id": "900dc556",
   "metadata": {},
   "outputs": [
    {
     "data": {
      "text/plain": [
       "['Filter', 'Words', 'Longer', 'Than', 'Characters']"
      ]
     },
     "execution_count": 124,
     "metadata": {},
     "output_type": "execute_result"
    }
   ],
   "source": [
    "char =[\"Filter\", \"Words\", \"Longer\" ,\"Than\", \"3\", \"Characters\"]\n",
    "new = [val for val in char if val.isalpha() and len(val)>3 ]\n",
    "new"
   ]
  },
  {
   "cell_type": "code",
   "execution_count": 128,
   "id": "754bc17b",
   "metadata": {},
   "outputs": [
    {
     "data": {
      "text/plain": [
       "[2,\n",
       " 3,\n",
       " 5,\n",
       " 7,\n",
       " 11,\n",
       " 13,\n",
       " 17,\n",
       " 19,\n",
       " 23,\n",
       " 29,\n",
       " 31,\n",
       " 37,\n",
       " 41,\n",
       " 43,\n",
       " 47,\n",
       " 53,\n",
       " 59,\n",
       " 61,\n",
       " 67,\n",
       " 71,\n",
       " 73,\n",
       " 79,\n",
       " 83,\n",
       " 89,\n",
       " 97]"
      ]
     },
     "execution_count": 128,
     "metadata": {},
     "output_type": "execute_result"
    }
   ],
   "source": [
    "prime1 = [val for val in range(2,100) if all(val%i != 0 for i in range(2,int(val**0.5)+1))]\n",
    "prime1"
   ]
  },
  {
   "cell_type": "code",
   "execution_count": 3,
   "id": "c122cb11",
   "metadata": {},
   "outputs": [
    {
     "data": {
      "application/vnd.microsoft.datawrangler.viewer.v0+json": {
       "columns": [
        {
         "name": "index",
         "rawType": "int64",
         "type": "integer"
        },
        {
         "name": "Name",
         "rawType": "object",
         "type": "string"
        },
        {
         "name": "Age",
         "rawType": "int64",
         "type": "integer"
        },
        {
         "name": "Address",
         "rawType": "object",
         "type": "string"
        },
        {
         "name": "Qualification",
         "rawType": "object",
         "type": "string"
        }
       ],
       "ref": "f6b9ff90-64f9-45c5-a0ae-94d04b020da7",
       "rows": [
        [
         "0",
         "Jai",
         "27",
         "Nagpur",
         "Msc"
        ],
        [
         "1",
         "Anuj",
         "24",
         "Kanpur",
         "MA"
        ],
        [
         "2",
         "Jai",
         "22",
         "Allahabad",
         "MCA"
        ],
        [
         "3",
         "Princi",
         "32",
         "Kannuaj",
         "Phd"
        ],
        [
         "4",
         "Gaurav",
         "33",
         "Jaunpur",
         "B.Tech"
        ],
        [
         "5",
         "Anuj",
         "36",
         "Kanpur",
         "B.com"
        ],
        [
         "6",
         "Princi",
         "27",
         "Allahabad",
         "Msc"
        ],
        [
         "7",
         "Abhi",
         "32",
         "Aligarh",
         "MA"
        ]
       ],
       "shape": {
        "columns": 4,
        "rows": 8
       }
      },
      "text/html": [
       "<div>\n",
       "<style scoped>\n",
       "    .dataframe tbody tr th:only-of-type {\n",
       "        vertical-align: middle;\n",
       "    }\n",
       "\n",
       "    .dataframe tbody tr th {\n",
       "        vertical-align: top;\n",
       "    }\n",
       "\n",
       "    .dataframe thead th {\n",
       "        text-align: right;\n",
       "    }\n",
       "</style>\n",
       "<table border=\"1\" class=\"dataframe\">\n",
       "  <thead>\n",
       "    <tr style=\"text-align: right;\">\n",
       "      <th></th>\n",
       "      <th>Name</th>\n",
       "      <th>Age</th>\n",
       "      <th>Address</th>\n",
       "      <th>Qualification</th>\n",
       "    </tr>\n",
       "  </thead>\n",
       "  <tbody>\n",
       "    <tr>\n",
       "      <th>0</th>\n",
       "      <td>Jai</td>\n",
       "      <td>27</td>\n",
       "      <td>Nagpur</td>\n",
       "      <td>Msc</td>\n",
       "    </tr>\n",
       "    <tr>\n",
       "      <th>1</th>\n",
       "      <td>Anuj</td>\n",
       "      <td>24</td>\n",
       "      <td>Kanpur</td>\n",
       "      <td>MA</td>\n",
       "    </tr>\n",
       "    <tr>\n",
       "      <th>2</th>\n",
       "      <td>Jai</td>\n",
       "      <td>22</td>\n",
       "      <td>Allahabad</td>\n",
       "      <td>MCA</td>\n",
       "    </tr>\n",
       "    <tr>\n",
       "      <th>3</th>\n",
       "      <td>Princi</td>\n",
       "      <td>32</td>\n",
       "      <td>Kannuaj</td>\n",
       "      <td>Phd</td>\n",
       "    </tr>\n",
       "    <tr>\n",
       "      <th>4</th>\n",
       "      <td>Gaurav</td>\n",
       "      <td>33</td>\n",
       "      <td>Jaunpur</td>\n",
       "      <td>B.Tech</td>\n",
       "    </tr>\n",
       "    <tr>\n",
       "      <th>5</th>\n",
       "      <td>Anuj</td>\n",
       "      <td>36</td>\n",
       "      <td>Kanpur</td>\n",
       "      <td>B.com</td>\n",
       "    </tr>\n",
       "    <tr>\n",
       "      <th>6</th>\n",
       "      <td>Princi</td>\n",
       "      <td>27</td>\n",
       "      <td>Allahabad</td>\n",
       "      <td>Msc</td>\n",
       "    </tr>\n",
       "    <tr>\n",
       "      <th>7</th>\n",
       "      <td>Abhi</td>\n",
       "      <td>32</td>\n",
       "      <td>Aligarh</td>\n",
       "      <td>MA</td>\n",
       "    </tr>\n",
       "  </tbody>\n",
       "</table>\n",
       "</div>"
      ],
      "text/plain": [
       "     Name  Age    Address Qualification\n",
       "0     Jai   27     Nagpur           Msc\n",
       "1    Anuj   24     Kanpur            MA\n",
       "2     Jai   22  Allahabad           MCA\n",
       "3  Princi   32    Kannuaj           Phd\n",
       "4  Gaurav   33    Jaunpur        B.Tech\n",
       "5    Anuj   36     Kanpur         B.com\n",
       "6  Princi   27  Allahabad           Msc\n",
       "7    Abhi   32    Aligarh            MA"
      ]
     },
     "execution_count": 3,
     "metadata": {},
     "output_type": "execute_result"
    }
   ],
   "source": [
    "import pandas as pd\n",
    "\n",
    "data1 = {'Name':['Jai', 'Anuj', 'Jai', 'Princi',\n",
    "                 'Gaurav', 'Anuj', 'Princi', 'Abhi'],\n",
    "        'Age':[27, 24, 22, 32,\n",
    "               33, 36, 27, 32],\n",
    "        'Address':['Nagpur', 'Kanpur', 'Allahabad', 'Kannuaj',\n",
    "                   'Jaunpur', 'Kanpur', 'Allahabad', 'Aligarh'],\n",
    "        'Qualification':['Msc', 'MA', 'MCA', 'Phd',\n",
    "                         'B.Tech', 'B.com', 'Msc', 'MA']} \n",
    "\n",
    "df = pd.DataFrame(data1)\n",
    "df"
   ]
  },
  {
   "cell_type": "code",
   "execution_count": 9,
   "id": "4519dfaf",
   "metadata": {},
   "outputs": [
    {
     "data": {
      "text/plain": [
       "{('Abhi', 'MA'): [7], ('Anuj', 'B.com'): [5], ('Anuj', 'MA'): [1], ('Gaurav', 'B.Tech'): [4], ('Jai', 'MCA'): [2], ('Jai', 'Msc'): [0], ('Princi', 'Msc'): [6], ('Princi', 'Phd'): [3]}"
      ]
     },
     "metadata": {},
     "output_type": "display_data"
    }
   ],
   "source": [
    "dfg = df.groupby(['Name','Qualification'])['Age'].groups\n",
    "display(dfg)"
   ]
  },
  {
   "cell_type": "code",
   "execution_count": 12,
   "id": "2a0c5f5a",
   "metadata": {},
   "outputs": [
    {
     "data": {
      "text/plain": [
       "{'Jai': [0, 2], 'Anuj': [1, 5], 'Princi': [3, 6], 'Gaurav': [4], 'Abhi': [7]}"
      ]
     },
     "execution_count": 12,
     "metadata": {},
     "output_type": "execute_result"
    }
   ],
   "source": [
    "df.groupby(['Name'], sort = False)['Age'].groups"
   ]
  },
  {
   "cell_type": "code",
   "execution_count": 14,
   "id": "ef4e9eeb",
   "metadata": {},
   "outputs": [
    {
     "name": "stdout",
     "output_type": "stream",
     "text": [
      "                Team      Player  Goals\n",
      "0            Arsenal        Ozil      5\n",
      "1  Manchester United       Pogba      3\n",
      "2            Arsenal       Lucas      6\n",
      "3            Arsenal  Aubameyang      4\n",
      "4            Chelsea      Hazard      9\n",
      "5  Manchester United        Mata      2\n",
      "6  Manchester United      Lukaku      0\n",
      "7            Chelsea      Morata      5\n",
      "8            Chelsea      Giroud      2\n",
      "9            Chelsea       Kante      3\n"
     ]
    }
   ],
   "source": [
    "# example dataframe\n",
    "example = {'Team':['Arsenal', 'Manchester United', 'Arsenal',\n",
    "                   'Arsenal', 'Chelsea', 'Manchester United',\n",
    "                   'Manchester United', 'Chelsea', 'Chelsea', 'Chelsea'],\n",
    "                   \n",
    "           'Player':['Ozil', 'Pogba', 'Lucas', 'Aubameyang',\n",
    "                       'Hazard', 'Mata', 'Lukaku', 'Morata', \n",
    "                                         'Giroud', 'Kante'],\n",
    "                                         \n",
    "           'Goals':[5, 3, 6, 4, 9, 2, 0, 5, 2, 3] }\n",
    "\n",
    "df = pd.DataFrame(example)\n",
    "\n",
    "print(df)"
   ]
  },
  {
   "cell_type": "code",
   "execution_count": 17,
   "id": "997fc9e0",
   "metadata": {},
   "outputs": [
    {
     "data": {
      "application/vnd.microsoft.datawrangler.viewer.v0+json": {
       "columns": [
        {
         "name": "Team",
         "rawType": "object",
         "type": "string"
        },
        {
         "name": "Goals",
         "rawType": "float64",
         "type": "float"
        }
       ],
       "ref": "4a65f551-a613-486a-bd10-1895396ae337",
       "rows": [
        [
         "Arsenal",
         "5.0"
        ],
        [
         "Chelsea",
         "4.75"
        ],
        [
         "Manchester United",
         "1.6666666666666667"
        ]
       ],
       "shape": {
        "columns": 1,
        "rows": 3
       }
      },
      "text/plain": [
       "Team\n",
       "Arsenal              5.000000\n",
       "Chelsea              4.750000\n",
       "Manchester United    1.666667\n",
       "Name: Goals, dtype: float64"
      ]
     },
     "execution_count": 17,
     "metadata": {},
     "output_type": "execute_result"
    }
   ],
   "source": [
    "total_goals = df['Goals'].groupby(df['Team'])\n",
    "total_goals.mean()"
   ]
  },
  {
   "cell_type": "code",
   "execution_count": 18,
   "id": "d447c1b3",
   "metadata": {},
   "outputs": [],
   "source": [
    "data1 = {'Name': ['Jai', 'Princi', 'Gaurav', 'Anuj'],\n",
    "         'Age': [27, 24, 22, 32],\n",
    "         'Address': ['Nagpur', 'Kanpur', 'Allahabad', 'Kannuaj'],\n",
    "         'Qualification': ['Msc', 'MA', 'MCA', 'Phd']}\n",
    "\n",
    "data2 = {'Name': ['Abhi', 'Ayushi', 'Dhiraj', 'Hitesh'],\n",
    "         'Age': [17, 14, 12, 52],\n",
    "         'Address': ['Nagpur', 'Kanpur', 'Allahabad', 'Kannuaj'],\n",
    "         'Qualification': ['Btech', 'B.A', 'Bcom', 'B.hons']}\n",
    "\n",
    "df = pd.DataFrame(data1, index=[0, 1, 2, 3])\n",
    "\n",
    "df1 = pd.DataFrame(data2, index=[4, 5, 6, 7])\n"
   ]
  },
  {
   "cell_type": "code",
   "execution_count": 19,
   "id": "b6823eb1",
   "metadata": {},
   "outputs": [
    {
     "data": {
      "application/vnd.microsoft.datawrangler.viewer.v0+json": {
       "columns": [
        {
         "name": "index",
         "rawType": "int64",
         "type": "integer"
        },
        {
         "name": "Name",
         "rawType": "object",
         "type": "string"
        },
        {
         "name": "Age",
         "rawType": "int64",
         "type": "integer"
        },
        {
         "name": "Address",
         "rawType": "object",
         "type": "string"
        },
        {
         "name": "Qualification",
         "rawType": "object",
         "type": "string"
        }
       ],
       "ref": "f7168670-ae01-4673-a486-02fbd8b6bcdb",
       "rows": [
        [
         "0",
         "Jai",
         "27",
         "Nagpur",
         "Msc"
        ],
        [
         "1",
         "Princi",
         "24",
         "Kanpur",
         "MA"
        ],
        [
         "2",
         "Gaurav",
         "22",
         "Allahabad",
         "MCA"
        ],
        [
         "3",
         "Anuj",
         "32",
         "Kannuaj",
         "Phd"
        ],
        [
         "4",
         "Abhi",
         "17",
         "Nagpur",
         "Btech"
        ],
        [
         "5",
         "Ayushi",
         "14",
         "Kanpur",
         "B.A"
        ],
        [
         "6",
         "Dhiraj",
         "12",
         "Allahabad",
         "Bcom"
        ],
        [
         "7",
         "Hitesh",
         "52",
         "Kannuaj",
         "B.hons"
        ]
       ],
       "shape": {
        "columns": 4,
        "rows": 8
       }
      },
      "text/html": [
       "<div>\n",
       "<style scoped>\n",
       "    .dataframe tbody tr th:only-of-type {\n",
       "        vertical-align: middle;\n",
       "    }\n",
       "\n",
       "    .dataframe tbody tr th {\n",
       "        vertical-align: top;\n",
       "    }\n",
       "\n",
       "    .dataframe thead th {\n",
       "        text-align: right;\n",
       "    }\n",
       "</style>\n",
       "<table border=\"1\" class=\"dataframe\">\n",
       "  <thead>\n",
       "    <tr style=\"text-align: right;\">\n",
       "      <th></th>\n",
       "      <th>Name</th>\n",
       "      <th>Age</th>\n",
       "      <th>Address</th>\n",
       "      <th>Qualification</th>\n",
       "    </tr>\n",
       "  </thead>\n",
       "  <tbody>\n",
       "    <tr>\n",
       "      <th>0</th>\n",
       "      <td>Jai</td>\n",
       "      <td>27</td>\n",
       "      <td>Nagpur</td>\n",
       "      <td>Msc</td>\n",
       "    </tr>\n",
       "    <tr>\n",
       "      <th>1</th>\n",
       "      <td>Princi</td>\n",
       "      <td>24</td>\n",
       "      <td>Kanpur</td>\n",
       "      <td>MA</td>\n",
       "    </tr>\n",
       "    <tr>\n",
       "      <th>2</th>\n",
       "      <td>Gaurav</td>\n",
       "      <td>22</td>\n",
       "      <td>Allahabad</td>\n",
       "      <td>MCA</td>\n",
       "    </tr>\n",
       "    <tr>\n",
       "      <th>3</th>\n",
       "      <td>Anuj</td>\n",
       "      <td>32</td>\n",
       "      <td>Kannuaj</td>\n",
       "      <td>Phd</td>\n",
       "    </tr>\n",
       "    <tr>\n",
       "      <th>4</th>\n",
       "      <td>Abhi</td>\n",
       "      <td>17</td>\n",
       "      <td>Nagpur</td>\n",
       "      <td>Btech</td>\n",
       "    </tr>\n",
       "    <tr>\n",
       "      <th>5</th>\n",
       "      <td>Ayushi</td>\n",
       "      <td>14</td>\n",
       "      <td>Kanpur</td>\n",
       "      <td>B.A</td>\n",
       "    </tr>\n",
       "    <tr>\n",
       "      <th>6</th>\n",
       "      <td>Dhiraj</td>\n",
       "      <td>12</td>\n",
       "      <td>Allahabad</td>\n",
       "      <td>Bcom</td>\n",
       "    </tr>\n",
       "    <tr>\n",
       "      <th>7</th>\n",
       "      <td>Hitesh</td>\n",
       "      <td>52</td>\n",
       "      <td>Kannuaj</td>\n",
       "      <td>B.hons</td>\n",
       "    </tr>\n",
       "  </tbody>\n",
       "</table>\n",
       "</div>"
      ],
      "text/plain": [
       "     Name  Age    Address Qualification\n",
       "0     Jai   27     Nagpur           Msc\n",
       "1  Princi   24     Kanpur            MA\n",
       "2  Gaurav   22  Allahabad           MCA\n",
       "3    Anuj   32    Kannuaj           Phd\n",
       "4    Abhi   17     Nagpur         Btech\n",
       "5  Ayushi   14     Kanpur           B.A\n",
       "6  Dhiraj   12  Allahabad          Bcom\n",
       "7  Hitesh   52    Kannuaj        B.hons"
      ]
     },
     "execution_count": 19,
     "metadata": {},
     "output_type": "execute_result"
    }
   ],
   "source": [
    "frames = [df,df1]\n",
    "res1 = pd.concat(frames)\n",
    "res1"
   ]
  }
 ],
 "metadata": {
  "kernelspec": {
   "display_name": "venv",
   "language": "python",
   "name": "python3"
  },
  "language_info": {
   "codemirror_mode": {
    "name": "ipython",
    "version": 3
   },
   "file_extension": ".py",
   "mimetype": "text/x-python",
   "name": "python",
   "nbconvert_exporter": "python",
   "pygments_lexer": "ipython3",
   "version": "3.13.4"
  }
 },
 "nbformat": 4,
 "nbformat_minor": 5
}
