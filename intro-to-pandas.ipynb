{
 "cells": [
  {
   "cell_type": "code",
   "execution_count": 1,
   "id": "427d71c9",
   "metadata": {},
   "outputs": [],
   "source": [
    "import pandas as pd "
   ]
  },
  {
   "cell_type": "markdown",
   "id": "499d26ef",
   "metadata": {},
   "source": [
    "#### Series"
   ]
  },
  {
   "cell_type": "code",
   "execution_count": 2,
   "id": "ec29f223",
   "metadata": {},
   "outputs": [
    {
     "name": "stdout",
     "output_type": "stream",
     "text": [
      "0    10\n",
      "1    20\n",
      "2    30\n",
      "3    40\n",
      "dtype: int64\n"
     ]
    }
   ],
   "source": [
    "# Let's create a series \n",
    "data = pd.Series([10,20,30,40])\n",
    "print(data)"
   ]
  },
  {
   "cell_type": "code",
   "execution_count": 3,
   "id": "6778b498",
   "metadata": {},
   "outputs": [
    {
     "name": "stdout",
     "output_type": "stream",
     "text": [
      "a    10\n",
      "b    20\n",
      "c    30\n",
      "d    40\n",
      "dtype: int64\n"
     ]
    }
   ],
   "source": [
    "data = pd.Series([10,20,30,40], index= ['a','b','c','d'])\n",
    "print(data)"
   ]
  },
  {
   "cell_type": "markdown",
   "id": "bce02d98",
   "metadata": {},
   "source": [
    "####  Dataframe"
   ]
  },
  {
   "cell_type": "code",
   "execution_count": 4,
   "id": "468f4c33",
   "metadata": {},
   "outputs": [
    {
     "name": "stdout",
     "output_type": "stream",
     "text": [
      "     NAME  Age     City\n",
      "0   Nirav   18  NewYork\n",
      "1   Thapa   19   London\n",
      "2  Pirate   20    Paris\n"
     ]
    }
   ],
   "source": [
    "data = {\n",
    "    'NAME':['Nirav','Thapa','Pirate'],\n",
    "    \"Age\":[18,19,20],\n",
    "    'City':['NewYork', 'London', 'Paris']\n",
    "}\n",
    "df = pd.DataFrame(data)\n",
    "print(df)"
   ]
  },
  {
   "cell_type": "code",
   "execution_count": 5,
   "id": "fb841564",
   "metadata": {},
   "outputs": [
    {
     "name": "stdout",
     "output_type": "stream",
     "text": [
      "      Name  Age\n",
      "0    Alice   25\n",
      "1      Bob   30\n",
      "2  Charlie   35\n"
     ]
    }
   ],
   "source": [
    "data = [['Alice', 25], ['Bob', 30], ['Charlie', 35]]\n",
    "df = pd.DataFrame(data, columns=['Name', 'Age'])\n",
    "print(df)"
   ]
  },
  {
   "cell_type": "markdown",
   "id": "fe41aa00",
   "metadata": {},
   "source": [
    "#### CSV and Excel files\n"
   ]
  },
  {
   "cell_type": "code",
   "execution_count": 6,
   "id": "4f60633d",
   "metadata": {},
   "outputs": [],
   "source": [
    "# Save to CSV\n",
    "df.to_csv('output.csv', index=False)\n",
    "# Save to Excel\n",
    "df.to_excel('output.xlsx', index=False)"
   ]
  },
  {
   "cell_type": "code",
   "execution_count": 7,
   "id": "466b01b1",
   "metadata": {},
   "outputs": [],
   "source": [
    "# Read a CSV file\n",
    "df = pd.read_csv('output.csv')\n",
    "# Read an Excel file\n",
    "df = pd.read_excel('output.xlsx')"
   ]
  },
  {
   "cell_type": "markdown",
   "id": "81c9935e",
   "metadata": {},
   "source": [
    "#### Viewing data\n"
   ]
  },
  {
   "cell_type": "code",
   "execution_count": 8,
   "id": "022b7fb1",
   "metadata": {},
   "outputs": [
    {
     "name": "stdout",
     "output_type": "stream",
     "text": [
      "    Name  Age\n",
      "0  Alice   25\n",
      "1    Bob   30\n",
      "\n",
      "      Name  Age\n",
      "1      Bob   30\n",
      "2  Charlie   35\n"
     ]
    }
   ],
   "source": [
    "print(df.head(2))\n",
    "print()\n",
    "print(df.tail(2))"
   ]
  },
  {
   "cell_type": "code",
   "execution_count": 9,
   "id": "a35d1511",
   "metadata": {},
   "outputs": [
    {
     "name": "stdout",
     "output_type": "stream",
     "text": [
      "<class 'pandas.core.frame.DataFrame'>\n",
      "RangeIndex: 3 entries, 0 to 2\n",
      "Data columns (total 2 columns):\n",
      " #   Column  Non-Null Count  Dtype \n",
      "---  ------  --------------  ----- \n",
      " 0   Name    3 non-null      object\n",
      " 1   Age     3 non-null      int64 \n",
      "dtypes: int64(1), object(1)\n",
      "memory usage: 180.0+ bytes\n",
      "None\n"
     ]
    }
   ],
   "source": [
    "print(df.info())"
   ]
  },
  {
   "cell_type": "code",
   "execution_count": 10,
   "id": "ccad786b",
   "metadata": {},
   "outputs": [
    {
     "name": "stdout",
     "output_type": "stream",
     "text": [
      "        Age\n",
      "count   3.0\n",
      "mean   30.0\n",
      "std     5.0\n",
      "min    25.0\n",
      "25%    27.5\n",
      "50%    30.0\n",
      "75%    32.5\n",
      "max    35.0\n"
     ]
    }
   ],
   "source": [
    "print(df.describe())"
   ]
  },
  {
   "cell_type": "markdown",
   "id": "c3a64ece",
   "metadata": {},
   "source": [
    "#### Selecting data"
   ]
  },
  {
   "cell_type": "code",
   "execution_count": 11,
   "id": "08f9d1d2",
   "metadata": {},
   "outputs": [],
   "source": [
    "# Single column (returns a Series)\n",
    "ages = df['Age']\n",
    "# Multiple columns (returns a DataFrame)\n",
    "subset = df[['Name', 'Age']]"
   ]
  },
  {
   "cell_type": "code",
   "execution_count": 12,
   "id": "4f811393",
   "metadata": {},
   "outputs": [
    {
     "name": "stdout",
     "output_type": "stream",
     "text": [
      "    Name  Age\n",
      "0  Alice   25\n",
      "1    Bob   30\n"
     ]
    }
   ],
   "source": [
    "# Using .loc (label-based)\n",
    "row = df.loc[[0,1]]  # First row\n",
    "print(row)\n",
    "# Using .iloc (position-based)\n",
    "# row = df.iloc[0]\n",
    "# row"
   ]
  },
  {
   "cell_type": "code",
   "execution_count": 13,
   "id": "fc6d7530",
   "metadata": {},
   "outputs": [
    {
     "name": "stdout",
     "output_type": "stream",
     "text": [
      "      Name  Age\n",
      "2  Charlie   35\n"
     ]
    }
   ],
   "source": [
    "# Get rows where Age > 30\n",
    "filtered = df[df['Age'] > 30]\n",
    "print(filtered)"
   ]
  },
  {
   "cell_type": "markdown",
   "id": "292c4a24",
   "metadata": {},
   "source": [
    "#### Modifying data"
   ]
  },
  {
   "cell_type": "code",
   "execution_count": 14,
   "id": "3517afd3",
   "metadata": {},
   "outputs": [
    {
     "data": {
      "application/vnd.microsoft.datawrangler.viewer.v0+json": {
       "columns": [
        {
         "name": "index",
         "rawType": "int64",
         "type": "integer"
        },
        {
         "name": "Name",
         "rawType": "object",
         "type": "string"
        },
        {
         "name": "Age",
         "rawType": "int64",
         "type": "integer"
        },
        {
         "name": "Pagar",
         "rawType": "int64",
         "type": "integer"
        }
       ],
       "ref": "e55d60c5-0c15-436a-8732-38495eed6225",
       "rows": [
        [
         "0",
         "Alice",
         "25",
         "10000"
        ],
        [
         "1",
         "Bob",
         "30",
         "20000"
        ],
        [
         "2",
         "Charlie",
         "35",
         "1000"
        ]
       ],
       "shape": {
        "columns": 3,
        "rows": 3
       }
      },
      "text/html": [
       "<div>\n",
       "<style scoped>\n",
       "    .dataframe tbody tr th:only-of-type {\n",
       "        vertical-align: middle;\n",
       "    }\n",
       "\n",
       "    .dataframe tbody tr th {\n",
       "        vertical-align: top;\n",
       "    }\n",
       "\n",
       "    .dataframe thead th {\n",
       "        text-align: right;\n",
       "    }\n",
       "</style>\n",
       "<table border=\"1\" class=\"dataframe\">\n",
       "  <thead>\n",
       "    <tr style=\"text-align: right;\">\n",
       "      <th></th>\n",
       "      <th>Name</th>\n",
       "      <th>Age</th>\n",
       "      <th>Pagar</th>\n",
       "    </tr>\n",
       "  </thead>\n",
       "  <tbody>\n",
       "    <tr>\n",
       "      <th>0</th>\n",
       "      <td>Alice</td>\n",
       "      <td>25</td>\n",
       "      <td>10000</td>\n",
       "    </tr>\n",
       "    <tr>\n",
       "      <th>1</th>\n",
       "      <td>Bob</td>\n",
       "      <td>30</td>\n",
       "      <td>20000</td>\n",
       "    </tr>\n",
       "    <tr>\n",
       "      <th>2</th>\n",
       "      <td>Charlie</td>\n",
       "      <td>35</td>\n",
       "      <td>1000</td>\n",
       "    </tr>\n",
       "  </tbody>\n",
       "</table>\n",
       "</div>"
      ],
      "text/plain": [
       "      Name  Age  Pagar\n",
       "0    Alice   25  10000\n",
       "1      Bob   30  20000\n",
       "2  Charlie   35   1000"
      ]
     },
     "execution_count": 14,
     "metadata": {},
     "output_type": "execute_result"
    }
   ],
   "source": [
    "df['Pagar']= [10000,20000,1000]\n",
    "df"
   ]
  },
  {
   "cell_type": "code",
   "execution_count": 15,
   "id": "27a216bc",
   "metadata": {},
   "outputs": [
    {
     "data": {
      "application/vnd.microsoft.datawrangler.viewer.v0+json": {
       "columns": [
        {
         "name": "index",
         "rawType": "int64",
         "type": "integer"
        },
        {
         "name": "Name",
         "rawType": "object",
         "type": "string"
        },
        {
         "name": "Age",
         "rawType": "int64",
         "type": "integer"
        },
        {
         "name": "Pagar",
         "rawType": "int64",
         "type": "integer"
        }
       ],
       "ref": "594f0e5a-e7f0-40f3-a367-4df9c03cf90b",
       "rows": [
        [
         "0",
         "Alice",
         "25",
         "10100"
        ],
        [
         "1",
         "Bob",
         "30",
         "20100"
        ],
        [
         "2",
         "Charlie",
         "35",
         "1100"
        ]
       ],
       "shape": {
        "columns": 3,
        "rows": 3
       }
      },
      "text/html": [
       "<div>\n",
       "<style scoped>\n",
       "    .dataframe tbody tr th:only-of-type {\n",
       "        vertical-align: middle;\n",
       "    }\n",
       "\n",
       "    .dataframe tbody tr th {\n",
       "        vertical-align: top;\n",
       "    }\n",
       "\n",
       "    .dataframe thead th {\n",
       "        text-align: right;\n",
       "    }\n",
       "</style>\n",
       "<table border=\"1\" class=\"dataframe\">\n",
       "  <thead>\n",
       "    <tr style=\"text-align: right;\">\n",
       "      <th></th>\n",
       "      <th>Name</th>\n",
       "      <th>Age</th>\n",
       "      <th>Pagar</th>\n",
       "    </tr>\n",
       "  </thead>\n",
       "  <tbody>\n",
       "    <tr>\n",
       "      <th>0</th>\n",
       "      <td>Alice</td>\n",
       "      <td>25</td>\n",
       "      <td>10100</td>\n",
       "    </tr>\n",
       "    <tr>\n",
       "      <th>1</th>\n",
       "      <td>Bob</td>\n",
       "      <td>30</td>\n",
       "      <td>20100</td>\n",
       "    </tr>\n",
       "    <tr>\n",
       "      <th>2</th>\n",
       "      <td>Charlie</td>\n",
       "      <td>35</td>\n",
       "      <td>1100</td>\n",
       "    </tr>\n",
       "  </tbody>\n",
       "</table>\n",
       "</div>"
      ],
      "text/plain": [
       "      Name  Age  Pagar\n",
       "0    Alice   25  10100\n",
       "1      Bob   30  20100\n",
       "2  Charlie   35   1100"
      ]
     },
     "execution_count": 15,
     "metadata": {},
     "output_type": "execute_result"
    }
   ],
   "source": [
    "df['Pagar'] = df['Pagar']+ 100\n",
    "df"
   ]
  },
  {
   "cell_type": "code",
   "execution_count": 16,
   "id": "df2c1239",
   "metadata": {},
   "outputs": [],
   "source": [
    "data = {'Name':['Alice', 'Bob', None], 'Age': [25, None, 35]}\n",
    "df = pd.DataFrame(data)"
   ]
  },
  {
   "cell_type": "code",
   "execution_count": 17,
   "id": "3fdcdabd",
   "metadata": {},
   "outputs": [
    {
     "name": "stdout",
     "output_type": "stream",
     "text": [
      "    Name    Age\n",
      "0  False  False\n",
      "1  False   True\n",
      "2   True  False\n"
     ]
    }
   ],
   "source": [
    "print(df.isna()) # this will show true where there is null value "
   ]
  },
  {
   "cell_type": "code",
   "execution_count": 18,
   "id": "70fcbb62",
   "metadata": {},
   "outputs": [
    {
     "data": {
      "application/vnd.microsoft.datawrangler.viewer.v0+json": {
       "columns": [
        {
         "name": "index",
         "rawType": "int64",
         "type": "integer"
        },
        {
         "name": "Name",
         "rawType": "object",
         "type": "string"
        },
        {
         "name": "Age",
         "rawType": "float64",
         "type": "float"
        }
       ],
       "ref": "2bd99bcd-4749-42ab-8f61-69c4610317bb",
       "rows": [
        [
         "0",
         "Alice",
         "25.0"
        ],
        [
         "1",
         "Bob",
         "30.0"
        ],
        [
         "2",
         "Anonymous",
         "35.0"
        ]
       ],
       "shape": {
        "columns": 2,
        "rows": 3
       }
      },
      "text/html": [
       "<div>\n",
       "<style scoped>\n",
       "    .dataframe tbody tr th:only-of-type {\n",
       "        vertical-align: middle;\n",
       "    }\n",
       "\n",
       "    .dataframe tbody tr th {\n",
       "        vertical-align: top;\n",
       "    }\n",
       "\n",
       "    .dataframe thead th {\n",
       "        text-align: right;\n",
       "    }\n",
       "</style>\n",
       "<table border=\"1\" class=\"dataframe\">\n",
       "  <thead>\n",
       "    <tr style=\"text-align: right;\">\n",
       "      <th></th>\n",
       "      <th>Name</th>\n",
       "      <th>Age</th>\n",
       "    </tr>\n",
       "  </thead>\n",
       "  <tbody>\n",
       "    <tr>\n",
       "      <th>0</th>\n",
       "      <td>Alice</td>\n",
       "      <td>25.0</td>\n",
       "    </tr>\n",
       "    <tr>\n",
       "      <th>1</th>\n",
       "      <td>Bob</td>\n",
       "      <td>30.0</td>\n",
       "    </tr>\n",
       "    <tr>\n",
       "      <th>2</th>\n",
       "      <td>Anonymous</td>\n",
       "      <td>35.0</td>\n",
       "    </tr>\n",
       "  </tbody>\n",
       "</table>\n",
       "</div>"
      ],
      "text/plain": [
       "        Name   Age\n",
       "0      Alice  25.0\n",
       "1        Bob  30.0\n",
       "2  Anonymous  35.0"
      ]
     },
     "execution_count": 18,
     "metadata": {},
     "output_type": "execute_result"
    }
   ],
   "source": [
    "df['Age'] = df['Age'].fillna(df['Age'].mean())\n",
    "df['Name'] = df['Name'].fillna('Anonymous')\n",
    "df"
   ]
  },
  {
   "cell_type": "code",
   "execution_count": 19,
   "id": "0bdd826d",
   "metadata": {},
   "outputs": [],
   "source": [
    "# df = df.dropna()  this is to drop the null values from the file it will drop the entire row"
   ]
  },
  {
   "cell_type": "markdown",
   "id": "8bd3ffbc",
   "metadata": {},
   "source": [
    "#### Grouping and Aggregating"
   ]
  },
  {
   "cell_type": "code",
   "execution_count": 20,
   "id": "9d396435",
   "metadata": {},
   "outputs": [
    {
     "name": "stdout",
     "output_type": "stream",
     "text": [
      "Department\n",
      "HR    30.0\n",
      "IT    30.0\n",
      "Name: Age, dtype: float64\n"
     ]
    }
   ],
   "source": [
    "df['Department'] = ['HR', 'IT', 'HR']\n",
    "# Group by Department and calculate mean Age\n",
    "grouped = df.groupby('Department')['Age'].mean()\n",
    "print(grouped)"
   ]
  },
  {
   "cell_type": "code",
   "execution_count": 21,
   "id": "4d950b7b",
   "metadata": {},
   "outputs": [
    {
     "data": {
      "application/vnd.microsoft.datawrangler.viewer.v0+json": {
       "columns": [
        {
         "name": "index",
         "rawType": "int64",
         "type": "integer"
        },
        {
         "name": "Name",
         "rawType": "object",
         "type": "string"
        },
        {
         "name": "Age",
         "rawType": "float64",
         "type": "float"
        },
        {
         "name": "Department",
         "rawType": "object",
         "type": "string"
        }
       ],
       "ref": "b8d5ef9d-9fb6-4058-9057-da206a909457",
       "rows": [
        [
         "0",
         "Alice",
         "25.0",
         "HR"
        ],
        [
         "1",
         "Bob",
         "30.0",
         "IT"
        ],
        [
         "2",
         "Anonymous",
         "35.0",
         "HR"
        ]
       ],
       "shape": {
        "columns": 3,
        "rows": 3
       }
      },
      "text/html": [
       "<div>\n",
       "<style scoped>\n",
       "    .dataframe tbody tr th:only-of-type {\n",
       "        vertical-align: middle;\n",
       "    }\n",
       "\n",
       "    .dataframe tbody tr th {\n",
       "        vertical-align: top;\n",
       "    }\n",
       "\n",
       "    .dataframe thead th {\n",
       "        text-align: right;\n",
       "    }\n",
       "</style>\n",
       "<table border=\"1\" class=\"dataframe\">\n",
       "  <thead>\n",
       "    <tr style=\"text-align: right;\">\n",
       "      <th></th>\n",
       "      <th>Name</th>\n",
       "      <th>Age</th>\n",
       "      <th>Department</th>\n",
       "    </tr>\n",
       "  </thead>\n",
       "  <tbody>\n",
       "    <tr>\n",
       "      <th>0</th>\n",
       "      <td>Alice</td>\n",
       "      <td>25.0</td>\n",
       "      <td>HR</td>\n",
       "    </tr>\n",
       "    <tr>\n",
       "      <th>1</th>\n",
       "      <td>Bob</td>\n",
       "      <td>30.0</td>\n",
       "      <td>IT</td>\n",
       "    </tr>\n",
       "    <tr>\n",
       "      <th>2</th>\n",
       "      <td>Anonymous</td>\n",
       "      <td>35.0</td>\n",
       "      <td>HR</td>\n",
       "    </tr>\n",
       "  </tbody>\n",
       "</table>\n",
       "</div>"
      ],
      "text/plain": [
       "        Name   Age Department\n",
       "0      Alice  25.0         HR\n",
       "1        Bob  30.0         IT\n",
       "2  Anonymous  35.0         HR"
      ]
     },
     "execution_count": 21,
     "metadata": {},
     "output_type": "execute_result"
    }
   ],
   "source": [
    "df"
   ]
  },
  {
   "cell_type": "markdown",
   "id": "758d92f1",
   "metadata": {},
   "source": [
    "#### Meerging data"
   ]
  },
  {
   "cell_type": "code",
   "execution_count": 22,
   "id": "ca7811f2",
   "metadata": {},
   "outputs": [
    {
     "data": {
      "application/vnd.microsoft.datawrangler.viewer.v0+json": {
       "columns": [
        {
         "name": "index",
         "rawType": "int64",
         "type": "integer"
        },
        {
         "name": "Name",
         "rawType": "object",
         "type": "string"
        },
        {
         "name": "Age",
         "rawType": "int64",
         "type": "integer"
        }
       ],
       "ref": "58e403a1-f166-4810-b247-3ca1ff48c0b8",
       "rows": [
        [
         "0",
         "Alice",
         "25"
        ],
        [
         "1",
         "Bob",
         "30"
        ]
       ],
       "shape": {
        "columns": 2,
        "rows": 2
       }
      },
      "text/html": [
       "<div>\n",
       "<style scoped>\n",
       "    .dataframe tbody tr th:only-of-type {\n",
       "        vertical-align: middle;\n",
       "    }\n",
       "\n",
       "    .dataframe tbody tr th {\n",
       "        vertical-align: top;\n",
       "    }\n",
       "\n",
       "    .dataframe thead th {\n",
       "        text-align: right;\n",
       "    }\n",
       "</style>\n",
       "<table border=\"1\" class=\"dataframe\">\n",
       "  <thead>\n",
       "    <tr style=\"text-align: right;\">\n",
       "      <th></th>\n",
       "      <th>Name</th>\n",
       "      <th>Age</th>\n",
       "    </tr>\n",
       "  </thead>\n",
       "  <tbody>\n",
       "    <tr>\n",
       "      <th>0</th>\n",
       "      <td>Alice</td>\n",
       "      <td>25</td>\n",
       "    </tr>\n",
       "    <tr>\n",
       "      <th>1</th>\n",
       "      <td>Bob</td>\n",
       "      <td>30</td>\n",
       "    </tr>\n",
       "  </tbody>\n",
       "</table>\n",
       "</div>"
      ],
      "text/plain": [
       "    Name  Age\n",
       "0  Alice   25\n",
       "1    Bob   30"
      ]
     },
     "execution_count": 22,
     "metadata": {},
     "output_type": "execute_result"
    }
   ],
   "source": [
    "#Concatenate the data\n",
    "df1 = pd.DataFrame({'Name': ['Alice'], 'Age': [25]})\n",
    "df2 = pd.DataFrame({'Name': ['Bob'], 'Age': [30]})\n",
    "combined = pd.concat([df1, df2], ignore_index=True)\n",
    "combined"
   ]
  },
  {
   "cell_type": "code",
   "execution_count": 23,
   "id": "a5f18584",
   "metadata": {},
   "outputs": [
    {
     "name": "stdout",
     "output_type": "stream",
     "text": [
      "    Name  ID  Salary\n",
      "0  Alice   1   50000\n",
      "1    Bob   2   60000\n"
     ]
    }
   ],
   "source": [
    "df1 = pd.DataFrame({'Name': ['Alice', 'Bob'], 'ID': [1, 2]})\n",
    "df2 = pd.DataFrame({'ID': [1, 2], 'Salary': [50000, 60000]})\n",
    "merged = pd.merge(df1, df2, on='ID')\n",
    "print(merged)"
   ]
  },
  {
   "cell_type": "markdown",
   "id": "4080a0b7",
   "metadata": {},
   "source": [
    "### Data Preprocessing"
   ]
  },
  {
   "cell_type": "code",
   "execution_count": 24,
   "id": "6c703095",
   "metadata": {},
   "outputs": [
    {
     "name": "stdout",
     "output_type": "stream",
     "text": [
      "     NAME  Age     City\n",
      "0   Nirav   18  NewYork\n",
      "1   Thapa   19   London\n",
      "2  Pirate   20    Paris\n"
     ]
    }
   ],
   "source": [
    "data = {\n",
    "    'NAME':['Nirav','Thapa','Pirate'],\n",
    "    \"Age\":[18,19,20],\n",
    "    'City':['NewYork', 'London', 'Paris']\n",
    "}\n",
    "df = pd.DataFrame(data)\n",
    "print(df)"
   ]
  },
  {
   "cell_type": "code",
   "execution_count": 25,
   "id": "8efdd043",
   "metadata": {},
   "outputs": [
    {
     "name": "stdout",
     "output_type": "stream",
     "text": [
      "     NAME  Age  City_London  City_NewYork  City_Paris\n",
      "0   Nirav   18        False          True       False\n",
      "1   Thapa   19         True         False       False\n",
      "2  Pirate   20        False         False        True\n",
      "\n",
      "     NAME  Age     City\n",
      "0   Nirav   18  NewYork\n",
      "1   Thapa   19   London\n",
      "2  Pirate   20    Paris\n"
     ]
    }
   ],
   "source": [
    "df_encoded = pd.get_dummies(df, columns=['City'])\n",
    "print(df_encoded)\n",
    "print()\n",
    "print(df)"
   ]
  },
  {
   "cell_type": "code",
   "execution_count": 26,
   "id": "a20d541d",
   "metadata": {},
   "outputs": [],
   "source": [
    "df['Age_Group'] = pd.cut(df['Age'], bins=[0, 30, 50, 100], labels=['Young', 'Adult', 'Senior'])"
   ]
  },
  {
   "cell_type": "code",
   "execution_count": 27,
   "id": "4ae5dbc3",
   "metadata": {},
   "outputs": [
    {
     "data": {
      "application/vnd.microsoft.datawrangler.viewer.v0+json": {
       "columns": [
        {
         "name": "index",
         "rawType": "int64",
         "type": "integer"
        },
        {
         "name": "NAME",
         "rawType": "object",
         "type": "string"
        },
        {
         "name": "Age",
         "rawType": "int64",
         "type": "integer"
        },
        {
         "name": "City",
         "rawType": "object",
         "type": "string"
        },
        {
         "name": "Age_Group",
         "rawType": "category",
         "type": "unknown"
        }
       ],
       "ref": "6b8cbb22-0672-4f42-9fe7-b29e26a09496",
       "rows": [
        [
         "0",
         "Nirav",
         "18",
         "NewYork",
         "Young"
        ],
        [
         "1",
         "Thapa",
         "19",
         "London",
         "Young"
        ],
        [
         "2",
         "Pirate",
         "20",
         "Paris",
         "Young"
        ]
       ],
       "shape": {
        "columns": 4,
        "rows": 3
       }
      },
      "text/html": [
       "<div>\n",
       "<style scoped>\n",
       "    .dataframe tbody tr th:only-of-type {\n",
       "        vertical-align: middle;\n",
       "    }\n",
       "\n",
       "    .dataframe tbody tr th {\n",
       "        vertical-align: top;\n",
       "    }\n",
       "\n",
       "    .dataframe thead th {\n",
       "        text-align: right;\n",
       "    }\n",
       "</style>\n",
       "<table border=\"1\" class=\"dataframe\">\n",
       "  <thead>\n",
       "    <tr style=\"text-align: right;\">\n",
       "      <th></th>\n",
       "      <th>NAME</th>\n",
       "      <th>Age</th>\n",
       "      <th>City</th>\n",
       "      <th>Age_Group</th>\n",
       "    </tr>\n",
       "  </thead>\n",
       "  <tbody>\n",
       "    <tr>\n",
       "      <th>0</th>\n",
       "      <td>Nirav</td>\n",
       "      <td>18</td>\n",
       "      <td>NewYork</td>\n",
       "      <td>Young</td>\n",
       "    </tr>\n",
       "    <tr>\n",
       "      <th>1</th>\n",
       "      <td>Thapa</td>\n",
       "      <td>19</td>\n",
       "      <td>London</td>\n",
       "      <td>Young</td>\n",
       "    </tr>\n",
       "    <tr>\n",
       "      <th>2</th>\n",
       "      <td>Pirate</td>\n",
       "      <td>20</td>\n",
       "      <td>Paris</td>\n",
       "      <td>Young</td>\n",
       "    </tr>\n",
       "  </tbody>\n",
       "</table>\n",
       "</div>"
      ],
      "text/plain": [
       "     NAME  Age     City Age_Group\n",
       "0   Nirav   18  NewYork     Young\n",
       "1   Thapa   19   London     Young\n",
       "2  Pirate   20    Paris     Young"
      ]
     },
     "execution_count": 27,
     "metadata": {},
     "output_type": "execute_result"
    }
   ],
   "source": [
    "df"
   ]
  },
  {
   "cell_type": "code",
   "execution_count": 34,
   "id": "fe9e6ad8",
   "metadata": {},
   "outputs": [
    {
     "data": {
      "image/png": "[encoded data removed]",
      "text/plain": [
       "<Figure size 640x480 with 1 Axes>"
      ]
     },
     "metadata": {},
     "output_type": "display_data"
    }
   ],
   "source": [
    "import matplotlib.pyplot as plt\n",
    "plt.pie(df['Age'], labels=[18,19,20])\n",
    "plt.show()"
   ]
  },
  {
   "cell_type": "code",
   "execution_count": 38,
   "id": "9dda492a",
   "metadata": {},
   "outputs": [
    {
     "name": "stdout",
     "output_type": "stream",
     "text": [
      "   CustomerID     Name   Age  Gender      City   Income    Education  \\\n",
      "0           1    Alice  25.0    Male  New York  50000.0  High School   \n",
      "1           2      Bob  30.0  Female    London  60000.0   Bachelor’s   \n",
      "2           3  Charlie  35.0    Male     Paris  75000.0     Master’s   \n",
      "3           4    Diana   NaN  Female     Tokyo  45000.0   Bachelor’s   \n",
      "4           5     Emma  28.0    Male  New York  52000.0  High School   \n",
      "\n",
      "  Purchase_Date Product_Category  Target  \n",
      "0    2023-01-15      Electronics       1  \n",
      "1    2023-02-20         Clothing       0  \n",
      "2    2023-03-10            Books       1  \n",
      "3    2023-04-05      Electronics       0  \n",
      "4    2023-05-12         Clothing       1  \n",
      "<class 'pandas.core.frame.DataFrame'>\n",
      "RangeIndex: 20 entries, 0 to 19\n",
      "Data columns (total 10 columns):\n",
      " #   Column            Non-Null Count  Dtype  \n",
      "---  ------            --------------  -----  \n",
      " 0   CustomerID        20 non-null     int64  \n",
      " 1   Name              20 non-null     object \n",
      " 2   Age               18 non-null     float64\n",
      " 3   Gender            20 non-null     object \n",
      " 4   City              20 non-null     object \n",
      " 5   Income            18 non-null     float64\n",
      " 6   Education         20 non-null     object \n",
      " 7   Purchase_Date     20 non-null     object \n",
      " 8   Product_Category  20 non-null     object \n",
      " 9   Target            20 non-null     int64  \n",
      "dtypes: float64(2), int64(2), object(6)\n",
      "memory usage: 1.7+ KB\n",
      "None\n",
      "       CustomerID        Age        Income     Target\n",
      "count    20.00000  18.000000     18.000000  20.000000\n",
      "mean     10.50000  32.833333  60500.000000   0.550000\n",
      "std       5.91608   5.680203  11210.551752   0.510418\n",
      "min       1.00000  25.000000  45000.000000   0.000000\n",
      "25%       5.75000  29.000000  51250.000000   0.000000\n",
      "50%      10.50000  31.500000  58000.000000   1.000000\n",
      "75%      15.25000  36.500000  68750.000000   1.000000\n",
      "max      20.00000  45.000000  80000.000000   1.000000\n"
     ]
    }
   ],
   "source": [
    "import pandas as pd\n",
    "\n",
    "# Load data\n",
    "df = pd.read_csv('customers.csv')\n",
    "\n",
    "# Step 1: Explore data\n",
    "print(df.head())\n",
    "print(df.info())\n",
    "print(df.describe())\n",
    "\n",
    "# Step 2: Handle missing values\n",
    "df['Age'] = df['Age'].fillna(df['Age'].mean())\n",
    "df['Income'] = df['Income'].fillna(df['Income'].median())\n",
    "\n",
    "# Step 3: Remove duplicates\n",
    "df = df.drop_duplicates()\n",
    "\n",
    "# Step 4: Encode categorical variables\n",
    "df = pd.get_dummies(df, columns=['Gender', 'City'])\n",
    "\n",
    "# Step 5: Filter outliers\n",
    "df = df[df['Age'] < 100]\n",
    "\n",
    "# Step 6: Create features\n",
    "df['Income_per_Age'] = df['Income'] / df['Age']\n",
    "\n",
    "# Step 7: Prepare for ML\n",
    "X = df.drop('Target', axis=1).to_numpy()  # Features\n",
    "y = df['Target'].to_numpy()  # Labels\n",
    "\n",
    "# Step 8: Save cleaned data\n",
    "# df.to_csv('cleaned_customers.csv', index=False)"
   ]
  },
  {
   "cell_type": "code",
   "execution_count": 43,
   "id": "e63070a3",
   "metadata": {},
   "outputs": [
    {
     "data": {
      "application/vnd.microsoft.datawrangler.viewer.v0+json": {
       "columns": [
        {
         "name": "index",
         "rawType": "int64",
         "type": "integer"
        },
        {
         "name": "CustomerID",
         "rawType": "int64",
         "type": "integer"
        },
        {
         "name": "Name",
         "rawType": "object",
         "type": "string"
        },
        {
         "name": "Age",
         "rawType": "float64",
         "type": "float"
        },
        {
         "name": "Gender",
         "rawType": "object",
         "type": "string"
        },
        {
         "name": "City",
         "rawType": "object",
         "type": "string"
        },
        {
         "name": "Income",
         "rawType": "float64",
         "type": "float"
        },
        {
         "name": "Education",
         "rawType": "object",
         "type": "string"
        },
        {
         "name": "Purchase_Date",
         "rawType": "object",
         "type": "string"
        },
        {
         "name": "Product_Category",
         "rawType": "object",
         "type": "string"
        },
        {
         "name": "Target",
         "rawType": "int64",
         "type": "integer"
        }
       ],
       "ref": "1e7ae0b7-0fdb-4883-92c1-8c25956993c7",
       "rows": [
        [
         "0",
         "1",
         "Alice",
         "25.0",
         "Male",
         "New York",
         "50000.0",
         "High School",
         "2023-01-15",
         "Electronics",
         "1"
        ],
        [
         "1",
         "2",
         "Bob",
         "30.0",
         "Female",
         "London",
         "60000.0",
         "Bachelor’s",
         "2023-02-20",
         "Clothing",
         "0"
        ],
        [
         "2",
         "3",
         "Charlie",
         "35.0",
         "Male",
         "Paris",
         "75000.0",
         "Master’s",
         "2023-03-10",
         "Books",
         "1"
        ],
        [
         "3",
         "4",
         "Diana",
         null,
         "Female",
         "Tokyo",
         "45000.0",
         "Bachelor’s",
         "2023-04-05",
         "Electronics",
         "0"
        ],
        [
         "4",
         "5",
         "Emma",
         "28.0",
         "Male",
         "New York",
         "52000.0",
         "High School",
         "2023-05-12",
         "Clothing",
         "1"
        ],
        [
         "5",
         "6",
         "Frank",
         "40.0",
         "Female",
         "London",
         null,
         "Master’s",
         "2023-06-18",
         "Books",
         "1"
        ],
        [
         "6",
         "7",
         "Grace",
         "32.0",
         "Male",
         "Paris",
         "68000.0",
         "Bachelor’s",
         "2023-07-22",
         "Electronics",
         "0"
        ],
        [
         "7",
         "8",
         "Henry",
         "27.0",
         "Female",
         "Tokyo",
         "47000.0",
         "High School",
         "2023-08-30",
         "Clothing",
         "1"
        ],
        [
         "8",
         "9",
         "Isabella",
         "45.0",
         "Male",
         "New York",
         "80000.0",
         "Master’s",
         "2023-09-14",
         "Books",
         "0"
        ],
        [
         "9",
         "10",
         "Jack",
         "33.0",
         "Female",
         "London",
         "55000.0",
         "Bachelor’s",
         "2023-10-01",
         "Electronics",
         "1"
        ],
        [
         "10",
         "11",
         "Kate",
         "29.0",
         "Male",
         "Paris",
         "62000.0",
         "High School",
         "2023-11-05",
         "Clothing",
         "0"
        ],
        [
         "11",
         "12",
         "Liam",
         null,
         "Female",
         "Tokyo",
         "49000.0",
         "Bachelor’s",
         "2023-12-10",
         "Books",
         "1"
        ],
        [
         "12",
         "13",
         "Mia",
         "38.0",
         "Male",
         "New York",
         "72000.0",
         "Master’s",
         "2024-01-20",
         "Electronics",
         "0"
        ],
        [
         "13",
         "14",
         "Noah",
         "26.0",
         "Female",
         "London",
         "51000.0",
         "High School",
         "2024-02-25",
         "Clothing",
         "1"
        ],
        [
         "14",
         "15",
         "Olivia",
         "31.0",
         "Male",
         "Paris",
         "67000.0",
         "Bachelor’s",
         "2024-03-15",
         "Books",
         "0"
        ],
        [
         "15",
         "16",
         "Paul",
         "34.0",
         "Female",
         "Tokyo",
         null,
         "Master’s",
         "2024-04-22",
         "Electronics",
         "1"
        ],
        [
         "16",
         "17",
         "Quinn",
         "42.0",
         "Male",
         "New York",
         "78000.0",
         "High School",
         "2024-05-30",
         "Clothing",
         "0"
        ],
        [
         "17",
         "18",
         "Rachel",
         "29.0",
         "Female",
         "London",
         "53000.0",
         "Bachelor’s",
         "2024-06-10",
         "Books",
         "1"
        ],
        [
         "18",
         "19",
         "Sam",
         "37.0",
         "Male",
         "Paris",
         "69000.0",
         "Master’s",
         "2024-07-15",
         "Electronics",
         "0"
        ],
        [
         "19",
         "20",
         "Tina",
         "30.0",
         "Female",
         "Tokyo",
         "56000.0",
         "High School",
         "2024-08-20",
         "Clothing",
         "1"
        ]
       ],
       "shape": {
        "columns": 10,
        "rows": 20
       }
      },
      "text/html": [
       "<div>\n",
       "<style scoped>\n",
       "    .dataframe tbody tr th:only-of-type {\n",
       "        vertical-align: middle;\n",
       "    }\n",
       "\n",
       "    .dataframe tbody tr th {\n",
       "        vertical-align: top;\n",
       "    }\n",
       "\n",
       "    .dataframe thead th {\n",
       "        text-align: right;\n",
       "    }\n",
       "</style>\n",
       "<table border=\"1\" class=\"dataframe\">\n",
       "  <thead>\n",
       "    <tr style=\"text-align: right;\">\n",
       "      <th></th>\n",
       "      <th>CustomerID</th>\n",
       "      <th>Name</th>\n",
       "      <th>Age</th>\n",
       "      <th>Gender</th>\n",
       "      <th>City</th>\n",
       "      <th>Income</th>\n",
       "      <th>Education</th>\n",
       "      <th>Purchase_Date</th>\n",
       "      <th>Product_Category</th>\n",
       "      <th>Target</th>\n",
       "    </tr>\n",
       "  </thead>\n",
       "  <tbody>\n",
       "    <tr>\n",
       "      <th>0</th>\n",
       "      <td>1</td>\n",
       "      <td>Alice</td>\n",
       "      <td>25.0</td>\n",
       "      <td>Male</td>\n",
       "      <td>New York</td>\n",
       "      <td>50000.0</td>\n",
       "      <td>High School</td>\n",
       "      <td>2023-01-15</td>\n",
       "      <td>Electronics</td>\n",
       "      <td>1</td>\n",
       "    </tr>\n",
       "    <tr>\n",
       "      <th>1</th>\n",
       "      <td>2</td>\n",
       "      <td>Bob</td>\n",
       "      <td>30.0</td>\n",
       "      <td>Female</td>\n",
       "      <td>London</td>\n",
       "      <td>60000.0</td>\n",
       "      <td>Bachelor’s</td>\n",
       "      <td>2023-02-20</td>\n",
       "      <td>Clothing</td>\n",
       "      <td>0</td>\n",
       "    </tr>\n",
       "    <tr>\n",
       "      <th>2</th>\n",
       "      <td>3</td>\n",
       "      <td>Charlie</td>\n",
       "      <td>35.0</td>\n",
       "      <td>Male</td>\n",
       "      <td>Paris</td>\n",
       "      <td>75000.0</td>\n",
       "      <td>Master’s</td>\n",
       "      <td>2023-03-10</td>\n",
       "      <td>Books</td>\n",
       "      <td>1</td>\n",
       "    </tr>\n",
       "    <tr>\n",
       "      <th>3</th>\n",
       "      <td>4</td>\n",
       "      <td>Diana</td>\n",
       "      <td>NaN</td>\n",
       "      <td>Female</td>\n",
       "      <td>Tokyo</td>\n",
       "      <td>45000.0</td>\n",
       "      <td>Bachelor’s</td>\n",
       "      <td>2023-04-05</td>\n",
       "      <td>Electronics</td>\n",
       "      <td>0</td>\n",
       "    </tr>\n",
       "    <tr>\n",
       "      <th>4</th>\n",
       "      <td>5</td>\n",
       "      <td>Emma</td>\n",
       "      <td>28.0</td>\n",
       "      <td>Male</td>\n",
       "      <td>New York</td>\n",
       "      <td>52000.0</td>\n",
       "      <td>High School</td>\n",
       "      <td>2023-05-12</td>\n",
       "      <td>Clothing</td>\n",
       "      <td>1</td>\n",
       "    </tr>\n",
       "    <tr>\n",
       "      <th>5</th>\n",
       "      <td>6</td>\n",
       "      <td>Frank</td>\n",
       "      <td>40.0</td>\n",
       "      <td>Female</td>\n",
       "      <td>London</td>\n",
       "      <td>NaN</td>\n",
       "      <td>Master’s</td>\n",
       "      <td>2023-06-18</td>\n",
       "      <td>Books</td>\n",
       "      <td>1</td>\n",
       "    </tr>\n",
       "    <tr>\n",
       "      <th>6</th>\n",
       "      <td>7</td>\n",
       "      <td>Grace</td>\n",
       "      <td>32.0</td>\n",
       "      <td>Male</td>\n",
       "      <td>Paris</td>\n",
       "      <td>68000.0</td>\n",
       "      <td>Bachelor’s</td>\n",
       "      <td>2023-07-22</td>\n",
       "      <td>Electronics</td>\n",
       "      <td>0</td>\n",
       "    </tr>\n",
       "    <tr>\n",
       "      <th>7</th>\n",
       "      <td>8</td>\n",
       "      <td>Henry</td>\n",
       "      <td>27.0</td>\n",
       "      <td>Female</td>\n",
       "      <td>Tokyo</td>\n",
       "      <td>47000.0</td>\n",
       "      <td>High School</td>\n",
       "      <td>2023-08-30</td>\n",
       "      <td>Clothing</td>\n",
       "      <td>1</td>\n",
       "    </tr>\n",
       "    <tr>\n",
       "      <th>8</th>\n",
       "      <td>9</td>\n",
       "      <td>Isabella</td>\n",
       "      <td>45.0</td>\n",
       "      <td>Male</td>\n",
       "      <td>New York</td>\n",
       "      <td>80000.0</td>\n",
       "      <td>Master’s</td>\n",
       "      <td>2023-09-14</td>\n",
       "      <td>Books</td>\n",
       "      <td>0</td>\n",
       "    </tr>\n",
       "    <tr>\n",
       "      <th>9</th>\n",
       "      <td>10</td>\n",
       "      <td>Jack</td>\n",
       "      <td>33.0</td>\n",
       "      <td>Female</td>\n",
       "      <td>London</td>\n",
       "      <td>55000.0</td>\n",
       "      <td>Bachelor’s</td>\n",
       "      <td>2023-10-01</td>\n",
       "      <td>Electronics</td>\n",
       "      <td>1</td>\n",
       "    </tr>\n",
       "    <tr>\n",
       "      <th>10</th>\n",
       "      <td>11</td>\n",
       "      <td>Kate</td>\n",
       "      <td>29.0</td>\n",
       "      <td>Male</td>\n",
       "      <td>Paris</td>\n",
       "      <td>62000.0</td>\n",
       "      <td>High School</td>\n",
       "      <td>2023-11-05</td>\n",
       "      <td>Clothing</td>\n",
       "      <td>0</td>\n",
       "    </tr>\n",
       "    <tr>\n",
       "      <th>11</th>\n",
       "      <td>12</td>\n",
       "      <td>Liam</td>\n",
       "      <td>NaN</td>\n",
       "      <td>Female</td>\n",
       "      <td>Tokyo</td>\n",
       "      <td>49000.0</td>\n",
       "      <td>Bachelor’s</td>\n",
       "      <td>2023-12-10</td>\n",
       "      <td>Books</td>\n",
       "      <td>1</td>\n",
       "    </tr>\n",
       "    <tr>\n",
       "      <th>12</th>\n",
       "      <td>13</td>\n",
       "      <td>Mia</td>\n",
       "      <td>38.0</td>\n",
       "      <td>Male</td>\n",
       "      <td>New York</td>\n",
       "      <td>72000.0</td>\n",
       "      <td>Master’s</td>\n",
       "      <td>2024-01-20</td>\n",
       "      <td>Electronics</td>\n",
       "      <td>0</td>\n",
       "    </tr>\n",
       "    <tr>\n",
       "      <th>13</th>\n",
       "      <td>14</td>\n",
       "      <td>Noah</td>\n",
       "      <td>26.0</td>\n",
       "      <td>Female</td>\n",
       "      <td>London</td>\n",
       "      <td>51000.0</td>\n",
       "      <td>High School</td>\n",
       "      <td>2024-02-25</td>\n",
       "      <td>Clothing</td>\n",
       "      <td>1</td>\n",
       "    </tr>\n",
       "    <tr>\n",
       "      <th>14</th>\n",
       "      <td>15</td>\n",
       "      <td>Olivia</td>\n",
       "      <td>31.0</td>\n",
       "      <td>Male</td>\n",
       "      <td>Paris</td>\n",
       "      <td>67000.0</td>\n",
       "      <td>Bachelor’s</td>\n",
       "      <td>2024-03-15</td>\n",
       "      <td>Books</td>\n",
       "      <td>0</td>\n",
       "    </tr>\n",
       "    <tr>\n",
       "      <th>15</th>\n",
       "      <td>16</td>\n",
       "      <td>Paul</td>\n",
       "      <td>34.0</td>\n",
       "      <td>Female</td>\n",
       "      <td>Tokyo</td>\n",
       "      <td>NaN</td>\n",
       "      <td>Master’s</td>\n",
       "      <td>2024-04-22</td>\n",
       "      <td>Electronics</td>\n",
       "      <td>1</td>\n",
       "    </tr>\n",
       "    <tr>\n",
       "      <th>16</th>\n",
       "      <td>17</td>\n",
       "      <td>Quinn</td>\n",
       "      <td>42.0</td>\n",
       "      <td>Male</td>\n",
       "      <td>New York</td>\n",
       "      <td>78000.0</td>\n",
       "      <td>High School</td>\n",
       "      <td>2024-05-30</td>\n",
       "      <td>Clothing</td>\n",
       "      <td>0</td>\n",
       "    </tr>\n",
       "    <tr>\n",
       "      <th>17</th>\n",
       "      <td>18</td>\n",
       "      <td>Rachel</td>\n",
       "      <td>29.0</td>\n",
       "      <td>Female</td>\n",
       "      <td>London</td>\n",
       "      <td>53000.0</td>\n",
       "      <td>Bachelor’s</td>\n",
       "      <td>2024-06-10</td>\n",
       "      <td>Books</td>\n",
       "      <td>1</td>\n",
       "    </tr>\n",
       "    <tr>\n",
       "      <th>18</th>\n",
       "      <td>19</td>\n",
       "      <td>Sam</td>\n",
       "      <td>37.0</td>\n",
       "      <td>Male</td>\n",
       "      <td>Paris</td>\n",
       "      <td>69000.0</td>\n",
       "      <td>Master’s</td>\n",
       "      <td>2024-07-15</td>\n",
       "      <td>Electronics</td>\n",
       "      <td>0</td>\n",
       "    </tr>\n",
       "    <tr>\n",
       "      <th>19</th>\n",
       "      <td>20</td>\n",
       "      <td>Tina</td>\n",
       "      <td>30.0</td>\n",
       "      <td>Female</td>\n",
       "      <td>Tokyo</td>\n",
       "      <td>56000.0</td>\n",
       "      <td>High School</td>\n",
       "      <td>2024-08-20</td>\n",
       "      <td>Clothing</td>\n",
       "      <td>1</td>\n",
       "    </tr>\n",
       "  </tbody>\n",
       "</table>\n",
       "</div>"
      ],
      "text/plain": [
       "    CustomerID      Name   Age  Gender      City   Income    Education  \\\n",
       "0            1     Alice  25.0    Male  New York  50000.0  High School   \n",
       "1            2       Bob  30.0  Female    London  60000.0   Bachelor’s   \n",
       "2            3   Charlie  35.0    Male     Paris  75000.0     Master’s   \n",
       "3            4     Diana   NaN  Female     Tokyo  45000.0   Bachelor’s   \n",
       "4            5      Emma  28.0    Male  New York  52000.0  High School   \n",
       "5            6     Frank  40.0  Female    London      NaN     Master’s   \n",
       "6            7     Grace  32.0    Male     Paris  68000.0   Bachelor’s   \n",
       "7            8     Henry  27.0  Female     Tokyo  47000.0  High School   \n",
       "8            9  Isabella  45.0    Male  New York  80000.0     Master’s   \n",
       "9           10      Jack  33.0  Female    London  55000.0   Bachelor’s   \n",
       "10          11      Kate  29.0    Male     Paris  62000.0  High School   \n",
       "11          12      Liam   NaN  Female     Tokyo  49000.0   Bachelor’s   \n",
       "12          13       Mia  38.0    Male  New York  72000.0     Master’s   \n",
       "13          14      Noah  26.0  Female    London  51000.0  High School   \n",
       "14          15    Olivia  31.0    Male     Paris  67000.0   Bachelor’s   \n",
       "15          16      Paul  34.0  Female     Tokyo      NaN     Master’s   \n",
       "16          17     Quinn  42.0    Male  New York  78000.0  High School   \n",
       "17          18    Rachel  29.0  Female    London  53000.0   Bachelor’s   \n",
       "18          19       Sam  37.0    Male     Paris  69000.0     Master’s   \n",
       "19          20      Tina  30.0  Female     Tokyo  56000.0  High School   \n",
       "\n",
       "   Purchase_Date Product_Category  Target  \n",
       "0     2023-01-15      Electronics       1  \n",
       "1     2023-02-20         Clothing       0  \n",
       "2     2023-03-10            Books       1  \n",
       "3     2023-04-05      Electronics       0  \n",
       "4     2023-05-12         Clothing       1  \n",
       "5     2023-06-18            Books       1  \n",
       "6     2023-07-22      Electronics       0  \n",
       "7     2023-08-30         Clothing       1  \n",
       "8     2023-09-14            Books       0  \n",
       "9     2023-10-01      Electronics       1  \n",
       "10    2023-11-05         Clothing       0  \n",
       "11    2023-12-10            Books       1  \n",
       "12    2024-01-20      Electronics       0  \n",
       "13    2024-02-25         Clothing       1  \n",
       "14    2024-03-15            Books       0  \n",
       "15    2024-04-22      Electronics       1  \n",
       "16    2024-05-30         Clothing       0  \n",
       "17    2024-06-10            Books       1  \n",
       "18    2024-07-15      Electronics       0  \n",
       "19    2024-08-20         Clothing       1  "
      ]
     },
     "execution_count": 43,
     "metadata": {},
     "output_type": "execute_result"
    }
   ],
   "source": [
    "df = pd.read_csv('customers.csv')\n",
    "dfgc = pd.get_dummies(df, columns=['Gender', 'City'])\n",
    "df"
   ]
  },
  {
   "cell_type": "markdown",
   "id": "0cd18ca6",
   "metadata": {},
   "source": [
    "### Correlattion \n",
    "In Pandas, correlation refers to the statistical relationship between two or more variables — specifically, how they change together.\n",
    "\n",
    "📌 DataFrame.corr() in Pandas:\n",
    "This method calculates the Pearson correlation coefficient between numeric columns."
   ]
  },
  {
   "cell_type": "markdown",
   "id": "0d642d45",
   "metadata": {},
   "source": [
    "### "
   ]
  },
  {
   "cell_type": "code",
   "execution_count": 1,
   "id": "08a45876",
   "metadata": {},
   "outputs": [
    {
     "name": "stdout",
     "output_type": "stream",
     "text": [
      "            Horsepower     Price   Mileage\n",
      "Horsepower    1.000000  0.991515 -0.999078\n",
      "Price         0.991515  1.000000 -0.989949\n",
      "Mileage      -0.999078 -0.989949  1.000000\n"
     ]
    }
   ],
   "source": [
    "import pandas as pd\n",
    "\n",
    "# Sample DataFrame\n",
    "df = pd.DataFrame({\n",
    "    'Horsepower': [130, 250, 190, 300],\n",
    "    'Price': [20000, 50000, 30000, 60000],\n",
    "    'Mileage': [30, 20, 25, 15]\n",
    "})\n",
    "\n",
    "# Compute correlation matrix\n",
    "correlation_matrix = df.corr()\n",
    "print(correlation_matrix)"
   ]
  },
  {
   "cell_type": "code",
   "execution_count": null,
   "id": "425f5cf8",
   "metadata": {},
   "outputs": [],
   "source": []
  }
 ],
 "metadata": {
  "kernelspec": {
   "display_name": "venv",
   "language": "python",
   "name": "python3"
  },
  "language_info": {
   "codemirror_mode": {
    "name": "ipython",
    "version": 3
   },
   "file_extension": ".py",
   "mimetype": "text/x-python",
   "name": "python",
   "nbconvert_exporter": "python",
   "pygments_lexer": "ipython3",
   "version": "3.13.4"
  }
 },
 "nbformat": 4,
 "nbformat_minor": 5
}
