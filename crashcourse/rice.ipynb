{
 "cells": [
  {
   "cell_type": "code",
   "execution_count": 2,
   "id": "8f211cc5",
   "metadata": {},
   "outputs": [
    {
     "name": "stdout",
     "output_type": "stream",
     "text": [
      "Ran the import statements.\n"
     ]
    }
   ],
   "source": [
    "import io\n",
    "import keras\n",
    "from matplotlib import pyplot as plt\n",
    "from matplotlib.lines import Line2D\n",
    "import ml_edu.experiment\n",
    "import ml_edu.results\n",
    "import numpy as np\n",
    "import pandas as pd\n",
    "import plotly.express as px\n",
    "\n",
    "# The following lines adjust the granularity of reporting.\n",
    "pd.options.display.max_rows = 10\n",
    "pd.options.display.float_format = \"{:.1f}\".format\n",
    "\n",
    "print(\"Ran the import statements.\")"
   ]
  },
  {
   "cell_type": "code",
   "execution_count": 3,
   "id": "32d50f51",
   "metadata": {},
   "outputs": [],
   "source": [
    "rice_dataset_raw = pd.read_csv(\"https://download.mlcc.google.com/mledu-datasets/Rice_Cammeo_Osmancik.csv\")"
   ]
  },
  {
   "cell_type": "code",
   "execution_count": 4,
   "id": "9d67478b",
   "metadata": {},
   "outputs": [
    {
     "data": {
      "application/vnd.microsoft.datawrangler.viewer.v0+json": {
       "columns": [
        {
         "name": "index",
         "rawType": "int64",
         "type": "integer"
        },
        {
         "name": "Area",
         "rawType": "int64",
         "type": "integer"
        },
        {
         "name": "Perimeter",
         "rawType": "float64",
         "type": "float"
        },
        {
         "name": "Major_Axis_Length",
         "rawType": "float64",
         "type": "float"
        },
        {
         "name": "Minor_Axis_Length",
         "rawType": "float64",
         "type": "float"
        },
        {
         "name": "Eccentricity",
         "rawType": "float64",
         "type": "float"
        },
        {
         "name": "Convex_Area",
         "rawType": "int64",
         "type": "integer"
        },
        {
         "name": "Extent",
         "rawType": "float64",
         "type": "float"
        },
        {
         "name": "Class",
         "rawType": "object",
         "type": "string"
        }
       ],
       "ref": "a689cf71-833e-4ead-af2e-c7fddc068af3",
       "rows": [
        [
         "0",
         "15231",
         "525.578979492188",
         "229.749877929688",
         "85.0937881469727",
         "0.928882002830505",
         "15617",
         "0.572895526885986",
         "Cammeo"
        ],
        [
         "1",
         "14656",
         "494.311004638672",
         "206.020065307617",
         "91.7309722900391",
         "0.895404994487763",
         "15072",
         "0.615436315536499",
         "Cammeo"
        ],
        [
         "2",
         "14634",
         "501.122009277344",
         "214.106781005859",
         "87.7682876586914",
         "0.912118077278137",
         "14954",
         "0.693258821964264",
         "Cammeo"
        ],
        [
         "3",
         "13176",
         "458.342987060547",
         "193.337387084961",
         "87.4483947753906",
         "0.891860902309418",
         "13368",
         "0.640669047832489",
         "Cammeo"
        ],
        [
         "4",
         "14688",
         "507.1669921875",
         "211.743377685547",
         "89.3124542236328",
         "0.906690895557404",
         "15262",
         "0.64602392911911",
         "Cammeo"
        ],
        [
         "5",
         "13479",
         "477.015991210938",
         "200.05305480957",
         "86.6502914428711",
         "0.901328325271606",
         "13786",
         "0.657897293567658",
         "Cammeo"
        ],
        [
         "6",
         "15757",
         "509.281005859375",
         "207.296676635742",
         "98.3361358642578",
         "0.880323469638825",
         "16150",
         "0.589708089828491",
         "Cammeo"
        ],
        [
         "7",
         "16405",
         "526.570007324219",
         "221.612518310547",
         "95.4367065429688",
         "0.902520596981049",
         "16837",
         "0.658888280391693",
         "Cammeo"
        ],
        [
         "8",
         "14534",
         "483.640991210938",
         "196.650817871094",
         "95.0506820678711",
         "0.875428557395935",
         "14932",
         "0.649651348590851",
         "Cammeo"
        ],
        [
         "9",
         "13485",
         "471.570007324219",
         "198.272644042969",
         "87.7272872924805",
         "0.896789312362671",
         "13734",
         "0.572319865226746",
         "Cammeo"
        ],
        [
         "10",
         "14930",
         "499.924987792969",
         "212.245819091797",
         "90.0174789428711",
         "0.90560644865036",
         "15248",
         "0.624372720718384",
         "Cammeo"
        ],
        [
         "11",
         "14626",
         "496.585998535156",
         "204.534133911133",
         "92.9748687744141",
         "0.890711545944214",
         "15070",
         "0.570214450359345",
         "Cammeo"
        ],
        [
         "12",
         "15926",
         "522.739990234375",
         "225.736053466797",
         "91.0570907592773",
         "0.915033161640167",
         "16240",
         "0.779768884181976",
         "Cammeo"
        ],
        [
         "13",
         "14076",
         "479.677001953125",
         "199.489151000977",
         "90.7099838256836",
         "0.890638887882233",
         "14434",
         "0.781218767166138",
         "Cammeo"
        ],
        [
         "14",
         "13500",
         "476.915008544922",
         "202.546676635742",
         "85.4054718017578",
         "0.906754851341248",
         "13800",
         "0.717703342437744",
         "Cammeo"
        ],
        [
         "15",
         "14349",
         "496.946014404297",
         "213.544021606445",
         "86.160774230957",
         "0.914988398551941",
         "14678",
         "0.666837096214294",
         "Cammeo"
        ],
        [
         "16",
         "15209",
         "496.565002441406",
         "214.050079345703",
         "91.0263214111328",
         "0.905072569847107",
         "15395",
         "0.569369554519653",
         "Cammeo"
        ],
        [
         "17",
         "15238",
         "496.871002197266",
         "208.531784057617",
         "93.8283996582031",
         "0.893054902553558",
         "15487",
         "0.732314467430115",
         "Cammeo"
        ],
        [
         "18",
         "13509",
         "480.466003417969",
         "207.137161254883",
         "83.9401626586914",
         "0.914210557937622",
         "13732",
         "0.595634937286377",
         "Cammeo"
        ],
        [
         "19",
         "13699",
         "480.72900390625",
         "197.970916748047",
         "89.9490737915039",
         "0.890820741653442",
         "14178",
         "0.672046720981598",
         "Cammeo"
        ],
        [
         "20",
         "13921",
         "481.993011474609",
         "203.444869995117",
         "88.1258163452148",
         "0.901313185691834",
         "14210",
         "0.561330616474152",
         "Cammeo"
        ],
        [
         "21",
         "14405",
         "488.236999511719",
         "204.430130004883",
         "90.6264572143555",
         "0.896367073059082",
         "14742",
         "0.763785779476166",
         "Cammeo"
        ],
        [
         "22",
         "13377",
         "472.960998535156",
         "199.940780639648",
         "86.6828689575195",
         "0.901133000850678",
         "13685",
         "0.794830679893494",
         "Cammeo"
        ],
        [
         "23",
         "15043",
         "498.299011230469",
         "206.011703491211",
         "94.7666854858398",
         "0.887915670871735",
         "15414",
         "0.58688360452652",
         "Cammeo"
        ],
        [
         "24",
         "14590",
         "496.171997070313",
         "212.10075378418",
         "88.602409362793",
         "0.908567845821381",
         "14883",
         "0.571484506130219",
         "Cammeo"
        ],
        [
         "25",
         "13237",
         "466.002990722656",
         "197.904800415039",
         "85.7095718383789",
         "0.901353180408478",
         "13445",
         "0.592418551445007",
         "Cammeo"
        ],
        [
         "26",
         "16226",
         "524.205017089844",
         "216.873260498047",
         "96.653678894043",
         "0.895197868347168",
         "16748",
         "0.648624897003174",
         "Cammeo"
        ],
        [
         "27",
         "13203",
         "469.466003417969",
         "199.341857910156",
         "85.3895721435547",
         "0.903609395027161",
         "13431",
         "0.601558208465576",
         "Cammeo"
        ],
        [
         "28",
         "13328",
         "473.044006347656",
         "201.398864746094",
         "85.2586059570313",
         "0.905974566936493",
         "13588",
         "0.780099511146545",
         "Cammeo"
        ],
        [
         "29",
         "14945",
         "493.108001708984",
         "202.046981811523",
         "95.0794143676758",
         "0.882356941699982",
         "15357",
         "0.739998042583466",
         "Cammeo"
        ],
        [
         "30",
         "13130",
         "467.921997070313",
         "196.14680480957",
         "86.2071151733398",
         "0.898241102695465",
         "13462",
         "0.574818313121796",
         "Cammeo"
        ],
        [
         "31",
         "13414",
         "479.901000976563",
         "203.085968017578",
         "85.7368774414063",
         "0.906516492366791",
         "13735",
         "0.714042365550995",
         "Cammeo"
        ],
        [
         "32",
         "16104",
         "507.428985595703",
         "206.070739746094",
         "100.753631591797",
         "0.872324466705322",
         "16457",
         "0.605413556098938",
         "Cammeo"
        ],
        [
         "33",
         "11827",
         "455.221008300781",
         "194.784454345703",
         "78.4315338134766",
         "0.915350496768951",
         "12212",
         "0.769986987113953",
         "Cammeo"
        ],
        [
         "34",
         "14479",
         "475.924987792969",
         "200.551940917969",
         "92.1780624389648",
         "0.88811469078064",
         "14696",
         "0.711428880691528",
         "Cammeo"
        ],
        [
         "35",
         "14306",
         "482.247985839844",
         "197.685791015625",
         "94.0561065673828",
         "0.879561126232147",
         "14667",
         "0.587950050830841",
         "Cammeo"
        ],
        [
         "36",
         "14415",
         "488.122009277344",
         "203.592849731445",
         "91.0347290039063",
         "0.894463419914246",
         "14758",
         "0.674102127552033",
         "Cammeo"
        ],
        [
         "37",
         "14415",
         "490.066009521484",
         "206.539245605469",
         "90.0175323486328",
         "0.900025427341461",
         "14671",
         "0.653326690196991",
         "Cammeo"
        ],
        [
         "38",
         "14524",
         "480.212005615234",
         "199.933013916016",
         "93.3121032714844",
         "0.884406805038452",
         "14808",
         "0.611279487609863",
         "Cammeo"
        ],
        [
         "39",
         "13780",
         "497.428009033203",
         "221.722900390625",
         "79.9521331787109",
         "0.932722568511963",
         "14010",
         "0.550781428813934",
         "Cammeo"
        ],
        [
         "40",
         "12768",
         "464.820007324219",
         "195.388153076172",
         "84.3599166870117",
         "0.901990652084351",
         "13085",
         "0.582987070083618",
         "Cammeo"
        ],
        [
         "41",
         "13047",
         "486.368988037109",
         "213.194473266602",
         "79.2888717651367",
         "0.928269326686859",
         "13621",
         "0.615424513816834",
         "Cammeo"
        ],
        [
         "42",
         "14456",
         "492.950988769531",
         "212.411224365234",
         "87.3601303100586",
         "0.911509811878204",
         "14726",
         "0.795028328895569",
         "Cammeo"
        ],
        [
         "43",
         "13973",
         "474.007995605469",
         "192.34928894043",
         "93.7791442871094",
         "0.873097240924835",
         "14354",
         "0.614197790622711",
         "Cammeo"
        ],
        [
         "44",
         "13858",
         "482.579986572266",
         "205.020156860352",
         "86.9646759033203",
         "0.905579686164856",
         "14154",
         "0.555921077728272",
         "Cammeo"
        ],
        [
         "45",
         "13148",
         "481.721984863281",
         "201.518890380859",
         "84.5415344238281",
         "0.90774530172348",
         "13572",
         "0.623748779296875",
         "Cammeo"
        ],
        [
         "46",
         "12792",
         "462.072998046875",
         "194.481002807617",
         "84.7308883666992",
         "0.900103092193604",
         "13032",
         "0.593927025794983",
         "Cammeo"
        ],
        [
         "47",
         "15778",
         "515.273010253906",
         "214.037841796875",
         "95.4976654052734",
         "0.894947290420532",
         "16283",
         "0.686298370361328",
         "Cammeo"
        ],
        [
         "48",
         "15404",
         "509.516998291016",
         "217.297576904297",
         "91.3975372314453",
         "0.907241523265839",
         "15696",
         "0.633700847625732",
         "Cammeo"
        ],
        [
         "49",
         "14911",
         "494.088989257813",
         "207.560241699219",
         "92.4106063842773",
         "0.895419716835022",
         "15132",
         "0.60476154088974",
         "Cammeo"
        ]
       ],
       "shape": {
        "columns": 8,
        "rows": 3810
       }
      },
      "text/html": [
       "<div>\n",
       "<style scoped>\n",
       "    .dataframe tbody tr th:only-of-type {\n",
       "        vertical-align: middle;\n",
       "    }\n",
       "\n",
       "    .dataframe tbody tr th {\n",
       "        vertical-align: top;\n",
       "    }\n",
       "\n",
       "    .dataframe thead th {\n",
       "        text-align: right;\n",
       "    }\n",
       "</style>\n",
       "<table border=\"1\" class=\"dataframe\">\n",
       "  <thead>\n",
       "    <tr style=\"text-align: right;\">\n",
       "      <th></th>\n",
       "      <th>Area</th>\n",
       "      <th>Perimeter</th>\n",
       "      <th>Major_Axis_Length</th>\n",
       "      <th>Minor_Axis_Length</th>\n",
       "      <th>Eccentricity</th>\n",
       "      <th>Convex_Area</th>\n",
       "      <th>Extent</th>\n",
       "      <th>Class</th>\n",
       "    </tr>\n",
       "  </thead>\n",
       "  <tbody>\n",
       "    <tr>\n",
       "      <th>0</th>\n",
       "      <td>15231</td>\n",
       "      <td>525.6</td>\n",
       "      <td>229.7</td>\n",
       "      <td>85.1</td>\n",
       "      <td>0.9</td>\n",
       "      <td>15617</td>\n",
       "      <td>0.6</td>\n",
       "      <td>Cammeo</td>\n",
       "    </tr>\n",
       "    <tr>\n",
       "      <th>1</th>\n",
       "      <td>14656</td>\n",
       "      <td>494.3</td>\n",
       "      <td>206.0</td>\n",
       "      <td>91.7</td>\n",
       "      <td>0.9</td>\n",
       "      <td>15072</td>\n",
       "      <td>0.6</td>\n",
       "      <td>Cammeo</td>\n",
       "    </tr>\n",
       "    <tr>\n",
       "      <th>2</th>\n",
       "      <td>14634</td>\n",
       "      <td>501.1</td>\n",
       "      <td>214.1</td>\n",
       "      <td>87.8</td>\n",
       "      <td>0.9</td>\n",
       "      <td>14954</td>\n",
       "      <td>0.7</td>\n",
       "      <td>Cammeo</td>\n",
       "    </tr>\n",
       "    <tr>\n",
       "      <th>3</th>\n",
       "      <td>13176</td>\n",
       "      <td>458.3</td>\n",
       "      <td>193.3</td>\n",
       "      <td>87.4</td>\n",
       "      <td>0.9</td>\n",
       "      <td>13368</td>\n",
       "      <td>0.6</td>\n",
       "      <td>Cammeo</td>\n",
       "    </tr>\n",
       "    <tr>\n",
       "      <th>4</th>\n",
       "      <td>14688</td>\n",
       "      <td>507.2</td>\n",
       "      <td>211.7</td>\n",
       "      <td>89.3</td>\n",
       "      <td>0.9</td>\n",
       "      <td>15262</td>\n",
       "      <td>0.6</td>\n",
       "      <td>Cammeo</td>\n",
       "    </tr>\n",
       "    <tr>\n",
       "      <th>...</th>\n",
       "      <td>...</td>\n",
       "      <td>...</td>\n",
       "      <td>...</td>\n",
       "      <td>...</td>\n",
       "      <td>...</td>\n",
       "      <td>...</td>\n",
       "      <td>...</td>\n",
       "      <td>...</td>\n",
       "    </tr>\n",
       "    <tr>\n",
       "      <th>3805</th>\n",
       "      <td>11441</td>\n",
       "      <td>415.9</td>\n",
       "      <td>170.5</td>\n",
       "      <td>85.8</td>\n",
       "      <td>0.9</td>\n",
       "      <td>11628</td>\n",
       "      <td>0.7</td>\n",
       "      <td>Osmancik</td>\n",
       "    </tr>\n",
       "    <tr>\n",
       "      <th>3806</th>\n",
       "      <td>11625</td>\n",
       "      <td>421.4</td>\n",
       "      <td>167.7</td>\n",
       "      <td>89.5</td>\n",
       "      <td>0.8</td>\n",
       "      <td>11904</td>\n",
       "      <td>0.7</td>\n",
       "      <td>Osmancik</td>\n",
       "    </tr>\n",
       "    <tr>\n",
       "      <th>3807</th>\n",
       "      <td>12437</td>\n",
       "      <td>442.5</td>\n",
       "      <td>183.6</td>\n",
       "      <td>86.8</td>\n",
       "      <td>0.9</td>\n",
       "      <td>12645</td>\n",
       "      <td>0.6</td>\n",
       "      <td>Osmancik</td>\n",
       "    </tr>\n",
       "    <tr>\n",
       "      <th>3808</th>\n",
       "      <td>9882</td>\n",
       "      <td>392.3</td>\n",
       "      <td>161.2</td>\n",
       "      <td>78.2</td>\n",
       "      <td>0.9</td>\n",
       "      <td>10097</td>\n",
       "      <td>0.7</td>\n",
       "      <td>Osmancik</td>\n",
       "    </tr>\n",
       "    <tr>\n",
       "      <th>3809</th>\n",
       "      <td>11434</td>\n",
       "      <td>404.7</td>\n",
       "      <td>161.1</td>\n",
       "      <td>90.9</td>\n",
       "      <td>0.8</td>\n",
       "      <td>11591</td>\n",
       "      <td>0.8</td>\n",
       "      <td>Osmancik</td>\n",
       "    </tr>\n",
       "  </tbody>\n",
       "</table>\n",
       "<p>3810 rows × 8 columns</p>\n",
       "</div>"
      ],
      "text/plain": [
       "       Area  Perimeter  Major_Axis_Length  Minor_Axis_Length  Eccentricity  \\\n",
       "0     15231      525.6              229.7               85.1           0.9   \n",
       "1     14656      494.3              206.0               91.7           0.9   \n",
       "2     14634      501.1              214.1               87.8           0.9   \n",
       "3     13176      458.3              193.3               87.4           0.9   \n",
       "4     14688      507.2              211.7               89.3           0.9   \n",
       "...     ...        ...                ...                ...           ...   \n",
       "3805  11441      415.9              170.5               85.8           0.9   \n",
       "3806  11625      421.4              167.7               89.5           0.8   \n",
       "3807  12437      442.5              183.6               86.8           0.9   \n",
       "3808   9882      392.3              161.2               78.2           0.9   \n",
       "3809  11434      404.7              161.1               90.9           0.8   \n",
       "\n",
       "      Convex_Area  Extent     Class  \n",
       "0           15617     0.6    Cammeo  \n",
       "1           15072     0.6    Cammeo  \n",
       "2           14954     0.7    Cammeo  \n",
       "3           13368     0.6    Cammeo  \n",
       "4           15262     0.6    Cammeo  \n",
       "...           ...     ...       ...  \n",
       "3805        11628     0.7  Osmancik  \n",
       "3806        11904     0.7  Osmancik  \n",
       "3807        12645     0.6  Osmancik  \n",
       "3808        10097     0.7  Osmancik  \n",
       "3809        11591     0.8  Osmancik  \n",
       "\n",
       "[3810 rows x 8 columns]"
      ]
     },
     "execution_count": 4,
     "metadata": {},
     "output_type": "execute_result"
    }
   ],
   "source": [
    "rice_dataset_raw"
   ]
  },
  {
   "cell_type": "code",
   "execution_count": 5,
   "id": "592ca3c8",
   "metadata": {},
   "outputs": [
    {
     "data": {
      "application/vnd.microsoft.datawrangler.viewer.v0+json": {
       "columns": [
        {
         "name": "index",
         "rawType": "object",
         "type": "string"
        },
        {
         "name": "Area",
         "rawType": "float64",
         "type": "float"
        },
        {
         "name": "Perimeter",
         "rawType": "float64",
         "type": "float"
        },
        {
         "name": "Major_Axis_Length",
         "rawType": "float64",
         "type": "float"
        },
        {
         "name": "Minor_Axis_Length",
         "rawType": "float64",
         "type": "float"
        },
        {
         "name": "Eccentricity",
         "rawType": "float64",
         "type": "float"
        },
        {
         "name": "Convex_Area",
         "rawType": "float64",
         "type": "float"
        },
        {
         "name": "Extent",
         "rawType": "float64",
         "type": "float"
        }
       ],
       "ref": "a2559bb0-513b-450d-ba47-b40be9046670",
       "rows": [
        [
         "count",
         "3810.0",
         "3810.0",
         "3810.0",
         "3810.0",
         "3810.0",
         "3810.0",
         "3810.0"
        ],
        [
         "mean",
         "12667.727559055118",
         "454.23918014886823",
         "188.77622197669328",
         "86.31375037165765",
         "0.886870506742182",
         "12952.496850393702",
         "0.6619340379094202"
        ],
        [
         "std",
         "1732.3677060741602",
         "35.59708144273355",
         "17.44867850174685",
         "5.729817333643741",
         "0.020817634100477742",
         "1776.9720420835554",
         "0.07723877328752676"
        ],
        [
         "min",
         "7551.0",
         "359.100006103516",
         "145.264465332031",
         "59.5324058532715",
         "0.777232587337494",
         "7723.0",
         "0.497412860393524"
        ],
        [
         "25%",
         "11370.5",
         "426.1447525024413",
         "174.35385513305698",
         "82.73169517517087",
         "0.8724015206098554",
         "11626.25",
         "0.5988622605800632"
        ],
        [
         "50%",
         "12421.5",
         "448.85249328613247",
         "185.81005859375",
         "86.43464660644534",
         "0.8890500962734225",
         "12706.5",
         "0.645361423492432"
        ],
        [
         "75%",
         "13950.0",
         "483.6837463378905",
         "203.55043792724575",
         "90.14367675781247",
         "0.9025879800319672",
         "14284.0",
         "0.726561561226845"
        ],
        [
         "max",
         "18913.0",
         "548.445983886719",
         "239.010498046875",
         "107.542449951172",
         "0.948006927967072",
         "19099.0",
         "0.86104953289032"
        ]
       ],
       "shape": {
        "columns": 7,
        "rows": 8
       }
      },
      "text/html": [
       "<div>\n",
       "<style scoped>\n",
       "    .dataframe tbody tr th:only-of-type {\n",
       "        vertical-align: middle;\n",
       "    }\n",
       "\n",
       "    .dataframe tbody tr th {\n",
       "        vertical-align: top;\n",
       "    }\n",
       "\n",
       "    .dataframe thead th {\n",
       "        text-align: right;\n",
       "    }\n",
       "</style>\n",
       "<table border=\"1\" class=\"dataframe\">\n",
       "  <thead>\n",
       "    <tr style=\"text-align: right;\">\n",
       "      <th></th>\n",
       "      <th>Area</th>\n",
       "      <th>Perimeter</th>\n",
       "      <th>Major_Axis_Length</th>\n",
       "      <th>Minor_Axis_Length</th>\n",
       "      <th>Eccentricity</th>\n",
       "      <th>Convex_Area</th>\n",
       "      <th>Extent</th>\n",
       "    </tr>\n",
       "  </thead>\n",
       "  <tbody>\n",
       "    <tr>\n",
       "      <th>count</th>\n",
       "      <td>3810.0</td>\n",
       "      <td>3810.0</td>\n",
       "      <td>3810.0</td>\n",
       "      <td>3810.0</td>\n",
       "      <td>3810.0</td>\n",
       "      <td>3810.0</td>\n",
       "      <td>3810.0</td>\n",
       "    </tr>\n",
       "    <tr>\n",
       "      <th>mean</th>\n",
       "      <td>12667.7</td>\n",
       "      <td>454.2</td>\n",
       "      <td>188.8</td>\n",
       "      <td>86.3</td>\n",
       "      <td>0.9</td>\n",
       "      <td>12952.5</td>\n",
       "      <td>0.7</td>\n",
       "    </tr>\n",
       "    <tr>\n",
       "      <th>std</th>\n",
       "      <td>1732.4</td>\n",
       "      <td>35.6</td>\n",
       "      <td>17.4</td>\n",
       "      <td>5.7</td>\n",
       "      <td>0.0</td>\n",
       "      <td>1777.0</td>\n",
       "      <td>0.1</td>\n",
       "    </tr>\n",
       "    <tr>\n",
       "      <th>min</th>\n",
       "      <td>7551.0</td>\n",
       "      <td>359.1</td>\n",
       "      <td>145.3</td>\n",
       "      <td>59.5</td>\n",
       "      <td>0.8</td>\n",
       "      <td>7723.0</td>\n",
       "      <td>0.5</td>\n",
       "    </tr>\n",
       "    <tr>\n",
       "      <th>25%</th>\n",
       "      <td>11370.5</td>\n",
       "      <td>426.1</td>\n",
       "      <td>174.4</td>\n",
       "      <td>82.7</td>\n",
       "      <td>0.9</td>\n",
       "      <td>11626.2</td>\n",
       "      <td>0.6</td>\n",
       "    </tr>\n",
       "    <tr>\n",
       "      <th>50%</th>\n",
       "      <td>12421.5</td>\n",
       "      <td>448.9</td>\n",
       "      <td>185.8</td>\n",
       "      <td>86.4</td>\n",
       "      <td>0.9</td>\n",
       "      <td>12706.5</td>\n",
       "      <td>0.6</td>\n",
       "    </tr>\n",
       "    <tr>\n",
       "      <th>75%</th>\n",
       "      <td>13950.0</td>\n",
       "      <td>483.7</td>\n",
       "      <td>203.6</td>\n",
       "      <td>90.1</td>\n",
       "      <td>0.9</td>\n",
       "      <td>14284.0</td>\n",
       "      <td>0.7</td>\n",
       "    </tr>\n",
       "    <tr>\n",
       "      <th>max</th>\n",
       "      <td>18913.0</td>\n",
       "      <td>548.4</td>\n",
       "      <td>239.0</td>\n",
       "      <td>107.5</td>\n",
       "      <td>0.9</td>\n",
       "      <td>19099.0</td>\n",
       "      <td>0.9</td>\n",
       "    </tr>\n",
       "  </tbody>\n",
       "</table>\n",
       "</div>"
      ],
      "text/plain": [
       "         Area  Perimeter  Major_Axis_Length  Minor_Axis_Length  Eccentricity  \\\n",
       "count  3810.0     3810.0             3810.0             3810.0        3810.0   \n",
       "mean  12667.7      454.2              188.8               86.3           0.9   \n",
       "std    1732.4       35.6               17.4                5.7           0.0   \n",
       "min    7551.0      359.1              145.3               59.5           0.8   \n",
       "25%   11370.5      426.1              174.4               82.7           0.9   \n",
       "50%   12421.5      448.9              185.8               86.4           0.9   \n",
       "75%   13950.0      483.7              203.6               90.1           0.9   \n",
       "max   18913.0      548.4              239.0              107.5           0.9   \n",
       "\n",
       "       Convex_Area  Extent  \n",
       "count       3810.0  3810.0  \n",
       "mean       12952.5     0.7  \n",
       "std         1777.0     0.1  \n",
       "min         7723.0     0.5  \n",
       "25%        11626.2     0.6  \n",
       "50%        12706.5     0.6  \n",
       "75%        14284.0     0.7  \n",
       "max        19099.0     0.9  "
      ]
     },
     "execution_count": 5,
     "metadata": {},
     "output_type": "execute_result"
    }
   ],
   "source": [
    "rice_dataset = rice_dataset_raw[[\n",
    "    'Area',\n",
    "    'Perimeter',\n",
    "    'Major_Axis_Length',\n",
    "    'Minor_Axis_Length',\n",
    "    'Eccentricity',\n",
    "    'Convex_Area',\n",
    "    'Extent',\n",
    "    'Class',\n",
    "]]\n",
    "\n",
    "rice_dataset.describe()"
   ]
  },
  {
   "cell_type": "code",
   "execution_count": 6,
   "id": "ebeb6b55",
   "metadata": {},
   "outputs": [
    {
     "name": "stdout",
     "output_type": "stream",
     "text": [
      "The shortest grain is 145.3px long, while the longest is 239.0px.\n",
      "The smallest rice grain has an area of 7551px, while the largest has an area of 18913px.\n",
      "The largest rice grain, with a perimeter of 548.4px, is ~2.6 standard deviations (35.6) from the mean (454.2px).\n",
      "This is calculated as: (548.4 - 454.2)/35.6 = 2.6\n"
     ]
    }
   ],
   "source": [
    "print(\n",
    "    f'The shortest grain is {rice_dataset.Major_Axis_Length.min():.1f}px long,'\n",
    "    f' while the longest is {rice_dataset.Major_Axis_Length.max():.1f}px.'\n",
    ")\n",
    "print(\n",
    "    f'The smallest rice grain has an area of {rice_dataset.Area.min()}px, while'\n",
    "    f' the largest has an area of {rice_dataset.Area.max()}px.'\n",
    ")\n",
    "print(\n",
    "    'The largest rice grain, with a perimeter of'\n",
    "    f' {rice_dataset.Perimeter.max():.1f}px, is'\n",
    "    f' ~{(rice_dataset.Perimeter.max() - rice_dataset.Perimeter.mean())/rice_dataset.Perimeter.std():.1f} standard'\n",
    "    f' deviations ({rice_dataset.Perimeter.std():.1f}) from the mean'\n",
    "    f' ({rice_dataset.Perimeter.mean():.1f}px).'\n",
    ")\n",
    "print(\n",
    "    f'This is calculated as: ({rice_dataset.Perimeter.max():.1f} -'\n",
    "    f' {rice_dataset.Perimeter.mean():.1f})/{rice_dataset.Perimeter.std():.1f} ='\n",
    "    f' {(rice_dataset.Perimeter.max() - rice_dataset.Perimeter.mean())/rice_dataset.Perimeter.std():.1f}'\n",
    ")"
   ]
  },
  {
   "cell_type": "code",
   "execution_count": 7,
   "id": "6e6d6d95",
   "metadata": {},
   "outputs": [
    {
     "data": {
      "application/vnd.plotly.v1+json": {
       "config": {
        "plotlyServerURL": "https://plot.ly"
       },
       "data": [
        {
         "hovertemplate": "Class=Cammeo<br>Area=%{x}<br>Eccentricity=%{y}<extra></extra>",
         "legendgroup": "Cammeo",
         "marker": {
          "color": "#636efa",
          "symbol": "circle"
         },
         "mode": "markers",
         "name": "Cammeo",
         "showlegend": true,
         "type": "scattergl",
         "x": {
          "bdata": "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",
          "dtype": "i2"
         },
         "xaxis": "x",
         "y": {
          "bdata": "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",
          "dtype": "f8"
         },
         "yaxis": "y"
        },
        {
         "hovertemplate": "Class=Osmancik<br>Area=%{x}<br>Eccentricity=%{y}<extra></extra>",
         "legendgroup": "Osmancik",
         "marker": {
          "color": "#EF553B",
          "symbol": "circle"
         },
         "mode": "markers",
         "name": "Osmancik",
         "showlegend": true,
         "type": "scattergl",
         "x": {
          "bdata": "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",
          "dtype": "i2"
         },
         "xaxis": "x",
         "y": {
          "bdata": "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",
          "dtype": "f8"
         },
         "yaxis": "y"
        }
       ],
       "layout": {
        "legend": {
         "title": {
          "text": "Class"
         },
         "tracegroupgap": 0
        },
        "margin": {
         "t": 60
        },
        "template": {
         "data": {
          "bar": [
           {
            "error_x": {
             "color": "#2a3f5f"
            },
            "error_y": {
             "color": "#2a3f5f"
            },
            "marker": {
             "line": {
              "color": "#E5ECF6",
              "width": 0.5
             },
             "pattern": {
              "fillmode": "overlay",
              "size": 10,
              "solidity": 0.2
             }
            },
            "type": "bar"
           }
          ],
          "barpolar": [
           {
            "marker": {
             "line": {
              "color": "#E5ECF6",
              "width": 0.5
             },
             "pattern": {
              "fillmode": "overlay",
              "size": 10,
              "solidity": 0.2
             }
            },
            "type": "barpolar"
           }
          ],
          "carpet": [
           {
            "aaxis": {
             "endlinecolor": "#2a3f5f",
             "gridcolor": "white",
             "linecolor": "white",
             "minorgridcolor": "white",
             "startlinecolor": "#2a3f5f"
            },
            "baxis": {
             "endlinecolor": "#2a3f5f",
             "gridcolor": "white",
             "linecolor": "white",
             "minorgridcolor": "white",
             "startlinecolor": "#2a3f5f"
            },
            "type": "carpet"
           }
          ],
          "choropleth": [
           {
            "colorbar": {
             "outlinewidth": 0,
             "ticks": ""
            },
            "type": "choropleth"
           }
          ],
          "contour": [
           {
            "colorbar": {
             "outlinewidth": 0,
             "ticks": ""
            },
            "colorscale": [
             [
              0,
              "#0d0887"
             ],
             [
              0.1111111111111111,
              "#46039f"
             ],
             [
              0.2222222222222222,
              "#7201a8"
             ],
             [
              0.3333333333333333,
              "#9c179e"
             ],
             [
              0.4444444444444444,
              "#bd3786"
             ],
             [
              0.5555555555555556,
              "#d8576b"
             ],
             [
              0.6666666666666666,
              "#ed7953"
             ],
             [
              0.7777777777777778,
              "#fb9f3a"
             ],
             [
              0.8888888888888888,
              "#fdca26"
             ],
             [
              1,
              "#f0f921"
             ]
            ],
            "type": "contour"
           }
          ],
          "contourcarpet": [
           {
            "colorbar": {
             "outlinewidth": 0,
             "ticks": ""
            },
            "type": "contourcarpet"
           }
          ],
          "heatmap": [
           {
            "colorbar": {
             "outlinewidth": 0,
             "ticks": ""
            },
            "colorscale": [
             [
              0,
              "#0d0887"
             ],
             [
              0.1111111111111111,
              "#46039f"
             ],
             [
              0.2222222222222222,
              "#7201a8"
             ],
             [
              0.3333333333333333,
              "#9c179e"
             ],
             [
              0.4444444444444444,
              "#bd3786"
             ],
             [
              0.5555555555555556,
              "#d8576b"
             ],
             [
              0.6666666666666666,
              "#ed7953"
             ],
             [
              0.7777777777777778,
              "#fb9f3a"
             ],
             [
              0.8888888888888888,
              "#fdca26"
             ],
             [
              1,
              "#f0f921"
             ]
            ],
            "type": "heatmap"
           }
          ],
          "histogram": [
           {
            "marker": {
             "pattern": {
              "fillmode": "overlay",
              "size": 10,
              "solidity": 0.2
             }
            },
            "type": "histogram"
           }
          ],
          "histogram2d": [
           {
            "colorbar": {
             "outlinewidth": 0,
             "ticks": ""
            },
            "colorscale": [
             [
              0,
              "#0d0887"
             ],
             [
              0.1111111111111111,
              "#46039f"
             ],
             [
              0.2222222222222222,
              "#7201a8"
             ],
             [
              0.3333333333333333,
              "#9c179e"
             ],
             [
              0.4444444444444444,
              "#bd3786"
             ],
             [
              0.5555555555555556,
              "#d8576b"
             ],
             [
              0.6666666666666666,
              "#ed7953"
             ],
             [
              0.7777777777777778,
              "#fb9f3a"
             ],
             [
              0.8888888888888888,
              "#fdca26"
             ],
             [
              1,
              "#f0f921"
             ]
            ],
            "type": "histogram2d"
           }
          ],
          "histogram2dcontour": [
           {
            "colorbar": {
             "outlinewidth": 0,
             "ticks": ""
            },
            "colorscale": [
             [
              0,
              "#0d0887"
             ],
             [
              0.1111111111111111,
              "#46039f"
             ],
             [
              0.2222222222222222,
              "#7201a8"
             ],
             [
              0.3333333333333333,
              "#9c179e"
             ],
             [
              0.4444444444444444,
              "#bd3786"
             ],
             [
              0.5555555555555556,
              "#d8576b"
             ],
             [
              0.6666666666666666,
              "#ed7953"
             ],
             [
              0.7777777777777778,
              "#fb9f3a"
             ],
             [
              0.8888888888888888,
              "#fdca26"
             ],
             [
              1,
              "#f0f921"
             ]
            ],
            "type": "histogram2dcontour"
           }
          ],
          "mesh3d": [
           {
            "colorbar": {
             "outlinewidth": 0,
             "ticks": ""
            },
            "type": "mesh3d"
           }
          ],
          "parcoords": [
           {
            "line": {
             "colorbar": {
              "outlinewidth": 0,
              "ticks": ""
             }
            },
            "type": "parcoords"
           }
          ],
          "pie": [
           {
            "automargin": true,
            "type": "pie"
           }
          ],
          "scatter": [
           {
            "fillpattern": {
             "fillmode": "overlay",
             "size": 10,
             "solidity": 0.2
            },
            "type": "scatter"
           }
          ],
          "scatter3d": [
           {
            "line": {
             "colorbar": {
              "outlinewidth": 0,
              "ticks": ""
             }
            },
            "marker": {
             "colorbar": {
              "outlinewidth": 0,
              "ticks": ""
             }
            },
            "type": "scatter3d"
           }
          ],
          "scattercarpet": [
           {
            "marker": {
             "colorbar": {
              "outlinewidth": 0,
              "ticks": ""
             }
            },
            "type": "scattercarpet"
           }
          ],
          "scattergeo": [
           {
            "marker": {
             "colorbar": {
              "outlinewidth": 0,
              "ticks": ""
             }
            },
            "type": "scattergeo"
           }
          ],
          "scattergl": [
           {
            "marker": {
             "colorbar": {
              "outlinewidth": 0,
              "ticks": ""
             }
            },
            "type": "scattergl"
           }
          ],
          "scattermap": [
           {
            "marker": {
             "colorbar": {
              "outlinewidth": 0,
              "ticks": ""
             }
            },
            "type": "scattermap"
           }
          ],
          "scattermapbox": [
           {
            "marker": {
             "colorbar": {
              "outlinewidth": 0,
              "ticks": ""
             }
            },
            "type": "scattermapbox"
           }
          ],
          "scatterpolar": [
           {
            "marker": {
             "colorbar": {
              "outlinewidth": 0,
              "ticks": ""
             }
            },
            "type": "scatterpolar"
           }
          ],
          "scatterpolargl": [
           {
            "marker": {
             "colorbar": {
              "outlinewidth": 0,
              "ticks": ""
             }
            },
            "type": "scatterpolargl"
           }
          ],
          "scatterternary": [
           {
            "marker": {
             "colorbar": {
              "outlinewidth": 0,
              "ticks": ""
             }
            },
            "type": "scatterternary"
           }
          ],
          "surface": [
           {
            "colorbar": {
             "outlinewidth": 0,
             "ticks": ""
            },
            "colorscale": [
             [
              0,
              "#0d0887"
             ],
             [
              0.1111111111111111,
              "#46039f"
             ],
             [
              0.2222222222222222,
              "#7201a8"
             ],
             [
              0.3333333333333333,
              "#9c179e"
             ],
             [
              0.4444444444444444,
              "#bd3786"
             ],
             [
              0.5555555555555556,
              "#d8576b"
             ],
             [
              0.6666666666666666,
              "#ed7953"
             ],
             [
              0.7777777777777778,
              "#fb9f3a"
             ],
             [
              0.8888888888888888,
              "#fdca26"
             ],
             [
              1,
              "#f0f921"
             ]
            ],
            "type": "surface"
           }
          ],
          "table": [
           {
            "cells": {
             "fill": {
              "color": "#EBF0F8"
             },
             "line": {
              "color": "white"
             }
            },
            "header": {
             "fill": {
              "color": "#C8D4E3"
             },
             "line": {
              "color": "white"
             }
            },
            "type": "table"
           }
          ]
         },
         "layout": {
          "annotationdefaults": {
           "arrowcolor": "#2a3f5f",
           "arrowhead": 0,
           "arrowwidth": 1
          },
          "autotypenumbers": "strict",
          "coloraxis": {
           "colorbar": {
            "outlinewidth": 0,
            "ticks": ""
           }
          },
          "colorscale": {
           "diverging": [
            [
             0,
             "#8e0152"
            ],
            [
             0.1,
             "#c51b7d"
            ],
            [
             0.2,
             "#de77ae"
            ],
            [
             0.3,
             "#f1b6da"
            ],
            [
             0.4,
             "#fde0ef"
            ],
            [
             0.5,
             "#f7f7f7"
            ],
            [
             0.6,
             "#e6f5d0"
            ],
            [
             0.7,
             "#b8e186"
            ],
            [
             0.8,
             "#7fbc41"
            ],
            [
             0.9,
             "#4d9221"
            ],
            [
             1,
             "#276419"
            ]
           ],
           "sequential": [
            [
             0,
             "#0d0887"
            ],
            [
             0.1111111111111111,
             "#46039f"
            ],
            [
             0.2222222222222222,
             "#7201a8"
            ],
            [
             0.3333333333333333,
             "#9c179e"
            ],
            [
             0.4444444444444444,
             "#bd3786"
            ],
            [
             0.5555555555555556,
             "#d8576b"
            ],
            [
             0.6666666666666666,
             "#ed7953"
            ],
            [
             0.7777777777777778,
             "#fb9f3a"
            ],
            [
             0.8888888888888888,
             "#fdca26"
            ],
            [
             1,
             "#f0f921"
            ]
           ],
           "sequentialminus": [
            [
             0,
             "#0d0887"
            ],
            [
             0.1111111111111111,
             "#46039f"
            ],
            [
             0.2222222222222222,
             "#7201a8"
            ],
            [
             0.3333333333333333,
             "#9c179e"
            ],
            [
             0.4444444444444444,
             "#bd3786"
            ],
            [
             0.5555555555555556,
             "#d8576b"
            ],
            [
             0.6666666666666666,
             "#ed7953"
            ],
            [
             0.7777777777777778,
             "#fb9f3a"
            ],
            [
             0.8888888888888888,
             "#fdca26"
            ],
            [
             1,
             "#f0f921"
            ]
           ]
          },
          "colorway": [
           "#636efa",
           "#EF553B",
           "#00cc96",
           "#ab63fa",
           "#FFA15A",
           "#19d3f3",
           "#FF6692",
           "#B6E880",
           "#FF97FF",
           "#FECB52"
          ],
          "font": {
           "color": "#2a3f5f"
          },
          "geo": {
           "bgcolor": "white",
           "lakecolor": "white",
           "landcolor": "#E5ECF6",
           "showlakes": true,
           "showland": true,
           "subunitcolor": "white"
          },
          "hoverlabel": {
           "align": "left"
          },
          "hovermode": "closest",
          "mapbox": {
           "style": "light"
          },
          "paper_bgcolor": "white",
          "plot_bgcolor": "#E5ECF6",
          "polar": {
           "angularaxis": {
            "gridcolor": "white",
            "linecolor": "white",
            "ticks": ""
           },
           "bgcolor": "#E5ECF6",
           "radialaxis": {
            "gridcolor": "white",
            "linecolor": "white",
            "ticks": ""
           }
          },
          "scene": {
           "xaxis": {
            "backgroundcolor": "#E5ECF6",
            "gridcolor": "white",
            "gridwidth": 2,
            "linecolor": "white",
            "showbackground": true,
            "ticks": "",
            "zerolinecolor": "white"
           },
           "yaxis": {
            "backgroundcolor": "#E5ECF6",
            "gridcolor": "white",
            "gridwidth": 2,
            "linecolor": "white",
            "showbackground": true,
            "ticks": "",
            "zerolinecolor": "white"
           },
           "zaxis": {
            "backgroundcolor": "#E5ECF6",
            "gridcolor": "white",
            "gridwidth": 2,
            "linecolor": "white",
            "showbackground": true,
            "ticks": "",
            "zerolinecolor": "white"
           }
          },
          "shapedefaults": {
           "line": {
            "color": "#2a3f5f"
           }
          },
          "ternary": {
           "aaxis": {
            "gridcolor": "white",
            "linecolor": "white",
            "ticks": ""
           },
           "baxis": {
            "gridcolor": "white",
            "linecolor": "white",
            "ticks": ""
           },
           "bgcolor": "#E5ECF6",
           "caxis": {
            "gridcolor": "white",
            "linecolor": "white",
            "ticks": ""
           }
          },
          "title": {
           "x": 0.05
          },
          "xaxis": {
           "automargin": true,
           "gridcolor": "white",
           "linecolor": "white",
           "ticks": "",
           "title": {
            "standoff": 15
           },
           "zerolinecolor": "white",
           "zerolinewidth": 2
          },
          "yaxis": {
           "automargin": true,
           "gridcolor": "white",
           "linecolor": "white",
           "ticks": "",
           "title": {
            "standoff": 15
           },
           "zerolinecolor": "white",
           "zerolinewidth": 2
          }
         }
        },
        "xaxis": {
         "anchor": "y",
         "domain": [
          0,
          1
         ],
         "title": {
          "text": "Area"
         }
        },
        "yaxis": {
         "anchor": "x",
         "domain": [
          0,
          1
         ],
         "title": {
          "text": "Eccentricity"
         }
        }
       }
      }
     },
     "metadata": {},
     "output_type": "display_data"
    },
    {
     "data": {
      "application/vnd.plotly.v1+json": {
       "config": {
        "plotlyServerURL": "https://plot.ly"
       },
       "data": [
        {
         "hovertemplate": "Class=Cammeo<br>Convex_Area=%{x}<br>Perimeter=%{y}<extra></extra>",
         "legendgroup": "Cammeo",
         "marker": {
          "color": "#636efa",
          "symbol": "circle"
         },
         "mode": "markers",
         "name": "Cammeo",
         "showlegend": true,
         "type": "scattergl",
         "x": {
          "bdata": "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",
          "dtype": "i2"
         },
         "xaxis": "x",
         "y": {
          "bdata": "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",
          "dtype": "f8"
         },
         "yaxis": "y"
        },
        {
         "hovertemplate": "Class=Osmancik<br>Convex_Area=%{x}<br>Perimeter=%{y}<extra></extra>",
         "legendgroup": "Osmancik",
         "marker": {
          "color": "#EF553B",
          "symbol": "circle"
         },
         "mode": "markers",
         "name": "Osmancik",
         "showlegend": true,
         "type": "scattergl",
         "x": {
          "bdata": "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",
          "dtype": "i2"
         },
         "xaxis": "x",
         "y": {
          "bdata": "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",
          "dtype": "f8"
         },
         "yaxis": "y"
        }
       ],
       "layout": {
        "legend": {
         "title": {
          "text": "Class"
         },
         "tracegroupgap": 0
        },
        "margin": {
         "t": 60
        },
        "template": {
         "data": {
          "bar": [
           {
            "error_x": {
             "color": "#2a3f5f"
            },
            "error_y": {
             "color": "#2a3f5f"
            },
            "marker": {
             "line": {
              "color": "#E5ECF6",
              "width": 0.5
             },
             "pattern": {
              "fillmode": "overlay",
              "size": 10,
              "solidity": 0.2
             }
            },
            "type": "bar"
           }
          ],
          "barpolar": [
           {
            "marker": {
             "line": {
              "color": "#E5ECF6",
              "width": 0.5
             },
             "pattern": {
              "fillmode": "overlay",
              "size": 10,
              "solidity": 0.2
             }
            },
            "type": "barpolar"
           }
          ],
          "carpet": [
           {
            "aaxis": {
             "endlinecolor": "#2a3f5f",
             "gridcolor": "white",
             "linecolor": "white",
             "minorgridcolor": "white",
             "startlinecolor": "#2a3f5f"
            },
            "baxis": {
             "endlinecolor": "#2a3f5f",
             "gridcolor": "white",
             "linecolor": "white",
             "minorgridcolor": "white",
             "startlinecolor": "#2a3f5f"
            },
            "type": "carpet"
           }
          ],
          "choropleth": [
           {
            "colorbar": {
             "outlinewidth": 0,
             "ticks": ""
            },
            "type": "choropleth"
           }
          ],
          "contour": [
           {
            "colorbar": {
             "outlinewidth": 0,
             "ticks": ""
            },
            "colorscale": [
             [
              0,
              "#0d0887"
             ],
             [
              0.1111111111111111,
              "#46039f"
             ],
             [
              0.2222222222222222,
              "#7201a8"
             ],
             [
              0.3333333333333333,
              "#9c179e"
             ],
             [
              0.4444444444444444,
              "#bd3786"
             ],
             [
              0.5555555555555556,
              "#d8576b"
             ],
             [
              0.6666666666666666,
              "#ed7953"
             ],
             [
              0.7777777777777778,
              "#fb9f3a"
             ],
             [
              0.8888888888888888,
              "#fdca26"
             ],
             [
              1,
              "#f0f921"
             ]
            ],
            "type": "contour"
           }
          ],
          "contourcarpet": [
           {
            "colorbar": {
             "outlinewidth": 0,
             "ticks": ""
            },
            "type": "contourcarpet"
           }
          ],
          "heatmap": [
           {
            "colorbar": {
             "outlinewidth": 0,
             "ticks": ""
            },
            "colorscale": [
             [
              0,
              "#0d0887"
             ],
             [
              0.1111111111111111,
              "#46039f"
             ],
             [
              0.2222222222222222,
              "#7201a8"
             ],
             [
              0.3333333333333333,
              "#9c179e"
             ],
             [
              0.4444444444444444,
              "#bd3786"
             ],
             [
              0.5555555555555556,
              "#d8576b"
             ],
             [
              0.6666666666666666,
              "#ed7953"
             ],
             [
              0.7777777777777778,
              "#fb9f3a"
             ],
             [
              0.8888888888888888,
              "#fdca26"
             ],
             [
              1,
              "#f0f921"
             ]
            ],
            "type": "heatmap"
           }
          ],
          "histogram": [
           {
            "marker": {
             "pattern": {
              "fillmode": "overlay",
              "size": 10,
              "solidity": 0.2
             }
            },
            "type": "histogram"
           }
          ],
          "histogram2d": [
           {
            "colorbar": {
             "outlinewidth": 0,
             "ticks": ""
            },
            "colorscale": [
             [
              0,
              "#0d0887"
             ],
             [
              0.1111111111111111,
              "#46039f"
             ],
             [
              0.2222222222222222,
              "#7201a8"
             ],
             [
              0.3333333333333333,
              "#9c179e"
             ],
             [
              0.4444444444444444,
              "#bd3786"
             ],
             [
              0.5555555555555556,
              "#d8576b"
             ],
             [
              0.6666666666666666,
              "#ed7953"
             ],
             [
              0.7777777777777778,
              "#fb9f3a"
             ],
             [
              0.8888888888888888,
              "#fdca26"
             ],
             [
              1,
              "#f0f921"
             ]
            ],
            "type": "histogram2d"
           }
          ],
          "histogram2dcontour": [
           {
            "colorbar": {
             "outlinewidth": 0,
             "ticks": ""
            },
            "colorscale": [
             [
              0,
              "#0d0887"
             ],
             [
              0.1111111111111111,
              "#46039f"
             ],
             [
              0.2222222222222222,
              "#7201a8"
             ],
             [
              0.3333333333333333,
              "#9c179e"
             ],
             [
              0.4444444444444444,
              "#bd3786"
             ],
             [
              0.5555555555555556,
              "#d8576b"
             ],
             [
              0.6666666666666666,
              "#ed7953"
             ],
             [
              0.7777777777777778,
              "#fb9f3a"
             ],
             [
              0.8888888888888888,
              "#fdca26"
             ],
             [
              1,
              "#f0f921"
             ]
            ],
            "type": "histogram2dcontour"
           }
          ],
          "mesh3d": [
           {
            "colorbar": {
             "outlinewidth": 0,
             "ticks": ""
            },
            "type": "mesh3d"
           }
          ],
          "parcoords": [
           {
            "line": {
             "colorbar": {
              "outlinewidth": 0,
              "ticks": ""
             }
            },
            "type": "parcoords"
           }
          ],
          "pie": [
           {
            "automargin": true,
            "type": "pie"
           }
          ],
          "scatter": [
           {
            "fillpattern": {
             "fillmode": "overlay",
             "size": 10,
             "solidity": 0.2
            },
            "type": "scatter"
           }
          ],
          "scatter3d": [
           {
            "line": {
             "colorbar": {
              "outlinewidth": 0,
              "ticks": ""
             }
            },
            "marker": {
             "colorbar": {
              "outlinewidth": 0,
              "ticks": ""
             }
            },
            "type": "scatter3d"
           }
          ],
          "scattercarpet": [
           {
            "marker": {
             "colorbar": {
              "outlinewidth": 0,
              "ticks": ""
             }
            },
            "type": "scattercarpet"
           }
          ],
          "scattergeo": [
           {
            "marker": {
             "colorbar": {
              "outlinewidth": 0,
              "ticks": ""
             }
            },
            "type": "scattergeo"
           }
          ],
          "scattergl": [
           {
            "marker": {
             "colorbar": {
              "outlinewidth": 0,
              "ticks": ""
             }
            },
            "type": "scattergl"
           }
          ],
          "scattermap": [
           {
            "marker": {
             "colorbar": {
              "outlinewidth": 0,
              "ticks": ""
             }
            },
            "type": "scattermap"
           }
          ],
          "scattermapbox": [
           {
            "marker": {
             "colorbar": {
              "outlinewidth": 0,
              "ticks": ""
             }
            },
            "type": "scattermapbox"
           }
          ],
          "scatterpolar": [
           {
            "marker": {
             "colorbar": {
              "outlinewidth": 0,
              "ticks": ""
             }
            },
            "type": "scatterpolar"
           }
          ],
          "scatterpolargl": [
           {
            "marker": {
             "colorbar": {
              "outlinewidth": 0,
              "ticks": ""
             }
            },
            "type": "scatterpolargl"
           }
          ],
          "scatterternary": [
           {
            "marker": {
             "colorbar": {
              "outlinewidth": 0,
              "ticks": ""
             }
            },
            "type": "scatterternary"
           }
          ],
          "surface": [
           {
            "colorbar": {
             "outlinewidth": 0,
             "ticks": ""
            },
            "colorscale": [
             [
              0,
              "#0d0887"
             ],
             [
              0.1111111111111111,
              "#46039f"
             ],
             [
              0.2222222222222222,
              "#7201a8"
             ],
             [
              0.3333333333333333,
              "#9c179e"
             ],
             [
              0.4444444444444444,
              "#bd3786"
             ],
             [
              0.5555555555555556,
              "#d8576b"
             ],
             [
              0.6666666666666666,
              "#ed7953"
             ],
             [
              0.7777777777777778,
              "#fb9f3a"
             ],
             [
              0.8888888888888888,
              "#fdca26"
             ],
             [
              1,
              "#f0f921"
             ]
            ],
            "type": "surface"
           }
          ],
          "table": [
           {
            "cells": {
             "fill": {
              "color": "#EBF0F8"
             },
             "line": {
              "color": "white"
             }
            },
            "header": {
             "fill": {
              "color": "#C8D4E3"
             },
             "line": {
              "color": "white"
             }
            },
            "type": "table"
           }
          ]
         },
         "layout": {
          "annotationdefaults": {
           "arrowcolor": "#2a3f5f",
           "arrowhead": 0,
           "arrowwidth": 1
          },
          "autotypenumbers": "strict",
          "coloraxis": {
           "colorbar": {
            "outlinewidth": 0,
            "ticks": ""
           }
          },
          "colorscale": {
           "diverging": [
            [
             0,
             "#8e0152"
            ],
            [
             0.1,
             "#c51b7d"
            ],
            [
             0.2,
             "#de77ae"
            ],
            [
             0.3,
             "#f1b6da"
            ],
            [
             0.4,
             "#fde0ef"
            ],
            [
             0.5,
             "#f7f7f7"
            ],
            [
             0.6,
             "#e6f5d0"
            ],
            [
             0.7,
             "#b8e186"
            ],
            [
             0.8,
             "#7fbc41"
            ],
            [
             0.9,
             "#4d9221"
            ],
            [
             1,
             "#276419"
            ]
           ],
           "sequential": [
            [
             0,
             "#0d0887"
            ],
            [
             0.1111111111111111,
             "#46039f"
            ],
            [
             0.2222222222222222,
             "#7201a8"
            ],
            [
             0.3333333333333333,
             "#9c179e"
            ],
            [
             0.4444444444444444,
             "#bd3786"
            ],
            [
             0.5555555555555556,
             "#d8576b"
            ],
            [
             0.6666666666666666,
             "#ed7953"
            ],
            [
             0.7777777777777778,
             "#fb9f3a"
            ],
            [
             0.8888888888888888,
             "#fdca26"
            ],
            [
             1,
             "#f0f921"
            ]
           ],
           "sequentialminus": [
            [
             0,
             "#0d0887"
            ],
            [
             0.1111111111111111,
             "#46039f"
            ],
            [
             0.2222222222222222,
             "#7201a8"
            ],
            [
             0.3333333333333333,
             "#9c179e"
            ],
            [
             0.4444444444444444,
             "#bd3786"
            ],
            [
             0.5555555555555556,
             "#d8576b"
            ],
            [
             0.6666666666666666,
             "#ed7953"
            ],
            [
             0.7777777777777778,
             "#fb9f3a"
            ],
            [
             0.8888888888888888,
             "#fdca26"
            ],
            [
             1,
             "#f0f921"
            ]
           ]
          },
          "colorway": [
           "#636efa",
           "#EF553B",
           "#00cc96",
           "#ab63fa",
           "#FFA15A",
           "#19d3f3",
           "#FF6692",
           "#B6E880",
           "#FF97FF",
           "#FECB52"
          ],
          "font": {
           "color": "#2a3f5f"
          },
          "geo": {
           "bgcolor": "white",
           "lakecolor": "white",
           "landcolor": "#E5ECF6",
           "showlakes": true,
           "showland": true,
           "subunitcolor": "white"
          },
          "hoverlabel": {
           "align": "left"
          },
          "hovermode": "closest",
          "mapbox": {
           "style": "light"
          },
          "paper_bgcolor": "white",
          "plot_bgcolor": "#E5ECF6",
          "polar": {
           "angularaxis": {
            "gridcolor": "white",
            "linecolor": "white",
            "ticks": ""
           },
           "bgcolor": "#E5ECF6",
           "radialaxis": {
            "gridcolor": "white",
            "linecolor": "white",
            "ticks": ""
           }
          },
          "scene": {
           "xaxis": {
            "backgroundcolor": "#E5ECF6",
            "gridcolor": "white",
            "gridwidth": 2,
            "linecolor": "white",
            "showbackground": true,
            "ticks": "",
            "zerolinecolor": "white"
           },
           "yaxis": {
            "backgroundcolor": "#E5ECF6",
            "gridcolor": "white",
            "gridwidth": 2,
            "linecolor": "white",
            "showbackground": true,
            "ticks": "",
            "zerolinecolor": "white"
           },
           "zaxis": {
            "backgroundcolor": "#E5ECF6",
            "gridcolor": "white",
            "gridwidth": 2,
            "linecolor": "white",
            "showbackground": true,
            "ticks": "",
            "zerolinecolor": "white"
           }
          },
          "shapedefaults": {
           "line": {
            "color": "#2a3f5f"
           }
          },
          "ternary": {
           "aaxis": {
            "gridcolor": "white",
            "linecolor": "white",
            "ticks": ""
           },
           "baxis": {
            "gridcolor": "white",
            "linecolor": "white",
            "ticks": ""
           },
           "bgcolor": "#E5ECF6",
           "caxis": {
            "gridcolor": "white",
            "linecolor": "white",
            "ticks": ""
           }
          },
          "title": {
           "x": 0.05
          },
          "xaxis": {
           "automargin": true,
           "gridcolor": "white",
           "linecolor": "white",
           "ticks": "",
           "title": {
            "standoff": 15
           },
           "zerolinecolor": "white",
           "zerolinewidth": 2
          },
          "yaxis": {
           "automargin": true,
           "gridcolor": "white",
           "linecolor": "white",
           "ticks": "",
           "title": {
            "standoff": 15
           },
           "zerolinecolor": "white",
           "zerolinewidth": 2
          }
         }
        },
        "xaxis": {
         "anchor": "y",
         "domain": [
          0,
          1
         ],
         "title": {
          "text": "Convex_Area"
         }
        },
        "yaxis": {
         "anchor": "x",
         "domain": [
          0,
          1
         ],
         "title": {
          "text": "Perimeter"
         }
        }
       }
      }
     },
     "metadata": {},
     "output_type": "display_data"
    },
    {
     "data": {
      "application/vnd.plotly.v1+json": {
       "config": {
        "plotlyServerURL": "https://plot.ly"
       },
       "data": [
        {
         "hovertemplate": "Class=Cammeo<br>Major_Axis_Length=%{x}<br>Minor_Axis_Length=%{y}<extra></extra>",
         "legendgroup": "Cammeo",
         "marker": {
          "color": "#636efa",
          "symbol": "circle"
         },
         "mode": "markers",
         "name": "Cammeo",
         "showlegend": true,
         "type": "scattergl",
         "x": {
          "bdata": "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",
          "dtype": "f8"
         },
         "xaxis": "x",
         "y": {
          "bdata": "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",
          "dtype": "f8"
         },
         "yaxis": "y"
        },
        {
         "hovertemplate": "Class=Osmancik<br>Major_Axis_Length=%{x}<br>Minor_Axis_Length=%{y}<extra></extra>",
         "legendgroup": "Osmancik",
         "marker": {
          "color": "#EF553B",
          "symbol": "circle"
         },
         "mode": "markers",
         "name": "Osmancik",
         "showlegend": true,
         "type": "scattergl",
         "x": {
          "bdata": "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",
          "dtype": "f8"
         },
         "xaxis": "x",
         "y": {
          "bdata": "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",
          "dtype": "f8"
         },
         "yaxis": "y"
        }
       ],
       "layout": {
        "legend": {
         "title": {
          "text": "Class"
         },
         "tracegroupgap": 0
        },
        "margin": {
         "t": 60
        },
        "template": {
         "data": {
          "bar": [
           {
            "error_x": {
             "color": "#2a3f5f"
            },
            "error_y": {
             "color": "#2a3f5f"
            },
            "marker": {
             "line": {
              "color": "#E5ECF6",
              "width": 0.5
             },
             "pattern": {
              "fillmode": "overlay",
              "size": 10,
              "solidity": 0.2
             }
            },
            "type": "bar"
           }
          ],
          "barpolar": [
           {
            "marker": {
             "line": {
              "color": "#E5ECF6",
              "width": 0.5
             },
             "pattern": {
              "fillmode": "overlay",
              "size": 10,
              "solidity": 0.2
             }
            },
            "type": "barpolar"
           }
          ],
          "carpet": [
           {
            "aaxis": {
             "endlinecolor": "#2a3f5f",
             "gridcolor": "white",
             "linecolor": "white",
             "minorgridcolor": "white",
             "startlinecolor": "#2a3f5f"
            },
            "baxis": {
             "endlinecolor": "#2a3f5f",
             "gridcolor": "white",
             "linecolor": "white",
             "minorgridcolor": "white",
             "startlinecolor": "#2a3f5f"
            },
            "type": "carpet"
           }
          ],
          "choropleth": [
           {
            "colorbar": {
             "outlinewidth": 0,
             "ticks": ""
            },
            "type": "choropleth"
           }
          ],
          "contour": [
           {
            "colorbar": {
             "outlinewidth": 0,
             "ticks": ""
            },
            "colorscale": [
             [
              0,
              "#0d0887"
             ],
             [
              0.1111111111111111,
              "#46039f"
             ],
             [
              0.2222222222222222,
              "#7201a8"
             ],
             [
              0.3333333333333333,
              "#9c179e"
             ],
             [
              0.4444444444444444,
              "#bd3786"
             ],
             [
              0.5555555555555556,
              "#d8576b"
             ],
             [
              0.6666666666666666,
              "#ed7953"
             ],
             [
              0.7777777777777778,
              "#fb9f3a"
             ],
             [
              0.8888888888888888,
              "#fdca26"
             ],
             [
              1,
              "#f0f921"
             ]
            ],
            "type": "contour"
           }
          ],
          "contourcarpet": [
           {
            "colorbar": {
             "outlinewidth": 0,
             "ticks": ""
            },
            "type": "contourcarpet"
           }
          ],
          "heatmap": [
           {
            "colorbar": {
             "outlinewidth": 0,
             "ticks": ""
            },
            "colorscale": [
             [
              0,
              "#0d0887"
             ],
             [
              0.1111111111111111,
              "#46039f"
             ],
             [
              0.2222222222222222,
              "#7201a8"
             ],
             [
              0.3333333333333333,
              "#9c179e"
             ],
             [
              0.4444444444444444,
              "#bd3786"
             ],
             [
              0.5555555555555556,
              "#d8576b"
             ],
             [
              0.6666666666666666,
              "#ed7953"
             ],
             [
              0.7777777777777778,
              "#fb9f3a"
             ],
             [
              0.8888888888888888,
              "#fdca26"
             ],
             [
              1,
              "#f0f921"
             ]
            ],
            "type": "heatmap"
           }
          ],
          "histogram": [
           {
            "marker": {
             "pattern": {
              "fillmode": "overlay",
              "size": 10,
              "solidity": 0.2
             }
            },
            "type": "histogram"
           }
          ],
          "histogram2d": [
           {
            "colorbar": {
             "outlinewidth": 0,
             "ticks": ""
            },
            "colorscale": [
             [
              0,
              "#0d0887"
             ],
             [
              0.1111111111111111,
              "#46039f"
             ],
             [
              0.2222222222222222,
              "#7201a8"
             ],
             [
              0.3333333333333333,
              "#9c179e"
             ],
             [
              0.4444444444444444,
              "#bd3786"
             ],
             [
              0.5555555555555556,
              "#d8576b"
             ],
             [
              0.6666666666666666,
              "#ed7953"
             ],
             [
              0.7777777777777778,
              "#fb9f3a"
             ],
             [
              0.8888888888888888,
              "#fdca26"
             ],
             [
              1,
              "#f0f921"
             ]
            ],
            "type": "histogram2d"
           }
          ],
          "histogram2dcontour": [
           {
            "colorbar": {
             "outlinewidth": 0,
             "ticks": ""
            },
            "colorscale": [
             [
              0,
              "#0d0887"
             ],
             [
              0.1111111111111111,
              "#46039f"
             ],
             [
              0.2222222222222222,
              "#7201a8"
             ],
             [
              0.3333333333333333,
              "#9c179e"
             ],
             [
              0.4444444444444444,
              "#bd3786"
             ],
             [
              0.5555555555555556,
              "#d8576b"
             ],
             [
              0.6666666666666666,
              "#ed7953"
             ],
             [
              0.7777777777777778,
              "#fb9f3a"
             ],
             [
              0.8888888888888888,
              "#fdca26"
             ],
             [
              1,
              "#f0f921"
             ]
            ],
            "type": "histogram2dcontour"
           }
          ],
          "mesh3d": [
           {
            "colorbar": {
             "outlinewidth": 0,
             "ticks": ""
            },
            "type": "mesh3d"
           }
          ],
          "parcoords": [
           {
            "line": {
             "colorbar": {
              "outlinewidth": 0,
              "ticks": ""
             }
            },
            "type": "parcoords"
           }
          ],
          "pie": [
           {
            "automargin": true,
            "type": "pie"
           }
          ],
          "scatter": [
           {
            "fillpattern": {
             "fillmode": "overlay",
             "size": 10,
             "solidity": 0.2
            },
            "type": "scatter"
           }
          ],
          "scatter3d": [
           {
            "line": {
             "colorbar": {
              "outlinewidth": 0,
              "ticks": ""
             }
            },
            "marker": {
             "colorbar": {
              "outlinewidth": 0,
              "ticks": ""
             }
            },
            "type": "scatter3d"
           }
          ],
          "scattercarpet": [
           {
            "marker": {
             "colorbar": {
              "outlinewidth": 0,
              "ticks": ""
             }
            },
            "type": "scattercarpet"
           }
          ],
          "scattergeo": [
           {
            "marker": {
             "colorbar": {
              "outlinewidth": 0,
              "ticks": ""
             }
            },
            "type": "scattergeo"
           }
          ],
          "scattergl": [
           {
            "marker": {
             "colorbar": {
              "outlinewidth": 0,
              "ticks": ""
             }
            },
            "type": "scattergl"
           }
          ],
          "scattermap": [
           {
            "marker": {
             "colorbar": {
              "outlinewidth": 0,
              "ticks": ""
             }
            },
            "type": "scattermap"
           }
          ],
          "scattermapbox": [
           {
            "marker": {
             "colorbar": {
              "outlinewidth": 0,
              "ticks": ""
             }
            },
            "type": "scattermapbox"
           }
          ],
          "scatterpolar": [
           {
            "marker": {
             "colorbar": {
              "outlinewidth": 0,
              "ticks": ""
             }
            },
            "type": "scatterpolar"
           }
          ],
          "scatterpolargl": [
           {
            "marker": {
             "colorbar": {
              "outlinewidth": 0,
              "ticks": ""
             }
            },
            "type": "scatterpolargl"
           }
          ],
          "scatterternary": [
           {
            "marker": {
             "colorbar": {
              "outlinewidth": 0,
              "ticks": ""
             }
            },
            "type": "scatterternary"
           }
          ],
          "surface": [
           {
            "colorbar": {
             "outlinewidth": 0,
             "ticks": ""
            },
            "colorscale": [
             [
              0,
              "#0d0887"
             ],
             [
              0.1111111111111111,
              "#46039f"
             ],
             [
              0.2222222222222222,
              "#7201a8"
             ],
             [
              0.3333333333333333,
              "#9c179e"
             ],
             [
              0.4444444444444444,
              "#bd3786"
             ],
             [
              0.5555555555555556,
              "#d8576b"
             ],
             [
              0.6666666666666666,
              "#ed7953"
             ],
             [
              0.7777777777777778,
              "#fb9f3a"
             ],
             [
              0.8888888888888888,
              "#fdca26"
             ],
             [
              1,
              "#f0f921"
             ]
            ],
            "type": "surface"
           }
          ],
          "table": [
           {
            "cells": {
             "fill": {
              "color": "#EBF0F8"
             },
             "line": {
              "color": "white"
             }
            },
            "header": {
             "fill": {
              "color": "#C8D4E3"
             },
             "line": {
              "color": "white"
             }
            },
            "type": "table"
           }
          ]
         },
         "layout": {
          "annotationdefaults": {
           "arrowcolor": "#2a3f5f",
           "arrowhead": 0,
           "arrowwidth": 1
          },
          "autotypenumbers": "strict",
          "coloraxis": {
           "colorbar": {
            "outlinewidth": 0,
            "ticks": ""
           }
          },
          "colorscale": {
           "diverging": [
            [
             0,
             "#8e0152"
            ],
            [
             0.1,
             "#c51b7d"
            ],
            [
             0.2,
             "#de77ae"
            ],
            [
             0.3,
             "#f1b6da"
            ],
            [
             0.4,
             "#fde0ef"
            ],
            [
             0.5,
             "#f7f7f7"
            ],
            [
             0.6,
             "#e6f5d0"
            ],
            [
             0.7,
             "#b8e186"
            ],
            [
             0.8,
             "#7fbc41"
            ],
            [
             0.9,
             "#4d9221"
            ],
            [
             1,
             "#276419"
            ]
           ],
           "sequential": [
            [
             0,
             "#0d0887"
            ],
            [
             0.1111111111111111,
             "#46039f"
            ],
            [
             0.2222222222222222,
             "#7201a8"
            ],
            [
             0.3333333333333333,
             "#9c179e"
            ],
            [
             0.4444444444444444,
             "#bd3786"
            ],
            [
             0.5555555555555556,
             "#d8576b"
            ],
            [
             0.6666666666666666,
             "#ed7953"
            ],
            [
             0.7777777777777778,
             "#fb9f3a"
            ],
            [
             0.8888888888888888,
             "#fdca26"
            ],
            [
             1,
             "#f0f921"
            ]
           ],
           "sequentialminus": [
            [
             0,
             "#0d0887"
            ],
            [
             0.1111111111111111,
             "#46039f"
            ],
            [
             0.2222222222222222,
             "#7201a8"
            ],
            [
             0.3333333333333333,
             "#9c179e"
            ],
            [
             0.4444444444444444,
             "#bd3786"
            ],
            [
             0.5555555555555556,
             "#d8576b"
            ],
            [
             0.6666666666666666,
             "#ed7953"
            ],
            [
             0.7777777777777778,
             "#fb9f3a"
            ],
            [
             0.8888888888888888,
             "#fdca26"
            ],
            [
             1,
             "#f0f921"
            ]
           ]
          },
          "colorway": [
           "#636efa",
           "#EF553B",
           "#00cc96",
           "#ab63fa",
           "#FFA15A",
           "#19d3f3",
           "#FF6692",
           "#B6E880",
           "#FF97FF",
           "#FECB52"
          ],
          "font": {
           "color": "#2a3f5f"
          },
          "geo": {
           "bgcolor": "white",
           "lakecolor": "white",
           "landcolor": "#E5ECF6",
           "showlakes": true,
           "showland": true,
           "subunitcolor": "white"
          },
          "hoverlabel": {
           "align": "left"
          },
          "hovermode": "closest",
          "mapbox": {
           "style": "light"
          },
          "paper_bgcolor": "white",
          "plot_bgcolor": "#E5ECF6",
          "polar": {
           "angularaxis": {
            "gridcolor": "white",
            "linecolor": "white",
            "ticks": ""
           },
           "bgcolor": "#E5ECF6",
           "radialaxis": {
            "gridcolor": "white",
            "linecolor": "white",
            "ticks": ""
           }
          },
          "scene": {
           "xaxis": {
            "backgroundcolor": "#E5ECF6",
            "gridcolor": "white",
            "gridwidth": 2,
            "linecolor": "white",
            "showbackground": true,
            "ticks": "",
            "zerolinecolor": "white"
           },
           "yaxis": {
            "backgroundcolor": "#E5ECF6",
            "gridcolor": "white",
            "gridwidth": 2,
            "linecolor": "white",
            "showbackground": true,
            "ticks": "",
            "zerolinecolor": "white"
           },
           "zaxis": {
            "backgroundcolor": "#E5ECF6",
            "gridcolor": "white",
            "gridwidth": 2,
            "linecolor": "white",
            "showbackground": true,
            "ticks": "",
            "zerolinecolor": "white"
           }
          },
          "shapedefaults": {
           "line": {
            "color": "#2a3f5f"
           }
          },
          "ternary": {
           "aaxis": {
            "gridcolor": "white",
            "linecolor": "white",
            "ticks": ""
           },
           "baxis": {
            "gridcolor": "white",
            "linecolor": "white",
            "ticks": ""
           },
           "bgcolor": "#E5ECF6",
           "caxis": {
            "gridcolor": "white",
            "linecolor": "white",
            "ticks": ""
           }
          },
          "title": {
           "x": 0.05
          },
          "xaxis": {
           "automargin": true,
           "gridcolor": "white",
           "linecolor": "white",
           "ticks": "",
           "title": {
            "standoff": 15
           },
           "zerolinecolor": "white",
           "zerolinewidth": 2
          },
          "yaxis": {
           "automargin": true,
           "gridcolor": "white",
           "linecolor": "white",
           "ticks": "",
           "title": {
            "standoff": 15
           },
           "zerolinecolor": "white",
           "zerolinewidth": 2
          }
         }
        },
        "xaxis": {
         "anchor": "y",
         "domain": [
          0,
          1
         ],
         "title": {
          "text": "Major_Axis_Length"
         }
        },
        "yaxis": {
         "anchor": "x",
         "domain": [
          0,
          1
         ],
         "title": {
          "text": "Minor_Axis_Length"
         }
        }
       }
      }
     },
     "metadata": {},
     "output_type": "display_data"
    },
    {
     "data": {
      "application/vnd.plotly.v1+json": {
       "config": {
        "plotlyServerURL": "https://plot.ly"
       },
       "data": [
        {
         "hovertemplate": "Class=Cammeo<br>Perimeter=%{x}<br>Extent=%{y}<extra></extra>",
         "legendgroup": "Cammeo",
         "marker": {
          "color": "#636efa",
          "symbol": "circle"
         },
         "mode": "markers",
         "name": "Cammeo",
         "showlegend": true,
         "type": "scattergl",
         "x": {
          "bdata": "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",
          "dtype": "f8"
         },
         "xaxis": "x",
         "y": {
          "bdata": "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",
          "dtype": "f8"
         },
         "yaxis": "y"
        },
        {
         "hovertemplate": "Class=Osmancik<br>Perimeter=%{x}<br>Extent=%{y}<extra></extra>",
         "legendgroup": "Osmancik",
         "marker": {
          "color": "#EF553B",
          "symbol": "circle"
         },
         "mode": "markers",
         "name": "Osmancik",
         "showlegend": true,
         "type": "scattergl",
         "x": {
          "bdata": "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",
          "dtype": "f8"
         },
         "xaxis": "x",
         "y": {
          "bdata": "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",
          "dtype": "f8"
         },
         "yaxis": "y"
        }
       ],
       "layout": {
        "legend": {
         "title": {
          "text": "Class"
         },
         "tracegroupgap": 0
        },
        "margin": {
         "t": 60
        },
        "template": {
         "data": {
          "bar": [
           {
            "error_x": {
             "color": "#2a3f5f"
            },
            "error_y": {
             "color": "#2a3f5f"
            },
            "marker": {
             "line": {
              "color": "#E5ECF6",
              "width": 0.5
             },
             "pattern": {
              "fillmode": "overlay",
              "size": 10,
              "solidity": 0.2
             }
            },
            "type": "bar"
           }
          ],
          "barpolar": [
           {
            "marker": {
             "line": {
              "color": "#E5ECF6",
              "width": 0.5
             },
             "pattern": {
              "fillmode": "overlay",
              "size": 10,
              "solidity": 0.2
             }
            },
            "type": "barpolar"
           }
          ],
          "carpet": [
           {
            "aaxis": {
             "endlinecolor": "#2a3f5f",
             "gridcolor": "white",
             "linecolor": "white",
             "minorgridcolor": "white",
             "startlinecolor": "#2a3f5f"
            },
            "baxis": {
             "endlinecolor": "#2a3f5f",
             "gridcolor": "white",
             "linecolor": "white",
             "minorgridcolor": "white",
             "startlinecolor": "#2a3f5f"
            },
            "type": "carpet"
           }
          ],
          "choropleth": [
           {
            "colorbar": {
             "outlinewidth": 0,
             "ticks": ""
            },
            "type": "choropleth"
           }
          ],
          "contour": [
           {
            "colorbar": {
             "outlinewidth": 0,
             "ticks": ""
            },
            "colorscale": [
             [
              0,
              "#0d0887"
             ],
             [
              0.1111111111111111,
              "#46039f"
             ],
             [
              0.2222222222222222,
              "#7201a8"
             ],
             [
              0.3333333333333333,
              "#9c179e"
             ],
             [
              0.4444444444444444,
              "#bd3786"
             ],
             [
              0.5555555555555556,
              "#d8576b"
             ],
             [
              0.6666666666666666,
              "#ed7953"
             ],
             [
              0.7777777777777778,
              "#fb9f3a"
             ],
             [
              0.8888888888888888,
              "#fdca26"
             ],
             [
              1,
              "#f0f921"
             ]
            ],
            "type": "contour"
           }
          ],
          "contourcarpet": [
           {
            "colorbar": {
             "outlinewidth": 0,
             "ticks": ""
            },
            "type": "contourcarpet"
           }
          ],
          "heatmap": [
           {
            "colorbar": {
             "outlinewidth": 0,
             "ticks": ""
            },
            "colorscale": [
             [
              0,
              "#0d0887"
             ],
             [
              0.1111111111111111,
              "#46039f"
             ],
             [
              0.2222222222222222,
              "#7201a8"
             ],
             [
              0.3333333333333333,
              "#9c179e"
             ],
             [
              0.4444444444444444,
              "#bd3786"
             ],
             [
              0.5555555555555556,
              "#d8576b"
             ],
             [
              0.6666666666666666,
              "#ed7953"
             ],
             [
              0.7777777777777778,
              "#fb9f3a"
             ],
             [
              0.8888888888888888,
              "#fdca26"
             ],
             [
              1,
              "#f0f921"
             ]
            ],
            "type": "heatmap"
           }
          ],
          "histogram": [
           {
            "marker": {
             "pattern": {
              "fillmode": "overlay",
              "size": 10,
              "solidity": 0.2
             }
            },
            "type": "histogram"
           }
          ],
          "histogram2d": [
           {
            "colorbar": {
             "outlinewidth": 0,
             "ticks": ""
            },
            "colorscale": [
             [
              0,
              "#0d0887"
             ],
             [
              0.1111111111111111,
              "#46039f"
             ],
             [
              0.2222222222222222,
              "#7201a8"
             ],
             [
              0.3333333333333333,
              "#9c179e"
             ],
             [
              0.4444444444444444,
              "#bd3786"
             ],
             [
              0.5555555555555556,
              "#d8576b"
             ],
             [
              0.6666666666666666,
              "#ed7953"
             ],
             [
              0.7777777777777778,
              "#fb9f3a"
             ],
             [
              0.8888888888888888,
              "#fdca26"
             ],
             [
              1,
              "#f0f921"
             ]
            ],
            "type": "histogram2d"
           }
          ],
          "histogram2dcontour": [
           {
            "colorbar": {
             "outlinewidth": 0,
             "ticks": ""
            },
            "colorscale": [
             [
              0,
              "#0d0887"
             ],
             [
              0.1111111111111111,
              "#46039f"
             ],
             [
              0.2222222222222222,
              "#7201a8"
             ],
             [
              0.3333333333333333,
              "#9c179e"
             ],
             [
              0.4444444444444444,
              "#bd3786"
             ],
             [
              0.5555555555555556,
              "#d8576b"
             ],
             [
              0.6666666666666666,
              "#ed7953"
             ],
             [
              0.7777777777777778,
              "#fb9f3a"
             ],
             [
              0.8888888888888888,
              "#fdca26"
             ],
             [
              1,
              "#f0f921"
             ]
            ],
            "type": "histogram2dcontour"
           }
          ],
          "mesh3d": [
           {
            "colorbar": {
             "outlinewidth": 0,
             "ticks": ""
            },
            "type": "mesh3d"
           }
          ],
          "parcoords": [
           {
            "line": {
             "colorbar": {
              "outlinewidth": 0,
              "ticks": ""
             }
            },
            "type": "parcoords"
           }
          ],
          "pie": [
           {
            "automargin": true,
            "type": "pie"
           }
          ],
          "scatter": [
           {
            "fillpattern": {
             "fillmode": "overlay",
             "size": 10,
             "solidity": 0.2
            },
            "type": "scatter"
           }
          ],
          "scatter3d": [
           {
            "line": {
             "colorbar": {
              "outlinewidth": 0,
              "ticks": ""
             }
            },
            "marker": {
             "colorbar": {
              "outlinewidth": 0,
              "ticks": ""
             }
            },
            "type": "scatter3d"
           }
          ],
          "scattercarpet": [
           {
            "marker": {
             "colorbar": {
              "outlinewidth": 0,
              "ticks": ""
             }
            },
            "type": "scattercarpet"
           }
          ],
          "scattergeo": [
           {
            "marker": {
             "colorbar": {
              "outlinewidth": 0,
              "ticks": ""
             }
            },
            "type": "scattergeo"
           }
          ],
          "scattergl": [
           {
            "marker": {
             "colorbar": {
              "outlinewidth": 0,
              "ticks": ""
             }
            },
            "type": "scattergl"
           }
          ],
          "scattermap": [
           {
            "marker": {
             "colorbar": {
              "outlinewidth": 0,
              "ticks": ""
             }
            },
            "type": "scattermap"
           }
          ],
          "scattermapbox": [
           {
            "marker": {
             "colorbar": {
              "outlinewidth": 0,
              "ticks": ""
             }
            },
            "type": "scattermapbox"
           }
          ],
          "scatterpolar": [
           {
            "marker": {
             "colorbar": {
              "outlinewidth": 0,
              "ticks": ""
             }
            },
            "type": "scatterpolar"
           }
          ],
          "scatterpolargl": [
           {
            "marker": {
             "colorbar": {
              "outlinewidth": 0,
              "ticks": ""
             }
            },
            "type": "scatterpolargl"
           }
          ],
          "scatterternary": [
           {
            "marker": {
             "colorbar": {
              "outlinewidth": 0,
              "ticks": ""
             }
            },
            "type": "scatterternary"
           }
          ],
          "surface": [
           {
            "colorbar": {
             "outlinewidth": 0,
             "ticks": ""
            },
            "colorscale": [
             [
              0,
              "#0d0887"
             ],
             [
              0.1111111111111111,
              "#46039f"
             ],
             [
              0.2222222222222222,
              "#7201a8"
             ],
             [
              0.3333333333333333,
              "#9c179e"
             ],
             [
              0.4444444444444444,
              "#bd3786"
             ],
             [
              0.5555555555555556,
              "#d8576b"
             ],
             [
              0.6666666666666666,
              "#ed7953"
             ],
             [
              0.7777777777777778,
              "#fb9f3a"
             ],
             [
              0.8888888888888888,
              "#fdca26"
             ],
             [
              1,
              "#f0f921"
             ]
            ],
            "type": "surface"
           }
          ],
          "table": [
           {
            "cells": {
             "fill": {
              "color": "#EBF0F8"
             },
             "line": {
              "color": "white"
             }
            },
            "header": {
             "fill": {
              "color": "#C8D4E3"
             },
             "line": {
              "color": "white"
             }
            },
            "type": "table"
           }
          ]
         },
         "layout": {
          "annotationdefaults": {
           "arrowcolor": "#2a3f5f",
           "arrowhead": 0,
           "arrowwidth": 1
          },
          "autotypenumbers": "strict",
          "coloraxis": {
           "colorbar": {
            "outlinewidth": 0,
            "ticks": ""
           }
          },
          "colorscale": {
           "diverging": [
            [
             0,
             "#8e0152"
            ],
            [
             0.1,
             "#c51b7d"
            ],
            [
             0.2,
             "#de77ae"
            ],
            [
             0.3,
             "#f1b6da"
            ],
            [
             0.4,
             "#fde0ef"
            ],
            [
             0.5,
             "#f7f7f7"
            ],
            [
             0.6,
             "#e6f5d0"
            ],
            [
             0.7,
             "#b8e186"
            ],
            [
             0.8,
             "#7fbc41"
            ],
            [
             0.9,
             "#4d9221"
            ],
            [
             1,
             "#276419"
            ]
           ],
           "sequential": [
            [
             0,
             "#0d0887"
            ],
            [
             0.1111111111111111,
             "#46039f"
            ],
            [
             0.2222222222222222,
             "#7201a8"
            ],
            [
             0.3333333333333333,
             "#9c179e"
            ],
            [
             0.4444444444444444,
             "#bd3786"
            ],
            [
             0.5555555555555556,
             "#d8576b"
            ],
            [
             0.6666666666666666,
             "#ed7953"
            ],
            [
             0.7777777777777778,
             "#fb9f3a"
            ],
            [
             0.8888888888888888,
             "#fdca26"
            ],
            [
             1,
             "#f0f921"
            ]
           ],
           "sequentialminus": [
            [
             0,
             "#0d0887"
            ],
            [
             0.1111111111111111,
             "#46039f"
            ],
            [
             0.2222222222222222,
             "#7201a8"
            ],
            [
             0.3333333333333333,
             "#9c179e"
            ],
            [
             0.4444444444444444,
             "#bd3786"
            ],
            [
             0.5555555555555556,
             "#d8576b"
            ],
            [
             0.6666666666666666,
             "#ed7953"
            ],
            [
             0.7777777777777778,
             "#fb9f3a"
            ],
            [
             0.8888888888888888,
             "#fdca26"
            ],
            [
             1,
             "#f0f921"
            ]
           ]
          },
          "colorway": [
           "#636efa",
           "#EF553B",
           "#00cc96",
           "#ab63fa",
           "#FFA15A",
           "#19d3f3",
           "#FF6692",
           "#B6E880",
           "#FF97FF",
           "#FECB52"
          ],
          "font": {
           "color": "#2a3f5f"
          },
          "geo": {
           "bgcolor": "white",
           "lakecolor": "white",
           "landcolor": "#E5ECF6",
           "showlakes": true,
           "showland": true,
           "subunitcolor": "white"
          },
          "hoverlabel": {
           "align": "left"
          },
          "hovermode": "closest",
          "mapbox": {
           "style": "light"
          },
          "paper_bgcolor": "white",
          "plot_bgcolor": "#E5ECF6",
          "polar": {
           "angularaxis": {
            "gridcolor": "white",
            "linecolor": "white",
            "ticks": ""
           },
           "bgcolor": "#E5ECF6",
           "radialaxis": {
            "gridcolor": "white",
            "linecolor": "white",
            "ticks": ""
           }
          },
          "scene": {
           "xaxis": {
            "backgroundcolor": "#E5ECF6",
            "gridcolor": "white",
            "gridwidth": 2,
            "linecolor": "white",
            "showbackground": true,
            "ticks": "",
            "zerolinecolor": "white"
           },
           "yaxis": {
            "backgroundcolor": "#E5ECF6",
            "gridcolor": "white",
            "gridwidth": 2,
            "linecolor": "white",
            "showbackground": true,
            "ticks": "",
            "zerolinecolor": "white"
           },
           "zaxis": {
            "backgroundcolor": "#E5ECF6",
            "gridcolor": "white",
            "gridwidth": 2,
            "linecolor": "white",
            "showbackground": true,
            "ticks": "",
            "zerolinecolor": "white"
           }
          },
          "shapedefaults": {
           "line": {
            "color": "#2a3f5f"
           }
          },
          "ternary": {
           "aaxis": {
            "gridcolor": "white",
            "linecolor": "white",
            "ticks": ""
           },
           "baxis": {
            "gridcolor": "white",
            "linecolor": "white",
            "ticks": ""
           },
           "bgcolor": "#E5ECF6",
           "caxis": {
            "gridcolor": "white",
            "linecolor": "white",
            "ticks": ""
           }
          },
          "title": {
           "x": 0.05
          },
          "xaxis": {
           "automargin": true,
           "gridcolor": "white",
           "linecolor": "white",
           "ticks": "",
           "title": {
            "standoff": 15
           },
           "zerolinecolor": "white",
           "zerolinewidth": 2
          },
          "yaxis": {
           "automargin": true,
           "gridcolor": "white",
           "linecolor": "white",
           "ticks": "",
           "title": {
            "standoff": 15
           },
           "zerolinecolor": "white",
           "zerolinewidth": 2
          }
         }
        },
        "xaxis": {
         "anchor": "y",
         "domain": [
          0,
          1
         ],
         "title": {
          "text": "Perimeter"
         }
        },
        "yaxis": {
         "anchor": "x",
         "domain": [
          0,
          1
         ],
         "title": {
          "text": "Extent"
         }
        }
       }
      }
     },
     "metadata": {},
     "output_type": "display_data"
    },
    {
     "data": {
      "application/vnd.plotly.v1+json": {
       "config": {
        "plotlyServerURL": "https://plot.ly"
       },
       "data": [
        {
         "hovertemplate": "Class=Cammeo<br>Eccentricity=%{x}<br>Major_Axis_Length=%{y}<extra></extra>",
         "legendgroup": "Cammeo",
         "marker": {
          "color": "#636efa",
          "symbol": "circle"
         },
         "mode": "markers",
         "name": "Cammeo",
         "showlegend": true,
         "type": "scattergl",
         "x": {
          "bdata": "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",
          "dtype": "f8"
         },
         "xaxis": "x",
         "y": {
          "bdata": "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",
          "dtype": "f8"
         },
         "yaxis": "y"
        },
        {
         "hovertemplate": "Class=Osmancik<br>Eccentricity=%{x}<br>Major_Axis_Length=%{y}<extra></extra>",
         "legendgroup": "Osmancik",
         "marker": {
          "color": "#EF553B",
          "symbol": "circle"
         },
         "mode": "markers",
         "name": "Osmancik",
         "showlegend": true,
         "type": "scattergl",
         "x": {
          "bdata": "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",
          "dtype": "f8"
         },
         "xaxis": "x",
         "y": {
          "bdata": "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",
          "dtype": "f8"
         },
         "yaxis": "y"
        }
       ],
       "layout": {
        "legend": {
         "title": {
          "text": "Class"
         },
         "tracegroupgap": 0
        },
        "margin": {
         "t": 60
        },
        "template": {
         "data": {
          "bar": [
           {
            "error_x": {
             "color": "#2a3f5f"
            },
            "error_y": {
             "color": "#2a3f5f"
            },
            "marker": {
             "line": {
              "color": "#E5ECF6",
              "width": 0.5
             },
             "pattern": {
              "fillmode": "overlay",
              "size": 10,
              "solidity": 0.2
             }
            },
            "type": "bar"
           }
          ],
          "barpolar": [
           {
            "marker": {
             "line": {
              "color": "#E5ECF6",
              "width": 0.5
             },
             "pattern": {
              "fillmode": "overlay",
              "size": 10,
              "solidity": 0.2
             }
            },
            "type": "barpolar"
           }
          ],
          "carpet": [
           {
            "aaxis": {
             "endlinecolor": "#2a3f5f",
             "gridcolor": "white",
             "linecolor": "white",
             "minorgridcolor": "white",
             "startlinecolor": "#2a3f5f"
            },
            "baxis": {
             "endlinecolor": "#2a3f5f",
             "gridcolor": "white",
             "linecolor": "white",
             "minorgridcolor": "white",
             "startlinecolor": "#2a3f5f"
            },
            "type": "carpet"
           }
          ],
          "choropleth": [
           {
            "colorbar": {
             "outlinewidth": 0,
             "ticks": ""
            },
            "type": "choropleth"
           }
          ],
          "contour": [
           {
            "colorbar": {
             "outlinewidth": 0,
             "ticks": ""
            },
            "colorscale": [
             [
              0,
              "#0d0887"
             ],
             [
              0.1111111111111111,
              "#46039f"
             ],
             [
              0.2222222222222222,
              "#7201a8"
             ],
             [
              0.3333333333333333,
              "#9c179e"
             ],
             [
              0.4444444444444444,
              "#bd3786"
             ],
             [
              0.5555555555555556,
              "#d8576b"
             ],
             [
              0.6666666666666666,
              "#ed7953"
             ],
             [
              0.7777777777777778,
              "#fb9f3a"
             ],
             [
              0.8888888888888888,
              "#fdca26"
             ],
             [
              1,
              "#f0f921"
             ]
            ],
            "type": "contour"
           }
          ],
          "contourcarpet": [
           {
            "colorbar": {
             "outlinewidth": 0,
             "ticks": ""
            },
            "type": "contourcarpet"
           }
          ],
          "heatmap": [
           {
            "colorbar": {
             "outlinewidth": 0,
             "ticks": ""
            },
            "colorscale": [
             [
              0,
              "#0d0887"
             ],
             [
              0.1111111111111111,
              "#46039f"
             ],
             [
              0.2222222222222222,
              "#7201a8"
             ],
             [
              0.3333333333333333,
              "#9c179e"
             ],
             [
              0.4444444444444444,
              "#bd3786"
             ],
             [
              0.5555555555555556,
              "#d8576b"
             ],
             [
              0.6666666666666666,
              "#ed7953"
             ],
             [
              0.7777777777777778,
              "#fb9f3a"
             ],
             [
              0.8888888888888888,
              "#fdca26"
             ],
             [
              1,
              "#f0f921"
             ]
            ],
            "type": "heatmap"
           }
          ],
          "histogram": [
           {
            "marker": {
             "pattern": {
              "fillmode": "overlay",
              "size": 10,
              "solidity": 0.2
             }
            },
            "type": "histogram"
           }
          ],
          "histogram2d": [
           {
            "colorbar": {
             "outlinewidth": 0,
             "ticks": ""
            },
            "colorscale": [
             [
              0,
              "#0d0887"
             ],
             [
              0.1111111111111111,
              "#46039f"
             ],
             [
              0.2222222222222222,
              "#7201a8"
             ],
             [
              0.3333333333333333,
              "#9c179e"
             ],
             [
              0.4444444444444444,
              "#bd3786"
             ],
             [
              0.5555555555555556,
              "#d8576b"
             ],
             [
              0.6666666666666666,
              "#ed7953"
             ],
             [
              0.7777777777777778,
              "#fb9f3a"
             ],
             [
              0.8888888888888888,
              "#fdca26"
             ],
             [
              1,
              "#f0f921"
             ]
            ],
            "type": "histogram2d"
           }
          ],
          "histogram2dcontour": [
           {
            "colorbar": {
             "outlinewidth": 0,
             "ticks": ""
            },
            "colorscale": [
             [
              0,
              "#0d0887"
             ],
             [
              0.1111111111111111,
              "#46039f"
             ],
             [
              0.2222222222222222,
              "#7201a8"
             ],
             [
              0.3333333333333333,
              "#9c179e"
             ],
             [
              0.4444444444444444,
              "#bd3786"
             ],
             [
              0.5555555555555556,
              "#d8576b"
             ],
             [
              0.6666666666666666,
              "#ed7953"
             ],
             [
              0.7777777777777778,
              "#fb9f3a"
             ],
             [
              0.8888888888888888,
              "#fdca26"
             ],
             [
              1,
              "#f0f921"
             ]
            ],
            "type": "histogram2dcontour"
           }
          ],
          "mesh3d": [
           {
            "colorbar": {
             "outlinewidth": 0,
             "ticks": ""
            },
            "type": "mesh3d"
           }
          ],
          "parcoords": [
           {
            "line": {
             "colorbar": {
              "outlinewidth": 0,
              "ticks": ""
             }
            },
            "type": "parcoords"
           }
          ],
          "pie": [
           {
            "automargin": true,
            "type": "pie"
           }
          ],
          "scatter": [
           {
            "fillpattern": {
             "fillmode": "overlay",
             "size": 10,
             "solidity": 0.2
            },
            "type": "scatter"
           }
          ],
          "scatter3d": [
           {
            "line": {
             "colorbar": {
              "outlinewidth": 0,
              "ticks": ""
             }
            },
            "marker": {
             "colorbar": {
              "outlinewidth": 0,
              "ticks": ""
             }
            },
            "type": "scatter3d"
           }
          ],
          "scattercarpet": [
           {
            "marker": {
             "colorbar": {
              "outlinewidth": 0,
              "ticks": ""
             }
            },
            "type": "scattercarpet"
           }
          ],
          "scattergeo": [
           {
            "marker": {
             "colorbar": {
              "outlinewidth": 0,
              "ticks": ""
             }
            },
            "type": "scattergeo"
           }
          ],
          "scattergl": [
           {
            "marker": {
             "colorbar": {
              "outlinewidth": 0,
              "ticks": ""
             }
            },
            "type": "scattergl"
           }
          ],
          "scattermap": [
           {
            "marker": {
             "colorbar": {
              "outlinewidth": 0,
              "ticks": ""
             }
            },
            "type": "scattermap"
           }
          ],
          "scattermapbox": [
           {
            "marker": {
             "colorbar": {
              "outlinewidth": 0,
              "ticks": ""
             }
            },
            "type": "scattermapbox"
           }
          ],
          "scatterpolar": [
           {
            "marker": {
             "colorbar": {
              "outlinewidth": 0,
              "ticks": ""
             }
            },
            "type": "scatterpolar"
           }
          ],
          "scatterpolargl": [
           {
            "marker": {
             "colorbar": {
              "outlinewidth": 0,
              "ticks": ""
             }
            },
            "type": "scatterpolargl"
           }
          ],
          "scatterternary": [
           {
            "marker": {
             "colorbar": {
              "outlinewidth": 0,
              "ticks": ""
             }
            },
            "type": "scatterternary"
           }
          ],
          "surface": [
           {
            "colorbar": {
             "outlinewidth": 0,
             "ticks": ""
            },
            "colorscale": [
             [
              0,
              "#0d0887"
             ],
             [
              0.1111111111111111,
              "#46039f"
             ],
             [
              0.2222222222222222,
              "#7201a8"
             ],
             [
              0.3333333333333333,
              "#9c179e"
             ],
             [
              0.4444444444444444,
              "#bd3786"
             ],
             [
              0.5555555555555556,
              "#d8576b"
             ],
             [
              0.6666666666666666,
              "#ed7953"
             ],
             [
              0.7777777777777778,
              "#fb9f3a"
             ],
             [
              0.8888888888888888,
              "#fdca26"
             ],
             [
              1,
              "#f0f921"
             ]
            ],
            "type": "surface"
           }
          ],
          "table": [
           {
            "cells": {
             "fill": {
              "color": "#EBF0F8"
             },
             "line": {
              "color": "white"
             }
            },
            "header": {
             "fill": {
              "color": "#C8D4E3"
             },
             "line": {
              "color": "white"
             }
            },
            "type": "table"
           }
          ]
         },
         "layout": {
          "annotationdefaults": {
           "arrowcolor": "#2a3f5f",
           "arrowhead": 0,
           "arrowwidth": 1
          },
          "autotypenumbers": "strict",
          "coloraxis": {
           "colorbar": {
            "outlinewidth": 0,
            "ticks": ""
           }
          },
          "colorscale": {
           "diverging": [
            [
             0,
             "#8e0152"
            ],
            [
             0.1,
             "#c51b7d"
            ],
            [
             0.2,
             "#de77ae"
            ],
            [
             0.3,
             "#f1b6da"
            ],
            [
             0.4,
             "#fde0ef"
            ],
            [
             0.5,
             "#f7f7f7"
            ],
            [
             0.6,
             "#e6f5d0"
            ],
            [
             0.7,
             "#b8e186"
            ],
            [
             0.8,
             "#7fbc41"
            ],
            [
             0.9,
             "#4d9221"
            ],
            [
             1,
             "#276419"
            ]
           ],
           "sequential": [
            [
             0,
             "#0d0887"
            ],
            [
             0.1111111111111111,
             "#46039f"
            ],
            [
             0.2222222222222222,
             "#7201a8"
            ],
            [
             0.3333333333333333,
             "#9c179e"
            ],
            [
             0.4444444444444444,
             "#bd3786"
            ],
            [
             0.5555555555555556,
             "#d8576b"
            ],
            [
             0.6666666666666666,
             "#ed7953"
            ],
            [
             0.7777777777777778,
             "#fb9f3a"
            ],
            [
             0.8888888888888888,
             "#fdca26"
            ],
            [
             1,
             "#f0f921"
            ]
           ],
           "sequentialminus": [
            [
             0,
             "#0d0887"
            ],
            [
             0.1111111111111111,
             "#46039f"
            ],
            [
             0.2222222222222222,
             "#7201a8"
            ],
            [
             0.3333333333333333,
             "#9c179e"
            ],
            [
             0.4444444444444444,
             "#bd3786"
            ],
            [
             0.5555555555555556,
             "#d8576b"
            ],
            [
             0.6666666666666666,
             "#ed7953"
            ],
            [
             0.7777777777777778,
             "#fb9f3a"
            ],
            [
             0.8888888888888888,
             "#fdca26"
            ],
            [
             1,
             "#f0f921"
            ]
           ]
          },
          "colorway": [
           "#636efa",
           "#EF553B",
           "#00cc96",
           "#ab63fa",
           "#FFA15A",
           "#19d3f3",
           "#FF6692",
           "#B6E880",
           "#FF97FF",
           "#FECB52"
          ],
          "font": {
           "color": "#2a3f5f"
          },
          "geo": {
           "bgcolor": "white",
           "lakecolor": "white",
           "landcolor": "#E5ECF6",
           "showlakes": true,
           "showland": true,
           "subunitcolor": "white"
          },
          "hoverlabel": {
           "align": "left"
          },
          "hovermode": "closest",
          "mapbox": {
           "style": "light"
          },
          "paper_bgcolor": "white",
          "plot_bgcolor": "#E5ECF6",
          "polar": {
           "angularaxis": {
            "gridcolor": "white",
            "linecolor": "white",
            "ticks": ""
           },
           "bgcolor": "#E5ECF6",
           "radialaxis": {
            "gridcolor": "white",
            "linecolor": "white",
            "ticks": ""
           }
          },
          "scene": {
           "xaxis": {
            "backgroundcolor": "#E5ECF6",
            "gridcolor": "white",
            "gridwidth": 2,
            "linecolor": "white",
            "showbackground": true,
            "ticks": "",
            "zerolinecolor": "white"
           },
           "yaxis": {
            "backgroundcolor": "#E5ECF6",
            "gridcolor": "white",
            "gridwidth": 2,
            "linecolor": "white",
            "showbackground": true,
            "ticks": "",
            "zerolinecolor": "white"
           },
           "zaxis": {
            "backgroundcolor": "#E5ECF6",
            "gridcolor": "white",
            "gridwidth": 2,
            "linecolor": "white",
            "showbackground": true,
            "ticks": "",
            "zerolinecolor": "white"
           }
          },
          "shapedefaults": {
           "line": {
            "color": "#2a3f5f"
           }
          },
          "ternary": {
           "aaxis": {
            "gridcolor": "white",
            "linecolor": "white",
            "ticks": ""
           },
           "baxis": {
            "gridcolor": "white",
            "linecolor": "white",
            "ticks": ""
           },
           "bgcolor": "#E5ECF6",
           "caxis": {
            "gridcolor": "white",
            "linecolor": "white",
            "ticks": ""
           }
          },
          "title": {
           "x": 0.05
          },
          "xaxis": {
           "automargin": true,
           "gridcolor": "white",
           "linecolor": "white",
           "ticks": "",
           "title": {
            "standoff": 15
           },
           "zerolinecolor": "white",
           "zerolinewidth": 2
          },
          "yaxis": {
           "automargin": true,
           "gridcolor": "white",
           "linecolor": "white",
           "ticks": "",
           "title": {
            "standoff": 15
           },
           "zerolinecolor": "white",
           "zerolinewidth": 2
          }
         }
        },
        "xaxis": {
         "anchor": "y",
         "domain": [
          0,
          1
         ],
         "title": {
          "text": "Eccentricity"
         }
        },
        "yaxis": {
         "anchor": "x",
         "domain": [
          0,
          1
         ],
         "title": {
          "text": "Major_Axis_Length"
         }
        }
       }
      }
     },
     "metadata": {},
     "output_type": "display_data"
    }
   ],
   "source": [
    "# Create five 2D plots of the features against each other, color-coded by class.\n",
    "for x_axis_data, y_axis_data in [\n",
    "    ('Area', 'Eccentricity'),\n",
    "    ('Convex_Area', 'Perimeter'),\n",
    "    ('Major_Axis_Length', 'Minor_Axis_Length'),\n",
    "    ('Perimeter', 'Extent'),\n",
    "    ('Eccentricity', 'Major_Axis_Length'),\n",
    "]:\n",
    "  px.scatter(rice_dataset, x=x_axis_data, y=y_axis_data, color='Class').show()"
   ]
  },
  {
   "cell_type": "code",
   "execution_count": 8,
   "id": "34416f68",
   "metadata": {},
   "outputs": [],
   "source": [
    "df =  rice_dataset"
   ]
  },
  {
   "cell_type": "code",
   "execution_count": 18,
   "id": "ccfb3753",
   "metadata": {},
   "outputs": [
    {
     "name": "stdout",
     "output_type": "stream",
     "text": [
      "<class 'pandas.core.frame.DataFrame'>\n",
      "RangeIndex: 3810 entries, 0 to 3809\n",
      "Data columns (total 8 columns):\n",
      " #   Column             Non-Null Count  Dtype  \n",
      "---  ------             --------------  -----  \n",
      " 0   Area               3810 non-null   int64  \n",
      " 1   Perimeter          3810 non-null   float64\n",
      " 2   Major_Axis_Length  3810 non-null   float64\n",
      " 3   Minor_Axis_Length  3810 non-null   float64\n",
      " 4   Eccentricity       3810 non-null   float64\n",
      " 5   Convex_Area        3810 non-null   int64  \n",
      " 6   Extent             3810 non-null   float64\n",
      " 7   Class              3810 non-null   object \n",
      "dtypes: float64(5), int64(2), object(1)\n",
      "memory usage: 238.3+ KB\n"
     ]
    }
   ],
   "source": [
    "df.info()"
   ]
  },
  {
   "cell_type": "code",
   "execution_count": 10,
   "id": "bc97b6a1",
   "metadata": {},
   "outputs": [
    {
     "data": {
      "application/vnd.microsoft.datawrangler.viewer.v0+json": {
       "columns": [
        {
         "name": "index",
         "rawType": "object",
         "type": "string"
        },
        {
         "name": "Area",
         "rawType": "float64",
         "type": "float"
        },
        {
         "name": "Perimeter",
         "rawType": "float64",
         "type": "float"
        },
        {
         "name": "Major_Axis_Length",
         "rawType": "float64",
         "type": "float"
        },
        {
         "name": "Minor_Axis_Length",
         "rawType": "float64",
         "type": "float"
        },
        {
         "name": "Eccentricity",
         "rawType": "float64",
         "type": "float"
        },
        {
         "name": "Convex_Area",
         "rawType": "float64",
         "type": "float"
        },
        {
         "name": "Extent",
         "rawType": "float64",
         "type": "float"
        }
       ],
       "ref": "505750b3-ac0c-4c90-9cea-5d0256a948ed",
       "rows": [
        [
         "count",
         "3810.0",
         "3810.0",
         "3810.0",
         "3810.0",
         "3810.0",
         "3810.0",
         "3810.0"
        ],
        [
         "mean",
         "12667.727559055118",
         "454.23918014886823",
         "188.77622197669328",
         "86.31375037165765",
         "0.886870506742182",
         "12952.496850393702",
         "0.6619340379094202"
        ],
        [
         "std",
         "1732.3677060741602",
         "35.59708144273355",
         "17.44867850174685",
         "5.729817333643741",
         "0.020817634100477742",
         "1776.9720420835554",
         "0.07723877328752676"
        ],
        [
         "min",
         "7551.0",
         "359.100006103516",
         "145.264465332031",
         "59.5324058532715",
         "0.777232587337494",
         "7723.0",
         "0.497412860393524"
        ],
        [
         "25%",
         "11370.5",
         "426.1447525024413",
         "174.35385513305698",
         "82.73169517517087",
         "0.8724015206098554",
         "11626.25",
         "0.5988622605800632"
        ],
        [
         "50%",
         "12421.5",
         "448.85249328613247",
         "185.81005859375",
         "86.43464660644534",
         "0.8890500962734225",
         "12706.5",
         "0.645361423492432"
        ],
        [
         "75%",
         "13950.0",
         "483.6837463378905",
         "203.55043792724575",
         "90.14367675781247",
         "0.9025879800319672",
         "14284.0",
         "0.726561561226845"
        ],
        [
         "max",
         "18913.0",
         "548.445983886719",
         "239.010498046875",
         "107.542449951172",
         "0.948006927967072",
         "19099.0",
         "0.86104953289032"
        ]
       ],
       "shape": {
        "columns": 7,
        "rows": 8
       }
      },
      "text/html": [
       "<div>\n",
       "<style scoped>\n",
       "    .dataframe tbody tr th:only-of-type {\n",
       "        vertical-align: middle;\n",
       "    }\n",
       "\n",
       "    .dataframe tbody tr th {\n",
       "        vertical-align: top;\n",
       "    }\n",
       "\n",
       "    .dataframe thead th {\n",
       "        text-align: right;\n",
       "    }\n",
       "</style>\n",
       "<table border=\"1\" class=\"dataframe\">\n",
       "  <thead>\n",
       "    <tr style=\"text-align: right;\">\n",
       "      <th></th>\n",
       "      <th>Area</th>\n",
       "      <th>Perimeter</th>\n",
       "      <th>Major_Axis_Length</th>\n",
       "      <th>Minor_Axis_Length</th>\n",
       "      <th>Eccentricity</th>\n",
       "      <th>Convex_Area</th>\n",
       "      <th>Extent</th>\n",
       "    </tr>\n",
       "  </thead>\n",
       "  <tbody>\n",
       "    <tr>\n",
       "      <th>count</th>\n",
       "      <td>3810.0</td>\n",
       "      <td>3810.0</td>\n",
       "      <td>3810.0</td>\n",
       "      <td>3810.0</td>\n",
       "      <td>3810.0</td>\n",
       "      <td>3810.0</td>\n",
       "      <td>3810.0</td>\n",
       "    </tr>\n",
       "    <tr>\n",
       "      <th>mean</th>\n",
       "      <td>12667.7</td>\n",
       "      <td>454.2</td>\n",
       "      <td>188.8</td>\n",
       "      <td>86.3</td>\n",
       "      <td>0.9</td>\n",
       "      <td>12952.5</td>\n",
       "      <td>0.7</td>\n",
       "    </tr>\n",
       "    <tr>\n",
       "      <th>std</th>\n",
       "      <td>1732.4</td>\n",
       "      <td>35.6</td>\n",
       "      <td>17.4</td>\n",
       "      <td>5.7</td>\n",
       "      <td>0.0</td>\n",
       "      <td>1777.0</td>\n",
       "      <td>0.1</td>\n",
       "    </tr>\n",
       "    <tr>\n",
       "      <th>min</th>\n",
       "      <td>7551.0</td>\n",
       "      <td>359.1</td>\n",
       "      <td>145.3</td>\n",
       "      <td>59.5</td>\n",
       "      <td>0.8</td>\n",
       "      <td>7723.0</td>\n",
       "      <td>0.5</td>\n",
       "    </tr>\n",
       "    <tr>\n",
       "      <th>25%</th>\n",
       "      <td>11370.5</td>\n",
       "      <td>426.1</td>\n",
       "      <td>174.4</td>\n",
       "      <td>82.7</td>\n",
       "      <td>0.9</td>\n",
       "      <td>11626.2</td>\n",
       "      <td>0.6</td>\n",
       "    </tr>\n",
       "    <tr>\n",
       "      <th>50%</th>\n",
       "      <td>12421.5</td>\n",
       "      <td>448.9</td>\n",
       "      <td>185.8</td>\n",
       "      <td>86.4</td>\n",
       "      <td>0.9</td>\n",
       "      <td>12706.5</td>\n",
       "      <td>0.6</td>\n",
       "    </tr>\n",
       "    <tr>\n",
       "      <th>75%</th>\n",
       "      <td>13950.0</td>\n",
       "      <td>483.7</td>\n",
       "      <td>203.6</td>\n",
       "      <td>90.1</td>\n",
       "      <td>0.9</td>\n",
       "      <td>14284.0</td>\n",
       "      <td>0.7</td>\n",
       "    </tr>\n",
       "    <tr>\n",
       "      <th>max</th>\n",
       "      <td>18913.0</td>\n",
       "      <td>548.4</td>\n",
       "      <td>239.0</td>\n",
       "      <td>107.5</td>\n",
       "      <td>0.9</td>\n",
       "      <td>19099.0</td>\n",
       "      <td>0.9</td>\n",
       "    </tr>\n",
       "  </tbody>\n",
       "</table>\n",
       "</div>"
      ],
      "text/plain": [
       "         Area  Perimeter  Major_Axis_Length  Minor_Axis_Length  Eccentricity  \\\n",
       "count  3810.0     3810.0             3810.0             3810.0        3810.0   \n",
       "mean  12667.7      454.2              188.8               86.3           0.9   \n",
       "std    1732.4       35.6               17.4                5.7           0.0   \n",
       "min    7551.0      359.1              145.3               59.5           0.8   \n",
       "25%   11370.5      426.1              174.4               82.7           0.9   \n",
       "50%   12421.5      448.9              185.8               86.4           0.9   \n",
       "75%   13950.0      483.7              203.6               90.1           0.9   \n",
       "max   18913.0      548.4              239.0              107.5           0.9   \n",
       "\n",
       "       Convex_Area  Extent  \n",
       "count       3810.0  3810.0  \n",
       "mean       12952.5     0.7  \n",
       "std         1777.0     0.1  \n",
       "min         7723.0     0.5  \n",
       "25%        11626.2     0.6  \n",
       "50%        12706.5     0.6  \n",
       "75%        14284.0     0.7  \n",
       "max        19099.0     0.9  "
      ]
     },
     "execution_count": 10,
     "metadata": {},
     "output_type": "execute_result"
    }
   ],
   "source": [
    "df.describe()"
   ]
  },
  {
   "cell_type": "code",
   "execution_count": 11,
   "id": "43043025",
   "metadata": {},
   "outputs": [
    {
     "data": {
      "application/vnd.microsoft.datawrangler.viewer.v0+json": {
       "columns": [
        {
         "name": "index",
         "rawType": "object",
         "type": "string"
        },
        {
         "name": "0",
         "rawType": "int64",
         "type": "integer"
        }
       ],
       "ref": "7e58d5d2-2cba-457e-832c-fa777845bbcb",
       "rows": [
        [
         "Area",
         "0"
        ],
        [
         "Perimeter",
         "0"
        ],
        [
         "Major_Axis_Length",
         "0"
        ],
        [
         "Minor_Axis_Length",
         "0"
        ],
        [
         "Eccentricity",
         "0"
        ],
        [
         "Convex_Area",
         "0"
        ],
        [
         "Extent",
         "0"
        ],
        [
         "Class",
         "0"
        ]
       ],
       "shape": {
        "columns": 1,
        "rows": 8
       }
      },
      "text/plain": [
       "Area                 0\n",
       "Perimeter            0\n",
       "Major_Axis_Length    0\n",
       "Minor_Axis_Length    0\n",
       "Eccentricity         0\n",
       "Convex_Area          0\n",
       "Extent               0\n",
       "Class                0\n",
       "dtype: int64"
      ]
     },
     "execution_count": 11,
     "metadata": {},
     "output_type": "execute_result"
    }
   ],
   "source": [
    "df.isnull().sum()"
   ]
  },
  {
   "cell_type": "code",
   "execution_count": 13,
   "id": "318c7d0b",
   "metadata": {},
   "outputs": [
    {
     "data": {
      "application/vnd.microsoft.datawrangler.viewer.v0+json": {
       "columns": [
        {
         "name": "Class",
         "rawType": "object",
         "type": "string"
        },
        {
         "name": "count",
         "rawType": "int64",
         "type": "integer"
        }
       ],
       "ref": "4d03dbbe-379a-473c-bf78-781aca30e1ae",
       "rows": [
        [
         "Osmancik",
         "2180"
        ],
        [
         "Cammeo",
         "1630"
        ]
       ],
       "shape": {
        "columns": 1,
        "rows": 2
       }
      },
      "text/plain": [
       "Class\n",
       "Osmancik    2180\n",
       "Cammeo      1630\n",
       "Name: count, dtype: int64"
      ]
     },
     "execution_count": 13,
     "metadata": {},
     "output_type": "execute_result"
    }
   ],
   "source": [
    "df['Class'].value_counts()"
   ]
  },
  {
   "cell_type": "code",
   "execution_count": 19,
   "id": "cb82ba25",
   "metadata": {},
   "outputs": [],
   "source": [
    "from sklearn.metrics import mean_squared_error,root_mean_squared_error, mean_absolute_error,r2_score\n",
    "from sklearn.preprocessing import OneHotEncoder\n",
    "from sklearn.compose import ColumnTransformer"
   ]
  },
  {
   "cell_type": "code",
   "execution_count": 17,
   "id": "a9b97e0b",
   "metadata": {},
   "outputs": [
    {
     "data": {
      "text/plain": [
       "Index(['Area', 'Perimeter', 'Major_Axis_Length', 'Minor_Axis_Length',\n",
       "       'Eccentricity', 'Convex_Area', 'Extent', 'Class'],\n",
       "      dtype='object')"
      ]
     },
     "execution_count": 17,
     "metadata": {},
     "output_type": "execute_result"
    }
   ],
   "source": [
    "df.columns"
   ]
  },
  {
   "cell_type": "code",
   "execution_count": 26,
   "id": "4b28b970",
   "metadata": {},
   "outputs": [],
   "source": [
    "categorical_features = []\n",
    "numerical_features = ['Area', 'Perimeter', 'Major_Axis_Length', 'Minor_Axis_Length',\n",
    "       'Eccentricity', 'Convex_Area', 'Extent']"
   ]
  },
  {
   "cell_type": "code",
   "execution_count": 27,
   "id": "2d0914c7",
   "metadata": {},
   "outputs": [],
   "source": [
    "preprocessor = ColumnTransformer([\n",
    "], remainder='passthrough')"
   ]
  },
  {
   "cell_type": "code",
   "execution_count": 28,
   "id": "68435f40",
   "metadata": {},
   "outputs": [
    {
     "name": "stdout",
     "output_type": "stream",
     "text": [
      "Accuracy Score: 0.9251968503937008\n",
      "\n",
      "Classification Report:\n",
      "               precision    recall  f1-score   support\n",
      "\n",
      "      Cammeo       0.92      0.91      0.92       350\n",
      "    Osmancik       0.93      0.93      0.93       412\n",
      "\n",
      "    accuracy                           0.93       762\n",
      "   macro avg       0.92      0.92      0.92       762\n",
      "weighted avg       0.93      0.93      0.93       762\n",
      "\n"
     ]
    }
   ],
   "source": [
    "from sklearn.pipeline import Pipeline\n",
    "from sklearn.ensemble import RandomForestClassifier\n",
    "from sklearn.model_selection import train_test_split\n",
    "from sklearn.metrics import accuracy_score, classification_report\n",
    "\n",
    "# data split\n",
    "X = df.drop('Class', axis=1)\n",
    "y = df['Class']\n",
    "\n",
    "X_train, X_test, y_train, y_test = train_test_split(X, y ,test_size=0.2, random_state=42)\n",
    "\n",
    "# create pipeline\n",
    "model_pipeline = Pipeline([\n",
    "    ('preprocessor', preprocessor),\n",
    "    ('model', RandomForestClassifier(random_state=42))\n",
    "])\n",
    "\n",
    "# fit\n",
    "model_pipeline.fit(X_train, y_train)\n",
    "\n",
    "# predict\n",
    "y_pred = model_pipeline.predict(X_test)\n",
    "\n",
    "# evaluate\n",
    "print(\"Accuracy Score:\", accuracy_score(y_test, y_pred))\n",
    "print(\"\\nClassification Report:\\n\", classification_report(y_test, y_pred))\n"
   ]
  },
  {
   "cell_type": "code",
   "execution_count": 29,
   "id": "f1a75dee",
   "metadata": {},
   "outputs": [
    {
     "data": {
      "image/png": "[encoded data removed]",
      "text/plain": [
       "<Figure size 800x400 with 1 Axes>"
      ]
     },
     "metadata": {},
     "output_type": "display_data"
    },
    {
     "data": {
      "image/png": "[encoded data removed]",
      "text/plain": [
       "<Figure size 800x400 with 1 Axes>"
      ]
     },
     "metadata": {},
     "output_type": "display_data"
    },
    {
     "data": {
      "image/png": "[encoded data removed]",
      "text/plain": [
       "<Figure size 800x400 with 1 Axes>"
      ]
     },
     "metadata": {},
     "output_type": "display_data"
    },
    {
     "data": {
      "image/png": "[encoded data removed]",
      "text/plain": [
       "<Figure size 800x400 with 1 Axes>"
      ]
     },
     "metadata": {},
     "output_type": "display_data"
    },
    {
     "data": {
      "image/png": "[encoded data removed]",
      "text/plain": [
       "<Figure size 800x400 with 1 Axes>"
      ]
     },
     "metadata": {},
     "output_type": "display_data"
    },
    {
     "data": {
      "image/png": "[encoded data removed]",
      "text/plain": [
       "<Figure size 800x400 with 1 Axes>"
      ]
     },
     "metadata": {},
     "output_type": "display_data"
    },
    {
     "data": {
      "image/png": "[encoded data removed]",
      "text/plain": [
       "<Figure size 800x400 with 1 Axes>"
      ]
     },
     "metadata": {},
     "output_type": "display_data"
    }
   ],
   "source": [
    "import seaborn as sns\n",
    "import matplotlib.pyplot as plt\n",
    "\n",
    "# Assuming your DataFrame is called 'df'\n",
    "features = ['Area', 'Perimeter', 'Major_Axis_Length', 'Minor_Axis_Length',\n",
    "            'Eccentricity', 'Convex_Area', 'Extent']\n",
    "\n",
    "for feature in features:\n",
    "    plt.figure(figsize=(8, 4))\n",
    "    sns.boxplot(x='Class', y=feature, data=df)\n",
    "    plt.title(f'{feature} Distribution by Class')\n",
    "    plt.tight_layout()\n",
    "    plt.show()"
   ]
  },
  {
   "cell_type": "code",
   "execution_count": 30,
   "id": "ead39e53",
   "metadata": {},
   "outputs": [
    {
     "data": {
      "image/png": "[encoded data removed]",
      "text/plain": [
       "<Figure size 800x600 with 2 Axes>"
      ]
     },
     "metadata": {},
     "output_type": "display_data"
    }
   ],
   "source": [
    "from sklearn.metrics import classification_report\n",
    "import pandas as pd\n",
    "\n",
    "# Generate report as dictionary\n",
    "report = classification_report(y_test, y_pred, output_dict=True)\n",
    "report_df = pd.DataFrame(report).transpose()\n",
    "\n",
    "# Plot heatmap\n",
    "plt.figure(figsize=(8, 6))\n",
    "sns.heatmap(report_df.iloc[:-1, :-1], annot=True, cmap='Blues')\n",
    "plt.title('Classification Report Heatmap')\n",
    "plt.tight_layout()\n",
    "plt.show()"
   ]
  }
 ],
 "metadata": {
  "kernelspec": {
   "display_name": "venv312",
   "language": "python",
   "name": "python3"
  },
  "language_info": {
   "codemirror_mode": {
    "name": "ipython",
    "version": 3
   },
   "file_extension": ".py",
   "mimetype": "text/x-python",
   "name": "python",
   "nbconvert_exporter": "python",
   "pygments_lexer": "ipython3",
   "version": "3.12.10"
  }
 },
 "nbformat": 4,
 "nbformat_minor": 5
}
