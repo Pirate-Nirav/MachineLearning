{
 "cells": [
  {
   "cell_type": "code",
   "execution_count": 1,
   "id": "a8d60f5d",
   "metadata": {},
   "outputs": [],
   "source": [
    "import pandas as pd\n",
    "import numpy as np"
   ]
  },
  {
   "cell_type": "code",
   "execution_count": null,
   "id": "703d6bed",
   "metadata": {},
   "outputs": [],
   "source": [
    "car_sales = pd.read_csv(\"data\\\\car-sales.csv\") # if csv file is in same folder then remove 'data\\\\'"
   ]
  },
  {
   "cell_type": "code",
   "execution_count": 3,
   "id": "a2589a36",
   "metadata": {},
   "outputs": [
    {
     "data": {
      "text/html": [
       "<div>\n",
       "<style scoped>\n",
       "    .dataframe tbody tr th:only-of-type {\n",
       "        vertical-align: middle;\n",
       "    }\n",
       "\n",
       "    .dataframe tbody tr th {\n",
       "        vertical-align: top;\n",
       "    }\n",
       "\n",
       "    .dataframe thead th {\n",
       "        text-align: right;\n",
       "    }\n",
       "</style>\n",
       "<table border=\"1\" class=\"dataframe\">\n",
       "  <thead>\n",
       "    <tr style=\"text-align: right;\">\n",
       "      <th></th>\n",
       "      <th>Make</th>\n",
       "      <th>Colour</th>\n",
       "      <th>Odometer (KM)</th>\n",
       "      <th>Doors</th>\n",
       "      <th>Price</th>\n",
       "    </tr>\n",
       "  </thead>\n",
       "  <tbody>\n",
       "    <tr>\n",
       "      <th>0</th>\n",
       "      <td>Toyota</td>\n",
       "      <td>White</td>\n",
       "      <td>150043</td>\n",
       "      <td>4</td>\n",
       "      <td>$4,000.00</td>\n",
       "    </tr>\n",
       "    <tr>\n",
       "      <th>1</th>\n",
       "      <td>Honda</td>\n",
       "      <td>Red</td>\n",
       "      <td>87899</td>\n",
       "      <td>4</td>\n",
       "      <td>$5,000.00</td>\n",
       "    </tr>\n",
       "    <tr>\n",
       "      <th>2</th>\n",
       "      <td>Toyota</td>\n",
       "      <td>Blue</td>\n",
       "      <td>32549</td>\n",
       "      <td>3</td>\n",
       "      <td>$7,000.00</td>\n",
       "    </tr>\n",
       "    <tr>\n",
       "      <th>3</th>\n",
       "      <td>BMW</td>\n",
       "      <td>Black</td>\n",
       "      <td>11179</td>\n",
       "      <td>5</td>\n",
       "      <td>$22,000.00</td>\n",
       "    </tr>\n",
       "    <tr>\n",
       "      <th>4</th>\n",
       "      <td>Nissan</td>\n",
       "      <td>White</td>\n",
       "      <td>213095</td>\n",
       "      <td>4</td>\n",
       "      <td>$3,500.00</td>\n",
       "    </tr>\n",
       "    <tr>\n",
       "      <th>5</th>\n",
       "      <td>Toyota</td>\n",
       "      <td>Green</td>\n",
       "      <td>99213</td>\n",
       "      <td>4</td>\n",
       "      <td>$4,500.00</td>\n",
       "    </tr>\n",
       "    <tr>\n",
       "      <th>6</th>\n",
       "      <td>Honda</td>\n",
       "      <td>Blue</td>\n",
       "      <td>45698</td>\n",
       "      <td>4</td>\n",
       "      <td>$7,500.00</td>\n",
       "    </tr>\n",
       "    <tr>\n",
       "      <th>7</th>\n",
       "      <td>Honda</td>\n",
       "      <td>Blue</td>\n",
       "      <td>54738</td>\n",
       "      <td>4</td>\n",
       "      <td>$7,000.00</td>\n",
       "    </tr>\n",
       "    <tr>\n",
       "      <th>8</th>\n",
       "      <td>Toyota</td>\n",
       "      <td>White</td>\n",
       "      <td>60000</td>\n",
       "      <td>4</td>\n",
       "      <td>$6,250.00</td>\n",
       "    </tr>\n",
       "    <tr>\n",
       "      <th>9</th>\n",
       "      <td>Nissan</td>\n",
       "      <td>White</td>\n",
       "      <td>31600</td>\n",
       "      <td>4</td>\n",
       "      <td>$9,700.00</td>\n",
       "    </tr>\n",
       "  </tbody>\n",
       "</table>\n",
       "</div>"
      ],
      "text/plain": [
       "     Make Colour  Odometer (KM)  Doors       Price\n",
       "0  Toyota  White         150043      4   $4,000.00\n",
       "1   Honda    Red          87899      4   $5,000.00\n",
       "2  Toyota   Blue          32549      3   $7,000.00\n",
       "3     BMW  Black          11179      5  $22,000.00\n",
       "4  Nissan  White         213095      4   $3,500.00\n",
       "5  Toyota  Green          99213      4   $4,500.00\n",
       "6   Honda   Blue          45698      4   $7,500.00\n",
       "7   Honda   Blue          54738      4   $7,000.00\n",
       "8  Toyota  White          60000      4   $6,250.00\n",
       "9  Nissan  White          31600      4   $9,700.00"
      ]
     },
     "execution_count": 3,
     "metadata": {},
     "output_type": "execute_result"
    }
   ],
   "source": [
    "car_sales"
   ]
  },
  {
   "cell_type": "code",
   "execution_count": 5,
   "id": "fb343a13",
   "metadata": {},
   "outputs": [
    {
     "data": {
      "application/vnd.microsoft.datawrangler.viewer.v0+json": {
       "columns": [
        {
         "name": "Make",
         "rawType": "object",
         "type": "string"
        },
        {
         "name": "3",
         "rawType": "int64",
         "type": "integer"
        },
        {
         "name": "4",
         "rawType": "int64",
         "type": "integer"
        },
        {
         "name": "5",
         "rawType": "int64",
         "type": "integer"
        }
       ],
       "ref": "f090c928-4787-4eec-9b6f-9de70ecfe97d",
       "rows": [
        [
         "BMW",
         "0",
         "0",
         "1"
        ],
        [
         "Honda",
         "0",
         "3",
         "0"
        ],
        [
         "Nissan",
         "0",
         "2",
         "0"
        ],
        [
         "Toyota",
         "1",
         "3",
         "0"
        ]
       ],
       "shape": {
        "columns": 3,
        "rows": 4
       }
      },
      "text/html": [
       "<div>\n",
       "<style scoped>\n",
       "    .dataframe tbody tr th:only-of-type {\n",
       "        vertical-align: middle;\n",
       "    }\n",
       "\n",
       "    .dataframe tbody tr th {\n",
       "        vertical-align: top;\n",
       "    }\n",
       "\n",
       "    .dataframe thead th {\n",
       "        text-align: right;\n",
       "    }\n",
       "</style>\n",
       "<table border=\"1\" class=\"dataframe\">\n",
       "  <thead>\n",
       "    <tr style=\"text-align: right;\">\n",
       "      <th>Doors</th>\n",
       "      <th>3</th>\n",
       "      <th>4</th>\n",
       "      <th>5</th>\n",
       "    </tr>\n",
       "    <tr>\n",
       "      <th>Make</th>\n",
       "      <th></th>\n",
       "      <th></th>\n",
       "      <th></th>\n",
       "    </tr>\n",
       "  </thead>\n",
       "  <tbody>\n",
       "    <tr>\n",
       "      <th>BMW</th>\n",
       "      <td>0</td>\n",
       "      <td>0</td>\n",
       "      <td>1</td>\n",
       "    </tr>\n",
       "    <tr>\n",
       "      <th>Honda</th>\n",
       "      <td>0</td>\n",
       "      <td>3</td>\n",
       "      <td>0</td>\n",
       "    </tr>\n",
       "    <tr>\n",
       "      <th>Nissan</th>\n",
       "      <td>0</td>\n",
       "      <td>2</td>\n",
       "      <td>0</td>\n",
       "    </tr>\n",
       "    <tr>\n",
       "      <th>Toyota</th>\n",
       "      <td>1</td>\n",
       "      <td>3</td>\n",
       "      <td>0</td>\n",
       "    </tr>\n",
       "  </tbody>\n",
       "</table>\n",
       "</div>"
      ],
      "text/plain": [
       "Doors   3  4  5\n",
       "Make           \n",
       "BMW     0  0  1\n",
       "Honda   0  3  0\n",
       "Nissan  0  2  0\n",
       "Toyota  1  3  0"
      ]
     },
     "execution_count": 5,
     "metadata": {},
     "output_type": "execute_result"
    }
   ],
   "source": [
    "pd.crosstab(car_sales[\"Make\"], car_sales[\"Doors\"])"
   ]
  },
  {
   "cell_type": "code",
   "execution_count": null,
   "id": "06ddc09e",
   "metadata": {},
   "outputs": [
    {
     "data": {
      "text/plain": [
       "<Axes: >"
      ]
     },
     "execution_count": 6,
     "metadata": {},
     "output_type": "execute_result"
    },
    {
     "data": {
      "image/png": "[encoded data removed]",
      "text/plain": [
       "<Figure size 640x480 with 1 Axes>"
      ]
     },
     "metadata": {},
     "output_type": "display_data"
    }
   ],
   "source": [
    "car_sales[\"Odometer (KM)\"].plot()"
   ]
  },
  {
   "cell_type": "code",
   "execution_count": 7,
   "id": "3f5d13c0",
   "metadata": {},
   "outputs": [
    {
     "data": {
      "text/plain": [
       "<Axes: >"
      ]
     },
     "execution_count": 7,
     "metadata": {},
     "output_type": "execute_result"
    },
    {
     "data": {
      "image/png": "[encoded data removed]",
      "text/plain": [
       "<Figure size 640x480 with 1 Axes>"
      ]
     },
     "metadata": {},
     "output_type": "display_data"
    }
   ],
   "source": [
    "car_sales[\"Price\"].hist()"
   ]
  },
  {
   "cell_type": "code",
   "execution_count": 8,
   "id": "de505b9c",
   "metadata": {},
   "outputs": [
    {
     "data": {
      "application/vnd.microsoft.datawrangler.viewer.v0+json": {
       "columns": [
        {
         "name": "index",
         "rawType": "int64",
         "type": "integer"
        },
        {
         "name": "Price",
         "rawType": "object",
         "type": "string"
        }
       ],
       "ref": "d696ae8e-7b9e-41f5-bcd8-c4fa044e838d",
       "rows": [
        [
         "0",
         "$4,000.00"
        ],
        [
         "1",
         "$5,000.00"
        ],
        [
         "2",
         "$7,000.00"
        ],
        [
         "3",
         "$22,000.00"
        ],
        [
         "4",
         "$3,500.00"
        ],
        [
         "5",
         "$4,500.00"
        ],
        [
         "6",
         "$7,500.00"
        ],
        [
         "7",
         "$7,000.00"
        ],
        [
         "8",
         "$6,250.00"
        ],
        [
         "9",
         "$9,700.00"
        ]
       ],
       "shape": {
        "columns": 1,
        "rows": 10
       }
      },
      "text/plain": [
       "0     $4,000.00\n",
       "1     $5,000.00\n",
       "2     $7,000.00\n",
       "3    $22,000.00\n",
       "4     $3,500.00\n",
       "5     $4,500.00\n",
       "6     $7,500.00\n",
       "7     $7,000.00\n",
       "8     $6,250.00\n",
       "9     $9,700.00\n",
       "Name: Price, dtype: object"
      ]
     },
     "execution_count": 8,
     "metadata": {},
     "output_type": "execute_result"
    }
   ],
   "source": [
    "car_sales[\"Price\"]"
   ]
  },
  {
   "cell_type": "code",
   "execution_count": null,
   "id": "c3944f13",
   "metadata": {},
   "outputs": [
    {
     "data": {
      "text/plain": [
       "dtype('O')"
      ]
     },
     "execution_count": 9,
     "metadata": {},
     "output_type": "execute_result"
    }
   ],
   "source": [
    "car_sales[\"Price\"].dtype # answer = dtype('O'), this is often used when the data in a column is not of a standard numeric or string type, but rather a more complex or mixed type."
   ]
  },
  {
   "cell_type": "code",
   "execution_count": 10,
   "id": "64885d84",
   "metadata": {},
   "outputs": [],
   "source": [
    "car_sales[\"Price\"] = car_sales[\"Price\"].replace(\"[$,.]\", \"\",regex=True).astype(int)"
   ]
  },
  {
   "cell_type": "code",
   "execution_count": 11,
   "id": "43e75550",
   "metadata": {},
   "outputs": [
    {
     "data": {
      "application/vnd.microsoft.datawrangler.viewer.v0+json": {
       "columns": [
        {
         "name": "index",
         "rawType": "int64",
         "type": "integer"
        },
        {
         "name": "Price",
         "rawType": "int64",
         "type": "integer"
        }
       ],
       "ref": "4b48bc59-63ac-4c4a-b7bc-d5f217c2052f",
       "rows": [
        [
         "0",
         "400000"
        ],
        [
         "1",
         "500000"
        ],
        [
         "2",
         "700000"
        ],
        [
         "3",
         "2200000"
        ],
        [
         "4",
         "350000"
        ],
        [
         "5",
         "450000"
        ],
        [
         "6",
         "750000"
        ],
        [
         "7",
         "700000"
        ],
        [
         "8",
         "625000"
        ],
        [
         "9",
         "970000"
        ]
       ],
       "shape": {
        "columns": 1,
        "rows": 10
       }
      },
      "text/plain": [
       "0     400000\n",
       "1     500000\n",
       "2     700000\n",
       "3    2200000\n",
       "4     350000\n",
       "5     450000\n",
       "6     750000\n",
       "7     700000\n",
       "8     625000\n",
       "9     970000\n",
       "Name: Price, dtype: int64"
      ]
     },
     "execution_count": 11,
     "metadata": {},
     "output_type": "execute_result"
    }
   ],
   "source": [
    "car_sales['Price']"
   ]
  },
  {
   "cell_type": "code",
   "execution_count": 12,
   "id": "7c8d2538",
   "metadata": {},
   "outputs": [],
   "source": [
    "car_sales['Make'] = car_sales['Make'].str.upper()"
   ]
  },
  {
   "cell_type": "code",
   "execution_count": 13,
   "id": "7232ac6a",
   "metadata": {},
   "outputs": [
    {
     "data": {
      "application/vnd.microsoft.datawrangler.viewer.v0+json": {
       "columns": [
        {
         "name": "index",
         "rawType": "int64",
         "type": "integer"
        },
        {
         "name": "Make",
         "rawType": "object",
         "type": "string"
        },
        {
         "name": "Colour",
         "rawType": "object",
         "type": "string"
        },
        {
         "name": "Odometer (KM)",
         "rawType": "int64",
         "type": "integer"
        },
        {
         "name": "Doors",
         "rawType": "int64",
         "type": "integer"
        },
        {
         "name": "Price",
         "rawType": "int64",
         "type": "integer"
        }
       ],
       "ref": "a88428e4-a6b0-4532-844b-eb953ba6a74c",
       "rows": [
        [
         "0",
         "TOYOTA",
         "White",
         "150043",
         "4",
         "400000"
        ],
        [
         "1",
         "HONDA",
         "Red",
         "87899",
         "4",
         "500000"
        ],
        [
         "2",
         "TOYOTA",
         "Blue",
         "32549",
         "3",
         "700000"
        ],
        [
         "3",
         "BMW",
         "Black",
         "11179",
         "5",
         "2200000"
        ],
        [
         "4",
         "NISSAN",
         "White",
         "213095",
         "4",
         "350000"
        ],
        [
         "5",
         "TOYOTA",
         "Green",
         "99213",
         "4",
         "450000"
        ],
        [
         "6",
         "HONDA",
         "Blue",
         "45698",
         "4",
         "750000"
        ],
        [
         "7",
         "HONDA",
         "Blue",
         "54738",
         "4",
         "700000"
        ],
        [
         "8",
         "TOYOTA",
         "White",
         "60000",
         "4",
         "625000"
        ],
        [
         "9",
         "NISSAN",
         "White",
         "31600",
         "4",
         "970000"
        ]
       ],
       "shape": {
        "columns": 5,
        "rows": 10
       }
      },
      "text/html": [
       "<div>\n",
       "<style scoped>\n",
       "    .dataframe tbody tr th:only-of-type {\n",
       "        vertical-align: middle;\n",
       "    }\n",
       "\n",
       "    .dataframe tbody tr th {\n",
       "        vertical-align: top;\n",
       "    }\n",
       "\n",
       "    .dataframe thead th {\n",
       "        text-align: right;\n",
       "    }\n",
       "</style>\n",
       "<table border=\"1\" class=\"dataframe\">\n",
       "  <thead>\n",
       "    <tr style=\"text-align: right;\">\n",
       "      <th></th>\n",
       "      <th>Make</th>\n",
       "      <th>Colour</th>\n",
       "      <th>Odometer (KM)</th>\n",
       "      <th>Doors</th>\n",
       "      <th>Price</th>\n",
       "    </tr>\n",
       "  </thead>\n",
       "  <tbody>\n",
       "    <tr>\n",
       "      <th>0</th>\n",
       "      <td>TOYOTA</td>\n",
       "      <td>White</td>\n",
       "      <td>150043</td>\n",
       "      <td>4</td>\n",
       "      <td>400000</td>\n",
       "    </tr>\n",
       "    <tr>\n",
       "      <th>1</th>\n",
       "      <td>HONDA</td>\n",
       "      <td>Red</td>\n",
       "      <td>87899</td>\n",
       "      <td>4</td>\n",
       "      <td>500000</td>\n",
       "    </tr>\n",
       "    <tr>\n",
       "      <th>2</th>\n",
       "      <td>TOYOTA</td>\n",
       "      <td>Blue</td>\n",
       "      <td>32549</td>\n",
       "      <td>3</td>\n",
       "      <td>700000</td>\n",
       "    </tr>\n",
       "    <tr>\n",
       "      <th>3</th>\n",
       "      <td>BMW</td>\n",
       "      <td>Black</td>\n",
       "      <td>11179</td>\n",
       "      <td>5</td>\n",
       "      <td>2200000</td>\n",
       "    </tr>\n",
       "    <tr>\n",
       "      <th>4</th>\n",
       "      <td>NISSAN</td>\n",
       "      <td>White</td>\n",
       "      <td>213095</td>\n",
       "      <td>4</td>\n",
       "      <td>350000</td>\n",
       "    </tr>\n",
       "    <tr>\n",
       "      <th>5</th>\n",
       "      <td>TOYOTA</td>\n",
       "      <td>Green</td>\n",
       "      <td>99213</td>\n",
       "      <td>4</td>\n",
       "      <td>450000</td>\n",
       "    </tr>\n",
       "    <tr>\n",
       "      <th>6</th>\n",
       "      <td>HONDA</td>\n",
       "      <td>Blue</td>\n",
       "      <td>45698</td>\n",
       "      <td>4</td>\n",
       "      <td>750000</td>\n",
       "    </tr>\n",
       "    <tr>\n",
       "      <th>7</th>\n",
       "      <td>HONDA</td>\n",
       "      <td>Blue</td>\n",
       "      <td>54738</td>\n",
       "      <td>4</td>\n",
       "      <td>700000</td>\n",
       "    </tr>\n",
       "    <tr>\n",
       "      <th>8</th>\n",
       "      <td>TOYOTA</td>\n",
       "      <td>White</td>\n",
       "      <td>60000</td>\n",
       "      <td>4</td>\n",
       "      <td>625000</td>\n",
       "    </tr>\n",
       "    <tr>\n",
       "      <th>9</th>\n",
       "      <td>NISSAN</td>\n",
       "      <td>White</td>\n",
       "      <td>31600</td>\n",
       "      <td>4</td>\n",
       "      <td>970000</td>\n",
       "    </tr>\n",
       "  </tbody>\n",
       "</table>\n",
       "</div>"
      ],
      "text/plain": [
       "     Make Colour  Odometer (KM)  Doors    Price\n",
       "0  TOYOTA  White         150043      4   400000\n",
       "1   HONDA    Red          87899      4   500000\n",
       "2  TOYOTA   Blue          32549      3   700000\n",
       "3     BMW  Black          11179      5  2200000\n",
       "4  NISSAN  White         213095      4   350000\n",
       "5  TOYOTA  Green          99213      4   450000\n",
       "6   HONDA   Blue          45698      4   750000\n",
       "7   HONDA   Blue          54738      4   700000\n",
       "8  TOYOTA  White          60000      4   625000\n",
       "9  NISSAN  White          31600      4   970000"
      ]
     },
     "execution_count": 13,
     "metadata": {},
     "output_type": "execute_result"
    }
   ],
   "source": [
    "car_sales"
   ]
  },
  {
   "cell_type": "code",
   "execution_count": 14,
   "id": "729d703b",
   "metadata": {},
   "outputs": [
    {
     "data": {
      "application/vnd.microsoft.datawrangler.viewer.v0+json": {
       "columns": [
        {
         "name": "index",
         "rawType": "int64",
         "type": "integer"
        },
        {
         "name": "Make",
         "rawType": "object",
         "type": "unknown"
        },
        {
         "name": "Colour",
         "rawType": "object",
         "type": "unknown"
        },
        {
         "name": "Odometer",
         "rawType": "float64",
         "type": "float"
        },
        {
         "name": "Doors",
         "rawType": "float64",
         "type": "float"
        },
        {
         "name": "Price",
         "rawType": "object",
         "type": "unknown"
        }
       ],
       "ref": "98e82348-ef4c-40e2-bfd7-e724fd94f71d",
       "rows": [
        [
         "0",
         "Toyota",
         "White",
         "150043.0",
         "4.0",
         "$4,000"
        ],
        [
         "1",
         "Honda",
         "Red",
         "87899.0",
         "4.0",
         "$5,000"
        ],
        [
         "2",
         "Toyota",
         "Blue",
         null,
         "3.0",
         "$7,000"
        ],
        [
         "3",
         "BMW",
         "Black",
         "11179.0",
         "5.0",
         "$22,000"
        ],
        [
         "4",
         "Nissan",
         "White",
         "213095.0",
         "4.0",
         "$3,500"
        ],
        [
         "5",
         "Toyota",
         "Green",
         null,
         "4.0",
         "$4,500"
        ],
        [
         "6",
         "Honda",
         null,
         null,
         "4.0",
         "$7,500"
        ],
        [
         "7",
         "Honda",
         "Blue",
         null,
         "4.0",
         null
        ],
        [
         "8",
         "Toyota",
         "White",
         "60000.0",
         null,
         null
        ],
        [
         "9",
         null,
         "White",
         "31600.0",
         "4.0",
         "$9,700"
        ]
       ],
       "shape": {
        "columns": 5,
        "rows": 10
       }
      },
      "text/html": [
       "<div>\n",
       "<style scoped>\n",
       "    .dataframe tbody tr th:only-of-type {\n",
       "        vertical-align: middle;\n",
       "    }\n",
       "\n",
       "    .dataframe tbody tr th {\n",
       "        vertical-align: top;\n",
       "    }\n",
       "\n",
       "    .dataframe thead th {\n",
       "        text-align: right;\n",
       "    }\n",
       "</style>\n",
       "<table border=\"1\" class=\"dataframe\">\n",
       "  <thead>\n",
       "    <tr style=\"text-align: right;\">\n",
       "      <th></th>\n",
       "      <th>Make</th>\n",
       "      <th>Colour</th>\n",
       "      <th>Odometer</th>\n",
       "      <th>Doors</th>\n",
       "      <th>Price</th>\n",
       "    </tr>\n",
       "  </thead>\n",
       "  <tbody>\n",
       "    <tr>\n",
       "      <th>0</th>\n",
       "      <td>Toyota</td>\n",
       "      <td>White</td>\n",
       "      <td>150043.0</td>\n",
       "      <td>4.0</td>\n",
       "      <td>$4,000</td>\n",
       "    </tr>\n",
       "    <tr>\n",
       "      <th>1</th>\n",
       "      <td>Honda</td>\n",
       "      <td>Red</td>\n",
       "      <td>87899.0</td>\n",
       "      <td>4.0</td>\n",
       "      <td>$5,000</td>\n",
       "    </tr>\n",
       "    <tr>\n",
       "      <th>2</th>\n",
       "      <td>Toyota</td>\n",
       "      <td>Blue</td>\n",
       "      <td>NaN</td>\n",
       "      <td>3.0</td>\n",
       "      <td>$7,000</td>\n",
       "    </tr>\n",
       "    <tr>\n",
       "      <th>3</th>\n",
       "      <td>BMW</td>\n",
       "      <td>Black</td>\n",
       "      <td>11179.0</td>\n",
       "      <td>5.0</td>\n",
       "      <td>$22,000</td>\n",
       "    </tr>\n",
       "    <tr>\n",
       "      <th>4</th>\n",
       "      <td>Nissan</td>\n",
       "      <td>White</td>\n",
       "      <td>213095.0</td>\n",
       "      <td>4.0</td>\n",
       "      <td>$3,500</td>\n",
       "    </tr>\n",
       "    <tr>\n",
       "      <th>5</th>\n",
       "      <td>Toyota</td>\n",
       "      <td>Green</td>\n",
       "      <td>NaN</td>\n",
       "      <td>4.0</td>\n",
       "      <td>$4,500</td>\n",
       "    </tr>\n",
       "    <tr>\n",
       "      <th>6</th>\n",
       "      <td>Honda</td>\n",
       "      <td>NaN</td>\n",
       "      <td>NaN</td>\n",
       "      <td>4.0</td>\n",
       "      <td>$7,500</td>\n",
       "    </tr>\n",
       "    <tr>\n",
       "      <th>7</th>\n",
       "      <td>Honda</td>\n",
       "      <td>Blue</td>\n",
       "      <td>NaN</td>\n",
       "      <td>4.0</td>\n",
       "      <td>NaN</td>\n",
       "    </tr>\n",
       "    <tr>\n",
       "      <th>8</th>\n",
       "      <td>Toyota</td>\n",
       "      <td>White</td>\n",
       "      <td>60000.0</td>\n",
       "      <td>NaN</td>\n",
       "      <td>NaN</td>\n",
       "    </tr>\n",
       "    <tr>\n",
       "      <th>9</th>\n",
       "      <td>NaN</td>\n",
       "      <td>White</td>\n",
       "      <td>31600.0</td>\n",
       "      <td>4.0</td>\n",
       "      <td>$9,700</td>\n",
       "    </tr>\n",
       "  </tbody>\n",
       "</table>\n",
       "</div>"
      ],
      "text/plain": [
       "     Make Colour  Odometer  Doors    Price\n",
       "0  Toyota  White  150043.0    4.0   $4,000\n",
       "1   Honda    Red   87899.0    4.0   $5,000\n",
       "2  Toyota   Blue       NaN    3.0   $7,000\n",
       "3     BMW  Black   11179.0    5.0  $22,000\n",
       "4  Nissan  White  213095.0    4.0   $3,500\n",
       "5  Toyota  Green       NaN    4.0   $4,500\n",
       "6   Honda    NaN       NaN    4.0   $7,500\n",
       "7   Honda   Blue       NaN    4.0      NaN\n",
       "8  Toyota  White   60000.0    NaN      NaN\n",
       "9     NaN  White   31600.0    4.0   $9,700"
      ]
     },
     "execution_count": 14,
     "metadata": {},
     "output_type": "execute_result"
    }
   ],
   "source": [
    "car_sales_missing = pd.read_csv(\"data\\\\car-sales-missing-data.csv\")\n",
    "car_sales_missing"
   ]
  },
  {
   "cell_type": "code",
   "execution_count": 16,
   "id": "12dea036",
   "metadata": {},
   "outputs": [],
   "source": [
    "car_sales_missing['Odometer'] = car_sales_missing['Odometer'].fillna(car_sales_missing['Odometer'].mean())"
   ]
  },
  {
   "cell_type": "code",
   "execution_count": 17,
   "id": "02407531",
   "metadata": {},
   "outputs": [
    {
     "data": {
      "application/vnd.microsoft.datawrangler.viewer.v0+json": {
       "columns": [
        {
         "name": "index",
         "rawType": "int64",
         "type": "integer"
        },
        {
         "name": "Make",
         "rawType": "object",
         "type": "unknown"
        },
        {
         "name": "Colour",
         "rawType": "object",
         "type": "unknown"
        },
        {
         "name": "Odometer",
         "rawType": "float64",
         "type": "float"
        },
        {
         "name": "Doors",
         "rawType": "float64",
         "type": "float"
        },
        {
         "name": "Price",
         "rawType": "object",
         "type": "unknown"
        }
       ],
       "ref": "9beb2840-3334-4ec8-a078-7eaf30f7ef00",
       "rows": [
        [
         "0",
         "Toyota",
         "White",
         "150043.0",
         "4.0",
         "$4,000"
        ],
        [
         "1",
         "Honda",
         "Red",
         "87899.0",
         "4.0",
         "$5,000"
        ],
        [
         "2",
         "Toyota",
         "Blue",
         "92302.66666666667",
         "3.0",
         "$7,000"
        ],
        [
         "3",
         "BMW",
         "Black",
         "11179.0",
         "5.0",
         "$22,000"
        ],
        [
         "4",
         "Nissan",
         "White",
         "213095.0",
         "4.0",
         "$3,500"
        ],
        [
         "5",
         "Toyota",
         "Green",
         "92302.66666666667",
         "4.0",
         "$4,500"
        ],
        [
         "6",
         "Honda",
         null,
         "92302.66666666667",
         "4.0",
         "$7,500"
        ],
        [
         "7",
         "Honda",
         "Blue",
         "92302.66666666667",
         "4.0",
         null
        ],
        [
         "8",
         "Toyota",
         "White",
         "60000.0",
         null,
         null
        ],
        [
         "9",
         null,
         "White",
         "31600.0",
         "4.0",
         "$9,700"
        ]
       ],
       "shape": {
        "columns": 5,
        "rows": 10
       }
      },
      "text/html": [
       "<div>\n",
       "<style scoped>\n",
       "    .dataframe tbody tr th:only-of-type {\n",
       "        vertical-align: middle;\n",
       "    }\n",
       "\n",
       "    .dataframe tbody tr th {\n",
       "        vertical-align: top;\n",
       "    }\n",
       "\n",
       "    .dataframe thead th {\n",
       "        text-align: right;\n",
       "    }\n",
       "</style>\n",
       "<table border=\"1\" class=\"dataframe\">\n",
       "  <thead>\n",
       "    <tr style=\"text-align: right;\">\n",
       "      <th></th>\n",
       "      <th>Make</th>\n",
       "      <th>Colour</th>\n",
       "      <th>Odometer</th>\n",
       "      <th>Doors</th>\n",
       "      <th>Price</th>\n",
       "    </tr>\n",
       "  </thead>\n",
       "  <tbody>\n",
       "    <tr>\n",
       "      <th>0</th>\n",
       "      <td>Toyota</td>\n",
       "      <td>White</td>\n",
       "      <td>150043.000000</td>\n",
       "      <td>4.0</td>\n",
       "      <td>$4,000</td>\n",
       "    </tr>\n",
       "    <tr>\n",
       "      <th>1</th>\n",
       "      <td>Honda</td>\n",
       "      <td>Red</td>\n",
       "      <td>87899.000000</td>\n",
       "      <td>4.0</td>\n",
       "      <td>$5,000</td>\n",
       "    </tr>\n",
       "    <tr>\n",
       "      <th>2</th>\n",
       "      <td>Toyota</td>\n",
       "      <td>Blue</td>\n",
       "      <td>92302.666667</td>\n",
       "      <td>3.0</td>\n",
       "      <td>$7,000</td>\n",
       "    </tr>\n",
       "    <tr>\n",
       "      <th>3</th>\n",
       "      <td>BMW</td>\n",
       "      <td>Black</td>\n",
       "      <td>11179.000000</td>\n",
       "      <td>5.0</td>\n",
       "      <td>$22,000</td>\n",
       "    </tr>\n",
       "    <tr>\n",
       "      <th>4</th>\n",
       "      <td>Nissan</td>\n",
       "      <td>White</td>\n",
       "      <td>213095.000000</td>\n",
       "      <td>4.0</td>\n",
       "      <td>$3,500</td>\n",
       "    </tr>\n",
       "    <tr>\n",
       "      <th>5</th>\n",
       "      <td>Toyota</td>\n",
       "      <td>Green</td>\n",
       "      <td>92302.666667</td>\n",
       "      <td>4.0</td>\n",
       "      <td>$4,500</td>\n",
       "    </tr>\n",
       "    <tr>\n",
       "      <th>6</th>\n",
       "      <td>Honda</td>\n",
       "      <td>NaN</td>\n",
       "      <td>92302.666667</td>\n",
       "      <td>4.0</td>\n",
       "      <td>$7,500</td>\n",
       "    </tr>\n",
       "    <tr>\n",
       "      <th>7</th>\n",
       "      <td>Honda</td>\n",
       "      <td>Blue</td>\n",
       "      <td>92302.666667</td>\n",
       "      <td>4.0</td>\n",
       "      <td>NaN</td>\n",
       "    </tr>\n",
       "    <tr>\n",
       "      <th>8</th>\n",
       "      <td>Toyota</td>\n",
       "      <td>White</td>\n",
       "      <td>60000.000000</td>\n",
       "      <td>NaN</td>\n",
       "      <td>NaN</td>\n",
       "    </tr>\n",
       "    <tr>\n",
       "      <th>9</th>\n",
       "      <td>NaN</td>\n",
       "      <td>White</td>\n",
       "      <td>31600.000000</td>\n",
       "      <td>4.0</td>\n",
       "      <td>$9,700</td>\n",
       "    </tr>\n",
       "  </tbody>\n",
       "</table>\n",
       "</div>"
      ],
      "text/plain": [
       "     Make Colour       Odometer  Doors    Price\n",
       "0  Toyota  White  150043.000000    4.0   $4,000\n",
       "1   Honda    Red   87899.000000    4.0   $5,000\n",
       "2  Toyota   Blue   92302.666667    3.0   $7,000\n",
       "3     BMW  Black   11179.000000    5.0  $22,000\n",
       "4  Nissan  White  213095.000000    4.0   $3,500\n",
       "5  Toyota  Green   92302.666667    4.0   $4,500\n",
       "6   Honda    NaN   92302.666667    4.0   $7,500\n",
       "7   Honda   Blue   92302.666667    4.0      NaN\n",
       "8  Toyota  White   60000.000000    NaN      NaN\n",
       "9     NaN  White   31600.000000    4.0   $9,700"
      ]
     },
     "execution_count": 17,
     "metadata": {},
     "output_type": "execute_result"
    }
   ],
   "source": [
    "car_sales_missing"
   ]
  },
  {
   "cell_type": "code",
   "execution_count": 18,
   "id": "4c05a48c",
   "metadata": {},
   "outputs": [
    {
     "data": {
      "application/vnd.microsoft.datawrangler.viewer.v0+json": {
       "columns": [
        {
         "name": "index",
         "rawType": "object",
         "type": "string"
        },
        {
         "name": "Odometer",
         "rawType": "float64",
         "type": "float"
        },
        {
         "name": "Doors",
         "rawType": "float64",
         "type": "float"
        }
       ],
       "ref": "e91b2a47-a48d-4143-853a-cfcaa315a01e",
       "rows": [
        [
         "count",
         "10.0",
         "9.0"
        ],
        [
         "mean",
         "92302.66666666667",
         "4.0"
        ],
        [
         "std",
         "57012.13464725766",
         "0.5"
        ],
        [
         "min",
         "11179.0",
         "3.0"
        ],
        [
         "25%",
         "66974.75",
         "4.0"
        ],
        [
         "50%",
         "92302.66666666667",
         "4.0"
        ],
        [
         "75%",
         "92302.66666666667",
         "4.0"
        ],
        [
         "max",
         "213095.0",
         "5.0"
        ]
       ],
       "shape": {
        "columns": 2,
        "rows": 8
       }
      },
      "text/html": [
       "<div>\n",
       "<style scoped>\n",
       "    .dataframe tbody tr th:only-of-type {\n",
       "        vertical-align: middle;\n",
       "    }\n",
       "\n",
       "    .dataframe tbody tr th {\n",
       "        vertical-align: top;\n",
       "    }\n",
       "\n",
       "    .dataframe thead th {\n",
       "        text-align: right;\n",
       "    }\n",
       "</style>\n",
       "<table border=\"1\" class=\"dataframe\">\n",
       "  <thead>\n",
       "    <tr style=\"text-align: right;\">\n",
       "      <th></th>\n",
       "      <th>Odometer</th>\n",
       "      <th>Doors</th>\n",
       "    </tr>\n",
       "  </thead>\n",
       "  <tbody>\n",
       "    <tr>\n",
       "      <th>count</th>\n",
       "      <td>10.000000</td>\n",
       "      <td>9.0</td>\n",
       "    </tr>\n",
       "    <tr>\n",
       "      <th>mean</th>\n",
       "      <td>92302.666667</td>\n",
       "      <td>4.0</td>\n",
       "    </tr>\n",
       "    <tr>\n",
       "      <th>std</th>\n",
       "      <td>57012.134647</td>\n",
       "      <td>0.5</td>\n",
       "    </tr>\n",
       "    <tr>\n",
       "      <th>min</th>\n",
       "      <td>11179.000000</td>\n",
       "      <td>3.0</td>\n",
       "    </tr>\n",
       "    <tr>\n",
       "      <th>25%</th>\n",
       "      <td>66974.750000</td>\n",
       "      <td>4.0</td>\n",
       "    </tr>\n",
       "    <tr>\n",
       "      <th>50%</th>\n",
       "      <td>92302.666667</td>\n",
       "      <td>4.0</td>\n",
       "    </tr>\n",
       "    <tr>\n",
       "      <th>75%</th>\n",
       "      <td>92302.666667</td>\n",
       "      <td>4.0</td>\n",
       "    </tr>\n",
       "    <tr>\n",
       "      <th>max</th>\n",
       "      <td>213095.000000</td>\n",
       "      <td>5.0</td>\n",
       "    </tr>\n",
       "  </tbody>\n",
       "</table>\n",
       "</div>"
      ],
      "text/plain": [
       "            Odometer  Doors\n",
       "count      10.000000    9.0\n",
       "mean    92302.666667    4.0\n",
       "std     57012.134647    0.5\n",
       "min     11179.000000    3.0\n",
       "25%     66974.750000    4.0\n",
       "50%     92302.666667    4.0\n",
       "75%     92302.666667    4.0\n",
       "max    213095.000000    5.0"
      ]
     },
     "execution_count": 18,
     "metadata": {},
     "output_type": "execute_result"
    }
   ],
   "source": [
    "car_sales_missing.describe()"
   ]
  },
  {
   "cell_type": "code",
   "execution_count": 19,
   "id": "fb437214",
   "metadata": {},
   "outputs": [
    {
     "name": "stdout",
     "output_type": "stream",
     "text": [
      "<class 'pandas.core.frame.DataFrame'>\n",
      "RangeIndex: 10 entries, 0 to 9\n",
      "Data columns (total 5 columns):\n",
      " #   Column    Non-Null Count  Dtype  \n",
      "---  ------    --------------  -----  \n",
      " 0   Make      9 non-null      object \n",
      " 1   Colour    9 non-null      object \n",
      " 2   Odometer  10 non-null     float64\n",
      " 3   Doors     9 non-null      float64\n",
      " 4   Price     8 non-null      object \n",
      "dtypes: float64(2), object(3)\n",
      "memory usage: 532.0+ bytes\n"
     ]
    }
   ],
   "source": [
    "car_sales_missing.info()"
   ]
  },
  {
   "cell_type": "code",
   "execution_count": 23,
   "id": "cb8706da",
   "metadata": {},
   "outputs": [
    {
     "data": {
      "application/vnd.microsoft.datawrangler.viewer.v0+json": {
       "columns": [
        {
         "name": "index",
         "rawType": "int64",
         "type": "integer"
        },
        {
         "name": "Make",
         "rawType": "bool",
         "type": "boolean"
        },
        {
         "name": "Colour",
         "rawType": "bool",
         "type": "boolean"
        },
        {
         "name": "Odometer",
         "rawType": "bool",
         "type": "boolean"
        },
        {
         "name": "Doors",
         "rawType": "bool",
         "type": "boolean"
        },
        {
         "name": "Price",
         "rawType": "bool",
         "type": "boolean"
        }
       ],
       "ref": "0fc0f2a8-8138-4ccb-94cf-2dc8969d906c",
       "rows": [
        [
         "0",
         "False",
         "False",
         "False",
         "False",
         "False"
        ],
        [
         "1",
         "False",
         "False",
         "False",
         "False",
         "False"
        ],
        [
         "2",
         "False",
         "False",
         "False",
         "False",
         "False"
        ],
        [
         "3",
         "False",
         "False",
         "False",
         "False",
         "False"
        ],
        [
         "4",
         "False",
         "False",
         "False",
         "False",
         "False"
        ],
        [
         "5",
         "False",
         "False",
         "False",
         "False",
         "False"
        ],
        [
         "6",
         "False",
         "True",
         "False",
         "False",
         "False"
        ],
        [
         "7",
         "False",
         "False",
         "False",
         "False",
         "True"
        ],
        [
         "8",
         "False",
         "False",
         "False",
         "True",
         "True"
        ],
        [
         "9",
         "True",
         "False",
         "False",
         "False",
         "False"
        ]
       ],
       "shape": {
        "columns": 5,
        "rows": 10
       }
      },
      "text/html": [
       "<div>\n",
       "<style scoped>\n",
       "    .dataframe tbody tr th:only-of-type {\n",
       "        vertical-align: middle;\n",
       "    }\n",
       "\n",
       "    .dataframe tbody tr th {\n",
       "        vertical-align: top;\n",
       "    }\n",
       "\n",
       "    .dataframe thead th {\n",
       "        text-align: right;\n",
       "    }\n",
       "</style>\n",
       "<table border=\"1\" class=\"dataframe\">\n",
       "  <thead>\n",
       "    <tr style=\"text-align: right;\">\n",
       "      <th></th>\n",
       "      <th>Make</th>\n",
       "      <th>Colour</th>\n",
       "      <th>Odometer</th>\n",
       "      <th>Doors</th>\n",
       "      <th>Price</th>\n",
       "    </tr>\n",
       "  </thead>\n",
       "  <tbody>\n",
       "    <tr>\n",
       "      <th>0</th>\n",
       "      <td>False</td>\n",
       "      <td>False</td>\n",
       "      <td>False</td>\n",
       "      <td>False</td>\n",
       "      <td>False</td>\n",
       "    </tr>\n",
       "    <tr>\n",
       "      <th>1</th>\n",
       "      <td>False</td>\n",
       "      <td>False</td>\n",
       "      <td>False</td>\n",
       "      <td>False</td>\n",
       "      <td>False</td>\n",
       "    </tr>\n",
       "    <tr>\n",
       "      <th>2</th>\n",
       "      <td>False</td>\n",
       "      <td>False</td>\n",
       "      <td>False</td>\n",
       "      <td>False</td>\n",
       "      <td>False</td>\n",
       "    </tr>\n",
       "    <tr>\n",
       "      <th>3</th>\n",
       "      <td>False</td>\n",
       "      <td>False</td>\n",
       "      <td>False</td>\n",
       "      <td>False</td>\n",
       "      <td>False</td>\n",
       "    </tr>\n",
       "    <tr>\n",
       "      <th>4</th>\n",
       "      <td>False</td>\n",
       "      <td>False</td>\n",
       "      <td>False</td>\n",
       "      <td>False</td>\n",
       "      <td>False</td>\n",
       "    </tr>\n",
       "    <tr>\n",
       "      <th>5</th>\n",
       "      <td>False</td>\n",
       "      <td>False</td>\n",
       "      <td>False</td>\n",
       "      <td>False</td>\n",
       "      <td>False</td>\n",
       "    </tr>\n",
       "    <tr>\n",
       "      <th>6</th>\n",
       "      <td>False</td>\n",
       "      <td>True</td>\n",
       "      <td>False</td>\n",
       "      <td>False</td>\n",
       "      <td>False</td>\n",
       "    </tr>\n",
       "    <tr>\n",
       "      <th>7</th>\n",
       "      <td>False</td>\n",
       "      <td>False</td>\n",
       "      <td>False</td>\n",
       "      <td>False</td>\n",
       "      <td>True</td>\n",
       "    </tr>\n",
       "    <tr>\n",
       "      <th>8</th>\n",
       "      <td>False</td>\n",
       "      <td>False</td>\n",
       "      <td>False</td>\n",
       "      <td>True</td>\n",
       "      <td>True</td>\n",
       "    </tr>\n",
       "    <tr>\n",
       "      <th>9</th>\n",
       "      <td>True</td>\n",
       "      <td>False</td>\n",
       "      <td>False</td>\n",
       "      <td>False</td>\n",
       "      <td>False</td>\n",
       "    </tr>\n",
       "  </tbody>\n",
       "</table>\n",
       "</div>"
      ],
      "text/plain": [
       "    Make  Colour  Odometer  Doors  Price\n",
       "0  False   False     False  False  False\n",
       "1  False   False     False  False  False\n",
       "2  False   False     False  False  False\n",
       "3  False   False     False  False  False\n",
       "4  False   False     False  False  False\n",
       "5  False   False     False  False  False\n",
       "6  False    True     False  False  False\n",
       "7  False   False     False  False   True\n",
       "8  False   False     False   True   True\n",
       "9   True   False     False  False  False"
      ]
     },
     "execution_count": 23,
     "metadata": {},
     "output_type": "execute_result"
    }
   ],
   "source": [
    "car_sales_missing.isnull()"
   ]
  },
  {
   "cell_type": "code",
   "execution_count": 25,
   "id": "9c1245af",
   "metadata": {},
   "outputs": [
    {
     "data": {
      "application/vnd.microsoft.datawrangler.viewer.v0+json": {
       "columns": [
        {
         "name": "index",
         "rawType": "int64",
         "type": "integer"
        },
        {
         "name": "Make",
         "rawType": "object",
         "type": "string"
        },
        {
         "name": "Colour",
         "rawType": "object",
         "type": "string"
        },
        {
         "name": "Odometer",
         "rawType": "float64",
         "type": "float"
        },
        {
         "name": "Doors",
         "rawType": "float64",
         "type": "float"
        },
        {
         "name": "Price",
         "rawType": "object",
         "type": "string"
        }
       ],
       "ref": "848faddf-2349-46e2-b643-8712ebbf8365",
       "rows": [
        [
         "0",
         "Toyota",
         "White",
         "150043.0",
         "4.0",
         "$4,000"
        ],
        [
         "1",
         "Honda",
         "Red",
         "87899.0",
         "4.0",
         "$5,000"
        ],
        [
         "2",
         "Toyota",
         "Blue",
         "92302.66666666667",
         "3.0",
         "$7,000"
        ],
        [
         "3",
         "BMW",
         "Black",
         "11179.0",
         "5.0",
         "$22,000"
        ],
        [
         "4",
         "Nissan",
         "White",
         "213095.0",
         "4.0",
         "$3,500"
        ],
        [
         "5",
         "Toyota",
         "Green",
         "92302.66666666667",
         "4.0",
         "$4,500"
        ]
       ],
       "shape": {
        "columns": 5,
        "rows": 6
       }
      },
      "text/html": [
       "<div>\n",
       "<style scoped>\n",
       "    .dataframe tbody tr th:only-of-type {\n",
       "        vertical-align: middle;\n",
       "    }\n",
       "\n",
       "    .dataframe tbody tr th {\n",
       "        vertical-align: top;\n",
       "    }\n",
       "\n",
       "    .dataframe thead th {\n",
       "        text-align: right;\n",
       "    }\n",
       "</style>\n",
       "<table border=\"1\" class=\"dataframe\">\n",
       "  <thead>\n",
       "    <tr style=\"text-align: right;\">\n",
       "      <th></th>\n",
       "      <th>Make</th>\n",
       "      <th>Colour</th>\n",
       "      <th>Odometer</th>\n",
       "      <th>Doors</th>\n",
       "      <th>Price</th>\n",
       "    </tr>\n",
       "  </thead>\n",
       "  <tbody>\n",
       "    <tr>\n",
       "      <th>0</th>\n",
       "      <td>Toyota</td>\n",
       "      <td>White</td>\n",
       "      <td>150043.000000</td>\n",
       "      <td>4.0</td>\n",
       "      <td>$4,000</td>\n",
       "    </tr>\n",
       "    <tr>\n",
       "      <th>1</th>\n",
       "      <td>Honda</td>\n",
       "      <td>Red</td>\n",
       "      <td>87899.000000</td>\n",
       "      <td>4.0</td>\n",
       "      <td>$5,000</td>\n",
       "    </tr>\n",
       "    <tr>\n",
       "      <th>2</th>\n",
       "      <td>Toyota</td>\n",
       "      <td>Blue</td>\n",
       "      <td>92302.666667</td>\n",
       "      <td>3.0</td>\n",
       "      <td>$7,000</td>\n",
       "    </tr>\n",
       "    <tr>\n",
       "      <th>3</th>\n",
       "      <td>BMW</td>\n",
       "      <td>Black</td>\n",
       "      <td>11179.000000</td>\n",
       "      <td>5.0</td>\n",
       "      <td>$22,000</td>\n",
       "    </tr>\n",
       "    <tr>\n",
       "      <th>4</th>\n",
       "      <td>Nissan</td>\n",
       "      <td>White</td>\n",
       "      <td>213095.000000</td>\n",
       "      <td>4.0</td>\n",
       "      <td>$3,500</td>\n",
       "    </tr>\n",
       "    <tr>\n",
       "      <th>5</th>\n",
       "      <td>Toyota</td>\n",
       "      <td>Green</td>\n",
       "      <td>92302.666667</td>\n",
       "      <td>4.0</td>\n",
       "      <td>$4,500</td>\n",
       "    </tr>\n",
       "  </tbody>\n",
       "</table>\n",
       "</div>"
      ],
      "text/plain": [
       "     Make Colour       Odometer  Doors    Price\n",
       "0  Toyota  White  150043.000000    4.0   $4,000\n",
       "1   Honda    Red   87899.000000    4.0   $5,000\n",
       "2  Toyota   Blue   92302.666667    3.0   $7,000\n",
       "3     BMW  Black   11179.000000    5.0  $22,000\n",
       "4  Nissan  White  213095.000000    4.0   $3,500\n",
       "5  Toyota  Green   92302.666667    4.0   $4,500"
      ]
     },
     "execution_count": 25,
     "metadata": {},
     "output_type": "execute_result"
    }
   ],
   "source": [
    "car_sales_missing.dropna(inplace=True)\n",
    "car_sales_missing"
   ]
  },
  {
   "cell_type": "code",
   "execution_count": 26,
   "id": "02d84eb6",
   "metadata": {},
   "outputs": [
    {
     "data": {
      "application/vnd.microsoft.datawrangler.viewer.v0+json": {
       "columns": [
        {
         "name": "index",
         "rawType": "int64",
         "type": "integer"
        },
        {
         "name": "Make",
         "rawType": "object",
         "type": "string"
        },
        {
         "name": "Colour",
         "rawType": "object",
         "type": "string"
        },
        {
         "name": "Odometer (KM)",
         "rawType": "int64",
         "type": "integer"
        },
        {
         "name": "Doors",
         "rawType": "int64",
         "type": "integer"
        },
        {
         "name": "Price",
         "rawType": "int64",
         "type": "integer"
        }
       ],
       "ref": "6f793d89-121c-44cd-803b-004e9381c2cc",
       "rows": [
        [
         "0",
         "TOYOTA",
         "White",
         "150043",
         "4",
         "400000"
        ],
        [
         "1",
         "HONDA",
         "Red",
         "87899",
         "4",
         "500000"
        ],
        [
         "2",
         "TOYOTA",
         "Blue",
         "32549",
         "3",
         "700000"
        ],
        [
         "3",
         "BMW",
         "Black",
         "11179",
         "5",
         "2200000"
        ],
        [
         "4",
         "NISSAN",
         "White",
         "213095",
         "4",
         "350000"
        ],
        [
         "5",
         "TOYOTA",
         "Green",
         "99213",
         "4",
         "450000"
        ],
        [
         "6",
         "HONDA",
         "Blue",
         "45698",
         "4",
         "750000"
        ],
        [
         "7",
         "HONDA",
         "Blue",
         "54738",
         "4",
         "700000"
        ],
        [
         "8",
         "TOYOTA",
         "White",
         "60000",
         "4",
         "625000"
        ],
        [
         "9",
         "NISSAN",
         "White",
         "31600",
         "4",
         "970000"
        ]
       ],
       "shape": {
        "columns": 5,
        "rows": 10
       }
      },
      "text/html": [
       "<div>\n",
       "<style scoped>\n",
       "    .dataframe tbody tr th:only-of-type {\n",
       "        vertical-align: middle;\n",
       "    }\n",
       "\n",
       "    .dataframe tbody tr th {\n",
       "        vertical-align: top;\n",
       "    }\n",
       "\n",
       "    .dataframe thead th {\n",
       "        text-align: right;\n",
       "    }\n",
       "</style>\n",
       "<table border=\"1\" class=\"dataframe\">\n",
       "  <thead>\n",
       "    <tr style=\"text-align: right;\">\n",
       "      <th></th>\n",
       "      <th>Make</th>\n",
       "      <th>Colour</th>\n",
       "      <th>Odometer (KM)</th>\n",
       "      <th>Doors</th>\n",
       "      <th>Price</th>\n",
       "    </tr>\n",
       "  </thead>\n",
       "  <tbody>\n",
       "    <tr>\n",
       "      <th>0</th>\n",
       "      <td>TOYOTA</td>\n",
       "      <td>White</td>\n",
       "      <td>150043</td>\n",
       "      <td>4</td>\n",
       "      <td>400000</td>\n",
       "    </tr>\n",
       "    <tr>\n",
       "      <th>1</th>\n",
       "      <td>HONDA</td>\n",
       "      <td>Red</td>\n",
       "      <td>87899</td>\n",
       "      <td>4</td>\n",
       "      <td>500000</td>\n",
       "    </tr>\n",
       "    <tr>\n",
       "      <th>2</th>\n",
       "      <td>TOYOTA</td>\n",
       "      <td>Blue</td>\n",
       "      <td>32549</td>\n",
       "      <td>3</td>\n",
       "      <td>700000</td>\n",
       "    </tr>\n",
       "    <tr>\n",
       "      <th>3</th>\n",
       "      <td>BMW</td>\n",
       "      <td>Black</td>\n",
       "      <td>11179</td>\n",
       "      <td>5</td>\n",
       "      <td>2200000</td>\n",
       "    </tr>\n",
       "    <tr>\n",
       "      <th>4</th>\n",
       "      <td>NISSAN</td>\n",
       "      <td>White</td>\n",
       "      <td>213095</td>\n",
       "      <td>4</td>\n",
       "      <td>350000</td>\n",
       "    </tr>\n",
       "    <tr>\n",
       "      <th>5</th>\n",
       "      <td>TOYOTA</td>\n",
       "      <td>Green</td>\n",
       "      <td>99213</td>\n",
       "      <td>4</td>\n",
       "      <td>450000</td>\n",
       "    </tr>\n",
       "    <tr>\n",
       "      <th>6</th>\n",
       "      <td>HONDA</td>\n",
       "      <td>Blue</td>\n",
       "      <td>45698</td>\n",
       "      <td>4</td>\n",
       "      <td>750000</td>\n",
       "    </tr>\n",
       "    <tr>\n",
       "      <th>7</th>\n",
       "      <td>HONDA</td>\n",
       "      <td>Blue</td>\n",
       "      <td>54738</td>\n",
       "      <td>4</td>\n",
       "      <td>700000</td>\n",
       "    </tr>\n",
       "    <tr>\n",
       "      <th>8</th>\n",
       "      <td>TOYOTA</td>\n",
       "      <td>White</td>\n",
       "      <td>60000</td>\n",
       "      <td>4</td>\n",
       "      <td>625000</td>\n",
       "    </tr>\n",
       "    <tr>\n",
       "      <th>9</th>\n",
       "      <td>NISSAN</td>\n",
       "      <td>White</td>\n",
       "      <td>31600</td>\n",
       "      <td>4</td>\n",
       "      <td>970000</td>\n",
       "    </tr>\n",
       "  </tbody>\n",
       "</table>\n",
       "</div>"
      ],
      "text/plain": [
       "     Make Colour  Odometer (KM)  Doors    Price\n",
       "0  TOYOTA  White         150043      4   400000\n",
       "1   HONDA    Red          87899      4   500000\n",
       "2  TOYOTA   Blue          32549      3   700000\n",
       "3     BMW  Black          11179      5  2200000\n",
       "4  NISSAN  White         213095      4   350000\n",
       "5  TOYOTA  Green          99213      4   450000\n",
       "6   HONDA   Blue          45698      4   750000\n",
       "7   HONDA   Blue          54738      4   700000\n",
       "8  TOYOTA  White          60000      4   625000\n",
       "9  NISSAN  White          31600      4   970000"
      ]
     },
     "execution_count": 26,
     "metadata": {},
     "output_type": "execute_result"
    }
   ],
   "source": [
    "car_sales"
   ]
  },
  {
   "cell_type": "code",
   "execution_count": 27,
   "id": "2a88b654",
   "metadata": {},
   "outputs": [
    {
     "data": {
      "application/vnd.microsoft.datawrangler.viewer.v0+json": {
       "columns": [
        {
         "name": "index",
         "rawType": "int64",
         "type": "integer"
        },
        {
         "name": "Make",
         "rawType": "object",
         "type": "string"
        },
        {
         "name": "Colour",
         "rawType": "object",
         "type": "string"
        },
        {
         "name": "Odometer (KM)",
         "rawType": "int64",
         "type": "integer"
        },
        {
         "name": "Doors",
         "rawType": "int64",
         "type": "integer"
        },
        {
         "name": "Price",
         "rawType": "int64",
         "type": "integer"
        },
        {
         "name": "Seats",
         "rawType": "float64",
         "type": "float"
        }
       ],
       "ref": "60ebd2bc-35c3-47f1-9563-1161f64ab332",
       "rows": [
        [
         "0",
         "TOYOTA",
         "White",
         "150043",
         "4",
         "400000",
         "5.0"
        ],
        [
         "1",
         "HONDA",
         "Red",
         "87899",
         "4",
         "500000",
         "5.0"
        ],
        [
         "2",
         "TOYOTA",
         "Blue",
         "32549",
         "3",
         "700000",
         "5.0"
        ],
        [
         "3",
         "BMW",
         "Black",
         "11179",
         "5",
         "2200000",
         "5.0"
        ],
        [
         "4",
         "NISSAN",
         "White",
         "213095",
         "4",
         "350000",
         "5.0"
        ],
        [
         "5",
         "TOYOTA",
         "Green",
         "99213",
         "4",
         "450000",
         null
        ],
        [
         "6",
         "HONDA",
         "Blue",
         "45698",
         "4",
         "750000",
         null
        ],
        [
         "7",
         "HONDA",
         "Blue",
         "54738",
         "4",
         "700000",
         null
        ],
        [
         "8",
         "TOYOTA",
         "White",
         "60000",
         "4",
         "625000",
         null
        ],
        [
         "9",
         "NISSAN",
         "White",
         "31600",
         "4",
         "970000",
         null
        ]
       ],
       "shape": {
        "columns": 6,
        "rows": 10
       }
      },
      "text/html": [
       "<div>\n",
       "<style scoped>\n",
       "    .dataframe tbody tr th:only-of-type {\n",
       "        vertical-align: middle;\n",
       "    }\n",
       "\n",
       "    .dataframe tbody tr th {\n",
       "        vertical-align: top;\n",
       "    }\n",
       "\n",
       "    .dataframe thead th {\n",
       "        text-align: right;\n",
       "    }\n",
       "</style>\n",
       "<table border=\"1\" class=\"dataframe\">\n",
       "  <thead>\n",
       "    <tr style=\"text-align: right;\">\n",
       "      <th></th>\n",
       "      <th>Make</th>\n",
       "      <th>Colour</th>\n",
       "      <th>Odometer (KM)</th>\n",
       "      <th>Doors</th>\n",
       "      <th>Price</th>\n",
       "      <th>Seats</th>\n",
       "    </tr>\n",
       "  </thead>\n",
       "  <tbody>\n",
       "    <tr>\n",
       "      <th>0</th>\n",
       "      <td>TOYOTA</td>\n",
       "      <td>White</td>\n",
       "      <td>150043</td>\n",
       "      <td>4</td>\n",
       "      <td>400000</td>\n",
       "      <td>5.0</td>\n",
       "    </tr>\n",
       "    <tr>\n",
       "      <th>1</th>\n",
       "      <td>HONDA</td>\n",
       "      <td>Red</td>\n",
       "      <td>87899</td>\n",
       "      <td>4</td>\n",
       "      <td>500000</td>\n",
       "      <td>5.0</td>\n",
       "    </tr>\n",
       "    <tr>\n",
       "      <th>2</th>\n",
       "      <td>TOYOTA</td>\n",
       "      <td>Blue</td>\n",
       "      <td>32549</td>\n",
       "      <td>3</td>\n",
       "      <td>700000</td>\n",
       "      <td>5.0</td>\n",
       "    </tr>\n",
       "    <tr>\n",
       "      <th>3</th>\n",
       "      <td>BMW</td>\n",
       "      <td>Black</td>\n",
       "      <td>11179</td>\n",
       "      <td>5</td>\n",
       "      <td>2200000</td>\n",
       "      <td>5.0</td>\n",
       "    </tr>\n",
       "    <tr>\n",
       "      <th>4</th>\n",
       "      <td>NISSAN</td>\n",
       "      <td>White</td>\n",
       "      <td>213095</td>\n",
       "      <td>4</td>\n",
       "      <td>350000</td>\n",
       "      <td>5.0</td>\n",
       "    </tr>\n",
       "    <tr>\n",
       "      <th>5</th>\n",
       "      <td>TOYOTA</td>\n",
       "      <td>Green</td>\n",
       "      <td>99213</td>\n",
       "      <td>4</td>\n",
       "      <td>450000</td>\n",
       "      <td>NaN</td>\n",
       "    </tr>\n",
       "    <tr>\n",
       "      <th>6</th>\n",
       "      <td>HONDA</td>\n",
       "      <td>Blue</td>\n",
       "      <td>45698</td>\n",
       "      <td>4</td>\n",
       "      <td>750000</td>\n",
       "      <td>NaN</td>\n",
       "    </tr>\n",
       "    <tr>\n",
       "      <th>7</th>\n",
       "      <td>HONDA</td>\n",
       "      <td>Blue</td>\n",
       "      <td>54738</td>\n",
       "      <td>4</td>\n",
       "      <td>700000</td>\n",
       "      <td>NaN</td>\n",
       "    </tr>\n",
       "    <tr>\n",
       "      <th>8</th>\n",
       "      <td>TOYOTA</td>\n",
       "      <td>White</td>\n",
       "      <td>60000</td>\n",
       "      <td>4</td>\n",
       "      <td>625000</td>\n",
       "      <td>NaN</td>\n",
       "    </tr>\n",
       "    <tr>\n",
       "      <th>9</th>\n",
       "      <td>NISSAN</td>\n",
       "      <td>White</td>\n",
       "      <td>31600</td>\n",
       "      <td>4</td>\n",
       "      <td>970000</td>\n",
       "      <td>NaN</td>\n",
       "    </tr>\n",
       "  </tbody>\n",
       "</table>\n",
       "</div>"
      ],
      "text/plain": [
       "     Make Colour  Odometer (KM)  Doors    Price  Seats\n",
       "0  TOYOTA  White         150043      4   400000    5.0\n",
       "1   HONDA    Red          87899      4   500000    5.0\n",
       "2  TOYOTA   Blue          32549      3   700000    5.0\n",
       "3     BMW  Black          11179      5  2200000    5.0\n",
       "4  NISSAN  White         213095      4   350000    5.0\n",
       "5  TOYOTA  Green          99213      4   450000    NaN\n",
       "6   HONDA   Blue          45698      4   750000    NaN\n",
       "7   HONDA   Blue          54738      4   700000    NaN\n",
       "8  TOYOTA  White          60000      4   625000    NaN\n",
       "9  NISSAN  White          31600      4   970000    NaN"
      ]
     },
     "execution_count": 27,
     "metadata": {},
     "output_type": "execute_result"
    }
   ],
   "source": [
    "seats = pd.Series([5,5,5,5,5])\n",
    "car_sales['Seats'] = seats\n",
    "car_sales"
   ]
  },
  {
   "cell_type": "code",
   "execution_count": 28,
   "id": "10a10077",
   "metadata": {},
   "outputs": [
    {
     "name": "stderr",
     "output_type": "stream",
     "text": [
      "C:\\Users\\Nirav\\AppData\\Local\\Temp\\ipykernel_12376\\2058951913.py:1: FutureWarning: A value is trying to be set on a copy of a DataFrame or Series through chained assignment using an inplace method.\n",
      "The behavior will change in pandas 3.0. This inplace method will never work because the intermediate object on which we are setting values always behaves as a copy.\n",
      "\n",
      "For example, when doing 'df[col].method(value, inplace=True)', try using 'df.method({col: value}, inplace=True)' or df[col] = df[col].method(value) instead, to perform the operation inplace on the original object.\n",
      "\n",
      "\n",
      "  car_sales['Seats'].fillna(value=5,inplace=True)\n"
     ]
    }
   ],
   "source": [
    "car_sales['Seats'].fillna(value=5,inplace=True)"
   ]
  },
  {
   "cell_type": "code",
   "execution_count": 29,
   "id": "1556a450",
   "metadata": {},
   "outputs": [
    {
     "data": {
      "application/vnd.microsoft.datawrangler.viewer.v0+json": {
       "columns": [
        {
         "name": "index",
         "rawType": "int64",
         "type": "integer"
        },
        {
         "name": "Make",
         "rawType": "object",
         "type": "string"
        },
        {
         "name": "Colour",
         "rawType": "object",
         "type": "string"
        },
        {
         "name": "Odometer (KM)",
         "rawType": "int64",
         "type": "integer"
        },
        {
         "name": "Doors",
         "rawType": "int64",
         "type": "integer"
        },
        {
         "name": "Price",
         "rawType": "int64",
         "type": "integer"
        },
        {
         "name": "Seats",
         "rawType": "float64",
         "type": "float"
        }
       ],
       "ref": "6131ca4e-3eb6-4911-8848-c36b6f2525da",
       "rows": [
        [
         "0",
         "TOYOTA",
         "White",
         "150043",
         "4",
         "400000",
         "5.0"
        ],
        [
         "1",
         "HONDA",
         "Red",
         "87899",
         "4",
         "500000",
         "5.0"
        ],
        [
         "2",
         "TOYOTA",
         "Blue",
         "32549",
         "3",
         "700000",
         "5.0"
        ],
        [
         "3",
         "BMW",
         "Black",
         "11179",
         "5",
         "2200000",
         "5.0"
        ],
        [
         "4",
         "NISSAN",
         "White",
         "213095",
         "4",
         "350000",
         "5.0"
        ],
        [
         "5",
         "TOYOTA",
         "Green",
         "99213",
         "4",
         "450000",
         "5.0"
        ],
        [
         "6",
         "HONDA",
         "Blue",
         "45698",
         "4",
         "750000",
         "5.0"
        ],
        [
         "7",
         "HONDA",
         "Blue",
         "54738",
         "4",
         "700000",
         "5.0"
        ],
        [
         "8",
         "TOYOTA",
         "White",
         "60000",
         "4",
         "625000",
         "5.0"
        ],
        [
         "9",
         "NISSAN",
         "White",
         "31600",
         "4",
         "970000",
         "5.0"
        ]
       ],
       "shape": {
        "columns": 6,
        "rows": 10
       }
      },
      "text/html": [
       "<div>\n",
       "<style scoped>\n",
       "    .dataframe tbody tr th:only-of-type {\n",
       "        vertical-align: middle;\n",
       "    }\n",
       "\n",
       "    .dataframe tbody tr th {\n",
       "        vertical-align: top;\n",
       "    }\n",
       "\n",
       "    .dataframe thead th {\n",
       "        text-align: right;\n",
       "    }\n",
       "</style>\n",
       "<table border=\"1\" class=\"dataframe\">\n",
       "  <thead>\n",
       "    <tr style=\"text-align: right;\">\n",
       "      <th></th>\n",
       "      <th>Make</th>\n",
       "      <th>Colour</th>\n",
       "      <th>Odometer (KM)</th>\n",
       "      <th>Doors</th>\n",
       "      <th>Price</th>\n",
       "      <th>Seats</th>\n",
       "    </tr>\n",
       "  </thead>\n",
       "  <tbody>\n",
       "    <tr>\n",
       "      <th>0</th>\n",
       "      <td>TOYOTA</td>\n",
       "      <td>White</td>\n",
       "      <td>150043</td>\n",
       "      <td>4</td>\n",
       "      <td>400000</td>\n",
       "      <td>5.0</td>\n",
       "    </tr>\n",
       "    <tr>\n",
       "      <th>1</th>\n",
       "      <td>HONDA</td>\n",
       "      <td>Red</td>\n",
       "      <td>87899</td>\n",
       "      <td>4</td>\n",
       "      <td>500000</td>\n",
       "      <td>5.0</td>\n",
       "    </tr>\n",
       "    <tr>\n",
       "      <th>2</th>\n",
       "      <td>TOYOTA</td>\n",
       "      <td>Blue</td>\n",
       "      <td>32549</td>\n",
       "      <td>3</td>\n",
       "      <td>700000</td>\n",
       "      <td>5.0</td>\n",
       "    </tr>\n",
       "    <tr>\n",
       "      <th>3</th>\n",
       "      <td>BMW</td>\n",
       "      <td>Black</td>\n",
       "      <td>11179</td>\n",
       "      <td>5</td>\n",
       "      <td>2200000</td>\n",
       "      <td>5.0</td>\n",
       "    </tr>\n",
       "    <tr>\n",
       "      <th>4</th>\n",
       "      <td>NISSAN</td>\n",
       "      <td>White</td>\n",
       "      <td>213095</td>\n",
       "      <td>4</td>\n",
       "      <td>350000</td>\n",
       "      <td>5.0</td>\n",
       "    </tr>\n",
       "    <tr>\n",
       "      <th>5</th>\n",
       "      <td>TOYOTA</td>\n",
       "      <td>Green</td>\n",
       "      <td>99213</td>\n",
       "      <td>4</td>\n",
       "      <td>450000</td>\n",
       "      <td>5.0</td>\n",
       "    </tr>\n",
       "    <tr>\n",
       "      <th>6</th>\n",
       "      <td>HONDA</td>\n",
       "      <td>Blue</td>\n",
       "      <td>45698</td>\n",
       "      <td>4</td>\n",
       "      <td>750000</td>\n",
       "      <td>5.0</td>\n",
       "    </tr>\n",
       "    <tr>\n",
       "      <th>7</th>\n",
       "      <td>HONDA</td>\n",
       "      <td>Blue</td>\n",
       "      <td>54738</td>\n",
       "      <td>4</td>\n",
       "      <td>700000</td>\n",
       "      <td>5.0</td>\n",
       "    </tr>\n",
       "    <tr>\n",
       "      <th>8</th>\n",
       "      <td>TOYOTA</td>\n",
       "      <td>White</td>\n",
       "      <td>60000</td>\n",
       "      <td>4</td>\n",
       "      <td>625000</td>\n",
       "      <td>5.0</td>\n",
       "    </tr>\n",
       "    <tr>\n",
       "      <th>9</th>\n",
       "      <td>NISSAN</td>\n",
       "      <td>White</td>\n",
       "      <td>31600</td>\n",
       "      <td>4</td>\n",
       "      <td>970000</td>\n",
       "      <td>5.0</td>\n",
       "    </tr>\n",
       "  </tbody>\n",
       "</table>\n",
       "</div>"
      ],
      "text/plain": [
       "     Make Colour  Odometer (KM)  Doors    Price  Seats\n",
       "0  TOYOTA  White         150043      4   400000    5.0\n",
       "1   HONDA    Red          87899      4   500000    5.0\n",
       "2  TOYOTA   Blue          32549      3   700000    5.0\n",
       "3     BMW  Black          11179      5  2200000    5.0\n",
       "4  NISSAN  White         213095      4   350000    5.0\n",
       "5  TOYOTA  Green          99213      4   450000    5.0\n",
       "6   HONDA   Blue          45698      4   750000    5.0\n",
       "7   HONDA   Blue          54738      4   700000    5.0\n",
       "8  TOYOTA  White          60000      4   625000    5.0\n",
       "9  NISSAN  White          31600      4   970000    5.0"
      ]
     },
     "execution_count": 29,
     "metadata": {},
     "output_type": "execute_result"
    }
   ],
   "source": [
    "car_sales"
   ]
  },
  {
   "cell_type": "code",
   "execution_count": 30,
   "id": "895e9733",
   "metadata": {},
   "outputs": [
    {
     "data": {
      "application/vnd.microsoft.datawrangler.viewer.v0+json": {
       "columns": [
        {
         "name": "index",
         "rawType": "int64",
         "type": "integer"
        },
        {
         "name": "Make",
         "rawType": "object",
         "type": "string"
        },
        {
         "name": "Colour",
         "rawType": "object",
         "type": "string"
        },
        {
         "name": "Odometer (KM)",
         "rawType": "int64",
         "type": "integer"
        },
        {
         "name": "Doors",
         "rawType": "int64",
         "type": "integer"
        },
        {
         "name": "Price",
         "rawType": "int64",
         "type": "integer"
        },
        {
         "name": "Seats",
         "rawType": "float64",
         "type": "float"
        },
        {
         "name": "Fuel PER 100KM",
         "rawType": "float64",
         "type": "float"
        }
       ],
       "ref": "89fea5a0-4805-483d-8f33-20b8e50db6b5",
       "rows": [
        [
         "0",
         "TOYOTA",
         "White",
         "150043",
         "4",
         "400000",
         "5.0",
         "3.0"
        ],
        [
         "1",
         "HONDA",
         "Red",
         "87899",
         "4",
         "500000",
         "5.0",
         "4.0"
        ],
        [
         "2",
         "TOYOTA",
         "Blue",
         "32549",
         "3",
         "700000",
         "5.0",
         "5.0"
        ],
        [
         "3",
         "BMW",
         "Black",
         "11179",
         "5",
         "2200000",
         "5.0",
         "6.0"
        ],
        [
         "4",
         "NISSAN",
         "White",
         "213095",
         "4",
         "350000",
         "5.0",
         "3.0"
        ],
        [
         "5",
         "TOYOTA",
         "Green",
         "99213",
         "4",
         "450000",
         "5.0",
         "4.0"
        ],
        [
         "6",
         "HONDA",
         "Blue",
         "45698",
         "4",
         "750000",
         "5.0",
         "7.6"
        ],
        [
         "7",
         "HONDA",
         "Blue",
         "54738",
         "4",
         "700000",
         "5.0",
         "3.3"
        ],
        [
         "8",
         "TOYOTA",
         "White",
         "60000",
         "4",
         "625000",
         "5.0",
         "4.5"
        ],
        [
         "9",
         "NISSAN",
         "White",
         "31600",
         "4",
         "970000",
         "5.0",
         null
        ]
       ],
       "shape": {
        "columns": 7,
        "rows": 10
       }
      },
      "text/html": [
       "<div>\n",
       "<style scoped>\n",
       "    .dataframe tbody tr th:only-of-type {\n",
       "        vertical-align: middle;\n",
       "    }\n",
       "\n",
       "    .dataframe tbody tr th {\n",
       "        vertical-align: top;\n",
       "    }\n",
       "\n",
       "    .dataframe thead th {\n",
       "        text-align: right;\n",
       "    }\n",
       "</style>\n",
       "<table border=\"1\" class=\"dataframe\">\n",
       "  <thead>\n",
       "    <tr style=\"text-align: right;\">\n",
       "      <th></th>\n",
       "      <th>Make</th>\n",
       "      <th>Colour</th>\n",
       "      <th>Odometer (KM)</th>\n",
       "      <th>Doors</th>\n",
       "      <th>Price</th>\n",
       "      <th>Seats</th>\n",
       "      <th>Fuel PER 100KM</th>\n",
       "    </tr>\n",
       "  </thead>\n",
       "  <tbody>\n",
       "    <tr>\n",
       "      <th>0</th>\n",
       "      <td>TOYOTA</td>\n",
       "      <td>White</td>\n",
       "      <td>150043</td>\n",
       "      <td>4</td>\n",
       "      <td>400000</td>\n",
       "      <td>5.0</td>\n",
       "      <td>3.0</td>\n",
       "    </tr>\n",
       "    <tr>\n",
       "      <th>1</th>\n",
       "      <td>HONDA</td>\n",
       "      <td>Red</td>\n",
       "      <td>87899</td>\n",
       "      <td>4</td>\n",
       "      <td>500000</td>\n",
       "      <td>5.0</td>\n",
       "      <td>4.0</td>\n",
       "    </tr>\n",
       "    <tr>\n",
       "      <th>2</th>\n",
       "      <td>TOYOTA</td>\n",
       "      <td>Blue</td>\n",
       "      <td>32549</td>\n",
       "      <td>3</td>\n",
       "      <td>700000</td>\n",
       "      <td>5.0</td>\n",
       "      <td>5.0</td>\n",
       "    </tr>\n",
       "    <tr>\n",
       "      <th>3</th>\n",
       "      <td>BMW</td>\n",
       "      <td>Black</td>\n",
       "      <td>11179</td>\n",
       "      <td>5</td>\n",
       "      <td>2200000</td>\n",
       "      <td>5.0</td>\n",
       "      <td>6.0</td>\n",
       "    </tr>\n",
       "    <tr>\n",
       "      <th>4</th>\n",
       "      <td>NISSAN</td>\n",
       "      <td>White</td>\n",
       "      <td>213095</td>\n",
       "      <td>4</td>\n",
       "      <td>350000</td>\n",
       "      <td>5.0</td>\n",
       "      <td>3.0</td>\n",
       "    </tr>\n",
       "    <tr>\n",
       "      <th>5</th>\n",
       "      <td>TOYOTA</td>\n",
       "      <td>Green</td>\n",
       "      <td>99213</td>\n",
       "      <td>4</td>\n",
       "      <td>450000</td>\n",
       "      <td>5.0</td>\n",
       "      <td>4.0</td>\n",
       "    </tr>\n",
       "    <tr>\n",
       "      <th>6</th>\n",
       "      <td>HONDA</td>\n",
       "      <td>Blue</td>\n",
       "      <td>45698</td>\n",
       "      <td>4</td>\n",
       "      <td>750000</td>\n",
       "      <td>5.0</td>\n",
       "      <td>7.6</td>\n",
       "    </tr>\n",
       "    <tr>\n",
       "      <th>7</th>\n",
       "      <td>HONDA</td>\n",
       "      <td>Blue</td>\n",
       "      <td>54738</td>\n",
       "      <td>4</td>\n",
       "      <td>700000</td>\n",
       "      <td>5.0</td>\n",
       "      <td>3.3</td>\n",
       "    </tr>\n",
       "    <tr>\n",
       "      <th>8</th>\n",
       "      <td>TOYOTA</td>\n",
       "      <td>White</td>\n",
       "      <td>60000</td>\n",
       "      <td>4</td>\n",
       "      <td>625000</td>\n",
       "      <td>5.0</td>\n",
       "      <td>4.5</td>\n",
       "    </tr>\n",
       "    <tr>\n",
       "      <th>9</th>\n",
       "      <td>NISSAN</td>\n",
       "      <td>White</td>\n",
       "      <td>31600</td>\n",
       "      <td>4</td>\n",
       "      <td>970000</td>\n",
       "      <td>5.0</td>\n",
       "      <td>NaN</td>\n",
       "    </tr>\n",
       "  </tbody>\n",
       "</table>\n",
       "</div>"
      ],
      "text/plain": [
       "     Make Colour  Odometer (KM)  Doors    Price  Seats  Fuel PER 100KM\n",
       "0  TOYOTA  White         150043      4   400000    5.0             3.0\n",
       "1   HONDA    Red          87899      4   500000    5.0             4.0\n",
       "2  TOYOTA   Blue          32549      3   700000    5.0             5.0\n",
       "3     BMW  Black          11179      5  2200000    5.0             6.0\n",
       "4  NISSAN  White         213095      4   350000    5.0             3.0\n",
       "5  TOYOTA  Green          99213      4   450000    5.0             4.0\n",
       "6   HONDA   Blue          45698      4   750000    5.0             7.6\n",
       "7   HONDA   Blue          54738      4   700000    5.0             3.3\n",
       "8  TOYOTA  White          60000      4   625000    5.0             4.5\n",
       "9  NISSAN  White          31600      4   970000    5.0             NaN"
      ]
     },
     "execution_count": 30,
     "metadata": {},
     "output_type": "execute_result"
    }
   ],
   "source": [
    "fuel_economy =pd.Series([3.0,4,5,6,3,4,7.6,3.3,4.5])\n",
    "car_sales[\"Fuel PER 100KM\"]=fuel_economy\n",
    "car_sales"
   ]
  },
  {
   "cell_type": "code",
   "execution_count": 35,
   "id": "04fbaf88",
   "metadata": {},
   "outputs": [],
   "source": [
    "car_sales['Price'] = car_sales['Price'].astype(str)\n",
    "car_sales['Price'] = car_sales['Price'].str.replace(r'0$', '', regex=True)"
   ]
  },
  {
   "cell_type": "code",
   "execution_count": 36,
   "id": "26423075",
   "metadata": {},
   "outputs": [
    {
     "data": {
      "text/plain": [
       "dtype('O')"
      ]
     },
     "execution_count": 36,
     "metadata": {},
     "output_type": "execute_result"
    }
   ],
   "source": [
    "car_sales[\"Price\"].dtype"
   ]
  },
  {
   "cell_type": "code",
   "execution_count": 37,
   "id": "1a586d74",
   "metadata": {},
   "outputs": [
    {
     "data": {
      "application/vnd.microsoft.datawrangler.viewer.v0+json": {
       "columns": [
        {
         "name": "index",
         "rawType": "int64",
         "type": "integer"
        },
        {
         "name": "Price",
         "rawType": "object",
         "type": "string"
        }
       ],
       "ref": "84edce92-3830-4330-8c3d-9837b1faa60e",
       "rows": [
        [
         "0",
         "40000"
        ],
        [
         "1",
         "50000"
        ],
        [
         "2",
         "70000"
        ],
        [
         "3",
         "220000"
        ],
        [
         "4",
         "35000"
        ],
        [
         "5",
         "45000"
        ],
        [
         "6",
         "75000"
        ],
        [
         "7",
         "70000"
        ],
        [
         "8",
         "62500"
        ],
        [
         "9",
         "97000"
        ]
       ],
       "shape": {
        "columns": 1,
        "rows": 10
       }
      },
      "text/plain": [
       "0     40000\n",
       "1     50000\n",
       "2     70000\n",
       "3    220000\n",
       "4     35000\n",
       "5     45000\n",
       "6     75000\n",
       "7     70000\n",
       "8     62500\n",
       "9     97000\n",
       "Name: Price, dtype: object"
      ]
     },
     "execution_count": 37,
     "metadata": {},
     "output_type": "execute_result"
    }
   ],
   "source": [
    "car_sales['Price']"
   ]
  },
  {
   "cell_type": "code",
   "execution_count": 38,
   "id": "d5b14d68",
   "metadata": {},
   "outputs": [],
   "source": [
    "car_sales['Price'] = car_sales['Price'].astype(int)"
   ]
  },
  {
   "cell_type": "code",
   "execution_count": 39,
   "id": "21e2917a",
   "metadata": {},
   "outputs": [
    {
     "data": {
      "application/vnd.microsoft.datawrangler.viewer.v0+json": {
       "columns": [
        {
         "name": "index",
         "rawType": "int64",
         "type": "integer"
        },
        {
         "name": "Make",
         "rawType": "object",
         "type": "string"
        },
        {
         "name": "Colour",
         "rawType": "object",
         "type": "string"
        },
        {
         "name": "Odometer (KM)",
         "rawType": "int64",
         "type": "integer"
        },
        {
         "name": "Doors",
         "rawType": "int64",
         "type": "integer"
        },
        {
         "name": "Price",
         "rawType": "int64",
         "type": "integer"
        },
        {
         "name": "Seats",
         "rawType": "float64",
         "type": "float"
        },
        {
         "name": "Fuel PER 100KM",
         "rawType": "float64",
         "type": "float"
        },
        {
         "name": "Total Fuel Used",
         "rawType": "float64",
         "type": "float"
        }
       ],
       "ref": "4c40d8c9-32b7-4aa1-b923-e4bea073407f",
       "rows": [
        [
         "0",
         "TOYOTA",
         "White",
         "150043",
         "4",
         "40000",
         "5.0",
         "3.0",
         "4501.29"
        ],
        [
         "1",
         "HONDA",
         "Red",
         "87899",
         "4",
         "50000",
         "5.0",
         "4.0",
         "3515.96"
        ],
        [
         "2",
         "TOYOTA",
         "Blue",
         "32549",
         "3",
         "70000",
         "5.0",
         "5.0",
         "1627.45"
        ],
        [
         "3",
         "BMW",
         "Black",
         "11179",
         "5",
         "220000",
         "5.0",
         "6.0",
         "670.74"
        ],
        [
         "4",
         "NISSAN",
         "White",
         "213095",
         "4",
         "35000",
         "5.0",
         "3.0",
         "6392.849999999999"
        ],
        [
         "5",
         "TOYOTA",
         "Green",
         "99213",
         "4",
         "45000",
         "5.0",
         "4.0",
         "3968.52"
        ],
        [
         "6",
         "HONDA",
         "Blue",
         "45698",
         "4",
         "75000",
         "5.0",
         "7.6",
         "3473.048"
        ],
        [
         "7",
         "HONDA",
         "Blue",
         "54738",
         "4",
         "70000",
         "5.0",
         "3.3",
         "1806.3539999999998"
        ],
        [
         "8",
         "TOYOTA",
         "White",
         "60000",
         "4",
         "62500",
         "5.0",
         "4.5",
         "2700.0"
        ],
        [
         "9",
         "NISSAN",
         "White",
         "31600",
         "4",
         "97000",
         "5.0",
         null,
         null
        ]
       ],
       "shape": {
        "columns": 8,
        "rows": 10
       }
      },
      "text/html": [
       "<div>\n",
       "<style scoped>\n",
       "    .dataframe tbody tr th:only-of-type {\n",
       "        vertical-align: middle;\n",
       "    }\n",
       "\n",
       "    .dataframe tbody tr th {\n",
       "        vertical-align: top;\n",
       "    }\n",
       "\n",
       "    .dataframe thead th {\n",
       "        text-align: right;\n",
       "    }\n",
       "</style>\n",
       "<table border=\"1\" class=\"dataframe\">\n",
       "  <thead>\n",
       "    <tr style=\"text-align: right;\">\n",
       "      <th></th>\n",
       "      <th>Make</th>\n",
       "      <th>Colour</th>\n",
       "      <th>Odometer (KM)</th>\n",
       "      <th>Doors</th>\n",
       "      <th>Price</th>\n",
       "      <th>Seats</th>\n",
       "      <th>Fuel PER 100KM</th>\n",
       "      <th>Total Fuel Used</th>\n",
       "    </tr>\n",
       "  </thead>\n",
       "  <tbody>\n",
       "    <tr>\n",
       "      <th>0</th>\n",
       "      <td>TOYOTA</td>\n",
       "      <td>White</td>\n",
       "      <td>150043</td>\n",
       "      <td>4</td>\n",
       "      <td>40000</td>\n",
       "      <td>5.0</td>\n",
       "      <td>3.0</td>\n",
       "      <td>4501.290</td>\n",
       "    </tr>\n",
       "    <tr>\n",
       "      <th>1</th>\n",
       "      <td>HONDA</td>\n",
       "      <td>Red</td>\n",
       "      <td>87899</td>\n",
       "      <td>4</td>\n",
       "      <td>50000</td>\n",
       "      <td>5.0</td>\n",
       "      <td>4.0</td>\n",
       "      <td>3515.960</td>\n",
       "    </tr>\n",
       "    <tr>\n",
       "      <th>2</th>\n",
       "      <td>TOYOTA</td>\n",
       "      <td>Blue</td>\n",
       "      <td>32549</td>\n",
       "      <td>3</td>\n",
       "      <td>70000</td>\n",
       "      <td>5.0</td>\n",
       "      <td>5.0</td>\n",
       "      <td>1627.450</td>\n",
       "    </tr>\n",
       "    <tr>\n",
       "      <th>3</th>\n",
       "      <td>BMW</td>\n",
       "      <td>Black</td>\n",
       "      <td>11179</td>\n",
       "      <td>5</td>\n",
       "      <td>220000</td>\n",
       "      <td>5.0</td>\n",
       "      <td>6.0</td>\n",
       "      <td>670.740</td>\n",
       "    </tr>\n",
       "    <tr>\n",
       "      <th>4</th>\n",
       "      <td>NISSAN</td>\n",
       "      <td>White</td>\n",
       "      <td>213095</td>\n",
       "      <td>4</td>\n",
       "      <td>35000</td>\n",
       "      <td>5.0</td>\n",
       "      <td>3.0</td>\n",
       "      <td>6392.850</td>\n",
       "    </tr>\n",
       "    <tr>\n",
       "      <th>5</th>\n",
       "      <td>TOYOTA</td>\n",
       "      <td>Green</td>\n",
       "      <td>99213</td>\n",
       "      <td>4</td>\n",
       "      <td>45000</td>\n",
       "      <td>5.0</td>\n",
       "      <td>4.0</td>\n",
       "      <td>3968.520</td>\n",
       "    </tr>\n",
       "    <tr>\n",
       "      <th>6</th>\n",
       "      <td>HONDA</td>\n",
       "      <td>Blue</td>\n",
       "      <td>45698</td>\n",
       "      <td>4</td>\n",
       "      <td>75000</td>\n",
       "      <td>5.0</td>\n",
       "      <td>7.6</td>\n",
       "      <td>3473.048</td>\n",
       "    </tr>\n",
       "    <tr>\n",
       "      <th>7</th>\n",
       "      <td>HONDA</td>\n",
       "      <td>Blue</td>\n",
       "      <td>54738</td>\n",
       "      <td>4</td>\n",
       "      <td>70000</td>\n",
       "      <td>5.0</td>\n",
       "      <td>3.3</td>\n",
       "      <td>1806.354</td>\n",
       "    </tr>\n",
       "    <tr>\n",
       "      <th>8</th>\n",
       "      <td>TOYOTA</td>\n",
       "      <td>White</td>\n",
       "      <td>60000</td>\n",
       "      <td>4</td>\n",
       "      <td>62500</td>\n",
       "      <td>5.0</td>\n",
       "      <td>4.5</td>\n",
       "      <td>2700.000</td>\n",
       "    </tr>\n",
       "    <tr>\n",
       "      <th>9</th>\n",
       "      <td>NISSAN</td>\n",
       "      <td>White</td>\n",
       "      <td>31600</td>\n",
       "      <td>4</td>\n",
       "      <td>97000</td>\n",
       "      <td>5.0</td>\n",
       "      <td>NaN</td>\n",
       "      <td>NaN</td>\n",
       "    </tr>\n",
       "  </tbody>\n",
       "</table>\n",
       "</div>"
      ],
      "text/plain": [
       "     Make Colour  Odometer (KM)  Doors   Price  Seats  Fuel PER 100KM  \\\n",
       "0  TOYOTA  White         150043      4   40000    5.0             3.0   \n",
       "1   HONDA    Red          87899      4   50000    5.0             4.0   \n",
       "2  TOYOTA   Blue          32549      3   70000    5.0             5.0   \n",
       "3     BMW  Black          11179      5  220000    5.0             6.0   \n",
       "4  NISSAN  White         213095      4   35000    5.0             3.0   \n",
       "5  TOYOTA  Green          99213      4   45000    5.0             4.0   \n",
       "6   HONDA   Blue          45698      4   75000    5.0             7.6   \n",
       "7   HONDA   Blue          54738      4   70000    5.0             3.3   \n",
       "8  TOYOTA  White          60000      4   62500    5.0             4.5   \n",
       "9  NISSAN  White          31600      4   97000    5.0             NaN   \n",
       "\n",
       "   Total Fuel Used  \n",
       "0         4501.290  \n",
       "1         3515.960  \n",
       "2         1627.450  \n",
       "3          670.740  \n",
       "4         6392.850  \n",
       "5         3968.520  \n",
       "6         3473.048  \n",
       "7         1806.354  \n",
       "8         2700.000  \n",
       "9              NaN  "
      ]
     },
     "execution_count": 39,
     "metadata": {},
     "output_type": "execute_result"
    }
   ],
   "source": [
    "car_sales['Total Fuel Used'] = car_sales['Odometer (KM)']/100 * car_sales['Fuel PER 100KM']\n",
    "car_sales"
   ]
  },
  {
   "cell_type": "code",
   "execution_count": 41,
   "id": "bc9f011a",
   "metadata": {},
   "outputs": [
    {
     "data": {
      "application/vnd.microsoft.datawrangler.viewer.v0+json": {
       "columns": [
        {
         "name": "index",
         "rawType": "int64",
         "type": "integer"
        },
        {
         "name": "Total Fuel Used",
         "rawType": "float64",
         "type": "float"
        }
       ],
       "ref": "83371b62-a068-4ac2-a509-d156e211065a",
       "rows": [
        [
         "0",
         "4501.29"
        ],
        [
         "1",
         "3515.96"
        ],
        [
         "2",
         "1627.45"
        ],
        [
         "3",
         "670.74"
        ],
        [
         "4",
         "6392.85"
        ],
        [
         "5",
         "3968.52"
        ],
        [
         "6",
         "3473.05"
        ],
        [
         "7",
         "1806.35"
        ],
        [
         "8",
         "2700.0"
        ],
        [
         "9",
         null
        ]
       ],
       "shape": {
        "columns": 1,
        "rows": 10
       }
      },
      "text/plain": [
       "0    4501.29\n",
       "1    3515.96\n",
       "2    1627.45\n",
       "3     670.74\n",
       "4    6392.85\n",
       "5    3968.52\n",
       "6    3473.05\n",
       "7    1806.35\n",
       "8    2700.00\n",
       "9        NaN\n",
       "Name: Total Fuel Used, dtype: float64"
      ]
     },
     "execution_count": 41,
     "metadata": {},
     "output_type": "execute_result"
    }
   ],
   "source": [
    "car_sales['Total Fuel Used'] = car_sales['Total Fuel Used'].astype(float).round(2)\n",
    "car_sales['Total Fuel Used']"
   ]
  },
  {
   "cell_type": "code",
   "execution_count": 42,
   "id": "b80cfd8f",
   "metadata": {},
   "outputs": [
    {
     "data": {
      "application/vnd.microsoft.datawrangler.viewer.v0+json": {
       "columns": [
        {
         "name": "index",
         "rawType": "int64",
         "type": "integer"
        },
        {
         "name": "Make",
         "rawType": "object",
         "type": "string"
        },
        {
         "name": "Colour",
         "rawType": "object",
         "type": "string"
        },
        {
         "name": "Odometer (KM)",
         "rawType": "int64",
         "type": "integer"
        },
        {
         "name": "Doors",
         "rawType": "int64",
         "type": "integer"
        },
        {
         "name": "Price",
         "rawType": "int64",
         "type": "integer"
        },
        {
         "name": "Seats",
         "rawType": "float64",
         "type": "float"
        },
        {
         "name": "Fuel PER 100KM",
         "rawType": "float64",
         "type": "float"
        },
        {
         "name": "Total Fuel Used",
         "rawType": "float64",
         "type": "float"
        },
        {
         "name": "NumberOfTyre",
         "rawType": "int64",
         "type": "integer"
        }
       ],
       "ref": "3e893c92-19b6-4cc3-b293-d62ad01e7381",
       "rows": [
        [
         "0",
         "TOYOTA",
         "White",
         "150043",
         "4",
         "40000",
         "5.0",
         "3.0",
         "4501.29",
         "4"
        ],
        [
         "1",
         "HONDA",
         "Red",
         "87899",
         "4",
         "50000",
         "5.0",
         "4.0",
         "3515.96",
         "4"
        ],
        [
         "2",
         "TOYOTA",
         "Blue",
         "32549",
         "3",
         "70000",
         "5.0",
         "5.0",
         "1627.45",
         "4"
        ],
        [
         "3",
         "BMW",
         "Black",
         "11179",
         "5",
         "220000",
         "5.0",
         "6.0",
         "670.74",
         "4"
        ],
        [
         "4",
         "NISSAN",
         "White",
         "213095",
         "4",
         "35000",
         "5.0",
         "3.0",
         "6392.85",
         "4"
        ],
        [
         "5",
         "TOYOTA",
         "Green",
         "99213",
         "4",
         "45000",
         "5.0",
         "4.0",
         "3968.52",
         "4"
        ],
        [
         "6",
         "HONDA",
         "Blue",
         "45698",
         "4",
         "75000",
         "5.0",
         "7.6",
         "3473.05",
         "4"
        ],
        [
         "7",
         "HONDA",
         "Blue",
         "54738",
         "4",
         "70000",
         "5.0",
         "3.3",
         "1806.35",
         "4"
        ],
        [
         "8",
         "TOYOTA",
         "White",
         "60000",
         "4",
         "62500",
         "5.0",
         "4.5",
         "2700.0",
         "4"
        ],
        [
         "9",
         "NISSAN",
         "White",
         "31600",
         "4",
         "97000",
         "5.0",
         null,
         null,
         "4"
        ]
       ],
       "shape": {
        "columns": 9,
        "rows": 10
       }
      },
      "text/html": [
       "<div>\n",
       "<style scoped>\n",
       "    .dataframe tbody tr th:only-of-type {\n",
       "        vertical-align: middle;\n",
       "    }\n",
       "\n",
       "    .dataframe tbody tr th {\n",
       "        vertical-align: top;\n",
       "    }\n",
       "\n",
       "    .dataframe thead th {\n",
       "        text-align: right;\n",
       "    }\n",
       "</style>\n",
       "<table border=\"1\" class=\"dataframe\">\n",
       "  <thead>\n",
       "    <tr style=\"text-align: right;\">\n",
       "      <th></th>\n",
       "      <th>Make</th>\n",
       "      <th>Colour</th>\n",
       "      <th>Odometer (KM)</th>\n",
       "      <th>Doors</th>\n",
       "      <th>Price</th>\n",
       "      <th>Seats</th>\n",
       "      <th>Fuel PER 100KM</th>\n",
       "      <th>Total Fuel Used</th>\n",
       "      <th>NumberOfTyre</th>\n",
       "    </tr>\n",
       "  </thead>\n",
       "  <tbody>\n",
       "    <tr>\n",
       "      <th>0</th>\n",
       "      <td>TOYOTA</td>\n",
       "      <td>White</td>\n",
       "      <td>150043</td>\n",
       "      <td>4</td>\n",
       "      <td>40000</td>\n",
       "      <td>5.0</td>\n",
       "      <td>3.0</td>\n",
       "      <td>4501.29</td>\n",
       "      <td>4</td>\n",
       "    </tr>\n",
       "    <tr>\n",
       "      <th>1</th>\n",
       "      <td>HONDA</td>\n",
       "      <td>Red</td>\n",
       "      <td>87899</td>\n",
       "      <td>4</td>\n",
       "      <td>50000</td>\n",
       "      <td>5.0</td>\n",
       "      <td>4.0</td>\n",
       "      <td>3515.96</td>\n",
       "      <td>4</td>\n",
       "    </tr>\n",
       "    <tr>\n",
       "      <th>2</th>\n",
       "      <td>TOYOTA</td>\n",
       "      <td>Blue</td>\n",
       "      <td>32549</td>\n",
       "      <td>3</td>\n",
       "      <td>70000</td>\n",
       "      <td>5.0</td>\n",
       "      <td>5.0</td>\n",
       "      <td>1627.45</td>\n",
       "      <td>4</td>\n",
       "    </tr>\n",
       "    <tr>\n",
       "      <th>3</th>\n",
       "      <td>BMW</td>\n",
       "      <td>Black</td>\n",
       "      <td>11179</td>\n",
       "      <td>5</td>\n",
       "      <td>220000</td>\n",
       "      <td>5.0</td>\n",
       "      <td>6.0</td>\n",
       "      <td>670.74</td>\n",
       "      <td>4</td>\n",
       "    </tr>\n",
       "    <tr>\n",
       "      <th>4</th>\n",
       "      <td>NISSAN</td>\n",
       "      <td>White</td>\n",
       "      <td>213095</td>\n",
       "      <td>4</td>\n",
       "      <td>35000</td>\n",
       "      <td>5.0</td>\n",
       "      <td>3.0</td>\n",
       "      <td>6392.85</td>\n",
       "      <td>4</td>\n",
       "    </tr>\n",
       "    <tr>\n",
       "      <th>5</th>\n",
       "      <td>TOYOTA</td>\n",
       "      <td>Green</td>\n",
       "      <td>99213</td>\n",
       "      <td>4</td>\n",
       "      <td>45000</td>\n",
       "      <td>5.0</td>\n",
       "      <td>4.0</td>\n",
       "      <td>3968.52</td>\n",
       "      <td>4</td>\n",
       "    </tr>\n",
       "    <tr>\n",
       "      <th>6</th>\n",
       "      <td>HONDA</td>\n",
       "      <td>Blue</td>\n",
       "      <td>45698</td>\n",
       "      <td>4</td>\n",
       "      <td>75000</td>\n",
       "      <td>5.0</td>\n",
       "      <td>7.6</td>\n",
       "      <td>3473.05</td>\n",
       "      <td>4</td>\n",
       "    </tr>\n",
       "    <tr>\n",
       "      <th>7</th>\n",
       "      <td>HONDA</td>\n",
       "      <td>Blue</td>\n",
       "      <td>54738</td>\n",
       "      <td>4</td>\n",
       "      <td>70000</td>\n",
       "      <td>5.0</td>\n",
       "      <td>3.3</td>\n",
       "      <td>1806.35</td>\n",
       "      <td>4</td>\n",
       "    </tr>\n",
       "    <tr>\n",
       "      <th>8</th>\n",
       "      <td>TOYOTA</td>\n",
       "      <td>White</td>\n",
       "      <td>60000</td>\n",
       "      <td>4</td>\n",
       "      <td>62500</td>\n",
       "      <td>5.0</td>\n",
       "      <td>4.5</td>\n",
       "      <td>2700.00</td>\n",
       "      <td>4</td>\n",
       "    </tr>\n",
       "    <tr>\n",
       "      <th>9</th>\n",
       "      <td>NISSAN</td>\n",
       "      <td>White</td>\n",
       "      <td>31600</td>\n",
       "      <td>4</td>\n",
       "      <td>97000</td>\n",
       "      <td>5.0</td>\n",
       "      <td>NaN</td>\n",
       "      <td>NaN</td>\n",
       "      <td>4</td>\n",
       "    </tr>\n",
       "  </tbody>\n",
       "</table>\n",
       "</div>"
      ],
      "text/plain": [
       "     Make Colour  Odometer (KM)  Doors   Price  Seats  Fuel PER 100KM  \\\n",
       "0  TOYOTA  White         150043      4   40000    5.0             3.0   \n",
       "1   HONDA    Red          87899      4   50000    5.0             4.0   \n",
       "2  TOYOTA   Blue          32549      3   70000    5.0             5.0   \n",
       "3     BMW  Black          11179      5  220000    5.0             6.0   \n",
       "4  NISSAN  White         213095      4   35000    5.0             3.0   \n",
       "5  TOYOTA  Green          99213      4   45000    5.0             4.0   \n",
       "6   HONDA   Blue          45698      4   75000    5.0             7.6   \n",
       "7   HONDA   Blue          54738      4   70000    5.0             3.3   \n",
       "8  TOYOTA  White          60000      4   62500    5.0             4.5   \n",
       "9  NISSAN  White          31600      4   97000    5.0             NaN   \n",
       "\n",
       "   Total Fuel Used  NumberOfTyre  \n",
       "0          4501.29             4  \n",
       "1          3515.96             4  \n",
       "2          1627.45             4  \n",
       "3           670.74             4  \n",
       "4          6392.85             4  \n",
       "5          3968.52             4  \n",
       "6          3473.05             4  \n",
       "7          1806.35             4  \n",
       "8          2700.00             4  \n",
       "9              NaN             4  "
      ]
     },
     "execution_count": 42,
     "metadata": {},
     "output_type": "execute_result"
    }
   ],
   "source": [
    "car_sales[\"NumberOfTyre\"] = 4\n",
    "car_sales"
   ]
  },
  {
   "cell_type": "code",
   "execution_count": 43,
   "id": "6e861760",
   "metadata": {},
   "outputs": [
    {
     "data": {
      "application/vnd.microsoft.datawrangler.viewer.v0+json": {
       "columns": [
        {
         "name": "index",
         "rawType": "int64",
         "type": "integer"
        },
        {
         "name": "Make",
         "rawType": "object",
         "type": "string"
        },
        {
         "name": "Colour",
         "rawType": "object",
         "type": "string"
        },
        {
         "name": "Odometer (KM)",
         "rawType": "int64",
         "type": "integer"
        },
        {
         "name": "Doors",
         "rawType": "int64",
         "type": "integer"
        },
        {
         "name": "Price",
         "rawType": "int64",
         "type": "integer"
        },
        {
         "name": "Seats",
         "rawType": "float64",
         "type": "float"
        },
        {
         "name": "Fuel PER 100KM",
         "rawType": "float64",
         "type": "float"
        },
        {
         "name": "Total Fuel Used",
         "rawType": "float64",
         "type": "float"
        },
        {
         "name": "NumberOfTyre",
         "rawType": "int64",
         "type": "integer"
        },
        {
         "name": "Passed Road Saftey",
         "rawType": "bool",
         "type": "boolean"
        }
       ],
       "ref": "a98b5ed3-bf74-4538-83b3-1ac1b223e90c",
       "rows": [
        [
         "0",
         "TOYOTA",
         "White",
         "150043",
         "4",
         "40000",
         "5.0",
         "3.0",
         "4501.29",
         "4",
         "True"
        ],
        [
         "1",
         "HONDA",
         "Red",
         "87899",
         "4",
         "50000",
         "5.0",
         "4.0",
         "3515.96",
         "4",
         "True"
        ],
        [
         "2",
         "TOYOTA",
         "Blue",
         "32549",
         "3",
         "70000",
         "5.0",
         "5.0",
         "1627.45",
         "4",
         "True"
        ],
        [
         "3",
         "BMW",
         "Black",
         "11179",
         "5",
         "220000",
         "5.0",
         "6.0",
         "670.74",
         "4",
         "True"
        ],
        [
         "4",
         "NISSAN",
         "White",
         "213095",
         "4",
         "35000",
         "5.0",
         "3.0",
         "6392.85",
         "4",
         "True"
        ],
        [
         "5",
         "TOYOTA",
         "Green",
         "99213",
         "4",
         "45000",
         "5.0",
         "4.0",
         "3968.52",
         "4",
         "True"
        ],
        [
         "6",
         "HONDA",
         "Blue",
         "45698",
         "4",
         "75000",
         "5.0",
         "7.6",
         "3473.05",
         "4",
         "True"
        ],
        [
         "7",
         "HONDA",
         "Blue",
         "54738",
         "4",
         "70000",
         "5.0",
         "3.3",
         "1806.35",
         "4",
         "True"
        ],
        [
         "8",
         "TOYOTA",
         "White",
         "60000",
         "4",
         "62500",
         "5.0",
         "4.5",
         "2700.0",
         "4",
         "True"
        ],
        [
         "9",
         "NISSAN",
         "White",
         "31600",
         "4",
         "97000",
         "5.0",
         null,
         null,
         "4",
         "True"
        ]
       ],
       "shape": {
        "columns": 10,
        "rows": 10
       }
      },
      "text/html": [
       "<div>\n",
       "<style scoped>\n",
       "    .dataframe tbody tr th:only-of-type {\n",
       "        vertical-align: middle;\n",
       "    }\n",
       "\n",
       "    .dataframe tbody tr th {\n",
       "        vertical-align: top;\n",
       "    }\n",
       "\n",
       "    .dataframe thead th {\n",
       "        text-align: right;\n",
       "    }\n",
       "</style>\n",
       "<table border=\"1\" class=\"dataframe\">\n",
       "  <thead>\n",
       "    <tr style=\"text-align: right;\">\n",
       "      <th></th>\n",
       "      <th>Make</th>\n",
       "      <th>Colour</th>\n",
       "      <th>Odometer (KM)</th>\n",
       "      <th>Doors</th>\n",
       "      <th>Price</th>\n",
       "      <th>Seats</th>\n",
       "      <th>Fuel PER 100KM</th>\n",
       "      <th>Total Fuel Used</th>\n",
       "      <th>NumberOfTyre</th>\n",
       "      <th>Passed Road Saftey</th>\n",
       "    </tr>\n",
       "  </thead>\n",
       "  <tbody>\n",
       "    <tr>\n",
       "      <th>0</th>\n",
       "      <td>TOYOTA</td>\n",
       "      <td>White</td>\n",
       "      <td>150043</td>\n",
       "      <td>4</td>\n",
       "      <td>40000</td>\n",
       "      <td>5.0</td>\n",
       "      <td>3.0</td>\n",
       "      <td>4501.29</td>\n",
       "      <td>4</td>\n",
       "      <td>True</td>\n",
       "    </tr>\n",
       "    <tr>\n",
       "      <th>1</th>\n",
       "      <td>HONDA</td>\n",
       "      <td>Red</td>\n",
       "      <td>87899</td>\n",
       "      <td>4</td>\n",
       "      <td>50000</td>\n",
       "      <td>5.0</td>\n",
       "      <td>4.0</td>\n",
       "      <td>3515.96</td>\n",
       "      <td>4</td>\n",
       "      <td>True</td>\n",
       "    </tr>\n",
       "    <tr>\n",
       "      <th>2</th>\n",
       "      <td>TOYOTA</td>\n",
       "      <td>Blue</td>\n",
       "      <td>32549</td>\n",
       "      <td>3</td>\n",
       "      <td>70000</td>\n",
       "      <td>5.0</td>\n",
       "      <td>5.0</td>\n",
       "      <td>1627.45</td>\n",
       "      <td>4</td>\n",
       "      <td>True</td>\n",
       "    </tr>\n",
       "    <tr>\n",
       "      <th>3</th>\n",
       "      <td>BMW</td>\n",
       "      <td>Black</td>\n",
       "      <td>11179</td>\n",
       "      <td>5</td>\n",
       "      <td>220000</td>\n",
       "      <td>5.0</td>\n",
       "      <td>6.0</td>\n",
       "      <td>670.74</td>\n",
       "      <td>4</td>\n",
       "      <td>True</td>\n",
       "    </tr>\n",
       "    <tr>\n",
       "      <th>4</th>\n",
       "      <td>NISSAN</td>\n",
       "      <td>White</td>\n",
       "      <td>213095</td>\n",
       "      <td>4</td>\n",
       "      <td>35000</td>\n",
       "      <td>5.0</td>\n",
       "      <td>3.0</td>\n",
       "      <td>6392.85</td>\n",
       "      <td>4</td>\n",
       "      <td>True</td>\n",
       "    </tr>\n",
       "    <tr>\n",
       "      <th>5</th>\n",
       "      <td>TOYOTA</td>\n",
       "      <td>Green</td>\n",
       "      <td>99213</td>\n",
       "      <td>4</td>\n",
       "      <td>45000</td>\n",
       "      <td>5.0</td>\n",
       "      <td>4.0</td>\n",
       "      <td>3968.52</td>\n",
       "      <td>4</td>\n",
       "      <td>True</td>\n",
       "    </tr>\n",
       "    <tr>\n",
       "      <th>6</th>\n",
       "      <td>HONDA</td>\n",
       "      <td>Blue</td>\n",
       "      <td>45698</td>\n",
       "      <td>4</td>\n",
       "      <td>75000</td>\n",
       "      <td>5.0</td>\n",
       "      <td>7.6</td>\n",
       "      <td>3473.05</td>\n",
       "      <td>4</td>\n",
       "      <td>True</td>\n",
       "    </tr>\n",
       "    <tr>\n",
       "      <th>7</th>\n",
       "      <td>HONDA</td>\n",
       "      <td>Blue</td>\n",
       "      <td>54738</td>\n",
       "      <td>4</td>\n",
       "      <td>70000</td>\n",
       "      <td>5.0</td>\n",
       "      <td>3.3</td>\n",
       "      <td>1806.35</td>\n",
       "      <td>4</td>\n",
       "      <td>True</td>\n",
       "    </tr>\n",
       "    <tr>\n",
       "      <th>8</th>\n",
       "      <td>TOYOTA</td>\n",
       "      <td>White</td>\n",
       "      <td>60000</td>\n",
       "      <td>4</td>\n",
       "      <td>62500</td>\n",
       "      <td>5.0</td>\n",
       "      <td>4.5</td>\n",
       "      <td>2700.00</td>\n",
       "      <td>4</td>\n",
       "      <td>True</td>\n",
       "    </tr>\n",
       "    <tr>\n",
       "      <th>9</th>\n",
       "      <td>NISSAN</td>\n",
       "      <td>White</td>\n",
       "      <td>31600</td>\n",
       "      <td>4</td>\n",
       "      <td>97000</td>\n",
       "      <td>5.0</td>\n",
       "      <td>NaN</td>\n",
       "      <td>NaN</td>\n",
       "      <td>4</td>\n",
       "      <td>True</td>\n",
       "    </tr>\n",
       "  </tbody>\n",
       "</table>\n",
       "</div>"
      ],
      "text/plain": [
       "     Make Colour  Odometer (KM)  Doors   Price  Seats  Fuel PER 100KM  \\\n",
       "0  TOYOTA  White         150043      4   40000    5.0             3.0   \n",
       "1   HONDA    Red          87899      4   50000    5.0             4.0   \n",
       "2  TOYOTA   Blue          32549      3   70000    5.0             5.0   \n",
       "3     BMW  Black          11179      5  220000    5.0             6.0   \n",
       "4  NISSAN  White         213095      4   35000    5.0             3.0   \n",
       "5  TOYOTA  Green          99213      4   45000    5.0             4.0   \n",
       "6   HONDA   Blue          45698      4   75000    5.0             7.6   \n",
       "7   HONDA   Blue          54738      4   70000    5.0             3.3   \n",
       "8  TOYOTA  White          60000      4   62500    5.0             4.5   \n",
       "9  NISSAN  White          31600      4   97000    5.0             NaN   \n",
       "\n",
       "   Total Fuel Used  NumberOfTyre  Passed Road Saftey  \n",
       "0          4501.29             4                True  \n",
       "1          3515.96             4                True  \n",
       "2          1627.45             4                True  \n",
       "3           670.74             4                True  \n",
       "4          6392.85             4                True  \n",
       "5          3968.52             4                True  \n",
       "6          3473.05             4                True  \n",
       "7          1806.35             4                True  \n",
       "8          2700.00             4                True  \n",
       "9              NaN             4                True  "
      ]
     },
     "execution_count": 43,
     "metadata": {},
     "output_type": "execute_result"
    }
   ],
   "source": [
    "car_sales['Passed Road Saftey'] = True\n",
    "car_sales"
   ]
  },
  {
   "cell_type": "code",
   "execution_count": 45,
   "id": "932a0fa9",
   "metadata": {},
   "outputs": [],
   "source": [
    "car_sales.to_csv('new_car_sales',index=False, encoding='utf-8')"
   ]
  },
  {
   "cell_type": "code",
   "execution_count": 2,
   "id": "32be41dd",
   "metadata": {},
   "outputs": [
    {
     "data": {
      "application/vnd.microsoft.datawrangler.viewer.v0+json": {
       "columns": [
        {
         "name": "index",
         "rawType": "int64",
         "type": "integer"
        },
        {
         "name": "Make",
         "rawType": "object",
         "type": "unknown"
        },
        {
         "name": "Colour",
         "rawType": "object",
         "type": "unknown"
        },
        {
         "name": "Odometer (KM)",
         "rawType": "float64",
         "type": "float"
        },
        {
         "name": "Doors",
         "rawType": "float64",
         "type": "float"
        },
        {
         "name": "Price",
         "rawType": "float64",
         "type": "float"
        }
       ],
       "ref": "2b4231d5-79c7-43d7-be85-419ed93e1f93",
       "rows": [
        [
         "0",
         "Honda",
         "White",
         "35431.0",
         "4.0",
         "15323.0"
        ],
        [
         "1",
         "BMW",
         "Blue",
         "192714.0",
         "5.0",
         "19943.0"
        ],
        [
         "2",
         "Honda",
         "White",
         "84714.0",
         "4.0",
         "28343.0"
        ],
        [
         "3",
         "Toyota",
         "White",
         "154365.0",
         "4.0",
         "13434.0"
        ],
        [
         "4",
         "Nissan",
         "Blue",
         "181577.0",
         "3.0",
         "14043.0"
        ],
        [
         "5",
         "Honda",
         "Red",
         "42652.0",
         "4.0",
         "23883.0"
        ],
        [
         "6",
         "Toyota",
         "Blue",
         "163453.0",
         "4.0",
         "8473.0"
        ],
        [
         "7",
         "Honda",
         "White",
         null,
         "4.0",
         "20306.0"
        ],
        [
         "8",
         null,
         "White",
         "130538.0",
         "4.0",
         "9374.0"
        ],
        [
         "9",
         "Honda",
         "Blue",
         "51029.0",
         "4.0",
         "26683.0"
        ],
        [
         "10",
         "Nissan",
         "White",
         "167421.0",
         "4.0",
         "16259.0"
        ],
        [
         "11",
         "Nissan",
         "Green",
         "17119.0",
         "4.0",
         "6160.0"
        ],
        [
         "12",
         "Nissan",
         "White",
         "102303.0",
         "4.0",
         "16909.0"
        ],
        [
         "13",
         null,
         "White",
         "134181.0",
         "4.0",
         "11121.0"
        ],
        [
         "14",
         "Honda",
         "Blue",
         "199833.0",
         "4.0",
         "18946.0"
        ],
        [
         "15",
         "Toyota",
         "Blue",
         "205592.0",
         "4.0",
         "16290.0"
        ],
        [
         "16",
         "Toyota",
         "Red",
         "96742.0",
         "4.0",
         "34465.0"
        ],
        [
         "17",
         "BMW",
         "White",
         "194189.0",
         "5.0",
         "17177.0"
        ],
        [
         "18",
         "Nissan",
         "White",
         "67991.0",
         "3.0",
         "9109.0"
        ],
        [
         "19",
         "Nissan",
         "Blue",
         "215820.0",
         "4.0",
         "6010.0"
        ],
        [
         "20",
         "Toyota",
         null,
         "124844.0",
         "4.0",
         "24130.0"
        ],
        [
         "21",
         "Honda",
         null,
         "30615.0",
         "4.0",
         "29653.0"
        ],
        [
         "22",
         "Toyota",
         "White",
         "148744.0",
         "4.0",
         "22489.0"
        ],
        [
         "23",
         "Honda",
         "Green",
         "130075.0",
         "4.0",
         "21242.0"
        ],
        [
         "24",
         "Honda",
         "Blue",
         "172718.0",
         "4.0",
         "14274.0"
        ],
        [
         "25",
         "Honda",
         "Blue",
         "125819.0",
         "4.0",
         "15686.0"
        ],
        [
         "26",
         "Honda",
         "White",
         "180390.0",
         "4.0",
         "13344.0"
        ],
        [
         "27",
         "Honda",
         "Green",
         "82783.0",
         "4.0",
         "10984.0"
        ],
        [
         "28",
         "Honda",
         "White",
         "56687.0",
         "4.0",
         "6135.0"
        ],
        [
         "29",
         "Toyota",
         "White",
         "112004.0",
         "4.0",
         "13586.0"
        ],
        [
         "30",
         "Nissan",
         "Blue",
         "34024.0",
         "4.0",
         "23929.0"
        ],
        [
         "31",
         "Toyota",
         "White",
         "108569.0",
         null,
         "6866.0"
        ],
        [
         "32",
         "Nissan",
         "White",
         "203795.0",
         "4.0",
         "9330.0"
        ],
        [
         "33",
         "Nissan",
         "Green",
         "153554.0",
         "3.0",
         "9780.0"
        ],
        [
         "34",
         "Honda",
         "Blue",
         "71949.0",
         "4.0",
         "17516.0"
        ],
        [
         "35",
         "Honda",
         "Blue",
         "191622.0",
         "4.0",
         "8738.0"
        ],
        [
         "36",
         "Nissan",
         "Blue",
         "38186.0",
         "4.0",
         "23438.0"
        ],
        [
         "37",
         "Nissan",
         "White",
         null,
         "4.0",
         "15131.0"
        ],
        [
         "38",
         "Nissan",
         "Blue",
         "146430.0",
         "3.0",
         "9224.0"
        ],
        [
         "39",
         "Toyota",
         "Green",
         "109868.0",
         "4.0",
         "6574.0"
        ],
        [
         "40",
         null,
         "White",
         "177894.0",
         "4.0",
         "9229.0"
        ],
        [
         "41",
         "Toyota",
         "Blue",
         "189209.0",
         "4.0",
         "7100.0"
        ],
        [
         "42",
         "Honda",
         "Black",
         "200490.0",
         "4.0",
         "6337.0"
        ],
        [
         "43",
         "Toyota",
         "Blue",
         "141617.0",
         "4.0",
         "19085.0"
        ],
        [
         "44",
         "Toyota",
         "Blue",
         "213893.0",
         "4.0",
         "5743.0"
        ],
        [
         "45",
         "Nissan",
         "Blue",
         "231057.0",
         "4.0",
         "5925.0"
        ],
        [
         "46",
         "Toyota",
         "White",
         "100938.0",
         "4.0",
         "25196.0"
        ],
        [
         "47",
         "Toyota",
         "Blue",
         "243969.0",
         null,
         "16138.0"
        ],
        [
         "48",
         "Nissan",
         "White",
         "107096.0",
         "3.0",
         "6075.0"
        ],
        [
         "49",
         "Toyota",
         "Black",
         "86333.0",
         "4.0",
         "9928.0"
        ]
       ],
       "shape": {
        "columns": 5,
        "rows": 1000
       }
      },
      "text/html": [
       "<div>\n",
       "<style scoped>\n",
       "    .dataframe tbody tr th:only-of-type {\n",
       "        vertical-align: middle;\n",
       "    }\n",
       "\n",
       "    .dataframe tbody tr th {\n",
       "        vertical-align: top;\n",
       "    }\n",
       "\n",
       "    .dataframe thead th {\n",
       "        text-align: right;\n",
       "    }\n",
       "</style>\n",
       "<table border=\"1\" class=\"dataframe\">\n",
       "  <thead>\n",
       "    <tr style=\"text-align: right;\">\n",
       "      <th></th>\n",
       "      <th>Make</th>\n",
       "      <th>Colour</th>\n",
       "      <th>Odometer (KM)</th>\n",
       "      <th>Doors</th>\n",
       "      <th>Price</th>\n",
       "    </tr>\n",
       "  </thead>\n",
       "  <tbody>\n",
       "    <tr>\n",
       "      <th>0</th>\n",
       "      <td>Honda</td>\n",
       "      <td>White</td>\n",
       "      <td>35431.0</td>\n",
       "      <td>4.0</td>\n",
       "      <td>15323.0</td>\n",
       "    </tr>\n",
       "    <tr>\n",
       "      <th>1</th>\n",
       "      <td>BMW</td>\n",
       "      <td>Blue</td>\n",
       "      <td>192714.0</td>\n",
       "      <td>5.0</td>\n",
       "      <td>19943.0</td>\n",
       "    </tr>\n",
       "    <tr>\n",
       "      <th>2</th>\n",
       "      <td>Honda</td>\n",
       "      <td>White</td>\n",
       "      <td>84714.0</td>\n",
       "      <td>4.0</td>\n",
       "      <td>28343.0</td>\n",
       "    </tr>\n",
       "    <tr>\n",
       "      <th>3</th>\n",
       "      <td>Toyota</td>\n",
       "      <td>White</td>\n",
       "      <td>154365.0</td>\n",
       "      <td>4.0</td>\n",
       "      <td>13434.0</td>\n",
       "    </tr>\n",
       "    <tr>\n",
       "      <th>4</th>\n",
       "      <td>Nissan</td>\n",
       "      <td>Blue</td>\n",
       "      <td>181577.0</td>\n",
       "      <td>3.0</td>\n",
       "      <td>14043.0</td>\n",
       "    </tr>\n",
       "    <tr>\n",
       "      <th>...</th>\n",
       "      <td>...</td>\n",
       "      <td>...</td>\n",
       "      <td>...</td>\n",
       "      <td>...</td>\n",
       "      <td>...</td>\n",
       "    </tr>\n",
       "    <tr>\n",
       "      <th>995</th>\n",
       "      <td>Toyota</td>\n",
       "      <td>Black</td>\n",
       "      <td>35820.0</td>\n",
       "      <td>4.0</td>\n",
       "      <td>32042.0</td>\n",
       "    </tr>\n",
       "    <tr>\n",
       "      <th>996</th>\n",
       "      <td>NaN</td>\n",
       "      <td>White</td>\n",
       "      <td>155144.0</td>\n",
       "      <td>3.0</td>\n",
       "      <td>5716.0</td>\n",
       "    </tr>\n",
       "    <tr>\n",
       "      <th>997</th>\n",
       "      <td>Nissan</td>\n",
       "      <td>Blue</td>\n",
       "      <td>66604.0</td>\n",
       "      <td>4.0</td>\n",
       "      <td>31570.0</td>\n",
       "    </tr>\n",
       "    <tr>\n",
       "      <th>998</th>\n",
       "      <td>Honda</td>\n",
       "      <td>White</td>\n",
       "      <td>215883.0</td>\n",
       "      <td>4.0</td>\n",
       "      <td>4001.0</td>\n",
       "    </tr>\n",
       "    <tr>\n",
       "      <th>999</th>\n",
       "      <td>Toyota</td>\n",
       "      <td>Blue</td>\n",
       "      <td>248360.0</td>\n",
       "      <td>4.0</td>\n",
       "      <td>12732.0</td>\n",
       "    </tr>\n",
       "  </tbody>\n",
       "</table>\n",
       "<p>1000 rows × 5 columns</p>\n",
       "</div>"
      ],
      "text/plain": [
       "       Make Colour  Odometer (KM)  Doors    Price\n",
       "0     Honda  White        35431.0    4.0  15323.0\n",
       "1       BMW   Blue       192714.0    5.0  19943.0\n",
       "2     Honda  White        84714.0    4.0  28343.0\n",
       "3    Toyota  White       154365.0    4.0  13434.0\n",
       "4    Nissan   Blue       181577.0    3.0  14043.0\n",
       "..      ...    ...            ...    ...      ...\n",
       "995  Toyota  Black        35820.0    4.0  32042.0\n",
       "996     NaN  White       155144.0    3.0   5716.0\n",
       "997  Nissan   Blue        66604.0    4.0  31570.0\n",
       "998   Honda  White       215883.0    4.0   4001.0\n",
       "999  Toyota   Blue       248360.0    4.0  12732.0\n",
       "\n",
       "[1000 rows x 5 columns]"
      ]
     },
     "execution_count": 2,
     "metadata": {},
     "output_type": "execute_result"
    }
   ],
   "source": [
    "import pandas as pd\n",
    "car_sales = pd.read_csv(\"data\\\\car-sales-extended-missing-data.csv\")\n",
    "car_sales"
   ]
  },
  {
   "cell_type": "code",
   "execution_count": 3,
   "id": "588d05c3",
   "metadata": {},
   "outputs": [
    {
     "data": {
      "application/vnd.microsoft.datawrangler.viewer.v0+json": {
       "columns": [
        {
         "name": "index",
         "rawType": "int64",
         "type": "integer"
        },
        {
         "name": "Make",
         "rawType": "bool",
         "type": "boolean"
        },
        {
         "name": "Colour",
         "rawType": "bool",
         "type": "boolean"
        },
        {
         "name": "Odometer (KM)",
         "rawType": "bool",
         "type": "boolean"
        },
        {
         "name": "Doors",
         "rawType": "bool",
         "type": "boolean"
        },
        {
         "name": "Price",
         "rawType": "bool",
         "type": "boolean"
        }
       ],
       "ref": "d54ec046-f15c-4c17-bcbe-155baaea901f",
       "rows": [
        [
         "0",
         "False",
         "False",
         "False",
         "False",
         "False"
        ],
        [
         "1",
         "False",
         "False",
         "False",
         "False",
         "False"
        ],
        [
         "2",
         "False",
         "False",
         "False",
         "False",
         "False"
        ],
        [
         "3",
         "False",
         "False",
         "False",
         "False",
         "False"
        ],
        [
         "4",
         "False",
         "False",
         "False",
         "False",
         "False"
        ],
        [
         "5",
         "False",
         "False",
         "False",
         "False",
         "False"
        ],
        [
         "6",
         "False",
         "False",
         "False",
         "False",
         "False"
        ],
        [
         "7",
         "False",
         "False",
         "True",
         "False",
         "False"
        ],
        [
         "8",
         "True",
         "False",
         "False",
         "False",
         "False"
        ],
        [
         "9",
         "False",
         "False",
         "False",
         "False",
         "False"
        ],
        [
         "10",
         "False",
         "False",
         "False",
         "False",
         "False"
        ],
        [
         "11",
         "False",
         "False",
         "False",
         "False",
         "False"
        ],
        [
         "12",
         "False",
         "False",
         "False",
         "False",
         "False"
        ],
        [
         "13",
         "True",
         "False",
         "False",
         "False",
         "False"
        ],
        [
         "14",
         "False",
         "False",
         "False",
         "False",
         "False"
        ],
        [
         "15",
         "False",
         "False",
         "False",
         "False",
         "False"
        ],
        [
         "16",
         "False",
         "False",
         "False",
         "False",
         "False"
        ],
        [
         "17",
         "False",
         "False",
         "False",
         "False",
         "False"
        ],
        [
         "18",
         "False",
         "False",
         "False",
         "False",
         "False"
        ],
        [
         "19",
         "False",
         "False",
         "False",
         "False",
         "False"
        ],
        [
         "20",
         "False",
         "True",
         "False",
         "False",
         "False"
        ],
        [
         "21",
         "False",
         "True",
         "False",
         "False",
         "False"
        ],
        [
         "22",
         "False",
         "False",
         "False",
         "False",
         "False"
        ],
        [
         "23",
         "False",
         "False",
         "False",
         "False",
         "False"
        ],
        [
         "24",
         "False",
         "False",
         "False",
         "False",
         "False"
        ],
        [
         "25",
         "False",
         "False",
         "False",
         "False",
         "False"
        ],
        [
         "26",
         "False",
         "False",
         "False",
         "False",
         "False"
        ],
        [
         "27",
         "False",
         "False",
         "False",
         "False",
         "False"
        ],
        [
         "28",
         "False",
         "False",
         "False",
         "False",
         "False"
        ],
        [
         "29",
         "False",
         "False",
         "False",
         "False",
         "False"
        ],
        [
         "30",
         "False",
         "False",
         "False",
         "False",
         "False"
        ],
        [
         "31",
         "False",
         "False",
         "False",
         "True",
         "False"
        ],
        [
         "32",
         "False",
         "False",
         "False",
         "False",
         "False"
        ],
        [
         "33",
         "False",
         "False",
         "False",
         "False",
         "False"
        ],
        [
         "34",
         "False",
         "False",
         "False",
         "False",
         "False"
        ],
        [
         "35",
         "False",
         "False",
         "False",
         "False",
         "False"
        ],
        [
         "36",
         "False",
         "False",
         "False",
         "False",
         "False"
        ],
        [
         "37",
         "False",
         "False",
         "True",
         "False",
         "False"
        ],
        [
         "38",
         "False",
         "False",
         "False",
         "False",
         "False"
        ],
        [
         "39",
         "False",
         "False",
         "False",
         "False",
         "False"
        ],
        [
         "40",
         "True",
         "False",
         "False",
         "False",
         "False"
        ],
        [
         "41",
         "False",
         "False",
         "False",
         "False",
         "False"
        ],
        [
         "42",
         "False",
         "False",
         "False",
         "False",
         "False"
        ],
        [
         "43",
         "False",
         "False",
         "False",
         "False",
         "False"
        ],
        [
         "44",
         "False",
         "False",
         "False",
         "False",
         "False"
        ],
        [
         "45",
         "False",
         "False",
         "False",
         "False",
         "False"
        ],
        [
         "46",
         "False",
         "False",
         "False",
         "False",
         "False"
        ],
        [
         "47",
         "False",
         "False",
         "False",
         "True",
         "False"
        ],
        [
         "48",
         "False",
         "False",
         "False",
         "False",
         "False"
        ],
        [
         "49",
         "False",
         "False",
         "False",
         "False",
         "False"
        ]
       ],
       "shape": {
        "columns": 5,
        "rows": 1000
       }
      },
      "text/html": [
       "<div>\n",
       "<style scoped>\n",
       "    .dataframe tbody tr th:only-of-type {\n",
       "        vertical-align: middle;\n",
       "    }\n",
       "\n",
       "    .dataframe tbody tr th {\n",
       "        vertical-align: top;\n",
       "    }\n",
       "\n",
       "    .dataframe thead th {\n",
       "        text-align: right;\n",
       "    }\n",
       "</style>\n",
       "<table border=\"1\" class=\"dataframe\">\n",
       "  <thead>\n",
       "    <tr style=\"text-align: right;\">\n",
       "      <th></th>\n",
       "      <th>Make</th>\n",
       "      <th>Colour</th>\n",
       "      <th>Odometer (KM)</th>\n",
       "      <th>Doors</th>\n",
       "      <th>Price</th>\n",
       "    </tr>\n",
       "  </thead>\n",
       "  <tbody>\n",
       "    <tr>\n",
       "      <th>0</th>\n",
       "      <td>False</td>\n",
       "      <td>False</td>\n",
       "      <td>False</td>\n",
       "      <td>False</td>\n",
       "      <td>False</td>\n",
       "    </tr>\n",
       "    <tr>\n",
       "      <th>1</th>\n",
       "      <td>False</td>\n",
       "      <td>False</td>\n",
       "      <td>False</td>\n",
       "      <td>False</td>\n",
       "      <td>False</td>\n",
       "    </tr>\n",
       "    <tr>\n",
       "      <th>2</th>\n",
       "      <td>False</td>\n",
       "      <td>False</td>\n",
       "      <td>False</td>\n",
       "      <td>False</td>\n",
       "      <td>False</td>\n",
       "    </tr>\n",
       "    <tr>\n",
       "      <th>3</th>\n",
       "      <td>False</td>\n",
       "      <td>False</td>\n",
       "      <td>False</td>\n",
       "      <td>False</td>\n",
       "      <td>False</td>\n",
       "    </tr>\n",
       "    <tr>\n",
       "      <th>4</th>\n",
       "      <td>False</td>\n",
       "      <td>False</td>\n",
       "      <td>False</td>\n",
       "      <td>False</td>\n",
       "      <td>False</td>\n",
       "    </tr>\n",
       "    <tr>\n",
       "      <th>...</th>\n",
       "      <td>...</td>\n",
       "      <td>...</td>\n",
       "      <td>...</td>\n",
       "      <td>...</td>\n",
       "      <td>...</td>\n",
       "    </tr>\n",
       "    <tr>\n",
       "      <th>995</th>\n",
       "      <td>False</td>\n",
       "      <td>False</td>\n",
       "      <td>False</td>\n",
       "      <td>False</td>\n",
       "      <td>False</td>\n",
       "    </tr>\n",
       "    <tr>\n",
       "      <th>996</th>\n",
       "      <td>True</td>\n",
       "      <td>False</td>\n",
       "      <td>False</td>\n",
       "      <td>False</td>\n",
       "      <td>False</td>\n",
       "    </tr>\n",
       "    <tr>\n",
       "      <th>997</th>\n",
       "      <td>False</td>\n",
       "      <td>False</td>\n",
       "      <td>False</td>\n",
       "      <td>False</td>\n",
       "      <td>False</td>\n",
       "    </tr>\n",
       "    <tr>\n",
       "      <th>998</th>\n",
       "      <td>False</td>\n",
       "      <td>False</td>\n",
       "      <td>False</td>\n",
       "      <td>False</td>\n",
       "      <td>False</td>\n",
       "    </tr>\n",
       "    <tr>\n",
       "      <th>999</th>\n",
       "      <td>False</td>\n",
       "      <td>False</td>\n",
       "      <td>False</td>\n",
       "      <td>False</td>\n",
       "      <td>False</td>\n",
       "    </tr>\n",
       "  </tbody>\n",
       "</table>\n",
       "<p>1000 rows × 5 columns</p>\n",
       "</div>"
      ],
      "text/plain": [
       "      Make  Colour  Odometer (KM)  Doors  Price\n",
       "0    False   False          False  False  False\n",
       "1    False   False          False  False  False\n",
       "2    False   False          False  False  False\n",
       "3    False   False          False  False  False\n",
       "4    False   False          False  False  False\n",
       "..     ...     ...            ...    ...    ...\n",
       "995  False   False          False  False  False\n",
       "996   True   False          False  False  False\n",
       "997  False   False          False  False  False\n",
       "998  False   False          False  False  False\n",
       "999  False   False          False  False  False\n",
       "\n",
       "[1000 rows x 5 columns]"
      ]
     },
     "execution_count": 3,
     "metadata": {},
     "output_type": "execute_result"
    }
   ],
   "source": [
    "car_sales.isnull()"
   ]
  },
  {
   "cell_type": "code",
   "execution_count": 4,
   "id": "b53140bf",
   "metadata": {},
   "outputs": [
    {
     "data": {
      "application/vnd.microsoft.datawrangler.viewer.v0+json": {
       "columns": [
        {
         "name": "index",
         "rawType": "object",
         "type": "string"
        },
        {
         "name": "0",
         "rawType": "int64",
         "type": "integer"
        }
       ],
       "ref": "f608ceb2-6378-4eba-aaf4-96b2b6b70154",
       "rows": [
        [
         "Make",
         "49"
        ],
        [
         "Colour",
         "50"
        ],
        [
         "Odometer (KM)",
         "50"
        ],
        [
         "Doors",
         "50"
        ],
        [
         "Price",
         "50"
        ]
       ],
       "shape": {
        "columns": 1,
        "rows": 5
       }
      },
      "text/plain": [
       "Make             49\n",
       "Colour           50\n",
       "Odometer (KM)    50\n",
       "Doors            50\n",
       "Price            50\n",
       "dtype: int64"
      ]
     },
     "execution_count": 4,
     "metadata": {},
     "output_type": "execute_result"
    }
   ],
   "source": [
    "car_sales.isnull().sum()\n"
   ]
  },
  {
   "cell_type": "code",
   "execution_count": 6,
   "id": "977bbbc5",
   "metadata": {},
   "outputs": [
    {
     "data": {
      "application/vnd.microsoft.datawrangler.viewer.v0+json": {
       "columns": [
        {
         "name": "index",
         "rawType": "object",
         "type": "string"
        },
        {
         "name": "0",
         "rawType": "int64",
         "type": "integer"
        }
       ],
       "ref": "5d5f0a00-c84c-43db-ba74-5592b845f03e",
       "rows": [
        [
         "Make",
         "0"
        ],
        [
         "Colour",
         "49"
        ],
        [
         "Odometer (KM)",
         "48"
        ],
        [
         "Doors",
         "48"
        ],
        [
         "Price",
         "48"
        ]
       ],
       "shape": {
        "columns": 1,
        "rows": 5
       }
      },
      "text/plain": [
       "Make              0\n",
       "Colour           49\n",
       "Odometer (KM)    48\n",
       "Doors            48\n",
       "Price            48\n",
       "dtype: int64"
      ]
     },
     "execution_count": 6,
     "metadata": {},
     "output_type": "execute_result"
    }
   ],
   "source": [
    "car_sales.dropna(subset=['Make'], inplace=True)\n",
    "car_sales.isnull().sum()"
   ]
  },
  {
   "cell_type": "code",
   "execution_count": 8,
   "id": "29eeaa65",
   "metadata": {},
   "outputs": [
    {
     "data": {
      "application/vnd.microsoft.datawrangler.viewer.v0+json": {
       "columns": [
        {
         "name": "index",
         "rawType": "object",
         "type": "string"
        },
        {
         "name": "0",
         "rawType": "int64",
         "type": "integer"
        }
       ],
       "ref": "c8820b98-9692-4fea-bc91-956b431be842",
       "rows": [
        [
         "Make",
         "0"
        ],
        [
         "Colour",
         "0"
        ],
        [
         "Odometer (KM)",
         "48"
        ],
        [
         "Doors",
         "48"
        ],
        [
         "Price",
         "48"
        ]
       ],
       "shape": {
        "columns": 1,
        "rows": 5
       }
      },
      "text/plain": [
       "Make              0\n",
       "Colour            0\n",
       "Odometer (KM)    48\n",
       "Doors            48\n",
       "Price            48\n",
       "dtype: int64"
      ]
     },
     "execution_count": 8,
     "metadata": {},
     "output_type": "execute_result"
    }
   ],
   "source": [
    "car_sales['Colour'].fillna(car_sales['Colour'].mode()[0], inplace=True)\n",
    "car_sales.isnull().sum()"
   ]
  },
  {
   "cell_type": "code",
   "execution_count": 9,
   "id": "71ec19ea",
   "metadata": {},
   "outputs": [
    {
     "name": "stderr",
     "output_type": "stream",
     "text": [
      "C:\\Users\\Nirav\\AppData\\Local\\Temp\\ipykernel_13724\\931480677.py:1: FutureWarning: A value is trying to be set on a copy of a DataFrame or Series through chained assignment using an inplace method.\n",
      "The behavior will change in pandas 3.0. This inplace method will never work because the intermediate object on which we are setting values always behaves as a copy.\n",
      "\n",
      "For example, when doing 'df[col].method(value, inplace=True)', try using 'df.method({col: value}, inplace=True)' or df[col] = df[col].method(value) instead, to perform the operation inplace on the original object.\n",
      "\n",
      "\n",
      "  car_sales['Odometer (KM)'].fillna(car_sales['Odometer (KM)'].mean(),inplace=True)\n"
     ]
    },
    {
     "data": {
      "application/vnd.microsoft.datawrangler.viewer.v0+json": {
       "columns": [
        {
         "name": "index",
         "rawType": "object",
         "type": "string"
        },
        {
         "name": "0",
         "rawType": "int64",
         "type": "integer"
        }
       ],
       "ref": "fd3a1ede-2124-43a1-ab9e-45a6a90a4284",
       "rows": [
        [
         "Make",
         "0"
        ],
        [
         "Colour",
         "0"
        ],
        [
         "Odometer (KM)",
         "0"
        ],
        [
         "Doors",
         "48"
        ],
        [
         "Price",
         "48"
        ]
       ],
       "shape": {
        "columns": 1,
        "rows": 5
       }
      },
      "text/plain": [
       "Make              0\n",
       "Colour            0\n",
       "Odometer (KM)     0\n",
       "Doors            48\n",
       "Price            48\n",
       "dtype: int64"
      ]
     },
     "execution_count": 9,
     "metadata": {},
     "output_type": "execute_result"
    }
   ],
   "source": [
    "car_sales['Odometer (KM)'].fillna(car_sales['Odometer (KM)'].mean(),inplace=True)\n",
    "car_sales.isnull().sum()"
   ]
  },
  {
   "cell_type": "code",
   "execution_count": null,
   "id": "20052bb6",
   "metadata": {},
   "outputs": [],
   "source": []
  }
 ],
 "metadata": {
  "kernelspec": {
   "display_name": "venv",
   "language": "python",
   "name": "python3"
  },
  "language_info": {
   "codemirror_mode": {
    "name": "ipython",
    "version": 3
   },
   "file_extension": ".py",
   "mimetype": "text/x-python",
   "name": "python",
   "nbconvert_exporter": "python",
   "pygments_lexer": "ipython3",
   "version": "3.13.4"
  }
 },
 "nbformat": 4,
 "nbformat_minor": 5
}
